{
  "nbformat": 4,
  "nbformat_minor": 0,
  "metadata": {
    "colab": {
      "provenance": [],
      "include_colab_link": true
    },
    "kernelspec": {
      "name": "python3",
      "display_name": "Python 3"
    },
    "language_info": {
      "name": "python"
    }
  },
  "cells": [
    {
      "cell_type": "markdown",
      "metadata": {
        "id": "view-in-github",
        "colab_type": "text"
      },
      "source": [
        "<a href=\"https://colab.research.google.com/github/GersteinJo/cat_mod/blob/main/modules_for_encoders.ipynb\" target=\"_parent\"><img src=\"https://colab.research.google.com/assets/colab-badge.svg\" alt=\"Open In Colab\"/></a>"
      ]
    },
    {
      "cell_type": "markdown",
      "source": [
        "# Modules\n",
        "\n",
        "## metrics"
      ],
      "metadata": {
        "id": "wCjz0v_juEVa"
      }
    },
    {
      "cell_type": "code",
      "source": [
        "!pip install git+https://github.com/GersteinJo/cat_mod.git"
      ],
      "metadata": {
        "colab": {
          "base_uri": "https://localhost:8080/"
        },
        "id": "Dz67T12UvauX",
        "outputId": "c6201f79-d2a5-41d7-d71f-c95453d63984"
      },
      "execution_count": 1,
      "outputs": [
        {
          "output_type": "stream",
          "name": "stdout",
          "text": [
            "Collecting git+https://github.com/GersteinJo/cat_mod.git\n",
            "  Cloning https://github.com/GersteinJo/cat_mod.git to /tmp/pip-req-build-hsydkvtn\n",
            "  Running command git clone --filter=blob:none --quiet https://github.com/GersteinJo/cat_mod.git /tmp/pip-req-build-hsydkvtn\n",
            "  Resolved https://github.com/GersteinJo/cat_mod.git to commit ef43c701c7723a3aedb300fb24be7cfd4451033c\n",
            "  Preparing metadata (setup.py) ... \u001b[?25l\u001b[?25hdone\n",
            "Requirement already satisfied: numpy in /usr/local/lib/python3.11/dist-packages (from cat_mod==0.2) (1.26.4)\n",
            "Collecting minisom (from cat_mod==0.2)\n",
            "  Downloading minisom-2.3.5.tar.gz (12 kB)\n",
            "  Preparing metadata (setup.py) ... \u001b[?25l\u001b[?25hdone\n",
            "Building wheels for collected packages: cat_mod, minisom\n",
            "  Building wheel for cat_mod (setup.py) ... \u001b[?25l\u001b[?25hdone\n",
            "  Created wheel for cat_mod: filename=cat_mod-0.2-py3-none-any.whl size=6307 sha256=209c4d546141697dd5ee7cc74c2b5320ae97911419ed48c701a53e75855be5bb\n",
            "  Stored in directory: /tmp/pip-ephem-wheel-cache-0tryv8y7/wheels/d0/04/0a/ac2d69b1f4479d2a360a3c721c0958ecf9c2c81d1121682b81\n",
            "  Building wheel for minisom (setup.py) ... \u001b[?25l\u001b[?25hdone\n",
            "  Created wheel for minisom: filename=MiniSom-2.3.5-py3-none-any.whl size=12031 sha256=2ca13df2ddda7568e9c8f8fcc36c30ef948ec2171b610c5ad924b72fb7c5a1d9\n",
            "  Stored in directory: /root/.cache/pip/wheels/19/db/95/5e53bc2b88a328217fdf9f2886cafbe86b0df274f4b601f572\n",
            "Successfully built cat_mod minisom\n",
            "Installing collected packages: minisom, cat_mod\n",
            "Successfully installed cat_mod-0.2 minisom-2.3.5\n"
          ]
        }
      ]
    },
    {
      "cell_type": "code",
      "execution_count": 2,
      "metadata": {
        "id": "7qL1mLGSt7Nx"
      },
      "outputs": [],
      "source": [
        "from cat_mod import SEP\n",
        "# from residual.loader import ImageLabelDataset\n",
        "\n",
        "import numpy as np\n",
        "import torch\n",
        "from scipy.stats import pearsonr\n",
        "\n",
        "#plotting\n",
        "from bokeh.plotting import figure, show\n",
        "from bokeh.io import output_notebook\n",
        "from bokeh.models import ColumnDataSource, ColorBar\n",
        "from bokeh.transform import linear_cmap, factor_cmap\n",
        "from bokeh.palettes import Viridis256\n",
        "from bokeh.layouts import row\n",
        "\n",
        "import plotly.express as px\n",
        "\n",
        "def train_classifier(config, peck_obs_num = 200, n_iter = 10000, encoded_data=None, labels=None, logger = None):\n",
        "    shuffle_mask = np.arange(len(labels))\n",
        "    np.random.shuffle(shuffle_mask)\n",
        "\n",
        "    sep = SEP.SEP(config['num_exemp'], output_space_shape=2, input_space_shape = config['input_space_shape'],\n",
        "    lr = config['lr'], dr=config['dr'], omega = config['omega'], delta = config['delta'])\n",
        "    results = np.zeros(peck_obs_num)\n",
        "    peck = [1]\n",
        "    counter = 0\n",
        "\n",
        "    assert n_iter < len(labels), \"Number of iterations should not surpass number of datapoints!\"\n",
        "    for i in range(n_iter):\n",
        "\n",
        "        obs, label = encoded_data[shuffle_mask[i]].reshape(1,-1), labels[shuffle_mask[i]:shuffle_mask[i]+1]\n",
        "        # print(label)\n",
        "        peck = sep.predict(obs)\n",
        "\n",
        "        if peck[0]==1:# and not (logger is None):\n",
        "            # print(\"HEHEHEHEHEHHHHEHHEHEHEHEHEHEH\")\n",
        "            if logger:\n",
        "                logger.log(\n",
        "                    {\"peck_edible\": label[0]},\n",
        "                    step = counter\n",
        "                    )\n",
        "            results[counter] = label.item()\n",
        "            counter += 1\n",
        "            if counter == peck_obs_num: print(f\"Trial {i} finished!\"); break\n",
        "            sep.fit(obs, label)\n",
        "        elif np.random.random() < 0.05:\n",
        "            # print(f\"label {label}\")\n",
        "            sep.fit(obs, label)\n",
        "\n",
        "    return sep\n",
        "\n",
        "\n",
        "\n",
        "def compare_embeddings(emb1, emb2):\n",
        "    dissim1 = 1. - np.corrcoef(emb1)\n",
        "    dissim2 = 1. - np.corrcoef(emb2)\n",
        "\n",
        "    triu_indices = np.triu_indices_from(dissim1, k=1)\n",
        "    flat1 = dissim1[triu_indices]\n",
        "    flat2 = dissim2[triu_indices]\n",
        "\n",
        "    # Compute second-order similarity (Pearson correlation)\n",
        "    r, _ = pearsonr(flat1, flat2)\n",
        "    return r\n",
        "\n",
        "def embedding_plotter(embedding, data=None, hue=None, hover=None, tools = None, nv_cat = 5, height = 400, width = 400, display_result=True):\n",
        "    '''\n",
        "    Рисовалка эмбеддинга. 2D renderer: bokeh. 3D renderer: plotly.\n",
        "    Обязательные инструменты:\n",
        "        - pan (двигать график)\n",
        "        - box zoom\n",
        "        - reset (вылезти из зума в начальное положение)\n",
        "\n",
        "        embedding: something 2D/3D, slicable ~ embedding[:, 0] - валидно\n",
        "            Эмбеддинг\n",
        "        data: pd.DataFrame\n",
        "            Данные, по которым был построен эмбеддинг\n",
        "        hue: string\n",
        "            Колонка из data, по которой красим точки. Поддерживает интерактивную легенду: по клику на каждое\n",
        "                значение hue можно скрыть весь цвет.\n",
        "        hover: string or list of strings\n",
        "            Колонк[а/и] из data, значения которых нужно выводить при наведении мышки на точку\n",
        "        nv_cat: int\n",
        "            number of unique values to consider column categorical\n",
        "        tools: iterable or string in form \"tool1,tool2,...\" or [\"tool1\", \"tool2\", ...]\n",
        "            tools for the interactive plot\n",
        "        height, width: int\n",
        "            parameters of the figure\n",
        "        display_result: boolean\n",
        "            if the results are displayed or just returned\n",
        "\n",
        "    '''\n",
        "    if tools is None:\n",
        "        tools = 'lasso_select,box_select,pan,zoom_in,zoom_out,reset,hover'\n",
        "    else:\n",
        "        if hover and not(\"hover\" in tools):\n",
        "            tools = 'hover,'+\",\".join(tools)\n",
        "\n",
        "\n",
        "    if embedding.shape[1] == 3:\n",
        "        if hover:\n",
        "            hover_data = {h:True for h in hover}\n",
        "        else:\n",
        "            hover_data = None\n",
        "        df = pd.DataFrame(embedding, columns = ['x', 'y', 'z'])\n",
        "        df = pd.concat((df, data), axis=1)\n",
        "        fig = px.scatter_3d(\n",
        "            data_frame = df,\n",
        "            x='x',\n",
        "            y='y',\n",
        "            z='z',\n",
        "            color=df[hue],\n",
        "            hover_data = hover_data\n",
        "        )\n",
        "\n",
        "        fig.update_layout(\n",
        "            modebar_add=tools.split(\",\"),\n",
        "        )\n",
        "\n",
        "        fig.update_traces(marker_size=1, selector=dict(type='scatter3d'))\n",
        "\n",
        "        if display_result: fig.show()\n",
        "\n",
        "    if embedding.shape[1] == 2:\n",
        "        output_notebook()\n",
        "        df = pd.DataFrame(embedding, columns = ['x', 'y'])\n",
        "        df = pd.concat((df, data), axis=1)\n",
        "        tooltips = [\n",
        "            ('x, y', '$x, $y'),\n",
        "            ('index', '$index')\n",
        "        ]\n",
        "        if hover:\n",
        "            for col in hover:\n",
        "                tooltips.append((col, \"@\"+col))\n",
        "        fig = figure(tools=tools, width=width, height=height, tooltips=tooltips)\n",
        "        if df[hue].nunique() < nv_cat or df[hue].dtype == \"category\":\n",
        "            df[hue] = df[hue].astype(str)\n",
        "            source = ColumnDataSource(df)\n",
        "            color_mapper = factor_cmap(\n",
        "            field_name=hue,\n",
        "            palette='Category10_3',\n",
        "            factors=df[hue].unique()\n",
        "            )\n",
        "            fig.scatter(\n",
        "            x='x', y='y',\n",
        "            color=color_mapper,\n",
        "            source=source,\n",
        "            legend_group=hue)\n",
        "\n",
        "            fig.legend.location = 'bottom_left'\n",
        "            fig.legend.click_policy = 'mute'\n",
        "        else:\n",
        "            source = ColumnDataSource(df)\n",
        "            color_mapper = linear_cmap(\n",
        "                field_name=hue,\n",
        "                palette=Viridis256,\n",
        "                low=min(df[hue]),\n",
        "                high=max(df[hue]))\n",
        "            fig.scatter(\n",
        "                x='x', y='y',\n",
        "                color=color_mapper,\n",
        "                source=source)\n",
        "            color_bar = ColorBar(color_mapper=color_mapper['transform'], width=8, location=(0,0), title = hue)\n",
        "            fig.add_layout(color_bar, 'right')\n",
        "\n",
        "\n",
        "        if display_result: show(fig)\n",
        "\n",
        "    if embedding.shape[1] > 3:\n",
        "        print(\"wrong species, doooooodes\")\n",
        "    else: return fig"
      ]
    },
    {
      "cell_type": "markdown",
      "source": [
        "## pipelines"
      ],
      "metadata": {
        "id": "M2pZMPmquQ4O"
      }
    },
    {
      "cell_type": "code",
      "source": [
        "def encode_dataset(encoder_function: callable, loader, original_loader, device=\"cpu\"):\n",
        "    all_embeddings = []\n",
        "    all_labels = []\n",
        "    all_original_images = []\n",
        "\n",
        "    with torch.no_grad():\n",
        "        for (images_dino, targets), (images_orig, _) in zip(loader, original_loader):\n",
        "            images_dino = images_dino.to(device, non_blocking=True)\n",
        "            embeddings = encoder_function(images_dino).cpu()\n",
        "            all_embeddings.append(embeddings)\n",
        "            all_labels.append(targets)\n",
        "            all_original_images.append(images_orig)\n",
        "\n",
        "    embeddings = torch.cat(all_embeddings)  # [N, D]\n",
        "    labels = torch.cat(all_labels)\n",
        "    original_images = torch.cat(all_original_images)\n",
        "    original_images = original_images.reshape(original_images.shape[0], -1)\n",
        "\n",
        "    return (embeddings.numpy(),\n",
        "            labels.numpy(),\n",
        "            original_images.numpy())\n",
        "\n",
        "import yaml\n",
        "import wandb\n",
        "\n",
        "\n",
        "import pandas as pd\n",
        "import numpy as np\n",
        "from sklearn.manifold import TSNE\n",
        "\n",
        "\n",
        "class Runner:\n",
        "    def __init__(self,\n",
        "                 encoder_function,\n",
        "                 loader,\n",
        "                 original_loader, # in case encoder needs somewhat modified version of original image to proceed\n",
        "                 config_path = None,\n",
        "                ):\n",
        "        if config_path:\n",
        "            with open(config_path, 'r') as file:\n",
        "                self.config = yaml.safe_load(file)\n",
        "                print(self.config)\n",
        "        else:\n",
        "            self.config = None\n",
        "        self.encoder_function = encoder_function\n",
        "        self.loader = loader\n",
        "        self.original_loader = original_loader\n",
        "\n",
        "    def run(self, run_name = None, device = \"cpu\", n_iter = 1, embeddings=None, labels=None, original_images=None):\n",
        "        if embeddings is None or labels is None or original_images is None:\n",
        "            embeddings, labels, original_images = encode_dataset(self.encoder_function, self.loader, self.original_loader, device)\n",
        "            print(embeddings.shape, labels.shape, original_images.shape)\n",
        "        for _ in range(n_iter):\n",
        "            permutation = np.arange(len(labels))\n",
        "            np.random.shuffle(permutation)\n",
        "            if run_name is None : run_name = f'encoder_{self.config[\"encoder\"]}_kernel_{self.config[\"kernel\"]}_num_exemplars_{self.config[\"num_exemp\"]}'\n",
        "            logger = wandb.init(project = 'encoder_runs', config = self.config, name = run_name,\n",
        "                tags = [self.config['model_name'], self.config['encoder'], self.config['kernel'], f\"num_exemp_{self.config['num_exemp']}\"]) if self.config else None\n",
        "\n",
        "            sep = train_classifier(self.config, encoded_data=embeddings[permutation], labels=labels[permutation], logger = logger)\n",
        "\n",
        "            logger.log({\"second_order_similarity\" : compare_embeddings(embeddings[permutation[:10000]], original_images[permutation[:10000]])})\n",
        "\n",
        "            logger.finish()\n",
        "\n",
        "        # Assuming your embeddings are in a variable called 'embeddings'\n",
        "        # embeddings = np.random.rand(10000, 384)  # Example - replace with your actual embeddings\n",
        "\n",
        "        # Create t-SNE\n",
        "        tsne = TSNE(n_components=2, random_state=1,\n",
        "                    init='pca', n_iter=5000,\n",
        "                    metric='euclidean')\n",
        "\n",
        "        # Fit and transform your data\n",
        "        tsne_results = tsne.fit_transform(embeddings[:1000])\n",
        "\n",
        "        # Prepare the data DataFrame correctly\n",
        "        data_df = pd.DataFrame({\n",
        "            'label': np.array(labels[:1000])  # Assuming you have labels\n",
        "            # Add any other columns you want for hover information\n",
        "        })\n",
        "\n",
        "        data_df['tsne_x'] = tsne_results[:,0]\n",
        "        data_df['tsne_y'] = tsne_results[:,1]\n",
        "        data_df['preds'] = sep.predict(embeddings[:1000])\n",
        "        data_df['preds_vs_labels'] = (data_df['label']*10+data_df['preds']).map({\n",
        "            11 : \"edible_correct\",\n",
        "            10 : \"edible_wrong\",\n",
        "            1  : \"inedible_wrong\",\n",
        "            0  : \"inedible_correct\"\n",
        "        })\n",
        "\n",
        "        # Call the plotting function correctly\n",
        "        embedding_plotter(\n",
        "            embedding=tsne_results,  # This should be your 2D t-SNE results (1000x2 array)\n",
        "            data=data_df,            # This contains your labels and other metadata\n",
        "            hue='preds_vs_labels',             # Column name in data_df to use for coloring\n",
        "        )\n",
        "\n",
        "        return embeddings, labels, original_images, data_df\n",
        "\n",
        "\n",
        "\n"
      ],
      "metadata": {
        "id": "JiicqADRuD3J"
      },
      "execution_count": 3,
      "outputs": []
    },
    {
      "cell_type": "markdown",
      "source": [
        "# encoder\n"
      ],
      "metadata": {
        "id": "hm75v-pywFy6"
      }
    },
    {
      "cell_type": "code",
      "source": [
        "from pathlib import Path\n",
        "\n",
        "import torch\n",
        "import torch.nn as nn\n",
        "import torch.nn.functional as F\n",
        "from torch import nn as nn\n",
        "\n",
        "\n",
        "class Encoder(nn.Module):\n",
        "    def __init__(self):\n",
        "        super().__init__()\n",
        "        self.c0 = nn.Conv2d(3, 64, kernel_size=4, stride=1)\n",
        "        self.c1 = nn.Conv2d(64, 128, kernel_size=4, stride=1)\n",
        "        self.c2 = nn.Conv2d(128, 256, kernel_size=4, stride=1)\n",
        "        self.c3 = nn.Conv2d(256, 512, kernel_size=4, stride=1)\n",
        "        self.l1 = nn.Linear(512*20*20, 64)\n",
        "\n",
        "        self.b1 = nn.BatchNorm2d(128)\n",
        "        self.b2 = nn.BatchNorm2d(256)\n",
        "        self.b3 = nn.BatchNorm2d(512)\n",
        "\n",
        "    def forward(self, x):\n",
        "        h = F.relu(self.c0(x))\n",
        "        features = F.relu(self.b1(self.c1(h)))\n",
        "        h = F.relu(self.b2(self.c2(features)))\n",
        "        h = F.relu(self.b3(self.c3(h)))\n",
        "        encoded = self.l1(h.view(x.shape[0], -1))\n",
        "        return encoded, features\n",
        "\n",
        "\n",
        "class GlobalDiscriminator(nn.Module):\n",
        "    def __init__(self):\n",
        "        super().__init__()\n",
        "        self.c0 = nn.Conv2d(128, 64, kernel_size=3)\n",
        "        self.c1 = nn.Conv2d(64, 32, kernel_size=3)\n",
        "        self.l0 = nn.Linear(32 * 22 * 22 + 64, 512)\n",
        "        self.l1 = nn.Linear(512, 512)\n",
        "        self.l2 = nn.Linear(512, 1)\n",
        "\n",
        "    def forward(self, y, M):\n",
        "        h = F.relu(self.c0(M))\n",
        "        h = self.c1(h)\n",
        "        h = h.view(y.shape[0], -1)\n",
        "        h = torch.cat((y, h), dim=1)\n",
        "        h = F.relu(self.l0(h))\n",
        "        h = F.relu(self.l1(h))\n",
        "        return self.l2(h)\n",
        "\n",
        "\n",
        "class LocalDiscriminator(nn.Module):\n",
        "    def __init__(self):\n",
        "        super().__init__()\n",
        "        self.c0 = nn.Conv2d(192, 512, kernel_size=1)\n",
        "        self.c1 = nn.Conv2d(512, 512, kernel_size=1)\n",
        "        self.c2 = nn.Conv2d(512, 1, kernel_size=1)\n",
        "\n",
        "    def forward(self, x):\n",
        "        h = F.relu(self.c0(x))\n",
        "        h = F.relu(self.c1(h))\n",
        "        return self.c2(h)\n",
        "\n",
        "\n",
        "class PriorDiscriminator(nn.Module):\n",
        "    def __init__(self):\n",
        "        super().__init__()\n",
        "        self.l0 = nn.Linear(64, 1000)\n",
        "        self.l1 = nn.Linear(1000, 200)\n",
        "        self.l2 = nn.Linear(200, 1)\n",
        "\n",
        "    def forward(self, x):\n",
        "        h = F.relu(self.l0(x))\n",
        "        h = F.relu(self.l1(h))\n",
        "        return torch.sigmoid(self.l2(h))\n",
        "\n",
        "\n",
        "class Classifier(nn.Module):\n",
        "    def __init__(self):\n",
        "        super().__init__()\n",
        "        self.l1 = nn.Linear(64, 15)\n",
        "        self.bn1 = nn.BatchNorm1d(15)\n",
        "        self.l2 = nn.Linear(15, 10)\n",
        "        self.bn2 = nn.BatchNorm1d(10)\n",
        "        self.l3 = nn.Linear(10, 10)\n",
        "        self.bn3 = nn.BatchNorm1d(10)\n",
        "\n",
        "    def forward(self, x):\n",
        "        encoded, _ = x[0], x[1]\n",
        "        clazz = F.relu(self.bn1(self.l1(encoded)))\n",
        "        clazz = F.relu(self.bn2(self.l2(clazz)))\n",
        "        clazz = F.softmax(self.bn3(self.l3(clazz)), dim=1)\n",
        "        return clazz\n",
        "\n",
        "\n",
        "class DeepInfoAsLatent(nn.Module):\n",
        "    def __init__(self, run, epoch):\n",
        "        super().__init__()\n",
        "        model_path = Path(r'/content') / Path(str(run)) / Path('encoder' + str(epoch) + '.wgt')\n",
        "        self.encoder = Encoder()\n",
        "        self.encoder.load_state_dict(torch.load(str(model_path)))\n",
        "        self.classifier = Classifier()\n",
        "\n",
        "    def forward(self, x):\n",
        "        z, features = self.encoder(x)\n",
        "        z = z.detach()\n",
        "        return self.classifier((z, features))\n",
        "\n",
        "\n",
        "import torch\n",
        "from torchvision.datasets.cifar import CIFAR10\n",
        "from torch.utils.data import DataLoader\n",
        "from torchvision.transforms import ToTensor\n",
        "import torch.nn as nn\n",
        "import torch.nn.functional as F\n",
        "from torch.optim import Adam\n",
        "from tqdm import tqdm\n",
        "from pathlib import Path\n",
        "import statistics as stats\n",
        "import argparse\n",
        "\n",
        "\n",
        "class DeepInfoMaxLoss(nn.Module):\n",
        "    def __init__(self, alpha=0.5, beta=1.0, gamma=0.1):\n",
        "        super().__init__()\n",
        "        self.global_d = GlobalDiscriminator()\n",
        "        self.local_d = LocalDiscriminator()\n",
        "        self.prior_d = PriorDiscriminator()\n",
        "        self.alpha = alpha\n",
        "        self.beta = beta\n",
        "        self.gamma = gamma\n",
        "\n",
        "    def forward(self, y, M, M_prime):\n",
        "\n",
        "        # see appendix 1A of https://arxiv.org/pdf/1808.06670.pdf\n",
        "\n",
        "        y_exp = y.unsqueeze(-1).unsqueeze(-1)\n",
        "        y_exp = y_exp.expand(-1, -1, 26, 26)\n",
        "\n",
        "        y_M = torch.cat((M, y_exp), dim=1)\n",
        "        y_M_prime = torch.cat((M_prime, y_exp), dim=1)\n",
        "\n",
        "        Ej = -F.softplus(-self.local_d(y_M)).mean()\n",
        "        Em = F.softplus(self.local_d(y_M_prime)).mean()\n",
        "        LOCAL = (Em - Ej) * self.beta\n",
        "\n",
        "        Ej = -F.softplus(-self.global_d(y, M)).mean()\n",
        "        Em = F.softplus(self.global_d(y, M_prime)).mean()\n",
        "        GLOBAL = (Em - Ej) * self.alpha\n",
        "\n",
        "        prior = torch.rand_like(y)\n",
        "\n",
        "        term_a = torch.log(self.prior_d(prior)).mean()\n",
        "        term_b = torch.log(1.0 - self.prior_d(y)).mean()\n",
        "        PRIOR = - (term_a + term_b) * self.gamma\n",
        "\n",
        "        return LOCAL + GLOBAL + PRIOR"
      ],
      "metadata": {
        "id": "_LZB9wd1wHNf"
      },
      "execution_count": 4,
      "outputs": []
    },
    {
      "cell_type": "markdown",
      "source": [
        "## dataset"
      ],
      "metadata": {
        "id": "x8t1uTudwYFl"
      }
    },
    {
      "cell_type": "code",
      "source": [
        "import torch\n",
        "from torch.utils.data import Dataset, DataLoader, random_split, SubsetRandomSampler\n",
        "import pandas as pd\n",
        "from PIL import Image\n",
        "import numpy as np\n",
        "\n",
        "class ImageLabelDataset(Dataset):\n",
        "    def __init__(self, csv_file, img_dir, transform=None):\n",
        "        self.labels = pd.read_csv(csv_file)\n",
        "        self.img_dir = img_dir\n",
        "        self.transform = transform\n",
        "\n",
        "    def __len__(self):\n",
        "        return len(self.labels)\n",
        "\n",
        "    def __getitem__(self, idx):\n",
        "        img_name = self.labels.iloc[idx, 0]  # Assuming first column is image names\n",
        "        img_path = f\"{self.img_dir}/{img_name}.png\"\n",
        "        image = Image.open(img_path).convert('RGB')\n",
        "        label = self.labels.iloc[idx, 1]  # Assuming second column is labels\n",
        "\n",
        "        if self.transform:\n",
        "            image = self.transform(image)\n",
        "\n",
        "        return image, label"
      ],
      "metadata": {
        "id": "MrM8ug5jwXNY"
      },
      "execution_count": 5,
      "outputs": []
    },
    {
      "cell_type": "markdown",
      "source": [
        "# Pipeline test"
      ],
      "metadata": {
        "id": "K2ei9aBRv9Rx"
      }
    },
    {
      "cell_type": "code",
      "source": [
        "from google.colab import drive\n",
        "drive.mount('/content/drive')\n",
        "\n",
        "!unzip -q \"/content/drive/MyDrive/Data/test_data.zip\" -d /content/\n",
        "!unzip -q \"/content/drive/MyDrive/Data/pretrain_data.zip\" -d /content/\n",
        "\n",
        "embeddings, labels, original_images = None, None, None"
      ],
      "metadata": {
        "colab": {
          "base_uri": "https://localhost:8080/"
        },
        "id": "PbwKskLYuzv4",
        "outputId": "369bec5a-7e8c-44df-f932-0b26db1d3b2d"
      },
      "execution_count": 6,
      "outputs": [
        {
          "output_type": "stream",
          "name": "stdout",
          "text": [
            "Mounted at /content/drive\n"
          ]
        }
      ]
    },
    {
      "cell_type": "code",
      "source": [
        "import numpy as np\n",
        "import matplotlib.pyplot as plt\n",
        "import yaml\n",
        "import os\n",
        "import sys\n",
        "\n",
        "import pandas as pd\n",
        "\n",
        "from torchvision import transforms\n",
        "\n",
        "device = torch.device('cuda' if torch.cuda.is_available() else 'cpu')\n",
        "\n",
        "encoder = Encoder().to(device)\n",
        "root = Path(r'/content/drive/MyDrive/DIM_weights')\n",
        "enc_file = root / Path('cifar_pretrained150.wgt')\n",
        "encoder.load_state_dict(torch.load(str(enc_file), map_location = device))\n",
        "\n",
        "pd.read_csv('image_info.csv')['edible'].astype(int).to_csv(\"test_is_edible.csv\")\n",
        "dataset = ImageLabelDataset(\n",
        "    csv_file=\"/content/test_is_edible.csv\",\n",
        "    img_dir=\"/content/im\",\n",
        "    transform=transforms.ToTensor()  # Add any other transforms\n",
        ")\n",
        "loader = DataLoader(dataset, batch_size=512)\n",
        "loader_original = DataLoader(dataset, batch_size=512)\n",
        "\n",
        "encoder_func = lambda x: encoder(x)[0]\n",
        "print(len(loader))\n",
        "runner = Runner(\n",
        "    encoder_func,\n",
        "    loader,\n",
        "    loader_original,\n",
        "    \"/content/DIM_config.yaml\"\n",
        ")\n",
        "\n",
        "embeddings, labels, original_images, tsne_results = runner.run(\"test_rerunning\", device, n_iter = 30, embeddings = embeddings, labels = labels, original_images = original_images)\n"
      ],
      "metadata": {
        "colab": {
          "base_uri": "https://localhost:8080/",
          "height": 1000
        },
        "id": "wKRCP87SwIYv",
        "outputId": "d5a25275-8c3b-4d84-888c-83567de29da1"
      },
      "execution_count": null,
      "outputs": [
        {
          "output_type": "stream",
          "name": "stdout",
          "text": [
            "98\n",
            "{'model_name': 'SEP', 'encoder': 'DIM', 'input_space_shape': 64, 'delta': 0.1, 'lr': 0.001, 'dr': 0.999, 'omega': 0.3, 'kernel': 'exponential', 'num_exemp': 20}\n",
            "(50000, 64) (50000,) (50000, 3072)\n"
          ]
        },
        {
          "output_type": "display_data",
          "data": {
            "text/plain": [
              "<IPython.core.display.Javascript object>"
            ],
            "application/javascript": [
              "\n",
              "        window._wandbApiKey = new Promise((resolve, reject) => {\n",
              "            function loadScript(url) {\n",
              "            return new Promise(function(resolve, reject) {\n",
              "                let newScript = document.createElement(\"script\");\n",
              "                newScript.onerror = reject;\n",
              "                newScript.onload = resolve;\n",
              "                document.body.appendChild(newScript);\n",
              "                newScript.src = url;\n",
              "            });\n",
              "            }\n",
              "            loadScript(\"https://cdn.jsdelivr.net/npm/postmate/build/postmate.min.js\").then(() => {\n",
              "            const iframe = document.createElement('iframe')\n",
              "            iframe.style.cssText = \"width:0;height:0;border:none\"\n",
              "            document.body.appendChild(iframe)\n",
              "            const handshake = new Postmate({\n",
              "                container: iframe,\n",
              "                url: 'https://wandb.ai/authorize'\n",
              "            });\n",
              "            const timeout = setTimeout(() => reject(\"Couldn't auto authenticate\"), 5000)\n",
              "            handshake.then(function(child) {\n",
              "                child.on('authorize', data => {\n",
              "                    clearTimeout(timeout)\n",
              "                    resolve(data)\n",
              "                });\n",
              "            });\n",
              "            })\n",
              "        });\n",
              "    "
            ]
          },
          "metadata": {}
        },
        {
          "output_type": "stream",
          "name": "stderr",
          "text": [
            "\u001b[34m\u001b[1mwandb\u001b[0m: Logging into wandb.ai. (Learn how to deploy a W&B server locally: https://wandb.me/wandb-server)\n",
            "\u001b[34m\u001b[1mwandb\u001b[0m: You can find your API key in your browser here: https://wandb.ai/authorize?ref=models\n",
            "wandb: Paste an API key from your profile and hit enter:"
          ]
        },
        {
          "name": "stdout",
          "output_type": "stream",
          "text": [
            " ··········\n"
          ]
        },
        {
          "output_type": "stream",
          "name": "stderr",
          "text": [
            "\u001b[34m\u001b[1mwandb\u001b[0m: \u001b[33mWARNING\u001b[0m If you're specifying your api key in code, ensure this code is not shared publicly.\n",
            "\u001b[34m\u001b[1mwandb\u001b[0m: \u001b[33mWARNING\u001b[0m Consider setting the WANDB_API_KEY environment variable, or running `wandb login` from the command line.\n",
            "\u001b[34m\u001b[1mwandb\u001b[0m: No netrc file found, creating one.\n",
            "\u001b[34m\u001b[1mwandb\u001b[0m: Appending key for api.wandb.ai to your netrc file: /root/.netrc\n",
            "\u001b[34m\u001b[1mwandb\u001b[0m: Currently logged in as: \u001b[33mms-hate-life\u001b[0m (\u001b[33mms-hate-life-\u001b[0m) to \u001b[32mhttps://api.wandb.ai\u001b[0m. Use \u001b[1m`wandb login --relogin`\u001b[0m to force relogin\n"
          ]
        },
        {
          "output_type": "display_data",
          "data": {
            "text/plain": [
              "<IPython.core.display.HTML object>"
            ],
            "text/html": [
              "Tracking run with wandb version 0.19.11"
            ]
          },
          "metadata": {}
        },
        {
          "output_type": "display_data",
          "data": {
            "text/plain": [
              "<IPython.core.display.HTML object>"
            ],
            "text/html": [
              "Run data is saved locally in <code>/content/wandb/run-20250516_230511-npbg7kfn</code>"
            ]
          },
          "metadata": {}
        },
        {
          "output_type": "display_data",
          "data": {
            "text/plain": [
              "<IPython.core.display.HTML object>"
            ],
            "text/html": [
              "Syncing run <strong><a href='https://wandb.ai/ms-hate-life-/encoder_runs/runs/npbg7kfn' target=\"_blank\">test_rerunning</a></strong> to <a href='https://wandb.ai/ms-hate-life-/encoder_runs' target=\"_blank\">Weights & Biases</a> (<a href='https://wandb.me/developer-guide' target=\"_blank\">docs</a>)<br>"
            ]
          },
          "metadata": {}
        },
        {
          "output_type": "display_data",
          "data": {
            "text/plain": [
              "<IPython.core.display.HTML object>"
            ],
            "text/html": [
              " View project at <a href='https://wandb.ai/ms-hate-life-/encoder_runs' target=\"_blank\">https://wandb.ai/ms-hate-life-/encoder_runs</a>"
            ]
          },
          "metadata": {}
        },
        {
          "output_type": "display_data",
          "data": {
            "text/plain": [
              "<IPython.core.display.HTML object>"
            ],
            "text/html": [
              " View run at <a href='https://wandb.ai/ms-hate-life-/encoder_runs/runs/npbg7kfn' target=\"_blank\">https://wandb.ai/ms-hate-life-/encoder_runs/runs/npbg7kfn</a>"
            ]
          },
          "metadata": {}
        },
        {
          "output_type": "stream",
          "name": "stdout",
          "text": [
            "Trial 348 finished!\n"
          ]
        },
        {
          "output_type": "display_data",
          "data": {
            "text/plain": [
              "<IPython.core.display.HTML object>"
            ],
            "text/html": []
          },
          "metadata": {}
        },
        {
          "output_type": "display_data",
          "data": {
            "text/plain": [
              "<IPython.core.display.HTML object>"
            ],
            "text/html": [
              "<br>    <style><br>        .wandb-row {<br>            display: flex;<br>            flex-direction: row;<br>            flex-wrap: wrap;<br>            justify-content: flex-start;<br>            width: 100%;<br>        }<br>        .wandb-col {<br>            display: flex;<br>            flex-direction: column;<br>            flex-basis: 100%;<br>            flex: 1;<br>            padding: 10px;<br>        }<br>    </style><br><div class=\"wandb-row\"><div class=\"wandb-col\"><h3>Run history:</h3><br/><table class=\"wandb\"><tr><td>peck_edible</td><td>▁██▁████▁█▁▁█████▁████████▁████████▁████</td></tr><tr><td>second_order_similarity</td><td>▁</td></tr></table><br/></div><div class=\"wandb-col\"><h3>Run summary:</h3><br/><table class=\"wandb\"><tr><td>peck_edible</td><td>0</td></tr><tr><td>second_order_similarity</td><td>0.82415</td></tr></table><br/></div></div>"
            ]
          },
          "metadata": {}
        },
        {
          "output_type": "display_data",
          "data": {
            "text/plain": [
              "<IPython.core.display.HTML object>"
            ],
            "text/html": [
              " View run <strong style=\"color:#cdcd00\">test_rerunning</strong> at: <a href='https://wandb.ai/ms-hate-life-/encoder_runs/runs/npbg7kfn' target=\"_blank\">https://wandb.ai/ms-hate-life-/encoder_runs/runs/npbg7kfn</a><br> View project at: <a href='https://wandb.ai/ms-hate-life-/encoder_runs' target=\"_blank\">https://wandb.ai/ms-hate-life-/encoder_runs</a><br>Synced 5 W&B file(s), 0 media file(s), 0 artifact file(s) and 0 other file(s)"
            ]
          },
          "metadata": {}
        },
        {
          "output_type": "display_data",
          "data": {
            "text/plain": [
              "<IPython.core.display.HTML object>"
            ],
            "text/html": [
              "Find logs at: <code>./wandb/run-20250516_230511-npbg7kfn/logs</code>"
            ]
          },
          "metadata": {}
        },
        {
          "output_type": "display_data",
          "data": {
            "text/plain": [
              "<IPython.core.display.HTML object>"
            ],
            "text/html": [
              "Tracking run with wandb version 0.19.11"
            ]
          },
          "metadata": {}
        },
        {
          "output_type": "display_data",
          "data": {
            "text/plain": [
              "<IPython.core.display.HTML object>"
            ],
            "text/html": [
              "Run data is saved locally in <code>/content/wandb/run-20250516_230532-6eb70aa5</code>"
            ]
          },
          "metadata": {}
        },
        {
          "output_type": "display_data",
          "data": {
            "text/plain": [
              "<IPython.core.display.HTML object>"
            ],
            "text/html": [
              "Syncing run <strong><a href='https://wandb.ai/ms-hate-life-/encoder_runs/runs/6eb70aa5' target=\"_blank\">test_rerunning</a></strong> to <a href='https://wandb.ai/ms-hate-life-/encoder_runs' target=\"_blank\">Weights & Biases</a> (<a href='https://wandb.me/developer-guide' target=\"_blank\">docs</a>)<br>"
            ]
          },
          "metadata": {}
        },
        {
          "output_type": "display_data",
          "data": {
            "text/plain": [
              "<IPython.core.display.HTML object>"
            ],
            "text/html": [
              " View project at <a href='https://wandb.ai/ms-hate-life-/encoder_runs' target=\"_blank\">https://wandb.ai/ms-hate-life-/encoder_runs</a>"
            ]
          },
          "metadata": {}
        },
        {
          "output_type": "display_data",
          "data": {
            "text/plain": [
              "<IPython.core.display.HTML object>"
            ],
            "text/html": [
              " View run at <a href='https://wandb.ai/ms-hate-life-/encoder_runs/runs/6eb70aa5' target=\"_blank\">https://wandb.ai/ms-hate-life-/encoder_runs/runs/6eb70aa5</a>"
            ]
          },
          "metadata": {}
        },
        {
          "output_type": "stream",
          "name": "stdout",
          "text": [
            "Trial 370 finished!\n"
          ]
        },
        {
          "output_type": "display_data",
          "data": {
            "text/plain": [
              "<IPython.core.display.HTML object>"
            ],
            "text/html": []
          },
          "metadata": {}
        },
        {
          "output_type": "display_data",
          "data": {
            "text/plain": [
              "<IPython.core.display.HTML object>"
            ],
            "text/html": [
              "<br>    <style><br>        .wandb-row {<br>            display: flex;<br>            flex-direction: row;<br>            flex-wrap: wrap;<br>            justify-content: flex-start;<br>            width: 100%;<br>        }<br>        .wandb-col {<br>            display: flex;<br>            flex-direction: column;<br>            flex-basis: 100%;<br>            flex: 1;<br>            padding: 10px;<br>        }<br>    </style><br><div class=\"wandb-row\"><div class=\"wandb-col\"><h3>Run history:</h3><br/><table class=\"wandb\"><tr><td>peck_edible</td><td>███▁█▁███████████▁███▁██▁▁█████▁▁██▁▁█▁▁</td></tr><tr><td>second_order_similarity</td><td>▁</td></tr></table><br/></div><div class=\"wandb-col\"><h3>Run summary:</h3><br/><table class=\"wandb\"><tr><td>peck_edible</td><td>1</td></tr><tr><td>second_order_similarity</td><td>0.82487</td></tr></table><br/></div></div>"
            ]
          },
          "metadata": {}
        },
        {
          "output_type": "display_data",
          "data": {
            "text/plain": [
              "<IPython.core.display.HTML object>"
            ],
            "text/html": [
              " View run <strong style=\"color:#cdcd00\">test_rerunning</strong> at: <a href='https://wandb.ai/ms-hate-life-/encoder_runs/runs/6eb70aa5' target=\"_blank\">https://wandb.ai/ms-hate-life-/encoder_runs/runs/6eb70aa5</a><br> View project at: <a href='https://wandb.ai/ms-hate-life-/encoder_runs' target=\"_blank\">https://wandb.ai/ms-hate-life-/encoder_runs</a><br>Synced 5 W&B file(s), 0 media file(s), 0 artifact file(s) and 0 other file(s)"
            ]
          },
          "metadata": {}
        },
        {
          "output_type": "display_data",
          "data": {
            "text/plain": [
              "<IPython.core.display.HTML object>"
            ],
            "text/html": [
              "Find logs at: <code>./wandb/run-20250516_230532-6eb70aa5/logs</code>"
            ]
          },
          "metadata": {}
        },
        {
          "output_type": "display_data",
          "data": {
            "text/plain": [
              "<IPython.core.display.HTML object>"
            ],
            "text/html": [
              "Tracking run with wandb version 0.19.11"
            ]
          },
          "metadata": {}
        },
        {
          "output_type": "display_data",
          "data": {
            "text/plain": [
              "<IPython.core.display.HTML object>"
            ],
            "text/html": [
              "Run data is saved locally in <code>/content/wandb/run-20250516_230552-8ac9ykau</code>"
            ]
          },
          "metadata": {}
        },
        {
          "output_type": "display_data",
          "data": {
            "text/plain": [
              "<IPython.core.display.HTML object>"
            ],
            "text/html": [
              "Syncing run <strong><a href='https://wandb.ai/ms-hate-life-/encoder_runs/runs/8ac9ykau' target=\"_blank\">test_rerunning</a></strong> to <a href='https://wandb.ai/ms-hate-life-/encoder_runs' target=\"_blank\">Weights & Biases</a> (<a href='https://wandb.me/developer-guide' target=\"_blank\">docs</a>)<br>"
            ]
          },
          "metadata": {}
        },
        {
          "output_type": "display_data",
          "data": {
            "text/plain": [
              "<IPython.core.display.HTML object>"
            ],
            "text/html": [
              " View project at <a href='https://wandb.ai/ms-hate-life-/encoder_runs' target=\"_blank\">https://wandb.ai/ms-hate-life-/encoder_runs</a>"
            ]
          },
          "metadata": {}
        },
        {
          "output_type": "display_data",
          "data": {
            "text/plain": [
              "<IPython.core.display.HTML object>"
            ],
            "text/html": [
              " View run at <a href='https://wandb.ai/ms-hate-life-/encoder_runs/runs/8ac9ykau' target=\"_blank\">https://wandb.ai/ms-hate-life-/encoder_runs/runs/8ac9ykau</a>"
            ]
          },
          "metadata": {}
        },
        {
          "output_type": "stream",
          "name": "stdout",
          "text": [
            "Trial 392 finished!\n"
          ]
        },
        {
          "output_type": "display_data",
          "data": {
            "text/plain": [
              "<IPython.core.display.HTML object>"
            ],
            "text/html": []
          },
          "metadata": {}
        },
        {
          "output_type": "display_data",
          "data": {
            "text/plain": [
              "<IPython.core.display.HTML object>"
            ],
            "text/html": [
              "<br>    <style><br>        .wandb-row {<br>            display: flex;<br>            flex-direction: row;<br>            flex-wrap: wrap;<br>            justify-content: flex-start;<br>            width: 100%;<br>        }<br>        .wandb-col {<br>            display: flex;<br>            flex-direction: column;<br>            flex-basis: 100%;<br>            flex: 1;<br>            padding: 10px;<br>        }<br>    </style><br><div class=\"wandb-row\"><div class=\"wandb-col\"><h3>Run history:</h3><br/><table class=\"wandb\"><tr><td>peck_edible</td><td>█▁███▁▁████▁█▁█████▁▁██████▁█▁▁█████▁▁█▁</td></tr><tr><td>second_order_similarity</td><td>▁</td></tr></table><br/></div><div class=\"wandb-col\"><h3>Run summary:</h3><br/><table class=\"wandb\"><tr><td>peck_edible</td><td>0</td></tr><tr><td>second_order_similarity</td><td>0.82644</td></tr></table><br/></div></div>"
            ]
          },
          "metadata": {}
        },
        {
          "output_type": "display_data",
          "data": {
            "text/plain": [
              "<IPython.core.display.HTML object>"
            ],
            "text/html": [
              " View run <strong style=\"color:#cdcd00\">test_rerunning</strong> at: <a href='https://wandb.ai/ms-hate-life-/encoder_runs/runs/8ac9ykau' target=\"_blank\">https://wandb.ai/ms-hate-life-/encoder_runs/runs/8ac9ykau</a><br> View project at: <a href='https://wandb.ai/ms-hate-life-/encoder_runs' target=\"_blank\">https://wandb.ai/ms-hate-life-/encoder_runs</a><br>Synced 5 W&B file(s), 0 media file(s), 0 artifact file(s) and 0 other file(s)"
            ]
          },
          "metadata": {}
        },
        {
          "output_type": "display_data",
          "data": {
            "text/plain": [
              "<IPython.core.display.HTML object>"
            ],
            "text/html": [
              "Find logs at: <code>./wandb/run-20250516_230552-8ac9ykau/logs</code>"
            ]
          },
          "metadata": {}
        },
        {
          "output_type": "display_data",
          "data": {
            "text/plain": [
              "<IPython.core.display.HTML object>"
            ],
            "text/html": [
              "Tracking run with wandb version 0.19.11"
            ]
          },
          "metadata": {}
        },
        {
          "output_type": "display_data",
          "data": {
            "text/plain": [
              "<IPython.core.display.HTML object>"
            ],
            "text/html": [
              "Run data is saved locally in <code>/content/wandb/run-20250516_230611-7jd6rjjg</code>"
            ]
          },
          "metadata": {}
        },
        {
          "output_type": "display_data",
          "data": {
            "text/plain": [
              "<IPython.core.display.HTML object>"
            ],
            "text/html": [
              "Syncing run <strong><a href='https://wandb.ai/ms-hate-life-/encoder_runs/runs/7jd6rjjg' target=\"_blank\">test_rerunning</a></strong> to <a href='https://wandb.ai/ms-hate-life-/encoder_runs' target=\"_blank\">Weights & Biases</a> (<a href='https://wandb.me/developer-guide' target=\"_blank\">docs</a>)<br>"
            ]
          },
          "metadata": {}
        },
        {
          "output_type": "display_data",
          "data": {
            "text/plain": [
              "<IPython.core.display.HTML object>"
            ],
            "text/html": [
              " View project at <a href='https://wandb.ai/ms-hate-life-/encoder_runs' target=\"_blank\">https://wandb.ai/ms-hate-life-/encoder_runs</a>"
            ]
          },
          "metadata": {}
        },
        {
          "output_type": "display_data",
          "data": {
            "text/plain": [
              "<IPython.core.display.HTML object>"
            ],
            "text/html": [
              " View run at <a href='https://wandb.ai/ms-hate-life-/encoder_runs/runs/7jd6rjjg' target=\"_blank\">https://wandb.ai/ms-hate-life-/encoder_runs/runs/7jd6rjjg</a>"
            ]
          },
          "metadata": {}
        },
        {
          "output_type": "stream",
          "name": "stdout",
          "text": [
            "Trial 324 finished!\n"
          ]
        },
        {
          "output_type": "display_data",
          "data": {
            "text/plain": [
              "<IPython.core.display.HTML object>"
            ],
            "text/html": []
          },
          "metadata": {}
        },
        {
          "output_type": "display_data",
          "data": {
            "text/plain": [
              "<IPython.core.display.HTML object>"
            ],
            "text/html": [
              "<br>    <style><br>        .wandb-row {<br>            display: flex;<br>            flex-direction: row;<br>            flex-wrap: wrap;<br>            justify-content: flex-start;<br>            width: 100%;<br>        }<br>        .wandb-col {<br>            display: flex;<br>            flex-direction: column;<br>            flex-basis: 100%;<br>            flex: 1;<br>            padding: 10px;<br>        }<br>    </style><br><div class=\"wandb-row\"><div class=\"wandb-col\"><h3>Run history:</h3><br/><table class=\"wandb\"><tr><td>peck_edible</td><td>▁█▁████████▁██▁▁█████▁█▁▁▁▁███████▁█▁███</td></tr><tr><td>second_order_similarity</td><td>▁</td></tr></table><br/></div><div class=\"wandb-col\"><h3>Run summary:</h3><br/><table class=\"wandb\"><tr><td>peck_edible</td><td>1</td></tr><tr><td>second_order_similarity</td><td>0.82753</td></tr></table><br/></div></div>"
            ]
          },
          "metadata": {}
        },
        {
          "output_type": "display_data",
          "data": {
            "text/plain": [
              "<IPython.core.display.HTML object>"
            ],
            "text/html": [
              " View run <strong style=\"color:#cdcd00\">test_rerunning</strong> at: <a href='https://wandb.ai/ms-hate-life-/encoder_runs/runs/7jd6rjjg' target=\"_blank\">https://wandb.ai/ms-hate-life-/encoder_runs/runs/7jd6rjjg</a><br> View project at: <a href='https://wandb.ai/ms-hate-life-/encoder_runs' target=\"_blank\">https://wandb.ai/ms-hate-life-/encoder_runs</a><br>Synced 5 W&B file(s), 0 media file(s), 0 artifact file(s) and 0 other file(s)"
            ]
          },
          "metadata": {}
        },
        {
          "output_type": "display_data",
          "data": {
            "text/plain": [
              "<IPython.core.display.HTML object>"
            ],
            "text/html": [
              "Find logs at: <code>./wandb/run-20250516_230611-7jd6rjjg/logs</code>"
            ]
          },
          "metadata": {}
        },
        {
          "output_type": "display_data",
          "data": {
            "text/plain": [
              "<IPython.core.display.HTML object>"
            ],
            "text/html": [
              "Tracking run with wandb version 0.19.11"
            ]
          },
          "metadata": {}
        },
        {
          "output_type": "display_data",
          "data": {
            "text/plain": [
              "<IPython.core.display.HTML object>"
            ],
            "text/html": [
              "Run data is saved locally in <code>/content/wandb/run-20250516_230629-e80x4rxd</code>"
            ]
          },
          "metadata": {}
        },
        {
          "output_type": "display_data",
          "data": {
            "text/plain": [
              "<IPython.core.display.HTML object>"
            ],
            "text/html": [
              "Syncing run <strong><a href='https://wandb.ai/ms-hate-life-/encoder_runs/runs/e80x4rxd' target=\"_blank\">test_rerunning</a></strong> to <a href='https://wandb.ai/ms-hate-life-/encoder_runs' target=\"_blank\">Weights & Biases</a> (<a href='https://wandb.me/developer-guide' target=\"_blank\">docs</a>)<br>"
            ]
          },
          "metadata": {}
        },
        {
          "output_type": "display_data",
          "data": {
            "text/plain": [
              "<IPython.core.display.HTML object>"
            ],
            "text/html": [
              " View project at <a href='https://wandb.ai/ms-hate-life-/encoder_runs' target=\"_blank\">https://wandb.ai/ms-hate-life-/encoder_runs</a>"
            ]
          },
          "metadata": {}
        },
        {
          "output_type": "display_data",
          "data": {
            "text/plain": [
              "<IPython.core.display.HTML object>"
            ],
            "text/html": [
              " View run at <a href='https://wandb.ai/ms-hate-life-/encoder_runs/runs/e80x4rxd' target=\"_blank\">https://wandb.ai/ms-hate-life-/encoder_runs/runs/e80x4rxd</a>"
            ]
          },
          "metadata": {}
        },
        {
          "output_type": "stream",
          "name": "stdout",
          "text": [
            "Trial 364 finished!\n"
          ]
        },
        {
          "output_type": "display_data",
          "data": {
            "text/plain": [
              "<IPython.core.display.HTML object>"
            ],
            "text/html": []
          },
          "metadata": {}
        },
        {
          "output_type": "display_data",
          "data": {
            "text/plain": [
              "<IPython.core.display.HTML object>"
            ],
            "text/html": [
              "<br>    <style><br>        .wandb-row {<br>            display: flex;<br>            flex-direction: row;<br>            flex-wrap: wrap;<br>            justify-content: flex-start;<br>            width: 100%;<br>        }<br>        .wandb-col {<br>            display: flex;<br>            flex-direction: column;<br>            flex-basis: 100%;<br>            flex: 1;<br>            padding: 10px;<br>        }<br>    </style><br><div class=\"wandb-row\"><div class=\"wandb-col\"><h3>Run history:</h3><br/><table class=\"wandb\"><tr><td>peck_edible</td><td>██▁██▁▁██████▁██▁█████▁▁██▁█▁█▁▁█▁█▁▁█▁█</td></tr><tr><td>second_order_similarity</td><td>▁</td></tr></table><br/></div><div class=\"wandb-col\"><h3>Run summary:</h3><br/><table class=\"wandb\"><tr><td>peck_edible</td><td>1</td></tr><tr><td>second_order_similarity</td><td>0.82415</td></tr></table><br/></div></div>"
            ]
          },
          "metadata": {}
        },
        {
          "output_type": "display_data",
          "data": {
            "text/plain": [
              "<IPython.core.display.HTML object>"
            ],
            "text/html": [
              " View run <strong style=\"color:#cdcd00\">test_rerunning</strong> at: <a href='https://wandb.ai/ms-hate-life-/encoder_runs/runs/e80x4rxd' target=\"_blank\">https://wandb.ai/ms-hate-life-/encoder_runs/runs/e80x4rxd</a><br> View project at: <a href='https://wandb.ai/ms-hate-life-/encoder_runs' target=\"_blank\">https://wandb.ai/ms-hate-life-/encoder_runs</a><br>Synced 5 W&B file(s), 0 media file(s), 0 artifact file(s) and 0 other file(s)"
            ]
          },
          "metadata": {}
        },
        {
          "output_type": "display_data",
          "data": {
            "text/plain": [
              "<IPython.core.display.HTML object>"
            ],
            "text/html": [
              "Find logs at: <code>./wandb/run-20250516_230629-e80x4rxd/logs</code>"
            ]
          },
          "metadata": {}
        },
        {
          "output_type": "display_data",
          "data": {
            "text/plain": [
              "<IPython.core.display.HTML object>"
            ],
            "text/html": [
              "Tracking run with wandb version 0.19.11"
            ]
          },
          "metadata": {}
        },
        {
          "output_type": "display_data",
          "data": {
            "text/plain": [
              "<IPython.core.display.HTML object>"
            ],
            "text/html": [
              "Run data is saved locally in <code>/content/wandb/run-20250516_230648-eis578u3</code>"
            ]
          },
          "metadata": {}
        },
        {
          "output_type": "display_data",
          "data": {
            "text/plain": [
              "<IPython.core.display.HTML object>"
            ],
            "text/html": [
              "Syncing run <strong><a href='https://wandb.ai/ms-hate-life-/encoder_runs/runs/eis578u3' target=\"_blank\">test_rerunning</a></strong> to <a href='https://wandb.ai/ms-hate-life-/encoder_runs' target=\"_blank\">Weights & Biases</a> (<a href='https://wandb.me/developer-guide' target=\"_blank\">docs</a>)<br>"
            ]
          },
          "metadata": {}
        },
        {
          "output_type": "display_data",
          "data": {
            "text/plain": [
              "<IPython.core.display.HTML object>"
            ],
            "text/html": [
              " View project at <a href='https://wandb.ai/ms-hate-life-/encoder_runs' target=\"_blank\">https://wandb.ai/ms-hate-life-/encoder_runs</a>"
            ]
          },
          "metadata": {}
        },
        {
          "output_type": "display_data",
          "data": {
            "text/plain": [
              "<IPython.core.display.HTML object>"
            ],
            "text/html": [
              " View run at <a href='https://wandb.ai/ms-hate-life-/encoder_runs/runs/eis578u3' target=\"_blank\">https://wandb.ai/ms-hate-life-/encoder_runs/runs/eis578u3</a>"
            ]
          },
          "metadata": {}
        },
        {
          "output_type": "stream",
          "name": "stdout",
          "text": [
            "Trial 375 finished!\n"
          ]
        },
        {
          "output_type": "display_data",
          "data": {
            "text/plain": [
              "<IPython.core.display.HTML object>"
            ],
            "text/html": []
          },
          "metadata": {}
        },
        {
          "output_type": "display_data",
          "data": {
            "text/plain": [
              "<IPython.core.display.HTML object>"
            ],
            "text/html": [
              "<br>    <style><br>        .wandb-row {<br>            display: flex;<br>            flex-direction: row;<br>            flex-wrap: wrap;<br>            justify-content: flex-start;<br>            width: 100%;<br>        }<br>        .wandb-col {<br>            display: flex;<br>            flex-direction: column;<br>            flex-basis: 100%;<br>            flex: 1;<br>            padding: 10px;<br>        }<br>    </style><br><div class=\"wandb-row\"><div class=\"wandb-col\"><h3>Run history:</h3><br/><table class=\"wandb\"><tr><td>peck_edible</td><td>█▁█▁█████████▁██▁█▁██▁▁█▁████▁████▁▁▁███</td></tr><tr><td>second_order_similarity</td><td>▁</td></tr></table><br/></div><div class=\"wandb-col\"><h3>Run summary:</h3><br/><table class=\"wandb\"><tr><td>peck_edible</td><td>1</td></tr><tr><td>second_order_similarity</td><td>0.82428</td></tr></table><br/></div></div>"
            ]
          },
          "metadata": {}
        },
        {
          "output_type": "display_data",
          "data": {
            "text/plain": [
              "<IPython.core.display.HTML object>"
            ],
            "text/html": [
              " View run <strong style=\"color:#cdcd00\">test_rerunning</strong> at: <a href='https://wandb.ai/ms-hate-life-/encoder_runs/runs/eis578u3' target=\"_blank\">https://wandb.ai/ms-hate-life-/encoder_runs/runs/eis578u3</a><br> View project at: <a href='https://wandb.ai/ms-hate-life-/encoder_runs' target=\"_blank\">https://wandb.ai/ms-hate-life-/encoder_runs</a><br>Synced 5 W&B file(s), 0 media file(s), 0 artifact file(s) and 0 other file(s)"
            ]
          },
          "metadata": {}
        },
        {
          "output_type": "display_data",
          "data": {
            "text/plain": [
              "<IPython.core.display.HTML object>"
            ],
            "text/html": [
              "Find logs at: <code>./wandb/run-20250516_230648-eis578u3/logs</code>"
            ]
          },
          "metadata": {}
        },
        {
          "output_type": "display_data",
          "data": {
            "text/plain": [
              "<IPython.core.display.HTML object>"
            ],
            "text/html": [
              "Tracking run with wandb version 0.19.11"
            ]
          },
          "metadata": {}
        },
        {
          "output_type": "display_data",
          "data": {
            "text/plain": [
              "<IPython.core.display.HTML object>"
            ],
            "text/html": [
              "Run data is saved locally in <code>/content/wandb/run-20250516_230708-wsssbi9g</code>"
            ]
          },
          "metadata": {}
        },
        {
          "output_type": "display_data",
          "data": {
            "text/plain": [
              "<IPython.core.display.HTML object>"
            ],
            "text/html": [
              "Syncing run <strong><a href='https://wandb.ai/ms-hate-life-/encoder_runs/runs/wsssbi9g' target=\"_blank\">test_rerunning</a></strong> to <a href='https://wandb.ai/ms-hate-life-/encoder_runs' target=\"_blank\">Weights & Biases</a> (<a href='https://wandb.me/developer-guide' target=\"_blank\">docs</a>)<br>"
            ]
          },
          "metadata": {}
        },
        {
          "output_type": "display_data",
          "data": {
            "text/plain": [
              "<IPython.core.display.HTML object>"
            ],
            "text/html": [
              " View project at <a href='https://wandb.ai/ms-hate-life-/encoder_runs' target=\"_blank\">https://wandb.ai/ms-hate-life-/encoder_runs</a>"
            ]
          },
          "metadata": {}
        },
        {
          "output_type": "display_data",
          "data": {
            "text/plain": [
              "<IPython.core.display.HTML object>"
            ],
            "text/html": [
              " View run at <a href='https://wandb.ai/ms-hate-life-/encoder_runs/runs/wsssbi9g' target=\"_blank\">https://wandb.ai/ms-hate-life-/encoder_runs/runs/wsssbi9g</a>"
            ]
          },
          "metadata": {}
        },
        {
          "output_type": "stream",
          "name": "stdout",
          "text": [
            "Trial 324 finished!\n"
          ]
        },
        {
          "output_type": "display_data",
          "data": {
            "text/plain": [
              "<IPython.core.display.HTML object>"
            ],
            "text/html": []
          },
          "metadata": {}
        },
        {
          "output_type": "display_data",
          "data": {
            "text/plain": [
              "<IPython.core.display.HTML object>"
            ],
            "text/html": [
              "<br>    <style><br>        .wandb-row {<br>            display: flex;<br>            flex-direction: row;<br>            flex-wrap: wrap;<br>            justify-content: flex-start;<br>            width: 100%;<br>        }<br>        .wandb-col {<br>            display: flex;<br>            flex-direction: column;<br>            flex-basis: 100%;<br>            flex: 1;<br>            padding: 10px;<br>        }<br>    </style><br><div class=\"wandb-row\"><div class=\"wandb-col\"><h3>Run history:</h3><br/><table class=\"wandb\"><tr><td>peck_edible</td><td>█▁▁████▁▁▁▁████▁███▁▁██▁█▁█▁▁▁█▁▁██▁██▁█</td></tr><tr><td>second_order_similarity</td><td>▁</td></tr></table><br/></div><div class=\"wandb-col\"><h3>Run summary:</h3><br/><table class=\"wandb\"><tr><td>peck_edible</td><td>1</td></tr><tr><td>second_order_similarity</td><td>0.82602</td></tr></table><br/></div></div>"
            ]
          },
          "metadata": {}
        },
        {
          "output_type": "display_data",
          "data": {
            "text/plain": [
              "<IPython.core.display.HTML object>"
            ],
            "text/html": [
              " View run <strong style=\"color:#cdcd00\">test_rerunning</strong> at: <a href='https://wandb.ai/ms-hate-life-/encoder_runs/runs/wsssbi9g' target=\"_blank\">https://wandb.ai/ms-hate-life-/encoder_runs/runs/wsssbi9g</a><br> View project at: <a href='https://wandb.ai/ms-hate-life-/encoder_runs' target=\"_blank\">https://wandb.ai/ms-hate-life-/encoder_runs</a><br>Synced 5 W&B file(s), 0 media file(s), 0 artifact file(s) and 0 other file(s)"
            ]
          },
          "metadata": {}
        },
        {
          "output_type": "display_data",
          "data": {
            "text/plain": [
              "<IPython.core.display.HTML object>"
            ],
            "text/html": [
              "Find logs at: <code>./wandb/run-20250516_230708-wsssbi9g/logs</code>"
            ]
          },
          "metadata": {}
        },
        {
          "output_type": "display_data",
          "data": {
            "text/plain": [
              "<IPython.core.display.HTML object>"
            ],
            "text/html": [
              "Tracking run with wandb version 0.19.11"
            ]
          },
          "metadata": {}
        },
        {
          "output_type": "display_data",
          "data": {
            "text/plain": [
              "<IPython.core.display.HTML object>"
            ],
            "text/html": [
              "Run data is saved locally in <code>/content/wandb/run-20250516_230726-co9tozzo</code>"
            ]
          },
          "metadata": {}
        },
        {
          "output_type": "display_data",
          "data": {
            "text/plain": [
              "<IPython.core.display.HTML object>"
            ],
            "text/html": [
              "Syncing run <strong><a href='https://wandb.ai/ms-hate-life-/encoder_runs/runs/co9tozzo' target=\"_blank\">test_rerunning</a></strong> to <a href='https://wandb.ai/ms-hate-life-/encoder_runs' target=\"_blank\">Weights & Biases</a> (<a href='https://wandb.me/developer-guide' target=\"_blank\">docs</a>)<br>"
            ]
          },
          "metadata": {}
        },
        {
          "output_type": "display_data",
          "data": {
            "text/plain": [
              "<IPython.core.display.HTML object>"
            ],
            "text/html": [
              " View project at <a href='https://wandb.ai/ms-hate-life-/encoder_runs' target=\"_blank\">https://wandb.ai/ms-hate-life-/encoder_runs</a>"
            ]
          },
          "metadata": {}
        },
        {
          "output_type": "display_data",
          "data": {
            "text/plain": [
              "<IPython.core.display.HTML object>"
            ],
            "text/html": [
              " View run at <a href='https://wandb.ai/ms-hate-life-/encoder_runs/runs/co9tozzo' target=\"_blank\">https://wandb.ai/ms-hate-life-/encoder_runs/runs/co9tozzo</a>"
            ]
          },
          "metadata": {}
        },
        {
          "output_type": "stream",
          "name": "stdout",
          "text": [
            "Trial 450 finished!\n"
          ]
        },
        {
          "output_type": "display_data",
          "data": {
            "text/plain": [
              "<IPython.core.display.HTML object>"
            ],
            "text/html": []
          },
          "metadata": {}
        },
        {
          "output_type": "display_data",
          "data": {
            "text/plain": [
              "<IPython.core.display.HTML object>"
            ],
            "text/html": [
              "<br>    <style><br>        .wandb-row {<br>            display: flex;<br>            flex-direction: row;<br>            flex-wrap: wrap;<br>            justify-content: flex-start;<br>            width: 100%;<br>        }<br>        .wandb-col {<br>            display: flex;<br>            flex-direction: column;<br>            flex-basis: 100%;<br>            flex: 1;<br>            padding: 10px;<br>        }<br>    </style><br><div class=\"wandb-row\"><div class=\"wandb-col\"><h3>Run history:</h3><br/><table class=\"wandb\"><tr><td>peck_edible</td><td>████████████▁██▁█▁█████▁███▁███████▁████</td></tr><tr><td>second_order_similarity</td><td>▁</td></tr></table><br/></div><div class=\"wandb-col\"><h3>Run summary:</h3><br/><table class=\"wandb\"><tr><td>peck_edible</td><td>1</td></tr><tr><td>second_order_similarity</td><td>0.82506</td></tr></table><br/></div></div>"
            ]
          },
          "metadata": {}
        },
        {
          "output_type": "display_data",
          "data": {
            "text/plain": [
              "<IPython.core.display.HTML object>"
            ],
            "text/html": [
              " View run <strong style=\"color:#cdcd00\">test_rerunning</strong> at: <a href='https://wandb.ai/ms-hate-life-/encoder_runs/runs/co9tozzo' target=\"_blank\">https://wandb.ai/ms-hate-life-/encoder_runs/runs/co9tozzo</a><br> View project at: <a href='https://wandb.ai/ms-hate-life-/encoder_runs' target=\"_blank\">https://wandb.ai/ms-hate-life-/encoder_runs</a><br>Synced 5 W&B file(s), 0 media file(s), 0 artifact file(s) and 0 other file(s)"
            ]
          },
          "metadata": {}
        },
        {
          "output_type": "display_data",
          "data": {
            "text/plain": [
              "<IPython.core.display.HTML object>"
            ],
            "text/html": [
              "Find logs at: <code>./wandb/run-20250516_230726-co9tozzo/logs</code>"
            ]
          },
          "metadata": {}
        },
        {
          "output_type": "display_data",
          "data": {
            "text/plain": [
              "<IPython.core.display.HTML object>"
            ],
            "text/html": [
              "Tracking run with wandb version 0.19.11"
            ]
          },
          "metadata": {}
        },
        {
          "output_type": "display_data",
          "data": {
            "text/plain": [
              "<IPython.core.display.HTML object>"
            ],
            "text/html": [
              "Run data is saved locally in <code>/content/wandb/run-20250516_230744-6m8su64k</code>"
            ]
          },
          "metadata": {}
        },
        {
          "output_type": "display_data",
          "data": {
            "text/plain": [
              "<IPython.core.display.HTML object>"
            ],
            "text/html": [
              "Syncing run <strong><a href='https://wandb.ai/ms-hate-life-/encoder_runs/runs/6m8su64k' target=\"_blank\">test_rerunning</a></strong> to <a href='https://wandb.ai/ms-hate-life-/encoder_runs' target=\"_blank\">Weights & Biases</a> (<a href='https://wandb.me/developer-guide' target=\"_blank\">docs</a>)<br>"
            ]
          },
          "metadata": {}
        },
        {
          "output_type": "display_data",
          "data": {
            "text/plain": [
              "<IPython.core.display.HTML object>"
            ],
            "text/html": [
              " View project at <a href='https://wandb.ai/ms-hate-life-/encoder_runs' target=\"_blank\">https://wandb.ai/ms-hate-life-/encoder_runs</a>"
            ]
          },
          "metadata": {}
        },
        {
          "output_type": "display_data",
          "data": {
            "text/plain": [
              "<IPython.core.display.HTML object>"
            ],
            "text/html": [
              " View run at <a href='https://wandb.ai/ms-hate-life-/encoder_runs/runs/6m8su64k' target=\"_blank\">https://wandb.ai/ms-hate-life-/encoder_runs/runs/6m8su64k</a>"
            ]
          },
          "metadata": {}
        },
        {
          "output_type": "stream",
          "name": "stdout",
          "text": [
            "Trial 397 finished!\n"
          ]
        },
        {
          "output_type": "display_data",
          "data": {
            "text/plain": [
              "<IPython.core.display.HTML object>"
            ],
            "text/html": []
          },
          "metadata": {}
        },
        {
          "output_type": "display_data",
          "data": {
            "text/plain": [
              "<IPython.core.display.HTML object>"
            ],
            "text/html": [
              "<br>    <style><br>        .wandb-row {<br>            display: flex;<br>            flex-direction: row;<br>            flex-wrap: wrap;<br>            justify-content: flex-start;<br>            width: 100%;<br>        }<br>        .wandb-col {<br>            display: flex;<br>            flex-direction: column;<br>            flex-basis: 100%;<br>            flex: 1;<br>            padding: 10px;<br>        }<br>    </style><br><div class=\"wandb-row\"><div class=\"wandb-col\"><h3>Run history:</h3><br/><table class=\"wandb\"><tr><td>peck_edible</td><td>██▁████████████████▁███▁██▁███████▁█▁▁█▁</td></tr><tr><td>second_order_similarity</td><td>▁</td></tr></table><br/></div><div class=\"wandb-col\"><h3>Run summary:</h3><br/><table class=\"wandb\"><tr><td>peck_edible</td><td>1</td></tr><tr><td>second_order_similarity</td><td>0.82363</td></tr></table><br/></div></div>"
            ]
          },
          "metadata": {}
        },
        {
          "output_type": "display_data",
          "data": {
            "text/plain": [
              "<IPython.core.display.HTML object>"
            ],
            "text/html": [
              " View run <strong style=\"color:#cdcd00\">test_rerunning</strong> at: <a href='https://wandb.ai/ms-hate-life-/encoder_runs/runs/6m8su64k' target=\"_blank\">https://wandb.ai/ms-hate-life-/encoder_runs/runs/6m8su64k</a><br> View project at: <a href='https://wandb.ai/ms-hate-life-/encoder_runs' target=\"_blank\">https://wandb.ai/ms-hate-life-/encoder_runs</a><br>Synced 5 W&B file(s), 0 media file(s), 0 artifact file(s) and 0 other file(s)"
            ]
          },
          "metadata": {}
        },
        {
          "output_type": "display_data",
          "data": {
            "text/plain": [
              "<IPython.core.display.HTML object>"
            ],
            "text/html": [
              "Find logs at: <code>./wandb/run-20250516_230744-6m8su64k/logs</code>"
            ]
          },
          "metadata": {}
        },
        {
          "output_type": "display_data",
          "data": {
            "text/plain": [
              "<IPython.core.display.HTML object>"
            ],
            "text/html": [
              "Tracking run with wandb version 0.19.11"
            ]
          },
          "metadata": {}
        },
        {
          "output_type": "display_data",
          "data": {
            "text/plain": [
              "<IPython.core.display.HTML object>"
            ],
            "text/html": [
              "Run data is saved locally in <code>/content/wandb/run-20250516_230803-7p7g1ecb</code>"
            ]
          },
          "metadata": {}
        },
        {
          "output_type": "display_data",
          "data": {
            "text/plain": [
              "<IPython.core.display.HTML object>"
            ],
            "text/html": [
              "Syncing run <strong><a href='https://wandb.ai/ms-hate-life-/encoder_runs/runs/7p7g1ecb' target=\"_blank\">test_rerunning</a></strong> to <a href='https://wandb.ai/ms-hate-life-/encoder_runs' target=\"_blank\">Weights & Biases</a> (<a href='https://wandb.me/developer-guide' target=\"_blank\">docs</a>)<br>"
            ]
          },
          "metadata": {}
        },
        {
          "output_type": "display_data",
          "data": {
            "text/plain": [
              "<IPython.core.display.HTML object>"
            ],
            "text/html": [
              " View project at <a href='https://wandb.ai/ms-hate-life-/encoder_runs' target=\"_blank\">https://wandb.ai/ms-hate-life-/encoder_runs</a>"
            ]
          },
          "metadata": {}
        },
        {
          "output_type": "display_data",
          "data": {
            "text/plain": [
              "<IPython.core.display.HTML object>"
            ],
            "text/html": [
              " View run at <a href='https://wandb.ai/ms-hate-life-/encoder_runs/runs/7p7g1ecb' target=\"_blank\">https://wandb.ai/ms-hate-life-/encoder_runs/runs/7p7g1ecb</a>"
            ]
          },
          "metadata": {}
        },
        {
          "output_type": "stream",
          "name": "stdout",
          "text": [
            "Trial 475 finished!\n"
          ]
        },
        {
          "output_type": "display_data",
          "data": {
            "text/plain": [
              "<IPython.core.display.HTML object>"
            ],
            "text/html": []
          },
          "metadata": {}
        },
        {
          "output_type": "display_data",
          "data": {
            "text/plain": [
              "<IPython.core.display.HTML object>"
            ],
            "text/html": [
              "<br>    <style><br>        .wandb-row {<br>            display: flex;<br>            flex-direction: row;<br>            flex-wrap: wrap;<br>            justify-content: flex-start;<br>            width: 100%;<br>        }<br>        .wandb-col {<br>            display: flex;<br>            flex-direction: column;<br>            flex-basis: 100%;<br>            flex: 1;<br>            padding: 10px;<br>        }<br>    </style><br><div class=\"wandb-row\"><div class=\"wandb-col\"><h3>Run history:</h3><br/><table class=\"wandb\"><tr><td>peck_edible</td><td>███▁██▁▁▁██▁██▁█▁▁▁███▁███▁█████▁█▁█▁█▁█</td></tr><tr><td>second_order_similarity</td><td>▁</td></tr></table><br/></div><div class=\"wandb-col\"><h3>Run summary:</h3><br/><table class=\"wandb\"><tr><td>peck_edible</td><td>1</td></tr><tr><td>second_order_similarity</td><td>0.82436</td></tr></table><br/></div></div>"
            ]
          },
          "metadata": {}
        },
        {
          "output_type": "display_data",
          "data": {
            "text/plain": [
              "<IPython.core.display.HTML object>"
            ],
            "text/html": [
              " View run <strong style=\"color:#cdcd00\">test_rerunning</strong> at: <a href='https://wandb.ai/ms-hate-life-/encoder_runs/runs/7p7g1ecb' target=\"_blank\">https://wandb.ai/ms-hate-life-/encoder_runs/runs/7p7g1ecb</a><br> View project at: <a href='https://wandb.ai/ms-hate-life-/encoder_runs' target=\"_blank\">https://wandb.ai/ms-hate-life-/encoder_runs</a><br>Synced 5 W&B file(s), 0 media file(s), 0 artifact file(s) and 0 other file(s)"
            ]
          },
          "metadata": {}
        },
        {
          "output_type": "display_data",
          "data": {
            "text/plain": [
              "<IPython.core.display.HTML object>"
            ],
            "text/html": [
              "Find logs at: <code>./wandb/run-20250516_230803-7p7g1ecb/logs</code>"
            ]
          },
          "metadata": {}
        },
        {
          "output_type": "display_data",
          "data": {
            "text/plain": [
              "<IPython.core.display.HTML object>"
            ],
            "text/html": [
              "Tracking run with wandb version 0.19.11"
            ]
          },
          "metadata": {}
        },
        {
          "output_type": "display_data",
          "data": {
            "text/plain": [
              "<IPython.core.display.HTML object>"
            ],
            "text/html": [
              "Run data is saved locally in <code>/content/wandb/run-20250516_230822-7ogpiin5</code>"
            ]
          },
          "metadata": {}
        },
        {
          "output_type": "display_data",
          "data": {
            "text/plain": [
              "<IPython.core.display.HTML object>"
            ],
            "text/html": [
              "Syncing run <strong><a href='https://wandb.ai/ms-hate-life-/encoder_runs/runs/7ogpiin5' target=\"_blank\">test_rerunning</a></strong> to <a href='https://wandb.ai/ms-hate-life-/encoder_runs' target=\"_blank\">Weights & Biases</a> (<a href='https://wandb.me/developer-guide' target=\"_blank\">docs</a>)<br>"
            ]
          },
          "metadata": {}
        },
        {
          "output_type": "display_data",
          "data": {
            "text/plain": [
              "<IPython.core.display.HTML object>"
            ],
            "text/html": [
              " View project at <a href='https://wandb.ai/ms-hate-life-/encoder_runs' target=\"_blank\">https://wandb.ai/ms-hate-life-/encoder_runs</a>"
            ]
          },
          "metadata": {}
        },
        {
          "output_type": "display_data",
          "data": {
            "text/plain": [
              "<IPython.core.display.HTML object>"
            ],
            "text/html": [
              " View run at <a href='https://wandb.ai/ms-hate-life-/encoder_runs/runs/7ogpiin5' target=\"_blank\">https://wandb.ai/ms-hate-life-/encoder_runs/runs/7ogpiin5</a>"
            ]
          },
          "metadata": {}
        },
        {
          "output_type": "stream",
          "name": "stdout",
          "text": [
            "Trial 387 finished!\n"
          ]
        },
        {
          "output_type": "display_data",
          "data": {
            "text/plain": [
              "<IPython.core.display.HTML object>"
            ],
            "text/html": []
          },
          "metadata": {}
        },
        {
          "output_type": "display_data",
          "data": {
            "text/plain": [
              "<IPython.core.display.HTML object>"
            ],
            "text/html": [
              "<br>    <style><br>        .wandb-row {<br>            display: flex;<br>            flex-direction: row;<br>            flex-wrap: wrap;<br>            justify-content: flex-start;<br>            width: 100%;<br>        }<br>        .wandb-col {<br>            display: flex;<br>            flex-direction: column;<br>            flex-basis: 100%;<br>            flex: 1;<br>            padding: 10px;<br>        }<br>    </style><br><div class=\"wandb-row\"><div class=\"wandb-col\"><h3>Run history:</h3><br/><table class=\"wandb\"><tr><td>peck_edible</td><td>█▁▁███████▁████▁▁▁██████████▁███████████</td></tr><tr><td>second_order_similarity</td><td>▁</td></tr></table><br/></div><div class=\"wandb-col\"><h3>Run summary:</h3><br/><table class=\"wandb\"><tr><td>peck_edible</td><td>1</td></tr><tr><td>second_order_similarity</td><td>0.82737</td></tr></table><br/></div></div>"
            ]
          },
          "metadata": {}
        },
        {
          "output_type": "display_data",
          "data": {
            "text/plain": [
              "<IPython.core.display.HTML object>"
            ],
            "text/html": [
              " View run <strong style=\"color:#cdcd00\">test_rerunning</strong> at: <a href='https://wandb.ai/ms-hate-life-/encoder_runs/runs/7ogpiin5' target=\"_blank\">https://wandb.ai/ms-hate-life-/encoder_runs/runs/7ogpiin5</a><br> View project at: <a href='https://wandb.ai/ms-hate-life-/encoder_runs' target=\"_blank\">https://wandb.ai/ms-hate-life-/encoder_runs</a><br>Synced 5 W&B file(s), 0 media file(s), 0 artifact file(s) and 0 other file(s)"
            ]
          },
          "metadata": {}
        },
        {
          "output_type": "display_data",
          "data": {
            "text/plain": [
              "<IPython.core.display.HTML object>"
            ],
            "text/html": [
              "Find logs at: <code>./wandb/run-20250516_230822-7ogpiin5/logs</code>"
            ]
          },
          "metadata": {}
        },
        {
          "output_type": "display_data",
          "data": {
            "text/plain": [
              "<IPython.core.display.HTML object>"
            ],
            "text/html": [
              "Tracking run with wandb version 0.19.11"
            ]
          },
          "metadata": {}
        },
        {
          "output_type": "display_data",
          "data": {
            "text/plain": [
              "<IPython.core.display.HTML object>"
            ],
            "text/html": [
              "Run data is saved locally in <code>/content/wandb/run-20250516_230850-crzcdlc8</code>"
            ]
          },
          "metadata": {}
        },
        {
          "output_type": "display_data",
          "data": {
            "text/plain": [
              "<IPython.core.display.HTML object>"
            ],
            "text/html": [
              "Syncing run <strong><a href='https://wandb.ai/ms-hate-life-/encoder_runs/runs/crzcdlc8' target=\"_blank\">test_rerunning</a></strong> to <a href='https://wandb.ai/ms-hate-life-/encoder_runs' target=\"_blank\">Weights & Biases</a> (<a href='https://wandb.me/developer-guide' target=\"_blank\">docs</a>)<br>"
            ]
          },
          "metadata": {}
        },
        {
          "output_type": "display_data",
          "data": {
            "text/plain": [
              "<IPython.core.display.HTML object>"
            ],
            "text/html": [
              " View project at <a href='https://wandb.ai/ms-hate-life-/encoder_runs' target=\"_blank\">https://wandb.ai/ms-hate-life-/encoder_runs</a>"
            ]
          },
          "metadata": {}
        },
        {
          "output_type": "display_data",
          "data": {
            "text/plain": [
              "<IPython.core.display.HTML object>"
            ],
            "text/html": [
              " View run at <a href='https://wandb.ai/ms-hate-life-/encoder_runs/runs/crzcdlc8' target=\"_blank\">https://wandb.ai/ms-hate-life-/encoder_runs/runs/crzcdlc8</a>"
            ]
          },
          "metadata": {}
        },
        {
          "output_type": "stream",
          "name": "stdout",
          "text": [
            "Trial 368 finished!\n"
          ]
        },
        {
          "output_type": "display_data",
          "data": {
            "text/plain": [
              "<IPython.core.display.HTML object>"
            ],
            "text/html": []
          },
          "metadata": {}
        },
        {
          "output_type": "display_data",
          "data": {
            "text/plain": [
              "<IPython.core.display.HTML object>"
            ],
            "text/html": [
              "<br>    <style><br>        .wandb-row {<br>            display: flex;<br>            flex-direction: row;<br>            flex-wrap: wrap;<br>            justify-content: flex-start;<br>            width: 100%;<br>        }<br>        .wandb-col {<br>            display: flex;<br>            flex-direction: column;<br>            flex-basis: 100%;<br>            flex: 1;<br>            padding: 10px;<br>        }<br>    </style><br><div class=\"wandb-row\"><div class=\"wandb-col\"><h3>Run history:</h3><br/><table class=\"wandb\"><tr><td>peck_edible</td><td>█████████▁████▁█▁█▁█▁████▁███▁██▁█▁▁▁██▁</td></tr><tr><td>second_order_similarity</td><td>▁</td></tr></table><br/></div><div class=\"wandb-col\"><h3>Run summary:</h3><br/><table class=\"wandb\"><tr><td>peck_edible</td><td>1</td></tr><tr><td>second_order_similarity</td><td>0.82474</td></tr></table><br/></div></div>"
            ]
          },
          "metadata": {}
        },
        {
          "output_type": "display_data",
          "data": {
            "text/plain": [
              "<IPython.core.display.HTML object>"
            ],
            "text/html": [
              " View run <strong style=\"color:#cdcd00\">test_rerunning</strong> at: <a href='https://wandb.ai/ms-hate-life-/encoder_runs/runs/crzcdlc8' target=\"_blank\">https://wandb.ai/ms-hate-life-/encoder_runs/runs/crzcdlc8</a><br> View project at: <a href='https://wandb.ai/ms-hate-life-/encoder_runs' target=\"_blank\">https://wandb.ai/ms-hate-life-/encoder_runs</a><br>Synced 5 W&B file(s), 0 media file(s), 0 artifact file(s) and 0 other file(s)"
            ]
          },
          "metadata": {}
        },
        {
          "output_type": "display_data",
          "data": {
            "text/plain": [
              "<IPython.core.display.HTML object>"
            ],
            "text/html": [
              "Find logs at: <code>./wandb/run-20250516_230850-crzcdlc8/logs</code>"
            ]
          },
          "metadata": {}
        },
        {
          "output_type": "display_data",
          "data": {
            "text/plain": [
              "<IPython.core.display.HTML object>"
            ],
            "text/html": [
              "Tracking run with wandb version 0.19.11"
            ]
          },
          "metadata": {}
        },
        {
          "output_type": "display_data",
          "data": {
            "text/plain": [
              "<IPython.core.display.HTML object>"
            ],
            "text/html": [
              "Run data is saved locally in <code>/content/wandb/run-20250516_230927-fmz9mavz</code>"
            ]
          },
          "metadata": {}
        },
        {
          "output_type": "display_data",
          "data": {
            "text/plain": [
              "<IPython.core.display.HTML object>"
            ],
            "text/html": [
              "Syncing run <strong><a href='https://wandb.ai/ms-hate-life-/encoder_runs/runs/fmz9mavz' target=\"_blank\">test_rerunning</a></strong> to <a href='https://wandb.ai/ms-hate-life-/encoder_runs' target=\"_blank\">Weights & Biases</a> (<a href='https://wandb.me/developer-guide' target=\"_blank\">docs</a>)<br>"
            ]
          },
          "metadata": {}
        },
        {
          "output_type": "display_data",
          "data": {
            "text/plain": [
              "<IPython.core.display.HTML object>"
            ],
            "text/html": [
              " View project at <a href='https://wandb.ai/ms-hate-life-/encoder_runs' target=\"_blank\">https://wandb.ai/ms-hate-life-/encoder_runs</a>"
            ]
          },
          "metadata": {}
        },
        {
          "output_type": "display_data",
          "data": {
            "text/plain": [
              "<IPython.core.display.HTML object>"
            ],
            "text/html": [
              " View run at <a href='https://wandb.ai/ms-hate-life-/encoder_runs/runs/fmz9mavz' target=\"_blank\">https://wandb.ai/ms-hate-life-/encoder_runs/runs/fmz9mavz</a>"
            ]
          },
          "metadata": {}
        },
        {
          "output_type": "stream",
          "name": "stdout",
          "text": [
            "Trial 324 finished!\n"
          ]
        },
        {
          "output_type": "display_data",
          "data": {
            "text/plain": [
              "<IPython.core.display.HTML object>"
            ],
            "text/html": []
          },
          "metadata": {}
        },
        {
          "output_type": "display_data",
          "data": {
            "text/plain": [
              "<IPython.core.display.HTML object>"
            ],
            "text/html": [
              "<br>    <style><br>        .wandb-row {<br>            display: flex;<br>            flex-direction: row;<br>            flex-wrap: wrap;<br>            justify-content: flex-start;<br>            width: 100%;<br>        }<br>        .wandb-col {<br>            display: flex;<br>            flex-direction: column;<br>            flex-basis: 100%;<br>            flex: 1;<br>            padding: 10px;<br>        }<br>    </style><br><div class=\"wandb-row\"><div class=\"wandb-col\"><h3>Run history:</h3><br/><table class=\"wandb\"><tr><td>peck_edible</td><td>██▁██▁████▁█▁▁▁██▁███▁████▁█▁▁█▁▁██▁███▁</td></tr><tr><td>second_order_similarity</td><td>▁</td></tr></table><br/></div><div class=\"wandb-col\"><h3>Run summary:</h3><br/><table class=\"wandb\"><tr><td>peck_edible</td><td>1</td></tr><tr><td>second_order_similarity</td><td>0.82468</td></tr></table><br/></div></div>"
            ]
          },
          "metadata": {}
        },
        {
          "output_type": "display_data",
          "data": {
            "text/plain": [
              "<IPython.core.display.HTML object>"
            ],
            "text/html": [
              " View run <strong style=\"color:#cdcd00\">test_rerunning</strong> at: <a href='https://wandb.ai/ms-hate-life-/encoder_runs/runs/fmz9mavz' target=\"_blank\">https://wandb.ai/ms-hate-life-/encoder_runs/runs/fmz9mavz</a><br> View project at: <a href='https://wandb.ai/ms-hate-life-/encoder_runs' target=\"_blank\">https://wandb.ai/ms-hate-life-/encoder_runs</a><br>Synced 5 W&B file(s), 0 media file(s), 0 artifact file(s) and 0 other file(s)"
            ]
          },
          "metadata": {}
        },
        {
          "output_type": "display_data",
          "data": {
            "text/plain": [
              "<IPython.core.display.HTML object>"
            ],
            "text/html": [
              "Find logs at: <code>./wandb/run-20250516_230927-fmz9mavz/logs</code>"
            ]
          },
          "metadata": {}
        },
        {
          "output_type": "display_data",
          "data": {
            "text/plain": [
              "<IPython.core.display.HTML object>"
            ],
            "text/html": [
              "Tracking run with wandb version 0.19.11"
            ]
          },
          "metadata": {}
        },
        {
          "output_type": "display_data",
          "data": {
            "text/plain": [
              "<IPython.core.display.HTML object>"
            ],
            "text/html": [
              "Run data is saved locally in <code>/content/wandb/run-20250516_230953-42m7q835</code>"
            ]
          },
          "metadata": {}
        },
        {
          "output_type": "display_data",
          "data": {
            "text/plain": [
              "<IPython.core.display.HTML object>"
            ],
            "text/html": [
              "Syncing run <strong><a href='https://wandb.ai/ms-hate-life-/encoder_runs/runs/42m7q835' target=\"_blank\">test_rerunning</a></strong> to <a href='https://wandb.ai/ms-hate-life-/encoder_runs' target=\"_blank\">Weights & Biases</a> (<a href='https://wandb.me/developer-guide' target=\"_blank\">docs</a>)<br>"
            ]
          },
          "metadata": {}
        },
        {
          "output_type": "display_data",
          "data": {
            "text/plain": [
              "<IPython.core.display.HTML object>"
            ],
            "text/html": [
              " View project at <a href='https://wandb.ai/ms-hate-life-/encoder_runs' target=\"_blank\">https://wandb.ai/ms-hate-life-/encoder_runs</a>"
            ]
          },
          "metadata": {}
        },
        {
          "output_type": "display_data",
          "data": {
            "text/plain": [
              "<IPython.core.display.HTML object>"
            ],
            "text/html": [
              " View run at <a href='https://wandb.ai/ms-hate-life-/encoder_runs/runs/42m7q835' target=\"_blank\">https://wandb.ai/ms-hate-life-/encoder_runs/runs/42m7q835</a>"
            ]
          },
          "metadata": {}
        },
        {
          "output_type": "stream",
          "name": "stdout",
          "text": [
            "Trial 278 finished!\n"
          ]
        },
        {
          "output_type": "display_data",
          "data": {
            "text/plain": [
              "<IPython.core.display.HTML object>"
            ],
            "text/html": []
          },
          "metadata": {}
        },
        {
          "output_type": "display_data",
          "data": {
            "text/plain": [
              "<IPython.core.display.HTML object>"
            ],
            "text/html": [
              "<br>    <style><br>        .wandb-row {<br>            display: flex;<br>            flex-direction: row;<br>            flex-wrap: wrap;<br>            justify-content: flex-start;<br>            width: 100%;<br>        }<br>        .wandb-col {<br>            display: flex;<br>            flex-direction: column;<br>            flex-basis: 100%;<br>            flex: 1;<br>            padding: 10px;<br>        }<br>    </style><br><div class=\"wandb-row\"><div class=\"wandb-col\"><h3>Run history:</h3><br/><table class=\"wandb\"><tr><td>peck_edible</td><td>████▁█▁█▁████████▁█▁▁██▁▁▁▁███████▁█████</td></tr><tr><td>second_order_similarity</td><td>▁</td></tr></table><br/></div><div class=\"wandb-col\"><h3>Run summary:</h3><br/><table class=\"wandb\"><tr><td>peck_edible</td><td>0</td></tr><tr><td>second_order_similarity</td><td>0.82429</td></tr></table><br/></div></div>"
            ]
          },
          "metadata": {}
        },
        {
          "output_type": "display_data",
          "data": {
            "text/plain": [
              "<IPython.core.display.HTML object>"
            ],
            "text/html": [
              " View run <strong style=\"color:#cdcd00\">test_rerunning</strong> at: <a href='https://wandb.ai/ms-hate-life-/encoder_runs/runs/42m7q835' target=\"_blank\">https://wandb.ai/ms-hate-life-/encoder_runs/runs/42m7q835</a><br> View project at: <a href='https://wandb.ai/ms-hate-life-/encoder_runs' target=\"_blank\">https://wandb.ai/ms-hate-life-/encoder_runs</a><br>Synced 5 W&B file(s), 0 media file(s), 0 artifact file(s) and 0 other file(s)"
            ]
          },
          "metadata": {}
        },
        {
          "output_type": "display_data",
          "data": {
            "text/plain": [
              "<IPython.core.display.HTML object>"
            ],
            "text/html": [
              "Find logs at: <code>./wandb/run-20250516_230953-42m7q835/logs</code>"
            ]
          },
          "metadata": {}
        },
        {
          "output_type": "display_data",
          "data": {
            "text/plain": [
              "<IPython.core.display.HTML object>"
            ],
            "text/html": [
              "Tracking run with wandb version 0.19.11"
            ]
          },
          "metadata": {}
        },
        {
          "output_type": "display_data",
          "data": {
            "text/plain": [
              "<IPython.core.display.HTML object>"
            ],
            "text/html": [
              "Run data is saved locally in <code>/content/wandb/run-20250516_231012-0w9lndfp</code>"
            ]
          },
          "metadata": {}
        },
        {
          "output_type": "display_data",
          "data": {
            "text/plain": [
              "<IPython.core.display.HTML object>"
            ],
            "text/html": [
              "Syncing run <strong><a href='https://wandb.ai/ms-hate-life-/encoder_runs/runs/0w9lndfp' target=\"_blank\">test_rerunning</a></strong> to <a href='https://wandb.ai/ms-hate-life-/encoder_runs' target=\"_blank\">Weights & Biases</a> (<a href='https://wandb.me/developer-guide' target=\"_blank\">docs</a>)<br>"
            ]
          },
          "metadata": {}
        },
        {
          "output_type": "display_data",
          "data": {
            "text/plain": [
              "<IPython.core.display.HTML object>"
            ],
            "text/html": [
              " View project at <a href='https://wandb.ai/ms-hate-life-/encoder_runs' target=\"_blank\">https://wandb.ai/ms-hate-life-/encoder_runs</a>"
            ]
          },
          "metadata": {}
        },
        {
          "output_type": "display_data",
          "data": {
            "text/plain": [
              "<IPython.core.display.HTML object>"
            ],
            "text/html": [
              " View run at <a href='https://wandb.ai/ms-hate-life-/encoder_runs/runs/0w9lndfp' target=\"_blank\">https://wandb.ai/ms-hate-life-/encoder_runs/runs/0w9lndfp</a>"
            ]
          },
          "metadata": {}
        },
        {
          "output_type": "stream",
          "name": "stdout",
          "text": [
            "Trial 327 finished!\n"
          ]
        },
        {
          "output_type": "display_data",
          "data": {
            "text/plain": [
              "<IPython.core.display.HTML object>"
            ],
            "text/html": []
          },
          "metadata": {}
        },
        {
          "output_type": "display_data",
          "data": {
            "text/plain": [
              "<IPython.core.display.HTML object>"
            ],
            "text/html": [
              "<br>    <style><br>        .wandb-row {<br>            display: flex;<br>            flex-direction: row;<br>            flex-wrap: wrap;<br>            justify-content: flex-start;<br>            width: 100%;<br>        }<br>        .wandb-col {<br>            display: flex;<br>            flex-direction: column;<br>            flex-basis: 100%;<br>            flex: 1;<br>            padding: 10px;<br>        }<br>    </style><br><div class=\"wandb-row\"><div class=\"wandb-col\"><h3>Run history:</h3><br/><table class=\"wandb\"><tr><td>peck_edible</td><td>▁▁██████▁▁█████████▁██████▁█▁█▁███▁███▁█</td></tr><tr><td>second_order_similarity</td><td>▁</td></tr></table><br/></div><div class=\"wandb-col\"><h3>Run summary:</h3><br/><table class=\"wandb\"><tr><td>peck_edible</td><td>1</td></tr><tr><td>second_order_similarity</td><td>0.82492</td></tr></table><br/></div></div>"
            ]
          },
          "metadata": {}
        },
        {
          "output_type": "display_data",
          "data": {
            "text/plain": [
              "<IPython.core.display.HTML object>"
            ],
            "text/html": [
              " View run <strong style=\"color:#cdcd00\">test_rerunning</strong> at: <a href='https://wandb.ai/ms-hate-life-/encoder_runs/runs/0w9lndfp' target=\"_blank\">https://wandb.ai/ms-hate-life-/encoder_runs/runs/0w9lndfp</a><br> View project at: <a href='https://wandb.ai/ms-hate-life-/encoder_runs' target=\"_blank\">https://wandb.ai/ms-hate-life-/encoder_runs</a><br>Synced 5 W&B file(s), 0 media file(s), 0 artifact file(s) and 0 other file(s)"
            ]
          },
          "metadata": {}
        },
        {
          "output_type": "display_data",
          "data": {
            "text/plain": [
              "<IPython.core.display.HTML object>"
            ],
            "text/html": [
              "Find logs at: <code>./wandb/run-20250516_231012-0w9lndfp/logs</code>"
            ]
          },
          "metadata": {}
        },
        {
          "output_type": "display_data",
          "data": {
            "text/plain": [
              "<IPython.core.display.HTML object>"
            ],
            "text/html": [
              "Tracking run with wandb version 0.19.11"
            ]
          },
          "metadata": {}
        },
        {
          "output_type": "display_data",
          "data": {
            "text/plain": [
              "<IPython.core.display.HTML object>"
            ],
            "text/html": [
              "Run data is saved locally in <code>/content/wandb/run-20250516_231031-eatjpi2x</code>"
            ]
          },
          "metadata": {}
        },
        {
          "output_type": "display_data",
          "data": {
            "text/plain": [
              "<IPython.core.display.HTML object>"
            ],
            "text/html": [
              "Syncing run <strong><a href='https://wandb.ai/ms-hate-life-/encoder_runs/runs/eatjpi2x' target=\"_blank\">test_rerunning</a></strong> to <a href='https://wandb.ai/ms-hate-life-/encoder_runs' target=\"_blank\">Weights & Biases</a> (<a href='https://wandb.me/developer-guide' target=\"_blank\">docs</a>)<br>"
            ]
          },
          "metadata": {}
        },
        {
          "output_type": "display_data",
          "data": {
            "text/plain": [
              "<IPython.core.display.HTML object>"
            ],
            "text/html": [
              " View project at <a href='https://wandb.ai/ms-hate-life-/encoder_runs' target=\"_blank\">https://wandb.ai/ms-hate-life-/encoder_runs</a>"
            ]
          },
          "metadata": {}
        },
        {
          "output_type": "display_data",
          "data": {
            "text/plain": [
              "<IPython.core.display.HTML object>"
            ],
            "text/html": [
              " View run at <a href='https://wandb.ai/ms-hate-life-/encoder_runs/runs/eatjpi2x' target=\"_blank\">https://wandb.ai/ms-hate-life-/encoder_runs/runs/eatjpi2x</a>"
            ]
          },
          "metadata": {}
        },
        {
          "output_type": "stream",
          "name": "stdout",
          "text": [
            "Trial 304 finished!\n"
          ]
        },
        {
          "output_type": "display_data",
          "data": {
            "text/plain": [
              "<IPython.core.display.HTML object>"
            ],
            "text/html": []
          },
          "metadata": {}
        },
        {
          "output_type": "display_data",
          "data": {
            "text/plain": [
              "<IPython.core.display.HTML object>"
            ],
            "text/html": [
              "<br>    <style><br>        .wandb-row {<br>            display: flex;<br>            flex-direction: row;<br>            flex-wrap: wrap;<br>            justify-content: flex-start;<br>            width: 100%;<br>        }<br>        .wandb-col {<br>            display: flex;<br>            flex-direction: column;<br>            flex-basis: 100%;<br>            flex: 1;<br>            padding: 10px;<br>        }<br>    </style><br><div class=\"wandb-row\"><div class=\"wandb-col\"><h3>Run history:</h3><br/><table class=\"wandb\"><tr><td>peck_edible</td><td>▁███▁▁█████▁██▁█▁▁█▁▁▁█▁█▁███▁▁▁█▁▁███▁█</td></tr><tr><td>second_order_similarity</td><td>▁</td></tr></table><br/></div><div class=\"wandb-col\"><h3>Run summary:</h3><br/><table class=\"wandb\"><tr><td>peck_edible</td><td>0</td></tr><tr><td>second_order_similarity</td><td>0.81997</td></tr></table><br/></div></div>"
            ]
          },
          "metadata": {}
        },
        {
          "output_type": "display_data",
          "data": {
            "text/plain": [
              "<IPython.core.display.HTML object>"
            ],
            "text/html": [
              " View run <strong style=\"color:#cdcd00\">test_rerunning</strong> at: <a href='https://wandb.ai/ms-hate-life-/encoder_runs/runs/eatjpi2x' target=\"_blank\">https://wandb.ai/ms-hate-life-/encoder_runs/runs/eatjpi2x</a><br> View project at: <a href='https://wandb.ai/ms-hate-life-/encoder_runs' target=\"_blank\">https://wandb.ai/ms-hate-life-/encoder_runs</a><br>Synced 5 W&B file(s), 0 media file(s), 0 artifact file(s) and 0 other file(s)"
            ]
          },
          "metadata": {}
        },
        {
          "output_type": "display_data",
          "data": {
            "text/plain": [
              "<IPython.core.display.HTML object>"
            ],
            "text/html": [
              "Find logs at: <code>./wandb/run-20250516_231031-eatjpi2x/logs</code>"
            ]
          },
          "metadata": {}
        },
        {
          "output_type": "display_data",
          "data": {
            "text/plain": [
              "<IPython.core.display.HTML object>"
            ],
            "text/html": [
              "Tracking run with wandb version 0.19.11"
            ]
          },
          "metadata": {}
        },
        {
          "output_type": "display_data",
          "data": {
            "text/plain": [
              "<IPython.core.display.HTML object>"
            ],
            "text/html": [
              "Run data is saved locally in <code>/content/wandb/run-20250516_231050-g0fgion8</code>"
            ]
          },
          "metadata": {}
        },
        {
          "output_type": "display_data",
          "data": {
            "text/plain": [
              "<IPython.core.display.HTML object>"
            ],
            "text/html": [
              "Syncing run <strong><a href='https://wandb.ai/ms-hate-life-/encoder_runs/runs/g0fgion8' target=\"_blank\">test_rerunning</a></strong> to <a href='https://wandb.ai/ms-hate-life-/encoder_runs' target=\"_blank\">Weights & Biases</a> (<a href='https://wandb.me/developer-guide' target=\"_blank\">docs</a>)<br>"
            ]
          },
          "metadata": {}
        },
        {
          "output_type": "display_data",
          "data": {
            "text/plain": [
              "<IPython.core.display.HTML object>"
            ],
            "text/html": [
              " View project at <a href='https://wandb.ai/ms-hate-life-/encoder_runs' target=\"_blank\">https://wandb.ai/ms-hate-life-/encoder_runs</a>"
            ]
          },
          "metadata": {}
        },
        {
          "output_type": "display_data",
          "data": {
            "text/plain": [
              "<IPython.core.display.HTML object>"
            ],
            "text/html": [
              " View run at <a href='https://wandb.ai/ms-hate-life-/encoder_runs/runs/g0fgion8' target=\"_blank\">https://wandb.ai/ms-hate-life-/encoder_runs/runs/g0fgion8</a>"
            ]
          },
          "metadata": {}
        },
        {
          "output_type": "stream",
          "name": "stdout",
          "text": [
            "Trial 542 finished!\n"
          ]
        },
        {
          "output_type": "display_data",
          "data": {
            "text/plain": [
              "<IPython.core.display.HTML object>"
            ],
            "text/html": []
          },
          "metadata": {}
        },
        {
          "output_type": "display_data",
          "data": {
            "text/plain": [
              "<IPython.core.display.HTML object>"
            ],
            "text/html": [
              "<br>    <style><br>        .wandb-row {<br>            display: flex;<br>            flex-direction: row;<br>            flex-wrap: wrap;<br>            justify-content: flex-start;<br>            width: 100%;<br>        }<br>        .wandb-col {<br>            display: flex;<br>            flex-direction: column;<br>            flex-basis: 100%;<br>            flex: 1;<br>            padding: 10px;<br>        }<br>    </style><br><div class=\"wandb-row\"><div class=\"wandb-col\"><h3>Run history:</h3><br/><table class=\"wandb\"><tr><td>peck_edible</td><td>▁▁▁███████▁▁█████████████▁█████████▁████</td></tr><tr><td>second_order_similarity</td><td>▁</td></tr></table><br/></div><div class=\"wandb-col\"><h3>Run summary:</h3><br/><table class=\"wandb\"><tr><td>peck_edible</td><td>1</td></tr><tr><td>second_order_similarity</td><td>0.82502</td></tr></table><br/></div></div>"
            ]
          },
          "metadata": {}
        },
        {
          "output_type": "display_data",
          "data": {
            "text/plain": [
              "<IPython.core.display.HTML object>"
            ],
            "text/html": [
              " View run <strong style=\"color:#cdcd00\">test_rerunning</strong> at: <a href='https://wandb.ai/ms-hate-life-/encoder_runs/runs/g0fgion8' target=\"_blank\">https://wandb.ai/ms-hate-life-/encoder_runs/runs/g0fgion8</a><br> View project at: <a href='https://wandb.ai/ms-hate-life-/encoder_runs' target=\"_blank\">https://wandb.ai/ms-hate-life-/encoder_runs</a><br>Synced 5 W&B file(s), 0 media file(s), 0 artifact file(s) and 0 other file(s)"
            ]
          },
          "metadata": {}
        },
        {
          "output_type": "display_data",
          "data": {
            "text/plain": [
              "<IPython.core.display.HTML object>"
            ],
            "text/html": [
              "Find logs at: <code>./wandb/run-20250516_231050-g0fgion8/logs</code>"
            ]
          },
          "metadata": {}
        },
        {
          "output_type": "display_data",
          "data": {
            "text/plain": [
              "<IPython.core.display.HTML object>"
            ],
            "text/html": [
              "Tracking run with wandb version 0.19.11"
            ]
          },
          "metadata": {}
        },
        {
          "output_type": "display_data",
          "data": {
            "text/plain": [
              "<IPython.core.display.HTML object>"
            ],
            "text/html": [
              "Run data is saved locally in <code>/content/wandb/run-20250516_231110-k54ju0hq</code>"
            ]
          },
          "metadata": {}
        },
        {
          "output_type": "display_data",
          "data": {
            "text/plain": [
              "<IPython.core.display.HTML object>"
            ],
            "text/html": [
              "Syncing run <strong><a href='https://wandb.ai/ms-hate-life-/encoder_runs/runs/k54ju0hq' target=\"_blank\">test_rerunning</a></strong> to <a href='https://wandb.ai/ms-hate-life-/encoder_runs' target=\"_blank\">Weights & Biases</a> (<a href='https://wandb.me/developer-guide' target=\"_blank\">docs</a>)<br>"
            ]
          },
          "metadata": {}
        },
        {
          "output_type": "display_data",
          "data": {
            "text/plain": [
              "<IPython.core.display.HTML object>"
            ],
            "text/html": [
              " View project at <a href='https://wandb.ai/ms-hate-life-/encoder_runs' target=\"_blank\">https://wandb.ai/ms-hate-life-/encoder_runs</a>"
            ]
          },
          "metadata": {}
        },
        {
          "output_type": "display_data",
          "data": {
            "text/plain": [
              "<IPython.core.display.HTML object>"
            ],
            "text/html": [
              " View run at <a href='https://wandb.ai/ms-hate-life-/encoder_runs/runs/k54ju0hq' target=\"_blank\">https://wandb.ai/ms-hate-life-/encoder_runs/runs/k54ju0hq</a>"
            ]
          },
          "metadata": {}
        },
        {
          "output_type": "stream",
          "name": "stdout",
          "text": [
            "Trial 436 finished!\n"
          ]
        },
        {
          "output_type": "display_data",
          "data": {
            "text/plain": [
              "<IPython.core.display.HTML object>"
            ],
            "text/html": []
          },
          "metadata": {}
        },
        {
          "output_type": "display_data",
          "data": {
            "text/plain": [
              "<IPython.core.display.HTML object>"
            ],
            "text/html": [
              "<br>    <style><br>        .wandb-row {<br>            display: flex;<br>            flex-direction: row;<br>            flex-wrap: wrap;<br>            justify-content: flex-start;<br>            width: 100%;<br>        }<br>        .wandb-col {<br>            display: flex;<br>            flex-direction: column;<br>            flex-basis: 100%;<br>            flex: 1;<br>            padding: 10px;<br>        }<br>    </style><br><div class=\"wandb-row\"><div class=\"wandb-col\"><h3>Run history:</h3><br/><table class=\"wandb\"><tr><td>peck_edible</td><td>█▁███████▁▁█████████▁████▁███▁█████████▁</td></tr><tr><td>second_order_similarity</td><td>▁</td></tr></table><br/></div><div class=\"wandb-col\"><h3>Run summary:</h3><br/><table class=\"wandb\"><tr><td>peck_edible</td><td>0</td></tr><tr><td>second_order_similarity</td><td>0.82517</td></tr></table><br/></div></div>"
            ]
          },
          "metadata": {}
        },
        {
          "output_type": "display_data",
          "data": {
            "text/plain": [
              "<IPython.core.display.HTML object>"
            ],
            "text/html": [
              " View run <strong style=\"color:#cdcd00\">test_rerunning</strong> at: <a href='https://wandb.ai/ms-hate-life-/encoder_runs/runs/k54ju0hq' target=\"_blank\">https://wandb.ai/ms-hate-life-/encoder_runs/runs/k54ju0hq</a><br> View project at: <a href='https://wandb.ai/ms-hate-life-/encoder_runs' target=\"_blank\">https://wandb.ai/ms-hate-life-/encoder_runs</a><br>Synced 5 W&B file(s), 0 media file(s), 0 artifact file(s) and 0 other file(s)"
            ]
          },
          "metadata": {}
        },
        {
          "output_type": "display_data",
          "data": {
            "text/plain": [
              "<IPython.core.display.HTML object>"
            ],
            "text/html": [
              "Find logs at: <code>./wandb/run-20250516_231110-k54ju0hq/logs</code>"
            ]
          },
          "metadata": {}
        },
        {
          "output_type": "display_data",
          "data": {
            "text/plain": [
              "<IPython.core.display.HTML object>"
            ],
            "text/html": [
              "Tracking run with wandb version 0.19.11"
            ]
          },
          "metadata": {}
        },
        {
          "output_type": "display_data",
          "data": {
            "text/plain": [
              "<IPython.core.display.HTML object>"
            ],
            "text/html": [
              "Run data is saved locally in <code>/content/wandb/run-20250516_231129-x8n2mtky</code>"
            ]
          },
          "metadata": {}
        },
        {
          "output_type": "display_data",
          "data": {
            "text/plain": [
              "<IPython.core.display.HTML object>"
            ],
            "text/html": [
              "Syncing run <strong><a href='https://wandb.ai/ms-hate-life-/encoder_runs/runs/x8n2mtky' target=\"_blank\">test_rerunning</a></strong> to <a href='https://wandb.ai/ms-hate-life-/encoder_runs' target=\"_blank\">Weights & Biases</a> (<a href='https://wandb.me/developer-guide' target=\"_blank\">docs</a>)<br>"
            ]
          },
          "metadata": {}
        },
        {
          "output_type": "display_data",
          "data": {
            "text/plain": [
              "<IPython.core.display.HTML object>"
            ],
            "text/html": [
              " View project at <a href='https://wandb.ai/ms-hate-life-/encoder_runs' target=\"_blank\">https://wandb.ai/ms-hate-life-/encoder_runs</a>"
            ]
          },
          "metadata": {}
        },
        {
          "output_type": "display_data",
          "data": {
            "text/plain": [
              "<IPython.core.display.HTML object>"
            ],
            "text/html": [
              " View run at <a href='https://wandb.ai/ms-hate-life-/encoder_runs/runs/x8n2mtky' target=\"_blank\">https://wandb.ai/ms-hate-life-/encoder_runs/runs/x8n2mtky</a>"
            ]
          },
          "metadata": {}
        },
        {
          "output_type": "stream",
          "name": "stdout",
          "text": [
            "Trial 353 finished!\n"
          ]
        },
        {
          "output_type": "display_data",
          "data": {
            "text/plain": [
              "<IPython.core.display.HTML object>"
            ],
            "text/html": []
          },
          "metadata": {}
        },
        {
          "output_type": "display_data",
          "data": {
            "text/plain": [
              "<IPython.core.display.HTML object>"
            ],
            "text/html": [
              "<br>    <style><br>        .wandb-row {<br>            display: flex;<br>            flex-direction: row;<br>            flex-wrap: wrap;<br>            justify-content: flex-start;<br>            width: 100%;<br>        }<br>        .wandb-col {<br>            display: flex;<br>            flex-direction: column;<br>            flex-basis: 100%;<br>            flex: 1;<br>            padding: 10px;<br>        }<br>    </style><br><div class=\"wandb-row\"><div class=\"wandb-col\"><h3>Run history:</h3><br/><table class=\"wandb\"><tr><td>peck_edible</td><td>██▁███▁█▁█▁█████▁██▁███▁██████▁▁████▁█▁█</td></tr><tr><td>second_order_similarity</td><td>▁</td></tr></table><br/></div><div class=\"wandb-col\"><h3>Run summary:</h3><br/><table class=\"wandb\"><tr><td>peck_edible</td><td>0</td></tr><tr><td>second_order_similarity</td><td>0.82683</td></tr></table><br/></div></div>"
            ]
          },
          "metadata": {}
        },
        {
          "output_type": "display_data",
          "data": {
            "text/plain": [
              "<IPython.core.display.HTML object>"
            ],
            "text/html": [
              " View run <strong style=\"color:#cdcd00\">test_rerunning</strong> at: <a href='https://wandb.ai/ms-hate-life-/encoder_runs/runs/x8n2mtky' target=\"_blank\">https://wandb.ai/ms-hate-life-/encoder_runs/runs/x8n2mtky</a><br> View project at: <a href='https://wandb.ai/ms-hate-life-/encoder_runs' target=\"_blank\">https://wandb.ai/ms-hate-life-/encoder_runs</a><br>Synced 5 W&B file(s), 0 media file(s), 0 artifact file(s) and 0 other file(s)"
            ]
          },
          "metadata": {}
        },
        {
          "output_type": "display_data",
          "data": {
            "text/plain": [
              "<IPython.core.display.HTML object>"
            ],
            "text/html": [
              "Find logs at: <code>./wandb/run-20250516_231129-x8n2mtky/logs</code>"
            ]
          },
          "metadata": {}
        },
        {
          "output_type": "display_data",
          "data": {
            "text/plain": [
              "<IPython.core.display.HTML object>"
            ],
            "text/html": [
              "Tracking run with wandb version 0.19.11"
            ]
          },
          "metadata": {}
        },
        {
          "output_type": "display_data",
          "data": {
            "text/plain": [
              "<IPython.core.display.HTML object>"
            ],
            "text/html": [
              "Run data is saved locally in <code>/content/wandb/run-20250516_231149-b26nbz1d</code>"
            ]
          },
          "metadata": {}
        },
        {
          "output_type": "display_data",
          "data": {
            "text/plain": [
              "<IPython.core.display.HTML object>"
            ],
            "text/html": [
              "Syncing run <strong><a href='https://wandb.ai/ms-hate-life-/encoder_runs/runs/b26nbz1d' target=\"_blank\">test_rerunning</a></strong> to <a href='https://wandb.ai/ms-hate-life-/encoder_runs' target=\"_blank\">Weights & Biases</a> (<a href='https://wandb.me/developer-guide' target=\"_blank\">docs</a>)<br>"
            ]
          },
          "metadata": {}
        },
        {
          "output_type": "display_data",
          "data": {
            "text/plain": [
              "<IPython.core.display.HTML object>"
            ],
            "text/html": [
              " View project at <a href='https://wandb.ai/ms-hate-life-/encoder_runs' target=\"_blank\">https://wandb.ai/ms-hate-life-/encoder_runs</a>"
            ]
          },
          "metadata": {}
        },
        {
          "output_type": "display_data",
          "data": {
            "text/plain": [
              "<IPython.core.display.HTML object>"
            ],
            "text/html": [
              " View run at <a href='https://wandb.ai/ms-hate-life-/encoder_runs/runs/b26nbz1d' target=\"_blank\">https://wandb.ai/ms-hate-life-/encoder_runs/runs/b26nbz1d</a>"
            ]
          },
          "metadata": {}
        },
        {
          "output_type": "stream",
          "name": "stdout",
          "text": [
            "Trial 327 finished!\n"
          ]
        },
        {
          "output_type": "display_data",
          "data": {
            "text/plain": [
              "<IPython.core.display.HTML object>"
            ],
            "text/html": []
          },
          "metadata": {}
        },
        {
          "output_type": "display_data",
          "data": {
            "text/plain": [
              "<IPython.core.display.HTML object>"
            ],
            "text/html": [
              "<br>    <style><br>        .wandb-row {<br>            display: flex;<br>            flex-direction: row;<br>            flex-wrap: wrap;<br>            justify-content: flex-start;<br>            width: 100%;<br>        }<br>        .wandb-col {<br>            display: flex;<br>            flex-direction: column;<br>            flex-basis: 100%;<br>            flex: 1;<br>            padding: 10px;<br>        }<br>    </style><br><div class=\"wandb-row\"><div class=\"wandb-col\"><h3>Run history:</h3><br/><table class=\"wandb\"><tr><td>peck_edible</td><td>██▁█████▁█████████▁██▁█████▁▁▁▁▁██▁███▁█</td></tr><tr><td>second_order_similarity</td><td>▁</td></tr></table><br/></div><div class=\"wandb-col\"><h3>Run summary:</h3><br/><table class=\"wandb\"><tr><td>peck_edible</td><td>1</td></tr><tr><td>second_order_similarity</td><td>0.82725</td></tr></table><br/></div></div>"
            ]
          },
          "metadata": {}
        },
        {
          "output_type": "display_data",
          "data": {
            "text/plain": [
              "<IPython.core.display.HTML object>"
            ],
            "text/html": [
              " View run <strong style=\"color:#cdcd00\">test_rerunning</strong> at: <a href='https://wandb.ai/ms-hate-life-/encoder_runs/runs/b26nbz1d' target=\"_blank\">https://wandb.ai/ms-hate-life-/encoder_runs/runs/b26nbz1d</a><br> View project at: <a href='https://wandb.ai/ms-hate-life-/encoder_runs' target=\"_blank\">https://wandb.ai/ms-hate-life-/encoder_runs</a><br>Synced 5 W&B file(s), 0 media file(s), 0 artifact file(s) and 0 other file(s)"
            ]
          },
          "metadata": {}
        },
        {
          "output_type": "display_data",
          "data": {
            "text/plain": [
              "<IPython.core.display.HTML object>"
            ],
            "text/html": [
              "Find logs at: <code>./wandb/run-20250516_231149-b26nbz1d/logs</code>"
            ]
          },
          "metadata": {}
        },
        {
          "output_type": "display_data",
          "data": {
            "text/plain": [
              "<IPython.core.display.HTML object>"
            ],
            "text/html": [
              "Tracking run with wandb version 0.19.11"
            ]
          },
          "metadata": {}
        },
        {
          "output_type": "display_data",
          "data": {
            "text/plain": [
              "<IPython.core.display.HTML object>"
            ],
            "text/html": [
              "Run data is saved locally in <code>/content/wandb/run-20250516_231207-ktey7wnq</code>"
            ]
          },
          "metadata": {}
        },
        {
          "output_type": "display_data",
          "data": {
            "text/plain": [
              "<IPython.core.display.HTML object>"
            ],
            "text/html": [
              "Syncing run <strong><a href='https://wandb.ai/ms-hate-life-/encoder_runs/runs/ktey7wnq' target=\"_blank\">test_rerunning</a></strong> to <a href='https://wandb.ai/ms-hate-life-/encoder_runs' target=\"_blank\">Weights & Biases</a> (<a href='https://wandb.me/developer-guide' target=\"_blank\">docs</a>)<br>"
            ]
          },
          "metadata": {}
        },
        {
          "output_type": "display_data",
          "data": {
            "text/plain": [
              "<IPython.core.display.HTML object>"
            ],
            "text/html": [
              " View project at <a href='https://wandb.ai/ms-hate-life-/encoder_runs' target=\"_blank\">https://wandb.ai/ms-hate-life-/encoder_runs</a>"
            ]
          },
          "metadata": {}
        },
        {
          "output_type": "display_data",
          "data": {
            "text/plain": [
              "<IPython.core.display.HTML object>"
            ],
            "text/html": [
              " View run at <a href='https://wandb.ai/ms-hate-life-/encoder_runs/runs/ktey7wnq' target=\"_blank\">https://wandb.ai/ms-hate-life-/encoder_runs/runs/ktey7wnq</a>"
            ]
          },
          "metadata": {}
        },
        {
          "output_type": "stream",
          "name": "stdout",
          "text": [
            "Trial 337 finished!\n"
          ]
        },
        {
          "output_type": "display_data",
          "data": {
            "text/plain": [
              "<IPython.core.display.HTML object>"
            ],
            "text/html": []
          },
          "metadata": {}
        },
        {
          "output_type": "display_data",
          "data": {
            "text/plain": [
              "<IPython.core.display.HTML object>"
            ],
            "text/html": [
              "<br>    <style><br>        .wandb-row {<br>            display: flex;<br>            flex-direction: row;<br>            flex-wrap: wrap;<br>            justify-content: flex-start;<br>            width: 100%;<br>        }<br>        .wandb-col {<br>            display: flex;<br>            flex-direction: column;<br>            flex-basis: 100%;<br>            flex: 1;<br>            padding: 10px;<br>        }<br>    </style><br><div class=\"wandb-row\"><div class=\"wandb-col\"><h3>Run history:</h3><br/><table class=\"wandb\"><tr><td>peck_edible</td><td>████████▁███▁██▁▁▁▁████▁█████████████▁██</td></tr><tr><td>second_order_similarity</td><td>▁</td></tr></table><br/></div><div class=\"wandb-col\"><h3>Run summary:</h3><br/><table class=\"wandb\"><tr><td>peck_edible</td><td>1</td></tr><tr><td>second_order_similarity</td><td>0.82884</td></tr></table><br/></div></div>"
            ]
          },
          "metadata": {}
        },
        {
          "output_type": "display_data",
          "data": {
            "text/plain": [
              "<IPython.core.display.HTML object>"
            ],
            "text/html": [
              " View run <strong style=\"color:#cdcd00\">test_rerunning</strong> at: <a href='https://wandb.ai/ms-hate-life-/encoder_runs/runs/ktey7wnq' target=\"_blank\">https://wandb.ai/ms-hate-life-/encoder_runs/runs/ktey7wnq</a><br> View project at: <a href='https://wandb.ai/ms-hate-life-/encoder_runs' target=\"_blank\">https://wandb.ai/ms-hate-life-/encoder_runs</a><br>Synced 5 W&B file(s), 0 media file(s), 0 artifact file(s) and 0 other file(s)"
            ]
          },
          "metadata": {}
        },
        {
          "output_type": "display_data",
          "data": {
            "text/plain": [
              "<IPython.core.display.HTML object>"
            ],
            "text/html": [
              "Find logs at: <code>./wandb/run-20250516_231207-ktey7wnq/logs</code>"
            ]
          },
          "metadata": {}
        },
        {
          "output_type": "display_data",
          "data": {
            "text/plain": [
              "<IPython.core.display.HTML object>"
            ],
            "text/html": [
              "Tracking run with wandb version 0.19.11"
            ]
          },
          "metadata": {}
        },
        {
          "output_type": "display_data",
          "data": {
            "text/plain": [
              "<IPython.core.display.HTML object>"
            ],
            "text/html": [
              "Run data is saved locally in <code>/content/wandb/run-20250516_231225-ovrsabth</code>"
            ]
          },
          "metadata": {}
        },
        {
          "output_type": "display_data",
          "data": {
            "text/plain": [
              "<IPython.core.display.HTML object>"
            ],
            "text/html": [
              "Syncing run <strong><a href='https://wandb.ai/ms-hate-life-/encoder_runs/runs/ovrsabth' target=\"_blank\">test_rerunning</a></strong> to <a href='https://wandb.ai/ms-hate-life-/encoder_runs' target=\"_blank\">Weights & Biases</a> (<a href='https://wandb.me/developer-guide' target=\"_blank\">docs</a>)<br>"
            ]
          },
          "metadata": {}
        },
        {
          "output_type": "display_data",
          "data": {
            "text/plain": [
              "<IPython.core.display.HTML object>"
            ],
            "text/html": [
              " View project at <a href='https://wandb.ai/ms-hate-life-/encoder_runs' target=\"_blank\">https://wandb.ai/ms-hate-life-/encoder_runs</a>"
            ]
          },
          "metadata": {}
        },
        {
          "output_type": "display_data",
          "data": {
            "text/plain": [
              "<IPython.core.display.HTML object>"
            ],
            "text/html": [
              " View run at <a href='https://wandb.ai/ms-hate-life-/encoder_runs/runs/ovrsabth' target=\"_blank\">https://wandb.ai/ms-hate-life-/encoder_runs/runs/ovrsabth</a>"
            ]
          },
          "metadata": {}
        },
        {
          "output_type": "stream",
          "name": "stdout",
          "text": [
            "Trial 327 finished!\n"
          ]
        },
        {
          "output_type": "display_data",
          "data": {
            "text/plain": [
              "<IPython.core.display.HTML object>"
            ],
            "text/html": []
          },
          "metadata": {}
        },
        {
          "output_type": "display_data",
          "data": {
            "text/plain": [
              "<IPython.core.display.HTML object>"
            ],
            "text/html": [
              "<br>    <style><br>        .wandb-row {<br>            display: flex;<br>            flex-direction: row;<br>            flex-wrap: wrap;<br>            justify-content: flex-start;<br>            width: 100%;<br>        }<br>        .wandb-col {<br>            display: flex;<br>            flex-direction: column;<br>            flex-basis: 100%;<br>            flex: 1;<br>            padding: 10px;<br>        }<br>    </style><br><div class=\"wandb-row\"><div class=\"wandb-col\"><h3>Run history:</h3><br/><table class=\"wandb\"><tr><td>peck_edible</td><td>▁█▁▁████▁███████▁▁█▁██▁██████████▁█▁█▁▁█</td></tr><tr><td>second_order_similarity</td><td>▁</td></tr></table><br/></div><div class=\"wandb-col\"><h3>Run summary:</h3><br/><table class=\"wandb\"><tr><td>peck_edible</td><td>1</td></tr><tr><td>second_order_similarity</td><td>0.8246</td></tr></table><br/></div></div>"
            ]
          },
          "metadata": {}
        },
        {
          "output_type": "display_data",
          "data": {
            "text/plain": [
              "<IPython.core.display.HTML object>"
            ],
            "text/html": [
              " View run <strong style=\"color:#cdcd00\">test_rerunning</strong> at: <a href='https://wandb.ai/ms-hate-life-/encoder_runs/runs/ovrsabth' target=\"_blank\">https://wandb.ai/ms-hate-life-/encoder_runs/runs/ovrsabth</a><br> View project at: <a href='https://wandb.ai/ms-hate-life-/encoder_runs' target=\"_blank\">https://wandb.ai/ms-hate-life-/encoder_runs</a><br>Synced 5 W&B file(s), 0 media file(s), 0 artifact file(s) and 0 other file(s)"
            ]
          },
          "metadata": {}
        },
        {
          "output_type": "display_data",
          "data": {
            "text/plain": [
              "<IPython.core.display.HTML object>"
            ],
            "text/html": [
              "Find logs at: <code>./wandb/run-20250516_231225-ovrsabth/logs</code>"
            ]
          },
          "metadata": {}
        },
        {
          "output_type": "display_data",
          "data": {
            "text/plain": [
              "<IPython.core.display.HTML object>"
            ],
            "text/html": [
              "Tracking run with wandb version 0.19.11"
            ]
          },
          "metadata": {}
        },
        {
          "output_type": "display_data",
          "data": {
            "text/plain": [
              "<IPython.core.display.HTML object>"
            ],
            "text/html": [
              "Run data is saved locally in <code>/content/wandb/run-20250516_231244-h4nn58k4</code>"
            ]
          },
          "metadata": {}
        },
        {
          "output_type": "display_data",
          "data": {
            "text/plain": [
              "<IPython.core.display.HTML object>"
            ],
            "text/html": [
              "Syncing run <strong><a href='https://wandb.ai/ms-hate-life-/encoder_runs/runs/h4nn58k4' target=\"_blank\">test_rerunning</a></strong> to <a href='https://wandb.ai/ms-hate-life-/encoder_runs' target=\"_blank\">Weights & Biases</a> (<a href='https://wandb.me/developer-guide' target=\"_blank\">docs</a>)<br>"
            ]
          },
          "metadata": {}
        },
        {
          "output_type": "display_data",
          "data": {
            "text/plain": [
              "<IPython.core.display.HTML object>"
            ],
            "text/html": [
              " View project at <a href='https://wandb.ai/ms-hate-life-/encoder_runs' target=\"_blank\">https://wandb.ai/ms-hate-life-/encoder_runs</a>"
            ]
          },
          "metadata": {}
        },
        {
          "output_type": "display_data",
          "data": {
            "text/plain": [
              "<IPython.core.display.HTML object>"
            ],
            "text/html": [
              " View run at <a href='https://wandb.ai/ms-hate-life-/encoder_runs/runs/h4nn58k4' target=\"_blank\">https://wandb.ai/ms-hate-life-/encoder_runs/runs/h4nn58k4</a>"
            ]
          },
          "metadata": {}
        },
        {
          "output_type": "stream",
          "name": "stdout",
          "text": [
            "Trial 377 finished!\n"
          ]
        },
        {
          "output_type": "display_data",
          "data": {
            "text/plain": [
              "<IPython.core.display.HTML object>"
            ],
            "text/html": []
          },
          "metadata": {}
        },
        {
          "output_type": "display_data",
          "data": {
            "text/plain": [
              "<IPython.core.display.HTML object>"
            ],
            "text/html": [
              "<br>    <style><br>        .wandb-row {<br>            display: flex;<br>            flex-direction: row;<br>            flex-wrap: wrap;<br>            justify-content: flex-start;<br>            width: 100%;<br>        }<br>        .wandb-col {<br>            display: flex;<br>            flex-direction: column;<br>            flex-basis: 100%;<br>            flex: 1;<br>            padding: 10px;<br>        }<br>    </style><br><div class=\"wandb-row\"><div class=\"wandb-col\"><h3>Run history:</h3><br/><table class=\"wandb\"><tr><td>peck_edible</td><td>███▁████▁█▁████▁███████▁█████▁█▁▁██▁███▁</td></tr><tr><td>second_order_similarity</td><td>▁</td></tr></table><br/></div><div class=\"wandb-col\"><h3>Run summary:</h3><br/><table class=\"wandb\"><tr><td>peck_edible</td><td>0</td></tr><tr><td>second_order_similarity</td><td>0.82758</td></tr></table><br/></div></div>"
            ]
          },
          "metadata": {}
        },
        {
          "output_type": "display_data",
          "data": {
            "text/plain": [
              "<IPython.core.display.HTML object>"
            ],
            "text/html": [
              " View run <strong style=\"color:#cdcd00\">test_rerunning</strong> at: <a href='https://wandb.ai/ms-hate-life-/encoder_runs/runs/h4nn58k4' target=\"_blank\">https://wandb.ai/ms-hate-life-/encoder_runs/runs/h4nn58k4</a><br> View project at: <a href='https://wandb.ai/ms-hate-life-/encoder_runs' target=\"_blank\">https://wandb.ai/ms-hate-life-/encoder_runs</a><br>Synced 5 W&B file(s), 0 media file(s), 0 artifact file(s) and 0 other file(s)"
            ]
          },
          "metadata": {}
        },
        {
          "output_type": "display_data",
          "data": {
            "text/plain": [
              "<IPython.core.display.HTML object>"
            ],
            "text/html": [
              "Find logs at: <code>./wandb/run-20250516_231244-h4nn58k4/logs</code>"
            ]
          },
          "metadata": {}
        },
        {
          "output_type": "display_data",
          "data": {
            "text/plain": [
              "<IPython.core.display.HTML object>"
            ],
            "text/html": [
              "Tracking run with wandb version 0.19.11"
            ]
          },
          "metadata": {}
        },
        {
          "output_type": "display_data",
          "data": {
            "text/plain": [
              "<IPython.core.display.HTML object>"
            ],
            "text/html": [
              "Run data is saved locally in <code>/content/wandb/run-20250516_231304-6robh1ip</code>"
            ]
          },
          "metadata": {}
        },
        {
          "output_type": "display_data",
          "data": {
            "text/plain": [
              "<IPython.core.display.HTML object>"
            ],
            "text/html": [
              "Syncing run <strong><a href='https://wandb.ai/ms-hate-life-/encoder_runs/runs/6robh1ip' target=\"_blank\">test_rerunning</a></strong> to <a href='https://wandb.ai/ms-hate-life-/encoder_runs' target=\"_blank\">Weights & Biases</a> (<a href='https://wandb.me/developer-guide' target=\"_blank\">docs</a>)<br>"
            ]
          },
          "metadata": {}
        },
        {
          "output_type": "display_data",
          "data": {
            "text/plain": [
              "<IPython.core.display.HTML object>"
            ],
            "text/html": [
              " View project at <a href='https://wandb.ai/ms-hate-life-/encoder_runs' target=\"_blank\">https://wandb.ai/ms-hate-life-/encoder_runs</a>"
            ]
          },
          "metadata": {}
        },
        {
          "output_type": "display_data",
          "data": {
            "text/plain": [
              "<IPython.core.display.HTML object>"
            ],
            "text/html": [
              " View run at <a href='https://wandb.ai/ms-hate-life-/encoder_runs/runs/6robh1ip' target=\"_blank\">https://wandb.ai/ms-hate-life-/encoder_runs/runs/6robh1ip</a>"
            ]
          },
          "metadata": {}
        },
        {
          "output_type": "stream",
          "name": "stdout",
          "text": [
            "Trial 308 finished!\n"
          ]
        },
        {
          "output_type": "display_data",
          "data": {
            "text/plain": [
              "<IPython.core.display.HTML object>"
            ],
            "text/html": []
          },
          "metadata": {}
        },
        {
          "output_type": "display_data",
          "data": {
            "text/plain": [
              "<IPython.core.display.HTML object>"
            ],
            "text/html": [
              "<br>    <style><br>        .wandb-row {<br>            display: flex;<br>            flex-direction: row;<br>            flex-wrap: wrap;<br>            justify-content: flex-start;<br>            width: 100%;<br>        }<br>        .wandb-col {<br>            display: flex;<br>            flex-direction: column;<br>            flex-basis: 100%;<br>            flex: 1;<br>            padding: 10px;<br>        }<br>    </style><br><div class=\"wandb-row\"><div class=\"wandb-col\"><h3>Run history:</h3><br/><table class=\"wandb\"><tr><td>peck_edible</td><td>▁████▁████████▁███████▁██▁▁██████▁██▁▁█▁</td></tr><tr><td>second_order_similarity</td><td>▁</td></tr></table><br/></div><div class=\"wandb-col\"><h3>Run summary:</h3><br/><table class=\"wandb\"><tr><td>peck_edible</td><td>1</td></tr><tr><td>second_order_similarity</td><td>0.82537</td></tr></table><br/></div></div>"
            ]
          },
          "metadata": {}
        },
        {
          "output_type": "display_data",
          "data": {
            "text/plain": [
              "<IPython.core.display.HTML object>"
            ],
            "text/html": [
              " View run <strong style=\"color:#cdcd00\">test_rerunning</strong> at: <a href='https://wandb.ai/ms-hate-life-/encoder_runs/runs/6robh1ip' target=\"_blank\">https://wandb.ai/ms-hate-life-/encoder_runs/runs/6robh1ip</a><br> View project at: <a href='https://wandb.ai/ms-hate-life-/encoder_runs' target=\"_blank\">https://wandb.ai/ms-hate-life-/encoder_runs</a><br>Synced 5 W&B file(s), 0 media file(s), 0 artifact file(s) and 0 other file(s)"
            ]
          },
          "metadata": {}
        },
        {
          "output_type": "display_data",
          "data": {
            "text/plain": [
              "<IPython.core.display.HTML object>"
            ],
            "text/html": [
              "Find logs at: <code>./wandb/run-20250516_231304-6robh1ip/logs</code>"
            ]
          },
          "metadata": {}
        },
        {
          "output_type": "display_data",
          "data": {
            "text/plain": [
              "<IPython.core.display.HTML object>"
            ],
            "text/html": [
              "Tracking run with wandb version 0.19.11"
            ]
          },
          "metadata": {}
        },
        {
          "output_type": "display_data",
          "data": {
            "text/plain": [
              "<IPython.core.display.HTML object>"
            ],
            "text/html": [
              "Run data is saved locally in <code>/content/wandb/run-20250516_231323-a46z6r9u</code>"
            ]
          },
          "metadata": {}
        },
        {
          "output_type": "display_data",
          "data": {
            "text/plain": [
              "<IPython.core.display.HTML object>"
            ],
            "text/html": [
              "Syncing run <strong><a href='https://wandb.ai/ms-hate-life-/encoder_runs/runs/a46z6r9u' target=\"_blank\">test_rerunning</a></strong> to <a href='https://wandb.ai/ms-hate-life-/encoder_runs' target=\"_blank\">Weights & Biases</a> (<a href='https://wandb.me/developer-guide' target=\"_blank\">docs</a>)<br>"
            ]
          },
          "metadata": {}
        },
        {
          "output_type": "display_data",
          "data": {
            "text/plain": [
              "<IPython.core.display.HTML object>"
            ],
            "text/html": [
              " View project at <a href='https://wandb.ai/ms-hate-life-/encoder_runs' target=\"_blank\">https://wandb.ai/ms-hate-life-/encoder_runs</a>"
            ]
          },
          "metadata": {}
        },
        {
          "output_type": "display_data",
          "data": {
            "text/plain": [
              "<IPython.core.display.HTML object>"
            ],
            "text/html": [
              " View run at <a href='https://wandb.ai/ms-hate-life-/encoder_runs/runs/a46z6r9u' target=\"_blank\">https://wandb.ai/ms-hate-life-/encoder_runs/runs/a46z6r9u</a>"
            ]
          },
          "metadata": {}
        },
        {
          "output_type": "stream",
          "name": "stdout",
          "text": [
            "Trial 334 finished!\n"
          ]
        },
        {
          "output_type": "display_data",
          "data": {
            "text/plain": [
              "<IPython.core.display.HTML object>"
            ],
            "text/html": []
          },
          "metadata": {}
        },
        {
          "output_type": "display_data",
          "data": {
            "text/plain": [
              "<IPython.core.display.HTML object>"
            ],
            "text/html": [
              "<br>    <style><br>        .wandb-row {<br>            display: flex;<br>            flex-direction: row;<br>            flex-wrap: wrap;<br>            justify-content: flex-start;<br>            width: 100%;<br>        }<br>        .wandb-col {<br>            display: flex;<br>            flex-direction: column;<br>            flex-basis: 100%;<br>            flex: 1;<br>            padding: 10px;<br>        }<br>    </style><br><div class=\"wandb-row\"><div class=\"wandb-col\"><h3>Run history:</h3><br/><table class=\"wandb\"><tr><td>peck_edible</td><td>██████▁██████▁██▁██▁▁▁██▁█▁██████▁███▁█▁</td></tr><tr><td>second_order_similarity</td><td>▁</td></tr></table><br/></div><div class=\"wandb-col\"><h3>Run summary:</h3><br/><table class=\"wandb\"><tr><td>peck_edible</td><td>0</td></tr><tr><td>second_order_similarity</td><td>0.82725</td></tr></table><br/></div></div>"
            ]
          },
          "metadata": {}
        },
        {
          "output_type": "display_data",
          "data": {
            "text/plain": [
              "<IPython.core.display.HTML object>"
            ],
            "text/html": [
              " View run <strong style=\"color:#cdcd00\">test_rerunning</strong> at: <a href='https://wandb.ai/ms-hate-life-/encoder_runs/runs/a46z6r9u' target=\"_blank\">https://wandb.ai/ms-hate-life-/encoder_runs/runs/a46z6r9u</a><br> View project at: <a href='https://wandb.ai/ms-hate-life-/encoder_runs' target=\"_blank\">https://wandb.ai/ms-hate-life-/encoder_runs</a><br>Synced 5 W&B file(s), 0 media file(s), 0 artifact file(s) and 0 other file(s)"
            ]
          },
          "metadata": {}
        },
        {
          "output_type": "display_data",
          "data": {
            "text/plain": [
              "<IPython.core.display.HTML object>"
            ],
            "text/html": [
              "Find logs at: <code>./wandb/run-20250516_231323-a46z6r9u/logs</code>"
            ]
          },
          "metadata": {}
        },
        {
          "output_type": "display_data",
          "data": {
            "text/plain": [
              "<IPython.core.display.HTML object>"
            ],
            "text/html": [
              "Tracking run with wandb version 0.19.11"
            ]
          },
          "metadata": {}
        },
        {
          "output_type": "display_data",
          "data": {
            "text/plain": [
              "<IPython.core.display.HTML object>"
            ],
            "text/html": [
              "Run data is saved locally in <code>/content/wandb/run-20250516_231341-k60o863f</code>"
            ]
          },
          "metadata": {}
        },
        {
          "output_type": "display_data",
          "data": {
            "text/plain": [
              "<IPython.core.display.HTML object>"
            ],
            "text/html": [
              "Syncing run <strong><a href='https://wandb.ai/ms-hate-life-/encoder_runs/runs/k60o863f' target=\"_blank\">test_rerunning</a></strong> to <a href='https://wandb.ai/ms-hate-life-/encoder_runs' target=\"_blank\">Weights & Biases</a> (<a href='https://wandb.me/developer-guide' target=\"_blank\">docs</a>)<br>"
            ]
          },
          "metadata": {}
        },
        {
          "output_type": "display_data",
          "data": {
            "text/plain": [
              "<IPython.core.display.HTML object>"
            ],
            "text/html": [
              " View project at <a href='https://wandb.ai/ms-hate-life-/encoder_runs' target=\"_blank\">https://wandb.ai/ms-hate-life-/encoder_runs</a>"
            ]
          },
          "metadata": {}
        },
        {
          "output_type": "display_data",
          "data": {
            "text/plain": [
              "<IPython.core.display.HTML object>"
            ],
            "text/html": [
              " View run at <a href='https://wandb.ai/ms-hate-life-/encoder_runs/runs/k60o863f' target=\"_blank\">https://wandb.ai/ms-hate-life-/encoder_runs/runs/k60o863f</a>"
            ]
          },
          "metadata": {}
        },
        {
          "output_type": "stream",
          "name": "stdout",
          "text": [
            "Trial 364 finished!\n"
          ]
        },
        {
          "output_type": "display_data",
          "data": {
            "text/plain": [
              "<IPython.core.display.HTML object>"
            ],
            "text/html": []
          },
          "metadata": {}
        },
        {
          "output_type": "display_data",
          "data": {
            "text/plain": [
              "<IPython.core.display.HTML object>"
            ],
            "text/html": [
              "<br>    <style><br>        .wandb-row {<br>            display: flex;<br>            flex-direction: row;<br>            flex-wrap: wrap;<br>            justify-content: flex-start;<br>            width: 100%;<br>        }<br>        .wandb-col {<br>            display: flex;<br>            flex-direction: column;<br>            flex-basis: 100%;<br>            flex: 1;<br>            padding: 10px;<br>        }<br>    </style><br><div class=\"wandb-row\"><div class=\"wandb-col\"><h3>Run history:</h3><br/><table class=\"wandb\"><tr><td>peck_edible</td><td>███▁▁███████▁▁██████▁██▁███▁█████▁██▁███</td></tr><tr><td>second_order_similarity</td><td>▁</td></tr></table><br/></div><div class=\"wandb-col\"><h3>Run summary:</h3><br/><table class=\"wandb\"><tr><td>peck_edible</td><td>1</td></tr><tr><td>second_order_similarity</td><td>0.82791</td></tr></table><br/></div></div>"
            ]
          },
          "metadata": {}
        },
        {
          "output_type": "display_data",
          "data": {
            "text/plain": [
              "<IPython.core.display.HTML object>"
            ],
            "text/html": [
              " View run <strong style=\"color:#cdcd00\">test_rerunning</strong> at: <a href='https://wandb.ai/ms-hate-life-/encoder_runs/runs/k60o863f' target=\"_blank\">https://wandb.ai/ms-hate-life-/encoder_runs/runs/k60o863f</a><br> View project at: <a href='https://wandb.ai/ms-hate-life-/encoder_runs' target=\"_blank\">https://wandb.ai/ms-hate-life-/encoder_runs</a><br>Synced 5 W&B file(s), 0 media file(s), 0 artifact file(s) and 0 other file(s)"
            ]
          },
          "metadata": {}
        },
        {
          "output_type": "display_data",
          "data": {
            "text/plain": [
              "<IPython.core.display.HTML object>"
            ],
            "text/html": [
              "Find logs at: <code>./wandb/run-20250516_231341-k60o863f/logs</code>"
            ]
          },
          "metadata": {}
        },
        {
          "output_type": "display_data",
          "data": {
            "text/plain": [
              "<IPython.core.display.HTML object>"
            ],
            "text/html": [
              "Tracking run with wandb version 0.19.11"
            ]
          },
          "metadata": {}
        },
        {
          "output_type": "display_data",
          "data": {
            "text/plain": [
              "<IPython.core.display.HTML object>"
            ],
            "text/html": [
              "Run data is saved locally in <code>/content/wandb/run-20250516_231401-kv9196nr</code>"
            ]
          },
          "metadata": {}
        },
        {
          "output_type": "display_data",
          "data": {
            "text/plain": [
              "<IPython.core.display.HTML object>"
            ],
            "text/html": [
              "Syncing run <strong><a href='https://wandb.ai/ms-hate-life-/encoder_runs/runs/kv9196nr' target=\"_blank\">test_rerunning</a></strong> to <a href='https://wandb.ai/ms-hate-life-/encoder_runs' target=\"_blank\">Weights & Biases</a> (<a href='https://wandb.me/developer-guide' target=\"_blank\">docs</a>)<br>"
            ]
          },
          "metadata": {}
        },
        {
          "output_type": "display_data",
          "data": {
            "text/plain": [
              "<IPython.core.display.HTML object>"
            ],
            "text/html": [
              " View project at <a href='https://wandb.ai/ms-hate-life-/encoder_runs' target=\"_blank\">https://wandb.ai/ms-hate-life-/encoder_runs</a>"
            ]
          },
          "metadata": {}
        },
        {
          "output_type": "display_data",
          "data": {
            "text/plain": [
              "<IPython.core.display.HTML object>"
            ],
            "text/html": [
              " View run at <a href='https://wandb.ai/ms-hate-life-/encoder_runs/runs/kv9196nr' target=\"_blank\">https://wandb.ai/ms-hate-life-/encoder_runs/runs/kv9196nr</a>"
            ]
          },
          "metadata": {}
        },
        {
          "output_type": "stream",
          "name": "stdout",
          "text": [
            "Trial 364 finished!\n"
          ]
        },
        {
          "output_type": "display_data",
          "data": {
            "text/plain": [
              "<IPython.core.display.HTML object>"
            ],
            "text/html": []
          },
          "metadata": {}
        },
        {
          "output_type": "display_data",
          "data": {
            "text/plain": [
              "<IPython.core.display.HTML object>"
            ],
            "text/html": [
              "<br>    <style><br>        .wandb-row {<br>            display: flex;<br>            flex-direction: row;<br>            flex-wrap: wrap;<br>            justify-content: flex-start;<br>            width: 100%;<br>        }<br>        .wandb-col {<br>            display: flex;<br>            flex-direction: column;<br>            flex-basis: 100%;<br>            flex: 1;<br>            padding: 10px;<br>        }<br>    </style><br><div class=\"wandb-row\"><div class=\"wandb-col\"><h3>Run history:</h3><br/><table class=\"wandb\"><tr><td>peck_edible</td><td>█▁██▁████▁███▁██████▁██▁▁▁███▁█▁▁███▁███</td></tr><tr><td>second_order_similarity</td><td>▁</td></tr></table><br/></div><div class=\"wandb-col\"><h3>Run summary:</h3><br/><table class=\"wandb\"><tr><td>peck_edible</td><td>1</td></tr><tr><td>second_order_similarity</td><td>0.82649</td></tr></table><br/></div></div>"
            ]
          },
          "metadata": {}
        },
        {
          "output_type": "display_data",
          "data": {
            "text/plain": [
              "<IPython.core.display.HTML object>"
            ],
            "text/html": [
              " View run <strong style=\"color:#cdcd00\">test_rerunning</strong> at: <a href='https://wandb.ai/ms-hate-life-/encoder_runs/runs/kv9196nr' target=\"_blank\">https://wandb.ai/ms-hate-life-/encoder_runs/runs/kv9196nr</a><br> View project at: <a href='https://wandb.ai/ms-hate-life-/encoder_runs' target=\"_blank\">https://wandb.ai/ms-hate-life-/encoder_runs</a><br>Synced 5 W&B file(s), 0 media file(s), 0 artifact file(s) and 0 other file(s)"
            ]
          },
          "metadata": {}
        },
        {
          "output_type": "display_data",
          "data": {
            "text/plain": [
              "<IPython.core.display.HTML object>"
            ],
            "text/html": [
              "Find logs at: <code>./wandb/run-20250516_231401-kv9196nr/logs</code>"
            ]
          },
          "metadata": {}
        },
        {
          "output_type": "display_data",
          "data": {
            "text/plain": [
              "<IPython.core.display.HTML object>"
            ],
            "text/html": [
              "Tracking run with wandb version 0.19.11"
            ]
          },
          "metadata": {}
        },
        {
          "output_type": "display_data",
          "data": {
            "text/plain": [
              "<IPython.core.display.HTML object>"
            ],
            "text/html": [
              "Run data is saved locally in <code>/content/wandb/run-20250516_231420-4gxecdf5</code>"
            ]
          },
          "metadata": {}
        },
        {
          "output_type": "display_data",
          "data": {
            "text/plain": [
              "<IPython.core.display.HTML object>"
            ],
            "text/html": [
              "Syncing run <strong><a href='https://wandb.ai/ms-hate-life-/encoder_runs/runs/4gxecdf5' target=\"_blank\">test_rerunning</a></strong> to <a href='https://wandb.ai/ms-hate-life-/encoder_runs' target=\"_blank\">Weights & Biases</a> (<a href='https://wandb.me/developer-guide' target=\"_blank\">docs</a>)<br>"
            ]
          },
          "metadata": {}
        },
        {
          "output_type": "display_data",
          "data": {
            "text/plain": [
              "<IPython.core.display.HTML object>"
            ],
            "text/html": [
              " View project at <a href='https://wandb.ai/ms-hate-life-/encoder_runs' target=\"_blank\">https://wandb.ai/ms-hate-life-/encoder_runs</a>"
            ]
          },
          "metadata": {}
        },
        {
          "output_type": "display_data",
          "data": {
            "text/plain": [
              "<IPython.core.display.HTML object>"
            ],
            "text/html": [
              " View run at <a href='https://wandb.ai/ms-hate-life-/encoder_runs/runs/4gxecdf5' target=\"_blank\">https://wandb.ai/ms-hate-life-/encoder_runs/runs/4gxecdf5</a>"
            ]
          },
          "metadata": {}
        },
        {
          "output_type": "stream",
          "name": "stdout",
          "text": [
            "Trial 450 finished!\n"
          ]
        },
        {
          "output_type": "display_data",
          "data": {
            "text/plain": [
              "<IPython.core.display.HTML object>"
            ],
            "text/html": []
          },
          "metadata": {}
        },
        {
          "output_type": "display_data",
          "data": {
            "text/plain": [
              "<IPython.core.display.HTML object>"
            ],
            "text/html": [
              "<br>    <style><br>        .wandb-row {<br>            display: flex;<br>            flex-direction: row;<br>            flex-wrap: wrap;<br>            justify-content: flex-start;<br>            width: 100%;<br>        }<br>        .wandb-col {<br>            display: flex;<br>            flex-direction: column;<br>            flex-basis: 100%;<br>            flex: 1;<br>            padding: 10px;<br>        }<br>    </style><br><div class=\"wandb-row\"><div class=\"wandb-col\"><h3>Run history:</h3><br/><table class=\"wandb\"><tr><td>peck_edible</td><td>▁██▁▁█████████████████▁████▁███████▁▁██▁</td></tr><tr><td>second_order_similarity</td><td>▁</td></tr></table><br/></div><div class=\"wandb-col\"><h3>Run summary:</h3><br/><table class=\"wandb\"><tr><td>peck_edible</td><td>0</td></tr><tr><td>second_order_similarity</td><td>0.82404</td></tr></table><br/></div></div>"
            ]
          },
          "metadata": {}
        },
        {
          "output_type": "display_data",
          "data": {
            "text/plain": [
              "<IPython.core.display.HTML object>"
            ],
            "text/html": [
              " View run <strong style=\"color:#cdcd00\">test_rerunning</strong> at: <a href='https://wandb.ai/ms-hate-life-/encoder_runs/runs/4gxecdf5' target=\"_blank\">https://wandb.ai/ms-hate-life-/encoder_runs/runs/4gxecdf5</a><br> View project at: <a href='https://wandb.ai/ms-hate-life-/encoder_runs' target=\"_blank\">https://wandb.ai/ms-hate-life-/encoder_runs</a><br>Synced 5 W&B file(s), 0 media file(s), 0 artifact file(s) and 0 other file(s)"
            ]
          },
          "metadata": {}
        },
        {
          "output_type": "display_data",
          "data": {
            "text/plain": [
              "<IPython.core.display.HTML object>"
            ],
            "text/html": [
              "Find logs at: <code>./wandb/run-20250516_231420-4gxecdf5/logs</code>"
            ]
          },
          "metadata": {}
        },
        {
          "output_type": "display_data",
          "data": {
            "text/plain": [
              "<IPython.core.display.HTML object>"
            ],
            "text/html": [
              "Tracking run with wandb version 0.19.11"
            ]
          },
          "metadata": {}
        },
        {
          "output_type": "display_data",
          "data": {
            "text/plain": [
              "<IPython.core.display.HTML object>"
            ],
            "text/html": [
              "Run data is saved locally in <code>/content/wandb/run-20250516_231439-x0na3v9e</code>"
            ]
          },
          "metadata": {}
        },
        {
          "output_type": "display_data",
          "data": {
            "text/plain": [
              "<IPython.core.display.HTML object>"
            ],
            "text/html": [
              "Syncing run <strong><a href='https://wandb.ai/ms-hate-life-/encoder_runs/runs/x0na3v9e' target=\"_blank\">test_rerunning</a></strong> to <a href='https://wandb.ai/ms-hate-life-/encoder_runs' target=\"_blank\">Weights & Biases</a> (<a href='https://wandb.me/developer-guide' target=\"_blank\">docs</a>)<br>"
            ]
          },
          "metadata": {}
        },
        {
          "output_type": "display_data",
          "data": {
            "text/plain": [
              "<IPython.core.display.HTML object>"
            ],
            "text/html": [
              " View project at <a href='https://wandb.ai/ms-hate-life-/encoder_runs' target=\"_blank\">https://wandb.ai/ms-hate-life-/encoder_runs</a>"
            ]
          },
          "metadata": {}
        },
        {
          "output_type": "display_data",
          "data": {
            "text/plain": [
              "<IPython.core.display.HTML object>"
            ],
            "text/html": [
              " View run at <a href='https://wandb.ai/ms-hate-life-/encoder_runs/runs/x0na3v9e' target=\"_blank\">https://wandb.ai/ms-hate-life-/encoder_runs/runs/x0na3v9e</a>"
            ]
          },
          "metadata": {}
        },
        {
          "output_type": "stream",
          "name": "stdout",
          "text": [
            "Trial 437 finished!\n"
          ]
        },
        {
          "output_type": "display_data",
          "data": {
            "text/plain": [
              "<IPython.core.display.HTML object>"
            ],
            "text/html": []
          },
          "metadata": {}
        },
        {
          "output_type": "display_data",
          "data": {
            "text/plain": [
              "<IPython.core.display.HTML object>"
            ],
            "text/html": [
              "<br>    <style><br>        .wandb-row {<br>            display: flex;<br>            flex-direction: row;<br>            flex-wrap: wrap;<br>            justify-content: flex-start;<br>            width: 100%;<br>        }<br>        .wandb-col {<br>            display: flex;<br>            flex-direction: column;<br>            flex-basis: 100%;<br>            flex: 1;<br>            padding: 10px;<br>        }<br>    </style><br><div class=\"wandb-row\"><div class=\"wandb-col\"><h3>Run history:</h3><br/><table class=\"wandb\"><tr><td>peck_edible</td><td>████████▁███▁██▁█▁██▁█▁▁▁██▁████████▁███</td></tr><tr><td>second_order_similarity</td><td>▁</td></tr></table><br/></div><div class=\"wandb-col\"><h3>Run summary:</h3><br/><table class=\"wandb\"><tr><td>peck_edible</td><td>0</td></tr><tr><td>second_order_similarity</td><td>0.8232</td></tr></table><br/></div></div>"
            ]
          },
          "metadata": {}
        },
        {
          "output_type": "display_data",
          "data": {
            "text/plain": [
              "<IPython.core.display.HTML object>"
            ],
            "text/html": [
              " View run <strong style=\"color:#cdcd00\">test_rerunning</strong> at: <a href='https://wandb.ai/ms-hate-life-/encoder_runs/runs/x0na3v9e' target=\"_blank\">https://wandb.ai/ms-hate-life-/encoder_runs/runs/x0na3v9e</a><br> View project at: <a href='https://wandb.ai/ms-hate-life-/encoder_runs' target=\"_blank\">https://wandb.ai/ms-hate-life-/encoder_runs</a><br>Synced 5 W&B file(s), 0 media file(s), 0 artifact file(s) and 0 other file(s)"
            ]
          },
          "metadata": {}
        },
        {
          "output_type": "display_data",
          "data": {
            "text/plain": [
              "<IPython.core.display.HTML object>"
            ],
            "text/html": [
              "Find logs at: <code>./wandb/run-20250516_231439-x0na3v9e/logs</code>"
            ]
          },
          "metadata": {}
        },
        {
          "output_type": "display_data",
          "data": {
            "text/plain": [
              "<IPython.core.display.HTML object>"
            ],
            "text/html": [
              "Tracking run with wandb version 0.19.11"
            ]
          },
          "metadata": {}
        },
        {
          "output_type": "display_data",
          "data": {
            "text/plain": [
              "<IPython.core.display.HTML object>"
            ],
            "text/html": [
              "Run data is saved locally in <code>/content/wandb/run-20250516_231458-t46aoass</code>"
            ]
          },
          "metadata": {}
        },
        {
          "output_type": "display_data",
          "data": {
            "text/plain": [
              "<IPython.core.display.HTML object>"
            ],
            "text/html": [
              "Syncing run <strong><a href='https://wandb.ai/ms-hate-life-/encoder_runs/runs/t46aoass' target=\"_blank\">test_rerunning</a></strong> to <a href='https://wandb.ai/ms-hate-life-/encoder_runs' target=\"_blank\">Weights & Biases</a> (<a href='https://wandb.me/developer-guide' target=\"_blank\">docs</a>)<br>"
            ]
          },
          "metadata": {}
        },
        {
          "output_type": "display_data",
          "data": {
            "text/plain": [
              "<IPython.core.display.HTML object>"
            ],
            "text/html": [
              " View project at <a href='https://wandb.ai/ms-hate-life-/encoder_runs' target=\"_blank\">https://wandb.ai/ms-hate-life-/encoder_runs</a>"
            ]
          },
          "metadata": {}
        },
        {
          "output_type": "display_data",
          "data": {
            "text/plain": [
              "<IPython.core.display.HTML object>"
            ],
            "text/html": [
              " View run at <a href='https://wandb.ai/ms-hate-life-/encoder_runs/runs/t46aoass' target=\"_blank\">https://wandb.ai/ms-hate-life-/encoder_runs/runs/t46aoass</a>"
            ]
          },
          "metadata": {}
        },
        {
          "output_type": "stream",
          "name": "stdout",
          "text": [
            "Trial 358 finished!\n"
          ]
        },
        {
          "output_type": "display_data",
          "data": {
            "text/plain": [
              "<IPython.core.display.HTML object>"
            ],
            "text/html": []
          },
          "metadata": {}
        },
        {
          "output_type": "display_data",
          "data": {
            "text/plain": [
              "<IPython.core.display.HTML object>"
            ],
            "text/html": [
              "<br>    <style><br>        .wandb-row {<br>            display: flex;<br>            flex-direction: row;<br>            flex-wrap: wrap;<br>            justify-content: flex-start;<br>            width: 100%;<br>        }<br>        .wandb-col {<br>            display: flex;<br>            flex-direction: column;<br>            flex-basis: 100%;<br>            flex: 1;<br>            padding: 10px;<br>        }<br>    </style><br><div class=\"wandb-row\"><div class=\"wandb-col\"><h3>Run history:</h3><br/><table class=\"wandb\"><tr><td>peck_edible</td><td>███████▁▁██▁▁███▁▁██▁▁▁███▁▁▁███▁█▁▁▁██▁</td></tr><tr><td>second_order_similarity</td><td>▁</td></tr></table><br/></div><div class=\"wandb-col\"><h3>Run summary:</h3><br/><table class=\"wandb\"><tr><td>peck_edible</td><td>1</td></tr><tr><td>second_order_similarity</td><td>0.82347</td></tr></table><br/></div></div>"
            ]
          },
          "metadata": {}
        },
        {
          "output_type": "display_data",
          "data": {
            "text/plain": [
              "<IPython.core.display.HTML object>"
            ],
            "text/html": [
              " View run <strong style=\"color:#cdcd00\">test_rerunning</strong> at: <a href='https://wandb.ai/ms-hate-life-/encoder_runs/runs/t46aoass' target=\"_blank\">https://wandb.ai/ms-hate-life-/encoder_runs/runs/t46aoass</a><br> View project at: <a href='https://wandb.ai/ms-hate-life-/encoder_runs' target=\"_blank\">https://wandb.ai/ms-hate-life-/encoder_runs</a><br>Synced 5 W&B file(s), 0 media file(s), 0 artifact file(s) and 0 other file(s)"
            ]
          },
          "metadata": {}
        },
        {
          "output_type": "display_data",
          "data": {
            "text/plain": [
              "<IPython.core.display.HTML object>"
            ],
            "text/html": [
              "Find logs at: <code>./wandb/run-20250516_231458-t46aoass/logs</code>"
            ]
          },
          "metadata": {}
        },
        {
          "output_type": "stream",
          "name": "stderr",
          "text": [
            "/usr/local/lib/python3.11/dist-packages/sklearn/manifold/_t_sne.py:1164: FutureWarning: 'n_iter' was renamed to 'max_iter' in version 1.5 and will be removed in 1.7.\n",
            "  warnings.warn(\n"
          ]
        },
        {
          "output_type": "display_data",
          "data": {
            "application/javascript": [
              "'use strict';\n",
              "(function(root) {\n",
              "  function now() {\n",
              "    return new Date();\n",
              "  }\n",
              "\n",
              "  const force = true;\n",
              "\n",
              "  if (typeof root._bokeh_onload_callbacks === \"undefined\" || force === true) {\n",
              "    root._bokeh_onload_callbacks = [];\n",
              "    root._bokeh_is_loading = undefined;\n",
              "  }\n",
              "\n",
              "const JS_MIME_TYPE = 'application/javascript';\n",
              "  const HTML_MIME_TYPE = 'text/html';\n",
              "  const EXEC_MIME_TYPE = 'application/vnd.bokehjs_exec.v0+json';\n",
              "  const CLASS_NAME = 'output_bokeh rendered_html';\n",
              "\n",
              "  /**\n",
              "   * Render data to the DOM node\n",
              "   */\n",
              "  function render(props, node) {\n",
              "    const script = document.createElement(\"script\");\n",
              "    node.appendChild(script);\n",
              "  }\n",
              "\n",
              "  /**\n",
              "   * Handle when an output is cleared or removed\n",
              "   */\n",
              "  function handleClearOutput(event, handle) {\n",
              "    function drop(id) {\n",
              "      const view = Bokeh.index.get_by_id(id)\n",
              "      if (view != null) {\n",
              "        view.model.document.clear()\n",
              "        Bokeh.index.delete(view)\n",
              "      }\n",
              "    }\n",
              "\n",
              "    const cell = handle.cell;\n",
              "\n",
              "    const id = cell.output_area._bokeh_element_id;\n",
              "    const server_id = cell.output_area._bokeh_server_id;\n",
              "\n",
              "    // Clean up Bokeh references\n",
              "    if (id != null) {\n",
              "      drop(id)\n",
              "    }\n",
              "\n",
              "    if (server_id !== undefined) {\n",
              "      // Clean up Bokeh references\n",
              "      const cmd_clean = \"from bokeh.io.state import curstate; print(curstate().uuid_to_server['\" + server_id + \"'].get_sessions()[0].document.roots[0]._id)\";\n",
              "      cell.notebook.kernel.execute(cmd_clean, {\n",
              "        iopub: {\n",
              "          output: function(msg) {\n",
              "            const id = msg.content.text.trim()\n",
              "            drop(id)\n",
              "          }\n",
              "        }\n",
              "      });\n",
              "      // Destroy server and session\n",
              "      const cmd_destroy = \"import bokeh.io.notebook as ion; ion.destroy_server('\" + server_id + \"')\";\n",
              "      cell.notebook.kernel.execute(cmd_destroy);\n",
              "    }\n",
              "  }\n",
              "\n",
              "  /**\n",
              "   * Handle when a new output is added\n",
              "   */\n",
              "  function handleAddOutput(event, handle) {\n",
              "    const output_area = handle.output_area;\n",
              "    const output = handle.output;\n",
              "\n",
              "    // limit handleAddOutput to display_data with EXEC_MIME_TYPE content only\n",
              "    if ((output.output_type != \"display_data\") || (!Object.prototype.hasOwnProperty.call(output.data, EXEC_MIME_TYPE))) {\n",
              "      return\n",
              "    }\n",
              "\n",
              "    const toinsert = output_area.element.find(\".\" + CLASS_NAME.split(' ')[0]);\n",
              "\n",
              "    if (output.metadata[EXEC_MIME_TYPE][\"id\"] !== undefined) {\n",
              "      toinsert[toinsert.length - 1].firstChild.textContent = output.data[JS_MIME_TYPE];\n",
              "      // store reference to embed id on output_area\n",
              "      output_area._bokeh_element_id = output.metadata[EXEC_MIME_TYPE][\"id\"];\n",
              "    }\n",
              "    if (output.metadata[EXEC_MIME_TYPE][\"server_id\"] !== undefined) {\n",
              "      const bk_div = document.createElement(\"div\");\n",
              "      bk_div.innerHTML = output.data[HTML_MIME_TYPE];\n",
              "      const script_attrs = bk_div.children[0].attributes;\n",
              "      for (let i = 0; i < script_attrs.length; i++) {\n",
              "        toinsert[toinsert.length - 1].firstChild.setAttribute(script_attrs[i].name, script_attrs[i].value);\n",
              "        toinsert[toinsert.length - 1].firstChild.textContent = bk_div.children[0].textContent\n",
              "      }\n",
              "      // store reference to server id on output_area\n",
              "      output_area._bokeh_server_id = output.metadata[EXEC_MIME_TYPE][\"server_id\"];\n",
              "    }\n",
              "  }\n",
              "\n",
              "  function register_renderer(events, OutputArea) {\n",
              "\n",
              "    function append_mime(data, metadata, element) {\n",
              "      // create a DOM node to render to\n",
              "      const toinsert = this.create_output_subarea(\n",
              "        metadata,\n",
              "        CLASS_NAME,\n",
              "        EXEC_MIME_TYPE\n",
              "      );\n",
              "      this.keyboard_manager.register_events(toinsert);\n",
              "      // Render to node\n",
              "      const props = {data: data, metadata: metadata[EXEC_MIME_TYPE]};\n",
              "      render(props, toinsert[toinsert.length - 1]);\n",
              "      element.append(toinsert);\n",
              "      return toinsert\n",
              "    }\n",
              "\n",
              "    /* Handle when an output is cleared or removed */\n",
              "    events.on('clear_output.CodeCell', handleClearOutput);\n",
              "    events.on('delete.Cell', handleClearOutput);\n",
              "\n",
              "    /* Handle when a new output is added */\n",
              "    events.on('output_added.OutputArea', handleAddOutput);\n",
              "\n",
              "    /**\n",
              "     * Register the mime type and append_mime function with output_area\n",
              "     */\n",
              "    OutputArea.prototype.register_mime_type(EXEC_MIME_TYPE, append_mime, {\n",
              "      /* Is output safe? */\n",
              "      safe: true,\n",
              "      /* Index of renderer in `output_area.display_order` */\n",
              "      index: 0\n",
              "    });\n",
              "  }\n",
              "\n",
              "  // register the mime type if in Jupyter Notebook environment and previously unregistered\n",
              "  if (root.Jupyter !== undefined) {\n",
              "    const events = require('base/js/events');\n",
              "    const OutputArea = require('notebook/js/outputarea').OutputArea;\n",
              "\n",
              "    if (OutputArea.prototype.mime_types().indexOf(EXEC_MIME_TYPE) == -1) {\n",
              "      register_renderer(events, OutputArea);\n",
              "    }\n",
              "  }\n",
              "  if (typeof (root._bokeh_timeout) === \"undefined\" || force === true) {\n",
              "    root._bokeh_timeout = Date.now() + 5000;\n",
              "    root._bokeh_failed_load = false;\n",
              "  }\n",
              "\n",
              "  const NB_LOAD_WARNING = {'data': {'text/html':\n",
              "     \"<div style='background-color: #fdd'>\\n\"+\n",
              "     \"<p>\\n\"+\n",
              "     \"BokehJS does not appear to have successfully loaded. If loading BokehJS from CDN, this \\n\"+\n",
              "     \"may be due to a slow or bad network connection. Possible fixes:\\n\"+\n",
              "     \"</p>\\n\"+\n",
              "     \"<ul>\\n\"+\n",
              "     \"<li>re-rerun `output_notebook()` to attempt to load from CDN again, or</li>\\n\"+\n",
              "     \"<li>use INLINE resources instead, as so:</li>\\n\"+\n",
              "     \"</ul>\\n\"+\n",
              "     \"<code>\\n\"+\n",
              "     \"from bokeh.resources import INLINE\\n\"+\n",
              "     \"output_notebook(resources=INLINE)\\n\"+\n",
              "     \"</code>\\n\"+\n",
              "     \"</div>\"}};\n",
              "\n",
              "  function display_loaded(error = null) {\n",
              "    const el = document.getElementById(null);\n",
              "    if (el != null) {\n",
              "      const html = (() => {\n",
              "        if (typeof root.Bokeh === \"undefined\") {\n",
              "          if (error == null) {\n",
              "            return \"BokehJS is loading ...\";\n",
              "          } else {\n",
              "            return \"BokehJS failed to load.\";\n",
              "          }\n",
              "        } else {\n",
              "          const prefix = `BokehJS ${root.Bokeh.version}`;\n",
              "          if (error == null) {\n",
              "            return `${prefix} successfully loaded.`;\n",
              "          } else {\n",
              "            return `${prefix} <b>encountered errors</b> while loading and may not function as expected.`;\n",
              "          }\n",
              "        }\n",
              "      })();\n",
              "      el.innerHTML = html;\n",
              "\n",
              "      if (error != null) {\n",
              "        const wrapper = document.createElement(\"div\");\n",
              "        wrapper.style.overflow = \"auto\";\n",
              "        wrapper.style.height = \"5em\";\n",
              "        wrapper.style.resize = \"vertical\";\n",
              "        const content = document.createElement(\"div\");\n",
              "        content.style.fontFamily = \"monospace\";\n",
              "        content.style.whiteSpace = \"pre-wrap\";\n",
              "        content.style.backgroundColor = \"rgb(255, 221, 221)\";\n",
              "        content.textContent = error.stack ?? error.toString();\n",
              "        wrapper.append(content);\n",
              "        el.append(wrapper);\n",
              "      }\n",
              "    } else if (Date.now() < root._bokeh_timeout) {\n",
              "      setTimeout(() => display_loaded(error), 100);\n",
              "    }\n",
              "  }\n",
              "\n",
              "  function run_callbacks() {\n",
              "    try {\n",
              "      root._bokeh_onload_callbacks.forEach(function(callback) {\n",
              "        if (callback != null)\n",
              "          callback();\n",
              "      });\n",
              "    } finally {\n",
              "      delete root._bokeh_onload_callbacks\n",
              "    }\n",
              "    console.debug(\"Bokeh: all callbacks have finished\");\n",
              "  }\n",
              "\n",
              "  function load_libs(css_urls, js_urls, callback) {\n",
              "    if (css_urls == null) css_urls = [];\n",
              "    if (js_urls == null) js_urls = [];\n",
              "\n",
              "    root._bokeh_onload_callbacks.push(callback);\n",
              "    if (root._bokeh_is_loading > 0) {\n",
              "      console.debug(\"Bokeh: BokehJS is being loaded, scheduling callback at\", now());\n",
              "      return null;\n",
              "    }\n",
              "    if (js_urls == null || js_urls.length === 0) {\n",
              "      run_callbacks();\n",
              "      return null;\n",
              "    }\n",
              "    console.debug(\"Bokeh: BokehJS not loaded, scheduling load and callback at\", now());\n",
              "    root._bokeh_is_loading = css_urls.length + js_urls.length;\n",
              "\n",
              "    function on_load() {\n",
              "      root._bokeh_is_loading--;\n",
              "      if (root._bokeh_is_loading === 0) {\n",
              "        console.debug(\"Bokeh: all BokehJS libraries/stylesheets loaded\");\n",
              "        run_callbacks()\n",
              "      }\n",
              "    }\n",
              "\n",
              "    function on_error(url) {\n",
              "      console.error(\"failed to load \" + url);\n",
              "    }\n",
              "\n",
              "    for (let i = 0; i < css_urls.length; i++) {\n",
              "      const url = css_urls[i];\n",
              "      const element = document.createElement(\"link\");\n",
              "      element.onload = on_load;\n",
              "      element.onerror = on_error.bind(null, url);\n",
              "      element.rel = \"stylesheet\";\n",
              "      element.type = \"text/css\";\n",
              "      element.href = url;\n",
              "      console.debug(\"Bokeh: injecting link tag for BokehJS stylesheet: \", url);\n",
              "      document.body.appendChild(element);\n",
              "    }\n",
              "\n",
              "    for (let i = 0; i < js_urls.length; i++) {\n",
              "      const url = js_urls[i];\n",
              "      const element = document.createElement('script');\n",
              "      element.onload = on_load;\n",
              "      element.onerror = on_error.bind(null, url);\n",
              "      element.async = false;\n",
              "      element.src = url;\n",
              "      console.debug(\"Bokeh: injecting script tag for BokehJS library: \", url);\n",
              "      document.head.appendChild(element);\n",
              "    }\n",
              "  };\n",
              "\n",
              "  function inject_raw_css(css) {\n",
              "    const element = document.createElement(\"style\");\n",
              "    element.appendChild(document.createTextNode(css));\n",
              "    document.body.appendChild(element);\n",
              "  }\n",
              "\n",
              "  const js_urls = [\"https://cdn.bokeh.org/bokeh/release/bokeh-3.7.3.min.js\", \"https://cdn.bokeh.org/bokeh/release/bokeh-gl-3.7.3.min.js\", \"https://cdn.bokeh.org/bokeh/release/bokeh-widgets-3.7.3.min.js\", \"https://cdn.bokeh.org/bokeh/release/bokeh-tables-3.7.3.min.js\", \"https://cdn.bokeh.org/bokeh/release/bokeh-mathjax-3.7.3.min.js\"];\n",
              "  const css_urls = [];\n",
              "\n",
              "  const inline_js = [    function(Bokeh) {\n",
              "      Bokeh.set_log_level(\"info\");\n",
              "    },\n",
              "function(Bokeh) {\n",
              "    }\n",
              "  ];\n",
              "\n",
              "  function run_inline_js() {\n",
              "    if (root.Bokeh !== undefined || force === true) {\n",
              "      try {\n",
              "            for (let i = 0; i < inline_js.length; i++) {\n",
              "      inline_js[i].call(root, root.Bokeh);\n",
              "    }\n",
              "\n",
              "      } catch (error) {throw error;\n",
              "      }} else if (Date.now() < root._bokeh_timeout) {\n",
              "      setTimeout(run_inline_js, 100);\n",
              "    } else if (!root._bokeh_failed_load) {\n",
              "      console.log(\"Bokeh: BokehJS failed to load within specified timeout.\");\n",
              "      root._bokeh_failed_load = true;\n",
              "    } else if (force !== true) {\n",
              "      const cell = $(document.getElementById(null)).parents('.cell').data().cell;\n",
              "      cell.output_area.append_execute_result(NB_LOAD_WARNING)\n",
              "    }\n",
              "  }\n",
              "\n",
              "  if (root._bokeh_is_loading === 0) {\n",
              "    console.debug(\"Bokeh: BokehJS loaded, going straight to plotting\");\n",
              "    run_inline_js();\n",
              "  } else {\n",
              "    load_libs(css_urls, js_urls, function() {\n",
              "      console.debug(\"Bokeh: BokehJS plotting callback run at\", now());\n",
              "      run_inline_js();\n",
              "    });\n",
              "  }\n",
              "}(window));"
            ],
            "application/vnd.bokehjs_load.v0+json": "'use strict';\n(function(root) {\n  function now() {\n    return new Date();\n  }\n\n  const force = true;\n\n  if (typeof root._bokeh_onload_callbacks === \"undefined\" || force === true) {\n    root._bokeh_onload_callbacks = [];\n    root._bokeh_is_loading = undefined;\n  }\n\n\n  if (typeof (root._bokeh_timeout) === \"undefined\" || force === true) {\n    root._bokeh_timeout = Date.now() + 5000;\n    root._bokeh_failed_load = false;\n  }\n\n  const NB_LOAD_WARNING = {'data': {'text/html':\n     \"<div style='background-color: #fdd'>\\n\"+\n     \"<p>\\n\"+\n     \"BokehJS does not appear to have successfully loaded. If loading BokehJS from CDN, this \\n\"+\n     \"may be due to a slow or bad network connection. Possible fixes:\\n\"+\n     \"</p>\\n\"+\n     \"<ul>\\n\"+\n     \"<li>re-rerun `output_notebook()` to attempt to load from CDN again, or</li>\\n\"+\n     \"<li>use INLINE resources instead, as so:</li>\\n\"+\n     \"</ul>\\n\"+\n     \"<code>\\n\"+\n     \"from bokeh.resources import INLINE\\n\"+\n     \"output_notebook(resources=INLINE)\\n\"+\n     \"</code>\\n\"+\n     \"</div>\"}};\n\n  function display_loaded(error = null) {\n    const el = document.getElementById(null);\n    if (el != null) {\n      const html = (() => {\n        if (typeof root.Bokeh === \"undefined\") {\n          if (error == null) {\n            return \"BokehJS is loading ...\";\n          } else {\n            return \"BokehJS failed to load.\";\n          }\n        } else {\n          const prefix = `BokehJS ${root.Bokeh.version}`;\n          if (error == null) {\n            return `${prefix} successfully loaded.`;\n          } else {\n            return `${prefix} <b>encountered errors</b> while loading and may not function as expected.`;\n          }\n        }\n      })();\n      el.innerHTML = html;\n\n      if (error != null) {\n        const wrapper = document.createElement(\"div\");\n        wrapper.style.overflow = \"auto\";\n        wrapper.style.height = \"5em\";\n        wrapper.style.resize = \"vertical\";\n        const content = document.createElement(\"div\");\n        content.style.fontFamily = \"monospace\";\n        content.style.whiteSpace = \"pre-wrap\";\n        content.style.backgroundColor = \"rgb(255, 221, 221)\";\n        content.textContent = error.stack ?? error.toString();\n        wrapper.append(content);\n        el.append(wrapper);\n      }\n    } else if (Date.now() < root._bokeh_timeout) {\n      setTimeout(() => display_loaded(error), 100);\n    }\n  }\n\n  function run_callbacks() {\n    try {\n      root._bokeh_onload_callbacks.forEach(function(callback) {\n        if (callback != null)\n          callback();\n      });\n    } finally {\n      delete root._bokeh_onload_callbacks\n    }\n    console.debug(\"Bokeh: all callbacks have finished\");\n  }\n\n  function load_libs(css_urls, js_urls, callback) {\n    if (css_urls == null) css_urls = [];\n    if (js_urls == null) js_urls = [];\n\n    root._bokeh_onload_callbacks.push(callback);\n    if (root._bokeh_is_loading > 0) {\n      console.debug(\"Bokeh: BokehJS is being loaded, scheduling callback at\", now());\n      return null;\n    }\n    if (js_urls == null || js_urls.length === 0) {\n      run_callbacks();\n      return null;\n    }\n    console.debug(\"Bokeh: BokehJS not loaded, scheduling load and callback at\", now());\n    root._bokeh_is_loading = css_urls.length + js_urls.length;\n\n    function on_load() {\n      root._bokeh_is_loading--;\n      if (root._bokeh_is_loading === 0) {\n        console.debug(\"Bokeh: all BokehJS libraries/stylesheets loaded\");\n        run_callbacks()\n      }\n    }\n\n    function on_error(url) {\n      console.error(\"failed to load \" + url);\n    }\n\n    for (let i = 0; i < css_urls.length; i++) {\n      const url = css_urls[i];\n      const element = document.createElement(\"link\");\n      element.onload = on_load;\n      element.onerror = on_error.bind(null, url);\n      element.rel = \"stylesheet\";\n      element.type = \"text/css\";\n      element.href = url;\n      console.debug(\"Bokeh: injecting link tag for BokehJS stylesheet: \", url);\n      document.body.appendChild(element);\n    }\n\n    for (let i = 0; i < js_urls.length; i++) {\n      const url = js_urls[i];\n      const element = document.createElement('script');\n      element.onload = on_load;\n      element.onerror = on_error.bind(null, url);\n      element.async = false;\n      element.src = url;\n      console.debug(\"Bokeh: injecting script tag for BokehJS library: \", url);\n      document.head.appendChild(element);\n    }\n  };\n\n  function inject_raw_css(css) {\n    const element = document.createElement(\"style\");\n    element.appendChild(document.createTextNode(css));\n    document.body.appendChild(element);\n  }\n\n  const js_urls = [\"https://cdn.bokeh.org/bokeh/release/bokeh-3.7.3.min.js\", \"https://cdn.bokeh.org/bokeh/release/bokeh-gl-3.7.3.min.js\", \"https://cdn.bokeh.org/bokeh/release/bokeh-widgets-3.7.3.min.js\", \"https://cdn.bokeh.org/bokeh/release/bokeh-tables-3.7.3.min.js\", \"https://cdn.bokeh.org/bokeh/release/bokeh-mathjax-3.7.3.min.js\"];\n  const css_urls = [];\n\n  const inline_js = [    function(Bokeh) {\n      Bokeh.set_log_level(\"info\");\n    },\nfunction(Bokeh) {\n    }\n  ];\n\n  function run_inline_js() {\n    if (root.Bokeh !== undefined || force === true) {\n      try {\n            for (let i = 0; i < inline_js.length; i++) {\n      inline_js[i].call(root, root.Bokeh);\n    }\n\n      } catch (error) {throw error;\n      }} else if (Date.now() < root._bokeh_timeout) {\n      setTimeout(run_inline_js, 100);\n    } else if (!root._bokeh_failed_load) {\n      console.log(\"Bokeh: BokehJS failed to load within specified timeout.\");\n      root._bokeh_failed_load = true;\n    } else if (force !== true) {\n      const cell = $(document.getElementById(null)).parents('.cell').data().cell;\n      cell.output_area.append_execute_result(NB_LOAD_WARNING)\n    }\n  }\n\n  if (root._bokeh_is_loading === 0) {\n    console.debug(\"Bokeh: BokehJS loaded, going straight to plotting\");\n    run_inline_js();\n  } else {\n    load_libs(css_urls, js_urls, function() {\n      console.debug(\"Bokeh: BokehJS plotting callback run at\", now());\n      run_inline_js();\n    });\n  }\n}(window));"
          },
          "metadata": {}
        },
        {
          "output_type": "display_data",
          "data": {
            "text/html": [
              "\n",
              "  <div id=\"d4f8b57e-f8c8-4865-bc48-1398f14be6dd\" data-root-id=\"p1003\" style=\"display: contents;\"></div>\n"
            ]
          },
          "metadata": {}
        },
        {
          "output_type": "display_data",
          "data": {
            "application/javascript": [
              "(function(root) {\n",
              "  function embed_document(root) {\n",
              "  const docs_json = {\"abdead9a-3384-46a0-8ed9-fb641c80f27d\":{\"version\":\"3.7.3\",\"title\":\"Bokeh Application\",\"roots\":[{\"type\":\"object\",\"name\":\"Figure\",\"id\":\"p1003\",\"attributes\":{\"width\":400,\"height\":400,\"x_range\":{\"type\":\"object\",\"name\":\"DataRange1d\",\"id\":\"p1004\"},\"y_range\":{\"type\":\"object\",\"name\":\"DataRange1d\",\"id\":\"p1005\"},\"x_scale\":{\"type\":\"object\",\"name\":\"LinearScale\",\"id\":\"p1012\"},\"y_scale\":{\"type\":\"object\",\"name\":\"LinearScale\",\"id\":\"p1013\"},\"title\":{\"type\":\"object\",\"name\":\"Title\",\"id\":\"p1010\"},\"renderers\":[{\"type\":\"object\",\"name\":\"GlyphRenderer\",\"id\":\"p1049\",\"attributes\":{\"data_source\":{\"type\":\"object\",\"name\":\"ColumnDataSource\",\"id\":\"p1039\",\"attributes\":{\"selected\":{\"type\":\"object\",\"name\":\"Selection\",\"id\":\"p1040\",\"attributes\":{\"indices\":[],\"line_indices\":[]}},\"selection_policy\":{\"type\":\"object\",\"name\":\"UnionRenderers\",\"id\":\"p1041\"},\"data\":{\"type\":\"map\",\"entries\":[[\"index\",{\"type\":\"ndarray\",\"array\":{\"type\":\"bytes\",\"data\":\"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\"},\"shape\":[1000],\"dtype\":\"int32\",\"order\":\"little\"}],[\"x\",{\"type\":\"ndarray\",\"array\":{\"type\":\"bytes\",\"data\":\"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\"},\"shape\":[1000],\"dtype\":\"float32\",\"order\":\"little\"}],[\"y\",{\"type\":\"ndarray\",\"array\":{\"type\":\"bytes\",\"data\":\"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\"},\"shape\":[1000],\"dtype\":\"float32\",\"order\":\"little\"}],[\"label\",{\"type\":\"ndarray\",\"array\":[\"0\",\"0\",\"0\",\"1\",\"1\",\"1\",\"1\",\"1\",\"1\",\"0\",\"0\",\"1\",\"1\",\"0\",\"1\",\"1\",\"1\",\"1\",\"1\",\"0\",\"0\",\"0\",\"0\",\"0\",\"0\",\"1\",\"0\",\"1\",\"1\",\"1\",\"1\",\"1\",\"1\",\"1\",\"1\",\"0\",\"0\",\"0\",\"0\",\"1\",\"0\",\"0\",\"0\",\"1\",\"0\",\"1\",\"0\",\"0\",\"0\",\"0\",\"1\",\"1\",\"1\",\"0\",\"1\",\"0\",\"0\",\"0\",\"0\",\"0\",\"0\",\"1\",\"1\",\"1\",\"0\",\"0\",\"1\",\"0\",\"0\",\"0\",\"0\",\"1\",\"0\",\"0\",\"1\",\"1\",\"0\",\"0\",\"1\",\"1\",\"1\",\"1\",\"0\",\"0\",\"0\",\"0\",\"1\",\"0\",\"0\",\"0\",\"0\",\"0\",\"0\",\"0\",\"1\",\"0\",\"0\",\"1\",\"1\",\"1\",\"1\",\"0\",\"1\",\"0\",\"0\",\"0\",\"1\",\"1\",\"1\",\"0\",\"1\",\"1\",\"1\",\"1\",\"1\",\"0\",\"1\",\"1\",\"0\",\"0\",\"1\",\"0\",\"0\",\"0\",\"0\",\"0\",\"0\",\"0\",\"0\",\"0\",\"0\",\"0\",\"0\",\"0\",\"0\",\"1\",\"0\",\"0\",\"0\",\"0\",\"0\",\"0\",\"1\",\"0\",\"0\",\"1\",\"0\",\"0\",\"1\",\"0\",\"0\",\"0\",\"0\",\"1\",\"0\",\"1\",\"1\",\"0\",\"0\",\"1\",\"0\",\"0\",\"1\",\"1\",\"1\",\"1\",\"0\",\"0\",\"1\",\"1\",\"1\",\"0\",\"0\",\"1\",\"0\",\"0\",\"0\",\"0\",\"0\",\"0\",\"1\",\"0\",\"0\",\"1\",\"1\",\"1\",\"1\",\"0\",\"1\",\"1\",\"1\",\"1\",\"0\",\"1\",\"1\",\"1\",\"1\",\"1\",\"1\",\"0\",\"0\",\"0\",\"1\",\"0\",\"0\",\"1\",\"1\",\"1\",\"1\",\"1\",\"1\",\"0\",\"0\",\"0\",\"0\",\"1\",\"0\",\"0\",\"0\",\"1\",\"0\",\"0\",\"0\",\"0\",\"0\",\"0\",\"0\",\"0\",\"0\",\"1\",\"0\",\"1\",\"0\",\"0\",\"1\",\"1\",\"1\",\"0\",\"1\",\"1\",\"0\",\"0\",\"1\",\"1\",\"0\",\"1\",\"0\",\"0\",\"0\",\"1\",\"0\",\"0\",\"0\",\"0\",\"0\",\"0\",\"0\",\"0\",\"0\",\"1\",\"1\",\"1\",\"1\",\"1\",\"1\",\"0\",\"0\",\"1\",\"1\",\"0\",\"0\",\"0\",\"0\",\"0\",\"0\",\"0\",\"1\",\"0\",\"1\",\"0\",\"0\",\"1\",\"1\",\"1\",\"1\",\"0\",\"1\",\"0\",\"1\",\"0\",\"0\",\"0\",\"0\",\"0\",\"1\",\"1\",\"0\",\"0\",\"0\",\"1\",\"1\",\"1\",\"1\",\"0\",\"0\",\"0\",\"0\",\"0\",\"0\",\"0\",\"0\",\"0\",\"0\",\"0\",\"1\",\"1\",\"1\",\"0\",\"0\",\"0\",\"0\",\"0\",\"0\",\"0\",\"0\",\"0\",\"1\",\"1\",\"0\",\"1\",\"1\",\"0\",\"0\",\"1\",\"0\",\"1\",\"1\",\"1\",\"0\",\"0\",\"0\",\"0\",\"1\",\"0\",\"1\",\"1\",\"1\",\"1\",\"0\",\"1\",\"1\",\"1\",\"1\",\"1\",\"1\",\"1\",\"1\",\"1\",\"1\",\"1\",\"0\",\"1\",\"0\",\"0\",\"1\",\"1\",\"1\",\"1\",\"1\",\"1\",\"0\",\"0\",\"0\",\"1\",\"1\",\"0\",\"1\",\"0\",\"0\",\"0\",\"0\",\"0\",\"0\",\"1\",\"1\",\"1\",\"0\",\"1\",\"1\",\"1\",\"1\",\"1\",\"0\",\"1\",\"1\",\"0\",\"1\",\"1\",\"1\",\"0\",\"1\",\"1\",\"1\",\"1\",\"1\",\"1\",\"1\",\"1\",\"0\",\"1\",\"1\",\"0\",\"0\",\"1\",\"1\",\"1\",\"0\",\"0\",\"0\",\"0\",\"1\",\"0\",\"0\",\"0\",\"1\",\"0\",\"0\",\"0\",\"0\",\"0\",\"0\",\"0\",\"1\",\"1\",\"1\",\"0\",\"0\",\"1\",\"1\",\"1\",\"1\",\"1\",\"1\",\"1\",\"1\",\"1\",\"0\",\"0\",\"1\",\"0\",\"1\",\"0\",\"0\",\"1\",\"0\",\"0\",\"0\",\"0\",\"0\",\"0\",\"0\",\"1\",\"0\",\"0\",\"0\",\"0\",\"0\",\"0\",\"0\",\"0\",\"0\",\"0\",\"0\",\"0\",\"0\",\"0\",\"0\",\"0\",\"1\",\"1\",\"0\",\"0\",\"0\",\"0\",\"0\",\"0\",\"0\",\"0\",\"0\",\"0\",\"1\",\"1\",\"1\",\"1\",\"1\",\"0\",\"1\",\"0\",\"0\",\"0\",\"0\",\"0\",\"1\",\"0\",\"0\",\"1\",\"0\",\"0\",\"0\",\"1\",\"1\",\"1\",\"1\",\"1\",\"1\",\"1\",\"1\",\"1\",\"1\",\"0\",\"0\",\"1\",\"0\",\"0\",\"0\",\"1\",\"0\",\"0\",\"0\",\"1\",\"0\",\"0\",\"0\",\"0\",\"1\",\"1\",\"0\",\"0\",\"0\",\"0\",\"0\",\"0\",\"1\",\"1\",\"1\",\"1\",\"1\",\"1\",\"1\",\"0\",\"1\",\"0\",\"0\",\"1\",\"1\",\"0\",\"0\",\"0\",\"1\",\"1\",\"1\",\"0\",\"0\",\"0\",\"0\",\"0\",\"1\",\"1\",\"1\",\"1\",\"0\",\"1\",\"1\",\"1\",\"0\",\"0\",\"0\",\"0\",\"1\",\"1\",\"1\",\"1\",\"1\",\"0\",\"0\",\"1\",\"0\",\"1\",\"1\",\"0\",\"0\",\"1\",\"0\",\"1\",\"1\",\"0\",\"0\",\"0\",\"0\",\"0\",\"1\",\"1\",\"1\",\"1\",\"1\",\"1\",\"1\",\"1\",\"1\",\"1\",\"0\",\"0\",\"0\",\"1\",\"1\",\"1\",\"1\",\"0\",\"0\",\"1\",\"1\",\"0\",\"0\",\"0\",\"0\",\"0\",\"0\",\"1\",\"1\",\"0\",\"1\",\"1\",\"0\",\"1\",\"1\",\"1\",\"1\",\"0\",\"1\",\"1\",\"0\",\"1\",\"0\",\"1\",\"0\",\"0\",\"1\",\"0\",\"0\",\"1\",\"0\",\"1\",\"1\",\"0\",\"0\",\"1\",\"0\",\"0\",\"0\",\"1\",\"1\",\"1\",\"1\",\"0\",\"0\",\"0\",\"0\",\"1\",\"1\",\"1\",\"1\",\"1\",\"1\",\"1\",\"0\",\"0\",\"0\",\"0\",\"0\",\"1\",\"1\",\"0\",\"0\",\"0\",\"0\",\"0\",\"0\",\"1\",\"1\",\"1\",\"1\",\"0\",\"1\",\"0\",\"0\",\"0\",\"0\",\"0\",\"0\",\"0\",\"0\",\"0\",\"0\",\"0\",\"0\",\"0\",\"1\",\"0\",\"1\",\"1\",\"1\",\"0\",\"0\",\"1\",\"1\",\"1\",\"1\",\"0\",\"1\",\"1\",\"0\",\"0\",\"0\",\"0\",\"0\",\"1\",\"1\",\"1\",\"1\",\"1\",\"1\",\"1\",\"1\",\"1\",\"1\",\"1\",\"1\",\"1\",\"0\",\"0\",\"0\",\"0\",\"0\",\"0\",\"0\",\"0\",\"0\",\"0\",\"0\",\"0\",\"0\",\"0\",\"0\",\"1\",\"1\",\"1\",\"1\",\"1\",\"0\",\"0\",\"0\",\"1\",\"0\",\"0\",\"0\",\"1\",\"0\",\"0\",\"0\",\"1\",\"0\",\"1\",\"1\",\"1\",\"0\",\"0\",\"1\",\"0\",\"0\",\"1\",\"1\",\"1\",\"1\",\"1\",\"1\",\"0\",\"1\",\"0\",\"1\",\"0\",\"1\",\"0\",\"1\",\"0\",\"1\",\"0\",\"0\",\"0\",\"1\",\"1\",\"0\",\"0\",\"0\",\"1\",\"0\",\"0\",\"0\",\"0\",\"0\",\"0\",\"0\",\"0\",\"0\",\"1\",\"0\",\"0\",\"0\",\"0\",\"0\",\"0\",\"0\",\"0\",\"0\",\"0\",\"1\",\"1\",\"1\",\"0\",\"1\",\"0\",\"0\",\"0\",\"0\",\"0\",\"0\",\"1\",\"0\",\"0\",\"0\",\"0\",\"1\",\"0\",\"1\",\"0\",\"1\",\"1\",\"0\",\"0\",\"0\",\"0\",\"0\",\"0\",\"0\",\"1\",\"1\",\"1\",\"1\",\"1\",\"1\",\"0\",\"0\",\"0\",\"0\",\"0\",\"0\",\"0\",\"1\",\"0\",\"0\",\"0\",\"0\",\"0\",\"0\",\"0\",\"0\",\"0\",\"0\",\"1\",\"1\",\"0\",\"1\",\"1\",\"0\",\"0\",\"0\",\"0\",\"1\",\"1\",\"1\",\"1\",\"1\",\"1\",\"0\",\"1\",\"0\",\"1\",\"0\",\"0\",\"1\",\"0\",\"0\",\"0\",\"0\",\"0\",\"0\",\"0\",\"0\",\"1\",\"0\",\"1\",\"0\",\"0\",\"1\",\"1\",\"0\",\"1\",\"0\",\"1\",\"0\",\"0\",\"1\",\"1\",\"1\",\"1\",\"0\",\"0\",\"0\",\"1\",\"1\",\"1\",\"0\",\"0\",\"1\",\"1\",\"1\",\"1\",\"0\",\"1\",\"0\",\"0\",\"1\",\"1\",\"1\",\"1\",\"1\",\"1\",\"1\",\"1\",\"1\",\"1\",\"1\",\"1\",\"1\",\"1\",\"0\",\"1\",\"0\",\"1\",\"1\",\"0\",\"1\",\"1\",\"1\",\"0\",\"0\",\"0\",\"1\",\"1\",\"1\",\"0\",\"0\",\"0\",\"0\",\"0\",\"0\",\"0\",\"0\",\"0\",\"1\",\"1\",\"0\",\"0\",\"0\",\"1\",\"0\",\"0\",\"0\",\"0\",\"0\",\"0\",\"0\",\"0\",\"0\",\"1\",\"0\",\"0\",\"0\",\"0\",\"0\",\"0\"],\"shape\":[1000],\"dtype\":\"object\",\"order\":\"little\"}],[\"tsne_x\",{\"type\":\"ndarray\",\"array\":{\"type\":\"bytes\",\"data\":\"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\"},\"shape\":[1000],\"dtype\":\"float32\",\"order\":\"little\"}],[\"tsne_y\",{\"type\":\"ndarray\",\"array\":{\"type\":\"bytes\",\"data\":\"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\"},\"shape\":[1000],\"dtype\":\"float32\",\"order\":\"little\"}]]}}},\"view\":{\"type\":\"object\",\"name\":\"CDSView\",\"id\":\"p1050\",\"attributes\":{\"filter\":{\"type\":\"object\",\"name\":\"AllIndices\",\"id\":\"p1051\"}}},\"glyph\":{\"type\":\"object\",\"name\":\"Scatter\",\"id\":\"p1046\",\"attributes\":{\"x\":{\"type\":\"field\",\"field\":\"x\"},\"y\":{\"type\":\"field\",\"field\":\"y\"},\"line_color\":{\"type\":\"field\",\"field\":\"label\",\"transform\":{\"type\":\"object\",\"name\":\"CategoricalColorMapper\",\"id\":\"p1042\",\"attributes\":{\"palette\":[\"#1f77b4\",\"#ff7f0e\",\"#2ca02c\"],\"factors\":{\"type\":\"ndarray\",\"array\":[\"0\",\"1\"],\"shape\":[2],\"dtype\":\"object\",\"order\":\"little\"}}}},\"fill_color\":{\"type\":\"field\",\"field\":\"label\",\"transform\":{\"id\":\"p1042\"}},\"hatch_color\":{\"type\":\"field\",\"field\":\"label\",\"transform\":{\"id\":\"p1042\"}}}},\"nonselection_glyph\":{\"type\":\"object\",\"name\":\"Scatter\",\"id\":\"p1047\",\"attributes\":{\"x\":{\"type\":\"field\",\"field\":\"x\"},\"y\":{\"type\":\"field\",\"field\":\"y\"},\"line_color\":{\"type\":\"field\",\"field\":\"label\",\"transform\":{\"id\":\"p1042\"}},\"line_alpha\":{\"type\":\"value\",\"value\":0.1},\"fill_color\":{\"type\":\"field\",\"field\":\"label\",\"transform\":{\"id\":\"p1042\"}},\"fill_alpha\":{\"type\":\"value\",\"value\":0.1},\"hatch_color\":{\"type\":\"field\",\"field\":\"label\",\"transform\":{\"id\":\"p1042\"}},\"hatch_alpha\":{\"type\":\"value\",\"value\":0.1}}},\"muted_glyph\":{\"type\":\"object\",\"name\":\"Scatter\",\"id\":\"p1048\",\"attributes\":{\"x\":{\"type\":\"field\",\"field\":\"x\"},\"y\":{\"type\":\"field\",\"field\":\"y\"},\"line_color\":{\"type\":\"field\",\"field\":\"label\",\"transform\":{\"id\":\"p1042\"}},\"line_alpha\":{\"type\":\"value\",\"value\":0.2},\"fill_color\":{\"type\":\"field\",\"field\":\"label\",\"transform\":{\"id\":\"p1042\"}},\"fill_alpha\":{\"type\":\"value\",\"value\":0.2},\"hatch_color\":{\"type\":\"field\",\"field\":\"label\",\"transform\":{\"id\":\"p1042\"}},\"hatch_alpha\":{\"type\":\"value\",\"value\":0.2}}}}}],\"toolbar\":{\"type\":\"object\",\"name\":\"Toolbar\",\"id\":\"p1011\",\"attributes\":{\"tools\":[{\"type\":\"object\",\"name\":\"LassoSelectTool\",\"id\":\"p1024\",\"attributes\":{\"renderers\":\"auto\",\"overlay\":{\"type\":\"object\",\"name\":\"PolyAnnotation\",\"id\":\"p1025\",\"attributes\":{\"syncable\":false,\"level\":\"overlay\",\"visible\":false,\"xs\":[],\"ys\":[],\"editable\":true,\"line_color\":\"black\",\"line_alpha\":1.0,\"line_width\":2,\"line_dash\":[4,4],\"fill_color\":\"lightgrey\",\"fill_alpha\":0.5}}}},{\"type\":\"object\",\"name\":\"BoxSelectTool\",\"id\":\"p1026\",\"attributes\":{\"renderers\":\"auto\",\"overlay\":{\"type\":\"object\",\"name\":\"BoxAnnotation\",\"id\":\"p1027\",\"attributes\":{\"syncable\":false,\"line_color\":\"black\",\"line_alpha\":1.0,\"line_width\":2,\"line_dash\":[4,4],\"fill_color\":\"lightgrey\",\"fill_alpha\":0.5,\"level\":\"overlay\",\"visible\":false,\"left\":{\"type\":\"number\",\"value\":\"nan\"},\"right\":{\"type\":\"number\",\"value\":\"nan\"},\"top\":{\"type\":\"number\",\"value\":\"nan\"},\"bottom\":{\"type\":\"number\",\"value\":\"nan\"},\"editable\":true,\"handles\":{\"type\":\"object\",\"name\":\"BoxInteractionHandles\",\"id\":\"p1033\",\"attributes\":{\"all\":{\"type\":\"object\",\"name\":\"AreaVisuals\",\"id\":\"p1032\",\"attributes\":{\"fill_color\":\"white\",\"hover_fill_color\":\"lightgray\"}}}}}}}},{\"type\":\"object\",\"name\":\"PanTool\",\"id\":\"p1034\"},{\"type\":\"object\",\"name\":\"ZoomInTool\",\"id\":\"p1035\",\"attributes\":{\"renderers\":\"auto\"}},{\"type\":\"object\",\"name\":\"ZoomOutTool\",\"id\":\"p1036\",\"attributes\":{\"renderers\":\"auto\"}},{\"type\":\"object\",\"name\":\"ResetTool\",\"id\":\"p1037\"},{\"type\":\"object\",\"name\":\"HoverTool\",\"id\":\"p1038\",\"attributes\":{\"renderers\":\"auto\",\"tooltips\":[[\"x, y\",\"$x, $y\"],[\"index\",\"$index\"]]}}]}},\"left\":[{\"type\":\"object\",\"name\":\"LinearAxis\",\"id\":\"p1019\",\"attributes\":{\"ticker\":{\"type\":\"object\",\"name\":\"BasicTicker\",\"id\":\"p1020\",\"attributes\":{\"mantissas\":[1,2,5]}},\"formatter\":{\"type\":\"object\",\"name\":\"BasicTickFormatter\",\"id\":\"p1021\"},\"major_label_policy\":{\"type\":\"object\",\"name\":\"AllLabels\",\"id\":\"p1022\"}}}],\"below\":[{\"type\":\"object\",\"name\":\"LinearAxis\",\"id\":\"p1014\",\"attributes\":{\"ticker\":{\"type\":\"object\",\"name\":\"BasicTicker\",\"id\":\"p1015\",\"attributes\":{\"mantissas\":[1,2,5]}},\"formatter\":{\"type\":\"object\",\"name\":\"BasicTickFormatter\",\"id\":\"p1016\"},\"major_label_policy\":{\"type\":\"object\",\"name\":\"AllLabels\",\"id\":\"p1017\"}}}],\"center\":[{\"type\":\"object\",\"name\":\"Grid\",\"id\":\"p1018\",\"attributes\":{\"axis\":{\"id\":\"p1014\"}}},{\"type\":\"object\",\"name\":\"Grid\",\"id\":\"p1023\",\"attributes\":{\"dimension\":1,\"axis\":{\"id\":\"p1019\"}}},{\"type\":\"object\",\"name\":\"Legend\",\"id\":\"p1052\",\"attributes\":{\"location\":\"bottom_left\",\"click_policy\":\"mute\",\"items\":[{\"type\":\"object\",\"name\":\"LegendItem\",\"id\":\"p1053\",\"attributes\":{\"label\":{\"type\":\"value\",\"value\":\"0\"},\"renderers\":[{\"id\":\"p1049\"}],\"index\":0}},{\"type\":\"object\",\"name\":\"LegendItem\",\"id\":\"p1054\",\"attributes\":{\"label\":{\"type\":\"value\",\"value\":\"1\"},\"renderers\":[{\"id\":\"p1049\"}],\"index\":3}}]}}]}}]}};\n",
              "  const render_items = [{\"docid\":\"abdead9a-3384-46a0-8ed9-fb641c80f27d\",\"roots\":{\"p1003\":\"d4f8b57e-f8c8-4865-bc48-1398f14be6dd\"},\"root_ids\":[\"p1003\"]}];\n",
              "  void root.Bokeh.embed.embed_items_notebook(docs_json, render_items);\n",
              "  }\n",
              "  if (root.Bokeh !== undefined) {\n",
              "    embed_document(root);\n",
              "  } else {\n",
              "    let attempts = 0;\n",
              "    const timer = setInterval(function(root) {\n",
              "      if (root.Bokeh !== undefined) {\n",
              "        clearInterval(timer);\n",
              "        embed_document(root);\n",
              "      } else {\n",
              "        attempts++;\n",
              "        if (attempts > 100) {\n",
              "          clearInterval(timer);\n",
              "          console.log(\"Bokeh: ERROR: Unable to run BokehJS code because BokehJS library is missing\");\n",
              "        }\n",
              "      }\n",
              "    }, 10, root)\n",
              "  }\n",
              "})(window);"
            ],
            "application/vnd.bokehjs_exec.v0+json": ""
          },
          "metadata": {
            "application/vnd.bokehjs_exec.v0+json": {
              "id": "p1003"
            }
          }
        }
      ]
    },
    {
      "cell_type": "code",
      "source": [
        "import pandas as pd\n",
        "\n",
        "df = pd.DataFrame(np.hstack([embeddings, original_images]), columns = [f\"emb_{i}\" for i in range(64)]+[f\"or_{i}\" for i in range(32*32*3)])\n",
        "df['label'] = labels\n",
        "df.to_csv('/content/drive/MyDrive/Data/DIM_embedding.csv')\n",
        "\n",
        "tsne_results.to_csv('/content/drive/MyDrive/Data/DIM_tsne_embedding.csv')"
      ],
      "metadata": {
        "id": "KyA8HS43GSUs",
        "colab": {
          "base_uri": "https://localhost:8080/",
          "height": 400
        },
        "outputId": "411ead37-72f2-4faf-91cb-143e4b496042"
      },
      "execution_count": 7,
      "outputs": [
        {
          "output_type": "error",
          "ename": "ValueError",
          "evalue": "Shape of passed values is (2, 1), indices imply (2, 3136)",
          "traceback": [
            "\u001b[0;31m---------------------------------------------------------------------------\u001b[0m",
            "\u001b[0;31mValueError\u001b[0m                                Traceback (most recent call last)",
            "\u001b[0;32m<ipython-input-7-05e591e12534>\u001b[0m in \u001b[0;36m<cell line: 0>\u001b[0;34m()\u001b[0m\n\u001b[1;32m      1\u001b[0m \u001b[0;32mimport\u001b[0m \u001b[0mpandas\u001b[0m \u001b[0;32mas\u001b[0m \u001b[0mpd\u001b[0m\u001b[0;34m\u001b[0m\u001b[0;34m\u001b[0m\u001b[0m\n\u001b[1;32m      2\u001b[0m \u001b[0;34m\u001b[0m\u001b[0m\n\u001b[0;32m----> 3\u001b[0;31m \u001b[0mdf\u001b[0m \u001b[0;34m=\u001b[0m \u001b[0mpd\u001b[0m\u001b[0;34m.\u001b[0m\u001b[0mDataFrame\u001b[0m\u001b[0;34m(\u001b[0m\u001b[0mnp\u001b[0m\u001b[0;34m.\u001b[0m\u001b[0mhstack\u001b[0m\u001b[0;34m(\u001b[0m\u001b[0;34m[\u001b[0m\u001b[0membeddings\u001b[0m\u001b[0;34m,\u001b[0m \u001b[0moriginal_images\u001b[0m\u001b[0;34m]\u001b[0m\u001b[0;34m)\u001b[0m\u001b[0;34m,\u001b[0m \u001b[0mcolumns\u001b[0m \u001b[0;34m=\u001b[0m \u001b[0;34m[\u001b[0m\u001b[0;34mf\"emb_{i}\"\u001b[0m \u001b[0;32mfor\u001b[0m \u001b[0mi\u001b[0m \u001b[0;32min\u001b[0m \u001b[0mrange\u001b[0m\u001b[0;34m(\u001b[0m\u001b[0;36m64\u001b[0m\u001b[0;34m)\u001b[0m\u001b[0;34m]\u001b[0m\u001b[0;34m+\u001b[0m\u001b[0;34m[\u001b[0m\u001b[0;34mf\"or_{i}\"\u001b[0m \u001b[0;32mfor\u001b[0m \u001b[0mi\u001b[0m \u001b[0;32min\u001b[0m \u001b[0mrange\u001b[0m\u001b[0;34m(\u001b[0m\u001b[0;36m32\u001b[0m\u001b[0;34m*\u001b[0m\u001b[0;36m32\u001b[0m\u001b[0;34m*\u001b[0m\u001b[0;36m3\u001b[0m\u001b[0;34m)\u001b[0m\u001b[0;34m]\u001b[0m\u001b[0;34m)\u001b[0m\u001b[0;34m\u001b[0m\u001b[0;34m\u001b[0m\u001b[0m\n\u001b[0m\u001b[1;32m      4\u001b[0m \u001b[0mdf\u001b[0m\u001b[0;34m[\u001b[0m\u001b[0;34m'label'\u001b[0m\u001b[0;34m]\u001b[0m \u001b[0;34m=\u001b[0m \u001b[0mlabels\u001b[0m\u001b[0;34m\u001b[0m\u001b[0;34m\u001b[0m\u001b[0m\n\u001b[1;32m      5\u001b[0m \u001b[0mdf\u001b[0m\u001b[0;34m.\u001b[0m\u001b[0mto_csv\u001b[0m\u001b[0;34m(\u001b[0m\u001b[0;34m'/content/drive/MyDrive/Data/DIM_embedding.csv'\u001b[0m\u001b[0;34m)\u001b[0m\u001b[0;34m\u001b[0m\u001b[0;34m\u001b[0m\u001b[0m\n",
            "\u001b[0;32m/usr/local/lib/python3.11/dist-packages/pandas/core/frame.py\u001b[0m in \u001b[0;36m__init__\u001b[0;34m(self, data, index, columns, dtype, copy)\u001b[0m\n\u001b[1;32m    825\u001b[0m                 )\n\u001b[1;32m    826\u001b[0m             \u001b[0;32melse\u001b[0m\u001b[0;34m:\u001b[0m\u001b[0;34m\u001b[0m\u001b[0;34m\u001b[0m\u001b[0m\n\u001b[0;32m--> 827\u001b[0;31m                 mgr = ndarray_to_mgr(\n\u001b[0m\u001b[1;32m    828\u001b[0m                     \u001b[0mdata\u001b[0m\u001b[0;34m,\u001b[0m\u001b[0;34m\u001b[0m\u001b[0;34m\u001b[0m\u001b[0m\n\u001b[1;32m    829\u001b[0m                     \u001b[0mindex\u001b[0m\u001b[0;34m,\u001b[0m\u001b[0;34m\u001b[0m\u001b[0;34m\u001b[0m\u001b[0m\n",
            "\u001b[0;32m/usr/local/lib/python3.11/dist-packages/pandas/core/internals/construction.py\u001b[0m in \u001b[0;36mndarray_to_mgr\u001b[0;34m(values, index, columns, dtype, copy, typ)\u001b[0m\n\u001b[1;32m    334\u001b[0m     )\n\u001b[1;32m    335\u001b[0m \u001b[0;34m\u001b[0m\u001b[0m\n\u001b[0;32m--> 336\u001b[0;31m     \u001b[0m_check_values_indices_shape_match\u001b[0m\u001b[0;34m(\u001b[0m\u001b[0mvalues\u001b[0m\u001b[0;34m,\u001b[0m \u001b[0mindex\u001b[0m\u001b[0;34m,\u001b[0m \u001b[0mcolumns\u001b[0m\u001b[0;34m)\u001b[0m\u001b[0;34m\u001b[0m\u001b[0;34m\u001b[0m\u001b[0m\n\u001b[0m\u001b[1;32m    337\u001b[0m \u001b[0;34m\u001b[0m\u001b[0m\n\u001b[1;32m    338\u001b[0m     \u001b[0;32mif\u001b[0m \u001b[0mtyp\u001b[0m \u001b[0;34m==\u001b[0m \u001b[0;34m\"array\"\u001b[0m\u001b[0;34m:\u001b[0m\u001b[0;34m\u001b[0m\u001b[0;34m\u001b[0m\u001b[0m\n",
            "\u001b[0;32m/usr/local/lib/python3.11/dist-packages/pandas/core/internals/construction.py\u001b[0m in \u001b[0;36m_check_values_indices_shape_match\u001b[0;34m(values, index, columns)\u001b[0m\n\u001b[1;32m    418\u001b[0m         \u001b[0mpassed\u001b[0m \u001b[0;34m=\u001b[0m \u001b[0mvalues\u001b[0m\u001b[0;34m.\u001b[0m\u001b[0mshape\u001b[0m\u001b[0;34m\u001b[0m\u001b[0;34m\u001b[0m\u001b[0m\n\u001b[1;32m    419\u001b[0m         \u001b[0mimplied\u001b[0m \u001b[0;34m=\u001b[0m \u001b[0;34m(\u001b[0m\u001b[0mlen\u001b[0m\u001b[0;34m(\u001b[0m\u001b[0mindex\u001b[0m\u001b[0;34m)\u001b[0m\u001b[0;34m,\u001b[0m \u001b[0mlen\u001b[0m\u001b[0;34m(\u001b[0m\u001b[0mcolumns\u001b[0m\u001b[0;34m)\u001b[0m\u001b[0;34m)\u001b[0m\u001b[0;34m\u001b[0m\u001b[0;34m\u001b[0m\u001b[0m\n\u001b[0;32m--> 420\u001b[0;31m         \u001b[0;32mraise\u001b[0m \u001b[0mValueError\u001b[0m\u001b[0;34m(\u001b[0m\u001b[0;34mf\"Shape of passed values is {passed}, indices imply {implied}\"\u001b[0m\u001b[0;34m)\u001b[0m\u001b[0;34m\u001b[0m\u001b[0;34m\u001b[0m\u001b[0m\n\u001b[0m\u001b[1;32m    421\u001b[0m \u001b[0;34m\u001b[0m\u001b[0m\n\u001b[1;32m    422\u001b[0m \u001b[0;34m\u001b[0m\u001b[0m\n",
            "\u001b[0;31mValueError\u001b[0m: Shape of passed values is (2, 1), indices imply (2, 3136)"
          ]
        }
      ]
    },
    {
      "cell_type": "code",
      "source": [
        "import numpy as np\n",
        "import matplotlib.pyplot as plt\n",
        "import yaml\n",
        "import os\n",
        "import sys\n",
        "\n",
        "import pandas as pd\n",
        "\n",
        "from torchvision import transforms\n",
        "\n",
        "df = pd.read_csv('/content/drive/MyDrive/Data/DIM_embedding.csv')"
      ],
      "metadata": {
        "id": "sQh0CMJvREP_"
      },
      "execution_count": 14,
      "outputs": []
    },
    {
      "cell_type": "code",
      "source": [
        "embeddings, labels, original_images = df[[c for c in df.columns if 'emb' in c]].to_numpy(), df['label'].to_numpy(), df[[c for c in df.columns if 'or' in c]].to_numpy()\n",
        "\n",
        "runner = Runner(\n",
        "    encoder_function = None,\n",
        "    loader = None,\n",
        "    original_loader = None,\n",
        "    config_path = \"/content/DIM_config.yaml\"\n",
        ")\n",
        "\n",
        "embeddings, labels, original_images, tsne_results = runner.run(\"DIM_runs_14\", embeddings = embeddings, labels = labels, original_images = original_images, n_iter = 10)\n",
        "\n",
        "\n"
      ],
      "metadata": {
        "colab": {
          "base_uri": "https://localhost:8080/",
          "height": 653
        },
        "id": "OhbX8oFbKpqh",
        "outputId": "4503046a-121d-4b06-89e6-61a795b445f8"
      },
      "execution_count": null,
      "outputs": [
        {
          "output_type": "stream",
          "name": "stdout",
          "text": [
            "{'model_name': 'SEP', 'encoder': 'DIM', 'input_space_shape': 64, 'delta': 14.0, 'lr': 0.1, 'dr': 0.9, 'omega': 0.3, 'kernel': 'exponential', 'num_exemp': 30}\n"
          ]
        },
        {
          "output_type": "display_data",
          "data": {
            "text/plain": [
              "<IPython.core.display.HTML object>"
            ],
            "text/html": []
          },
          "metadata": {}
        },
        {
          "output_type": "error",
          "ename": "CommError",
          "evalue": "Run initialization has timed out after 90.0 sec. Please try increasing the timeout with the `init_timeout` setting: `wandb.init(settings=wandb.Settings(init_timeout=120))`.",
          "traceback": [
            "\u001b[0;31m---------------------------------------------------------------------------\u001b[0m",
            "\u001b[0;31mCancelledError\u001b[0m                            Traceback (most recent call last)",
            "\u001b[0;32m/usr/lib/python3.11/asyncio/tasks.py\u001b[0m in \u001b[0;36mwait_for\u001b[0;34m(fut, timeout)\u001b[0m\n\u001b[1;32m    499\u001b[0m             \u001b[0;32mtry\u001b[0m\u001b[0;34m:\u001b[0m\u001b[0;34m\u001b[0m\u001b[0;34m\u001b[0m\u001b[0m\n\u001b[0;32m--> 500\u001b[0;31m                 \u001b[0;32mreturn\u001b[0m \u001b[0mfut\u001b[0m\u001b[0;34m.\u001b[0m\u001b[0mresult\u001b[0m\u001b[0;34m(\u001b[0m\u001b[0;34m)\u001b[0m\u001b[0;34m\u001b[0m\u001b[0;34m\u001b[0m\u001b[0m\n\u001b[0m\u001b[1;32m    501\u001b[0m             \u001b[0;32mexcept\u001b[0m \u001b[0mexceptions\u001b[0m\u001b[0;34m.\u001b[0m\u001b[0mCancelledError\u001b[0m \u001b[0;32mas\u001b[0m \u001b[0mexc\u001b[0m\u001b[0;34m:\u001b[0m\u001b[0;34m\u001b[0m\u001b[0;34m\u001b[0m\u001b[0m\n",
            "\u001b[0;32m/usr/lib/python3.11/asyncio/locks.py\u001b[0m in \u001b[0;36mwait\u001b[0;34m(self)\u001b[0m\n\u001b[1;32m    212\u001b[0m         \u001b[0;32mtry\u001b[0m\u001b[0;34m:\u001b[0m\u001b[0;34m\u001b[0m\u001b[0;34m\u001b[0m\u001b[0m\n\u001b[0;32m--> 213\u001b[0;31m             \u001b[0;32mawait\u001b[0m \u001b[0mfut\u001b[0m\u001b[0;34m\u001b[0m\u001b[0;34m\u001b[0m\u001b[0m\n\u001b[0m\u001b[1;32m    214\u001b[0m             \u001b[0;32mreturn\u001b[0m \u001b[0;32mTrue\u001b[0m\u001b[0;34m\u001b[0m\u001b[0;34m\u001b[0m\u001b[0m\n",
            "\u001b[0;31mCancelledError\u001b[0m: ",
            "\nThe above exception was the direct cause of the following exception:\n",
            "\u001b[0;31mTimeoutError\u001b[0m                              Traceback (most recent call last)",
            "\u001b[0;32m/usr/local/lib/python3.11/dist-packages/wandb/sdk/mailbox/handles.py\u001b[0m in \u001b[0;36mwait_async\u001b[0;34m(self, timeout)\u001b[0m\n\u001b[1;32m    140\u001b[0m         \u001b[0;32mtry\u001b[0m\u001b[0;34m:\u001b[0m\u001b[0;34m\u001b[0m\u001b[0;34m\u001b[0m\u001b[0m\n\u001b[0;32m--> 141\u001b[0;31m             \u001b[0;32mawait\u001b[0m \u001b[0masyncio\u001b[0m\u001b[0;34m.\u001b[0m\u001b[0mwait_for\u001b[0m\u001b[0;34m(\u001b[0m\u001b[0mevt\u001b[0m\u001b[0;34m.\u001b[0m\u001b[0mwait\u001b[0m\u001b[0;34m(\u001b[0m\u001b[0;34m)\u001b[0m\u001b[0;34m,\u001b[0m \u001b[0mtimeout\u001b[0m\u001b[0;34m=\u001b[0m\u001b[0mtimeout\u001b[0m\u001b[0;34m)\u001b[0m\u001b[0;34m\u001b[0m\u001b[0;34m\u001b[0m\u001b[0m\n\u001b[0m\u001b[1;32m    142\u001b[0m \u001b[0;34m\u001b[0m\u001b[0m\n",
            "\u001b[0;32m/usr/lib/python3.11/asyncio/tasks.py\u001b[0m in \u001b[0;36mwait_for\u001b[0;34m(fut, timeout)\u001b[0m\n\u001b[1;32m    501\u001b[0m             \u001b[0;32mexcept\u001b[0m \u001b[0mexceptions\u001b[0m\u001b[0;34m.\u001b[0m\u001b[0mCancelledError\u001b[0m \u001b[0;32mas\u001b[0m \u001b[0mexc\u001b[0m\u001b[0;34m:\u001b[0m\u001b[0;34m\u001b[0m\u001b[0;34m\u001b[0m\u001b[0m\n\u001b[0;32m--> 502\u001b[0;31m                 \u001b[0;32mraise\u001b[0m \u001b[0mexceptions\u001b[0m\u001b[0;34m.\u001b[0m\u001b[0mTimeoutError\u001b[0m\u001b[0;34m(\u001b[0m\u001b[0;34m)\u001b[0m \u001b[0;32mfrom\u001b[0m \u001b[0mexc\u001b[0m\u001b[0;34m\u001b[0m\u001b[0;34m\u001b[0m\u001b[0m\n\u001b[0m\u001b[1;32m    503\u001b[0m     \u001b[0;32mfinally\u001b[0m\u001b[0;34m:\u001b[0m\u001b[0;34m\u001b[0m\u001b[0;34m\u001b[0m\u001b[0m\n",
            "\u001b[0;31mTimeoutError\u001b[0m: ",
            "\nThe above exception was the direct cause of the following exception:\n",
            "\u001b[0;31mTimeoutError\u001b[0m                              Traceback (most recent call last)",
            "\u001b[0;32m/usr/local/lib/python3.11/dist-packages/wandb/sdk/wandb_init.py\u001b[0m in \u001b[0;36minit\u001b[0;34m(self, settings, config)\u001b[0m\n\u001b[1;32m    945\u001b[0m             \u001b[0;32mtry\u001b[0m\u001b[0;34m:\u001b[0m\u001b[0;34m\u001b[0m\u001b[0;34m\u001b[0m\u001b[0m\n\u001b[0;32m--> 946\u001b[0;31m                 result = wait_with_progress(\n\u001b[0m\u001b[1;32m    947\u001b[0m                     \u001b[0mrun_init_handle\u001b[0m\u001b[0;34m,\u001b[0m\u001b[0;34m\u001b[0m\u001b[0;34m\u001b[0m\u001b[0m\n",
            "\u001b[0;32m/usr/local/lib/python3.11/dist-packages/wandb/sdk/mailbox/wait_with_progress.py\u001b[0m in \u001b[0;36mwait_with_progress\u001b[0;34m(handle, timeout, progress_after, display_progress)\u001b[0m\n\u001b[1;32m     22\u001b[0m     \"\"\"\n\u001b[0;32m---> 23\u001b[0;31m     return wait_all_with_progress(\n\u001b[0m\u001b[1;32m     24\u001b[0m         \u001b[0;34m[\u001b[0m\u001b[0mhandle\u001b[0m\u001b[0;34m]\u001b[0m\u001b[0;34m,\u001b[0m\u001b[0;34m\u001b[0m\u001b[0;34m\u001b[0m\u001b[0m\n",
            "\u001b[0;32m/usr/local/lib/python3.11/dist-packages/wandb/sdk/mailbox/wait_with_progress.py\u001b[0m in \u001b[0;36mwait_all_with_progress\u001b[0;34m(handle_list, timeout, progress_after, display_progress)\u001b[0m\n\u001b[1;32m     85\u001b[0m \u001b[0;34m\u001b[0m\u001b[0m\n\u001b[0;32m---> 86\u001b[0;31m     \u001b[0;32mreturn\u001b[0m \u001b[0masyncio_compat\u001b[0m\u001b[0;34m.\u001b[0m\u001b[0mrun\u001b[0m\u001b[0;34m(\u001b[0m\u001b[0mprogress_loop_with_timeout\u001b[0m\u001b[0;34m)\u001b[0m\u001b[0;34m\u001b[0m\u001b[0;34m\u001b[0m\u001b[0m\n\u001b[0m\u001b[1;32m     87\u001b[0m \u001b[0;34m\u001b[0m\u001b[0m\n",
            "\u001b[0;32m/usr/local/lib/python3.11/dist-packages/wandb/sdk/lib/asyncio_compat.py\u001b[0m in \u001b[0;36mrun\u001b[0;34m(fn)\u001b[0m\n\u001b[1;32m     29\u001b[0m         \u001b[0;32mtry\u001b[0m\u001b[0;34m:\u001b[0m\u001b[0;34m\u001b[0m\u001b[0;34m\u001b[0m\u001b[0m\n\u001b[0;32m---> 30\u001b[0;31m             \u001b[0;32mreturn\u001b[0m \u001b[0mfuture\u001b[0m\u001b[0;34m.\u001b[0m\u001b[0mresult\u001b[0m\u001b[0;34m(\u001b[0m\u001b[0;34m)\u001b[0m\u001b[0;34m\u001b[0m\u001b[0;34m\u001b[0m\u001b[0m\n\u001b[0m\u001b[1;32m     31\u001b[0m \u001b[0;34m\u001b[0m\u001b[0m\n",
            "\u001b[0;32m/usr/lib/python3.11/concurrent/futures/_base.py\u001b[0m in \u001b[0;36mresult\u001b[0;34m(self, timeout)\u001b[0m\n\u001b[1;32m    455\u001b[0m                 \u001b[0;32melif\u001b[0m \u001b[0mself\u001b[0m\u001b[0;34m.\u001b[0m\u001b[0m_state\u001b[0m \u001b[0;34m==\u001b[0m \u001b[0mFINISHED\u001b[0m\u001b[0;34m:\u001b[0m\u001b[0;34m\u001b[0m\u001b[0;34m\u001b[0m\u001b[0m\n\u001b[0;32m--> 456\u001b[0;31m                     \u001b[0;32mreturn\u001b[0m \u001b[0mself\u001b[0m\u001b[0;34m.\u001b[0m\u001b[0m__get_result\u001b[0m\u001b[0;34m(\u001b[0m\u001b[0;34m)\u001b[0m\u001b[0;34m\u001b[0m\u001b[0;34m\u001b[0m\u001b[0m\n\u001b[0m\u001b[1;32m    457\u001b[0m                 \u001b[0;32melse\u001b[0m\u001b[0;34m:\u001b[0m\u001b[0;34m\u001b[0m\u001b[0;34m\u001b[0m\u001b[0m\n",
            "\u001b[0;32m/usr/lib/python3.11/concurrent/futures/_base.py\u001b[0m in \u001b[0;36m__get_result\u001b[0;34m(self)\u001b[0m\n\u001b[1;32m    400\u001b[0m             \u001b[0;32mtry\u001b[0m\u001b[0;34m:\u001b[0m\u001b[0;34m\u001b[0m\u001b[0;34m\u001b[0m\u001b[0m\n\u001b[0;32m--> 401\u001b[0;31m                 \u001b[0;32mraise\u001b[0m \u001b[0mself\u001b[0m\u001b[0;34m.\u001b[0m\u001b[0m_exception\u001b[0m\u001b[0;34m\u001b[0m\u001b[0;34m\u001b[0m\u001b[0m\n\u001b[0m\u001b[1;32m    402\u001b[0m             \u001b[0;32mfinally\u001b[0m\u001b[0;34m:\u001b[0m\u001b[0;34m\u001b[0m\u001b[0;34m\u001b[0m\u001b[0m\n",
            "\u001b[0;32m/usr/lib/python3.11/concurrent/futures/thread.py\u001b[0m in \u001b[0;36mrun\u001b[0;34m(self)\u001b[0m\n\u001b[1;32m     57\u001b[0m         \u001b[0;32mtry\u001b[0m\u001b[0;34m:\u001b[0m\u001b[0;34m\u001b[0m\u001b[0;34m\u001b[0m\u001b[0m\n\u001b[0;32m---> 58\u001b[0;31m             \u001b[0mresult\u001b[0m \u001b[0;34m=\u001b[0m \u001b[0mself\u001b[0m\u001b[0;34m.\u001b[0m\u001b[0mfn\u001b[0m\u001b[0;34m(\u001b[0m\u001b[0;34m*\u001b[0m\u001b[0mself\u001b[0m\u001b[0;34m.\u001b[0m\u001b[0margs\u001b[0m\u001b[0;34m,\u001b[0m \u001b[0;34m**\u001b[0m\u001b[0mself\u001b[0m\u001b[0;34m.\u001b[0m\u001b[0mkwargs\u001b[0m\u001b[0;34m)\u001b[0m\u001b[0;34m\u001b[0m\u001b[0;34m\u001b[0m\u001b[0m\n\u001b[0m\u001b[1;32m     59\u001b[0m         \u001b[0;32mexcept\u001b[0m \u001b[0mBaseException\u001b[0m \u001b[0;32mas\u001b[0m \u001b[0mexc\u001b[0m\u001b[0;34m:\u001b[0m\u001b[0;34m\u001b[0m\u001b[0;34m\u001b[0m\u001b[0m\n",
            "\u001b[0;32m/usr/local/lib/python3.11/dist-packages/wandb/sdk/lib/asyncio_compat.py\u001b[0m in \u001b[0;36mrun\u001b[0;34m(self, fn)\u001b[0m\n\u001b[1;32m     73\u001b[0m         \"\"\"\n\u001b[0;32m---> 74\u001b[0;31m         \u001b[0;32mreturn\u001b[0m \u001b[0masyncio\u001b[0m\u001b[0;34m.\u001b[0m\u001b[0mrun\u001b[0m\u001b[0;34m(\u001b[0m\u001b[0mself\u001b[0m\u001b[0;34m.\u001b[0m\u001b[0m_run_or_cancel\u001b[0m\u001b[0;34m(\u001b[0m\u001b[0mfn\u001b[0m\u001b[0;34m)\u001b[0m\u001b[0;34m)\u001b[0m\u001b[0;34m\u001b[0m\u001b[0;34m\u001b[0m\u001b[0m\n\u001b[0m\u001b[1;32m     75\u001b[0m \u001b[0;34m\u001b[0m\u001b[0m\n",
            "\u001b[0;32m/usr/lib/python3.11/asyncio/runners.py\u001b[0m in \u001b[0;36mrun\u001b[0;34m(main, debug)\u001b[0m\n\u001b[1;32m    189\u001b[0m     \u001b[0;32mwith\u001b[0m \u001b[0mRunner\u001b[0m\u001b[0;34m(\u001b[0m\u001b[0mdebug\u001b[0m\u001b[0;34m=\u001b[0m\u001b[0mdebug\u001b[0m\u001b[0;34m)\u001b[0m \u001b[0;32mas\u001b[0m \u001b[0mrunner\u001b[0m\u001b[0;34m:\u001b[0m\u001b[0;34m\u001b[0m\u001b[0;34m\u001b[0m\u001b[0m\n\u001b[0;32m--> 190\u001b[0;31m         \u001b[0;32mreturn\u001b[0m \u001b[0mrunner\u001b[0m\u001b[0;34m.\u001b[0m\u001b[0mrun\u001b[0m\u001b[0;34m(\u001b[0m\u001b[0mmain\u001b[0m\u001b[0;34m)\u001b[0m\u001b[0;34m\u001b[0m\u001b[0;34m\u001b[0m\u001b[0m\n\u001b[0m\u001b[1;32m    191\u001b[0m \u001b[0;34m\u001b[0m\u001b[0m\n",
            "\u001b[0;32m/usr/lib/python3.11/asyncio/runners.py\u001b[0m in \u001b[0;36mrun\u001b[0;34m(self, coro, context)\u001b[0m\n\u001b[1;32m    117\u001b[0m         \u001b[0;32mtry\u001b[0m\u001b[0;34m:\u001b[0m\u001b[0;34m\u001b[0m\u001b[0;34m\u001b[0m\u001b[0m\n\u001b[0;32m--> 118\u001b[0;31m             \u001b[0;32mreturn\u001b[0m \u001b[0mself\u001b[0m\u001b[0;34m.\u001b[0m\u001b[0m_loop\u001b[0m\u001b[0;34m.\u001b[0m\u001b[0mrun_until_complete\u001b[0m\u001b[0;34m(\u001b[0m\u001b[0mtask\u001b[0m\u001b[0;34m)\u001b[0m\u001b[0;34m\u001b[0m\u001b[0;34m\u001b[0m\u001b[0m\n\u001b[0m\u001b[1;32m    119\u001b[0m         \u001b[0;32mexcept\u001b[0m \u001b[0mexceptions\u001b[0m\u001b[0;34m.\u001b[0m\u001b[0mCancelledError\u001b[0m\u001b[0;34m:\u001b[0m\u001b[0;34m\u001b[0m\u001b[0;34m\u001b[0m\u001b[0m\n",
            "\u001b[0;32m/usr/lib/python3.11/asyncio/base_events.py\u001b[0m in \u001b[0;36mrun_until_complete\u001b[0;34m(self, future)\u001b[0m\n\u001b[1;32m    653\u001b[0m \u001b[0;34m\u001b[0m\u001b[0m\n\u001b[0;32m--> 654\u001b[0;31m         \u001b[0;32mreturn\u001b[0m \u001b[0mfuture\u001b[0m\u001b[0;34m.\u001b[0m\u001b[0mresult\u001b[0m\u001b[0;34m(\u001b[0m\u001b[0;34m)\u001b[0m\u001b[0;34m\u001b[0m\u001b[0;34m\u001b[0m\u001b[0m\n\u001b[0m\u001b[1;32m    655\u001b[0m \u001b[0;34m\u001b[0m\u001b[0m\n",
            "\u001b[0;32m/usr/local/lib/python3.11/dist-packages/wandb/sdk/lib/asyncio_compat.py\u001b[0m in \u001b[0;36m_run_or_cancel\u001b[0;34m(self, fn)\u001b[0m\n\u001b[1;32m     97\u001b[0m             \u001b[0;32mif\u001b[0m \u001b[0mfn_task\u001b[0m\u001b[0;34m.\u001b[0m\u001b[0mdone\u001b[0m\u001b[0;34m(\u001b[0m\u001b[0;34m)\u001b[0m\u001b[0;34m:\u001b[0m\u001b[0;34m\u001b[0m\u001b[0;34m\u001b[0m\u001b[0m\n\u001b[0;32m---> 98\u001b[0;31m                 \u001b[0;32mreturn\u001b[0m \u001b[0mfn_task\u001b[0m\u001b[0;34m.\u001b[0m\u001b[0mresult\u001b[0m\u001b[0;34m(\u001b[0m\u001b[0;34m)\u001b[0m\u001b[0;34m\u001b[0m\u001b[0;34m\u001b[0m\u001b[0m\n\u001b[0m\u001b[1;32m     99\u001b[0m             \u001b[0;32melse\u001b[0m\u001b[0;34m:\u001b[0m\u001b[0;34m\u001b[0m\u001b[0;34m\u001b[0m\u001b[0m\n",
            "\u001b[0;32m/usr/local/lib/python3.11/dist-packages/wandb/sdk/mailbox/wait_with_progress.py\u001b[0m in \u001b[0;36mprogress_loop_with_timeout\u001b[0;34m()\u001b[0m\n\u001b[1;32m     80\u001b[0m \u001b[0;34m\u001b[0m\u001b[0m\n\u001b[0;32m---> 81\u001b[0;31m             return await _wait_handles_async(\n\u001b[0m\u001b[1;32m     82\u001b[0m                 \u001b[0mhandle_list\u001b[0m\u001b[0;34m,\u001b[0m\u001b[0;34m\u001b[0m\u001b[0;34m\u001b[0m\u001b[0m\n",
            "\u001b[0;32m/usr/local/lib/python3.11/dist-packages/wandb/sdk/mailbox/wait_with_progress.py\u001b[0m in \u001b[0;36m_wait_handles_async\u001b[0;34m(handle_list, timeout)\u001b[0m\n\u001b[1;32m    128\u001b[0m \u001b[0;34m\u001b[0m\u001b[0m\n\u001b[0;32m--> 129\u001b[0;31m     \u001b[0;32masync\u001b[0m \u001b[0;32mwith\u001b[0m \u001b[0masyncio_compat\u001b[0m\u001b[0;34m.\u001b[0m\u001b[0mopen_task_group\u001b[0m\u001b[0;34m(\u001b[0m\u001b[0;34m)\u001b[0m \u001b[0;32mas\u001b[0m \u001b[0mtask_group\u001b[0m\u001b[0;34m:\u001b[0m\u001b[0;34m\u001b[0m\u001b[0;34m\u001b[0m\u001b[0m\n\u001b[0m\u001b[1;32m    130\u001b[0m         \u001b[0;32mfor\u001b[0m \u001b[0mindex\u001b[0m \u001b[0;32min\u001b[0m \u001b[0mrange\u001b[0m\u001b[0;34m(\u001b[0m\u001b[0mlen\u001b[0m\u001b[0;34m(\u001b[0m\u001b[0mhandle_list\u001b[0m\u001b[0;34m)\u001b[0m\u001b[0;34m)\u001b[0m\u001b[0;34m:\u001b[0m\u001b[0;34m\u001b[0m\u001b[0;34m\u001b[0m\u001b[0m\n",
            "\u001b[0;32m/usr/lib/python3.11/contextlib.py\u001b[0m in \u001b[0;36m__aexit__\u001b[0;34m(self, typ, value, traceback)\u001b[0m\n\u001b[1;32m    216\u001b[0m             \u001b[0;32mtry\u001b[0m\u001b[0;34m:\u001b[0m\u001b[0;34m\u001b[0m\u001b[0;34m\u001b[0m\u001b[0m\n\u001b[0;32m--> 217\u001b[0;31m                 \u001b[0;32mawait\u001b[0m \u001b[0manext\u001b[0m\u001b[0;34m(\u001b[0m\u001b[0mself\u001b[0m\u001b[0;34m.\u001b[0m\u001b[0mgen\u001b[0m\u001b[0;34m)\u001b[0m\u001b[0;34m\u001b[0m\u001b[0;34m\u001b[0m\u001b[0m\n\u001b[0m\u001b[1;32m    218\u001b[0m             \u001b[0;32mexcept\u001b[0m \u001b[0mStopAsyncIteration\u001b[0m\u001b[0;34m:\u001b[0m\u001b[0;34m\u001b[0m\u001b[0;34m\u001b[0m\u001b[0m\n",
            "\u001b[0;32m/usr/local/lib/python3.11/dist-packages/wandb/sdk/lib/asyncio_compat.py\u001b[0m in \u001b[0;36mopen_task_group\u001b[0;34m()\u001b[0m\n\u001b[1;32m    189\u001b[0m         \u001b[0;32myield\u001b[0m \u001b[0mtask_group\u001b[0m\u001b[0;34m\u001b[0m\u001b[0;34m\u001b[0m\u001b[0m\n\u001b[0;32m--> 190\u001b[0;31m         \u001b[0;32mawait\u001b[0m \u001b[0mtask_group\u001b[0m\u001b[0;34m.\u001b[0m\u001b[0m_wait_all\u001b[0m\u001b[0;34m(\u001b[0m\u001b[0;34m)\u001b[0m\u001b[0;34m\u001b[0m\u001b[0;34m\u001b[0m\u001b[0m\n\u001b[0m\u001b[1;32m    191\u001b[0m     \u001b[0;32mfinally\u001b[0m\u001b[0;34m:\u001b[0m\u001b[0;34m\u001b[0m\u001b[0;34m\u001b[0m\u001b[0m\n",
            "\u001b[0;32m/usr/local/lib/python3.11/dist-packages/wandb/sdk/lib/asyncio_compat.py\u001b[0m in \u001b[0;36m_wait_all\u001b[0;34m(self)\u001b[0m\n\u001b[1;32m    158\u001b[0m                 \u001b[0;32mif\u001b[0m \u001b[0mexc\u001b[0m \u001b[0;34m:=\u001b[0m \u001b[0mtask\u001b[0m\u001b[0;34m.\u001b[0m\u001b[0mexception\u001b[0m\u001b[0;34m(\u001b[0m\u001b[0;34m)\u001b[0m\u001b[0;34m:\u001b[0m\u001b[0;34m\u001b[0m\u001b[0;34m\u001b[0m\u001b[0m\n\u001b[0;32m--> 159\u001b[0;31m                     \u001b[0;32mraise\u001b[0m \u001b[0mexc\u001b[0m\u001b[0;34m\u001b[0m\u001b[0;34m\u001b[0m\u001b[0m\n\u001b[0m\u001b[1;32m    160\u001b[0m             \u001b[0;32mexcept\u001b[0m \u001b[0masyncio\u001b[0m\u001b[0;34m.\u001b[0m\u001b[0mCancelledError\u001b[0m\u001b[0;34m:\u001b[0m\u001b[0;34m\u001b[0m\u001b[0;34m\u001b[0m\u001b[0m\n",
            "\u001b[0;32m/usr/local/lib/python3.11/dist-packages/wandb/sdk/mailbox/wait_with_progress.py\u001b[0m in \u001b[0;36mwait_single\u001b[0;34m(index)\u001b[0m\n\u001b[1;32m    126\u001b[0m         \u001b[0mhandle\u001b[0m \u001b[0;34m=\u001b[0m \u001b[0mhandle_list\u001b[0m\u001b[0;34m[\u001b[0m\u001b[0mindex\u001b[0m\u001b[0;34m]\u001b[0m\u001b[0;34m\u001b[0m\u001b[0;34m\u001b[0m\u001b[0m\n\u001b[0;32m--> 127\u001b[0;31m         \u001b[0mresults\u001b[0m\u001b[0;34m[\u001b[0m\u001b[0mindex\u001b[0m\u001b[0;34m]\u001b[0m \u001b[0;34m=\u001b[0m \u001b[0;32mawait\u001b[0m \u001b[0mhandle\u001b[0m\u001b[0;34m.\u001b[0m\u001b[0mwait_async\u001b[0m\u001b[0;34m(\u001b[0m\u001b[0mtimeout\u001b[0m\u001b[0;34m=\u001b[0m\u001b[0mtimeout\u001b[0m\u001b[0;34m)\u001b[0m\u001b[0;34m\u001b[0m\u001b[0;34m\u001b[0m\u001b[0m\n\u001b[0m\u001b[1;32m    128\u001b[0m \u001b[0;34m\u001b[0m\u001b[0m\n",
            "\u001b[0;32m/usr/local/lib/python3.11/dist-packages/wandb/sdk/mailbox/handles.py\u001b[0m in \u001b[0;36mwait_async\u001b[0;34m(self, timeout)\u001b[0m\n\u001b[1;32m    149\u001b[0m                 \u001b[0;32melse\u001b[0m\u001b[0;34m:\u001b[0m\u001b[0;34m\u001b[0m\u001b[0;34m\u001b[0m\u001b[0m\n\u001b[0;32m--> 150\u001b[0;31m                     raise TimeoutError(\n\u001b[0m\u001b[1;32m    151\u001b[0m                         \u001b[0;34mf\"Timed out waiting for response on {self._address}\"\u001b[0m\u001b[0;34m\u001b[0m\u001b[0;34m\u001b[0m\u001b[0m\n",
            "\u001b[0;31mTimeoutError\u001b[0m: Timed out waiting for response on bwr2hr2duvnw",
            "\nDuring handling of the above exception, another exception occurred:\n",
            "\u001b[0;31mCommError\u001b[0m                                 Traceback (most recent call last)",
            "\u001b[0;32m<ipython-input-19-22f9bb247cc7>\u001b[0m in \u001b[0;36m<cell line: 0>\u001b[0;34m()\u001b[0m\n\u001b[1;32m      8\u001b[0m )\n\u001b[1;32m      9\u001b[0m \u001b[0;34m\u001b[0m\u001b[0m\n\u001b[0;32m---> 10\u001b[0;31m \u001b[0membeddings\u001b[0m\u001b[0;34m,\u001b[0m \u001b[0mlabels\u001b[0m\u001b[0;34m,\u001b[0m \u001b[0moriginal_images\u001b[0m\u001b[0;34m,\u001b[0m \u001b[0mtsne_results\u001b[0m \u001b[0;34m=\u001b[0m \u001b[0mrunner\u001b[0m\u001b[0;34m.\u001b[0m\u001b[0mrun\u001b[0m\u001b[0;34m(\u001b[0m\u001b[0;34m\"DIM_runs_14\"\u001b[0m\u001b[0;34m,\u001b[0m \u001b[0membeddings\u001b[0m \u001b[0;34m=\u001b[0m \u001b[0membeddings\u001b[0m\u001b[0;34m,\u001b[0m \u001b[0mlabels\u001b[0m \u001b[0;34m=\u001b[0m \u001b[0mlabels\u001b[0m\u001b[0;34m,\u001b[0m \u001b[0moriginal_images\u001b[0m \u001b[0;34m=\u001b[0m \u001b[0moriginal_images\u001b[0m\u001b[0;34m,\u001b[0m \u001b[0mn_iter\u001b[0m \u001b[0;34m=\u001b[0m \u001b[0;36m10\u001b[0m\u001b[0;34m)\u001b[0m\u001b[0;34m\u001b[0m\u001b[0;34m\u001b[0m\u001b[0m\n\u001b[0m\u001b[1;32m     11\u001b[0m \u001b[0;34m\u001b[0m\u001b[0m\n\u001b[1;32m     12\u001b[0m \u001b[0;34m\u001b[0m\u001b[0m\n",
            "\u001b[0;32m<ipython-input-3-182b8ef6700c>\u001b[0m in \u001b[0;36mrun\u001b[0;34m(self, run_name, device, n_iter, embeddings, labels, original_images)\u001b[0m\n\u001b[1;32m     55\u001b[0m             \u001b[0mnp\u001b[0m\u001b[0;34m.\u001b[0m\u001b[0mrandom\u001b[0m\u001b[0;34m.\u001b[0m\u001b[0mshuffle\u001b[0m\u001b[0;34m(\u001b[0m\u001b[0mpermutation\u001b[0m\u001b[0;34m)\u001b[0m\u001b[0;34m\u001b[0m\u001b[0;34m\u001b[0m\u001b[0m\n\u001b[1;32m     56\u001b[0m             \u001b[0;32mif\u001b[0m \u001b[0mrun_name\u001b[0m \u001b[0;32mis\u001b[0m \u001b[0;32mNone\u001b[0m \u001b[0;34m:\u001b[0m \u001b[0mrun_name\u001b[0m \u001b[0;34m=\u001b[0m \u001b[0;34mf'encoder_{self.config[\"encoder\"]}_kernel_{self.config[\"kernel\"]}_num_exemplars_{self.config[\"num_exemp\"]}'\u001b[0m\u001b[0;34m\u001b[0m\u001b[0;34m\u001b[0m\u001b[0m\n\u001b[0;32m---> 57\u001b[0;31m             logger = wandb.init(project = 'encoder_runs', config = self.config, name = run_name,\n\u001b[0m\u001b[1;32m     58\u001b[0m                 tags = [self.config['model_name'], self.config['encoder'], self.config['kernel'], f\"num_exemp_{self.config['num_exemp']}\"]) if self.config else None\n\u001b[1;32m     59\u001b[0m \u001b[0;34m\u001b[0m\u001b[0m\n",
            "\u001b[0;32m/usr/local/lib/python3.11/dist-packages/wandb/sdk/wandb_init.py\u001b[0m in \u001b[0;36minit\u001b[0;34m(entity, project, dir, id, name, notes, tags, config, config_exclude_keys, config_include_keys, allow_val_change, group, job_type, mode, force, anonymous, reinit, resume, resume_from, fork_from, save_code, tensorboard, sync_tensorboard, monitor_gym, settings)\u001b[0m\n\u001b[1;32m   1483\u001b[0m         \u001b[0;31m# Need to build delay into this sentry capture because our exit hooks\u001b[0m\u001b[0;34m\u001b[0m\u001b[0;34m\u001b[0m\u001b[0m\n\u001b[1;32m   1484\u001b[0m         \u001b[0;31m# mess with sentry's ability to send out errors before the program ends.\u001b[0m\u001b[0;34m\u001b[0m\u001b[0;34m\u001b[0m\u001b[0m\n\u001b[0;32m-> 1485\u001b[0;31m         \u001b[0mwandb\u001b[0m\u001b[0;34m.\u001b[0m\u001b[0m_sentry\u001b[0m\u001b[0;34m.\u001b[0m\u001b[0mreraise\u001b[0m\u001b[0;34m(\u001b[0m\u001b[0me\u001b[0m\u001b[0;34m)\u001b[0m\u001b[0;34m\u001b[0m\u001b[0;34m\u001b[0m\u001b[0m\n\u001b[0m\u001b[1;32m   1486\u001b[0m         \u001b[0;32mraise\u001b[0m \u001b[0mAssertionError\u001b[0m\u001b[0;34m(\u001b[0m\u001b[0;34m)\u001b[0m  \u001b[0;31m# should never get here\u001b[0m\u001b[0;34m\u001b[0m\u001b[0;34m\u001b[0m\u001b[0m\n",
            "\u001b[0;32m/usr/local/lib/python3.11/dist-packages/wandb/analytics/sentry.py\u001b[0m in \u001b[0;36mreraise\u001b[0;34m(self, exc)\u001b[0m\n\u001b[1;32m    154\u001b[0m         \u001b[0;31m# this will messily add this \"reraise\" function to the stack trace,\u001b[0m\u001b[0;34m\u001b[0m\u001b[0;34m\u001b[0m\u001b[0m\n\u001b[1;32m    155\u001b[0m         \u001b[0;31m# but hopefully it's not too bad\u001b[0m\u001b[0;34m\u001b[0m\u001b[0;34m\u001b[0m\u001b[0m\n\u001b[0;32m--> 156\u001b[0;31m         \u001b[0;32mraise\u001b[0m \u001b[0mexc\u001b[0m\u001b[0;34m.\u001b[0m\u001b[0mwith_traceback\u001b[0m\u001b[0;34m(\u001b[0m\u001b[0msys\u001b[0m\u001b[0;34m.\u001b[0m\u001b[0mexc_info\u001b[0m\u001b[0;34m(\u001b[0m\u001b[0;34m)\u001b[0m\u001b[0;34m[\u001b[0m\u001b[0;36m2\u001b[0m\u001b[0;34m]\u001b[0m\u001b[0;34m)\u001b[0m\u001b[0;34m\u001b[0m\u001b[0;34m\u001b[0m\u001b[0m\n\u001b[0m\u001b[1;32m    157\u001b[0m \u001b[0;34m\u001b[0m\u001b[0m\n\u001b[1;32m    158\u001b[0m     \u001b[0;34m@\u001b[0m\u001b[0m_safe_noop\u001b[0m\u001b[0;34m\u001b[0m\u001b[0;34m\u001b[0m\u001b[0m\n",
            "\u001b[0;32m/usr/local/lib/python3.11/dist-packages/wandb/sdk/wandb_init.py\u001b[0m in \u001b[0;36minit\u001b[0;34m(entity, project, dir, id, name, notes, tags, config, config_exclude_keys, config_include_keys, allow_val_change, group, job_type, mode, force, anonymous, reinit, resume, resume_from, fork_from, save_code, tensorboard, sync_tensorboard, monitor_gym, settings)\u001b[0m\n\u001b[1;32m   1469\u001b[0m             \u001b[0minit_telemetry\u001b[0m\u001b[0;34m.\u001b[0m\u001b[0mfeature\u001b[0m\u001b[0;34m.\u001b[0m\u001b[0mtensorboard_sync\u001b[0m \u001b[0;34m=\u001b[0m \u001b[0;32mTrue\u001b[0m\u001b[0;34m\u001b[0m\u001b[0;34m\u001b[0m\u001b[0m\n\u001b[1;32m   1470\u001b[0m \u001b[0;34m\u001b[0m\u001b[0m\n\u001b[0;32m-> 1471\u001b[0;31m         \u001b[0;32mreturn\u001b[0m \u001b[0mwi\u001b[0m\u001b[0;34m.\u001b[0m\u001b[0minit\u001b[0m\u001b[0;34m(\u001b[0m\u001b[0mrun_settings\u001b[0m\u001b[0;34m,\u001b[0m \u001b[0mrun_config\u001b[0m\u001b[0;34m)\u001b[0m\u001b[0;34m\u001b[0m\u001b[0;34m\u001b[0m\u001b[0m\n\u001b[0m\u001b[1;32m   1472\u001b[0m \u001b[0;34m\u001b[0m\u001b[0m\n\u001b[1;32m   1473\u001b[0m     \u001b[0;32mexcept\u001b[0m \u001b[0mKeyboardInterrupt\u001b[0m \u001b[0;32mas\u001b[0m \u001b[0me\u001b[0m\u001b[0;34m:\u001b[0m\u001b[0;34m\u001b[0m\u001b[0;34m\u001b[0m\u001b[0m\n",
            "\u001b[0;32m/usr/local/lib/python3.11/dist-packages/wandb/sdk/wandb_init.py\u001b[0m in \u001b[0;36minit\u001b[0;34m(self, settings, config)\u001b[0m\n\u001b[1;32m    957\u001b[0m                 \u001b[0;31m# or a bug in the SDK (an Error). We cannot distinguish between\u001b[0m\u001b[0;34m\u001b[0m\u001b[0;34m\u001b[0m\u001b[0m\n\u001b[1;32m    958\u001b[0m                 \u001b[0;31m# the two causes here.\u001b[0m\u001b[0;34m\u001b[0m\u001b[0;34m\u001b[0m\u001b[0m\n\u001b[0;32m--> 959\u001b[0;31m                 raise CommError(\n\u001b[0m\u001b[1;32m    960\u001b[0m                     \u001b[0;34mf\"Run initialization has timed out after {timeout} sec.\"\u001b[0m\u001b[0;34m\u001b[0m\u001b[0;34m\u001b[0m\u001b[0m\n\u001b[1;32m    961\u001b[0m                     \u001b[0;34m\" Please try increasing the timeout with the `init_timeout`\"\u001b[0m\u001b[0;34m\u001b[0m\u001b[0;34m\u001b[0m\u001b[0m\n",
            "\u001b[0;31mCommError\u001b[0m: Run initialization has timed out after 90.0 sec. Please try increasing the timeout with the `init_timeout` setting: `wandb.init(settings=wandb.Settings(init_timeout=120))`."
          ]
        }
      ]
    },
    {
      "cell_type": "code",
      "source": [
        "from bokeh.plotting import figure, show\n",
        "from bokeh.io import output_notebook\n",
        "from bokeh.models import ColumnDataSource, ColorBar\n",
        "from bokeh.transform import linear_cmap, factor_cmap\n",
        "from bokeh.palettes import Viridis256\n",
        "from bokeh.layouts import row\n",
        "\n",
        "import plotly.express as px\n",
        "\n",
        "def embedding_plotter(embedding, data=None, hue=None, hover=None, tools = None, nv_cat = 5, height = 400, width = 400, display_result=True):\n",
        "    '''\n",
        "    Рисовалка эмбеддинга. 2D renderer: bokeh. 3D renderer: plotly.\n",
        "    Обязательные инструменты:\n",
        "        - pan (двигать график)\n",
        "        - box zoom\n",
        "        - reset (вылезти из зума в начальное положение)\n",
        "\n",
        "        embedding: something 2D/3D, slicable ~ embedding[:, 0] - валидно\n",
        "            Эмбеддинг\n",
        "        data: pd.DataFrame\n",
        "            Данные, по которым был построен эмбеддинг\n",
        "        hue: string\n",
        "            Колонка из data, по которой красим точки. Поддерживает интерактивную легенду: по клику на каждое\n",
        "                значение hue можно скрыть весь цвет.\n",
        "        hover: string or list of strings\n",
        "            Колонк[а/и] из data, значения которых нужно выводить при наведении мышки на точку\n",
        "        nv_cat: int\n",
        "            number of unique values to consider column categorical\n",
        "        tools: iterable or string in form \"tool1,tool2,...\" or [\"tool1\", \"tool2\", ...]\n",
        "            tools for the interactive plot\n",
        "        height, width: int\n",
        "            parameters of the figure\n",
        "        display_result: boolean\n",
        "            if the results are displayed or just returned\n",
        "\n",
        "    '''\n",
        "    if tools is None:\n",
        "        tools = 'lasso_select,box_select,pan,zoom_in,zoom_out,reset,hover'\n",
        "    else:\n",
        "        if hover and not(\"hover\" in tools):\n",
        "            tools = 'hover,'+\",\".join(tools)\n",
        "\n",
        "\n",
        "    if embedding.shape[1] == 3:\n",
        "        if hover:\n",
        "            hover_data = {h:True for h in hover}\n",
        "        else:\n",
        "            hover_data = None\n",
        "        df = pd.DataFrame(embedding, columns = ['x', 'y', 'z'])\n",
        "        df = pd.concat((df, data), axis=1)\n",
        "        fig = px.scatter_3d(\n",
        "            data_frame = df,\n",
        "            x='x',\n",
        "            y='y',\n",
        "            z='z',\n",
        "            color=df[hue],\n",
        "            hover_data = hover_data\n",
        "        )\n",
        "\n",
        "        fig.update_layout(\n",
        "            modebar_add=tools.split(\",\"),\n",
        "        )\n",
        "\n",
        "        fig.update_traces(marker_size=1, selector=dict(type='scatter3d'))\n",
        "\n",
        "        if display_result: fig.show()\n",
        "\n",
        "    if embedding.shape[1] == 2:\n",
        "        output_notebook()\n",
        "        df = pd.DataFrame(embedding, columns = ['x', 'y'])\n",
        "        df = pd.concat((df, data), axis=1)\n",
        "        tooltips = [\n",
        "            ('x, y', '$x, $y'),\n",
        "            ('index', '$index')\n",
        "        ]\n",
        "        if hover:\n",
        "            for col in hover:\n",
        "                tooltips.append((col, \"@\"+col))\n",
        "        fig = figure(tools=tools, width=width, height=height, tooltips=tooltips)\n",
        "        if df[hue].nunique() < nv_cat or df[hue].dtype == \"category\":\n",
        "            df[hue] = df[hue].astype(str)\n",
        "            source = ColumnDataSource(df)\n",
        "            color_mapper = factor_cmap(\n",
        "            field_name=hue,\n",
        "            palette='Category10_3',\n",
        "            factors=df[hue].unique()\n",
        "            )\n",
        "            fig.scatter(\n",
        "            x='x', y='y',\n",
        "            color=color_mapper,\n",
        "            source=source,\n",
        "            legend_group=hue)\n",
        "\n",
        "            fig.legend.location = 'bottom_left'\n",
        "            fig.legend.click_policy = 'mute'\n",
        "        else:\n",
        "            source = ColumnDataSource(df)\n",
        "            color_mapper = linear_cmap(\n",
        "                field_name=hue,\n",
        "                palette=Viridis256,\n",
        "                low=min(df[hue]),\n",
        "                high=max(df[hue]))\n",
        "            fig.scatter(\n",
        "                x='x', y='y',\n",
        "                color=color_mapper,\n",
        "                source=source)\n",
        "            color_bar = ColorBar(color_mapper=color_mapper['transform'], width=8, location=(0,0), title = hue)\n",
        "            fig.add_layout(color_bar, 'right')\n",
        "\n",
        "\n",
        "        if display_result: show(fig)\n",
        "\n",
        "    if embedding.shape[1] > 3:\n",
        "        print(\"wrong species, doooooodes\")\n",
        "    else: return fig\n",
        "\n",
        "import pandas as pd\n",
        "import numpy as np\n",
        "from sklearn.manifold import TSNE\n",
        "\n",
        "# Assuming your embeddings are in a variable called 'embeddings'\n",
        "# embeddings = np.random.rand(10000, 384)  # Example - replace with your actual embeddings\n",
        "\n",
        "# Create t-SNE\n",
        "tsne = TSNE(n_components=2, random_state=1,\n",
        "            init='pca', n_iter=5000,\n",
        "            metric='euclidean')\n",
        "\n",
        "# Fit and transform your data\n",
        "tsne_results = tsne.fit_transform(embeddings[:1000])\n",
        "\n",
        "# Prepare the data DataFrame correctly\n",
        "data_df = pd.DataFrame({\n",
        "    'label': np.array(labels[:1000])  # Assuming you have labels\n",
        "    # Add any other columns you want for hover information\n",
        "})\n",
        "\n",
        "# Call the plotting function correctly\n",
        "embedding_plotter(\n",
        "    embedding=tsne_results,  # This should be your 2D t-SNE results (1000x2 array)\n",
        "    data=data_df,            # This contains your labels and other metadata\n",
        "    hue='label',             # Column name in data_df to use for coloring\n",
        ")"
      ],
      "metadata": {
        "colab": {
          "base_uri": "https://localhost:8080/",
          "height": 470
        },
        "id": "YO56Qeo-K7so",
        "outputId": "c8481461-15f5-451f-f9b6-ab890d4b5273"
      },
      "execution_count": null,
      "outputs": [
        {
          "output_type": "stream",
          "name": "stderr",
          "text": [
            "/usr/local/lib/python3.11/dist-packages/sklearn/manifold/_t_sne.py:1164: FutureWarning: 'n_iter' was renamed to 'max_iter' in version 1.5 and will be removed in 1.7.\n",
            "  warnings.warn(\n"
          ]
        },
        {
          "output_type": "display_data",
          "data": {
            "application/javascript": [
              "'use strict';\n",
              "(function(root) {\n",
              "  function now() {\n",
              "    return new Date();\n",
              "  }\n",
              "\n",
              "  const force = true;\n",
              "\n",
              "  if (typeof root._bokeh_onload_callbacks === \"undefined\" || force === true) {\n",
              "    root._bokeh_onload_callbacks = [];\n",
              "    root._bokeh_is_loading = undefined;\n",
              "  }\n",
              "\n",
              "const JS_MIME_TYPE = 'application/javascript';\n",
              "  const HTML_MIME_TYPE = 'text/html';\n",
              "  const EXEC_MIME_TYPE = 'application/vnd.bokehjs_exec.v0+json';\n",
              "  const CLASS_NAME = 'output_bokeh rendered_html';\n",
              "\n",
              "  /**\n",
              "   * Render data to the DOM node\n",
              "   */\n",
              "  function render(props, node) {\n",
              "    const script = document.createElement(\"script\");\n",
              "    node.appendChild(script);\n",
              "  }\n",
              "\n",
              "  /**\n",
              "   * Handle when an output is cleared or removed\n",
              "   */\n",
              "  function handleClearOutput(event, handle) {\n",
              "    function drop(id) {\n",
              "      const view = Bokeh.index.get_by_id(id)\n",
              "      if (view != null) {\n",
              "        view.model.document.clear()\n",
              "        Bokeh.index.delete(view)\n",
              "      }\n",
              "    }\n",
              "\n",
              "    const cell = handle.cell;\n",
              "\n",
              "    const id = cell.output_area._bokeh_element_id;\n",
              "    const server_id = cell.output_area._bokeh_server_id;\n",
              "\n",
              "    // Clean up Bokeh references\n",
              "    if (id != null) {\n",
              "      drop(id)\n",
              "    }\n",
              "\n",
              "    if (server_id !== undefined) {\n",
              "      // Clean up Bokeh references\n",
              "      const cmd_clean = \"from bokeh.io.state import curstate; print(curstate().uuid_to_server['\" + server_id + \"'].get_sessions()[0].document.roots[0]._id)\";\n",
              "      cell.notebook.kernel.execute(cmd_clean, {\n",
              "        iopub: {\n",
              "          output: function(msg) {\n",
              "            const id = msg.content.text.trim()\n",
              "            drop(id)\n",
              "          }\n",
              "        }\n",
              "      });\n",
              "      // Destroy server and session\n",
              "      const cmd_destroy = \"import bokeh.io.notebook as ion; ion.destroy_server('\" + server_id + \"')\";\n",
              "      cell.notebook.kernel.execute(cmd_destroy);\n",
              "    }\n",
              "  }\n",
              "\n",
              "  /**\n",
              "   * Handle when a new output is added\n",
              "   */\n",
              "  function handleAddOutput(event, handle) {\n",
              "    const output_area = handle.output_area;\n",
              "    const output = handle.output;\n",
              "\n",
              "    // limit handleAddOutput to display_data with EXEC_MIME_TYPE content only\n",
              "    if ((output.output_type != \"display_data\") || (!Object.prototype.hasOwnProperty.call(output.data, EXEC_MIME_TYPE))) {\n",
              "      return\n",
              "    }\n",
              "\n",
              "    const toinsert = output_area.element.find(\".\" + CLASS_NAME.split(' ')[0]);\n",
              "\n",
              "    if (output.metadata[EXEC_MIME_TYPE][\"id\"] !== undefined) {\n",
              "      toinsert[toinsert.length - 1].firstChild.textContent = output.data[JS_MIME_TYPE];\n",
              "      // store reference to embed id on output_area\n",
              "      output_area._bokeh_element_id = output.metadata[EXEC_MIME_TYPE][\"id\"];\n",
              "    }\n",
              "    if (output.metadata[EXEC_MIME_TYPE][\"server_id\"] !== undefined) {\n",
              "      const bk_div = document.createElement(\"div\");\n",
              "      bk_div.innerHTML = output.data[HTML_MIME_TYPE];\n",
              "      const script_attrs = bk_div.children[0].attributes;\n",
              "      for (let i = 0; i < script_attrs.length; i++) {\n",
              "        toinsert[toinsert.length - 1].firstChild.setAttribute(script_attrs[i].name, script_attrs[i].value);\n",
              "        toinsert[toinsert.length - 1].firstChild.textContent = bk_div.children[0].textContent\n",
              "      }\n",
              "      // store reference to server id on output_area\n",
              "      output_area._bokeh_server_id = output.metadata[EXEC_MIME_TYPE][\"server_id\"];\n",
              "    }\n",
              "  }\n",
              "\n",
              "  function register_renderer(events, OutputArea) {\n",
              "\n",
              "    function append_mime(data, metadata, element) {\n",
              "      // create a DOM node to render to\n",
              "      const toinsert = this.create_output_subarea(\n",
              "        metadata,\n",
              "        CLASS_NAME,\n",
              "        EXEC_MIME_TYPE\n",
              "      );\n",
              "      this.keyboard_manager.register_events(toinsert);\n",
              "      // Render to node\n",
              "      const props = {data: data, metadata: metadata[EXEC_MIME_TYPE]};\n",
              "      render(props, toinsert[toinsert.length - 1]);\n",
              "      element.append(toinsert);\n",
              "      return toinsert\n",
              "    }\n",
              "\n",
              "    /* Handle when an output is cleared or removed */\n",
              "    events.on('clear_output.CodeCell', handleClearOutput);\n",
              "    events.on('delete.Cell', handleClearOutput);\n",
              "\n",
              "    /* Handle when a new output is added */\n",
              "    events.on('output_added.OutputArea', handleAddOutput);\n",
              "\n",
              "    /**\n",
              "     * Register the mime type and append_mime function with output_area\n",
              "     */\n",
              "    OutputArea.prototype.register_mime_type(EXEC_MIME_TYPE, append_mime, {\n",
              "      /* Is output safe? */\n",
              "      safe: true,\n",
              "      /* Index of renderer in `output_area.display_order` */\n",
              "      index: 0\n",
              "    });\n",
              "  }\n",
              "\n",
              "  // register the mime type if in Jupyter Notebook environment and previously unregistered\n",
              "  if (root.Jupyter !== undefined) {\n",
              "    const events = require('base/js/events');\n",
              "    const OutputArea = require('notebook/js/outputarea').OutputArea;\n",
              "\n",
              "    if (OutputArea.prototype.mime_types().indexOf(EXEC_MIME_TYPE) == -1) {\n",
              "      register_renderer(events, OutputArea);\n",
              "    }\n",
              "  }\n",
              "  if (typeof (root._bokeh_timeout) === \"undefined\" || force === true) {\n",
              "    root._bokeh_timeout = Date.now() + 5000;\n",
              "    root._bokeh_failed_load = false;\n",
              "  }\n",
              "\n",
              "  const NB_LOAD_WARNING = {'data': {'text/html':\n",
              "     \"<div style='background-color: #fdd'>\\n\"+\n",
              "     \"<p>\\n\"+\n",
              "     \"BokehJS does not appear to have successfully loaded. If loading BokehJS from CDN, this \\n\"+\n",
              "     \"may be due to a slow or bad network connection. Possible fixes:\\n\"+\n",
              "     \"</p>\\n\"+\n",
              "     \"<ul>\\n\"+\n",
              "     \"<li>re-rerun `output_notebook()` to attempt to load from CDN again, or</li>\\n\"+\n",
              "     \"<li>use INLINE resources instead, as so:</li>\\n\"+\n",
              "     \"</ul>\\n\"+\n",
              "     \"<code>\\n\"+\n",
              "     \"from bokeh.resources import INLINE\\n\"+\n",
              "     \"output_notebook(resources=INLINE)\\n\"+\n",
              "     \"</code>\\n\"+\n",
              "     \"</div>\"}};\n",
              "\n",
              "  function display_loaded(error = null) {\n",
              "    const el = document.getElementById(null);\n",
              "    if (el != null) {\n",
              "      const html = (() => {\n",
              "        if (typeof root.Bokeh === \"undefined\") {\n",
              "          if (error == null) {\n",
              "            return \"BokehJS is loading ...\";\n",
              "          } else {\n",
              "            return \"BokehJS failed to load.\";\n",
              "          }\n",
              "        } else {\n",
              "          const prefix = `BokehJS ${root.Bokeh.version}`;\n",
              "          if (error == null) {\n",
              "            return `${prefix} successfully loaded.`;\n",
              "          } else {\n",
              "            return `${prefix} <b>encountered errors</b> while loading and may not function as expected.`;\n",
              "          }\n",
              "        }\n",
              "      })();\n",
              "      el.innerHTML = html;\n",
              "\n",
              "      if (error != null) {\n",
              "        const wrapper = document.createElement(\"div\");\n",
              "        wrapper.style.overflow = \"auto\";\n",
              "        wrapper.style.height = \"5em\";\n",
              "        wrapper.style.resize = \"vertical\";\n",
              "        const content = document.createElement(\"div\");\n",
              "        content.style.fontFamily = \"monospace\";\n",
              "        content.style.whiteSpace = \"pre-wrap\";\n",
              "        content.style.backgroundColor = \"rgb(255, 221, 221)\";\n",
              "        content.textContent = error.stack ?? error.toString();\n",
              "        wrapper.append(content);\n",
              "        el.append(wrapper);\n",
              "      }\n",
              "    } else if (Date.now() < root._bokeh_timeout) {\n",
              "      setTimeout(() => display_loaded(error), 100);\n",
              "    }\n",
              "  }\n",
              "\n",
              "  function run_callbacks() {\n",
              "    try {\n",
              "      root._bokeh_onload_callbacks.forEach(function(callback) {\n",
              "        if (callback != null)\n",
              "          callback();\n",
              "      });\n",
              "    } finally {\n",
              "      delete root._bokeh_onload_callbacks\n",
              "    }\n",
              "    console.debug(\"Bokeh: all callbacks have finished\");\n",
              "  }\n",
              "\n",
              "  function load_libs(css_urls, js_urls, callback) {\n",
              "    if (css_urls == null) css_urls = [];\n",
              "    if (js_urls == null) js_urls = [];\n",
              "\n",
              "    root._bokeh_onload_callbacks.push(callback);\n",
              "    if (root._bokeh_is_loading > 0) {\n",
              "      console.debug(\"Bokeh: BokehJS is being loaded, scheduling callback at\", now());\n",
              "      return null;\n",
              "    }\n",
              "    if (js_urls == null || js_urls.length === 0) {\n",
              "      run_callbacks();\n",
              "      return null;\n",
              "    }\n",
              "    console.debug(\"Bokeh: BokehJS not loaded, scheduling load and callback at\", now());\n",
              "    root._bokeh_is_loading = css_urls.length + js_urls.length;\n",
              "\n",
              "    function on_load() {\n",
              "      root._bokeh_is_loading--;\n",
              "      if (root._bokeh_is_loading === 0) {\n",
              "        console.debug(\"Bokeh: all BokehJS libraries/stylesheets loaded\");\n",
              "        run_callbacks()\n",
              "      }\n",
              "    }\n",
              "\n",
              "    function on_error(url) {\n",
              "      console.error(\"failed to load \" + url);\n",
              "    }\n",
              "\n",
              "    for (let i = 0; i < css_urls.length; i++) {\n",
              "      const url = css_urls[i];\n",
              "      const element = document.createElement(\"link\");\n",
              "      element.onload = on_load;\n",
              "      element.onerror = on_error.bind(null, url);\n",
              "      element.rel = \"stylesheet\";\n",
              "      element.type = \"text/css\";\n",
              "      element.href = url;\n",
              "      console.debug(\"Bokeh: injecting link tag for BokehJS stylesheet: \", url);\n",
              "      document.body.appendChild(element);\n",
              "    }\n",
              "\n",
              "    for (let i = 0; i < js_urls.length; i++) {\n",
              "      const url = js_urls[i];\n",
              "      const element = document.createElement('script');\n",
              "      element.onload = on_load;\n",
              "      element.onerror = on_error.bind(null, url);\n",
              "      element.async = false;\n",
              "      element.src = url;\n",
              "      console.debug(\"Bokeh: injecting script tag for BokehJS library: \", url);\n",
              "      document.head.appendChild(element);\n",
              "    }\n",
              "  };\n",
              "\n",
              "  function inject_raw_css(css) {\n",
              "    const element = document.createElement(\"style\");\n",
              "    element.appendChild(document.createTextNode(css));\n",
              "    document.body.appendChild(element);\n",
              "  }\n",
              "\n",
              "  const js_urls = [\"https://cdn.bokeh.org/bokeh/release/bokeh-3.7.2.min.js\", \"https://cdn.bokeh.org/bokeh/release/bokeh-gl-3.7.2.min.js\", \"https://cdn.bokeh.org/bokeh/release/bokeh-widgets-3.7.2.min.js\", \"https://cdn.bokeh.org/bokeh/release/bokeh-tables-3.7.2.min.js\", \"https://cdn.bokeh.org/bokeh/release/bokeh-mathjax-3.7.2.min.js\"];\n",
              "  const css_urls = [];\n",
              "\n",
              "  const inline_js = [    function(Bokeh) {\n",
              "      Bokeh.set_log_level(\"info\");\n",
              "    },\n",
              "function(Bokeh) {\n",
              "    }\n",
              "  ];\n",
              "\n",
              "  function run_inline_js() {\n",
              "    if (root.Bokeh !== undefined || force === true) {\n",
              "      try {\n",
              "            for (let i = 0; i < inline_js.length; i++) {\n",
              "      inline_js[i].call(root, root.Bokeh);\n",
              "    }\n",
              "\n",
              "      } catch (error) {throw error;\n",
              "      }} else if (Date.now() < root._bokeh_timeout) {\n",
              "      setTimeout(run_inline_js, 100);\n",
              "    } else if (!root._bokeh_failed_load) {\n",
              "      console.log(\"Bokeh: BokehJS failed to load within specified timeout.\");\n",
              "      root._bokeh_failed_load = true;\n",
              "    } else if (force !== true) {\n",
              "      const cell = $(document.getElementById(null)).parents('.cell').data().cell;\n",
              "      cell.output_area.append_execute_result(NB_LOAD_WARNING)\n",
              "    }\n",
              "  }\n",
              "\n",
              "  if (root._bokeh_is_loading === 0) {\n",
              "    console.debug(\"Bokeh: BokehJS loaded, going straight to plotting\");\n",
              "    run_inline_js();\n",
              "  } else {\n",
              "    load_libs(css_urls, js_urls, function() {\n",
              "      console.debug(\"Bokeh: BokehJS plotting callback run at\", now());\n",
              "      run_inline_js();\n",
              "    });\n",
              "  }\n",
              "}(window));"
            ],
            "application/vnd.bokehjs_load.v0+json": "'use strict';\n(function(root) {\n  function now() {\n    return new Date();\n  }\n\n  const force = true;\n\n  if (typeof root._bokeh_onload_callbacks === \"undefined\" || force === true) {\n    root._bokeh_onload_callbacks = [];\n    root._bokeh_is_loading = undefined;\n  }\n\n\n  if (typeof (root._bokeh_timeout) === \"undefined\" || force === true) {\n    root._bokeh_timeout = Date.now() + 5000;\n    root._bokeh_failed_load = false;\n  }\n\n  const NB_LOAD_WARNING = {'data': {'text/html':\n     \"<div style='background-color: #fdd'>\\n\"+\n     \"<p>\\n\"+\n     \"BokehJS does not appear to have successfully loaded. If loading BokehJS from CDN, this \\n\"+\n     \"may be due to a slow or bad network connection. Possible fixes:\\n\"+\n     \"</p>\\n\"+\n     \"<ul>\\n\"+\n     \"<li>re-rerun `output_notebook()` to attempt to load from CDN again, or</li>\\n\"+\n     \"<li>use INLINE resources instead, as so:</li>\\n\"+\n     \"</ul>\\n\"+\n     \"<code>\\n\"+\n     \"from bokeh.resources import INLINE\\n\"+\n     \"output_notebook(resources=INLINE)\\n\"+\n     \"</code>\\n\"+\n     \"</div>\"}};\n\n  function display_loaded(error = null) {\n    const el = document.getElementById(null);\n    if (el != null) {\n      const html = (() => {\n        if (typeof root.Bokeh === \"undefined\") {\n          if (error == null) {\n            return \"BokehJS is loading ...\";\n          } else {\n            return \"BokehJS failed to load.\";\n          }\n        } else {\n          const prefix = `BokehJS ${root.Bokeh.version}`;\n          if (error == null) {\n            return `${prefix} successfully loaded.`;\n          } else {\n            return `${prefix} <b>encountered errors</b> while loading and may not function as expected.`;\n          }\n        }\n      })();\n      el.innerHTML = html;\n\n      if (error != null) {\n        const wrapper = document.createElement(\"div\");\n        wrapper.style.overflow = \"auto\";\n        wrapper.style.height = \"5em\";\n        wrapper.style.resize = \"vertical\";\n        const content = document.createElement(\"div\");\n        content.style.fontFamily = \"monospace\";\n        content.style.whiteSpace = \"pre-wrap\";\n        content.style.backgroundColor = \"rgb(255, 221, 221)\";\n        content.textContent = error.stack ?? error.toString();\n        wrapper.append(content);\n        el.append(wrapper);\n      }\n    } else if (Date.now() < root._bokeh_timeout) {\n      setTimeout(() => display_loaded(error), 100);\n    }\n  }\n\n  function run_callbacks() {\n    try {\n      root._bokeh_onload_callbacks.forEach(function(callback) {\n        if (callback != null)\n          callback();\n      });\n    } finally {\n      delete root._bokeh_onload_callbacks\n    }\n    console.debug(\"Bokeh: all callbacks have finished\");\n  }\n\n  function load_libs(css_urls, js_urls, callback) {\n    if (css_urls == null) css_urls = [];\n    if (js_urls == null) js_urls = [];\n\n    root._bokeh_onload_callbacks.push(callback);\n    if (root._bokeh_is_loading > 0) {\n      console.debug(\"Bokeh: BokehJS is being loaded, scheduling callback at\", now());\n      return null;\n    }\n    if (js_urls == null || js_urls.length === 0) {\n      run_callbacks();\n      return null;\n    }\n    console.debug(\"Bokeh: BokehJS not loaded, scheduling load and callback at\", now());\n    root._bokeh_is_loading = css_urls.length + js_urls.length;\n\n    function on_load() {\n      root._bokeh_is_loading--;\n      if (root._bokeh_is_loading === 0) {\n        console.debug(\"Bokeh: all BokehJS libraries/stylesheets loaded\");\n        run_callbacks()\n      }\n    }\n\n    function on_error(url) {\n      console.error(\"failed to load \" + url);\n    }\n\n    for (let i = 0; i < css_urls.length; i++) {\n      const url = css_urls[i];\n      const element = document.createElement(\"link\");\n      element.onload = on_load;\n      element.onerror = on_error.bind(null, url);\n      element.rel = \"stylesheet\";\n      element.type = \"text/css\";\n      element.href = url;\n      console.debug(\"Bokeh: injecting link tag for BokehJS stylesheet: \", url);\n      document.body.appendChild(element);\n    }\n\n    for (let i = 0; i < js_urls.length; i++) {\n      const url = js_urls[i];\n      const element = document.createElement('script');\n      element.onload = on_load;\n      element.onerror = on_error.bind(null, url);\n      element.async = false;\n      element.src = url;\n      console.debug(\"Bokeh: injecting script tag for BokehJS library: \", url);\n      document.head.appendChild(element);\n    }\n  };\n\n  function inject_raw_css(css) {\n    const element = document.createElement(\"style\");\n    element.appendChild(document.createTextNode(css));\n    document.body.appendChild(element);\n  }\n\n  const js_urls = [\"https://cdn.bokeh.org/bokeh/release/bokeh-3.7.2.min.js\", \"https://cdn.bokeh.org/bokeh/release/bokeh-gl-3.7.2.min.js\", \"https://cdn.bokeh.org/bokeh/release/bokeh-widgets-3.7.2.min.js\", \"https://cdn.bokeh.org/bokeh/release/bokeh-tables-3.7.2.min.js\", \"https://cdn.bokeh.org/bokeh/release/bokeh-mathjax-3.7.2.min.js\"];\n  const css_urls = [];\n\n  const inline_js = [    function(Bokeh) {\n      Bokeh.set_log_level(\"info\");\n    },\nfunction(Bokeh) {\n    }\n  ];\n\n  function run_inline_js() {\n    if (root.Bokeh !== undefined || force === true) {\n      try {\n            for (let i = 0; i < inline_js.length; i++) {\n      inline_js[i].call(root, root.Bokeh);\n    }\n\n      } catch (error) {throw error;\n      }} else if (Date.now() < root._bokeh_timeout) {\n      setTimeout(run_inline_js, 100);\n    } else if (!root._bokeh_failed_load) {\n      console.log(\"Bokeh: BokehJS failed to load within specified timeout.\");\n      root._bokeh_failed_load = true;\n    } else if (force !== true) {\n      const cell = $(document.getElementById(null)).parents('.cell').data().cell;\n      cell.output_area.append_execute_result(NB_LOAD_WARNING)\n    }\n  }\n\n  if (root._bokeh_is_loading === 0) {\n    console.debug(\"Bokeh: BokehJS loaded, going straight to plotting\");\n    run_inline_js();\n  } else {\n    load_libs(css_urls, js_urls, function() {\n      console.debug(\"Bokeh: BokehJS plotting callback run at\", now());\n      run_inline_js();\n    });\n  }\n}(window));"
          },
          "metadata": {}
        },
        {
          "output_type": "display_data",
          "data": {
            "text/html": [
              "\n",
              "  <div id=\"f4770cb0-5366-4ba2-bea6-d4e04d7f0fd8\" data-root-id=\"p1001\" style=\"display: contents;\"></div>\n"
            ]
          },
          "metadata": {}
        },
        {
          "output_type": "display_data",
          "data": {
            "application/javascript": [
              "(function(root) {\n",
              "  function embed_document(root) {\n",
              "  const docs_json = {\"75e55e74-0117-4e64-b43a-75b6581cdea7\":{\"version\":\"3.7.2\",\"title\":\"Bokeh Application\",\"roots\":[{\"type\":\"object\",\"name\":\"Figure\",\"id\":\"p1001\",\"attributes\":{\"width\":400,\"height\":400,\"x_range\":{\"type\":\"object\",\"name\":\"DataRange1d\",\"id\":\"p1002\"},\"y_range\":{\"type\":\"object\",\"name\":\"DataRange1d\",\"id\":\"p1003\"},\"x_scale\":{\"type\":\"object\",\"name\":\"LinearScale\",\"id\":\"p1010\"},\"y_scale\":{\"type\":\"object\",\"name\":\"LinearScale\",\"id\":\"p1011\"},\"title\":{\"type\":\"object\",\"name\":\"Title\",\"id\":\"p1008\"},\"renderers\":[{\"type\":\"object\",\"name\":\"GlyphRenderer\",\"id\":\"p1047\",\"attributes\":{\"data_source\":{\"type\":\"object\",\"name\":\"ColumnDataSource\",\"id\":\"p1037\",\"attributes\":{\"selected\":{\"type\":\"object\",\"name\":\"Selection\",\"id\":\"p1038\",\"attributes\":{\"indices\":[],\"line_indices\":[]}},\"selection_policy\":{\"type\":\"object\",\"name\":\"UnionRenderers\",\"id\":\"p1039\"},\"data\":{\"type\":\"map\",\"entries\":[[\"index\",{\"type\":\"ndarray\",\"array\":{\"type\":\"bytes\",\"data\":\"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\"},\"shape\":[1000],\"dtype\":\"int32\",\"order\":\"little\"}],[\"x\",{\"type\":\"ndarray\",\"array\":{\"type\":\"bytes\",\"data\":\"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\"},\"shape\":[1000],\"dtype\":\"float32\",\"order\":\"little\"}],[\"y\",{\"type\":\"ndarray\",\"array\":{\"type\":\"bytes\",\"data\":\"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\"},\"shape\":[1000],\"dtype\":\"float32\",\"order\":\"little\"}],[\"label\",{\"type\":\"ndarray\",\"array\":[\"0\",\"0\",\"0\",\"1\",\"1\",\"1\",\"1\",\"1\",\"1\",\"0\",\"0\",\"1\",\"1\",\"0\",\"1\",\"1\",\"1\",\"1\",\"1\",\"0\",\"0\",\"0\",\"0\",\"0\",\"0\",\"1\",\"0\",\"1\",\"1\",\"1\",\"1\",\"1\",\"1\",\"1\",\"1\",\"0\",\"0\",\"0\",\"0\",\"1\",\"0\",\"0\",\"0\",\"1\",\"0\",\"1\",\"0\",\"0\",\"0\",\"0\",\"1\",\"1\",\"1\",\"0\",\"1\",\"0\",\"0\",\"0\",\"0\",\"0\",\"0\",\"1\",\"1\",\"1\",\"0\",\"0\",\"1\",\"0\",\"0\",\"0\",\"0\",\"1\",\"0\",\"0\",\"1\",\"1\",\"0\",\"0\",\"1\",\"1\",\"1\",\"1\",\"0\",\"0\",\"0\",\"0\",\"1\",\"0\",\"0\",\"0\",\"0\",\"0\",\"0\",\"0\",\"1\",\"0\",\"0\",\"1\",\"1\",\"1\",\"1\",\"0\",\"1\",\"0\",\"0\",\"0\",\"1\",\"1\",\"1\",\"0\",\"1\",\"1\",\"1\",\"1\",\"1\",\"0\",\"1\",\"1\",\"0\",\"0\",\"1\",\"0\",\"0\",\"0\",\"0\",\"0\",\"0\",\"0\",\"0\",\"0\",\"0\",\"0\",\"0\",\"0\",\"0\",\"1\",\"0\",\"0\",\"0\",\"0\",\"0\",\"0\",\"1\",\"0\",\"0\",\"1\",\"0\",\"0\",\"1\",\"0\",\"0\",\"0\",\"0\",\"1\",\"0\",\"1\",\"1\",\"0\",\"0\",\"1\",\"0\",\"0\",\"1\",\"1\",\"1\",\"1\",\"0\",\"0\",\"1\",\"1\",\"1\",\"0\",\"0\",\"1\",\"0\",\"0\",\"0\",\"0\",\"0\",\"0\",\"1\",\"0\",\"0\",\"1\",\"1\",\"1\",\"1\",\"0\",\"1\",\"1\",\"1\",\"1\",\"0\",\"1\",\"1\",\"1\",\"1\",\"1\",\"1\",\"0\",\"0\",\"0\",\"1\",\"0\",\"0\",\"1\",\"1\",\"1\",\"1\",\"1\",\"1\",\"0\",\"0\",\"0\",\"0\",\"1\",\"0\",\"0\",\"0\",\"1\",\"0\",\"0\",\"0\",\"0\",\"0\",\"0\",\"0\",\"0\",\"0\",\"1\",\"0\",\"1\",\"0\",\"0\",\"1\",\"1\",\"1\",\"0\",\"1\",\"1\",\"0\",\"0\",\"1\",\"1\",\"0\",\"1\",\"0\",\"0\",\"0\",\"1\",\"0\",\"0\",\"0\",\"0\",\"0\",\"0\",\"0\",\"0\",\"0\",\"1\",\"1\",\"1\",\"1\",\"1\",\"1\",\"0\",\"0\",\"1\",\"1\",\"0\",\"0\",\"0\",\"0\",\"0\",\"0\",\"0\",\"1\",\"0\",\"1\",\"0\",\"0\",\"1\",\"1\",\"1\",\"1\",\"0\",\"1\",\"0\",\"1\",\"0\",\"0\",\"0\",\"0\",\"0\",\"1\",\"1\",\"0\",\"0\",\"0\",\"1\",\"1\",\"1\",\"1\",\"0\",\"0\",\"0\",\"0\",\"0\",\"0\",\"0\",\"0\",\"0\",\"0\",\"0\",\"1\",\"1\",\"1\",\"0\",\"0\",\"0\",\"0\",\"0\",\"0\",\"0\",\"0\",\"0\",\"1\",\"1\",\"0\",\"1\",\"1\",\"0\",\"0\",\"1\",\"0\",\"1\",\"1\",\"1\",\"0\",\"0\",\"0\",\"0\",\"1\",\"0\",\"1\",\"1\",\"1\",\"1\",\"0\",\"1\",\"1\",\"1\",\"1\",\"1\",\"1\",\"1\",\"1\",\"1\",\"1\",\"1\",\"0\",\"1\",\"0\",\"0\",\"1\",\"1\",\"1\",\"1\",\"1\",\"1\",\"0\",\"0\",\"0\",\"1\",\"1\",\"0\",\"1\",\"0\",\"0\",\"0\",\"0\",\"0\",\"0\",\"1\",\"1\",\"1\",\"0\",\"1\",\"1\",\"1\",\"1\",\"1\",\"0\",\"1\",\"1\",\"0\",\"1\",\"1\",\"1\",\"0\",\"1\",\"1\",\"1\",\"1\",\"1\",\"1\",\"1\",\"1\",\"0\",\"1\",\"1\",\"0\",\"0\",\"1\",\"1\",\"1\",\"0\",\"0\",\"0\",\"0\",\"1\",\"0\",\"0\",\"0\",\"1\",\"0\",\"0\",\"0\",\"0\",\"0\",\"0\",\"0\",\"1\",\"1\",\"1\",\"0\",\"0\",\"1\",\"1\",\"1\",\"1\",\"1\",\"1\",\"1\",\"1\",\"1\",\"0\",\"0\",\"1\",\"0\",\"1\",\"0\",\"0\",\"1\",\"0\",\"0\",\"0\",\"0\",\"0\",\"0\",\"0\",\"1\",\"0\",\"0\",\"0\",\"0\",\"0\",\"0\",\"0\",\"0\",\"0\",\"0\",\"0\",\"0\",\"0\",\"0\",\"0\",\"0\",\"1\",\"1\",\"0\",\"0\",\"0\",\"0\",\"0\",\"0\",\"0\",\"0\",\"0\",\"0\",\"1\",\"1\",\"1\",\"1\",\"1\",\"0\",\"1\",\"0\",\"0\",\"0\",\"0\",\"0\",\"1\",\"0\",\"0\",\"1\",\"0\",\"0\",\"0\",\"1\",\"1\",\"1\",\"1\",\"1\",\"1\",\"1\",\"1\",\"1\",\"1\",\"0\",\"0\",\"1\",\"0\",\"0\",\"0\",\"1\",\"0\",\"0\",\"0\",\"1\",\"0\",\"0\",\"0\",\"0\",\"1\",\"1\",\"0\",\"0\",\"0\",\"0\",\"0\",\"0\",\"1\",\"1\",\"1\",\"1\",\"1\",\"1\",\"1\",\"0\",\"1\",\"0\",\"0\",\"1\",\"1\",\"0\",\"0\",\"0\",\"1\",\"1\",\"1\",\"0\",\"0\",\"0\",\"0\",\"0\",\"1\",\"1\",\"1\",\"1\",\"0\",\"1\",\"1\",\"1\",\"0\",\"0\",\"0\",\"0\",\"1\",\"1\",\"1\",\"1\",\"1\",\"0\",\"0\",\"1\",\"0\",\"1\",\"1\",\"0\",\"0\",\"1\",\"0\",\"1\",\"1\",\"0\",\"0\",\"0\",\"0\",\"0\",\"1\",\"1\",\"1\",\"1\",\"1\",\"1\",\"1\",\"1\",\"1\",\"1\",\"0\",\"0\",\"0\",\"1\",\"1\",\"1\",\"1\",\"0\",\"0\",\"1\",\"1\",\"0\",\"0\",\"0\",\"0\",\"0\",\"0\",\"1\",\"1\",\"0\",\"1\",\"1\",\"0\",\"1\",\"1\",\"1\",\"1\",\"0\",\"1\",\"1\",\"0\",\"1\",\"0\",\"1\",\"0\",\"0\",\"1\",\"0\",\"0\",\"1\",\"0\",\"1\",\"1\",\"0\",\"0\",\"1\",\"0\",\"0\",\"0\",\"1\",\"1\",\"1\",\"1\",\"0\",\"0\",\"0\",\"0\",\"1\",\"1\",\"1\",\"1\",\"1\",\"1\",\"1\",\"0\",\"0\",\"0\",\"0\",\"0\",\"1\",\"1\",\"0\",\"0\",\"0\",\"0\",\"0\",\"0\",\"1\",\"1\",\"1\",\"1\",\"0\",\"1\",\"0\",\"0\",\"0\",\"0\",\"0\",\"0\",\"0\",\"0\",\"0\",\"0\",\"0\",\"0\",\"0\",\"1\",\"0\",\"1\",\"1\",\"1\",\"0\",\"0\",\"1\",\"1\",\"1\",\"1\",\"0\",\"1\",\"1\",\"0\",\"0\",\"0\",\"0\",\"0\",\"1\",\"1\",\"1\",\"1\",\"1\",\"1\",\"1\",\"1\",\"1\",\"1\",\"1\",\"1\",\"1\",\"0\",\"0\",\"0\",\"0\",\"0\",\"0\",\"0\",\"0\",\"0\",\"0\",\"0\",\"0\",\"0\",\"0\",\"0\",\"1\",\"1\",\"1\",\"1\",\"1\",\"0\",\"0\",\"0\",\"1\",\"0\",\"0\",\"0\",\"1\",\"0\",\"0\",\"0\",\"1\",\"0\",\"1\",\"1\",\"1\",\"0\",\"0\",\"1\",\"0\",\"0\",\"1\",\"1\",\"1\",\"1\",\"1\",\"1\",\"0\",\"1\",\"0\",\"1\",\"0\",\"1\",\"0\",\"1\",\"0\",\"1\",\"0\",\"0\",\"0\",\"1\",\"1\",\"0\",\"0\",\"0\",\"1\",\"0\",\"0\",\"0\",\"0\",\"0\",\"0\",\"0\",\"0\",\"0\",\"1\",\"0\",\"0\",\"0\",\"0\",\"0\",\"0\",\"0\",\"0\",\"0\",\"0\",\"1\",\"1\",\"1\",\"0\",\"1\",\"0\",\"0\",\"0\",\"0\",\"0\",\"0\",\"1\",\"0\",\"0\",\"0\",\"0\",\"1\",\"0\",\"1\",\"0\",\"1\",\"1\",\"0\",\"0\",\"0\",\"0\",\"0\",\"0\",\"0\",\"1\",\"1\",\"1\",\"1\",\"1\",\"1\",\"0\",\"0\",\"0\",\"0\",\"0\",\"0\",\"0\",\"1\",\"0\",\"0\",\"0\",\"0\",\"0\",\"0\",\"0\",\"0\",\"0\",\"0\",\"1\",\"1\",\"0\",\"1\",\"1\",\"0\",\"0\",\"0\",\"0\",\"1\",\"1\",\"1\",\"1\",\"1\",\"1\",\"0\",\"1\",\"0\",\"1\",\"0\",\"0\",\"1\",\"0\",\"0\",\"0\",\"0\",\"0\",\"0\",\"0\",\"0\",\"1\",\"0\",\"1\",\"0\",\"0\",\"1\",\"1\",\"0\",\"1\",\"0\",\"1\",\"0\",\"0\",\"1\",\"1\",\"1\",\"1\",\"0\",\"0\",\"0\",\"1\",\"1\",\"1\",\"0\",\"0\",\"1\",\"1\",\"1\",\"1\",\"0\",\"1\",\"0\",\"0\",\"1\",\"1\",\"1\",\"1\",\"1\",\"1\",\"1\",\"1\",\"1\",\"1\",\"1\",\"1\",\"1\",\"1\",\"0\",\"1\",\"0\",\"1\",\"1\",\"0\",\"1\",\"1\",\"1\",\"0\",\"0\",\"0\",\"1\",\"1\",\"1\",\"0\",\"0\",\"0\",\"0\",\"0\",\"0\",\"0\",\"0\",\"0\",\"1\",\"1\",\"0\",\"0\",\"0\",\"1\",\"0\",\"0\",\"0\",\"0\",\"0\",\"0\",\"0\",\"0\",\"0\",\"1\",\"0\",\"0\",\"0\",\"0\",\"0\",\"0\"],\"shape\":[1000],\"dtype\":\"object\",\"order\":\"little\"}]]}}},\"view\":{\"type\":\"object\",\"name\":\"CDSView\",\"id\":\"p1048\",\"attributes\":{\"filter\":{\"type\":\"object\",\"name\":\"AllIndices\",\"id\":\"p1049\"}}},\"glyph\":{\"type\":\"object\",\"name\":\"Scatter\",\"id\":\"p1044\",\"attributes\":{\"x\":{\"type\":\"field\",\"field\":\"x\"},\"y\":{\"type\":\"field\",\"field\":\"y\"},\"line_color\":{\"type\":\"field\",\"field\":\"label\",\"transform\":{\"type\":\"object\",\"name\":\"CategoricalColorMapper\",\"id\":\"p1040\",\"attributes\":{\"palette\":[\"#1f77b4\",\"#ff7f0e\",\"#2ca02c\"],\"factors\":{\"type\":\"ndarray\",\"array\":[\"0\",\"1\"],\"shape\":[2],\"dtype\":\"object\",\"order\":\"little\"}}}},\"fill_color\":{\"type\":\"field\",\"field\":\"label\",\"transform\":{\"id\":\"p1040\"}},\"hatch_color\":{\"type\":\"field\",\"field\":\"label\",\"transform\":{\"id\":\"p1040\"}}}},\"nonselection_glyph\":{\"type\":\"object\",\"name\":\"Scatter\",\"id\":\"p1045\",\"attributes\":{\"x\":{\"type\":\"field\",\"field\":\"x\"},\"y\":{\"type\":\"field\",\"field\":\"y\"},\"line_color\":{\"type\":\"field\",\"field\":\"label\",\"transform\":{\"id\":\"p1040\"}},\"line_alpha\":{\"type\":\"value\",\"value\":0.1},\"fill_color\":{\"type\":\"field\",\"field\":\"label\",\"transform\":{\"id\":\"p1040\"}},\"fill_alpha\":{\"type\":\"value\",\"value\":0.1},\"hatch_color\":{\"type\":\"field\",\"field\":\"label\",\"transform\":{\"id\":\"p1040\"}},\"hatch_alpha\":{\"type\":\"value\",\"value\":0.1}}},\"muted_glyph\":{\"type\":\"object\",\"name\":\"Scatter\",\"id\":\"p1046\",\"attributes\":{\"x\":{\"type\":\"field\",\"field\":\"x\"},\"y\":{\"type\":\"field\",\"field\":\"y\"},\"line_color\":{\"type\":\"field\",\"field\":\"label\",\"transform\":{\"id\":\"p1040\"}},\"line_alpha\":{\"type\":\"value\",\"value\":0.2},\"fill_color\":{\"type\":\"field\",\"field\":\"label\",\"transform\":{\"id\":\"p1040\"}},\"fill_alpha\":{\"type\":\"value\",\"value\":0.2},\"hatch_color\":{\"type\":\"field\",\"field\":\"label\",\"transform\":{\"id\":\"p1040\"}},\"hatch_alpha\":{\"type\":\"value\",\"value\":0.2}}}}}],\"toolbar\":{\"type\":\"object\",\"name\":\"Toolbar\",\"id\":\"p1009\",\"attributes\":{\"tools\":[{\"type\":\"object\",\"name\":\"LassoSelectTool\",\"id\":\"p1022\",\"attributes\":{\"renderers\":\"auto\",\"overlay\":{\"type\":\"object\",\"name\":\"PolyAnnotation\",\"id\":\"p1023\",\"attributes\":{\"syncable\":false,\"level\":\"overlay\",\"visible\":false,\"xs\":[],\"ys\":[],\"editable\":true,\"line_color\":\"black\",\"line_alpha\":1.0,\"line_width\":2,\"line_dash\":[4,4],\"fill_color\":\"lightgrey\",\"fill_alpha\":0.5}}}},{\"type\":\"object\",\"name\":\"BoxSelectTool\",\"id\":\"p1024\",\"attributes\":{\"renderers\":\"auto\",\"overlay\":{\"type\":\"object\",\"name\":\"BoxAnnotation\",\"id\":\"p1025\",\"attributes\":{\"syncable\":false,\"line_color\":\"black\",\"line_alpha\":1.0,\"line_width\":2,\"line_dash\":[4,4],\"fill_color\":\"lightgrey\",\"fill_alpha\":0.5,\"level\":\"overlay\",\"visible\":false,\"left\":{\"type\":\"number\",\"value\":\"nan\"},\"right\":{\"type\":\"number\",\"value\":\"nan\"},\"top\":{\"type\":\"number\",\"value\":\"nan\"},\"bottom\":{\"type\":\"number\",\"value\":\"nan\"},\"editable\":true,\"handles\":{\"type\":\"object\",\"name\":\"BoxInteractionHandles\",\"id\":\"p1031\",\"attributes\":{\"all\":{\"type\":\"object\",\"name\":\"AreaVisuals\",\"id\":\"p1030\",\"attributes\":{\"fill_color\":\"white\",\"hover_fill_color\":\"lightgray\"}}}}}}}},{\"type\":\"object\",\"name\":\"PanTool\",\"id\":\"p1032\"},{\"type\":\"object\",\"name\":\"ZoomInTool\",\"id\":\"p1033\",\"attributes\":{\"renderers\":\"auto\"}},{\"type\":\"object\",\"name\":\"ZoomOutTool\",\"id\":\"p1034\",\"attributes\":{\"renderers\":\"auto\"}},{\"type\":\"object\",\"name\":\"ResetTool\",\"id\":\"p1035\"},{\"type\":\"object\",\"name\":\"HoverTool\",\"id\":\"p1036\",\"attributes\":{\"renderers\":\"auto\",\"tooltips\":[[\"x, y\",\"$x, $y\"],[\"index\",\"$index\"]]}}]}},\"left\":[{\"type\":\"object\",\"name\":\"LinearAxis\",\"id\":\"p1017\",\"attributes\":{\"ticker\":{\"type\":\"object\",\"name\":\"BasicTicker\",\"id\":\"p1018\",\"attributes\":{\"mantissas\":[1,2,5]}},\"formatter\":{\"type\":\"object\",\"name\":\"BasicTickFormatter\",\"id\":\"p1019\"},\"major_label_policy\":{\"type\":\"object\",\"name\":\"AllLabels\",\"id\":\"p1020\"}}}],\"below\":[{\"type\":\"object\",\"name\":\"LinearAxis\",\"id\":\"p1012\",\"attributes\":{\"ticker\":{\"type\":\"object\",\"name\":\"BasicTicker\",\"id\":\"p1013\",\"attributes\":{\"mantissas\":[1,2,5]}},\"formatter\":{\"type\":\"object\",\"name\":\"BasicTickFormatter\",\"id\":\"p1014\"},\"major_label_policy\":{\"type\":\"object\",\"name\":\"AllLabels\",\"id\":\"p1015\"}}}],\"center\":[{\"type\":\"object\",\"name\":\"Grid\",\"id\":\"p1016\",\"attributes\":{\"axis\":{\"id\":\"p1012\"}}},{\"type\":\"object\",\"name\":\"Grid\",\"id\":\"p1021\",\"attributes\":{\"dimension\":1,\"axis\":{\"id\":\"p1017\"}}},{\"type\":\"object\",\"name\":\"Legend\",\"id\":\"p1050\",\"attributes\":{\"location\":\"bottom_left\",\"click_policy\":\"mute\",\"items\":[{\"type\":\"object\",\"name\":\"LegendItem\",\"id\":\"p1051\",\"attributes\":{\"label\":{\"type\":\"value\",\"value\":\"0\"},\"renderers\":[{\"id\":\"p1047\"}],\"index\":0}},{\"type\":\"object\",\"name\":\"LegendItem\",\"id\":\"p1052\",\"attributes\":{\"label\":{\"type\":\"value\",\"value\":\"1\"},\"renderers\":[{\"id\":\"p1047\"}],\"index\":3}}]}}]}}]}};\n",
              "  const render_items = [{\"docid\":\"75e55e74-0117-4e64-b43a-75b6581cdea7\",\"roots\":{\"p1001\":\"f4770cb0-5366-4ba2-bea6-d4e04d7f0fd8\"},\"root_ids\":[\"p1001\"]}];\n",
              "  void root.Bokeh.embed.embed_items_notebook(docs_json, render_items);\n",
              "  }\n",
              "  if (root.Bokeh !== undefined) {\n",
              "    embed_document(root);\n",
              "  } else {\n",
              "    let attempts = 0;\n",
              "    const timer = setInterval(function(root) {\n",
              "      if (root.Bokeh !== undefined) {\n",
              "        clearInterval(timer);\n",
              "        embed_document(root);\n",
              "      } else {\n",
              "        attempts++;\n",
              "        if (attempts > 100) {\n",
              "          clearInterval(timer);\n",
              "          console.log(\"Bokeh: ERROR: Unable to run BokehJS code because BokehJS library is missing\");\n",
              "        }\n",
              "      }\n",
              "    }, 10, root)\n",
              "  }\n",
              "})(window);"
            ],
            "application/vnd.bokehjs_exec.v0+json": ""
          },
          "metadata": {
            "application/vnd.bokehjs_exec.v0+json": {
              "id": "p1001"
            }
          }
        },
        {
          "output_type": "execute_result",
          "data": {
            "text/plain": [
              "figure(id='p1001', ...)"
            ],
            "text/html": [
              "<div style=\"display: table;\"><div style=\"display: table-row;\"><div style=\"display: table-cell;\"><b title=\"bokeh.plotting._figure.figure\">figure</b>(</div><div style=\"display: table-cell;\">id&nbsp;=&nbsp;'p1001', <span id=\"p1057\" style=\"cursor: pointer;\">&hellip;)</span></div></div><div class=\"p1056\" style=\"display: none;\"><div style=\"display: table-cell;\"></div><div style=\"display: table-cell;\">above&nbsp;=&nbsp;[],</div></div><div class=\"p1056\" style=\"display: none;\"><div style=\"display: table-cell;\"></div><div style=\"display: table-cell;\">align&nbsp;=&nbsp;'auto',</div></div><div class=\"p1056\" style=\"display: none;\"><div style=\"display: table-cell;\"></div><div style=\"display: table-cell;\">aspect_ratio&nbsp;=&nbsp;None,</div></div><div class=\"p1056\" style=\"display: none;\"><div style=\"display: table-cell;\"></div><div style=\"display: table-cell;\">aspect_scale&nbsp;=&nbsp;1,</div></div><div class=\"p1056\" style=\"display: none;\"><div style=\"display: table-cell;\"></div><div style=\"display: table-cell;\">attribution&nbsp;=&nbsp;[],</div></div><div class=\"p1056\" style=\"display: none;\"><div style=\"display: table-cell;\"></div><div style=\"display: table-cell;\">background_fill_alpha&nbsp;=&nbsp;1.0,</div></div><div class=\"p1056\" style=\"display: none;\"><div style=\"display: table-cell;\"></div><div style=\"display: table-cell;\">background_fill_color&nbsp;=&nbsp;'#ffffff',</div></div><div class=\"p1056\" style=\"display: none;\"><div style=\"display: table-cell;\"></div><div style=\"display: table-cell;\">background_hatch_alpha&nbsp;=&nbsp;1.0,</div></div><div class=\"p1056\" style=\"display: none;\"><div style=\"display: table-cell;\"></div><div style=\"display: table-cell;\">background_hatch_color&nbsp;=&nbsp;'black',</div></div><div class=\"p1056\" style=\"display: none;\"><div style=\"display: table-cell;\"></div><div style=\"display: table-cell;\">background_hatch_extra&nbsp;=&nbsp;{},</div></div><div class=\"p1056\" style=\"display: none;\"><div style=\"display: table-cell;\"></div><div style=\"display: table-cell;\">background_hatch_pattern&nbsp;=&nbsp;None,</div></div><div class=\"p1056\" style=\"display: none;\"><div style=\"display: table-cell;\"></div><div style=\"display: table-cell;\">background_hatch_scale&nbsp;=&nbsp;12.0,</div></div><div class=\"p1056\" style=\"display: none;\"><div style=\"display: table-cell;\"></div><div style=\"display: table-cell;\">background_hatch_weight&nbsp;=&nbsp;1.0,</div></div><div class=\"p1056\" style=\"display: none;\"><div style=\"display: table-cell;\"></div><div style=\"display: table-cell;\">below&nbsp;=&nbsp;[LinearAxis(id='p1012', ...)],</div></div><div class=\"p1056\" style=\"display: none;\"><div style=\"display: table-cell;\"></div><div style=\"display: table-cell;\">border_fill_alpha&nbsp;=&nbsp;1.0,</div></div><div class=\"p1056\" style=\"display: none;\"><div style=\"display: table-cell;\"></div><div style=\"display: table-cell;\">border_fill_color&nbsp;=&nbsp;'#ffffff',</div></div><div class=\"p1056\" style=\"display: none;\"><div style=\"display: table-cell;\"></div><div style=\"display: table-cell;\">border_hatch_alpha&nbsp;=&nbsp;1.0,</div></div><div class=\"p1056\" style=\"display: none;\"><div style=\"display: table-cell;\"></div><div style=\"display: table-cell;\">border_hatch_color&nbsp;=&nbsp;'black',</div></div><div class=\"p1056\" style=\"display: none;\"><div style=\"display: table-cell;\"></div><div style=\"display: table-cell;\">border_hatch_extra&nbsp;=&nbsp;{},</div></div><div class=\"p1056\" style=\"display: none;\"><div style=\"display: table-cell;\"></div><div style=\"display: table-cell;\">border_hatch_pattern&nbsp;=&nbsp;None,</div></div><div class=\"p1056\" style=\"display: none;\"><div style=\"display: table-cell;\"></div><div style=\"display: table-cell;\">border_hatch_scale&nbsp;=&nbsp;12.0,</div></div><div class=\"p1056\" style=\"display: none;\"><div style=\"display: table-cell;\"></div><div style=\"display: table-cell;\">border_hatch_weight&nbsp;=&nbsp;1.0,</div></div><div class=\"p1056\" style=\"display: none;\"><div style=\"display: table-cell;\"></div><div style=\"display: table-cell;\">center&nbsp;=&nbsp;[Grid(id='p1016', ...), Grid(id='p1021', ...), Legend(id='p1050', ...)],</div></div><div class=\"p1056\" style=\"display: none;\"><div style=\"display: table-cell;\"></div><div style=\"display: table-cell;\">context_menu&nbsp;=&nbsp;'auto',</div></div><div class=\"p1056\" style=\"display: none;\"><div style=\"display: table-cell;\"></div><div style=\"display: table-cell;\">css_classes&nbsp;=&nbsp;[],</div></div><div class=\"p1056\" style=\"display: none;\"><div style=\"display: table-cell;\"></div><div style=\"display: table-cell;\">css_variables&nbsp;=&nbsp;{},</div></div><div class=\"p1056\" style=\"display: none;\"><div style=\"display: table-cell;\"></div><div style=\"display: table-cell;\">disabled&nbsp;=&nbsp;False,</div></div><div class=\"p1056\" style=\"display: none;\"><div style=\"display: table-cell;\"></div><div style=\"display: table-cell;\">elements&nbsp;=&nbsp;[],</div></div><div class=\"p1056\" style=\"display: none;\"><div style=\"display: table-cell;\"></div><div style=\"display: table-cell;\">extra_x_ranges&nbsp;=&nbsp;{},</div></div><div class=\"p1056\" style=\"display: none;\"><div style=\"display: table-cell;\"></div><div style=\"display: table-cell;\">extra_x_scales&nbsp;=&nbsp;{},</div></div><div class=\"p1056\" style=\"display: none;\"><div style=\"display: table-cell;\"></div><div style=\"display: table-cell;\">extra_y_ranges&nbsp;=&nbsp;{},</div></div><div class=\"p1056\" style=\"display: none;\"><div style=\"display: table-cell;\"></div><div style=\"display: table-cell;\">extra_y_scales&nbsp;=&nbsp;{},</div></div><div class=\"p1056\" style=\"display: none;\"><div style=\"display: table-cell;\"></div><div style=\"display: table-cell;\">flow_mode&nbsp;=&nbsp;'block',</div></div><div class=\"p1056\" style=\"display: none;\"><div style=\"display: table-cell;\"></div><div style=\"display: table-cell;\">frame_align&nbsp;=&nbsp;True,</div></div><div class=\"p1056\" style=\"display: none;\"><div style=\"display: table-cell;\"></div><div style=\"display: table-cell;\">frame_height&nbsp;=&nbsp;None,</div></div><div class=\"p1056\" style=\"display: none;\"><div style=\"display: table-cell;\"></div><div style=\"display: table-cell;\">frame_width&nbsp;=&nbsp;None,</div></div><div class=\"p1056\" style=\"display: none;\"><div style=\"display: table-cell;\"></div><div style=\"display: table-cell;\">height&nbsp;=&nbsp;400,</div></div><div class=\"p1056\" style=\"display: none;\"><div style=\"display: table-cell;\"></div><div style=\"display: table-cell;\">height_policy&nbsp;=&nbsp;'auto',</div></div><div class=\"p1056\" style=\"display: none;\"><div style=\"display: table-cell;\"></div><div style=\"display: table-cell;\">hidpi&nbsp;=&nbsp;True,</div></div><div class=\"p1056\" style=\"display: none;\"><div style=\"display: table-cell;\"></div><div style=\"display: table-cell;\">hold_render&nbsp;=&nbsp;False,</div></div><div class=\"p1056\" style=\"display: none;\"><div style=\"display: table-cell;\"></div><div style=\"display: table-cell;\">html_attributes&nbsp;=&nbsp;{},</div></div><div class=\"p1056\" style=\"display: none;\"><div style=\"display: table-cell;\"></div><div style=\"display: table-cell;\">html_id&nbsp;=&nbsp;None,</div></div><div class=\"p1056\" style=\"display: none;\"><div style=\"display: table-cell;\"></div><div style=\"display: table-cell;\">js_event_callbacks&nbsp;=&nbsp;{},</div></div><div class=\"p1056\" style=\"display: none;\"><div style=\"display: table-cell;\"></div><div style=\"display: table-cell;\">js_property_callbacks&nbsp;=&nbsp;{},</div></div><div class=\"p1056\" style=\"display: none;\"><div style=\"display: table-cell;\"></div><div style=\"display: table-cell;\">left&nbsp;=&nbsp;[LinearAxis(id='p1017', ...)],</div></div><div class=\"p1056\" style=\"display: none;\"><div style=\"display: table-cell;\"></div><div style=\"display: table-cell;\">lod_factor&nbsp;=&nbsp;10,</div></div><div class=\"p1056\" style=\"display: none;\"><div style=\"display: table-cell;\"></div><div style=\"display: table-cell;\">lod_interval&nbsp;=&nbsp;300,</div></div><div class=\"p1056\" style=\"display: none;\"><div style=\"display: table-cell;\"></div><div style=\"display: table-cell;\">lod_threshold&nbsp;=&nbsp;2000,</div></div><div class=\"p1056\" style=\"display: none;\"><div style=\"display: table-cell;\"></div><div style=\"display: table-cell;\">lod_timeout&nbsp;=&nbsp;500,</div></div><div class=\"p1056\" style=\"display: none;\"><div style=\"display: table-cell;\"></div><div style=\"display: table-cell;\">margin&nbsp;=&nbsp;None,</div></div><div class=\"p1056\" style=\"display: none;\"><div style=\"display: table-cell;\"></div><div style=\"display: table-cell;\">match_aspect&nbsp;=&nbsp;False,</div></div><div class=\"p1056\" style=\"display: none;\"><div style=\"display: table-cell;\"></div><div style=\"display: table-cell;\">max_height&nbsp;=&nbsp;None,</div></div><div class=\"p1056\" style=\"display: none;\"><div style=\"display: table-cell;\"></div><div style=\"display: table-cell;\">max_width&nbsp;=&nbsp;None,</div></div><div class=\"p1056\" style=\"display: none;\"><div style=\"display: table-cell;\"></div><div style=\"display: table-cell;\">min_border&nbsp;=&nbsp;5,</div></div><div class=\"p1056\" style=\"display: none;\"><div style=\"display: table-cell;\"></div><div style=\"display: table-cell;\">min_border_bottom&nbsp;=&nbsp;None,</div></div><div class=\"p1056\" style=\"display: none;\"><div style=\"display: table-cell;\"></div><div style=\"display: table-cell;\">min_border_left&nbsp;=&nbsp;None,</div></div><div class=\"p1056\" style=\"display: none;\"><div style=\"display: table-cell;\"></div><div style=\"display: table-cell;\">min_border_right&nbsp;=&nbsp;None,</div></div><div class=\"p1056\" style=\"display: none;\"><div style=\"display: table-cell;\"></div><div style=\"display: table-cell;\">min_border_top&nbsp;=&nbsp;None,</div></div><div class=\"p1056\" style=\"display: none;\"><div style=\"display: table-cell;\"></div><div style=\"display: table-cell;\">min_height&nbsp;=&nbsp;None,</div></div><div class=\"p1056\" style=\"display: none;\"><div style=\"display: table-cell;\"></div><div style=\"display: table-cell;\">min_width&nbsp;=&nbsp;None,</div></div><div class=\"p1056\" style=\"display: none;\"><div style=\"display: table-cell;\"></div><div style=\"display: table-cell;\">name&nbsp;=&nbsp;None,</div></div><div class=\"p1056\" style=\"display: none;\"><div style=\"display: table-cell;\"></div><div style=\"display: table-cell;\">outline_line_alpha&nbsp;=&nbsp;1.0,</div></div><div class=\"p1056\" style=\"display: none;\"><div style=\"display: table-cell;\"></div><div style=\"display: table-cell;\">outline_line_cap&nbsp;=&nbsp;'butt',</div></div><div class=\"p1056\" style=\"display: none;\"><div style=\"display: table-cell;\"></div><div style=\"display: table-cell;\">outline_line_color&nbsp;=&nbsp;'#e5e5e5',</div></div><div class=\"p1056\" style=\"display: none;\"><div style=\"display: table-cell;\"></div><div style=\"display: table-cell;\">outline_line_dash&nbsp;=&nbsp;[],</div></div><div class=\"p1056\" style=\"display: none;\"><div style=\"display: table-cell;\"></div><div style=\"display: table-cell;\">outline_line_dash_offset&nbsp;=&nbsp;0,</div></div><div class=\"p1056\" style=\"display: none;\"><div style=\"display: table-cell;\"></div><div style=\"display: table-cell;\">outline_line_join&nbsp;=&nbsp;'bevel',</div></div><div class=\"p1056\" style=\"display: none;\"><div style=\"display: table-cell;\"></div><div style=\"display: table-cell;\">outline_line_width&nbsp;=&nbsp;1,</div></div><div class=\"p1056\" style=\"display: none;\"><div style=\"display: table-cell;\"></div><div style=\"display: table-cell;\">output_backend&nbsp;=&nbsp;'canvas',</div></div><div class=\"p1056\" style=\"display: none;\"><div style=\"display: table-cell;\"></div><div style=\"display: table-cell;\">renderers&nbsp;=&nbsp;[GlyphRenderer(id='p1047', ...)],</div></div><div class=\"p1056\" style=\"display: none;\"><div style=\"display: table-cell;\"></div><div style=\"display: table-cell;\">reset_policy&nbsp;=&nbsp;'standard',</div></div><div class=\"p1056\" style=\"display: none;\"><div style=\"display: table-cell;\"></div><div style=\"display: table-cell;\">resizable&nbsp;=&nbsp;False,</div></div><div class=\"p1056\" style=\"display: none;\"><div style=\"display: table-cell;\"></div><div style=\"display: table-cell;\">right&nbsp;=&nbsp;[],</div></div><div class=\"p1056\" style=\"display: none;\"><div style=\"display: table-cell;\"></div><div style=\"display: table-cell;\">sizing_mode&nbsp;=&nbsp;None,</div></div><div class=\"p1056\" style=\"display: none;\"><div style=\"display: table-cell;\"></div><div style=\"display: table-cell;\">styles&nbsp;=&nbsp;{},</div></div><div class=\"p1056\" style=\"display: none;\"><div style=\"display: table-cell;\"></div><div style=\"display: table-cell;\">stylesheets&nbsp;=&nbsp;[],</div></div><div class=\"p1056\" style=\"display: none;\"><div style=\"display: table-cell;\"></div><div style=\"display: table-cell;\">subscribed_events&nbsp;=&nbsp;PropertyValueSet(),</div></div><div class=\"p1056\" style=\"display: none;\"><div style=\"display: table-cell;\"></div><div style=\"display: table-cell;\">syncable&nbsp;=&nbsp;True,</div></div><div class=\"p1056\" style=\"display: none;\"><div style=\"display: table-cell;\"></div><div style=\"display: table-cell;\">tags&nbsp;=&nbsp;[],</div></div><div class=\"p1056\" style=\"display: none;\"><div style=\"display: table-cell;\"></div><div style=\"display: table-cell;\">title&nbsp;=&nbsp;Title(id='p1008', ...),</div></div><div class=\"p1056\" style=\"display: none;\"><div style=\"display: table-cell;\"></div><div style=\"display: table-cell;\">title_location&nbsp;=&nbsp;'above',</div></div><div class=\"p1056\" style=\"display: none;\"><div style=\"display: table-cell;\"></div><div style=\"display: table-cell;\">toolbar&nbsp;=&nbsp;Toolbar(id='p1009', ...),</div></div><div class=\"p1056\" style=\"display: none;\"><div style=\"display: table-cell;\"></div><div style=\"display: table-cell;\">toolbar_inner&nbsp;=&nbsp;False,</div></div><div class=\"p1056\" style=\"display: none;\"><div style=\"display: table-cell;\"></div><div style=\"display: table-cell;\">toolbar_location&nbsp;=&nbsp;'right',</div></div><div class=\"p1056\" style=\"display: none;\"><div style=\"display: table-cell;\"></div><div style=\"display: table-cell;\">toolbar_sticky&nbsp;=&nbsp;True,</div></div><div class=\"p1056\" style=\"display: none;\"><div style=\"display: table-cell;\"></div><div style=\"display: table-cell;\">visible&nbsp;=&nbsp;True,</div></div><div class=\"p1056\" style=\"display: none;\"><div style=\"display: table-cell;\"></div><div style=\"display: table-cell;\">width&nbsp;=&nbsp;400,</div></div><div class=\"p1056\" style=\"display: none;\"><div style=\"display: table-cell;\"></div><div style=\"display: table-cell;\">width_policy&nbsp;=&nbsp;'auto',</div></div><div class=\"p1056\" style=\"display: none;\"><div style=\"display: table-cell;\"></div><div style=\"display: table-cell;\">window_axis&nbsp;=&nbsp;'none',</div></div><div class=\"p1056\" style=\"display: none;\"><div style=\"display: table-cell;\"></div><div style=\"display: table-cell;\">x_range&nbsp;=&nbsp;DataRange1d(id='p1002', ...),</div></div><div class=\"p1056\" style=\"display: none;\"><div style=\"display: table-cell;\"></div><div style=\"display: table-cell;\">x_scale&nbsp;=&nbsp;LinearScale(id='p1010', ...),</div></div><div class=\"p1056\" style=\"display: none;\"><div style=\"display: table-cell;\"></div><div style=\"display: table-cell;\">y_range&nbsp;=&nbsp;DataRange1d(id='p1003', ...),</div></div><div class=\"p1056\" style=\"display: none;\"><div style=\"display: table-cell;\"></div><div style=\"display: table-cell;\">y_scale&nbsp;=&nbsp;LinearScale(id='p1011', ...))</div></div></div>\n",
              "<script>\n",
              "(function() {\n",
              "  let expanded = false;\n",
              "  const ellipsis = document.getElementById(\"p1057\");\n",
              "  ellipsis.addEventListener(\"click\", function() {\n",
              "    const rows = document.getElementsByClassName(\"p1056\");\n",
              "    for (let i = 0; i < rows.length; i++) {\n",
              "      const el = rows[i];\n",
              "      el.style.display = expanded ? \"none\" : \"table-row\";\n",
              "    }\n",
              "    ellipsis.innerHTML = expanded ? \"&hellip;)\" : \"&lsaquo;&lsaquo;&lsaquo;\";\n",
              "    expanded = !expanded;\n",
              "  });\n",
              "})();\n",
              "</script>\n"
            ]
          },
          "metadata": {},
          "execution_count": 31
        }
      ]
    },
    {
      "cell_type": "code",
      "source": [],
      "metadata": {
        "id": "v22xoCVpM0S_"
      },
      "execution_count": null,
      "outputs": []
    },
    {
      "cell_type": "markdown",
      "source": [
        "# VAE"
      ],
      "metadata": {
        "id": "P-ig1YfU14Tt"
      }
    },
    {
      "cell_type": "code",
      "source": [
        "import torch\n",
        "import torch.nn as nn\n",
        "import torch.optim as optim\n",
        "from torchvision import datasets, transforms\n",
        "from torch.utils.data import DataLoader\n",
        "import matplotlib.pyplot as plt\n",
        "import numpy as np\n",
        "\n",
        "\n",
        "from pathlib import Path\n",
        "\n",
        "class ConvVAE(nn.Module):\n",
        "    def __init__(self, latent_dim=128):\n",
        "        super(ConvVAE, self).__init__()\n",
        "\n",
        "        # Encoder (for 32x32 CIFAR images)\n",
        "        self.encoder = nn.Sequential(\n",
        "            nn.Conv2d(3, 32, kernel_size=3, stride=2, padding=1),  # 32x32 -> 16x16\n",
        "            nn.BatchNorm2d(32),\n",
        "            nn.LeakyReLU(0.2),\n",
        "\n",
        "            nn.Conv2d(32, 64, kernel_size=3, stride=2, padding=1),  # 16x16 -> 8x8\n",
        "            nn.BatchNorm2d(64),\n",
        "            nn.LeakyReLU(0.2),\n",
        "\n",
        "            nn.Conv2d(64, 128, kernel_size=3, stride=2, padding=1),  # 8x8 -> 4x4\n",
        "            nn.BatchNorm2d(128),\n",
        "            nn.LeakyReLU(0.2),\n",
        "        )\n",
        "\n",
        "        # Latent space\n",
        "        self.fc_mu = nn.Linear(128 * 4 * 4, latent_dim)\n",
        "        self.fc_logvar = nn.Linear(128 * 4 * 4, latent_dim)\n",
        "\n",
        "        # Decoder\n",
        "        self.decoder_fc = nn.Linear(latent_dim, 128 * 4 * 4)\n",
        "\n",
        "        self.decoder = nn.Sequential(\n",
        "            nn.ConvTranspose2d(128, 128, kernel_size=4, stride=2, padding=1),  # 4x4 -> 8x8\n",
        "            nn.BatchNorm2d(128),\n",
        "            nn.LeakyReLU(0.2),\n",
        "\n",
        "            nn.ConvTranspose2d(128, 64, kernel_size=4, stride=2, padding=1),  # 8x8 -> 16x16\n",
        "            nn.BatchNorm2d(64),\n",
        "            nn.LeakyReLU(0.2),\n",
        "\n",
        "            nn.ConvTranspose2d(64, 32, kernel_size=4, stride=2, padding=1),  # 16x16 -> 32x32\n",
        "            nn.BatchNorm2d(32),\n",
        "            nn.LeakyReLU(0.2),\n",
        "\n",
        "            nn.Conv2d(32, 3, kernel_size=3, padding=1),\n",
        "            nn.Sigmoid()\n",
        "        )\n",
        "\n",
        "    def encode(self, x):\n",
        "        x = self.encoder(x)\n",
        "        x = x.view(x.size(0), -1)\n",
        "        mu = self.fc_mu(x)\n",
        "        logvar = self.fc_logvar(x)\n",
        "        return mu, logvar\n",
        "\n",
        "    def reparameterize(self, mu, logvar):\n",
        "        std = torch.exp(0.5 * logvar)\n",
        "        eps = torch.randn_like(std)\n",
        "        return mu + eps * std\n",
        "\n",
        "    def decode(self, z):\n",
        "        z = self.decoder_fc(z)\n",
        "        z = z.view(z.size(0), 128, 4, 4)\n",
        "        return self.decoder(z)\n",
        "\n",
        "    def forward(self, x):\n",
        "        mu, logvar = self.encode(x)\n",
        "        z = self.reparameterize(mu, logvar)\n",
        "        recon_x = self.decode(z)\n",
        "        return recon_x, mu, logvar\n",
        "\n",
        "def loss_function(recon_x, x, mu, logvar):\n",
        "    # Reconstruction loss (MSE works better for CIFAR than BCE)\n",
        "    MSE = nn.functional.mse_loss(recon_x, x, reduction='sum')\n",
        "\n",
        "    # KL divergence\n",
        "    KL = -0.5 * torch.sum(1 + logvar - mu.pow(2) - logvar.exp())\n",
        "\n",
        "    return MSE + KL\n",
        "\n",
        "def train(model, optimizer, train_loader, num_epochs, device='cuda' if torch.cuda.is_available() else 'cpu'):\n",
        "    model.to(device)\n",
        "    train_loss_rec = []\n",
        "\n",
        "    for epoch in range(num_epochs):\n",
        "        model.train()\n",
        "        train_loss = 0\n",
        "        for batch_idx, data in enumerate(train_loader):\n",
        "            data = data.to(device)\n",
        "            optimizer.zero_grad()\n",
        "\n",
        "            recon_batch, mu, logvar = model(data)\n",
        "            loss = loss_function(recon_batch, data, mu, logvar)\n",
        "\n",
        "            loss.backward()\n",
        "            optimizer.step()\n",
        "            train_loss += loss.item()\n",
        "\n",
        "            if batch_idx % 100 == 0:\n",
        "                print(f'Epoch: {epoch+1}, Batch: {batch_idx}, Loss: {loss.item()/len(data):.4f}')\n",
        "\n",
        "        avg_loss = train_loss / len(train_loader.dataset)\n",
        "        train_loss_rec.append(avg_loss)\n",
        "        print(f'Epoch {epoch+1}/{num_epochs}, Loss: {avg_loss:.4f}')\n",
        "\n",
        "    plt.plot(np.arange(num_epochs), train_loss_rec)\n",
        "    plt.xlabel('Epoch')\n",
        "    plt.ylabel('Loss')\n",
        "    plt.title('Training Loss')\n",
        "    plt.show()\n",
        "\n",
        "\n",
        "# Hyperparameters\n",
        "latent_dim = 128\n",
        "num_epochs = 10\n",
        "batch_size = 128\n",
        "learning_rate = 1e-5"
      ],
      "metadata": {
        "id": "LYrFG15O1311"
      },
      "execution_count": 11,
      "outputs": []
    },
    {
      "cell_type": "code",
      "source": [
        "import numpy as np\n",
        "import matplotlib.pyplot as plt\n",
        "import yaml\n",
        "import os\n",
        "import sys\n",
        "\n",
        "import pandas as pd\n",
        "\n",
        "from torchvision import transforms\n",
        "\n",
        "device = torch.device('cuda' if torch.cuda.is_available() else 'cpu')\n",
        "\n",
        "encoder = ConvVAE(latent_dim=latent_dim).to(device)\n",
        "root = Path(r'/content/drive/MyDrive/VAE_weights')\n",
        "enc_file = root / Path('cifar_pretrained119.wgt')\n",
        "encoder.load_state_dict(torch.load(str(enc_file), map_location = device))\n",
        "\n",
        "pd.read_csv('image_info.csv')['edible'].astype(int).to_csv(\"test_is_edible.csv\")\n",
        "dataset = ImageLabelDataset(\n",
        "    csv_file=\"/content/test_is_edible.csv\",\n",
        "    img_dir=\"/content/im\",\n",
        "    transform=transforms.ToTensor()  # Add any other transforms\n",
        ")\n",
        "loader = DataLoader(dataset, batch_size=512)\n",
        "loader_original = DataLoader(dataset, batch_size=512)\n",
        "\n",
        "encoder_func = lambda x: encoder.encode(x)[0]\n",
        "print(len(loader))\n",
        "runner = Runner(\n",
        "    encoder_func,\n",
        "    loader,\n",
        "    loader_original,\n",
        "    \"/content/exemple_config.yaml\"\n",
        ")\n",
        "\n",
        "embeddings, labels, original_images, tsne_results = runner.run(\"test_rerunning\", device, n_iter = 30)\n",
        "\n",
        "import pandas as pd\n",
        "\n",
        "df = pd.DataFrame(np.hstack([embeddings, original_images]), columns = [f\"emb_{i}\" for i in range(128)]+[f\"or_{i}\" for i in range(32*32*3)])\n",
        "df['label'] = labels\n",
        "df.to_csv('/content/drive/MyDrive/Data/VAE_embedding.csv')\n",
        "\n",
        "tsne_results.to_csv('/content/drive/MyDrive/Data/VAE_tsne_embedding.csv')"
      ],
      "metadata": {
        "colab": {
          "base_uri": "https://localhost:8080/",
          "height": 1000
        },
        "id": "rLfyUlya13yU",
        "outputId": "af2f0fd0-0067-4ed3-c1b1-4680a0a39810"
      },
      "execution_count": null,
      "outputs": [
        {
          "output_type": "stream",
          "name": "stdout",
          "text": [
            "98\n",
            "{'model_name': 'SEP', 'encoder': 'VAE', 'input_space_shape': 128, 'delta': 0.1, 'lr': 0.001, 'dr': 0.999, 'omega': 0.3, 'kernel': 'exponential', 'num_exemp': 20}\n",
            "(50000, 128) (50000,) (50000, 3072)\n"
          ]
        },
        {
          "output_type": "display_data",
          "data": {
            "text/plain": [
              "<IPython.core.display.HTML object>"
            ],
            "text/html": [
              "Tracking run with wandb version 0.19.11"
            ]
          },
          "metadata": {}
        },
        {
          "output_type": "display_data",
          "data": {
            "text/plain": [
              "<IPython.core.display.HTML object>"
            ],
            "text/html": [
              "Run data is saved locally in <code>/content/wandb/run-20250516_232118-0r6ig0v0</code>"
            ]
          },
          "metadata": {}
        },
        {
          "output_type": "display_data",
          "data": {
            "text/plain": [
              "<IPython.core.display.HTML object>"
            ],
            "text/html": [
              "Syncing run <strong><a href='https://wandb.ai/ms-hate-life-/encoder_runs/runs/0r6ig0v0' target=\"_blank\">test_rerunning</a></strong> to <a href='https://wandb.ai/ms-hate-life-/encoder_runs' target=\"_blank\">Weights & Biases</a> (<a href='https://wandb.me/developer-guide' target=\"_blank\">docs</a>)<br>"
            ]
          },
          "metadata": {}
        },
        {
          "output_type": "display_data",
          "data": {
            "text/plain": [
              "<IPython.core.display.HTML object>"
            ],
            "text/html": [
              " View project at <a href='https://wandb.ai/ms-hate-life-/encoder_runs' target=\"_blank\">https://wandb.ai/ms-hate-life-/encoder_runs</a>"
            ]
          },
          "metadata": {}
        },
        {
          "output_type": "display_data",
          "data": {
            "text/plain": [
              "<IPython.core.display.HTML object>"
            ],
            "text/html": [
              " View run at <a href='https://wandb.ai/ms-hate-life-/encoder_runs/runs/0r6ig0v0' target=\"_blank\">https://wandb.ai/ms-hate-life-/encoder_runs/runs/0r6ig0v0</a>"
            ]
          },
          "metadata": {}
        },
        {
          "output_type": "stream",
          "name": "stdout",
          "text": [
            "Trial 8604 finished!\n"
          ]
        },
        {
          "output_type": "display_data",
          "data": {
            "text/plain": [
              "<IPython.core.display.HTML object>"
            ],
            "text/html": []
          },
          "metadata": {}
        },
        {
          "output_type": "display_data",
          "data": {
            "text/plain": [
              "<IPython.core.display.HTML object>"
            ],
            "text/html": [
              "<br>    <style><br>        .wandb-row {<br>            display: flex;<br>            flex-direction: row;<br>            flex-wrap: wrap;<br>            justify-content: flex-start;<br>            width: 100%;<br>        }<br>        .wandb-col {<br>            display: flex;<br>            flex-direction: column;<br>            flex-basis: 100%;<br>            flex: 1;<br>            padding: 10px;<br>        }<br>    </style><br><div class=\"wandb-row\"><div class=\"wandb-col\"><h3>Run history:</h3><br/><table class=\"wandb\"><tr><td>peck_edible</td><td>▁████▁█▁███▁▁█▁▁▁█▁████▁██▁▁▁▁▁██▁▁███▁█</td></tr><tr><td>second_order_similarity</td><td>▁</td></tr></table><br/></div><div class=\"wandb-col\"><h3>Run summary:</h3><br/><table class=\"wandb\"><tr><td>peck_edible</td><td>1</td></tr><tr><td>second_order_similarity</td><td>0.64923</td></tr></table><br/></div></div>"
            ]
          },
          "metadata": {}
        },
        {
          "output_type": "display_data",
          "data": {
            "text/plain": [
              "<IPython.core.display.HTML object>"
            ],
            "text/html": [
              " View run <strong style=\"color:#cdcd00\">test_rerunning</strong> at: <a href='https://wandb.ai/ms-hate-life-/encoder_runs/runs/0r6ig0v0' target=\"_blank\">https://wandb.ai/ms-hate-life-/encoder_runs/runs/0r6ig0v0</a><br> View project at: <a href='https://wandb.ai/ms-hate-life-/encoder_runs' target=\"_blank\">https://wandb.ai/ms-hate-life-/encoder_runs</a><br>Synced 5 W&B file(s), 0 media file(s), 0 artifact file(s) and 0 other file(s)"
            ]
          },
          "metadata": {}
        },
        {
          "output_type": "display_data",
          "data": {
            "text/plain": [
              "<IPython.core.display.HTML object>"
            ],
            "text/html": [
              "Find logs at: <code>./wandb/run-20250516_232118-0r6ig0v0/logs</code>"
            ]
          },
          "metadata": {}
        },
        {
          "output_type": "display_data",
          "data": {
            "text/plain": [
              "<IPython.core.display.HTML object>"
            ],
            "text/html": [
              "Tracking run with wandb version 0.19.11"
            ]
          },
          "metadata": {}
        },
        {
          "output_type": "display_data",
          "data": {
            "text/plain": [
              "<IPython.core.display.HTML object>"
            ],
            "text/html": [
              "Run data is saved locally in <code>/content/wandb/run-20250516_232142-ut202zvo</code>"
            ]
          },
          "metadata": {}
        },
        {
          "output_type": "display_data",
          "data": {
            "text/plain": [
              "<IPython.core.display.HTML object>"
            ],
            "text/html": [
              "Syncing run <strong><a href='https://wandb.ai/ms-hate-life-/encoder_runs/runs/ut202zvo' target=\"_blank\">test_rerunning</a></strong> to <a href='https://wandb.ai/ms-hate-life-/encoder_runs' target=\"_blank\">Weights & Biases</a> (<a href='https://wandb.me/developer-guide' target=\"_blank\">docs</a>)<br>"
            ]
          },
          "metadata": {}
        },
        {
          "output_type": "display_data",
          "data": {
            "text/plain": [
              "<IPython.core.display.HTML object>"
            ],
            "text/html": [
              " View project at <a href='https://wandb.ai/ms-hate-life-/encoder_runs' target=\"_blank\">https://wandb.ai/ms-hate-life-/encoder_runs</a>"
            ]
          },
          "metadata": {}
        },
        {
          "output_type": "display_data",
          "data": {
            "text/plain": [
              "<IPython.core.display.HTML object>"
            ],
            "text/html": [
              " View run at <a href='https://wandb.ai/ms-hate-life-/encoder_runs/runs/ut202zvo' target=\"_blank\">https://wandb.ai/ms-hate-life-/encoder_runs/runs/ut202zvo</a>"
            ]
          },
          "metadata": {}
        },
        {
          "output_type": "stream",
          "name": "stdout",
          "text": [
            "Trial 385 finished!\n"
          ]
        },
        {
          "output_type": "display_data",
          "data": {
            "text/plain": [
              "<IPython.core.display.HTML object>"
            ],
            "text/html": []
          },
          "metadata": {}
        },
        {
          "output_type": "display_data",
          "data": {
            "text/plain": [
              "<IPython.core.display.HTML object>"
            ],
            "text/html": [
              "<br>    <style><br>        .wandb-row {<br>            display: flex;<br>            flex-direction: row;<br>            flex-wrap: wrap;<br>            justify-content: flex-start;<br>            width: 100%;<br>        }<br>        .wandb-col {<br>            display: flex;<br>            flex-direction: column;<br>            flex-basis: 100%;<br>            flex: 1;<br>            padding: 10px;<br>        }<br>    </style><br><div class=\"wandb-row\"><div class=\"wandb-col\"><h3>Run history:</h3><br/><table class=\"wandb\"><tr><td>peck_edible</td><td>█▁▁▁███▁██▁██▁▁▁█▁██▁▁▁▁███▁█▁▁█▁▁▁▁▁█▁▁</td></tr><tr><td>second_order_similarity</td><td>▁</td></tr></table><br/></div><div class=\"wandb-col\"><h3>Run summary:</h3><br/><table class=\"wandb\"><tr><td>peck_edible</td><td>0</td></tr><tr><td>second_order_similarity</td><td>0.64622</td></tr></table><br/></div></div>"
            ]
          },
          "metadata": {}
        },
        {
          "output_type": "display_data",
          "data": {
            "text/plain": [
              "<IPython.core.display.HTML object>"
            ],
            "text/html": [
              " View run <strong style=\"color:#cdcd00\">test_rerunning</strong> at: <a href='https://wandb.ai/ms-hate-life-/encoder_runs/runs/ut202zvo' target=\"_blank\">https://wandb.ai/ms-hate-life-/encoder_runs/runs/ut202zvo</a><br> View project at: <a href='https://wandb.ai/ms-hate-life-/encoder_runs' target=\"_blank\">https://wandb.ai/ms-hate-life-/encoder_runs</a><br>Synced 5 W&B file(s), 0 media file(s), 0 artifact file(s) and 0 other file(s)"
            ]
          },
          "metadata": {}
        },
        {
          "output_type": "display_data",
          "data": {
            "text/plain": [
              "<IPython.core.display.HTML object>"
            ],
            "text/html": [
              "Find logs at: <code>./wandb/run-20250516_232142-ut202zvo/logs</code>"
            ]
          },
          "metadata": {}
        },
        {
          "output_type": "display_data",
          "data": {
            "text/plain": [
              "<IPython.core.display.HTML object>"
            ],
            "text/html": [
              "Tracking run with wandb version 0.19.11"
            ]
          },
          "metadata": {}
        },
        {
          "output_type": "display_data",
          "data": {
            "text/plain": [
              "<IPython.core.display.HTML object>"
            ],
            "text/html": [
              "Run data is saved locally in <code>/content/wandb/run-20250516_232204-jaq5ezpp</code>"
            ]
          },
          "metadata": {}
        },
        {
          "output_type": "display_data",
          "data": {
            "text/plain": [
              "<IPython.core.display.HTML object>"
            ],
            "text/html": [
              "Syncing run <strong><a href='https://wandb.ai/ms-hate-life-/encoder_runs/runs/jaq5ezpp' target=\"_blank\">test_rerunning</a></strong> to <a href='https://wandb.ai/ms-hate-life-/encoder_runs' target=\"_blank\">Weights & Biases</a> (<a href='https://wandb.me/developer-guide' target=\"_blank\">docs</a>)<br>"
            ]
          },
          "metadata": {}
        },
        {
          "output_type": "display_data",
          "data": {
            "text/plain": [
              "<IPython.core.display.HTML object>"
            ],
            "text/html": [
              " View project at <a href='https://wandb.ai/ms-hate-life-/encoder_runs' target=\"_blank\">https://wandb.ai/ms-hate-life-/encoder_runs</a>"
            ]
          },
          "metadata": {}
        },
        {
          "output_type": "display_data",
          "data": {
            "text/plain": [
              "<IPython.core.display.HTML object>"
            ],
            "text/html": [
              " View run at <a href='https://wandb.ai/ms-hate-life-/encoder_runs/runs/jaq5ezpp' target=\"_blank\">https://wandb.ai/ms-hate-life-/encoder_runs/runs/jaq5ezpp</a>"
            ]
          },
          "metadata": {}
        },
        {
          "output_type": "stream",
          "name": "stdout",
          "text": [
            "Trial 5598 finished!\n"
          ]
        },
        {
          "output_type": "display_data",
          "data": {
            "text/plain": [
              "<IPython.core.display.HTML object>"
            ],
            "text/html": []
          },
          "metadata": {}
        },
        {
          "output_type": "display_data",
          "data": {
            "text/plain": [
              "<IPython.core.display.HTML object>"
            ],
            "text/html": [
              "<br>    <style><br>        .wandb-row {<br>            display: flex;<br>            flex-direction: row;<br>            flex-wrap: wrap;<br>            justify-content: flex-start;<br>            width: 100%;<br>        }<br>        .wandb-col {<br>            display: flex;<br>            flex-direction: column;<br>            flex-basis: 100%;<br>            flex: 1;<br>            padding: 10px;<br>        }<br>    </style><br><div class=\"wandb-row\"><div class=\"wandb-col\"><h3>Run history:</h3><br/><table class=\"wandb\"><tr><td>peck_edible</td><td>▁█████▁▁▁▁██▁██▁▁█▁▁▁▁█▁██▁█▁█▁██▁▁█▁██▁</td></tr><tr><td>second_order_similarity</td><td>▁</td></tr></table><br/></div><div class=\"wandb-col\"><h3>Run summary:</h3><br/><table class=\"wandb\"><tr><td>peck_edible</td><td>0</td></tr><tr><td>second_order_similarity</td><td>0.64713</td></tr></table><br/></div></div>"
            ]
          },
          "metadata": {}
        },
        {
          "output_type": "display_data",
          "data": {
            "text/plain": [
              "<IPython.core.display.HTML object>"
            ],
            "text/html": [
              " View run <strong style=\"color:#cdcd00\">test_rerunning</strong> at: <a href='https://wandb.ai/ms-hate-life-/encoder_runs/runs/jaq5ezpp' target=\"_blank\">https://wandb.ai/ms-hate-life-/encoder_runs/runs/jaq5ezpp</a><br> View project at: <a href='https://wandb.ai/ms-hate-life-/encoder_runs' target=\"_blank\">https://wandb.ai/ms-hate-life-/encoder_runs</a><br>Synced 5 W&B file(s), 0 media file(s), 0 artifact file(s) and 0 other file(s)"
            ]
          },
          "metadata": {}
        },
        {
          "output_type": "display_data",
          "data": {
            "text/plain": [
              "<IPython.core.display.HTML object>"
            ],
            "text/html": [
              "Find logs at: <code>./wandb/run-20250516_232204-jaq5ezpp/logs</code>"
            ]
          },
          "metadata": {}
        },
        {
          "output_type": "display_data",
          "data": {
            "text/plain": [
              "<IPython.core.display.HTML object>"
            ],
            "text/html": [
              "Tracking run with wandb version 0.19.11"
            ]
          },
          "metadata": {}
        },
        {
          "output_type": "display_data",
          "data": {
            "text/plain": [
              "<IPython.core.display.HTML object>"
            ],
            "text/html": [
              "Run data is saved locally in <code>/content/wandb/run-20250516_232227-6qsa9ja1</code>"
            ]
          },
          "metadata": {}
        },
        {
          "output_type": "display_data",
          "data": {
            "text/plain": [
              "<IPython.core.display.HTML object>"
            ],
            "text/html": [
              "Syncing run <strong><a href='https://wandb.ai/ms-hate-life-/encoder_runs/runs/6qsa9ja1' target=\"_blank\">test_rerunning</a></strong> to <a href='https://wandb.ai/ms-hate-life-/encoder_runs' target=\"_blank\">Weights & Biases</a> (<a href='https://wandb.me/developer-guide' target=\"_blank\">docs</a>)<br>"
            ]
          },
          "metadata": {}
        },
        {
          "output_type": "display_data",
          "data": {
            "text/plain": [
              "<IPython.core.display.HTML object>"
            ],
            "text/html": [
              " View project at <a href='https://wandb.ai/ms-hate-life-/encoder_runs' target=\"_blank\">https://wandb.ai/ms-hate-life-/encoder_runs</a>"
            ]
          },
          "metadata": {}
        },
        {
          "output_type": "display_data",
          "data": {
            "text/plain": [
              "<IPython.core.display.HTML object>"
            ],
            "text/html": [
              " View run at <a href='https://wandb.ai/ms-hate-life-/encoder_runs/runs/6qsa9ja1' target=\"_blank\">https://wandb.ai/ms-hate-life-/encoder_runs/runs/6qsa9ja1</a>"
            ]
          },
          "metadata": {}
        },
        {
          "output_type": "stream",
          "name": "stdout",
          "text": [
            "Trial 7061 finished!\n"
          ]
        },
        {
          "output_type": "display_data",
          "data": {
            "text/plain": [
              "<IPython.core.display.HTML object>"
            ],
            "text/html": []
          },
          "metadata": {}
        },
        {
          "output_type": "display_data",
          "data": {
            "text/plain": [
              "<IPython.core.display.HTML object>"
            ],
            "text/html": [
              "<br>    <style><br>        .wandb-row {<br>            display: flex;<br>            flex-direction: row;<br>            flex-wrap: wrap;<br>            justify-content: flex-start;<br>            width: 100%;<br>        }<br>        .wandb-col {<br>            display: flex;<br>            flex-direction: column;<br>            flex-basis: 100%;<br>            flex: 1;<br>            padding: 10px;<br>        }<br>    </style><br><div class=\"wandb-row\"><div class=\"wandb-col\"><h3>Run history:</h3><br/><table class=\"wandb\"><tr><td>peck_edible</td><td>▁▁█▁▁████▁▁███▁█▁▁▁██▁▁█████▁▁▁█▁▁██▁███</td></tr><tr><td>second_order_similarity</td><td>▁</td></tr></table><br/></div><div class=\"wandb-col\"><h3>Run summary:</h3><br/><table class=\"wandb\"><tr><td>peck_edible</td><td>1</td></tr><tr><td>second_order_similarity</td><td>0.65401</td></tr></table><br/></div></div>"
            ]
          },
          "metadata": {}
        },
        {
          "output_type": "display_data",
          "data": {
            "text/plain": [
              "<IPython.core.display.HTML object>"
            ],
            "text/html": [
              " View run <strong style=\"color:#cdcd00\">test_rerunning</strong> at: <a href='https://wandb.ai/ms-hate-life-/encoder_runs/runs/6qsa9ja1' target=\"_blank\">https://wandb.ai/ms-hate-life-/encoder_runs/runs/6qsa9ja1</a><br> View project at: <a href='https://wandb.ai/ms-hate-life-/encoder_runs' target=\"_blank\">https://wandb.ai/ms-hate-life-/encoder_runs</a><br>Synced 5 W&B file(s), 0 media file(s), 0 artifact file(s) and 0 other file(s)"
            ]
          },
          "metadata": {}
        },
        {
          "output_type": "display_data",
          "data": {
            "text/plain": [
              "<IPython.core.display.HTML object>"
            ],
            "text/html": [
              "Find logs at: <code>./wandb/run-20250516_232227-6qsa9ja1/logs</code>"
            ]
          },
          "metadata": {}
        },
        {
          "output_type": "display_data",
          "data": {
            "text/plain": [
              "<IPython.core.display.HTML object>"
            ],
            "text/html": [
              "Tracking run with wandb version 0.19.11"
            ]
          },
          "metadata": {}
        },
        {
          "output_type": "display_data",
          "data": {
            "text/plain": [
              "<IPython.core.display.HTML object>"
            ],
            "text/html": [
              "Run data is saved locally in <code>/content/wandb/run-20250516_232253-bipl6l9o</code>"
            ]
          },
          "metadata": {}
        },
        {
          "output_type": "display_data",
          "data": {
            "text/plain": [
              "<IPython.core.display.HTML object>"
            ],
            "text/html": [
              "Syncing run <strong><a href='https://wandb.ai/ms-hate-life-/encoder_runs/runs/bipl6l9o' target=\"_blank\">test_rerunning</a></strong> to <a href='https://wandb.ai/ms-hate-life-/encoder_runs' target=\"_blank\">Weights & Biases</a> (<a href='https://wandb.me/developer-guide' target=\"_blank\">docs</a>)<br>"
            ]
          },
          "metadata": {}
        },
        {
          "output_type": "display_data",
          "data": {
            "text/plain": [
              "<IPython.core.display.HTML object>"
            ],
            "text/html": [
              " View project at <a href='https://wandb.ai/ms-hate-life-/encoder_runs' target=\"_blank\">https://wandb.ai/ms-hate-life-/encoder_runs</a>"
            ]
          },
          "metadata": {}
        },
        {
          "output_type": "display_data",
          "data": {
            "text/plain": [
              "<IPython.core.display.HTML object>"
            ],
            "text/html": [
              " View run at <a href='https://wandb.ai/ms-hate-life-/encoder_runs/runs/bipl6l9o' target=\"_blank\">https://wandb.ai/ms-hate-life-/encoder_runs/runs/bipl6l9o</a>"
            ]
          },
          "metadata": {}
        },
        {
          "output_type": "stream",
          "name": "stdout",
          "text": [
            "Trial 6850 finished!\n"
          ]
        },
        {
          "output_type": "display_data",
          "data": {
            "text/plain": [
              "<IPython.core.display.HTML object>"
            ],
            "text/html": []
          },
          "metadata": {}
        },
        {
          "output_type": "display_data",
          "data": {
            "text/plain": [
              "<IPython.core.display.HTML object>"
            ],
            "text/html": [
              "<br>    <style><br>        .wandb-row {<br>            display: flex;<br>            flex-direction: row;<br>            flex-wrap: wrap;<br>            justify-content: flex-start;<br>            width: 100%;<br>        }<br>        .wandb-col {<br>            display: flex;<br>            flex-direction: column;<br>            flex-basis: 100%;<br>            flex: 1;<br>            padding: 10px;<br>        }<br>    </style><br><div class=\"wandb-row\"><div class=\"wandb-col\"><h3>Run history:</h3><br/><table class=\"wandb\"><tr><td>peck_edible</td><td>▁▁██▁██▁▁▁█▁▁█▁█▁▁▁▁▁██▁█▁▁▁██▁▁█▁██▁███</td></tr><tr><td>second_order_similarity</td><td>▁</td></tr></table><br/></div><div class=\"wandb-col\"><h3>Run summary:</h3><br/><table class=\"wandb\"><tr><td>peck_edible</td><td>1</td></tr><tr><td>second_order_similarity</td><td>0.65487</td></tr></table><br/></div></div>"
            ]
          },
          "metadata": {}
        },
        {
          "output_type": "display_data",
          "data": {
            "text/plain": [
              "<IPython.core.display.HTML object>"
            ],
            "text/html": [
              " View run <strong style=\"color:#cdcd00\">test_rerunning</strong> at: <a href='https://wandb.ai/ms-hate-life-/encoder_runs/runs/bipl6l9o' target=\"_blank\">https://wandb.ai/ms-hate-life-/encoder_runs/runs/bipl6l9o</a><br> View project at: <a href='https://wandb.ai/ms-hate-life-/encoder_runs' target=\"_blank\">https://wandb.ai/ms-hate-life-/encoder_runs</a><br>Synced 5 W&B file(s), 0 media file(s), 0 artifact file(s) and 0 other file(s)"
            ]
          },
          "metadata": {}
        },
        {
          "output_type": "display_data",
          "data": {
            "text/plain": [
              "<IPython.core.display.HTML object>"
            ],
            "text/html": [
              "Find logs at: <code>./wandb/run-20250516_232253-bipl6l9o/logs</code>"
            ]
          },
          "metadata": {}
        },
        {
          "output_type": "display_data",
          "data": {
            "text/plain": [
              "<IPython.core.display.HTML object>"
            ],
            "text/html": [
              "Tracking run with wandb version 0.19.11"
            ]
          },
          "metadata": {}
        },
        {
          "output_type": "display_data",
          "data": {
            "text/plain": [
              "<IPython.core.display.HTML object>"
            ],
            "text/html": [
              "Run data is saved locally in <code>/content/wandb/run-20250516_232312-8vbke5in</code>"
            ]
          },
          "metadata": {}
        },
        {
          "output_type": "display_data",
          "data": {
            "text/plain": [
              "<IPython.core.display.HTML object>"
            ],
            "text/html": [
              "Syncing run <strong><a href='https://wandb.ai/ms-hate-life-/encoder_runs/runs/8vbke5in' target=\"_blank\">test_rerunning</a></strong> to <a href='https://wandb.ai/ms-hate-life-/encoder_runs' target=\"_blank\">Weights & Biases</a> (<a href='https://wandb.me/developer-guide' target=\"_blank\">docs</a>)<br>"
            ]
          },
          "metadata": {}
        },
        {
          "output_type": "display_data",
          "data": {
            "text/plain": [
              "<IPython.core.display.HTML object>"
            ],
            "text/html": [
              " View project at <a href='https://wandb.ai/ms-hate-life-/encoder_runs' target=\"_blank\">https://wandb.ai/ms-hate-life-/encoder_runs</a>"
            ]
          },
          "metadata": {}
        },
        {
          "output_type": "display_data",
          "data": {
            "text/plain": [
              "<IPython.core.display.HTML object>"
            ],
            "text/html": [
              " View run at <a href='https://wandb.ai/ms-hate-life-/encoder_runs/runs/8vbke5in' target=\"_blank\">https://wandb.ai/ms-hate-life-/encoder_runs/runs/8vbke5in</a>"
            ]
          },
          "metadata": {}
        },
        {
          "output_type": "stream",
          "name": "stdout",
          "text": [
            "Trial 356 finished!\n"
          ]
        },
        {
          "output_type": "display_data",
          "data": {
            "text/plain": [
              "<IPython.core.display.HTML object>"
            ],
            "text/html": []
          },
          "metadata": {}
        },
        {
          "output_type": "display_data",
          "data": {
            "text/plain": [
              "<IPython.core.display.HTML object>"
            ],
            "text/html": [
              "<br>    <style><br>        .wandb-row {<br>            display: flex;<br>            flex-direction: row;<br>            flex-wrap: wrap;<br>            justify-content: flex-start;<br>            width: 100%;<br>        }<br>        .wandb-col {<br>            display: flex;<br>            flex-direction: column;<br>            flex-basis: 100%;<br>            flex: 1;<br>            padding: 10px;<br>        }<br>    </style><br><div class=\"wandb-row\"><div class=\"wandb-col\"><h3>Run history:</h3><br/><table class=\"wandb\"><tr><td>peck_edible</td><td>▁██▁██████▁██▁▁▁██▁▁▁▁▁▁█▁███▁█▁█▁██▁▁▁▁</td></tr><tr><td>second_order_similarity</td><td>▁</td></tr></table><br/></div><div class=\"wandb-col\"><h3>Run summary:</h3><br/><table class=\"wandb\"><tr><td>peck_edible</td><td>1</td></tr><tr><td>second_order_similarity</td><td>0.64591</td></tr></table><br/></div></div>"
            ]
          },
          "metadata": {}
        },
        {
          "output_type": "display_data",
          "data": {
            "text/plain": [
              "<IPython.core.display.HTML object>"
            ],
            "text/html": [
              " View run <strong style=\"color:#cdcd00\">test_rerunning</strong> at: <a href='https://wandb.ai/ms-hate-life-/encoder_runs/runs/8vbke5in' target=\"_blank\">https://wandb.ai/ms-hate-life-/encoder_runs/runs/8vbke5in</a><br> View project at: <a href='https://wandb.ai/ms-hate-life-/encoder_runs' target=\"_blank\">https://wandb.ai/ms-hate-life-/encoder_runs</a><br>Synced 5 W&B file(s), 0 media file(s), 0 artifact file(s) and 0 other file(s)"
            ]
          },
          "metadata": {}
        },
        {
          "output_type": "display_data",
          "data": {
            "text/plain": [
              "<IPython.core.display.HTML object>"
            ],
            "text/html": [
              "Find logs at: <code>./wandb/run-20250516_232312-8vbke5in/logs</code>"
            ]
          },
          "metadata": {}
        },
        {
          "output_type": "display_data",
          "data": {
            "text/plain": [
              "<IPython.core.display.HTML object>"
            ],
            "text/html": [
              "Tracking run with wandb version 0.19.11"
            ]
          },
          "metadata": {}
        },
        {
          "output_type": "display_data",
          "data": {
            "text/plain": [
              "<IPython.core.display.HTML object>"
            ],
            "text/html": [
              "Run data is saved locally in <code>/content/wandb/run-20250516_232332-it7olpqj</code>"
            ]
          },
          "metadata": {}
        },
        {
          "output_type": "display_data",
          "data": {
            "text/plain": [
              "<IPython.core.display.HTML object>"
            ],
            "text/html": [
              "Syncing run <strong><a href='https://wandb.ai/ms-hate-life-/encoder_runs/runs/it7olpqj' target=\"_blank\">test_rerunning</a></strong> to <a href='https://wandb.ai/ms-hate-life-/encoder_runs' target=\"_blank\">Weights & Biases</a> (<a href='https://wandb.me/developer-guide' target=\"_blank\">docs</a>)<br>"
            ]
          },
          "metadata": {}
        },
        {
          "output_type": "display_data",
          "data": {
            "text/plain": [
              "<IPython.core.display.HTML object>"
            ],
            "text/html": [
              " View project at <a href='https://wandb.ai/ms-hate-life-/encoder_runs' target=\"_blank\">https://wandb.ai/ms-hate-life-/encoder_runs</a>"
            ]
          },
          "metadata": {}
        },
        {
          "output_type": "display_data",
          "data": {
            "text/plain": [
              "<IPython.core.display.HTML object>"
            ],
            "text/html": [
              " View run at <a href='https://wandb.ai/ms-hate-life-/encoder_runs/runs/it7olpqj' target=\"_blank\">https://wandb.ai/ms-hate-life-/encoder_runs/runs/it7olpqj</a>"
            ]
          },
          "metadata": {}
        },
        {
          "output_type": "stream",
          "name": "stdout",
          "text": [
            "Trial 296 finished!\n"
          ]
        },
        {
          "output_type": "display_data",
          "data": {
            "text/plain": [
              "<IPython.core.display.HTML object>"
            ],
            "text/html": []
          },
          "metadata": {}
        },
        {
          "output_type": "display_data",
          "data": {
            "text/plain": [
              "<IPython.core.display.HTML object>"
            ],
            "text/html": [
              "<br>    <style><br>        .wandb-row {<br>            display: flex;<br>            flex-direction: row;<br>            flex-wrap: wrap;<br>            justify-content: flex-start;<br>            width: 100%;<br>        }<br>        .wandb-col {<br>            display: flex;<br>            flex-direction: column;<br>            flex-basis: 100%;<br>            flex: 1;<br>            padding: 10px;<br>        }<br>    </style><br><div class=\"wandb-row\"><div class=\"wandb-col\"><h3>Run history:</h3><br/><table class=\"wandb\"><tr><td>peck_edible</td><td>▁███▁███▁█▁█▁▁▁█████▁█▁▁▁▁█▁▁█▁▁▁▁█████▁</td></tr><tr><td>second_order_similarity</td><td>▁</td></tr></table><br/></div><div class=\"wandb-col\"><h3>Run summary:</h3><br/><table class=\"wandb\"><tr><td>peck_edible</td><td>0</td></tr><tr><td>second_order_similarity</td><td>0.64498</td></tr></table><br/></div></div>"
            ]
          },
          "metadata": {}
        },
        {
          "output_type": "display_data",
          "data": {
            "text/plain": [
              "<IPython.core.display.HTML object>"
            ],
            "text/html": [
              " View run <strong style=\"color:#cdcd00\">test_rerunning</strong> at: <a href='https://wandb.ai/ms-hate-life-/encoder_runs/runs/it7olpqj' target=\"_blank\">https://wandb.ai/ms-hate-life-/encoder_runs/runs/it7olpqj</a><br> View project at: <a href='https://wandb.ai/ms-hate-life-/encoder_runs' target=\"_blank\">https://wandb.ai/ms-hate-life-/encoder_runs</a><br>Synced 5 W&B file(s), 0 media file(s), 0 artifact file(s) and 0 other file(s)"
            ]
          },
          "metadata": {}
        },
        {
          "output_type": "display_data",
          "data": {
            "text/plain": [
              "<IPython.core.display.HTML object>"
            ],
            "text/html": [
              "Find logs at: <code>./wandb/run-20250516_232332-it7olpqj/logs</code>"
            ]
          },
          "metadata": {}
        },
        {
          "output_type": "display_data",
          "data": {
            "text/plain": [
              "<IPython.core.display.HTML object>"
            ],
            "text/html": [
              "Tracking run with wandb version 0.19.11"
            ]
          },
          "metadata": {}
        },
        {
          "output_type": "display_data",
          "data": {
            "text/plain": [
              "<IPython.core.display.HTML object>"
            ],
            "text/html": [
              "Run data is saved locally in <code>/content/wandb/run-20250516_232352-j4cdbvcm</code>"
            ]
          },
          "metadata": {}
        },
        {
          "output_type": "display_data",
          "data": {
            "text/plain": [
              "<IPython.core.display.HTML object>"
            ],
            "text/html": [
              "Syncing run <strong><a href='https://wandb.ai/ms-hate-life-/encoder_runs/runs/j4cdbvcm' target=\"_blank\">test_rerunning</a></strong> to <a href='https://wandb.ai/ms-hate-life-/encoder_runs' target=\"_blank\">Weights & Biases</a> (<a href='https://wandb.me/developer-guide' target=\"_blank\">docs</a>)<br>"
            ]
          },
          "metadata": {}
        },
        {
          "output_type": "display_data",
          "data": {
            "text/plain": [
              "<IPython.core.display.HTML object>"
            ],
            "text/html": [
              " View project at <a href='https://wandb.ai/ms-hate-life-/encoder_runs' target=\"_blank\">https://wandb.ai/ms-hate-life-/encoder_runs</a>"
            ]
          },
          "metadata": {}
        },
        {
          "output_type": "display_data",
          "data": {
            "text/plain": [
              "<IPython.core.display.HTML object>"
            ],
            "text/html": [
              " View run at <a href='https://wandb.ai/ms-hate-life-/encoder_runs/runs/j4cdbvcm' target=\"_blank\">https://wandb.ai/ms-hate-life-/encoder_runs/runs/j4cdbvcm</a>"
            ]
          },
          "metadata": {}
        },
        {
          "output_type": "stream",
          "name": "stdout",
          "text": [
            "Trial 1120 finished!\n"
          ]
        },
        {
          "output_type": "display_data",
          "data": {
            "text/plain": [
              "<IPython.core.display.HTML object>"
            ],
            "text/html": []
          },
          "metadata": {}
        },
        {
          "output_type": "display_data",
          "data": {
            "text/plain": [
              "<IPython.core.display.HTML object>"
            ],
            "text/html": [
              "<br>    <style><br>        .wandb-row {<br>            display: flex;<br>            flex-direction: row;<br>            flex-wrap: wrap;<br>            justify-content: flex-start;<br>            width: 100%;<br>        }<br>        .wandb-col {<br>            display: flex;<br>            flex-direction: column;<br>            flex-basis: 100%;<br>            flex: 1;<br>            padding: 10px;<br>        }<br>    </style><br><div class=\"wandb-row\"><div class=\"wandb-col\"><h3>Run history:</h3><br/><table class=\"wandb\"><tr><td>peck_edible</td><td>███▁▁▁███████▁▁██▁██▁█▁█▁█▁██▁██▁▁▁██▁▁▁</td></tr><tr><td>second_order_similarity</td><td>▁</td></tr></table><br/></div><div class=\"wandb-col\"><h3>Run summary:</h3><br/><table class=\"wandb\"><tr><td>peck_edible</td><td>0</td></tr><tr><td>second_order_similarity</td><td>0.64507</td></tr></table><br/></div></div>"
            ]
          },
          "metadata": {}
        },
        {
          "output_type": "display_data",
          "data": {
            "text/plain": [
              "<IPython.core.display.HTML object>"
            ],
            "text/html": [
              " View run <strong style=\"color:#cdcd00\">test_rerunning</strong> at: <a href='https://wandb.ai/ms-hate-life-/encoder_runs/runs/j4cdbvcm' target=\"_blank\">https://wandb.ai/ms-hate-life-/encoder_runs/runs/j4cdbvcm</a><br> View project at: <a href='https://wandb.ai/ms-hate-life-/encoder_runs' target=\"_blank\">https://wandb.ai/ms-hate-life-/encoder_runs</a><br>Synced 5 W&B file(s), 0 media file(s), 0 artifact file(s) and 0 other file(s)"
            ]
          },
          "metadata": {}
        },
        {
          "output_type": "display_data",
          "data": {
            "text/plain": [
              "<IPython.core.display.HTML object>"
            ],
            "text/html": [
              "Find logs at: <code>./wandb/run-20250516_232352-j4cdbvcm/logs</code>"
            ]
          },
          "metadata": {}
        },
        {
          "output_type": "display_data",
          "data": {
            "text/plain": [
              "<IPython.core.display.HTML object>"
            ],
            "text/html": [
              "Tracking run with wandb version 0.19.11"
            ]
          },
          "metadata": {}
        },
        {
          "output_type": "display_data",
          "data": {
            "text/plain": [
              "<IPython.core.display.HTML object>"
            ],
            "text/html": [
              "Run data is saved locally in <code>/content/wandb/run-20250516_232411-bwq0kz4d</code>"
            ]
          },
          "metadata": {}
        },
        {
          "output_type": "display_data",
          "data": {
            "text/plain": [
              "<IPython.core.display.HTML object>"
            ],
            "text/html": [
              "Syncing run <strong><a href='https://wandb.ai/ms-hate-life-/encoder_runs/runs/bwq0kz4d' target=\"_blank\">test_rerunning</a></strong> to <a href='https://wandb.ai/ms-hate-life-/encoder_runs' target=\"_blank\">Weights & Biases</a> (<a href='https://wandb.me/developer-guide' target=\"_blank\">docs</a>)<br>"
            ]
          },
          "metadata": {}
        },
        {
          "output_type": "display_data",
          "data": {
            "text/plain": [
              "<IPython.core.display.HTML object>"
            ],
            "text/html": [
              " View project at <a href='https://wandb.ai/ms-hate-life-/encoder_runs' target=\"_blank\">https://wandb.ai/ms-hate-life-/encoder_runs</a>"
            ]
          },
          "metadata": {}
        },
        {
          "output_type": "display_data",
          "data": {
            "text/plain": [
              "<IPython.core.display.HTML object>"
            ],
            "text/html": [
              " View run at <a href='https://wandb.ai/ms-hate-life-/encoder_runs/runs/bwq0kz4d' target=\"_blank\">https://wandb.ai/ms-hate-life-/encoder_runs/runs/bwq0kz4d</a>"
            ]
          },
          "metadata": {}
        },
        {
          "output_type": "stream",
          "name": "stdout",
          "text": [
            "Trial 278 finished!\n"
          ]
        },
        {
          "output_type": "display_data",
          "data": {
            "text/plain": [
              "<IPython.core.display.HTML object>"
            ],
            "text/html": []
          },
          "metadata": {}
        },
        {
          "output_type": "display_data",
          "data": {
            "text/plain": [
              "<IPython.core.display.HTML object>"
            ],
            "text/html": [
              "<br>    <style><br>        .wandb-row {<br>            display: flex;<br>            flex-direction: row;<br>            flex-wrap: wrap;<br>            justify-content: flex-start;<br>            width: 100%;<br>        }<br>        .wandb-col {<br>            display: flex;<br>            flex-direction: column;<br>            flex-basis: 100%;<br>            flex: 1;<br>            padding: 10px;<br>        }<br>    </style><br><div class=\"wandb-row\"><div class=\"wandb-col\"><h3>Run history:</h3><br/><table class=\"wandb\"><tr><td>peck_edible</td><td>▁▁▁▁██▁▁▁██▁██▁█▁▁██▁▁▁▁██▁▁████▁▁▁▁▁▁▁█</td></tr><tr><td>second_order_similarity</td><td>▁</td></tr></table><br/></div><div class=\"wandb-col\"><h3>Run summary:</h3><br/><table class=\"wandb\"><tr><td>peck_edible</td><td>0</td></tr><tr><td>second_order_similarity</td><td>0.65844</td></tr></table><br/></div></div>"
            ]
          },
          "metadata": {}
        },
        {
          "output_type": "display_data",
          "data": {
            "text/plain": [
              "<IPython.core.display.HTML object>"
            ],
            "text/html": [
              " View run <strong style=\"color:#cdcd00\">test_rerunning</strong> at: <a href='https://wandb.ai/ms-hate-life-/encoder_runs/runs/bwq0kz4d' target=\"_blank\">https://wandb.ai/ms-hate-life-/encoder_runs/runs/bwq0kz4d</a><br> View project at: <a href='https://wandb.ai/ms-hate-life-/encoder_runs' target=\"_blank\">https://wandb.ai/ms-hate-life-/encoder_runs</a><br>Synced 5 W&B file(s), 0 media file(s), 0 artifact file(s) and 0 other file(s)"
            ]
          },
          "metadata": {}
        },
        {
          "output_type": "display_data",
          "data": {
            "text/plain": [
              "<IPython.core.display.HTML object>"
            ],
            "text/html": [
              "Find logs at: <code>./wandb/run-20250516_232411-bwq0kz4d/logs</code>"
            ]
          },
          "metadata": {}
        },
        {
          "output_type": "display_data",
          "data": {
            "text/plain": [
              "<IPython.core.display.HTML object>"
            ],
            "text/html": [
              "Tracking run with wandb version 0.19.11"
            ]
          },
          "metadata": {}
        },
        {
          "output_type": "display_data",
          "data": {
            "text/plain": [
              "<IPython.core.display.HTML object>"
            ],
            "text/html": [
              "Run data is saved locally in <code>/content/wandb/run-20250516_232430-v00u4s0q</code>"
            ]
          },
          "metadata": {}
        },
        {
          "output_type": "display_data",
          "data": {
            "text/plain": [
              "<IPython.core.display.HTML object>"
            ],
            "text/html": [
              "Syncing run <strong><a href='https://wandb.ai/ms-hate-life-/encoder_runs/runs/v00u4s0q' target=\"_blank\">test_rerunning</a></strong> to <a href='https://wandb.ai/ms-hate-life-/encoder_runs' target=\"_blank\">Weights & Biases</a> (<a href='https://wandb.me/developer-guide' target=\"_blank\">docs</a>)<br>"
            ]
          },
          "metadata": {}
        },
        {
          "output_type": "display_data",
          "data": {
            "text/plain": [
              "<IPython.core.display.HTML object>"
            ],
            "text/html": [
              " View project at <a href='https://wandb.ai/ms-hate-life-/encoder_runs' target=\"_blank\">https://wandb.ai/ms-hate-life-/encoder_runs</a>"
            ]
          },
          "metadata": {}
        },
        {
          "output_type": "display_data",
          "data": {
            "text/plain": [
              "<IPython.core.display.HTML object>"
            ],
            "text/html": [
              " View run at <a href='https://wandb.ai/ms-hate-life-/encoder_runs/runs/v00u4s0q' target=\"_blank\">https://wandb.ai/ms-hate-life-/encoder_runs/runs/v00u4s0q</a>"
            ]
          },
          "metadata": {}
        },
        {
          "output_type": "stream",
          "name": "stdout",
          "text": [
            "Trial 254 finished!\n"
          ]
        },
        {
          "output_type": "display_data",
          "data": {
            "text/plain": [
              "<IPython.core.display.HTML object>"
            ],
            "text/html": []
          },
          "metadata": {}
        },
        {
          "output_type": "display_data",
          "data": {
            "text/plain": [
              "<IPython.core.display.HTML object>"
            ],
            "text/html": [
              "<br>    <style><br>        .wandb-row {<br>            display: flex;<br>            flex-direction: row;<br>            flex-wrap: wrap;<br>            justify-content: flex-start;<br>            width: 100%;<br>        }<br>        .wandb-col {<br>            display: flex;<br>            flex-direction: column;<br>            flex-basis: 100%;<br>            flex: 1;<br>            padding: 10px;<br>        }<br>    </style><br><div class=\"wandb-row\"><div class=\"wandb-col\"><h3>Run history:</h3><br/><table class=\"wandb\"><tr><td>peck_edible</td><td>▁▁▁▁▁█▁▁█▁█▁█▁▁▁██▁██████▁▁▁▁██▁█▁▁▁▁▁▁▁</td></tr><tr><td>second_order_similarity</td><td>▁</td></tr></table><br/></div><div class=\"wandb-col\"><h3>Run summary:</h3><br/><table class=\"wandb\"><tr><td>peck_edible</td><td>1</td></tr><tr><td>second_order_similarity</td><td>0.64366</td></tr></table><br/></div></div>"
            ]
          },
          "metadata": {}
        },
        {
          "output_type": "display_data",
          "data": {
            "text/plain": [
              "<IPython.core.display.HTML object>"
            ],
            "text/html": [
              " View run <strong style=\"color:#cdcd00\">test_rerunning</strong> at: <a href='https://wandb.ai/ms-hate-life-/encoder_runs/runs/v00u4s0q' target=\"_blank\">https://wandb.ai/ms-hate-life-/encoder_runs/runs/v00u4s0q</a><br> View project at: <a href='https://wandb.ai/ms-hate-life-/encoder_runs' target=\"_blank\">https://wandb.ai/ms-hate-life-/encoder_runs</a><br>Synced 5 W&B file(s), 0 media file(s), 0 artifact file(s) and 0 other file(s)"
            ]
          },
          "metadata": {}
        },
        {
          "output_type": "display_data",
          "data": {
            "text/plain": [
              "<IPython.core.display.HTML object>"
            ],
            "text/html": [
              "Find logs at: <code>./wandb/run-20250516_232430-v00u4s0q/logs</code>"
            ]
          },
          "metadata": {}
        },
        {
          "output_type": "display_data",
          "data": {
            "text/plain": [
              "<IPython.core.display.HTML object>"
            ],
            "text/html": [
              "Tracking run with wandb version 0.19.11"
            ]
          },
          "metadata": {}
        },
        {
          "output_type": "display_data",
          "data": {
            "text/plain": [
              "<IPython.core.display.HTML object>"
            ],
            "text/html": [
              "Run data is saved locally in <code>/content/wandb/run-20250516_232449-nstmlu5e</code>"
            ]
          },
          "metadata": {}
        },
        {
          "output_type": "display_data",
          "data": {
            "text/plain": [
              "<IPython.core.display.HTML object>"
            ],
            "text/html": [
              "Syncing run <strong><a href='https://wandb.ai/ms-hate-life-/encoder_runs/runs/nstmlu5e' target=\"_blank\">test_rerunning</a></strong> to <a href='https://wandb.ai/ms-hate-life-/encoder_runs' target=\"_blank\">Weights & Biases</a> (<a href='https://wandb.me/developer-guide' target=\"_blank\">docs</a>)<br>"
            ]
          },
          "metadata": {}
        },
        {
          "output_type": "display_data",
          "data": {
            "text/plain": [
              "<IPython.core.display.HTML object>"
            ],
            "text/html": [
              " View project at <a href='https://wandb.ai/ms-hate-life-/encoder_runs' target=\"_blank\">https://wandb.ai/ms-hate-life-/encoder_runs</a>"
            ]
          },
          "metadata": {}
        },
        {
          "output_type": "display_data",
          "data": {
            "text/plain": [
              "<IPython.core.display.HTML object>"
            ],
            "text/html": [
              " View run at <a href='https://wandb.ai/ms-hate-life-/encoder_runs/runs/nstmlu5e' target=\"_blank\">https://wandb.ai/ms-hate-life-/encoder_runs/runs/nstmlu5e</a>"
            ]
          },
          "metadata": {}
        },
        {
          "output_type": "stream",
          "name": "stdout",
          "text": [
            "Trial 218 finished!\n"
          ]
        },
        {
          "output_type": "display_data",
          "data": {
            "text/plain": [
              "<IPython.core.display.HTML object>"
            ],
            "text/html": []
          },
          "metadata": {}
        },
        {
          "output_type": "display_data",
          "data": {
            "text/plain": [
              "<IPython.core.display.HTML object>"
            ],
            "text/html": [
              "<br>    <style><br>        .wandb-row {<br>            display: flex;<br>            flex-direction: row;<br>            flex-wrap: wrap;<br>            justify-content: flex-start;<br>            width: 100%;<br>        }<br>        .wandb-col {<br>            display: flex;<br>            flex-direction: column;<br>            flex-basis: 100%;<br>            flex: 1;<br>            padding: 10px;<br>        }<br>    </style><br><div class=\"wandb-row\"><div class=\"wandb-col\"><h3>Run history:</h3><br/><table class=\"wandb\"><tr><td>peck_edible</td><td>▁█▁███▁██▁██▁▁▁▁▁▁██▁▁▁████▁█▁██▁█▁██▁█▁</td></tr><tr><td>second_order_similarity</td><td>▁</td></tr></table><br/></div><div class=\"wandb-col\"><h3>Run summary:</h3><br/><table class=\"wandb\"><tr><td>peck_edible</td><td>0</td></tr><tr><td>second_order_similarity</td><td>0.64979</td></tr></table><br/></div></div>"
            ]
          },
          "metadata": {}
        },
        {
          "output_type": "display_data",
          "data": {
            "text/plain": [
              "<IPython.core.display.HTML object>"
            ],
            "text/html": [
              " View run <strong style=\"color:#cdcd00\">test_rerunning</strong> at: <a href='https://wandb.ai/ms-hate-life-/encoder_runs/runs/nstmlu5e' target=\"_blank\">https://wandb.ai/ms-hate-life-/encoder_runs/runs/nstmlu5e</a><br> View project at: <a href='https://wandb.ai/ms-hate-life-/encoder_runs' target=\"_blank\">https://wandb.ai/ms-hate-life-/encoder_runs</a><br>Synced 5 W&B file(s), 0 media file(s), 0 artifact file(s) and 0 other file(s)"
            ]
          },
          "metadata": {}
        },
        {
          "output_type": "display_data",
          "data": {
            "text/plain": [
              "<IPython.core.display.HTML object>"
            ],
            "text/html": [
              "Find logs at: <code>./wandb/run-20250516_232449-nstmlu5e/logs</code>"
            ]
          },
          "metadata": {}
        },
        {
          "output_type": "display_data",
          "data": {
            "text/plain": [
              "<IPython.core.display.HTML object>"
            ],
            "text/html": [
              "Tracking run with wandb version 0.19.11"
            ]
          },
          "metadata": {}
        },
        {
          "output_type": "display_data",
          "data": {
            "text/plain": [
              "<IPython.core.display.HTML object>"
            ],
            "text/html": [
              "Run data is saved locally in <code>/content/wandb/run-20250516_232508-t9vllvdf</code>"
            ]
          },
          "metadata": {}
        },
        {
          "output_type": "display_data",
          "data": {
            "text/plain": [
              "<IPython.core.display.HTML object>"
            ],
            "text/html": [
              "Syncing run <strong><a href='https://wandb.ai/ms-hate-life-/encoder_runs/runs/t9vllvdf' target=\"_blank\">test_rerunning</a></strong> to <a href='https://wandb.ai/ms-hate-life-/encoder_runs' target=\"_blank\">Weights & Biases</a> (<a href='https://wandb.me/developer-guide' target=\"_blank\">docs</a>)<br>"
            ]
          },
          "metadata": {}
        },
        {
          "output_type": "display_data",
          "data": {
            "text/plain": [
              "<IPython.core.display.HTML object>"
            ],
            "text/html": [
              " View project at <a href='https://wandb.ai/ms-hate-life-/encoder_runs' target=\"_blank\">https://wandb.ai/ms-hate-life-/encoder_runs</a>"
            ]
          },
          "metadata": {}
        },
        {
          "output_type": "display_data",
          "data": {
            "text/plain": [
              "<IPython.core.display.HTML object>"
            ],
            "text/html": [
              " View run at <a href='https://wandb.ai/ms-hate-life-/encoder_runs/runs/t9vllvdf' target=\"_blank\">https://wandb.ai/ms-hate-life-/encoder_runs/runs/t9vllvdf</a>"
            ]
          },
          "metadata": {}
        },
        {
          "output_type": "stream",
          "name": "stdout",
          "text": [
            "Trial 2089 finished!\n"
          ]
        },
        {
          "output_type": "display_data",
          "data": {
            "text/plain": [
              "<IPython.core.display.HTML object>"
            ],
            "text/html": []
          },
          "metadata": {}
        },
        {
          "output_type": "display_data",
          "data": {
            "text/plain": [
              "<IPython.core.display.HTML object>"
            ],
            "text/html": [
              "<br>    <style><br>        .wandb-row {<br>            display: flex;<br>            flex-direction: row;<br>            flex-wrap: wrap;<br>            justify-content: flex-start;<br>            width: 100%;<br>        }<br>        .wandb-col {<br>            display: flex;<br>            flex-direction: column;<br>            flex-basis: 100%;<br>            flex: 1;<br>            padding: 10px;<br>        }<br>    </style><br><div class=\"wandb-row\"><div class=\"wandb-col\"><h3>Run history:</h3><br/><table class=\"wandb\"><tr><td>peck_edible</td><td>█▁▁██▁█▁██▁▁▁▁▁██▁███▁█▁▁▁▁▁▁█████▁█▁█▁▁</td></tr><tr><td>second_order_similarity</td><td>▁</td></tr></table><br/></div><div class=\"wandb-col\"><h3>Run summary:</h3><br/><table class=\"wandb\"><tr><td>peck_edible</td><td>0</td></tr><tr><td>second_order_similarity</td><td>0.64405</td></tr></table><br/></div></div>"
            ]
          },
          "metadata": {}
        },
        {
          "output_type": "display_data",
          "data": {
            "text/plain": [
              "<IPython.core.display.HTML object>"
            ],
            "text/html": [
              " View run <strong style=\"color:#cdcd00\">test_rerunning</strong> at: <a href='https://wandb.ai/ms-hate-life-/encoder_runs/runs/t9vllvdf' target=\"_blank\">https://wandb.ai/ms-hate-life-/encoder_runs/runs/t9vllvdf</a><br> View project at: <a href='https://wandb.ai/ms-hate-life-/encoder_runs' target=\"_blank\">https://wandb.ai/ms-hate-life-/encoder_runs</a><br>Synced 5 W&B file(s), 0 media file(s), 0 artifact file(s) and 0 other file(s)"
            ]
          },
          "metadata": {}
        },
        {
          "output_type": "display_data",
          "data": {
            "text/plain": [
              "<IPython.core.display.HTML object>"
            ],
            "text/html": [
              "Find logs at: <code>./wandb/run-20250516_232508-t9vllvdf/logs</code>"
            ]
          },
          "metadata": {}
        },
        {
          "output_type": "display_data",
          "data": {
            "text/plain": [
              "<IPython.core.display.HTML object>"
            ],
            "text/html": [
              "Tracking run with wandb version 0.19.11"
            ]
          },
          "metadata": {}
        },
        {
          "output_type": "display_data",
          "data": {
            "text/plain": [
              "<IPython.core.display.HTML object>"
            ],
            "text/html": [
              "Run data is saved locally in <code>/content/wandb/run-20250516_232528-njrqlibd</code>"
            ]
          },
          "metadata": {}
        },
        {
          "output_type": "display_data",
          "data": {
            "text/plain": [
              "<IPython.core.display.HTML object>"
            ],
            "text/html": [
              "Syncing run <strong><a href='https://wandb.ai/ms-hate-life-/encoder_runs/runs/njrqlibd' target=\"_blank\">test_rerunning</a></strong> to <a href='https://wandb.ai/ms-hate-life-/encoder_runs' target=\"_blank\">Weights & Biases</a> (<a href='https://wandb.me/developer-guide' target=\"_blank\">docs</a>)<br>"
            ]
          },
          "metadata": {}
        },
        {
          "output_type": "display_data",
          "data": {
            "text/plain": [
              "<IPython.core.display.HTML object>"
            ],
            "text/html": [
              " View project at <a href='https://wandb.ai/ms-hate-life-/encoder_runs' target=\"_blank\">https://wandb.ai/ms-hate-life-/encoder_runs</a>"
            ]
          },
          "metadata": {}
        },
        {
          "output_type": "display_data",
          "data": {
            "text/plain": [
              "<IPython.core.display.HTML object>"
            ],
            "text/html": [
              " View run at <a href='https://wandb.ai/ms-hate-life-/encoder_runs/runs/njrqlibd' target=\"_blank\">https://wandb.ai/ms-hate-life-/encoder_runs/runs/njrqlibd</a>"
            ]
          },
          "metadata": {}
        },
        {
          "output_type": "stream",
          "name": "stdout",
          "text": [
            "Trial 904 finished!\n"
          ]
        },
        {
          "output_type": "display_data",
          "data": {
            "text/plain": [
              "<IPython.core.display.HTML object>"
            ],
            "text/html": []
          },
          "metadata": {}
        },
        {
          "output_type": "display_data",
          "data": {
            "text/plain": [
              "<IPython.core.display.HTML object>"
            ],
            "text/html": [
              "<br>    <style><br>        .wandb-row {<br>            display: flex;<br>            flex-direction: row;<br>            flex-wrap: wrap;<br>            justify-content: flex-start;<br>            width: 100%;<br>        }<br>        .wandb-col {<br>            display: flex;<br>            flex-direction: column;<br>            flex-basis: 100%;<br>            flex: 1;<br>            padding: 10px;<br>        }<br>    </style><br><div class=\"wandb-row\"><div class=\"wandb-col\"><h3>Run history:</h3><br/><table class=\"wandb\"><tr><td>peck_edible</td><td>█▁▁█▁▁█▁▁▁▁▁███▁▁▁█▁▁██▁▁▁██▁▁▁▁█▁██████</td></tr><tr><td>second_order_similarity</td><td>▁</td></tr></table><br/></div><div class=\"wandb-col\"><h3>Run summary:</h3><br/><table class=\"wandb\"><tr><td>peck_edible</td><td>1</td></tr><tr><td>second_order_similarity</td><td>0.64676</td></tr></table><br/></div></div>"
            ]
          },
          "metadata": {}
        },
        {
          "output_type": "display_data",
          "data": {
            "text/plain": [
              "<IPython.core.display.HTML object>"
            ],
            "text/html": [
              " View run <strong style=\"color:#cdcd00\">test_rerunning</strong> at: <a href='https://wandb.ai/ms-hate-life-/encoder_runs/runs/njrqlibd' target=\"_blank\">https://wandb.ai/ms-hate-life-/encoder_runs/runs/njrqlibd</a><br> View project at: <a href='https://wandb.ai/ms-hate-life-/encoder_runs' target=\"_blank\">https://wandb.ai/ms-hate-life-/encoder_runs</a><br>Synced 5 W&B file(s), 0 media file(s), 0 artifact file(s) and 0 other file(s)"
            ]
          },
          "metadata": {}
        },
        {
          "output_type": "display_data",
          "data": {
            "text/plain": [
              "<IPython.core.display.HTML object>"
            ],
            "text/html": [
              "Find logs at: <code>./wandb/run-20250516_232528-njrqlibd/logs</code>"
            ]
          },
          "metadata": {}
        },
        {
          "output_type": "display_data",
          "data": {
            "text/plain": [
              "<IPython.core.display.HTML object>"
            ],
            "text/html": [
              "Tracking run with wandb version 0.19.11"
            ]
          },
          "metadata": {}
        },
        {
          "output_type": "display_data",
          "data": {
            "text/plain": [
              "<IPython.core.display.HTML object>"
            ],
            "text/html": [
              "Run data is saved locally in <code>/content/wandb/run-20250516_232547-ahmaj13t</code>"
            ]
          },
          "metadata": {}
        },
        {
          "output_type": "display_data",
          "data": {
            "text/plain": [
              "<IPython.core.display.HTML object>"
            ],
            "text/html": [
              "Syncing run <strong><a href='https://wandb.ai/ms-hate-life-/encoder_runs/runs/ahmaj13t' target=\"_blank\">test_rerunning</a></strong> to <a href='https://wandb.ai/ms-hate-life-/encoder_runs' target=\"_blank\">Weights & Biases</a> (<a href='https://wandb.me/developer-guide' target=\"_blank\">docs</a>)<br>"
            ]
          },
          "metadata": {}
        },
        {
          "output_type": "display_data",
          "data": {
            "text/plain": [
              "<IPython.core.display.HTML object>"
            ],
            "text/html": [
              " View project at <a href='https://wandb.ai/ms-hate-life-/encoder_runs' target=\"_blank\">https://wandb.ai/ms-hate-life-/encoder_runs</a>"
            ]
          },
          "metadata": {}
        },
        {
          "output_type": "display_data",
          "data": {
            "text/plain": [
              "<IPython.core.display.HTML object>"
            ],
            "text/html": [
              " View run at <a href='https://wandb.ai/ms-hate-life-/encoder_runs/runs/ahmaj13t' target=\"_blank\">https://wandb.ai/ms-hate-life-/encoder_runs/runs/ahmaj13t</a>"
            ]
          },
          "metadata": {}
        },
        {
          "output_type": "stream",
          "name": "stdout",
          "text": [
            "Trial 931 finished!\n"
          ]
        },
        {
          "output_type": "display_data",
          "data": {
            "text/plain": [
              "<IPython.core.display.HTML object>"
            ],
            "text/html": []
          },
          "metadata": {}
        },
        {
          "output_type": "display_data",
          "data": {
            "text/plain": [
              "<IPython.core.display.HTML object>"
            ],
            "text/html": [
              "<br>    <style><br>        .wandb-row {<br>            display: flex;<br>            flex-direction: row;<br>            flex-wrap: wrap;<br>            justify-content: flex-start;<br>            width: 100%;<br>        }<br>        .wandb-col {<br>            display: flex;<br>            flex-direction: column;<br>            flex-basis: 100%;<br>            flex: 1;<br>            padding: 10px;<br>        }<br>    </style><br><div class=\"wandb-row\"><div class=\"wandb-col\"><h3>Run history:</h3><br/><table class=\"wandb\"><tr><td>peck_edible</td><td>▁██▁███▁█▁▁▁█▁█▁▁▁██▁▁█▁█▁█▁▁▁█▁▁▁█▁▁███</td></tr><tr><td>second_order_similarity</td><td>▁</td></tr></table><br/></div><div class=\"wandb-col\"><h3>Run summary:</h3><br/><table class=\"wandb\"><tr><td>peck_edible</td><td>1</td></tr><tr><td>second_order_similarity</td><td>0.64331</td></tr></table><br/></div></div>"
            ]
          },
          "metadata": {}
        },
        {
          "output_type": "display_data",
          "data": {
            "text/plain": [
              "<IPython.core.display.HTML object>"
            ],
            "text/html": [
              " View run <strong style=\"color:#cdcd00\">test_rerunning</strong> at: <a href='https://wandb.ai/ms-hate-life-/encoder_runs/runs/ahmaj13t' target=\"_blank\">https://wandb.ai/ms-hate-life-/encoder_runs/runs/ahmaj13t</a><br> View project at: <a href='https://wandb.ai/ms-hate-life-/encoder_runs' target=\"_blank\">https://wandb.ai/ms-hate-life-/encoder_runs</a><br>Synced 5 W&B file(s), 0 media file(s), 0 artifact file(s) and 0 other file(s)"
            ]
          },
          "metadata": {}
        },
        {
          "output_type": "display_data",
          "data": {
            "text/plain": [
              "<IPython.core.display.HTML object>"
            ],
            "text/html": [
              "Find logs at: <code>./wandb/run-20250516_232547-ahmaj13t/logs</code>"
            ]
          },
          "metadata": {}
        },
        {
          "output_type": "display_data",
          "data": {
            "text/plain": [
              "<IPython.core.display.HTML object>"
            ],
            "text/html": [
              "Tracking run with wandb version 0.19.11"
            ]
          },
          "metadata": {}
        },
        {
          "output_type": "display_data",
          "data": {
            "text/plain": [
              "<IPython.core.display.HTML object>"
            ],
            "text/html": [
              "Run data is saved locally in <code>/content/wandb/run-20250516_232607-zh54c6ci</code>"
            ]
          },
          "metadata": {}
        },
        {
          "output_type": "display_data",
          "data": {
            "text/plain": [
              "<IPython.core.display.HTML object>"
            ],
            "text/html": [
              "Syncing run <strong><a href='https://wandb.ai/ms-hate-life-/encoder_runs/runs/zh54c6ci' target=\"_blank\">test_rerunning</a></strong> to <a href='https://wandb.ai/ms-hate-life-/encoder_runs' target=\"_blank\">Weights & Biases</a> (<a href='https://wandb.me/developer-guide' target=\"_blank\">docs</a>)<br>"
            ]
          },
          "metadata": {}
        },
        {
          "output_type": "display_data",
          "data": {
            "text/plain": [
              "<IPython.core.display.HTML object>"
            ],
            "text/html": [
              " View project at <a href='https://wandb.ai/ms-hate-life-/encoder_runs' target=\"_blank\">https://wandb.ai/ms-hate-life-/encoder_runs</a>"
            ]
          },
          "metadata": {}
        },
        {
          "output_type": "display_data",
          "data": {
            "text/plain": [
              "<IPython.core.display.HTML object>"
            ],
            "text/html": [
              " View run at <a href='https://wandb.ai/ms-hate-life-/encoder_runs/runs/zh54c6ci' target=\"_blank\">https://wandb.ai/ms-hate-life-/encoder_runs/runs/zh54c6ci</a>"
            ]
          },
          "metadata": {}
        },
        {
          "output_type": "stream",
          "name": "stdout",
          "text": [
            "Trial 2059 finished!\n"
          ]
        },
        {
          "output_type": "display_data",
          "data": {
            "text/plain": [
              "<IPython.core.display.HTML object>"
            ],
            "text/html": []
          },
          "metadata": {}
        },
        {
          "output_type": "display_data",
          "data": {
            "text/plain": [
              "<IPython.core.display.HTML object>"
            ],
            "text/html": [
              "<br>    <style><br>        .wandb-row {<br>            display: flex;<br>            flex-direction: row;<br>            flex-wrap: wrap;<br>            justify-content: flex-start;<br>            width: 100%;<br>        }<br>        .wandb-col {<br>            display: flex;<br>            flex-direction: column;<br>            flex-basis: 100%;<br>            flex: 1;<br>            padding: 10px;<br>        }<br>    </style><br><div class=\"wandb-row\"><div class=\"wandb-col\"><h3>Run history:</h3><br/><table class=\"wandb\"><tr><td>peck_edible</td><td>▁▁▁▁▁▁█▁▁▁█▁█▁▁██████▁███▁██▁██▁▁▁▁█▁███</td></tr><tr><td>second_order_similarity</td><td>▁</td></tr></table><br/></div><div class=\"wandb-col\"><h3>Run summary:</h3><br/><table class=\"wandb\"><tr><td>peck_edible</td><td>1</td></tr><tr><td>second_order_similarity</td><td>0.6513</td></tr></table><br/></div></div>"
            ]
          },
          "metadata": {}
        },
        {
          "output_type": "display_data",
          "data": {
            "text/plain": [
              "<IPython.core.display.HTML object>"
            ],
            "text/html": [
              " View run <strong style=\"color:#cdcd00\">test_rerunning</strong> at: <a href='https://wandb.ai/ms-hate-life-/encoder_runs/runs/zh54c6ci' target=\"_blank\">https://wandb.ai/ms-hate-life-/encoder_runs/runs/zh54c6ci</a><br> View project at: <a href='https://wandb.ai/ms-hate-life-/encoder_runs' target=\"_blank\">https://wandb.ai/ms-hate-life-/encoder_runs</a><br>Synced 5 W&B file(s), 0 media file(s), 0 artifact file(s) and 0 other file(s)"
            ]
          },
          "metadata": {}
        },
        {
          "output_type": "display_data",
          "data": {
            "text/plain": [
              "<IPython.core.display.HTML object>"
            ],
            "text/html": [
              "Find logs at: <code>./wandb/run-20250516_232607-zh54c6ci/logs</code>"
            ]
          },
          "metadata": {}
        },
        {
          "output_type": "display_data",
          "data": {
            "text/plain": [
              "<IPython.core.display.HTML object>"
            ],
            "text/html": [
              "Tracking run with wandb version 0.19.11"
            ]
          },
          "metadata": {}
        },
        {
          "output_type": "display_data",
          "data": {
            "text/plain": [
              "<IPython.core.display.HTML object>"
            ],
            "text/html": [
              "Run data is saved locally in <code>/content/wandb/run-20250516_232627-a2554551</code>"
            ]
          },
          "metadata": {}
        },
        {
          "output_type": "display_data",
          "data": {
            "text/plain": [
              "<IPython.core.display.HTML object>"
            ],
            "text/html": [
              "Syncing run <strong><a href='https://wandb.ai/ms-hate-life-/encoder_runs/runs/a2554551' target=\"_blank\">test_rerunning</a></strong> to <a href='https://wandb.ai/ms-hate-life-/encoder_runs' target=\"_blank\">Weights & Biases</a> (<a href='https://wandb.me/developer-guide' target=\"_blank\">docs</a>)<br>"
            ]
          },
          "metadata": {}
        },
        {
          "output_type": "display_data",
          "data": {
            "text/plain": [
              "<IPython.core.display.HTML object>"
            ],
            "text/html": [
              " View project at <a href='https://wandb.ai/ms-hate-life-/encoder_runs' target=\"_blank\">https://wandb.ai/ms-hate-life-/encoder_runs</a>"
            ]
          },
          "metadata": {}
        },
        {
          "output_type": "display_data",
          "data": {
            "text/plain": [
              "<IPython.core.display.HTML object>"
            ],
            "text/html": [
              " View run at <a href='https://wandb.ai/ms-hate-life-/encoder_runs/runs/a2554551' target=\"_blank\">https://wandb.ai/ms-hate-life-/encoder_runs/runs/a2554551</a>"
            ]
          },
          "metadata": {}
        },
        {
          "output_type": "stream",
          "name": "stdout",
          "text": [
            "Trial 9784 finished!\n"
          ]
        },
        {
          "output_type": "display_data",
          "data": {
            "text/plain": [
              "<IPython.core.display.HTML object>"
            ],
            "text/html": []
          },
          "metadata": {}
        },
        {
          "output_type": "display_data",
          "data": {
            "text/plain": [
              "<IPython.core.display.HTML object>"
            ],
            "text/html": [
              "<br>    <style><br>        .wandb-row {<br>            display: flex;<br>            flex-direction: row;<br>            flex-wrap: wrap;<br>            justify-content: flex-start;<br>            width: 100%;<br>        }<br>        .wandb-col {<br>            display: flex;<br>            flex-direction: column;<br>            flex-basis: 100%;<br>            flex: 1;<br>            padding: 10px;<br>        }<br>    </style><br><div class=\"wandb-row\"><div class=\"wandb-col\"><h3>Run history:</h3><br/><table class=\"wandb\"><tr><td>peck_edible</td><td>▁▁▁███▁▁▁▁████▁██▁█████▁▁█▁▁▁█▁▁███████▁</td></tr><tr><td>second_order_similarity</td><td>▁</td></tr></table><br/></div><div class=\"wandb-col\"><h3>Run summary:</h3><br/><table class=\"wandb\"><tr><td>peck_edible</td><td>0</td></tr><tr><td>second_order_similarity</td><td>0.65218</td></tr></table><br/></div></div>"
            ]
          },
          "metadata": {}
        },
        {
          "output_type": "display_data",
          "data": {
            "text/plain": [
              "<IPython.core.display.HTML object>"
            ],
            "text/html": [
              " View run <strong style=\"color:#cdcd00\">test_rerunning</strong> at: <a href='https://wandb.ai/ms-hate-life-/encoder_runs/runs/a2554551' target=\"_blank\">https://wandb.ai/ms-hate-life-/encoder_runs/runs/a2554551</a><br> View project at: <a href='https://wandb.ai/ms-hate-life-/encoder_runs' target=\"_blank\">https://wandb.ai/ms-hate-life-/encoder_runs</a><br>Synced 5 W&B file(s), 0 media file(s), 0 artifact file(s) and 0 other file(s)"
            ]
          },
          "metadata": {}
        },
        {
          "output_type": "display_data",
          "data": {
            "text/plain": [
              "<IPython.core.display.HTML object>"
            ],
            "text/html": [
              "Find logs at: <code>./wandb/run-20250516_232627-a2554551/logs</code>"
            ]
          },
          "metadata": {}
        },
        {
          "output_type": "display_data",
          "data": {
            "text/plain": [
              "<IPython.core.display.HTML object>"
            ],
            "text/html": [
              "Tracking run with wandb version 0.19.11"
            ]
          },
          "metadata": {}
        },
        {
          "output_type": "display_data",
          "data": {
            "text/plain": [
              "<IPython.core.display.HTML object>"
            ],
            "text/html": [
              "Run data is saved locally in <code>/content/wandb/run-20250516_232646-6uzop0js</code>"
            ]
          },
          "metadata": {}
        },
        {
          "output_type": "display_data",
          "data": {
            "text/plain": [
              "<IPython.core.display.HTML object>"
            ],
            "text/html": [
              "Syncing run <strong><a href='https://wandb.ai/ms-hate-life-/encoder_runs/runs/6uzop0js' target=\"_blank\">test_rerunning</a></strong> to <a href='https://wandb.ai/ms-hate-life-/encoder_runs' target=\"_blank\">Weights & Biases</a> (<a href='https://wandb.me/developer-guide' target=\"_blank\">docs</a>)<br>"
            ]
          },
          "metadata": {}
        },
        {
          "output_type": "display_data",
          "data": {
            "text/plain": [
              "<IPython.core.display.HTML object>"
            ],
            "text/html": [
              " View project at <a href='https://wandb.ai/ms-hate-life-/encoder_runs' target=\"_blank\">https://wandb.ai/ms-hate-life-/encoder_runs</a>"
            ]
          },
          "metadata": {}
        },
        {
          "output_type": "display_data",
          "data": {
            "text/plain": [
              "<IPython.core.display.HTML object>"
            ],
            "text/html": [
              " View run at <a href='https://wandb.ai/ms-hate-life-/encoder_runs/runs/6uzop0js' target=\"_blank\">https://wandb.ai/ms-hate-life-/encoder_runs/runs/6uzop0js</a>"
            ]
          },
          "metadata": {}
        },
        {
          "output_type": "stream",
          "name": "stdout",
          "text": [
            "Trial 242 finished!\n"
          ]
        },
        {
          "output_type": "display_data",
          "data": {
            "text/plain": [
              "<IPython.core.display.HTML object>"
            ],
            "text/html": []
          },
          "metadata": {}
        },
        {
          "output_type": "display_data",
          "data": {
            "text/plain": [
              "<IPython.core.display.HTML object>"
            ],
            "text/html": [
              "<br>    <style><br>        .wandb-row {<br>            display: flex;<br>            flex-direction: row;<br>            flex-wrap: wrap;<br>            justify-content: flex-start;<br>            width: 100%;<br>        }<br>        .wandb-col {<br>            display: flex;<br>            flex-direction: column;<br>            flex-basis: 100%;<br>            flex: 1;<br>            padding: 10px;<br>        }<br>    </style><br><div class=\"wandb-row\"><div class=\"wandb-col\"><h3>Run history:</h3><br/><table class=\"wandb\"><tr><td>peck_edible</td><td>███▁█▁█▁█▁▁▁█▁▁██▁▁▁▁▁▁▁▁▁▁▁██▁▁█▁▁████▁</td></tr><tr><td>second_order_similarity</td><td>▁</td></tr></table><br/></div><div class=\"wandb-col\"><h3>Run summary:</h3><br/><table class=\"wandb\"><tr><td>peck_edible</td><td>0</td></tr><tr><td>second_order_similarity</td><td>0.65377</td></tr></table><br/></div></div>"
            ]
          },
          "metadata": {}
        },
        {
          "output_type": "display_data",
          "data": {
            "text/plain": [
              "<IPython.core.display.HTML object>"
            ],
            "text/html": [
              " View run <strong style=\"color:#cdcd00\">test_rerunning</strong> at: <a href='https://wandb.ai/ms-hate-life-/encoder_runs/runs/6uzop0js' target=\"_blank\">https://wandb.ai/ms-hate-life-/encoder_runs/runs/6uzop0js</a><br> View project at: <a href='https://wandb.ai/ms-hate-life-/encoder_runs' target=\"_blank\">https://wandb.ai/ms-hate-life-/encoder_runs</a><br>Synced 5 W&B file(s), 0 media file(s), 0 artifact file(s) and 0 other file(s)"
            ]
          },
          "metadata": {}
        },
        {
          "output_type": "display_data",
          "data": {
            "text/plain": [
              "<IPython.core.display.HTML object>"
            ],
            "text/html": [
              "Find logs at: <code>./wandb/run-20250516_232646-6uzop0js/logs</code>"
            ]
          },
          "metadata": {}
        },
        {
          "output_type": "display_data",
          "data": {
            "text/plain": [
              "<IPython.core.display.HTML object>"
            ],
            "text/html": [
              "Tracking run with wandb version 0.19.11"
            ]
          },
          "metadata": {}
        },
        {
          "output_type": "display_data",
          "data": {
            "text/plain": [
              "<IPython.core.display.HTML object>"
            ],
            "text/html": [
              "Run data is saved locally in <code>/content/wandb/run-20250516_232706-ekv2ga11</code>"
            ]
          },
          "metadata": {}
        },
        {
          "output_type": "display_data",
          "data": {
            "text/plain": [
              "<IPython.core.display.HTML object>"
            ],
            "text/html": [
              "Syncing run <strong><a href='https://wandb.ai/ms-hate-life-/encoder_runs/runs/ekv2ga11' target=\"_blank\">test_rerunning</a></strong> to <a href='https://wandb.ai/ms-hate-life-/encoder_runs' target=\"_blank\">Weights & Biases</a> (<a href='https://wandb.me/developer-guide' target=\"_blank\">docs</a>)<br>"
            ]
          },
          "metadata": {}
        },
        {
          "output_type": "display_data",
          "data": {
            "text/plain": [
              "<IPython.core.display.HTML object>"
            ],
            "text/html": [
              " View project at <a href='https://wandb.ai/ms-hate-life-/encoder_runs' target=\"_blank\">https://wandb.ai/ms-hate-life-/encoder_runs</a>"
            ]
          },
          "metadata": {}
        },
        {
          "output_type": "display_data",
          "data": {
            "text/plain": [
              "<IPython.core.display.HTML object>"
            ],
            "text/html": [
              " View run at <a href='https://wandb.ai/ms-hate-life-/encoder_runs/runs/ekv2ga11' target=\"_blank\">https://wandb.ai/ms-hate-life-/encoder_runs/runs/ekv2ga11</a>"
            ]
          },
          "metadata": {}
        },
        {
          "output_type": "display_data",
          "data": {
            "text/plain": [
              "<IPython.core.display.HTML object>"
            ],
            "text/html": []
          },
          "metadata": {}
        },
        {
          "output_type": "display_data",
          "data": {
            "text/plain": [
              "<IPython.core.display.HTML object>"
            ],
            "text/html": [
              "<br>    <style><br>        .wandb-row {<br>            display: flex;<br>            flex-direction: row;<br>            flex-wrap: wrap;<br>            justify-content: flex-start;<br>            width: 100%;<br>        }<br>        .wandb-col {<br>            display: flex;<br>            flex-direction: column;<br>            flex-basis: 100%;<br>            flex: 1;<br>            padding: 10px;<br>        }<br>    </style><br><div class=\"wandb-row\"><div class=\"wandb-col\"><h3>Run history:</h3><br/><table class=\"wandb\"><tr><td>peck_edible</td><td>▁▁███▁▁▁▁▁█▁▁██▁█▁▁█▁▁▁▁▁▁█████▁██▁▁▁▁▁▁</td></tr><tr><td>second_order_similarity</td><td>▁</td></tr></table><br/></div><div class=\"wandb-col\"><h3>Run summary:</h3><br/><table class=\"wandb\"><tr><td>peck_edible</td><td>0</td></tr><tr><td>second_order_similarity</td><td>0.65199</td></tr></table><br/></div></div>"
            ]
          },
          "metadata": {}
        },
        {
          "output_type": "display_data",
          "data": {
            "text/plain": [
              "<IPython.core.display.HTML object>"
            ],
            "text/html": [
              " View run <strong style=\"color:#cdcd00\">test_rerunning</strong> at: <a href='https://wandb.ai/ms-hate-life-/encoder_runs/runs/ekv2ga11' target=\"_blank\">https://wandb.ai/ms-hate-life-/encoder_runs/runs/ekv2ga11</a><br> View project at: <a href='https://wandb.ai/ms-hate-life-/encoder_runs' target=\"_blank\">https://wandb.ai/ms-hate-life-/encoder_runs</a><br>Synced 5 W&B file(s), 0 media file(s), 0 artifact file(s) and 0 other file(s)"
            ]
          },
          "metadata": {}
        },
        {
          "output_type": "display_data",
          "data": {
            "text/plain": [
              "<IPython.core.display.HTML object>"
            ],
            "text/html": [
              "Find logs at: <code>./wandb/run-20250516_232706-ekv2ga11/logs</code>"
            ]
          },
          "metadata": {}
        },
        {
          "output_type": "display_data",
          "data": {
            "text/plain": [
              "<IPython.core.display.HTML object>"
            ],
            "text/html": [
              "Tracking run with wandb version 0.19.11"
            ]
          },
          "metadata": {}
        },
        {
          "output_type": "display_data",
          "data": {
            "text/plain": [
              "<IPython.core.display.HTML object>"
            ],
            "text/html": [
              "Run data is saved locally in <code>/content/wandb/run-20250516_232726-szegfsgj</code>"
            ]
          },
          "metadata": {}
        },
        {
          "output_type": "display_data",
          "data": {
            "text/plain": [
              "<IPython.core.display.HTML object>"
            ],
            "text/html": [
              "Syncing run <strong><a href='https://wandb.ai/ms-hate-life-/encoder_runs/runs/szegfsgj' target=\"_blank\">test_rerunning</a></strong> to <a href='https://wandb.ai/ms-hate-life-/encoder_runs' target=\"_blank\">Weights & Biases</a> (<a href='https://wandb.me/developer-guide' target=\"_blank\">docs</a>)<br>"
            ]
          },
          "metadata": {}
        },
        {
          "output_type": "display_data",
          "data": {
            "text/plain": [
              "<IPython.core.display.HTML object>"
            ],
            "text/html": [
              " View project at <a href='https://wandb.ai/ms-hate-life-/encoder_runs' target=\"_blank\">https://wandb.ai/ms-hate-life-/encoder_runs</a>"
            ]
          },
          "metadata": {}
        },
        {
          "output_type": "display_data",
          "data": {
            "text/plain": [
              "<IPython.core.display.HTML object>"
            ],
            "text/html": [
              " View run at <a href='https://wandb.ai/ms-hate-life-/encoder_runs/runs/szegfsgj' target=\"_blank\">https://wandb.ai/ms-hate-life-/encoder_runs/runs/szegfsgj</a>"
            ]
          },
          "metadata": {}
        },
        {
          "output_type": "stream",
          "name": "stdout",
          "text": [
            "Trial 3884 finished!\n"
          ]
        },
        {
          "output_type": "display_data",
          "data": {
            "text/plain": [
              "<IPython.core.display.HTML object>"
            ],
            "text/html": []
          },
          "metadata": {}
        },
        {
          "output_type": "display_data",
          "data": {
            "text/plain": [
              "<IPython.core.display.HTML object>"
            ],
            "text/html": [
              "<br>    <style><br>        .wandb-row {<br>            display: flex;<br>            flex-direction: row;<br>            flex-wrap: wrap;<br>            justify-content: flex-start;<br>            width: 100%;<br>        }<br>        .wandb-col {<br>            display: flex;<br>            flex-direction: column;<br>            flex-basis: 100%;<br>            flex: 1;<br>            padding: 10px;<br>        }<br>    </style><br><div class=\"wandb-row\"><div class=\"wandb-col\"><h3>Run history:</h3><br/><table class=\"wandb\"><tr><td>peck_edible</td><td>▁▁▁▁██▁████▁▁▁█▁████▁▁█▁██▁▁▁▁█████▁████</td></tr><tr><td>second_order_similarity</td><td>▁</td></tr></table><br/></div><div class=\"wandb-col\"><h3>Run summary:</h3><br/><table class=\"wandb\"><tr><td>peck_edible</td><td>0</td></tr><tr><td>second_order_similarity</td><td>0.65226</td></tr></table><br/></div></div>"
            ]
          },
          "metadata": {}
        },
        {
          "output_type": "display_data",
          "data": {
            "text/plain": [
              "<IPython.core.display.HTML object>"
            ],
            "text/html": [
              " View run <strong style=\"color:#cdcd00\">test_rerunning</strong> at: <a href='https://wandb.ai/ms-hate-life-/encoder_runs/runs/szegfsgj' target=\"_blank\">https://wandb.ai/ms-hate-life-/encoder_runs/runs/szegfsgj</a><br> View project at: <a href='https://wandb.ai/ms-hate-life-/encoder_runs' target=\"_blank\">https://wandb.ai/ms-hate-life-/encoder_runs</a><br>Synced 5 W&B file(s), 0 media file(s), 0 artifact file(s) and 0 other file(s)"
            ]
          },
          "metadata": {}
        },
        {
          "output_type": "display_data",
          "data": {
            "text/plain": [
              "<IPython.core.display.HTML object>"
            ],
            "text/html": [
              "Find logs at: <code>./wandb/run-20250516_232726-szegfsgj/logs</code>"
            ]
          },
          "metadata": {}
        },
        {
          "output_type": "display_data",
          "data": {
            "text/plain": [
              "<IPython.core.display.HTML object>"
            ],
            "text/html": [
              "Tracking run with wandb version 0.19.11"
            ]
          },
          "metadata": {}
        },
        {
          "output_type": "display_data",
          "data": {
            "text/plain": [
              "<IPython.core.display.HTML object>"
            ],
            "text/html": [
              "Run data is saved locally in <code>/content/wandb/run-20250516_232746-knrkp6jp</code>"
            ]
          },
          "metadata": {}
        },
        {
          "output_type": "display_data",
          "data": {
            "text/plain": [
              "<IPython.core.display.HTML object>"
            ],
            "text/html": [
              "Syncing run <strong><a href='https://wandb.ai/ms-hate-life-/encoder_runs/runs/knrkp6jp' target=\"_blank\">test_rerunning</a></strong> to <a href='https://wandb.ai/ms-hate-life-/encoder_runs' target=\"_blank\">Weights & Biases</a> (<a href='https://wandb.me/developer-guide' target=\"_blank\">docs</a>)<br>"
            ]
          },
          "metadata": {}
        },
        {
          "output_type": "display_data",
          "data": {
            "text/plain": [
              "<IPython.core.display.HTML object>"
            ],
            "text/html": [
              " View project at <a href='https://wandb.ai/ms-hate-life-/encoder_runs' target=\"_blank\">https://wandb.ai/ms-hate-life-/encoder_runs</a>"
            ]
          },
          "metadata": {}
        },
        {
          "output_type": "display_data",
          "data": {
            "text/plain": [
              "<IPython.core.display.HTML object>"
            ],
            "text/html": [
              " View run at <a href='https://wandb.ai/ms-hate-life-/encoder_runs/runs/knrkp6jp' target=\"_blank\">https://wandb.ai/ms-hate-life-/encoder_runs/runs/knrkp6jp</a>"
            ]
          },
          "metadata": {}
        },
        {
          "output_type": "stream",
          "name": "stdout",
          "text": [
            "Trial 242 finished!\n"
          ]
        },
        {
          "output_type": "display_data",
          "data": {
            "text/plain": [
              "<IPython.core.display.HTML object>"
            ],
            "text/html": []
          },
          "metadata": {}
        },
        {
          "output_type": "display_data",
          "data": {
            "text/plain": [
              "<IPython.core.display.HTML object>"
            ],
            "text/html": [
              "<br>    <style><br>        .wandb-row {<br>            display: flex;<br>            flex-direction: row;<br>            flex-wrap: wrap;<br>            justify-content: flex-start;<br>            width: 100%;<br>        }<br>        .wandb-col {<br>            display: flex;<br>            flex-direction: column;<br>            flex-basis: 100%;<br>            flex: 1;<br>            padding: 10px;<br>        }<br>    </style><br><div class=\"wandb-row\"><div class=\"wandb-col\"><h3>Run history:</h3><br/><table class=\"wandb\"><tr><td>peck_edible</td><td>▁███▁▁▁▁█▁▁███▁▁█▁▁████▁█▁█▁▁▁███▁▁▁████</td></tr><tr><td>second_order_similarity</td><td>▁</td></tr></table><br/></div><div class=\"wandb-col\"><h3>Run summary:</h3><br/><table class=\"wandb\"><tr><td>peck_edible</td><td>0</td></tr><tr><td>second_order_similarity</td><td>0.6542</td></tr></table><br/></div></div>"
            ]
          },
          "metadata": {}
        },
        {
          "output_type": "display_data",
          "data": {
            "text/plain": [
              "<IPython.core.display.HTML object>"
            ],
            "text/html": [
              " View run <strong style=\"color:#cdcd00\">test_rerunning</strong> at: <a href='https://wandb.ai/ms-hate-life-/encoder_runs/runs/knrkp6jp' target=\"_blank\">https://wandb.ai/ms-hate-life-/encoder_runs/runs/knrkp6jp</a><br> View project at: <a href='https://wandb.ai/ms-hate-life-/encoder_runs' target=\"_blank\">https://wandb.ai/ms-hate-life-/encoder_runs</a><br>Synced 5 W&B file(s), 0 media file(s), 0 artifact file(s) and 0 other file(s)"
            ]
          },
          "metadata": {}
        },
        {
          "output_type": "display_data",
          "data": {
            "text/plain": [
              "<IPython.core.display.HTML object>"
            ],
            "text/html": [
              "Find logs at: <code>./wandb/run-20250516_232746-knrkp6jp/logs</code>"
            ]
          },
          "metadata": {}
        },
        {
          "output_type": "display_data",
          "data": {
            "text/plain": [
              "<IPython.core.display.HTML object>"
            ],
            "text/html": [
              "Tracking run with wandb version 0.19.11"
            ]
          },
          "metadata": {}
        },
        {
          "output_type": "display_data",
          "data": {
            "text/plain": [
              "<IPython.core.display.HTML object>"
            ],
            "text/html": [
              "Run data is saved locally in <code>/content/wandb/run-20250516_232805-i4adaf0v</code>"
            ]
          },
          "metadata": {}
        },
        {
          "output_type": "display_data",
          "data": {
            "text/plain": [
              "<IPython.core.display.HTML object>"
            ],
            "text/html": [
              "Syncing run <strong><a href='https://wandb.ai/ms-hate-life-/encoder_runs/runs/i4adaf0v' target=\"_blank\">test_rerunning</a></strong> to <a href='https://wandb.ai/ms-hate-life-/encoder_runs' target=\"_blank\">Weights & Biases</a> (<a href='https://wandb.me/developer-guide' target=\"_blank\">docs</a>)<br>"
            ]
          },
          "metadata": {}
        },
        {
          "output_type": "display_data",
          "data": {
            "text/plain": [
              "<IPython.core.display.HTML object>"
            ],
            "text/html": [
              " View project at <a href='https://wandb.ai/ms-hate-life-/encoder_runs' target=\"_blank\">https://wandb.ai/ms-hate-life-/encoder_runs</a>"
            ]
          },
          "metadata": {}
        },
        {
          "output_type": "display_data",
          "data": {
            "text/plain": [
              "<IPython.core.display.HTML object>"
            ],
            "text/html": [
              " View run at <a href='https://wandb.ai/ms-hate-life-/encoder_runs/runs/i4adaf0v' target=\"_blank\">https://wandb.ai/ms-hate-life-/encoder_runs/runs/i4adaf0v</a>"
            ]
          },
          "metadata": {}
        },
        {
          "output_type": "stream",
          "name": "stdout",
          "text": [
            "Trial 1326 finished!\n"
          ]
        },
        {
          "output_type": "display_data",
          "data": {
            "text/plain": [
              "<IPython.core.display.HTML object>"
            ],
            "text/html": []
          },
          "metadata": {}
        },
        {
          "output_type": "display_data",
          "data": {
            "text/plain": [
              "<IPython.core.display.HTML object>"
            ],
            "text/html": [
              "<br>    <style><br>        .wandb-row {<br>            display: flex;<br>            flex-direction: row;<br>            flex-wrap: wrap;<br>            justify-content: flex-start;<br>            width: 100%;<br>        }<br>        .wandb-col {<br>            display: flex;<br>            flex-direction: column;<br>            flex-basis: 100%;<br>            flex: 1;<br>            padding: 10px;<br>        }<br>    </style><br><div class=\"wandb-row\"><div class=\"wandb-col\"><h3>Run history:</h3><br/><table class=\"wandb\"><tr><td>peck_edible</td><td>█▁█▁█▁▁█▁█▁█▁███▁▁▁███▁█▁▁███▁█▁▁▁▁▁██▁▁</td></tr><tr><td>second_order_similarity</td><td>▁</td></tr></table><br/></div><div class=\"wandb-col\"><h3>Run summary:</h3><br/><table class=\"wandb\"><tr><td>peck_edible</td><td>1</td></tr><tr><td>second_order_similarity</td><td>0.65822</td></tr></table><br/></div></div>"
            ]
          },
          "metadata": {}
        },
        {
          "output_type": "display_data",
          "data": {
            "text/plain": [
              "<IPython.core.display.HTML object>"
            ],
            "text/html": [
              " View run <strong style=\"color:#cdcd00\">test_rerunning</strong> at: <a href='https://wandb.ai/ms-hate-life-/encoder_runs/runs/i4adaf0v' target=\"_blank\">https://wandb.ai/ms-hate-life-/encoder_runs/runs/i4adaf0v</a><br> View project at: <a href='https://wandb.ai/ms-hate-life-/encoder_runs' target=\"_blank\">https://wandb.ai/ms-hate-life-/encoder_runs</a><br>Synced 5 W&B file(s), 0 media file(s), 0 artifact file(s) and 0 other file(s)"
            ]
          },
          "metadata": {}
        },
        {
          "output_type": "display_data",
          "data": {
            "text/plain": [
              "<IPython.core.display.HTML object>"
            ],
            "text/html": [
              "Find logs at: <code>./wandb/run-20250516_232805-i4adaf0v/logs</code>"
            ]
          },
          "metadata": {}
        },
        {
          "output_type": "display_data",
          "data": {
            "text/plain": [
              "<IPython.core.display.HTML object>"
            ],
            "text/html": [
              "Tracking run with wandb version 0.19.11"
            ]
          },
          "metadata": {}
        },
        {
          "output_type": "display_data",
          "data": {
            "text/plain": [
              "<IPython.core.display.HTML object>"
            ],
            "text/html": [
              "Run data is saved locally in <code>/content/wandb/run-20250516_232824-oscch239</code>"
            ]
          },
          "metadata": {}
        },
        {
          "output_type": "display_data",
          "data": {
            "text/plain": [
              "<IPython.core.display.HTML object>"
            ],
            "text/html": [
              "Syncing run <strong><a href='https://wandb.ai/ms-hate-life-/encoder_runs/runs/oscch239' target=\"_blank\">test_rerunning</a></strong> to <a href='https://wandb.ai/ms-hate-life-/encoder_runs' target=\"_blank\">Weights & Biases</a> (<a href='https://wandb.me/developer-guide' target=\"_blank\">docs</a>)<br>"
            ]
          },
          "metadata": {}
        },
        {
          "output_type": "display_data",
          "data": {
            "text/plain": [
              "<IPython.core.display.HTML object>"
            ],
            "text/html": [
              " View project at <a href='https://wandb.ai/ms-hate-life-/encoder_runs' target=\"_blank\">https://wandb.ai/ms-hate-life-/encoder_runs</a>"
            ]
          },
          "metadata": {}
        },
        {
          "output_type": "display_data",
          "data": {
            "text/plain": [
              "<IPython.core.display.HTML object>"
            ],
            "text/html": [
              " View run at <a href='https://wandb.ai/ms-hate-life-/encoder_runs/runs/oscch239' target=\"_blank\">https://wandb.ai/ms-hate-life-/encoder_runs/runs/oscch239</a>"
            ]
          },
          "metadata": {}
        },
        {
          "output_type": "stream",
          "name": "stdout",
          "text": [
            "Trial 2266 finished!\n"
          ]
        },
        {
          "output_type": "display_data",
          "data": {
            "text/plain": [
              "<IPython.core.display.HTML object>"
            ],
            "text/html": []
          },
          "metadata": {}
        },
        {
          "output_type": "display_data",
          "data": {
            "text/plain": [
              "<IPython.core.display.HTML object>"
            ],
            "text/html": [
              "<br>    <style><br>        .wandb-row {<br>            display: flex;<br>            flex-direction: row;<br>            flex-wrap: wrap;<br>            justify-content: flex-start;<br>            width: 100%;<br>        }<br>        .wandb-col {<br>            display: flex;<br>            flex-direction: column;<br>            flex-basis: 100%;<br>            flex: 1;<br>            padding: 10px;<br>        }<br>    </style><br><div class=\"wandb-row\"><div class=\"wandb-col\"><h3>Run history:</h3><br/><table class=\"wandb\"><tr><td>peck_edible</td><td>█▁▁███▁██▁█▁█▁████▁█▁▁▁██▁██▁▁▁█████▁▁██</td></tr><tr><td>second_order_similarity</td><td>▁</td></tr></table><br/></div><div class=\"wandb-col\"><h3>Run summary:</h3><br/><table class=\"wandb\"><tr><td>peck_edible</td><td>1</td></tr><tr><td>second_order_similarity</td><td>0.64802</td></tr></table><br/></div></div>"
            ]
          },
          "metadata": {}
        },
        {
          "output_type": "display_data",
          "data": {
            "text/plain": [
              "<IPython.core.display.HTML object>"
            ],
            "text/html": [
              " View run <strong style=\"color:#cdcd00\">test_rerunning</strong> at: <a href='https://wandb.ai/ms-hate-life-/encoder_runs/runs/oscch239' target=\"_blank\">https://wandb.ai/ms-hate-life-/encoder_runs/runs/oscch239</a><br> View project at: <a href='https://wandb.ai/ms-hate-life-/encoder_runs' target=\"_blank\">https://wandb.ai/ms-hate-life-/encoder_runs</a><br>Synced 5 W&B file(s), 0 media file(s), 0 artifact file(s) and 0 other file(s)"
            ]
          },
          "metadata": {}
        },
        {
          "output_type": "display_data",
          "data": {
            "text/plain": [
              "<IPython.core.display.HTML object>"
            ],
            "text/html": [
              "Find logs at: <code>./wandb/run-20250516_232824-oscch239/logs</code>"
            ]
          },
          "metadata": {}
        },
        {
          "output_type": "display_data",
          "data": {
            "text/plain": [
              "<IPython.core.display.HTML object>"
            ],
            "text/html": [
              "Tracking run with wandb version 0.19.11"
            ]
          },
          "metadata": {}
        },
        {
          "output_type": "display_data",
          "data": {
            "text/plain": [
              "<IPython.core.display.HTML object>"
            ],
            "text/html": [
              "Run data is saved locally in <code>/content/wandb/run-20250516_232843-8rvhswn7</code>"
            ]
          },
          "metadata": {}
        },
        {
          "output_type": "display_data",
          "data": {
            "text/plain": [
              "<IPython.core.display.HTML object>"
            ],
            "text/html": [
              "Syncing run <strong><a href='https://wandb.ai/ms-hate-life-/encoder_runs/runs/8rvhswn7' target=\"_blank\">test_rerunning</a></strong> to <a href='https://wandb.ai/ms-hate-life-/encoder_runs' target=\"_blank\">Weights & Biases</a> (<a href='https://wandb.me/developer-guide' target=\"_blank\">docs</a>)<br>"
            ]
          },
          "metadata": {}
        },
        {
          "output_type": "display_data",
          "data": {
            "text/plain": [
              "<IPython.core.display.HTML object>"
            ],
            "text/html": [
              " View project at <a href='https://wandb.ai/ms-hate-life-/encoder_runs' target=\"_blank\">https://wandb.ai/ms-hate-life-/encoder_runs</a>"
            ]
          },
          "metadata": {}
        },
        {
          "output_type": "display_data",
          "data": {
            "text/plain": [
              "<IPython.core.display.HTML object>"
            ],
            "text/html": [
              " View run at <a href='https://wandb.ai/ms-hate-life-/encoder_runs/runs/8rvhswn7' target=\"_blank\">https://wandb.ai/ms-hate-life-/encoder_runs/runs/8rvhswn7</a>"
            ]
          },
          "metadata": {}
        },
        {
          "output_type": "stream",
          "name": "stdout",
          "text": [
            "Trial 6454 finished!\n"
          ]
        },
        {
          "output_type": "display_data",
          "data": {
            "text/plain": [
              "<IPython.core.display.HTML object>"
            ],
            "text/html": []
          },
          "metadata": {}
        },
        {
          "output_type": "display_data",
          "data": {
            "text/plain": [
              "<IPython.core.display.HTML object>"
            ],
            "text/html": [
              "<br>    <style><br>        .wandb-row {<br>            display: flex;<br>            flex-direction: row;<br>            flex-wrap: wrap;<br>            justify-content: flex-start;<br>            width: 100%;<br>        }<br>        .wandb-col {<br>            display: flex;<br>            flex-direction: column;<br>            flex-basis: 100%;<br>            flex: 1;<br>            padding: 10px;<br>        }<br>    </style><br><div class=\"wandb-row\"><div class=\"wandb-col\"><h3>Run history:</h3><br/><table class=\"wandb\"><tr><td>peck_edible</td><td>▁▁█▁▁█▁█████▁█▁█▁█▁█████▁█▁▁▁██▁██▁██▁█▁</td></tr><tr><td>second_order_similarity</td><td>▁</td></tr></table><br/></div><div class=\"wandb-col\"><h3>Run summary:</h3><br/><table class=\"wandb\"><tr><td>peck_edible</td><td>1</td></tr><tr><td>second_order_similarity</td><td>0.64912</td></tr></table><br/></div></div>"
            ]
          },
          "metadata": {}
        },
        {
          "output_type": "display_data",
          "data": {
            "text/plain": [
              "<IPython.core.display.HTML object>"
            ],
            "text/html": [
              " View run <strong style=\"color:#cdcd00\">test_rerunning</strong> at: <a href='https://wandb.ai/ms-hate-life-/encoder_runs/runs/8rvhswn7' target=\"_blank\">https://wandb.ai/ms-hate-life-/encoder_runs/runs/8rvhswn7</a><br> View project at: <a href='https://wandb.ai/ms-hate-life-/encoder_runs' target=\"_blank\">https://wandb.ai/ms-hate-life-/encoder_runs</a><br>Synced 5 W&B file(s), 0 media file(s), 0 artifact file(s) and 0 other file(s)"
            ]
          },
          "metadata": {}
        },
        {
          "output_type": "display_data",
          "data": {
            "text/plain": [
              "<IPython.core.display.HTML object>"
            ],
            "text/html": [
              "Find logs at: <code>./wandb/run-20250516_232843-8rvhswn7/logs</code>"
            ]
          },
          "metadata": {}
        },
        {
          "output_type": "display_data",
          "data": {
            "text/plain": [
              "<IPython.core.display.HTML object>"
            ],
            "text/html": [
              "Tracking run with wandb version 0.19.11"
            ]
          },
          "metadata": {}
        },
        {
          "output_type": "display_data",
          "data": {
            "text/plain": [
              "<IPython.core.display.HTML object>"
            ],
            "text/html": [
              "Run data is saved locally in <code>/content/wandb/run-20250516_232903-209uzusj</code>"
            ]
          },
          "metadata": {}
        },
        {
          "output_type": "display_data",
          "data": {
            "text/plain": [
              "<IPython.core.display.HTML object>"
            ],
            "text/html": [
              "Syncing run <strong><a href='https://wandb.ai/ms-hate-life-/encoder_runs/runs/209uzusj' target=\"_blank\">test_rerunning</a></strong> to <a href='https://wandb.ai/ms-hate-life-/encoder_runs' target=\"_blank\">Weights & Biases</a> (<a href='https://wandb.me/developer-guide' target=\"_blank\">docs</a>)<br>"
            ]
          },
          "metadata": {}
        },
        {
          "output_type": "display_data",
          "data": {
            "text/plain": [
              "<IPython.core.display.HTML object>"
            ],
            "text/html": [
              " View project at <a href='https://wandb.ai/ms-hate-life-/encoder_runs' target=\"_blank\">https://wandb.ai/ms-hate-life-/encoder_runs</a>"
            ]
          },
          "metadata": {}
        },
        {
          "output_type": "display_data",
          "data": {
            "text/plain": [
              "<IPython.core.display.HTML object>"
            ],
            "text/html": [
              " View run at <a href='https://wandb.ai/ms-hate-life-/encoder_runs/runs/209uzusj' target=\"_blank\">https://wandb.ai/ms-hate-life-/encoder_runs/runs/209uzusj</a>"
            ]
          },
          "metadata": {}
        },
        {
          "output_type": "stream",
          "name": "stdout",
          "text": [
            "Trial 588 finished!\n"
          ]
        },
        {
          "output_type": "display_data",
          "data": {
            "text/plain": [
              "<IPython.core.display.HTML object>"
            ],
            "text/html": []
          },
          "metadata": {}
        },
        {
          "output_type": "display_data",
          "data": {
            "text/plain": [
              "<IPython.core.display.HTML object>"
            ],
            "text/html": [
              "<br>    <style><br>        .wandb-row {<br>            display: flex;<br>            flex-direction: row;<br>            flex-wrap: wrap;<br>            justify-content: flex-start;<br>            width: 100%;<br>        }<br>        .wandb-col {<br>            display: flex;<br>            flex-direction: column;<br>            flex-basis: 100%;<br>            flex: 1;<br>            padding: 10px;<br>        }<br>    </style><br><div class=\"wandb-row\"><div class=\"wandb-col\"><h3>Run history:</h3><br/><table class=\"wandb\"><tr><td>peck_edible</td><td>▁▁█▁████▁▁▁█▁██▁█▁██▁▁▁█▁███▁█▁▁▁█▁▁█▁▁▁</td></tr><tr><td>second_order_similarity</td><td>▁</td></tr></table><br/></div><div class=\"wandb-col\"><h3>Run summary:</h3><br/><table class=\"wandb\"><tr><td>peck_edible</td><td>0</td></tr><tr><td>second_order_similarity</td><td>0.65177</td></tr></table><br/></div></div>"
            ]
          },
          "metadata": {}
        },
        {
          "output_type": "display_data",
          "data": {
            "text/plain": [
              "<IPython.core.display.HTML object>"
            ],
            "text/html": [
              " View run <strong style=\"color:#cdcd00\">test_rerunning</strong> at: <a href='https://wandb.ai/ms-hate-life-/encoder_runs/runs/209uzusj' target=\"_blank\">https://wandb.ai/ms-hate-life-/encoder_runs/runs/209uzusj</a><br> View project at: <a href='https://wandb.ai/ms-hate-life-/encoder_runs' target=\"_blank\">https://wandb.ai/ms-hate-life-/encoder_runs</a><br>Synced 5 W&B file(s), 0 media file(s), 0 artifact file(s) and 0 other file(s)"
            ]
          },
          "metadata": {}
        },
        {
          "output_type": "display_data",
          "data": {
            "text/plain": [
              "<IPython.core.display.HTML object>"
            ],
            "text/html": [
              "Find logs at: <code>./wandb/run-20250516_232903-209uzusj/logs</code>"
            ]
          },
          "metadata": {}
        },
        {
          "output_type": "display_data",
          "data": {
            "text/plain": [
              "<IPython.core.display.HTML object>"
            ],
            "text/html": [
              "Tracking run with wandb version 0.19.11"
            ]
          },
          "metadata": {}
        },
        {
          "output_type": "display_data",
          "data": {
            "text/plain": [
              "<IPython.core.display.HTML object>"
            ],
            "text/html": [
              "Run data is saved locally in <code>/content/wandb/run-20250516_232922-dtevmcqk</code>"
            ]
          },
          "metadata": {}
        },
        {
          "output_type": "display_data",
          "data": {
            "text/plain": [
              "<IPython.core.display.HTML object>"
            ],
            "text/html": [
              "Syncing run <strong><a href='https://wandb.ai/ms-hate-life-/encoder_runs/runs/dtevmcqk' target=\"_blank\">test_rerunning</a></strong> to <a href='https://wandb.ai/ms-hate-life-/encoder_runs' target=\"_blank\">Weights & Biases</a> (<a href='https://wandb.me/developer-guide' target=\"_blank\">docs</a>)<br>"
            ]
          },
          "metadata": {}
        },
        {
          "output_type": "display_data",
          "data": {
            "text/plain": [
              "<IPython.core.display.HTML object>"
            ],
            "text/html": [
              " View project at <a href='https://wandb.ai/ms-hate-life-/encoder_runs' target=\"_blank\">https://wandb.ai/ms-hate-life-/encoder_runs</a>"
            ]
          },
          "metadata": {}
        },
        {
          "output_type": "display_data",
          "data": {
            "text/plain": [
              "<IPython.core.display.HTML object>"
            ],
            "text/html": [
              " View run at <a href='https://wandb.ai/ms-hate-life-/encoder_runs/runs/dtevmcqk' target=\"_blank\">https://wandb.ai/ms-hate-life-/encoder_runs/runs/dtevmcqk</a>"
            ]
          },
          "metadata": {}
        },
        {
          "output_type": "stream",
          "name": "stdout",
          "text": [
            "Trial 5828 finished!\n"
          ]
        },
        {
          "output_type": "display_data",
          "data": {
            "text/plain": [
              "<IPython.core.display.HTML object>"
            ],
            "text/html": []
          },
          "metadata": {}
        },
        {
          "output_type": "display_data",
          "data": {
            "text/plain": [
              "<IPython.core.display.HTML object>"
            ],
            "text/html": [
              "<br>    <style><br>        .wandb-row {<br>            display: flex;<br>            flex-direction: row;<br>            flex-wrap: wrap;<br>            justify-content: flex-start;<br>            width: 100%;<br>        }<br>        .wandb-col {<br>            display: flex;<br>            flex-direction: column;<br>            flex-basis: 100%;<br>            flex: 1;<br>            padding: 10px;<br>        }<br>    </style><br><div class=\"wandb-row\"><div class=\"wandb-col\"><h3>Run history:</h3><br/><table class=\"wandb\"><tr><td>peck_edible</td><td>▁█▁██▁▁██▁██▁▁▁▁▁▁▁█▁█▁▁▁▁▁█▁▁▁▁█▁▁██▁▁▁</td></tr><tr><td>second_order_similarity</td><td>▁</td></tr></table><br/></div><div class=\"wandb-col\"><h3>Run summary:</h3><br/><table class=\"wandb\"><tr><td>peck_edible</td><td>0</td></tr><tr><td>second_order_similarity</td><td>0.65055</td></tr></table><br/></div></div>"
            ]
          },
          "metadata": {}
        },
        {
          "output_type": "display_data",
          "data": {
            "text/plain": [
              "<IPython.core.display.HTML object>"
            ],
            "text/html": [
              " View run <strong style=\"color:#cdcd00\">test_rerunning</strong> at: <a href='https://wandb.ai/ms-hate-life-/encoder_runs/runs/dtevmcqk' target=\"_blank\">https://wandb.ai/ms-hate-life-/encoder_runs/runs/dtevmcqk</a><br> View project at: <a href='https://wandb.ai/ms-hate-life-/encoder_runs' target=\"_blank\">https://wandb.ai/ms-hate-life-/encoder_runs</a><br>Synced 5 W&B file(s), 0 media file(s), 0 artifact file(s) and 0 other file(s)"
            ]
          },
          "metadata": {}
        },
        {
          "output_type": "display_data",
          "data": {
            "text/plain": [
              "<IPython.core.display.HTML object>"
            ],
            "text/html": [
              "Find logs at: <code>./wandb/run-20250516_232922-dtevmcqk/logs</code>"
            ]
          },
          "metadata": {}
        },
        {
          "output_type": "display_data",
          "data": {
            "text/plain": [
              "<IPython.core.display.HTML object>"
            ],
            "text/html": [
              "Tracking run with wandb version 0.19.11"
            ]
          },
          "metadata": {}
        },
        {
          "output_type": "display_data",
          "data": {
            "text/plain": [
              "<IPython.core.display.HTML object>"
            ],
            "text/html": [
              "Run data is saved locally in <code>/content/wandb/run-20250516_232942-jbdfpc57</code>"
            ]
          },
          "metadata": {}
        },
        {
          "output_type": "display_data",
          "data": {
            "text/plain": [
              "<IPython.core.display.HTML object>"
            ],
            "text/html": [
              "Syncing run <strong><a href='https://wandb.ai/ms-hate-life-/encoder_runs/runs/jbdfpc57' target=\"_blank\">test_rerunning</a></strong> to <a href='https://wandb.ai/ms-hate-life-/encoder_runs' target=\"_blank\">Weights & Biases</a> (<a href='https://wandb.me/developer-guide' target=\"_blank\">docs</a>)<br>"
            ]
          },
          "metadata": {}
        },
        {
          "output_type": "display_data",
          "data": {
            "text/plain": [
              "<IPython.core.display.HTML object>"
            ],
            "text/html": [
              " View project at <a href='https://wandb.ai/ms-hate-life-/encoder_runs' target=\"_blank\">https://wandb.ai/ms-hate-life-/encoder_runs</a>"
            ]
          },
          "metadata": {}
        },
        {
          "output_type": "display_data",
          "data": {
            "text/plain": [
              "<IPython.core.display.HTML object>"
            ],
            "text/html": [
              " View run at <a href='https://wandb.ai/ms-hate-life-/encoder_runs/runs/jbdfpc57' target=\"_blank\">https://wandb.ai/ms-hate-life-/encoder_runs/runs/jbdfpc57</a>"
            ]
          },
          "metadata": {}
        },
        {
          "output_type": "stream",
          "name": "stdout",
          "text": [
            "Trial 2687 finished!\n"
          ]
        },
        {
          "output_type": "display_data",
          "data": {
            "text/plain": [
              "<IPython.core.display.HTML object>"
            ],
            "text/html": []
          },
          "metadata": {}
        },
        {
          "output_type": "display_data",
          "data": {
            "text/plain": [
              "<IPython.core.display.HTML object>"
            ],
            "text/html": [
              "<br>    <style><br>        .wandb-row {<br>            display: flex;<br>            flex-direction: row;<br>            flex-wrap: wrap;<br>            justify-content: flex-start;<br>            width: 100%;<br>        }<br>        .wandb-col {<br>            display: flex;<br>            flex-direction: column;<br>            flex-basis: 100%;<br>            flex: 1;<br>            padding: 10px;<br>        }<br>    </style><br><div class=\"wandb-row\"><div class=\"wandb-col\"><h3>Run history:</h3><br/><table class=\"wandb\"><tr><td>peck_edible</td><td>██▁█▁▁▁█▁▁▁▁███▁▁▁▁▁▁█████▁▁███▁▁▁▁▁█▁██</td></tr><tr><td>second_order_similarity</td><td>▁</td></tr></table><br/></div><div class=\"wandb-col\"><h3>Run summary:</h3><br/><table class=\"wandb\"><tr><td>peck_edible</td><td>0</td></tr><tr><td>second_order_similarity</td><td>0.64777</td></tr></table><br/></div></div>"
            ]
          },
          "metadata": {}
        },
        {
          "output_type": "display_data",
          "data": {
            "text/plain": [
              "<IPython.core.display.HTML object>"
            ],
            "text/html": [
              " View run <strong style=\"color:#cdcd00\">test_rerunning</strong> at: <a href='https://wandb.ai/ms-hate-life-/encoder_runs/runs/jbdfpc57' target=\"_blank\">https://wandb.ai/ms-hate-life-/encoder_runs/runs/jbdfpc57</a><br> View project at: <a href='https://wandb.ai/ms-hate-life-/encoder_runs' target=\"_blank\">https://wandb.ai/ms-hate-life-/encoder_runs</a><br>Synced 5 W&B file(s), 0 media file(s), 0 artifact file(s) and 0 other file(s)"
            ]
          },
          "metadata": {}
        },
        {
          "output_type": "display_data",
          "data": {
            "text/plain": [
              "<IPython.core.display.HTML object>"
            ],
            "text/html": [
              "Find logs at: <code>./wandb/run-20250516_232942-jbdfpc57/logs</code>"
            ]
          },
          "metadata": {}
        },
        {
          "output_type": "display_data",
          "data": {
            "text/plain": [
              "<IPython.core.display.HTML object>"
            ],
            "text/html": [
              "Tracking run with wandb version 0.19.11"
            ]
          },
          "metadata": {}
        },
        {
          "output_type": "display_data",
          "data": {
            "text/plain": [
              "<IPython.core.display.HTML object>"
            ],
            "text/html": [
              "Run data is saved locally in <code>/content/wandb/run-20250516_233002-vrocrkm9</code>"
            ]
          },
          "metadata": {}
        },
        {
          "output_type": "display_data",
          "data": {
            "text/plain": [
              "<IPython.core.display.HTML object>"
            ],
            "text/html": [
              "Syncing run <strong><a href='https://wandb.ai/ms-hate-life-/encoder_runs/runs/vrocrkm9' target=\"_blank\">test_rerunning</a></strong> to <a href='https://wandb.ai/ms-hate-life-/encoder_runs' target=\"_blank\">Weights & Biases</a> (<a href='https://wandb.me/developer-guide' target=\"_blank\">docs</a>)<br>"
            ]
          },
          "metadata": {}
        },
        {
          "output_type": "display_data",
          "data": {
            "text/plain": [
              "<IPython.core.display.HTML object>"
            ],
            "text/html": [
              " View project at <a href='https://wandb.ai/ms-hate-life-/encoder_runs' target=\"_blank\">https://wandb.ai/ms-hate-life-/encoder_runs</a>"
            ]
          },
          "metadata": {}
        },
        {
          "output_type": "display_data",
          "data": {
            "text/plain": [
              "<IPython.core.display.HTML object>"
            ],
            "text/html": [
              " View run at <a href='https://wandb.ai/ms-hate-life-/encoder_runs/runs/vrocrkm9' target=\"_blank\">https://wandb.ai/ms-hate-life-/encoder_runs/runs/vrocrkm9</a>"
            ]
          },
          "metadata": {}
        },
        {
          "output_type": "stream",
          "name": "stdout",
          "text": [
            "Trial 935 finished!\n"
          ]
        },
        {
          "output_type": "display_data",
          "data": {
            "text/plain": [
              "<IPython.core.display.HTML object>"
            ],
            "text/html": []
          },
          "metadata": {}
        },
        {
          "output_type": "display_data",
          "data": {
            "text/plain": [
              "<IPython.core.display.HTML object>"
            ],
            "text/html": [
              "<br>    <style><br>        .wandb-row {<br>            display: flex;<br>            flex-direction: row;<br>            flex-wrap: wrap;<br>            justify-content: flex-start;<br>            width: 100%;<br>        }<br>        .wandb-col {<br>            display: flex;<br>            flex-direction: column;<br>            flex-basis: 100%;<br>            flex: 1;<br>            padding: 10px;<br>        }<br>    </style><br><div class=\"wandb-row\"><div class=\"wandb-col\"><h3>Run history:</h3><br/><table class=\"wandb\"><tr><td>peck_edible</td><td>▁██▁▁▁█▁▁██▁▁█▁▁███▁▁▁█▁██▁▁▁▁███▁██▁▁▁█</td></tr><tr><td>second_order_similarity</td><td>▁</td></tr></table><br/></div><div class=\"wandb-col\"><h3>Run summary:</h3><br/><table class=\"wandb\"><tr><td>peck_edible</td><td>1</td></tr><tr><td>second_order_similarity</td><td>0.64876</td></tr></table><br/></div></div>"
            ]
          },
          "metadata": {}
        },
        {
          "output_type": "display_data",
          "data": {
            "text/plain": [
              "<IPython.core.display.HTML object>"
            ],
            "text/html": [
              " View run <strong style=\"color:#cdcd00\">test_rerunning</strong> at: <a href='https://wandb.ai/ms-hate-life-/encoder_runs/runs/vrocrkm9' target=\"_blank\">https://wandb.ai/ms-hate-life-/encoder_runs/runs/vrocrkm9</a><br> View project at: <a href='https://wandb.ai/ms-hate-life-/encoder_runs' target=\"_blank\">https://wandb.ai/ms-hate-life-/encoder_runs</a><br>Synced 5 W&B file(s), 0 media file(s), 0 artifact file(s) and 0 other file(s)"
            ]
          },
          "metadata": {}
        },
        {
          "output_type": "display_data",
          "data": {
            "text/plain": [
              "<IPython.core.display.HTML object>"
            ],
            "text/html": [
              "Find logs at: <code>./wandb/run-20250516_233002-vrocrkm9/logs</code>"
            ]
          },
          "metadata": {}
        },
        {
          "output_type": "display_data",
          "data": {
            "text/plain": [
              "<IPython.core.display.HTML object>"
            ],
            "text/html": [
              "Tracking run with wandb version 0.19.11"
            ]
          },
          "metadata": {}
        },
        {
          "output_type": "display_data",
          "data": {
            "text/plain": [
              "<IPython.core.display.HTML object>"
            ],
            "text/html": [
              "Run data is saved locally in <code>/content/wandb/run-20250516_233021-k1nl7oxc</code>"
            ]
          },
          "metadata": {}
        },
        {
          "output_type": "display_data",
          "data": {
            "text/plain": [
              "<IPython.core.display.HTML object>"
            ],
            "text/html": [
              "Syncing run <strong><a href='https://wandb.ai/ms-hate-life-/encoder_runs/runs/k1nl7oxc' target=\"_blank\">test_rerunning</a></strong> to <a href='https://wandb.ai/ms-hate-life-/encoder_runs' target=\"_blank\">Weights & Biases</a> (<a href='https://wandb.me/developer-guide' target=\"_blank\">docs</a>)<br>"
            ]
          },
          "metadata": {}
        },
        {
          "output_type": "display_data",
          "data": {
            "text/plain": [
              "<IPython.core.display.HTML object>"
            ],
            "text/html": [
              " View project at <a href='https://wandb.ai/ms-hate-life-/encoder_runs' target=\"_blank\">https://wandb.ai/ms-hate-life-/encoder_runs</a>"
            ]
          },
          "metadata": {}
        },
        {
          "output_type": "display_data",
          "data": {
            "text/plain": [
              "<IPython.core.display.HTML object>"
            ],
            "text/html": [
              " View run at <a href='https://wandb.ai/ms-hate-life-/encoder_runs/runs/k1nl7oxc' target=\"_blank\">https://wandb.ai/ms-hate-life-/encoder_runs/runs/k1nl7oxc</a>"
            ]
          },
          "metadata": {}
        },
        {
          "output_type": "stream",
          "name": "stdout",
          "text": [
            "Trial 461 finished!\n"
          ]
        },
        {
          "output_type": "display_data",
          "data": {
            "text/plain": [
              "<IPython.core.display.HTML object>"
            ],
            "text/html": []
          },
          "metadata": {}
        },
        {
          "output_type": "display_data",
          "data": {
            "text/plain": [
              "<IPython.core.display.HTML object>"
            ],
            "text/html": [
              "<br>    <style><br>        .wandb-row {<br>            display: flex;<br>            flex-direction: row;<br>            flex-wrap: wrap;<br>            justify-content: flex-start;<br>            width: 100%;<br>        }<br>        .wandb-col {<br>            display: flex;<br>            flex-direction: column;<br>            flex-basis: 100%;<br>            flex: 1;<br>            padding: 10px;<br>        }<br>    </style><br><div class=\"wandb-row\"><div class=\"wandb-col\"><h3>Run history:</h3><br/><table class=\"wandb\"><tr><td>peck_edible</td><td>▁█▁▁▁▁███▁███▁▁▁▁▁██▁█▁██▁█▁▁█▁▁▁▁█▁██▁▁</td></tr><tr><td>second_order_similarity</td><td>▁</td></tr></table><br/></div><div class=\"wandb-col\"><h3>Run summary:</h3><br/><table class=\"wandb\"><tr><td>peck_edible</td><td>0</td></tr><tr><td>second_order_similarity</td><td>0.64724</td></tr></table><br/></div></div>"
            ]
          },
          "metadata": {}
        },
        {
          "output_type": "display_data",
          "data": {
            "text/plain": [
              "<IPython.core.display.HTML object>"
            ],
            "text/html": [
              " View run <strong style=\"color:#cdcd00\">test_rerunning</strong> at: <a href='https://wandb.ai/ms-hate-life-/encoder_runs/runs/k1nl7oxc' target=\"_blank\">https://wandb.ai/ms-hate-life-/encoder_runs/runs/k1nl7oxc</a><br> View project at: <a href='https://wandb.ai/ms-hate-life-/encoder_runs' target=\"_blank\">https://wandb.ai/ms-hate-life-/encoder_runs</a><br>Synced 5 W&B file(s), 0 media file(s), 0 artifact file(s) and 0 other file(s)"
            ]
          },
          "metadata": {}
        },
        {
          "output_type": "display_data",
          "data": {
            "text/plain": [
              "<IPython.core.display.HTML object>"
            ],
            "text/html": [
              "Find logs at: <code>./wandb/run-20250516_233021-k1nl7oxc/logs</code>"
            ]
          },
          "metadata": {}
        },
        {
          "output_type": "display_data",
          "data": {
            "text/plain": [
              "<IPython.core.display.HTML object>"
            ],
            "text/html": [
              "Tracking run with wandb version 0.19.11"
            ]
          },
          "metadata": {}
        },
        {
          "output_type": "display_data",
          "data": {
            "text/plain": [
              "<IPython.core.display.HTML object>"
            ],
            "text/html": [
              "Run data is saved locally in <code>/content/wandb/run-20250516_233040-pu9agmso</code>"
            ]
          },
          "metadata": {}
        },
        {
          "output_type": "display_data",
          "data": {
            "text/plain": [
              "<IPython.core.display.HTML object>"
            ],
            "text/html": [
              "Syncing run <strong><a href='https://wandb.ai/ms-hate-life-/encoder_runs/runs/pu9agmso' target=\"_blank\">test_rerunning</a></strong> to <a href='https://wandb.ai/ms-hate-life-/encoder_runs' target=\"_blank\">Weights & Biases</a> (<a href='https://wandb.me/developer-guide' target=\"_blank\">docs</a>)<br>"
            ]
          },
          "metadata": {}
        },
        {
          "output_type": "display_data",
          "data": {
            "text/plain": [
              "<IPython.core.display.HTML object>"
            ],
            "text/html": [
              " View project at <a href='https://wandb.ai/ms-hate-life-/encoder_runs' target=\"_blank\">https://wandb.ai/ms-hate-life-/encoder_runs</a>"
            ]
          },
          "metadata": {}
        },
        {
          "output_type": "display_data",
          "data": {
            "text/plain": [
              "<IPython.core.display.HTML object>"
            ],
            "text/html": [
              " View run at <a href='https://wandb.ai/ms-hate-life-/encoder_runs/runs/pu9agmso' target=\"_blank\">https://wandb.ai/ms-hate-life-/encoder_runs/runs/pu9agmso</a>"
            ]
          },
          "metadata": {}
        },
        {
          "output_type": "stream",
          "name": "stdout",
          "text": [
            "Trial 252 finished!\n"
          ]
        },
        {
          "output_type": "display_data",
          "data": {
            "text/plain": [
              "<IPython.core.display.HTML object>"
            ],
            "text/html": []
          },
          "metadata": {}
        },
        {
          "output_type": "display_data",
          "data": {
            "text/plain": [
              "<IPython.core.display.HTML object>"
            ],
            "text/html": [
              "<br>    <style><br>        .wandb-row {<br>            display: flex;<br>            flex-direction: row;<br>            flex-wrap: wrap;<br>            justify-content: flex-start;<br>            width: 100%;<br>        }<br>        .wandb-col {<br>            display: flex;<br>            flex-direction: column;<br>            flex-basis: 100%;<br>            flex: 1;<br>            padding: 10px;<br>        }<br>    </style><br><div class=\"wandb-row\"><div class=\"wandb-col\"><h3>Run history:</h3><br/><table class=\"wandb\"><tr><td>peck_edible</td><td>█████▁███▁█████▁▁█▁█▁▁█▁▁▁█▁▁█▁█▁▁▁▁▁▁▁█</td></tr><tr><td>second_order_similarity</td><td>▁</td></tr></table><br/></div><div class=\"wandb-col\"><h3>Run summary:</h3><br/><table class=\"wandb\"><tr><td>peck_edible</td><td>1</td></tr><tr><td>second_order_similarity</td><td>0.64991</td></tr></table><br/></div></div>"
            ]
          },
          "metadata": {}
        },
        {
          "output_type": "display_data",
          "data": {
            "text/plain": [
              "<IPython.core.display.HTML object>"
            ],
            "text/html": [
              " View run <strong style=\"color:#cdcd00\">test_rerunning</strong> at: <a href='https://wandb.ai/ms-hate-life-/encoder_runs/runs/pu9agmso' target=\"_blank\">https://wandb.ai/ms-hate-life-/encoder_runs/runs/pu9agmso</a><br> View project at: <a href='https://wandb.ai/ms-hate-life-/encoder_runs' target=\"_blank\">https://wandb.ai/ms-hate-life-/encoder_runs</a><br>Synced 5 W&B file(s), 0 media file(s), 0 artifact file(s) and 0 other file(s)"
            ]
          },
          "metadata": {}
        },
        {
          "output_type": "display_data",
          "data": {
            "text/plain": [
              "<IPython.core.display.HTML object>"
            ],
            "text/html": [
              "Find logs at: <code>./wandb/run-20250516_233040-pu9agmso/logs</code>"
            ]
          },
          "metadata": {}
        },
        {
          "output_type": "display_data",
          "data": {
            "text/plain": [
              "<IPython.core.display.HTML object>"
            ],
            "text/html": [
              "Tracking run with wandb version 0.19.11"
            ]
          },
          "metadata": {}
        },
        {
          "output_type": "display_data",
          "data": {
            "text/plain": [
              "<IPython.core.display.HTML object>"
            ],
            "text/html": [
              "Run data is saved locally in <code>/content/wandb/run-20250516_233100-c0ppax2s</code>"
            ]
          },
          "metadata": {}
        },
        {
          "output_type": "display_data",
          "data": {
            "text/plain": [
              "<IPython.core.display.HTML object>"
            ],
            "text/html": [
              "Syncing run <strong><a href='https://wandb.ai/ms-hate-life-/encoder_runs/runs/c0ppax2s' target=\"_blank\">test_rerunning</a></strong> to <a href='https://wandb.ai/ms-hate-life-/encoder_runs' target=\"_blank\">Weights & Biases</a> (<a href='https://wandb.me/developer-guide' target=\"_blank\">docs</a>)<br>"
            ]
          },
          "metadata": {}
        },
        {
          "output_type": "display_data",
          "data": {
            "text/plain": [
              "<IPython.core.display.HTML object>"
            ],
            "text/html": [
              " View project at <a href='https://wandb.ai/ms-hate-life-/encoder_runs' target=\"_blank\">https://wandb.ai/ms-hate-life-/encoder_runs</a>"
            ]
          },
          "metadata": {}
        },
        {
          "output_type": "display_data",
          "data": {
            "text/plain": [
              "<IPython.core.display.HTML object>"
            ],
            "text/html": [
              " View run at <a href='https://wandb.ai/ms-hate-life-/encoder_runs/runs/c0ppax2s' target=\"_blank\">https://wandb.ai/ms-hate-life-/encoder_runs/runs/c0ppax2s</a>"
            ]
          },
          "metadata": {}
        },
        {
          "output_type": "display_data",
          "data": {
            "text/plain": [
              "<IPython.core.display.HTML object>"
            ],
            "text/html": []
          },
          "metadata": {}
        },
        {
          "output_type": "display_data",
          "data": {
            "text/plain": [
              "<IPython.core.display.HTML object>"
            ],
            "text/html": [
              "<br>    <style><br>        .wandb-row {<br>            display: flex;<br>            flex-direction: row;<br>            flex-wrap: wrap;<br>            justify-content: flex-start;<br>            width: 100%;<br>        }<br>        .wandb-col {<br>            display: flex;<br>            flex-direction: column;<br>            flex-basis: 100%;<br>            flex: 1;<br>            padding: 10px;<br>        }<br>    </style><br><div class=\"wandb-row\"><div class=\"wandb-col\"><h3>Run history:</h3><br/><table class=\"wandb\"><tr><td>peck_edible</td><td>▁▁█▁▁▁█▁▁█▁▁</td></tr><tr><td>second_order_similarity</td><td>▁</td></tr></table><br/></div><div class=\"wandb-col\"><h3>Run summary:</h3><br/><table class=\"wandb\"><tr><td>peck_edible</td><td>0</td></tr><tr><td>second_order_similarity</td><td>0.64959</td></tr></table><br/></div></div>"
            ]
          },
          "metadata": {}
        },
        {
          "output_type": "display_data",
          "data": {
            "text/plain": [
              "<IPython.core.display.HTML object>"
            ],
            "text/html": [
              " View run <strong style=\"color:#cdcd00\">test_rerunning</strong> at: <a href='https://wandb.ai/ms-hate-life-/encoder_runs/runs/c0ppax2s' target=\"_blank\">https://wandb.ai/ms-hate-life-/encoder_runs/runs/c0ppax2s</a><br> View project at: <a href='https://wandb.ai/ms-hate-life-/encoder_runs' target=\"_blank\">https://wandb.ai/ms-hate-life-/encoder_runs</a><br>Synced 5 W&B file(s), 0 media file(s), 0 artifact file(s) and 0 other file(s)"
            ]
          },
          "metadata": {}
        },
        {
          "output_type": "display_data",
          "data": {
            "text/plain": [
              "<IPython.core.display.HTML object>"
            ],
            "text/html": [
              "Find logs at: <code>./wandb/run-20250516_233100-c0ppax2s/logs</code>"
            ]
          },
          "metadata": {}
        },
        {
          "output_type": "stream",
          "name": "stderr",
          "text": [
            "/usr/local/lib/python3.11/dist-packages/sklearn/manifold/_t_sne.py:1164: FutureWarning: 'n_iter' was renamed to 'max_iter' in version 1.5 and will be removed in 1.7.\n",
            "  warnings.warn(\n"
          ]
        },
        {
          "output_type": "display_data",
          "data": {
            "application/javascript": [
              "'use strict';\n",
              "(function(root) {\n",
              "  function now() {\n",
              "    return new Date();\n",
              "  }\n",
              "\n",
              "  const force = true;\n",
              "\n",
              "  if (typeof root._bokeh_onload_callbacks === \"undefined\" || force === true) {\n",
              "    root._bokeh_onload_callbacks = [];\n",
              "    root._bokeh_is_loading = undefined;\n",
              "  }\n",
              "\n",
              "const JS_MIME_TYPE = 'application/javascript';\n",
              "  const HTML_MIME_TYPE = 'text/html';\n",
              "  const EXEC_MIME_TYPE = 'application/vnd.bokehjs_exec.v0+json';\n",
              "  const CLASS_NAME = 'output_bokeh rendered_html';\n",
              "\n",
              "  /**\n",
              "   * Render data to the DOM node\n",
              "   */\n",
              "  function render(props, node) {\n",
              "    const script = document.createElement(\"script\");\n",
              "    node.appendChild(script);\n",
              "  }\n",
              "\n",
              "  /**\n",
              "   * Handle when an output is cleared or removed\n",
              "   */\n",
              "  function handleClearOutput(event, handle) {\n",
              "    function drop(id) {\n",
              "      const view = Bokeh.index.get_by_id(id)\n",
              "      if (view != null) {\n",
              "        view.model.document.clear()\n",
              "        Bokeh.index.delete(view)\n",
              "      }\n",
              "    }\n",
              "\n",
              "    const cell = handle.cell;\n",
              "\n",
              "    const id = cell.output_area._bokeh_element_id;\n",
              "    const server_id = cell.output_area._bokeh_server_id;\n",
              "\n",
              "    // Clean up Bokeh references\n",
              "    if (id != null) {\n",
              "      drop(id)\n",
              "    }\n",
              "\n",
              "    if (server_id !== undefined) {\n",
              "      // Clean up Bokeh references\n",
              "      const cmd_clean = \"from bokeh.io.state import curstate; print(curstate().uuid_to_server['\" + server_id + \"'].get_sessions()[0].document.roots[0]._id)\";\n",
              "      cell.notebook.kernel.execute(cmd_clean, {\n",
              "        iopub: {\n",
              "          output: function(msg) {\n",
              "            const id = msg.content.text.trim()\n",
              "            drop(id)\n",
              "          }\n",
              "        }\n",
              "      });\n",
              "      // Destroy server and session\n",
              "      const cmd_destroy = \"import bokeh.io.notebook as ion; ion.destroy_server('\" + server_id + \"')\";\n",
              "      cell.notebook.kernel.execute(cmd_destroy);\n",
              "    }\n",
              "  }\n",
              "\n",
              "  /**\n",
              "   * Handle when a new output is added\n",
              "   */\n",
              "  function handleAddOutput(event, handle) {\n",
              "    const output_area = handle.output_area;\n",
              "    const output = handle.output;\n",
              "\n",
              "    // limit handleAddOutput to display_data with EXEC_MIME_TYPE content only\n",
              "    if ((output.output_type != \"display_data\") || (!Object.prototype.hasOwnProperty.call(output.data, EXEC_MIME_TYPE))) {\n",
              "      return\n",
              "    }\n",
              "\n",
              "    const toinsert = output_area.element.find(\".\" + CLASS_NAME.split(' ')[0]);\n",
              "\n",
              "    if (output.metadata[EXEC_MIME_TYPE][\"id\"] !== undefined) {\n",
              "      toinsert[toinsert.length - 1].firstChild.textContent = output.data[JS_MIME_TYPE];\n",
              "      // store reference to embed id on output_area\n",
              "      output_area._bokeh_element_id = output.metadata[EXEC_MIME_TYPE][\"id\"];\n",
              "    }\n",
              "    if (output.metadata[EXEC_MIME_TYPE][\"server_id\"] !== undefined) {\n",
              "      const bk_div = document.createElement(\"div\");\n",
              "      bk_div.innerHTML = output.data[HTML_MIME_TYPE];\n",
              "      const script_attrs = bk_div.children[0].attributes;\n",
              "      for (let i = 0; i < script_attrs.length; i++) {\n",
              "        toinsert[toinsert.length - 1].firstChild.setAttribute(script_attrs[i].name, script_attrs[i].value);\n",
              "        toinsert[toinsert.length - 1].firstChild.textContent = bk_div.children[0].textContent\n",
              "      }\n",
              "      // store reference to server id on output_area\n",
              "      output_area._bokeh_server_id = output.metadata[EXEC_MIME_TYPE][\"server_id\"];\n",
              "    }\n",
              "  }\n",
              "\n",
              "  function register_renderer(events, OutputArea) {\n",
              "\n",
              "    function append_mime(data, metadata, element) {\n",
              "      // create a DOM node to render to\n",
              "      const toinsert = this.create_output_subarea(\n",
              "        metadata,\n",
              "        CLASS_NAME,\n",
              "        EXEC_MIME_TYPE\n",
              "      );\n",
              "      this.keyboard_manager.register_events(toinsert);\n",
              "      // Render to node\n",
              "      const props = {data: data, metadata: metadata[EXEC_MIME_TYPE]};\n",
              "      render(props, toinsert[toinsert.length - 1]);\n",
              "      element.append(toinsert);\n",
              "      return toinsert\n",
              "    }\n",
              "\n",
              "    /* Handle when an output is cleared or removed */\n",
              "    events.on('clear_output.CodeCell', handleClearOutput);\n",
              "    events.on('delete.Cell', handleClearOutput);\n",
              "\n",
              "    /* Handle when a new output is added */\n",
              "    events.on('output_added.OutputArea', handleAddOutput);\n",
              "\n",
              "    /**\n",
              "     * Register the mime type and append_mime function with output_area\n",
              "     */\n",
              "    OutputArea.prototype.register_mime_type(EXEC_MIME_TYPE, append_mime, {\n",
              "      /* Is output safe? */\n",
              "      safe: true,\n",
              "      /* Index of renderer in `output_area.display_order` */\n",
              "      index: 0\n",
              "    });\n",
              "  }\n",
              "\n",
              "  // register the mime type if in Jupyter Notebook environment and previously unregistered\n",
              "  if (root.Jupyter !== undefined) {\n",
              "    const events = require('base/js/events');\n",
              "    const OutputArea = require('notebook/js/outputarea').OutputArea;\n",
              "\n",
              "    if (OutputArea.prototype.mime_types().indexOf(EXEC_MIME_TYPE) == -1) {\n",
              "      register_renderer(events, OutputArea);\n",
              "    }\n",
              "  }\n",
              "  if (typeof (root._bokeh_timeout) === \"undefined\" || force === true) {\n",
              "    root._bokeh_timeout = Date.now() + 5000;\n",
              "    root._bokeh_failed_load = false;\n",
              "  }\n",
              "\n",
              "  const NB_LOAD_WARNING = {'data': {'text/html':\n",
              "     \"<div style='background-color: #fdd'>\\n\"+\n",
              "     \"<p>\\n\"+\n",
              "     \"BokehJS does not appear to have successfully loaded. If loading BokehJS from CDN, this \\n\"+\n",
              "     \"may be due to a slow or bad network connection. Possible fixes:\\n\"+\n",
              "     \"</p>\\n\"+\n",
              "     \"<ul>\\n\"+\n",
              "     \"<li>re-rerun `output_notebook()` to attempt to load from CDN again, or</li>\\n\"+\n",
              "     \"<li>use INLINE resources instead, as so:</li>\\n\"+\n",
              "     \"</ul>\\n\"+\n",
              "     \"<code>\\n\"+\n",
              "     \"from bokeh.resources import INLINE\\n\"+\n",
              "     \"output_notebook(resources=INLINE)\\n\"+\n",
              "     \"</code>\\n\"+\n",
              "     \"</div>\"}};\n",
              "\n",
              "  function display_loaded(error = null) {\n",
              "    const el = document.getElementById(null);\n",
              "    if (el != null) {\n",
              "      const html = (() => {\n",
              "        if (typeof root.Bokeh === \"undefined\") {\n",
              "          if (error == null) {\n",
              "            return \"BokehJS is loading ...\";\n",
              "          } else {\n",
              "            return \"BokehJS failed to load.\";\n",
              "          }\n",
              "        } else {\n",
              "          const prefix = `BokehJS ${root.Bokeh.version}`;\n",
              "          if (error == null) {\n",
              "            return `${prefix} successfully loaded.`;\n",
              "          } else {\n",
              "            return `${prefix} <b>encountered errors</b> while loading and may not function as expected.`;\n",
              "          }\n",
              "        }\n",
              "      })();\n",
              "      el.innerHTML = html;\n",
              "\n",
              "      if (error != null) {\n",
              "        const wrapper = document.createElement(\"div\");\n",
              "        wrapper.style.overflow = \"auto\";\n",
              "        wrapper.style.height = \"5em\";\n",
              "        wrapper.style.resize = \"vertical\";\n",
              "        const content = document.createElement(\"div\");\n",
              "        content.style.fontFamily = \"monospace\";\n",
              "        content.style.whiteSpace = \"pre-wrap\";\n",
              "        content.style.backgroundColor = \"rgb(255, 221, 221)\";\n",
              "        content.textContent = error.stack ?? error.toString();\n",
              "        wrapper.append(content);\n",
              "        el.append(wrapper);\n",
              "      }\n",
              "    } else if (Date.now() < root._bokeh_timeout) {\n",
              "      setTimeout(() => display_loaded(error), 100);\n",
              "    }\n",
              "  }\n",
              "\n",
              "  function run_callbacks() {\n",
              "    try {\n",
              "      root._bokeh_onload_callbacks.forEach(function(callback) {\n",
              "        if (callback != null)\n",
              "          callback();\n",
              "      });\n",
              "    } finally {\n",
              "      delete root._bokeh_onload_callbacks\n",
              "    }\n",
              "    console.debug(\"Bokeh: all callbacks have finished\");\n",
              "  }\n",
              "\n",
              "  function load_libs(css_urls, js_urls, callback) {\n",
              "    if (css_urls == null) css_urls = [];\n",
              "    if (js_urls == null) js_urls = [];\n",
              "\n",
              "    root._bokeh_onload_callbacks.push(callback);\n",
              "    if (root._bokeh_is_loading > 0) {\n",
              "      console.debug(\"Bokeh: BokehJS is being loaded, scheduling callback at\", now());\n",
              "      return null;\n",
              "    }\n",
              "    if (js_urls == null || js_urls.length === 0) {\n",
              "      run_callbacks();\n",
              "      return null;\n",
              "    }\n",
              "    console.debug(\"Bokeh: BokehJS not loaded, scheduling load and callback at\", now());\n",
              "    root._bokeh_is_loading = css_urls.length + js_urls.length;\n",
              "\n",
              "    function on_load() {\n",
              "      root._bokeh_is_loading--;\n",
              "      if (root._bokeh_is_loading === 0) {\n",
              "        console.debug(\"Bokeh: all BokehJS libraries/stylesheets loaded\");\n",
              "        run_callbacks()\n",
              "      }\n",
              "    }\n",
              "\n",
              "    function on_error(url) {\n",
              "      console.error(\"failed to load \" + url);\n",
              "    }\n",
              "\n",
              "    for (let i = 0; i < css_urls.length; i++) {\n",
              "      const url = css_urls[i];\n",
              "      const element = document.createElement(\"link\");\n",
              "      element.onload = on_load;\n",
              "      element.onerror = on_error.bind(null, url);\n",
              "      element.rel = \"stylesheet\";\n",
              "      element.type = \"text/css\";\n",
              "      element.href = url;\n",
              "      console.debug(\"Bokeh: injecting link tag for BokehJS stylesheet: \", url);\n",
              "      document.body.appendChild(element);\n",
              "    }\n",
              "\n",
              "    for (let i = 0; i < js_urls.length; i++) {\n",
              "      const url = js_urls[i];\n",
              "      const element = document.createElement('script');\n",
              "      element.onload = on_load;\n",
              "      element.onerror = on_error.bind(null, url);\n",
              "      element.async = false;\n",
              "      element.src = url;\n",
              "      console.debug(\"Bokeh: injecting script tag for BokehJS library: \", url);\n",
              "      document.head.appendChild(element);\n",
              "    }\n",
              "  };\n",
              "\n",
              "  function inject_raw_css(css) {\n",
              "    const element = document.createElement(\"style\");\n",
              "    element.appendChild(document.createTextNode(css));\n",
              "    document.body.appendChild(element);\n",
              "  }\n",
              "\n",
              "  const js_urls = [\"https://cdn.bokeh.org/bokeh/release/bokeh-3.7.3.min.js\", \"https://cdn.bokeh.org/bokeh/release/bokeh-gl-3.7.3.min.js\", \"https://cdn.bokeh.org/bokeh/release/bokeh-widgets-3.7.3.min.js\", \"https://cdn.bokeh.org/bokeh/release/bokeh-tables-3.7.3.min.js\", \"https://cdn.bokeh.org/bokeh/release/bokeh-mathjax-3.7.3.min.js\"];\n",
              "  const css_urls = [];\n",
              "\n",
              "  const inline_js = [    function(Bokeh) {\n",
              "      Bokeh.set_log_level(\"info\");\n",
              "    },\n",
              "function(Bokeh) {\n",
              "    }\n",
              "  ];\n",
              "\n",
              "  function run_inline_js() {\n",
              "    if (root.Bokeh !== undefined || force === true) {\n",
              "      try {\n",
              "            for (let i = 0; i < inline_js.length; i++) {\n",
              "      inline_js[i].call(root, root.Bokeh);\n",
              "    }\n",
              "\n",
              "      } catch (error) {throw error;\n",
              "      }} else if (Date.now() < root._bokeh_timeout) {\n",
              "      setTimeout(run_inline_js, 100);\n",
              "    } else if (!root._bokeh_failed_load) {\n",
              "      console.log(\"Bokeh: BokehJS failed to load within specified timeout.\");\n",
              "      root._bokeh_failed_load = true;\n",
              "    } else if (force !== true) {\n",
              "      const cell = $(document.getElementById(null)).parents('.cell').data().cell;\n",
              "      cell.output_area.append_execute_result(NB_LOAD_WARNING)\n",
              "    }\n",
              "  }\n",
              "\n",
              "  if (root._bokeh_is_loading === 0) {\n",
              "    console.debug(\"Bokeh: BokehJS loaded, going straight to plotting\");\n",
              "    run_inline_js();\n",
              "  } else {\n",
              "    load_libs(css_urls, js_urls, function() {\n",
              "      console.debug(\"Bokeh: BokehJS plotting callback run at\", now());\n",
              "      run_inline_js();\n",
              "    });\n",
              "  }\n",
              "}(window));"
            ],
            "application/vnd.bokehjs_load.v0+json": "'use strict';\n(function(root) {\n  function now() {\n    return new Date();\n  }\n\n  const force = true;\n\n  if (typeof root._bokeh_onload_callbacks === \"undefined\" || force === true) {\n    root._bokeh_onload_callbacks = [];\n    root._bokeh_is_loading = undefined;\n  }\n\n\n  if (typeof (root._bokeh_timeout) === \"undefined\" || force === true) {\n    root._bokeh_timeout = Date.now() + 5000;\n    root._bokeh_failed_load = false;\n  }\n\n  const NB_LOAD_WARNING = {'data': {'text/html':\n     \"<div style='background-color: #fdd'>\\n\"+\n     \"<p>\\n\"+\n     \"BokehJS does not appear to have successfully loaded. If loading BokehJS from CDN, this \\n\"+\n     \"may be due to a slow or bad network connection. Possible fixes:\\n\"+\n     \"</p>\\n\"+\n     \"<ul>\\n\"+\n     \"<li>re-rerun `output_notebook()` to attempt to load from CDN again, or</li>\\n\"+\n     \"<li>use INLINE resources instead, as so:</li>\\n\"+\n     \"</ul>\\n\"+\n     \"<code>\\n\"+\n     \"from bokeh.resources import INLINE\\n\"+\n     \"output_notebook(resources=INLINE)\\n\"+\n     \"</code>\\n\"+\n     \"</div>\"}};\n\n  function display_loaded(error = null) {\n    const el = document.getElementById(null);\n    if (el != null) {\n      const html = (() => {\n        if (typeof root.Bokeh === \"undefined\") {\n          if (error == null) {\n            return \"BokehJS is loading ...\";\n          } else {\n            return \"BokehJS failed to load.\";\n          }\n        } else {\n          const prefix = `BokehJS ${root.Bokeh.version}`;\n          if (error == null) {\n            return `${prefix} successfully loaded.`;\n          } else {\n            return `${prefix} <b>encountered errors</b> while loading and may not function as expected.`;\n          }\n        }\n      })();\n      el.innerHTML = html;\n\n      if (error != null) {\n        const wrapper = document.createElement(\"div\");\n        wrapper.style.overflow = \"auto\";\n        wrapper.style.height = \"5em\";\n        wrapper.style.resize = \"vertical\";\n        const content = document.createElement(\"div\");\n        content.style.fontFamily = \"monospace\";\n        content.style.whiteSpace = \"pre-wrap\";\n        content.style.backgroundColor = \"rgb(255, 221, 221)\";\n        content.textContent = error.stack ?? error.toString();\n        wrapper.append(content);\n        el.append(wrapper);\n      }\n    } else if (Date.now() < root._bokeh_timeout) {\n      setTimeout(() => display_loaded(error), 100);\n    }\n  }\n\n  function run_callbacks() {\n    try {\n      root._bokeh_onload_callbacks.forEach(function(callback) {\n        if (callback != null)\n          callback();\n      });\n    } finally {\n      delete root._bokeh_onload_callbacks\n    }\n    console.debug(\"Bokeh: all callbacks have finished\");\n  }\n\n  function load_libs(css_urls, js_urls, callback) {\n    if (css_urls == null) css_urls = [];\n    if (js_urls == null) js_urls = [];\n\n    root._bokeh_onload_callbacks.push(callback);\n    if (root._bokeh_is_loading > 0) {\n      console.debug(\"Bokeh: BokehJS is being loaded, scheduling callback at\", now());\n      return null;\n    }\n    if (js_urls == null || js_urls.length === 0) {\n      run_callbacks();\n      return null;\n    }\n    console.debug(\"Bokeh: BokehJS not loaded, scheduling load and callback at\", now());\n    root._bokeh_is_loading = css_urls.length + js_urls.length;\n\n    function on_load() {\n      root._bokeh_is_loading--;\n      if (root._bokeh_is_loading === 0) {\n        console.debug(\"Bokeh: all BokehJS libraries/stylesheets loaded\");\n        run_callbacks()\n      }\n    }\n\n    function on_error(url) {\n      console.error(\"failed to load \" + url);\n    }\n\n    for (let i = 0; i < css_urls.length; i++) {\n      const url = css_urls[i];\n      const element = document.createElement(\"link\");\n      element.onload = on_load;\n      element.onerror = on_error.bind(null, url);\n      element.rel = \"stylesheet\";\n      element.type = \"text/css\";\n      element.href = url;\n      console.debug(\"Bokeh: injecting link tag for BokehJS stylesheet: \", url);\n      document.body.appendChild(element);\n    }\n\n    for (let i = 0; i < js_urls.length; i++) {\n      const url = js_urls[i];\n      const element = document.createElement('script');\n      element.onload = on_load;\n      element.onerror = on_error.bind(null, url);\n      element.async = false;\n      element.src = url;\n      console.debug(\"Bokeh: injecting script tag for BokehJS library: \", url);\n      document.head.appendChild(element);\n    }\n  };\n\n  function inject_raw_css(css) {\n    const element = document.createElement(\"style\");\n    element.appendChild(document.createTextNode(css));\n    document.body.appendChild(element);\n  }\n\n  const js_urls = [\"https://cdn.bokeh.org/bokeh/release/bokeh-3.7.3.min.js\", \"https://cdn.bokeh.org/bokeh/release/bokeh-gl-3.7.3.min.js\", \"https://cdn.bokeh.org/bokeh/release/bokeh-widgets-3.7.3.min.js\", \"https://cdn.bokeh.org/bokeh/release/bokeh-tables-3.7.3.min.js\", \"https://cdn.bokeh.org/bokeh/release/bokeh-mathjax-3.7.3.min.js\"];\n  const css_urls = [];\n\n  const inline_js = [    function(Bokeh) {\n      Bokeh.set_log_level(\"info\");\n    },\nfunction(Bokeh) {\n    }\n  ];\n\n  function run_inline_js() {\n    if (root.Bokeh !== undefined || force === true) {\n      try {\n            for (let i = 0; i < inline_js.length; i++) {\n      inline_js[i].call(root, root.Bokeh);\n    }\n\n      } catch (error) {throw error;\n      }} else if (Date.now() < root._bokeh_timeout) {\n      setTimeout(run_inline_js, 100);\n    } else if (!root._bokeh_failed_load) {\n      console.log(\"Bokeh: BokehJS failed to load within specified timeout.\");\n      root._bokeh_failed_load = true;\n    } else if (force !== true) {\n      const cell = $(document.getElementById(null)).parents('.cell').data().cell;\n      cell.output_area.append_execute_result(NB_LOAD_WARNING)\n    }\n  }\n\n  if (root._bokeh_is_loading === 0) {\n    console.debug(\"Bokeh: BokehJS loaded, going straight to plotting\");\n    run_inline_js();\n  } else {\n    load_libs(css_urls, js_urls, function() {\n      console.debug(\"Bokeh: BokehJS plotting callback run at\", now());\n      run_inline_js();\n    });\n  }\n}(window));"
          },
          "metadata": {}
        },
        {
          "output_type": "display_data",
          "data": {
            "text/html": [
              "\n",
              "  <div id=\"ac333979-286d-4a8d-be65-e99998551882\" data-root-id=\"p1060\" style=\"display: contents;\"></div>\n"
            ]
          },
          "metadata": {}
        },
        {
          "output_type": "display_data",
          "data": {
            "application/javascript": [
              "(function(root) {\n",
              "  function embed_document(root) {\n",
              "  const docs_json = {\"91959705-ad50-4fdd-983e-a0e9cfe00735\":{\"version\":\"3.7.3\",\"title\":\"Bokeh Application\",\"roots\":[{\"type\":\"object\",\"name\":\"Figure\",\"id\":\"p1060\",\"attributes\":{\"width\":400,\"height\":400,\"x_range\":{\"type\":\"object\",\"name\":\"DataRange1d\",\"id\":\"p1061\"},\"y_range\":{\"type\":\"object\",\"name\":\"DataRange1d\",\"id\":\"p1062\"},\"x_scale\":{\"type\":\"object\",\"name\":\"LinearScale\",\"id\":\"p1069\"},\"y_scale\":{\"type\":\"object\",\"name\":\"LinearScale\",\"id\":\"p1070\"},\"title\":{\"type\":\"object\",\"name\":\"Title\",\"id\":\"p1067\"},\"renderers\":[{\"type\":\"object\",\"name\":\"GlyphRenderer\",\"id\":\"p1106\",\"attributes\":{\"data_source\":{\"type\":\"object\",\"name\":\"ColumnDataSource\",\"id\":\"p1096\",\"attributes\":{\"selected\":{\"type\":\"object\",\"name\":\"Selection\",\"id\":\"p1097\",\"attributes\":{\"indices\":[],\"line_indices\":[]}},\"selection_policy\":{\"type\":\"object\",\"name\":\"UnionRenderers\",\"id\":\"p1098\"},\"data\":{\"type\":\"map\",\"entries\":[[\"index\",{\"type\":\"ndarray\",\"array\":{\"type\":\"bytes\",\"data\":\"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\"},\"shape\":[1000],\"dtype\":\"int32\",\"order\":\"little\"}],[\"x\",{\"type\":\"ndarray\",\"array\":{\"type\":\"bytes\",\"data\":\"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\"},\"shape\":[1000],\"dtype\":\"float32\",\"order\":\"little\"}],[\"y\",{\"type\":\"ndarray\",\"array\":{\"type\":\"bytes\",\"data\":\"pKaDQaSmg0EK4DZCKBUEQ5x1GkM32KzCuHwDQ4+QoUCzBow/HIojQxW/JkMN3xtDnHRawaTeIMMmUaxBJlGsQbvjmkEmUaxBR+/KQayzG8NuUTrDcSI7w6RuDcP8KwrD+j0Gw41C7UHNhDbDvrpLQjAMHEMAFOHAxeUgQwAU4cBS/B1DUvwdQ1L8HUOlP59C32IXw+exxUGc38PC5AiiwhomxEK6vMdCMTfQQg1suEIfRVTCWh3RQc6mFMPOphTDzqYUw86mFMP8m7tA/Ju7QGQLS0L/j43C/Ju7QE4FKsNOBSrDTgUqw04FKsNOBSrDSR61Qvm8iUJ6Qe5ChKh2QjqK/kEDqqfBe6E+Q8X7MkEz3ORA6ls2QSXJv0J7oT5D3c8AQuE2mcJtrpDArim6wDB9HkEwfR5Bq4rgQKuK4EBbNntC0V32QtXupsHBHM1B0CfsQWJ3iME/fiJDTtSsQk6uPMNOrjzDTq48w8594UJ/y+RCb2Upw9a06kJvZSnDb2Upw6Q09ELWtOpC1mjyQqGR00F7x1FAt03AQmnAC0DrR0PAS+h7wH797sGWBpNBlgaTQUvoe8CQrczBTSOqwU0jqsEijHJCNDi9wWY0vcHn6EJD64VBQ1By+MJkcv/C/gS9Qsv8wcJ7ZtxC9ujsQg1wDEN+RA5CwmHuwsJh7sJXCPrChCbgwoIB8sLbKebCwmHuwhGj5cIRo+XCtfc/wm9L+sJKdw5CKzrhwjkzAUIfjGxCcqZHQfwZyEKm8ipCPcPgQh+BK0NINhbDSDYWw0Ece8KZ9xzCYsjPwmLIz8JiyM/CyQAEwor3BsL6uUVDZI58wmvczMBr3MzAG8coQ18czsIBINbCnpmsQly9GEMvshlDYdEPQyCf6sKdoDNDNtEVQzbRFUM8GRFD+dQvQ2Vv5sI20RVDUA/JwlAPycJQD8nCTxwwQ475M0NPHDBDqpSVQpnB08J3hNvC8pYbwuqqWb/uLxZDMAYWQzl1WsKX6BpDPZV4QYvBGUNARCJD5RkOw6KOJEMVOCNDi0yQwpQoF8KUKBfCrjEswuQSCcMMonRBK5wxw0G4sEJCax/DRnUtw+vCp0A+JjlDPiY5Q5VHNUOW/jhDl+g8Q2pFhcKKDoDCQcF4whPV2cLexDhDq72JwRRq+EIduG7CSsQ+QyMe2UFiCPRBFsm9wiYWucIjZ6nB8O/iwVXt18Gn2vjBS0hDQwkwccLmxBDDDqd0wrPw10IGlv/CTimFQk4phUI17oXCNncUw4ShEsI3+qtANr2oQTgSrEHAVdVCbdonQMDDzkFnXBBD5+Qzww8WMMLPKULCEAgOQ+fkM8Pn5DPDXLQ4wjsUnkKVI5tC8K/4QIvWwkCL1sJAekK8wVztEkNE5vdCpT//QmKgAUM1/LhCz1AVQ52qCsOdqgrD4uz5QoOwAEN7sBxA8V8VwoRfAsLwHuXB6IYFw52qCsMwdQLD576rwj8y58IjUyBDm4TdwpuAnkEhxRvC4igjwgeXFEMrO2jCBMSDwQUvn8JvXDtDG0yXwmTk1MJVnIU+rfNJwa3zScGaJT9B2AavQjdStkJzbfxAr8SXwa/El8GLIQ1DIzWgQkJCnEKNP6VCj91lQPLROcP34jPDYmEkw0QUv0LCfcFCnhi5Qr57LMO+eyzDYmEkw/vs/8KA5ENARSMRQ+GVn8FhoVJCYaFSQmGhUkKjKc/Ci56+QZeM2MLV4vXCEeDhQcQWIcJlgtVBZYLVQaLmH8LvZ3VCliwzQvnsMsKhRxLCZYLVQZ5nMcKFeDxD5ZY1Q4UJMUPT8uvBvYYGwmMECMOouzBDh25HQ4cvIEMm2R5Dn5FoQsHre0IpDXtCHwn/QSkNe0IpDXtCDECgQgxAoEIMQKBCDECgQkkRiEJsK39CbCt/QkkRiEJVyMRBSmGzQRbXCUPV8DfDi4c5w+gxukLzc6tCbqGwQm6hsEJuobBCbqGwQhcbMcNyijLDcooyw7JhK0KyYStCszg2w/q31r6HLxbBhy8Wwd51NMFPeR5CvFnkwrbM6MLgEShDUP0eQxo+n0Gj2LVCJmIvvyCW3z9H+fe/uIovwsD8HEOCZBHDJmIvv7CSib9IZxPDJmIvv2wIZEFWc4lBeOcSwwo93kLXg9hCeV/hQlG55EItYw5DuJ4yQjwMykEDk+5BvgwLwzaLPUMqnqNBIbqCPyG6gj8D4vJAD4+aQXRKR0MAAgfD9MzdQhCu2UIAAgfDa0egQuDMyMJQyFxAY6MJQCMt40JmzRLDOfamwFiZ2cI59qbAK+gNw0z5kEE59qbAoQzAwbeS4cG3kuHBK+gNwzn2psCFMaTCLSehwi0nocKVqmxCfrRxQgbjgEIY0qPCJxWpwimdRMIqCxnDnlARwydiKENV0iHDgTk3Q1XSIcNV0iHDgTk3Q6UJzMJV0iHDVdIhwyoLGcMqCxnDnlARw7aussGMuSJDlKO7wZgSHUI4rdTCQUHJwqjoucJYw4rBWMOKwVjDisFYw4rBIRRfwVpyw8IO5cTCOejOwtBRxcLaBSBB8JPJwfRWHUMBUxhDS/OvQlaj9EKJmTlDLsPZwlb5P0PyvkJD5JsHQ+3l18LkmwdDZAERQl3ZAcJ+NzFD6QWpwn43MUNFMSVDZAERQsF+FcJN9RRCMDgkQgM/BkN8ibdCVaEGw1f9pELKFSvDgWfVQV2OGkNmWB5B/IC4QNlUF8P5YyNDje10wnQTZcLHZEHCDWlPwjOJWcJAAGHC/J5Pwjd/bMJ5dzvCnOPNwr7olsK4ycNCkDDrwtqj38LbmNPC/zhLQXutWUBIBtjCSAbYwp0/Q8FwcCBAFrvbQEgG2MJIBtjC3U0PQzNHDkOK45DCgm2UwqqAisKBlOTCOc60Qe1x0UFx5EJDsEojwuw8VMLxpUvAmDnAwT4+t8HF7EtCsY7CwaYMHkPhV7LC1fwRwleqncKmDB5DN/8cQqg+LELOWLHCvGUfQ21qEUOSD6pCu4HPQmvO1UI2IynDNCvMQmw9ykKN/49Cjf+PQo3/j0KN/49CSJ6xwtqjCr5BN//AH7WVwn9k+EJeEvFCpcQcQ6XEHEPv35jC79+YwgwKJ0N9mChDX38kQ1uiJsOkNM7Ay6MXQyIV8b/mYhdDA9IkQ0tpjsJLaY7CjMHCQWyvisJM0ypDKVcuQ1jtJMNuNSjDbjUow1jtJMPbsCrDE0bpQeSC8kF/AAtC47oeQmzU20JciA9As0qiQdH7q8HR+6vB0furwX4fjUF+H41Bfh+NQc46PkM5TJXCrcygws46PkM0doHCGWR4wvHVLMJjf69Cuv+PQdxoNMP2DgFDJxz+QjcI1UI4V81Cs98vQ9IZNkN/0hNCG98yQ4uk/ULjC4dBotMVQwHeN0NBBlvCotMVQ61kMcIK75XCxamLwue5AsO9qrlCYQkBw5cJiULOss9CxrnOQk2wg0EwrsZC2VQUw11/NUJYOalC6riFwnwQb8H5TuzCi8I8QUyyjMJEUF9B+U7swrLIiEEBMRHBzh8uQ6HuLkO45oBCJpolw13bIMOcrQ/Dg1ELwvB8MkP8Ky9DM953wdn0lcEMIEnBmf+OwdhcqMGJ0OHCmUmzQUZZ1kKpDB/C3MTwwvB8MkO5lbZCK7m8Qp+93ELWs+dCkBgpw4seJMOjxPbBJj4RQiY+EULwoX7AmooRP6PE9sEjmSPC53Ufw4O6G8FIh8HB4pgGw+KYBsP3AZzCBW4aQpgshUFg8dhCODviQuxpQMPU3UDDM62SwWHSfcIT56/Bax1KQmsdSkJrHUpCVg2Iwo00HMPRo1nC2NNBwvLhQ8I6fyLCor2mwttdUsLy4UPC4GA+Q/pxQUM4FUBDNPA8Q8sAqsKCNxRDzxpuwRjoI8FfQH9BK6mgwTJxJMFW3p5Cgy2Jwtj5lcG07i9BUAGvQVABr0EeOm/BrMsLQKzLC0ATtpNChVnFQuZlLkIHXC5CBRE4Qr92I0J88LtAfPC7QHvP3L57z9y+ClmIQOrvDEKC4dfBbxgrQ28YK0PasV/A2rFfwNqxX8B7z9y+vcoRQm93pUKYlQdDPGyhQqh8oULUdmZCBjjsQhB8hEK/SAFCEHyEQpNFAkK/SAFCWGBKQmFJhMKTRQJCJH2OQiR9jkLDFupBQT4hwwLwH8OTRQJCs4uSQsFYmUJeNpBCVR6zQh0fXsAj/yDBXsaEQVZOR0J+gknBEb6iwnSFo0ERvqLCbXsaQxG+osL0JxvBVk5HQnFkSkLEj4FCSkCZQSK5qUFZuqtBj9nCQpilvUIbaq9COkQew6unsUJGjbpCkcVwwTSay8J8kRDCkcVwwZHFcMFHHyHC5kAcQ1FjIsICzcfC8GjBwgLNx8JGjbpCWyo8w61lFsMXwxnDgIgwQrPP9UILwzpDeiU9Q+lADEN+QGNBXU8NQwWnHcMFpx3DBacdw0bMJMNGzCTDBacdwxuQocFFGZ7BJqqRwnUGtMF625XCja4mQw/TtcLOK/pCsGzCwuhzYsJ8g5LCOMOjwoFKIsOBSiLDFDkCQ8RaucLAo7vCl5gBQ3YdjMH/bS/CRcjZQR6PyEGeqBvCHhwYQ5Vw78LR/8TBgRYBwx3RpkG2/YfCGRt9wl2cBMMQelVCEawIwzEuoMIxLqDCefSYQfK8FMLyvBTCVbfcwv/K28J59JhBefSYQfV1ZkIrSV5CefSYQVaMlEJiU5VCj6RGw6eUEkGimBbC7bIAw1qKf0HCBp7CUHA0QVvIZcHQJUdBebGKwoXSbcGJRqdBhdJtwYuBk8JgABrD0J/GQs/GWkL/VL9Cw1/pwuRXN8OG4CnDGuQow2hHusKfAEhAuBWEwv6ngcIXNm5CUirRQbdg3sIzWNhBU+59wp4PUsJj89/CZ2lrwhc2bkK34zrCFzZuQhc2bkK9gMhC3/nNQvj21UJ7fuJC4xhEQeJEecHv+gnD5avbQZJU/kFNS+5BOgLdQDoC3UBiIQpC8abjQUuaE0IyIRlCWOAPw3v1AkLv+gnDOgLdQAq6xUI9uLdCNL25QmBnuUJKKVFCx3hHQYArl0IBLg1BgCuXQrArpEIrPDFBF6OAQBejgEAwbYpAeCc1wYM0PEIMu+HCyYBNQudrW0JnFc1CnIQPQ7MI00JmoQtDw/aDP9olPcB06zfD9iS8QvYkvEL2JLxC4genwqRQPcOkUD3DpFA9w6RQPcOkUD3DnfYNwZ9b5sCkUD3D9iS8QvYkvEIW+qJCtzAWwz1+FMOFYwtCf0DtQhE4/sIcVvPCTFHkQu9/7UJXvP/C0zfnwle8/8LP0vTCYHS6QSyO6EK1hgPDtYYDw4FmZMDaVVG/2lVRvw==\"},\"shape\":[1000],\"dtype\":\"float32\",\"order\":\"little\"}],[\"label\",{\"type\":\"ndarray\",\"array\":[\"0\",\"0\",\"0\",\"1\",\"1\",\"1\",\"1\",\"1\",\"1\",\"0\",\"0\",\"1\",\"1\",\"0\",\"1\",\"1\",\"1\",\"1\",\"1\",\"0\",\"0\",\"0\",\"0\",\"0\",\"0\",\"1\",\"0\",\"1\",\"1\",\"1\",\"1\",\"1\",\"1\",\"1\",\"1\",\"0\",\"0\",\"0\",\"0\",\"1\",\"0\",\"0\",\"0\",\"1\",\"0\",\"1\",\"0\",\"0\",\"0\",\"0\",\"1\",\"1\",\"1\",\"0\",\"1\",\"0\",\"0\",\"0\",\"0\",\"0\",\"0\",\"1\",\"1\",\"1\",\"0\",\"0\",\"1\",\"0\",\"0\",\"0\",\"0\",\"1\",\"0\",\"0\",\"1\",\"1\",\"0\",\"0\",\"1\",\"1\",\"1\",\"1\",\"0\",\"0\",\"0\",\"0\",\"1\",\"0\",\"0\",\"0\",\"0\",\"0\",\"0\",\"0\",\"1\",\"0\",\"0\",\"1\",\"1\",\"1\",\"1\",\"0\",\"1\",\"0\",\"0\",\"0\",\"1\",\"1\",\"1\",\"0\",\"1\",\"1\",\"1\",\"1\",\"1\",\"0\",\"1\",\"1\",\"0\",\"0\",\"1\",\"0\",\"0\",\"0\",\"0\",\"0\",\"0\",\"0\",\"0\",\"0\",\"0\",\"0\",\"0\",\"0\",\"0\",\"1\",\"0\",\"0\",\"0\",\"0\",\"0\",\"0\",\"1\",\"0\",\"0\",\"1\",\"0\",\"0\",\"1\",\"0\",\"0\",\"0\",\"0\",\"1\",\"0\",\"1\",\"1\",\"0\",\"0\",\"1\",\"0\",\"0\",\"1\",\"1\",\"1\",\"1\",\"0\",\"0\",\"1\",\"1\",\"1\",\"0\",\"0\",\"1\",\"0\",\"0\",\"0\",\"0\",\"0\",\"0\",\"1\",\"0\",\"0\",\"1\",\"1\",\"1\",\"1\",\"0\",\"1\",\"1\",\"1\",\"1\",\"0\",\"1\",\"1\",\"1\",\"1\",\"1\",\"1\",\"0\",\"0\",\"0\",\"1\",\"0\",\"0\",\"1\",\"1\",\"1\",\"1\",\"1\",\"1\",\"0\",\"0\",\"0\",\"0\",\"1\",\"0\",\"0\",\"0\",\"1\",\"0\",\"0\",\"0\",\"0\",\"0\",\"0\",\"0\",\"0\",\"0\",\"1\",\"0\",\"1\",\"0\",\"0\",\"1\",\"1\",\"1\",\"0\",\"1\",\"1\",\"0\",\"0\",\"1\",\"1\",\"0\",\"1\",\"0\",\"0\",\"0\",\"1\",\"0\",\"0\",\"0\",\"0\",\"0\",\"0\",\"0\",\"0\",\"0\",\"1\",\"1\",\"1\",\"1\",\"1\",\"1\",\"0\",\"0\",\"1\",\"1\",\"0\",\"0\",\"0\",\"0\",\"0\",\"0\",\"0\",\"1\",\"0\",\"1\",\"0\",\"0\",\"1\",\"1\",\"1\",\"1\",\"0\",\"1\",\"0\",\"1\",\"0\",\"0\",\"0\",\"0\",\"0\",\"1\",\"1\",\"0\",\"0\",\"0\",\"1\",\"1\",\"1\",\"1\",\"0\",\"0\",\"0\",\"0\",\"0\",\"0\",\"0\",\"0\",\"0\",\"0\",\"0\",\"1\",\"1\",\"1\",\"0\",\"0\",\"0\",\"0\",\"0\",\"0\",\"0\",\"0\",\"0\",\"1\",\"1\",\"0\",\"1\",\"1\",\"0\",\"0\",\"1\",\"0\",\"1\",\"1\",\"1\",\"0\",\"0\",\"0\",\"0\",\"1\",\"0\",\"1\",\"1\",\"1\",\"1\",\"0\",\"1\",\"1\",\"1\",\"1\",\"1\",\"1\",\"1\",\"1\",\"1\",\"1\",\"1\",\"0\",\"1\",\"0\",\"0\",\"1\",\"1\",\"1\",\"1\",\"1\",\"1\",\"0\",\"0\",\"0\",\"1\",\"1\",\"0\",\"1\",\"0\",\"0\",\"0\",\"0\",\"0\",\"0\",\"1\",\"1\",\"1\",\"0\",\"1\",\"1\",\"1\",\"1\",\"1\",\"0\",\"1\",\"1\",\"0\",\"1\",\"1\",\"1\",\"0\",\"1\",\"1\",\"1\",\"1\",\"1\",\"1\",\"1\",\"1\",\"0\",\"1\",\"1\",\"0\",\"0\",\"1\",\"1\",\"1\",\"0\",\"0\",\"0\",\"0\",\"1\",\"0\",\"0\",\"0\",\"1\",\"0\",\"0\",\"0\",\"0\",\"0\",\"0\",\"0\",\"1\",\"1\",\"1\",\"0\",\"0\",\"1\",\"1\",\"1\",\"1\",\"1\",\"1\",\"1\",\"1\",\"1\",\"0\",\"0\",\"1\",\"0\",\"1\",\"0\",\"0\",\"1\",\"0\",\"0\",\"0\",\"0\",\"0\",\"0\",\"0\",\"1\",\"0\",\"0\",\"0\",\"0\",\"0\",\"0\",\"0\",\"0\",\"0\",\"0\",\"0\",\"0\",\"0\",\"0\",\"0\",\"0\",\"1\",\"1\",\"0\",\"0\",\"0\",\"0\",\"0\",\"0\",\"0\",\"0\",\"0\",\"0\",\"1\",\"1\",\"1\",\"1\",\"1\",\"0\",\"1\",\"0\",\"0\",\"0\",\"0\",\"0\",\"1\",\"0\",\"0\",\"1\",\"0\",\"0\",\"0\",\"1\",\"1\",\"1\",\"1\",\"1\",\"1\",\"1\",\"1\",\"1\",\"1\",\"0\",\"0\",\"1\",\"0\",\"0\",\"0\",\"1\",\"0\",\"0\",\"0\",\"1\",\"0\",\"0\",\"0\",\"0\",\"1\",\"1\",\"0\",\"0\",\"0\",\"0\",\"0\",\"0\",\"1\",\"1\",\"1\",\"1\",\"1\",\"1\",\"1\",\"0\",\"1\",\"0\",\"0\",\"1\",\"1\",\"0\",\"0\",\"0\",\"1\",\"1\",\"1\",\"0\",\"0\",\"0\",\"0\",\"0\",\"1\",\"1\",\"1\",\"1\",\"0\",\"1\",\"1\",\"1\",\"0\",\"0\",\"0\",\"0\",\"1\",\"1\",\"1\",\"1\",\"1\",\"0\",\"0\",\"1\",\"0\",\"1\",\"1\",\"0\",\"0\",\"1\",\"0\",\"1\",\"1\",\"0\",\"0\",\"0\",\"0\",\"0\",\"1\",\"1\",\"1\",\"1\",\"1\",\"1\",\"1\",\"1\",\"1\",\"1\",\"0\",\"0\",\"0\",\"1\",\"1\",\"1\",\"1\",\"0\",\"0\",\"1\",\"1\",\"0\",\"0\",\"0\",\"0\",\"0\",\"0\",\"1\",\"1\",\"0\",\"1\",\"1\",\"0\",\"1\",\"1\",\"1\",\"1\",\"0\",\"1\",\"1\",\"0\",\"1\",\"0\",\"1\",\"0\",\"0\",\"1\",\"0\",\"0\",\"1\",\"0\",\"1\",\"1\",\"0\",\"0\",\"1\",\"0\",\"0\",\"0\",\"1\",\"1\",\"1\",\"1\",\"0\",\"0\",\"0\",\"0\",\"1\",\"1\",\"1\",\"1\",\"1\",\"1\",\"1\",\"0\",\"0\",\"0\",\"0\",\"0\",\"1\",\"1\",\"0\",\"0\",\"0\",\"0\",\"0\",\"0\",\"1\",\"1\",\"1\",\"1\",\"0\",\"1\",\"0\",\"0\",\"0\",\"0\",\"0\",\"0\",\"0\",\"0\",\"0\",\"0\",\"0\",\"0\",\"0\",\"1\",\"0\",\"1\",\"1\",\"1\",\"0\",\"0\",\"1\",\"1\",\"1\",\"1\",\"0\",\"1\",\"1\",\"0\",\"0\",\"0\",\"0\",\"0\",\"1\",\"1\",\"1\",\"1\",\"1\",\"1\",\"1\",\"1\",\"1\",\"1\",\"1\",\"1\",\"1\",\"0\",\"0\",\"0\",\"0\",\"0\",\"0\",\"0\",\"0\",\"0\",\"0\",\"0\",\"0\",\"0\",\"0\",\"0\",\"1\",\"1\",\"1\",\"1\",\"1\",\"0\",\"0\",\"0\",\"1\",\"0\",\"0\",\"0\",\"1\",\"0\",\"0\",\"0\",\"1\",\"0\",\"1\",\"1\",\"1\",\"0\",\"0\",\"1\",\"0\",\"0\",\"1\",\"1\",\"1\",\"1\",\"1\",\"1\",\"0\",\"1\",\"0\",\"1\",\"0\",\"1\",\"0\",\"1\",\"0\",\"1\",\"0\",\"0\",\"0\",\"1\",\"1\",\"0\",\"0\",\"0\",\"1\",\"0\",\"0\",\"0\",\"0\",\"0\",\"0\",\"0\",\"0\",\"0\",\"1\",\"0\",\"0\",\"0\",\"0\",\"0\",\"0\",\"0\",\"0\",\"0\",\"0\",\"1\",\"1\",\"1\",\"0\",\"1\",\"0\",\"0\",\"0\",\"0\",\"0\",\"0\",\"1\",\"0\",\"0\",\"0\",\"0\",\"1\",\"0\",\"1\",\"0\",\"1\",\"1\",\"0\",\"0\",\"0\",\"0\",\"0\",\"0\",\"0\",\"1\",\"1\",\"1\",\"1\",\"1\",\"1\",\"0\",\"0\",\"0\",\"0\",\"0\",\"0\",\"0\",\"1\",\"0\",\"0\",\"0\",\"0\",\"0\",\"0\",\"0\",\"0\",\"0\",\"0\",\"1\",\"1\",\"0\",\"1\",\"1\",\"0\",\"0\",\"0\",\"0\",\"1\",\"1\",\"1\",\"1\",\"1\",\"1\",\"0\",\"1\",\"0\",\"1\",\"0\",\"0\",\"1\",\"0\",\"0\",\"0\",\"0\",\"0\",\"0\",\"0\",\"0\",\"1\",\"0\",\"1\",\"0\",\"0\",\"1\",\"1\",\"0\",\"1\",\"0\",\"1\",\"0\",\"0\",\"1\",\"1\",\"1\",\"1\",\"0\",\"0\",\"0\",\"1\",\"1\",\"1\",\"0\",\"0\",\"1\",\"1\",\"1\",\"1\",\"0\",\"1\",\"0\",\"0\",\"1\",\"1\",\"1\",\"1\",\"1\",\"1\",\"1\",\"1\",\"1\",\"1\",\"1\",\"1\",\"1\",\"1\",\"0\",\"1\",\"0\",\"1\",\"1\",\"0\",\"1\",\"1\",\"1\",\"0\",\"0\",\"0\",\"1\",\"1\",\"1\",\"0\",\"0\",\"0\",\"0\",\"0\",\"0\",\"0\",\"0\",\"0\",\"1\",\"1\",\"0\",\"0\",\"0\",\"1\",\"0\",\"0\",\"0\",\"0\",\"0\",\"0\",\"0\",\"0\",\"0\",\"1\",\"0\",\"0\",\"0\",\"0\",\"0\",\"0\"],\"shape\":[1000],\"dtype\":\"object\",\"order\":\"little\"}],[\"tsne_x\",{\"type\":\"ndarray\",\"array\":{\"type\":\"bytes\",\"data\":\"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\"},\"shape\":[1000],\"dtype\":\"float32\",\"order\":\"little\"}],[\"tsne_y\",{\"type\":\"ndarray\",\"array\":{\"type\":\"bytes\",\"data\":\"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\"},\"shape\":[1000],\"dtype\":\"float32\",\"order\":\"little\"}]]}}},\"view\":{\"type\":\"object\",\"name\":\"CDSView\",\"id\":\"p1107\",\"attributes\":{\"filter\":{\"type\":\"object\",\"name\":\"AllIndices\",\"id\":\"p1108\"}}},\"glyph\":{\"type\":\"object\",\"name\":\"Scatter\",\"id\":\"p1103\",\"attributes\":{\"x\":{\"type\":\"field\",\"field\":\"x\"},\"y\":{\"type\":\"field\",\"field\":\"y\"},\"line_color\":{\"type\":\"field\",\"field\":\"label\",\"transform\":{\"type\":\"object\",\"name\":\"CategoricalColorMapper\",\"id\":\"p1099\",\"attributes\":{\"palette\":[\"#1f77b4\",\"#ff7f0e\",\"#2ca02c\"],\"factors\":{\"type\":\"ndarray\",\"array\":[\"0\",\"1\"],\"shape\":[2],\"dtype\":\"object\",\"order\":\"little\"}}}},\"fill_color\":{\"type\":\"field\",\"field\":\"label\",\"transform\":{\"id\":\"p1099\"}},\"hatch_color\":{\"type\":\"field\",\"field\":\"label\",\"transform\":{\"id\":\"p1099\"}}}},\"nonselection_glyph\":{\"type\":\"object\",\"name\":\"Scatter\",\"id\":\"p1104\",\"attributes\":{\"x\":{\"type\":\"field\",\"field\":\"x\"},\"y\":{\"type\":\"field\",\"field\":\"y\"},\"line_color\":{\"type\":\"field\",\"field\":\"label\",\"transform\":{\"id\":\"p1099\"}},\"line_alpha\":{\"type\":\"value\",\"value\":0.1},\"fill_color\":{\"type\":\"field\",\"field\":\"label\",\"transform\":{\"id\":\"p1099\"}},\"fill_alpha\":{\"type\":\"value\",\"value\":0.1},\"hatch_color\":{\"type\":\"field\",\"field\":\"label\",\"transform\":{\"id\":\"p1099\"}},\"hatch_alpha\":{\"type\":\"value\",\"value\":0.1}}},\"muted_glyph\":{\"type\":\"object\",\"name\":\"Scatter\",\"id\":\"p1105\",\"attributes\":{\"x\":{\"type\":\"field\",\"field\":\"x\"},\"y\":{\"type\":\"field\",\"field\":\"y\"},\"line_color\":{\"type\":\"field\",\"field\":\"label\",\"transform\":{\"id\":\"p1099\"}},\"line_alpha\":{\"type\":\"value\",\"value\":0.2},\"fill_color\":{\"type\":\"field\",\"field\":\"label\",\"transform\":{\"id\":\"p1099\"}},\"fill_alpha\":{\"type\":\"value\",\"value\":0.2},\"hatch_color\":{\"type\":\"field\",\"field\":\"label\",\"transform\":{\"id\":\"p1099\"}},\"hatch_alpha\":{\"type\":\"value\",\"value\":0.2}}}}}],\"toolbar\":{\"type\":\"object\",\"name\":\"Toolbar\",\"id\":\"p1068\",\"attributes\":{\"tools\":[{\"type\":\"object\",\"name\":\"LassoSelectTool\",\"id\":\"p1081\",\"attributes\":{\"renderers\":\"auto\",\"overlay\":{\"type\":\"object\",\"name\":\"PolyAnnotation\",\"id\":\"p1082\",\"attributes\":{\"syncable\":false,\"level\":\"overlay\",\"visible\":false,\"xs\":[],\"ys\":[],\"editable\":true,\"line_color\":\"black\",\"line_alpha\":1.0,\"line_width\":2,\"line_dash\":[4,4],\"fill_color\":\"lightgrey\",\"fill_alpha\":0.5}}}},{\"type\":\"object\",\"name\":\"BoxSelectTool\",\"id\":\"p1083\",\"attributes\":{\"renderers\":\"auto\",\"overlay\":{\"type\":\"object\",\"name\":\"BoxAnnotation\",\"id\":\"p1084\",\"attributes\":{\"syncable\":false,\"line_color\":\"black\",\"line_alpha\":1.0,\"line_width\":2,\"line_dash\":[4,4],\"fill_color\":\"lightgrey\",\"fill_alpha\":0.5,\"level\":\"overlay\",\"visible\":false,\"left\":{\"type\":\"number\",\"value\":\"nan\"},\"right\":{\"type\":\"number\",\"value\":\"nan\"},\"top\":{\"type\":\"number\",\"value\":\"nan\"},\"bottom\":{\"type\":\"number\",\"value\":\"nan\"},\"editable\":true,\"handles\":{\"type\":\"object\",\"name\":\"BoxInteractionHandles\",\"id\":\"p1090\",\"attributes\":{\"all\":{\"type\":\"object\",\"name\":\"AreaVisuals\",\"id\":\"p1089\",\"attributes\":{\"fill_color\":\"white\",\"hover_fill_color\":\"lightgray\"}}}}}}}},{\"type\":\"object\",\"name\":\"PanTool\",\"id\":\"p1091\"},{\"type\":\"object\",\"name\":\"ZoomInTool\",\"id\":\"p1092\",\"attributes\":{\"renderers\":\"auto\"}},{\"type\":\"object\",\"name\":\"ZoomOutTool\",\"id\":\"p1093\",\"attributes\":{\"renderers\":\"auto\"}},{\"type\":\"object\",\"name\":\"ResetTool\",\"id\":\"p1094\"},{\"type\":\"object\",\"name\":\"HoverTool\",\"id\":\"p1095\",\"attributes\":{\"renderers\":\"auto\",\"tooltips\":[[\"x, y\",\"$x, $y\"],[\"index\",\"$index\"]]}}]}},\"left\":[{\"type\":\"object\",\"name\":\"LinearAxis\",\"id\":\"p1076\",\"attributes\":{\"ticker\":{\"type\":\"object\",\"name\":\"BasicTicker\",\"id\":\"p1077\",\"attributes\":{\"mantissas\":[1,2,5]}},\"formatter\":{\"type\":\"object\",\"name\":\"BasicTickFormatter\",\"id\":\"p1078\"},\"major_label_policy\":{\"type\":\"object\",\"name\":\"AllLabels\",\"id\":\"p1079\"}}}],\"below\":[{\"type\":\"object\",\"name\":\"LinearAxis\",\"id\":\"p1071\",\"attributes\":{\"ticker\":{\"type\":\"object\",\"name\":\"BasicTicker\",\"id\":\"p1072\",\"attributes\":{\"mantissas\":[1,2,5]}},\"formatter\":{\"type\":\"object\",\"name\":\"BasicTickFormatter\",\"id\":\"p1073\"},\"major_label_policy\":{\"type\":\"object\",\"name\":\"AllLabels\",\"id\":\"p1074\"}}}],\"center\":[{\"type\":\"object\",\"name\":\"Grid\",\"id\":\"p1075\",\"attributes\":{\"axis\":{\"id\":\"p1071\"}}},{\"type\":\"object\",\"name\":\"Grid\",\"id\":\"p1080\",\"attributes\":{\"dimension\":1,\"axis\":{\"id\":\"p1076\"}}},{\"type\":\"object\",\"name\":\"Legend\",\"id\":\"p1109\",\"attributes\":{\"location\":\"bottom_left\",\"click_policy\":\"mute\",\"items\":[{\"type\":\"object\",\"name\":\"LegendItem\",\"id\":\"p1110\",\"attributes\":{\"label\":{\"type\":\"value\",\"value\":\"0\"},\"renderers\":[{\"id\":\"p1106\"}],\"index\":0}},{\"type\":\"object\",\"name\":\"LegendItem\",\"id\":\"p1111\",\"attributes\":{\"label\":{\"type\":\"value\",\"value\":\"1\"},\"renderers\":[{\"id\":\"p1106\"}],\"index\":3}}]}}]}}]}};\n",
              "  const render_items = [{\"docid\":\"91959705-ad50-4fdd-983e-a0e9cfe00735\",\"roots\":{\"p1060\":\"ac333979-286d-4a8d-be65-e99998551882\"},\"root_ids\":[\"p1060\"]}];\n",
              "  void root.Bokeh.embed.embed_items_notebook(docs_json, render_items);\n",
              "  }\n",
              "  if (root.Bokeh !== undefined) {\n",
              "    embed_document(root);\n",
              "  } else {\n",
              "    let attempts = 0;\n",
              "    const timer = setInterval(function(root) {\n",
              "      if (root.Bokeh !== undefined) {\n",
              "        clearInterval(timer);\n",
              "        embed_document(root);\n",
              "      } else {\n",
              "        attempts++;\n",
              "        if (attempts > 100) {\n",
              "          clearInterval(timer);\n",
              "          console.log(\"Bokeh: ERROR: Unable to run BokehJS code because BokehJS library is missing\");\n",
              "        }\n",
              "      }\n",
              "    }, 10, root)\n",
              "  }\n",
              "})(window);"
            ],
            "application/vnd.bokehjs_exec.v0+json": ""
          },
          "metadata": {
            "application/vnd.bokehjs_exec.v0+json": {
              "id": "p1060"
            }
          }
        }
      ]
    },
    {
      "cell_type": "code",
      "source": [
        "import numpy as np\n",
        "import matplotlib.pyplot as plt\n",
        "import yaml\n",
        "import os\n",
        "import sys\n",
        "\n",
        "import pandas as pd\n",
        "\n",
        "from torchvision import transforms\n",
        "\n",
        "df = pd.read_csv('/content/drive/MyDrive/Data/VAE_embedding.csv')"
      ],
      "metadata": {
        "id": "r6HEiSDUBQOb"
      },
      "execution_count": 12,
      "outputs": []
    },
    {
      "cell_type": "code",
      "source": [
        "embeddings, labels, original_images = df[[c for c in df.columns if 'emb' in c]].to_numpy(), df['label'].to_numpy(), df[[c for c in df.columns if 'or' in c]].to_numpy()\n",
        "\n",
        "runner = Runner(\n",
        "    encoder_function = None,\n",
        "    loader = None,\n",
        "    original_loader = None,\n",
        "    config_path = \"/content/exemple_config.yaml\"\n",
        ")\n",
        "\n",
        "embeddings, labels, original_images, tsne_results = runner.run(\"VAE_runs_15\", embeddings = embeddings, labels = labels, original_images = original_images, n_iter = 10)\n"
      ],
      "metadata": {
        "colab": {
          "base_uri": "https://localhost:8080/",
          "height": 1000
        },
        "id": "5tfEpcwdGrl7",
        "outputId": "9e67aeeb-fe29-47c6-c76e-c77d2057a3c0"
      },
      "execution_count": 13,
      "outputs": [
        {
          "output_type": "stream",
          "name": "stdout",
          "text": [
            "{'model_name': 'SEP', 'encoder': 'VAE', 'input_space_shape': 128, 'delta': 15.0, 'lr': 0.1, 'dr': 0.9, 'omega': 0.3, 'kernel': 'exponential', 'num_exemp': 30}\n"
          ]
        },
        {
          "output_type": "display_data",
          "data": {
            "text/plain": [
              "<IPython.core.display.HTML object>"
            ],
            "text/html": [
              "Tracking run with wandb version 0.19.7"
            ]
          },
          "metadata": {}
        },
        {
          "output_type": "display_data",
          "data": {
            "text/plain": [
              "<IPython.core.display.HTML object>"
            ],
            "text/html": [
              "Run data is saved locally in <code>/content/wandb/run-20250527_234206-tumz6l34</code>"
            ]
          },
          "metadata": {}
        },
        {
          "output_type": "display_data",
          "data": {
            "text/plain": [
              "<IPython.core.display.HTML object>"
            ],
            "text/html": [
              "Syncing run <strong><a href='https://wandb.ai/ms-hate-life-/encoder_runs/runs/tumz6l34' target=\"_blank\">VAE_runs_15</a></strong> to <a href='https://wandb.ai/ms-hate-life-/encoder_runs' target=\"_blank\">Weights & Biases</a> (<a href='https://wandb.me/developer-guide' target=\"_blank\">docs</a>)<br>"
            ]
          },
          "metadata": {}
        },
        {
          "output_type": "display_data",
          "data": {
            "text/plain": [
              "<IPython.core.display.HTML object>"
            ],
            "text/html": [
              " View project at <a href='https://wandb.ai/ms-hate-life-/encoder_runs' target=\"_blank\">https://wandb.ai/ms-hate-life-/encoder_runs</a>"
            ]
          },
          "metadata": {}
        },
        {
          "output_type": "display_data",
          "data": {
            "text/plain": [
              "<IPython.core.display.HTML object>"
            ],
            "text/html": [
              " View run at <a href='https://wandb.ai/ms-hate-life-/encoder_runs/runs/tumz6l34' target=\"_blank\">https://wandb.ai/ms-hate-life-/encoder_runs/runs/tumz6l34</a>"
            ]
          },
          "metadata": {}
        },
        {
          "output_type": "stream",
          "name": "stdout",
          "text": [
            "Trial 952 finished!\n"
          ]
        },
        {
          "output_type": "display_data",
          "data": {
            "text/plain": [
              "<IPython.core.display.HTML object>"
            ],
            "text/html": []
          },
          "metadata": {}
        },
        {
          "output_type": "display_data",
          "data": {
            "text/plain": [
              "<IPython.core.display.HTML object>"
            ],
            "text/html": [
              "<br>    <style><br>        .wandb-row {<br>            display: flex;<br>            flex-direction: row;<br>            flex-wrap: wrap;<br>            justify-content: flex-start;<br>            width: 100%;<br>        }<br>        .wandb-col {<br>            display: flex;<br>            flex-direction: column;<br>            flex-basis: 100%;<br>            flex: 1;<br>            padding: 10px;<br>        }<br>    </style><br><div class=\"wandb-row\"><div class=\"wandb-col\"><h3>Run history:</h3><br/><table class=\"wandb\"><tr><td>peck_edible</td><td>█▁██▁███████████▁██████████▁████████████</td></tr><tr><td>second_order_similarity</td><td>▁</td></tr></table><br/></div><div class=\"wandb-col\"><h3>Run summary:</h3><br/><table class=\"wandb\"><tr><td>peck_edible</td><td>1</td></tr><tr><td>second_order_similarity</td><td>0.65123</td></tr></table><br/></div></div>"
            ]
          },
          "metadata": {}
        },
        {
          "output_type": "display_data",
          "data": {
            "text/plain": [
              "<IPython.core.display.HTML object>"
            ],
            "text/html": [
              " View run <strong style=\"color:#cdcd00\">VAE_runs_15</strong> at: <a href='https://wandb.ai/ms-hate-life-/encoder_runs/runs/tumz6l34' target=\"_blank\">https://wandb.ai/ms-hate-life-/encoder_runs/runs/tumz6l34</a><br> View project at: <a href='https://wandb.ai/ms-hate-life-/encoder_runs' target=\"_blank\">https://wandb.ai/ms-hate-life-/encoder_runs</a><br>Synced 5 W&B file(s), 0 media file(s), 0 artifact file(s) and 0 other file(s)"
            ]
          },
          "metadata": {}
        },
        {
          "output_type": "display_data",
          "data": {
            "text/plain": [
              "<IPython.core.display.HTML object>"
            ],
            "text/html": [
              "Find logs at: <code>./wandb/run-20250527_234206-tumz6l34/logs</code>"
            ]
          },
          "metadata": {}
        },
        {
          "output_type": "display_data",
          "data": {
            "text/plain": [
              "<IPython.core.display.HTML object>"
            ],
            "text/html": [
              "Tracking run with wandb version 0.19.7"
            ]
          },
          "metadata": {}
        },
        {
          "output_type": "display_data",
          "data": {
            "text/plain": [
              "<IPython.core.display.HTML object>"
            ],
            "text/html": [
              "Run data is saved locally in <code>/content/wandb/run-20250527_234238-u8ndutxf</code>"
            ]
          },
          "metadata": {}
        },
        {
          "output_type": "display_data",
          "data": {
            "text/plain": [
              "<IPython.core.display.HTML object>"
            ],
            "text/html": [
              "Syncing run <strong><a href='https://wandb.ai/ms-hate-life-/encoder_runs/runs/u8ndutxf' target=\"_blank\">VAE_runs_15</a></strong> to <a href='https://wandb.ai/ms-hate-life-/encoder_runs' target=\"_blank\">Weights & Biases</a> (<a href='https://wandb.me/developer-guide' target=\"_blank\">docs</a>)<br>"
            ]
          },
          "metadata": {}
        },
        {
          "output_type": "display_data",
          "data": {
            "text/plain": [
              "<IPython.core.display.HTML object>"
            ],
            "text/html": [
              " View project at <a href='https://wandb.ai/ms-hate-life-/encoder_runs' target=\"_blank\">https://wandb.ai/ms-hate-life-/encoder_runs</a>"
            ]
          },
          "metadata": {}
        },
        {
          "output_type": "display_data",
          "data": {
            "text/plain": [
              "<IPython.core.display.HTML object>"
            ],
            "text/html": [
              " View run at <a href='https://wandb.ai/ms-hate-life-/encoder_runs/runs/u8ndutxf' target=\"_blank\">https://wandb.ai/ms-hate-life-/encoder_runs/runs/u8ndutxf</a>"
            ]
          },
          "metadata": {}
        },
        {
          "output_type": "stream",
          "name": "stdout",
          "text": [
            "Trial 866 finished!\n"
          ]
        },
        {
          "output_type": "display_data",
          "data": {
            "text/plain": [
              "<IPython.core.display.HTML object>"
            ],
            "text/html": []
          },
          "metadata": {}
        },
        {
          "output_type": "display_data",
          "data": {
            "text/plain": [
              "<IPython.core.display.HTML object>"
            ],
            "text/html": [
              "<br>    <style><br>        .wandb-row {<br>            display: flex;<br>            flex-direction: row;<br>            flex-wrap: wrap;<br>            justify-content: flex-start;<br>            width: 100%;<br>        }<br>        .wandb-col {<br>            display: flex;<br>            flex-direction: column;<br>            flex-basis: 100%;<br>            flex: 1;<br>            padding: 10px;<br>        }<br>    </style><br><div class=\"wandb-row\"><div class=\"wandb-col\"><h3>Run history:</h3><br/><table class=\"wandb\"><tr><td>peck_edible</td><td>██████████████████████████████▁█████████</td></tr><tr><td>second_order_similarity</td><td>▁</td></tr></table><br/></div><div class=\"wandb-col\"><h3>Run summary:</h3><br/><table class=\"wandb\"><tr><td>peck_edible</td><td>1</td></tr><tr><td>second_order_similarity</td><td>0.64993</td></tr></table><br/></div></div>"
            ]
          },
          "metadata": {}
        },
        {
          "output_type": "display_data",
          "data": {
            "text/plain": [
              "<IPython.core.display.HTML object>"
            ],
            "text/html": [
              " View run <strong style=\"color:#cdcd00\">VAE_runs_15</strong> at: <a href='https://wandb.ai/ms-hate-life-/encoder_runs/runs/u8ndutxf' target=\"_blank\">https://wandb.ai/ms-hate-life-/encoder_runs/runs/u8ndutxf</a><br> View project at: <a href='https://wandb.ai/ms-hate-life-/encoder_runs' target=\"_blank\">https://wandb.ai/ms-hate-life-/encoder_runs</a><br>Synced 5 W&B file(s), 0 media file(s), 0 artifact file(s) and 0 other file(s)"
            ]
          },
          "metadata": {}
        },
        {
          "output_type": "display_data",
          "data": {
            "text/plain": [
              "<IPython.core.display.HTML object>"
            ],
            "text/html": [
              "Find logs at: <code>./wandb/run-20250527_234238-u8ndutxf/logs</code>"
            ]
          },
          "metadata": {}
        },
        {
          "output_type": "display_data",
          "data": {
            "text/plain": [
              "<IPython.core.display.HTML object>"
            ],
            "text/html": [
              "Tracking run with wandb version 0.19.7"
            ]
          },
          "metadata": {}
        },
        {
          "output_type": "display_data",
          "data": {
            "text/plain": [
              "<IPython.core.display.HTML object>"
            ],
            "text/html": [
              "Run data is saved locally in <code>/content/wandb/run-20250527_234307-5sbylrk2</code>"
            ]
          },
          "metadata": {}
        },
        {
          "output_type": "display_data",
          "data": {
            "text/plain": [
              "<IPython.core.display.HTML object>"
            ],
            "text/html": [
              "Syncing run <strong><a href='https://wandb.ai/ms-hate-life-/encoder_runs/runs/5sbylrk2' target=\"_blank\">VAE_runs_15</a></strong> to <a href='https://wandb.ai/ms-hate-life-/encoder_runs' target=\"_blank\">Weights & Biases</a> (<a href='https://wandb.me/developer-guide' target=\"_blank\">docs</a>)<br>"
            ]
          },
          "metadata": {}
        },
        {
          "output_type": "display_data",
          "data": {
            "text/plain": [
              "<IPython.core.display.HTML object>"
            ],
            "text/html": [
              " View project at <a href='https://wandb.ai/ms-hate-life-/encoder_runs' target=\"_blank\">https://wandb.ai/ms-hate-life-/encoder_runs</a>"
            ]
          },
          "metadata": {}
        },
        {
          "output_type": "display_data",
          "data": {
            "text/plain": [
              "<IPython.core.display.HTML object>"
            ],
            "text/html": [
              " View run at <a href='https://wandb.ai/ms-hate-life-/encoder_runs/runs/5sbylrk2' target=\"_blank\">https://wandb.ai/ms-hate-life-/encoder_runs/runs/5sbylrk2</a>"
            ]
          },
          "metadata": {}
        },
        {
          "output_type": "stream",
          "name": "stdout",
          "text": [
            "Trial 1067 finished!\n"
          ]
        },
        {
          "output_type": "display_data",
          "data": {
            "text/plain": [
              "<IPython.core.display.HTML object>"
            ],
            "text/html": []
          },
          "metadata": {}
        },
        {
          "output_type": "display_data",
          "data": {
            "text/plain": [
              "<IPython.core.display.HTML object>"
            ],
            "text/html": [
              "<br>    <style><br>        .wandb-row {<br>            display: flex;<br>            flex-direction: row;<br>            flex-wrap: wrap;<br>            justify-content: flex-start;<br>            width: 100%;<br>        }<br>        .wandb-col {<br>            display: flex;<br>            flex-direction: column;<br>            flex-basis: 100%;<br>            flex: 1;<br>            padding: 10px;<br>        }<br>    </style><br><div class=\"wandb-row\"><div class=\"wandb-col\"><h3>Run history:</h3><br/><table class=\"wandb\"><tr><td>peck_edible</td><td>██████▁██████▁███████████▁██████████▁███</td></tr><tr><td>second_order_similarity</td><td>▁</td></tr></table><br/></div><div class=\"wandb-col\"><h3>Run summary:</h3><br/><table class=\"wandb\"><tr><td>peck_edible</td><td>1</td></tr><tr><td>second_order_similarity</td><td>0.64756</td></tr></table><br/></div></div>"
            ]
          },
          "metadata": {}
        },
        {
          "output_type": "display_data",
          "data": {
            "text/plain": [
              "<IPython.core.display.HTML object>"
            ],
            "text/html": [
              " View run <strong style=\"color:#cdcd00\">VAE_runs_15</strong> at: <a href='https://wandb.ai/ms-hate-life-/encoder_runs/runs/5sbylrk2' target=\"_blank\">https://wandb.ai/ms-hate-life-/encoder_runs/runs/5sbylrk2</a><br> View project at: <a href='https://wandb.ai/ms-hate-life-/encoder_runs' target=\"_blank\">https://wandb.ai/ms-hate-life-/encoder_runs</a><br>Synced 5 W&B file(s), 0 media file(s), 0 artifact file(s) and 0 other file(s)"
            ]
          },
          "metadata": {}
        },
        {
          "output_type": "display_data",
          "data": {
            "text/plain": [
              "<IPython.core.display.HTML object>"
            ],
            "text/html": [
              "Find logs at: <code>./wandb/run-20250527_234307-5sbylrk2/logs</code>"
            ]
          },
          "metadata": {}
        },
        {
          "output_type": "display_data",
          "data": {
            "text/plain": [
              "<IPython.core.display.HTML object>"
            ],
            "text/html": [
              "Tracking run with wandb version 0.19.7"
            ]
          },
          "metadata": {}
        },
        {
          "output_type": "display_data",
          "data": {
            "text/plain": [
              "<IPython.core.display.HTML object>"
            ],
            "text/html": [
              "Run data is saved locally in <code>/content/wandb/run-20250527_234335-lzklp17e</code>"
            ]
          },
          "metadata": {}
        },
        {
          "output_type": "display_data",
          "data": {
            "text/plain": [
              "<IPython.core.display.HTML object>"
            ],
            "text/html": [
              "Syncing run <strong><a href='https://wandb.ai/ms-hate-life-/encoder_runs/runs/lzklp17e' target=\"_blank\">VAE_runs_15</a></strong> to <a href='https://wandb.ai/ms-hate-life-/encoder_runs' target=\"_blank\">Weights & Biases</a> (<a href='https://wandb.me/developer-guide' target=\"_blank\">docs</a>)<br>"
            ]
          },
          "metadata": {}
        },
        {
          "output_type": "display_data",
          "data": {
            "text/plain": [
              "<IPython.core.display.HTML object>"
            ],
            "text/html": [
              " View project at <a href='https://wandb.ai/ms-hate-life-/encoder_runs' target=\"_blank\">https://wandb.ai/ms-hate-life-/encoder_runs</a>"
            ]
          },
          "metadata": {}
        },
        {
          "output_type": "display_data",
          "data": {
            "text/plain": [
              "<IPython.core.display.HTML object>"
            ],
            "text/html": [
              " View run at <a href='https://wandb.ai/ms-hate-life-/encoder_runs/runs/lzklp17e' target=\"_blank\">https://wandb.ai/ms-hate-life-/encoder_runs/runs/lzklp17e</a>"
            ]
          },
          "metadata": {}
        },
        {
          "output_type": "stream",
          "name": "stdout",
          "text": [
            "Trial 1070 finished!\n"
          ]
        },
        {
          "output_type": "display_data",
          "data": {
            "text/plain": [
              "<IPython.core.display.HTML object>"
            ],
            "text/html": []
          },
          "metadata": {}
        },
        {
          "output_type": "display_data",
          "data": {
            "text/plain": [
              "<IPython.core.display.HTML object>"
            ],
            "text/html": [
              "<br>    <style><br>        .wandb-row {<br>            display: flex;<br>            flex-direction: row;<br>            flex-wrap: wrap;<br>            justify-content: flex-start;<br>            width: 100%;<br>        }<br>        .wandb-col {<br>            display: flex;<br>            flex-direction: column;<br>            flex-basis: 100%;<br>            flex: 1;<br>            padding: 10px;<br>        }<br>    </style><br><div class=\"wandb-row\"><div class=\"wandb-col\"><h3>Run history:</h3><br/><table class=\"wandb\"><tr><td>peck_edible</td><td>███▁█████████▁█████████▁██████▁█████████</td></tr><tr><td>second_order_similarity</td><td>▁</td></tr></table><br/></div><div class=\"wandb-col\"><h3>Run summary:</h3><br/><table class=\"wandb\"><tr><td>peck_edible</td><td>1</td></tr><tr><td>second_order_similarity</td><td>0.64418</td></tr></table><br/></div></div>"
            ]
          },
          "metadata": {}
        },
        {
          "output_type": "display_data",
          "data": {
            "text/plain": [
              "<IPython.core.display.HTML object>"
            ],
            "text/html": [
              " View run <strong style=\"color:#cdcd00\">VAE_runs_15</strong> at: <a href='https://wandb.ai/ms-hate-life-/encoder_runs/runs/lzklp17e' target=\"_blank\">https://wandb.ai/ms-hate-life-/encoder_runs/runs/lzklp17e</a><br> View project at: <a href='https://wandb.ai/ms-hate-life-/encoder_runs' target=\"_blank\">https://wandb.ai/ms-hate-life-/encoder_runs</a><br>Synced 5 W&B file(s), 0 media file(s), 0 artifact file(s) and 0 other file(s)"
            ]
          },
          "metadata": {}
        },
        {
          "output_type": "display_data",
          "data": {
            "text/plain": [
              "<IPython.core.display.HTML object>"
            ],
            "text/html": [
              "Find logs at: <code>./wandb/run-20250527_234335-lzklp17e/logs</code>"
            ]
          },
          "metadata": {}
        },
        {
          "output_type": "display_data",
          "data": {
            "text/plain": [
              "<IPython.core.display.HTML object>"
            ],
            "text/html": [
              "Tracking run with wandb version 0.19.7"
            ]
          },
          "metadata": {}
        },
        {
          "output_type": "display_data",
          "data": {
            "text/plain": [
              "<IPython.core.display.HTML object>"
            ],
            "text/html": [
              "Run data is saved locally in <code>/content/wandb/run-20250527_234404-sor9x9ds</code>"
            ]
          },
          "metadata": {}
        },
        {
          "output_type": "display_data",
          "data": {
            "text/plain": [
              "<IPython.core.display.HTML object>"
            ],
            "text/html": [
              "Syncing run <strong><a href='https://wandb.ai/ms-hate-life-/encoder_runs/runs/sor9x9ds' target=\"_blank\">VAE_runs_15</a></strong> to <a href='https://wandb.ai/ms-hate-life-/encoder_runs' target=\"_blank\">Weights & Biases</a> (<a href='https://wandb.me/developer-guide' target=\"_blank\">docs</a>)<br>"
            ]
          },
          "metadata": {}
        },
        {
          "output_type": "display_data",
          "data": {
            "text/plain": [
              "<IPython.core.display.HTML object>"
            ],
            "text/html": [
              " View project at <a href='https://wandb.ai/ms-hate-life-/encoder_runs' target=\"_blank\">https://wandb.ai/ms-hate-life-/encoder_runs</a>"
            ]
          },
          "metadata": {}
        },
        {
          "output_type": "display_data",
          "data": {
            "text/plain": [
              "<IPython.core.display.HTML object>"
            ],
            "text/html": [
              " View run at <a href='https://wandb.ai/ms-hate-life-/encoder_runs/runs/sor9x9ds' target=\"_blank\">https://wandb.ai/ms-hate-life-/encoder_runs/runs/sor9x9ds</a>"
            ]
          },
          "metadata": {}
        },
        {
          "output_type": "stream",
          "name": "stdout",
          "text": [
            "Trial 980 finished!\n"
          ]
        },
        {
          "output_type": "display_data",
          "data": {
            "text/plain": [
              "<IPython.core.display.HTML object>"
            ],
            "text/html": []
          },
          "metadata": {}
        },
        {
          "output_type": "display_data",
          "data": {
            "text/plain": [
              "<IPython.core.display.HTML object>"
            ],
            "text/html": [
              "<br>    <style><br>        .wandb-row {<br>            display: flex;<br>            flex-direction: row;<br>            flex-wrap: wrap;<br>            justify-content: flex-start;<br>            width: 100%;<br>        }<br>        .wandb-col {<br>            display: flex;<br>            flex-direction: column;<br>            flex-basis: 100%;<br>            flex: 1;<br>            padding: 10px;<br>        }<br>    </style><br><div class=\"wandb-row\"><div class=\"wandb-col\"><h3>Run history:</h3><br/><table class=\"wandb\"><tr><td>peck_edible</td><td>█████████████████████████████▁█████████▁</td></tr><tr><td>second_order_similarity</td><td>▁</td></tr></table><br/></div><div class=\"wandb-col\"><h3>Run summary:</h3><br/><table class=\"wandb\"><tr><td>peck_edible</td><td>0</td></tr><tr><td>second_order_similarity</td><td>0.65051</td></tr></table><br/></div></div>"
            ]
          },
          "metadata": {}
        },
        {
          "output_type": "display_data",
          "data": {
            "text/plain": [
              "<IPython.core.display.HTML object>"
            ],
            "text/html": [
              " View run <strong style=\"color:#cdcd00\">VAE_runs_15</strong> at: <a href='https://wandb.ai/ms-hate-life-/encoder_runs/runs/sor9x9ds' target=\"_blank\">https://wandb.ai/ms-hate-life-/encoder_runs/runs/sor9x9ds</a><br> View project at: <a href='https://wandb.ai/ms-hate-life-/encoder_runs' target=\"_blank\">https://wandb.ai/ms-hate-life-/encoder_runs</a><br>Synced 5 W&B file(s), 0 media file(s), 0 artifact file(s) and 0 other file(s)"
            ]
          },
          "metadata": {}
        },
        {
          "output_type": "display_data",
          "data": {
            "text/plain": [
              "<IPython.core.display.HTML object>"
            ],
            "text/html": [
              "Find logs at: <code>./wandb/run-20250527_234404-sor9x9ds/logs</code>"
            ]
          },
          "metadata": {}
        },
        {
          "output_type": "display_data",
          "data": {
            "text/plain": [
              "<IPython.core.display.HTML object>"
            ],
            "text/html": [
              "Tracking run with wandb version 0.19.7"
            ]
          },
          "metadata": {}
        },
        {
          "output_type": "display_data",
          "data": {
            "text/plain": [
              "<IPython.core.display.HTML object>"
            ],
            "text/html": [
              "Run data is saved locally in <code>/content/wandb/run-20250527_234433-djrl4z9o</code>"
            ]
          },
          "metadata": {}
        },
        {
          "output_type": "display_data",
          "data": {
            "text/plain": [
              "<IPython.core.display.HTML object>"
            ],
            "text/html": [
              "Syncing run <strong><a href='https://wandb.ai/ms-hate-life-/encoder_runs/runs/djrl4z9o' target=\"_blank\">VAE_runs_15</a></strong> to <a href='https://wandb.ai/ms-hate-life-/encoder_runs' target=\"_blank\">Weights & Biases</a> (<a href='https://wandb.me/developer-guide' target=\"_blank\">docs</a>)<br>"
            ]
          },
          "metadata": {}
        },
        {
          "output_type": "display_data",
          "data": {
            "text/plain": [
              "<IPython.core.display.HTML object>"
            ],
            "text/html": [
              " View project at <a href='https://wandb.ai/ms-hate-life-/encoder_runs' target=\"_blank\">https://wandb.ai/ms-hate-life-/encoder_runs</a>"
            ]
          },
          "metadata": {}
        },
        {
          "output_type": "display_data",
          "data": {
            "text/plain": [
              "<IPython.core.display.HTML object>"
            ],
            "text/html": [
              " View run at <a href='https://wandb.ai/ms-hate-life-/encoder_runs/runs/djrl4z9o' target=\"_blank\">https://wandb.ai/ms-hate-life-/encoder_runs/runs/djrl4z9o</a>"
            ]
          },
          "metadata": {}
        },
        {
          "output_type": "stream",
          "name": "stdout",
          "text": [
            "Trial 758 finished!\n"
          ]
        },
        {
          "output_type": "display_data",
          "data": {
            "text/plain": [
              "<IPython.core.display.HTML object>"
            ],
            "text/html": []
          },
          "metadata": {}
        },
        {
          "output_type": "display_data",
          "data": {
            "text/plain": [
              "<IPython.core.display.HTML object>"
            ],
            "text/html": [
              "<br>    <style><br>        .wandb-row {<br>            display: flex;<br>            flex-direction: row;<br>            flex-wrap: wrap;<br>            justify-content: flex-start;<br>            width: 100%;<br>        }<br>        .wandb-col {<br>            display: flex;<br>            flex-direction: column;<br>            flex-basis: 100%;<br>            flex: 1;<br>            padding: 10px;<br>        }<br>    </style><br><div class=\"wandb-row\"><div class=\"wandb-col\"><h3>Run history:</h3><br/><table class=\"wandb\"><tr><td>peck_edible</td><td>█████████████▁▁█████████████████████████</td></tr><tr><td>second_order_similarity</td><td>▁</td></tr></table><br/></div><div class=\"wandb-col\"><h3>Run summary:</h3><br/><table class=\"wandb\"><tr><td>peck_edible</td><td>1</td></tr><tr><td>second_order_similarity</td><td>0.64872</td></tr></table><br/></div></div>"
            ]
          },
          "metadata": {}
        },
        {
          "output_type": "display_data",
          "data": {
            "text/plain": [
              "<IPython.core.display.HTML object>"
            ],
            "text/html": [
              " View run <strong style=\"color:#cdcd00\">VAE_runs_15</strong> at: <a href='https://wandb.ai/ms-hate-life-/encoder_runs/runs/djrl4z9o' target=\"_blank\">https://wandb.ai/ms-hate-life-/encoder_runs/runs/djrl4z9o</a><br> View project at: <a href='https://wandb.ai/ms-hate-life-/encoder_runs' target=\"_blank\">https://wandb.ai/ms-hate-life-/encoder_runs</a><br>Synced 5 W&B file(s), 0 media file(s), 0 artifact file(s) and 0 other file(s)"
            ]
          },
          "metadata": {}
        },
        {
          "output_type": "display_data",
          "data": {
            "text/plain": [
              "<IPython.core.display.HTML object>"
            ],
            "text/html": [
              "Find logs at: <code>./wandb/run-20250527_234433-djrl4z9o/logs</code>"
            ]
          },
          "metadata": {}
        },
        {
          "output_type": "display_data",
          "data": {
            "text/plain": [
              "<IPython.core.display.HTML object>"
            ],
            "text/html": [
              "Tracking run with wandb version 0.19.7"
            ]
          },
          "metadata": {}
        },
        {
          "output_type": "display_data",
          "data": {
            "text/plain": [
              "<IPython.core.display.HTML object>"
            ],
            "text/html": [
              "Run data is saved locally in <code>/content/wandb/run-20250527_234501-08v7eb3h</code>"
            ]
          },
          "metadata": {}
        },
        {
          "output_type": "display_data",
          "data": {
            "text/plain": [
              "<IPython.core.display.HTML object>"
            ],
            "text/html": [
              "Syncing run <strong><a href='https://wandb.ai/ms-hate-life-/encoder_runs/runs/08v7eb3h' target=\"_blank\">VAE_runs_15</a></strong> to <a href='https://wandb.ai/ms-hate-life-/encoder_runs' target=\"_blank\">Weights & Biases</a> (<a href='https://wandb.me/developer-guide' target=\"_blank\">docs</a>)<br>"
            ]
          },
          "metadata": {}
        },
        {
          "output_type": "display_data",
          "data": {
            "text/plain": [
              "<IPython.core.display.HTML object>"
            ],
            "text/html": [
              " View project at <a href='https://wandb.ai/ms-hate-life-/encoder_runs' target=\"_blank\">https://wandb.ai/ms-hate-life-/encoder_runs</a>"
            ]
          },
          "metadata": {}
        },
        {
          "output_type": "display_data",
          "data": {
            "text/plain": [
              "<IPython.core.display.HTML object>"
            ],
            "text/html": [
              " View run at <a href='https://wandb.ai/ms-hate-life-/encoder_runs/runs/08v7eb3h' target=\"_blank\">https://wandb.ai/ms-hate-life-/encoder_runs/runs/08v7eb3h</a>"
            ]
          },
          "metadata": {}
        },
        {
          "output_type": "stream",
          "name": "stdout",
          "text": [
            "Trial 2621 finished!\n"
          ]
        },
        {
          "output_type": "display_data",
          "data": {
            "text/plain": [
              "<IPython.core.display.HTML object>"
            ],
            "text/html": []
          },
          "metadata": {}
        },
        {
          "output_type": "display_data",
          "data": {
            "text/plain": [
              "<IPython.core.display.HTML object>"
            ],
            "text/html": [
              "<br>    <style><br>        .wandb-row {<br>            display: flex;<br>            flex-direction: row;<br>            flex-wrap: wrap;<br>            justify-content: flex-start;<br>            width: 100%;<br>        }<br>        .wandb-col {<br>            display: flex;<br>            flex-direction: column;<br>            flex-basis: 100%;<br>            flex: 1;<br>            padding: 10px;<br>        }<br>    </style><br><div class=\"wandb-row\"><div class=\"wandb-col\"><h3>Run history:</h3><br/><table class=\"wandb\"><tr><td>peck_edible</td><td>▁▁▁▁▁▁▁▁▁▁▁▁▁▁▁▁▁▁▁▁▁▁▁▁▁▁▁▁▁▁▁▁▁▁▁▁▁▁▁▁</td></tr><tr><td>second_order_similarity</td><td>▁</td></tr></table><br/></div><div class=\"wandb-col\"><h3>Run summary:</h3><br/><table class=\"wandb\"><tr><td>peck_edible</td><td>1</td></tr><tr><td>second_order_similarity</td><td>0.64751</td></tr></table><br/></div></div>"
            ]
          },
          "metadata": {}
        },
        {
          "output_type": "display_data",
          "data": {
            "text/plain": [
              "<IPython.core.display.HTML object>"
            ],
            "text/html": [
              " View run <strong style=\"color:#cdcd00\">VAE_runs_15</strong> at: <a href='https://wandb.ai/ms-hate-life-/encoder_runs/runs/08v7eb3h' target=\"_blank\">https://wandb.ai/ms-hate-life-/encoder_runs/runs/08v7eb3h</a><br> View project at: <a href='https://wandb.ai/ms-hate-life-/encoder_runs' target=\"_blank\">https://wandb.ai/ms-hate-life-/encoder_runs</a><br>Synced 5 W&B file(s), 0 media file(s), 0 artifact file(s) and 0 other file(s)"
            ]
          },
          "metadata": {}
        },
        {
          "output_type": "display_data",
          "data": {
            "text/plain": [
              "<IPython.core.display.HTML object>"
            ],
            "text/html": [
              "Find logs at: <code>./wandb/run-20250527_234501-08v7eb3h/logs</code>"
            ]
          },
          "metadata": {}
        },
        {
          "output_type": "display_data",
          "data": {
            "text/plain": [
              "<IPython.core.display.HTML object>"
            ],
            "text/html": [
              "Tracking run with wandb version 0.19.7"
            ]
          },
          "metadata": {}
        },
        {
          "output_type": "display_data",
          "data": {
            "text/plain": [
              "<IPython.core.display.HTML object>"
            ],
            "text/html": [
              "Run data is saved locally in <code>/content/wandb/run-20250527_234539-xp6fbr0k</code>"
            ]
          },
          "metadata": {}
        },
        {
          "output_type": "display_data",
          "data": {
            "text/plain": [
              "<IPython.core.display.HTML object>"
            ],
            "text/html": [
              "Syncing run <strong><a href='https://wandb.ai/ms-hate-life-/encoder_runs/runs/xp6fbr0k' target=\"_blank\">VAE_runs_15</a></strong> to <a href='https://wandb.ai/ms-hate-life-/encoder_runs' target=\"_blank\">Weights & Biases</a> (<a href='https://wandb.me/developer-guide' target=\"_blank\">docs</a>)<br>"
            ]
          },
          "metadata": {}
        },
        {
          "output_type": "display_data",
          "data": {
            "text/plain": [
              "<IPython.core.display.HTML object>"
            ],
            "text/html": [
              " View project at <a href='https://wandb.ai/ms-hate-life-/encoder_runs' target=\"_blank\">https://wandb.ai/ms-hate-life-/encoder_runs</a>"
            ]
          },
          "metadata": {}
        },
        {
          "output_type": "display_data",
          "data": {
            "text/plain": [
              "<IPython.core.display.HTML object>"
            ],
            "text/html": [
              " View run at <a href='https://wandb.ai/ms-hate-life-/encoder_runs/runs/xp6fbr0k' target=\"_blank\">https://wandb.ai/ms-hate-life-/encoder_runs/runs/xp6fbr0k</a>"
            ]
          },
          "metadata": {}
        },
        {
          "output_type": "stream",
          "name": "stdout",
          "text": [
            "Trial 942 finished!\n"
          ]
        },
        {
          "output_type": "display_data",
          "data": {
            "text/plain": [
              "<IPython.core.display.HTML object>"
            ],
            "text/html": []
          },
          "metadata": {}
        },
        {
          "output_type": "display_data",
          "data": {
            "text/plain": [
              "<IPython.core.display.HTML object>"
            ],
            "text/html": [
              "<br>    <style><br>        .wandb-row {<br>            display: flex;<br>            flex-direction: row;<br>            flex-wrap: wrap;<br>            justify-content: flex-start;<br>            width: 100%;<br>        }<br>        .wandb-col {<br>            display: flex;<br>            flex-direction: column;<br>            flex-basis: 100%;<br>            flex: 1;<br>            padding: 10px;<br>        }<br>    </style><br><div class=\"wandb-row\"><div class=\"wandb-col\"><h3>Run history:</h3><br/><table class=\"wandb\"><tr><td>peck_edible</td><td>█▁████████████████████████████▁█████████</td></tr><tr><td>second_order_similarity</td><td>▁</td></tr></table><br/></div><div class=\"wandb-col\"><h3>Run summary:</h3><br/><table class=\"wandb\"><tr><td>peck_edible</td><td>1</td></tr><tr><td>second_order_similarity</td><td>0.64452</td></tr></table><br/></div></div>"
            ]
          },
          "metadata": {}
        },
        {
          "output_type": "display_data",
          "data": {
            "text/plain": [
              "<IPython.core.display.HTML object>"
            ],
            "text/html": [
              " View run <strong style=\"color:#cdcd00\">VAE_runs_15</strong> at: <a href='https://wandb.ai/ms-hate-life-/encoder_runs/runs/xp6fbr0k' target=\"_blank\">https://wandb.ai/ms-hate-life-/encoder_runs/runs/xp6fbr0k</a><br> View project at: <a href='https://wandb.ai/ms-hate-life-/encoder_runs' target=\"_blank\">https://wandb.ai/ms-hate-life-/encoder_runs</a><br>Synced 5 W&B file(s), 0 media file(s), 0 artifact file(s) and 0 other file(s)"
            ]
          },
          "metadata": {}
        },
        {
          "output_type": "display_data",
          "data": {
            "text/plain": [
              "<IPython.core.display.HTML object>"
            ],
            "text/html": [
              "Find logs at: <code>./wandb/run-20250527_234539-xp6fbr0k/logs</code>"
            ]
          },
          "metadata": {}
        },
        {
          "output_type": "display_data",
          "data": {
            "text/plain": [
              "<IPython.core.display.HTML object>"
            ],
            "text/html": [
              "Tracking run with wandb version 0.19.7"
            ]
          },
          "metadata": {}
        },
        {
          "output_type": "display_data",
          "data": {
            "text/plain": [
              "<IPython.core.display.HTML object>"
            ],
            "text/html": [
              "Run data is saved locally in <code>/content/wandb/run-20250527_234608-1p1eyf0b</code>"
            ]
          },
          "metadata": {}
        },
        {
          "output_type": "display_data",
          "data": {
            "text/plain": [
              "<IPython.core.display.HTML object>"
            ],
            "text/html": [
              "Syncing run <strong><a href='https://wandb.ai/ms-hate-life-/encoder_runs/runs/1p1eyf0b' target=\"_blank\">VAE_runs_15</a></strong> to <a href='https://wandb.ai/ms-hate-life-/encoder_runs' target=\"_blank\">Weights & Biases</a> (<a href='https://wandb.me/developer-guide' target=\"_blank\">docs</a>)<br>"
            ]
          },
          "metadata": {}
        },
        {
          "output_type": "display_data",
          "data": {
            "text/plain": [
              "<IPython.core.display.HTML object>"
            ],
            "text/html": [
              " View project at <a href='https://wandb.ai/ms-hate-life-/encoder_runs' target=\"_blank\">https://wandb.ai/ms-hate-life-/encoder_runs</a>"
            ]
          },
          "metadata": {}
        },
        {
          "output_type": "display_data",
          "data": {
            "text/plain": [
              "<IPython.core.display.HTML object>"
            ],
            "text/html": [
              " View run at <a href='https://wandb.ai/ms-hate-life-/encoder_runs/runs/1p1eyf0b' target=\"_blank\">https://wandb.ai/ms-hate-life-/encoder_runs/runs/1p1eyf0b</a>"
            ]
          },
          "metadata": {}
        },
        {
          "output_type": "stream",
          "name": "stdout",
          "text": [
            "Trial 959 finished!\n"
          ]
        },
        {
          "output_type": "display_data",
          "data": {
            "text/plain": [
              "<IPython.core.display.HTML object>"
            ],
            "text/html": []
          },
          "metadata": {}
        },
        {
          "output_type": "display_data",
          "data": {
            "text/plain": [
              "<IPython.core.display.HTML object>"
            ],
            "text/html": [
              "<br>    <style><br>        .wandb-row {<br>            display: flex;<br>            flex-direction: row;<br>            flex-wrap: wrap;<br>            justify-content: flex-start;<br>            width: 100%;<br>        }<br>        .wandb-col {<br>            display: flex;<br>            flex-direction: column;<br>            flex-basis: 100%;<br>            flex: 1;<br>            padding: 10px;<br>        }<br>    </style><br><div class=\"wandb-row\"><div class=\"wandb-col\"><h3>Run history:</h3><br/><table class=\"wandb\"><tr><td>peck_edible</td><td>██████▁█████▁███▁█▁██████████████████▁█▁</td></tr><tr><td>second_order_similarity</td><td>▁</td></tr></table><br/></div><div class=\"wandb-col\"><h3>Run summary:</h3><br/><table class=\"wandb\"><tr><td>peck_edible</td><td>0</td></tr><tr><td>second_order_similarity</td><td>0.64892</td></tr></table><br/></div></div>"
            ]
          },
          "metadata": {}
        },
        {
          "output_type": "display_data",
          "data": {
            "text/plain": [
              "<IPython.core.display.HTML object>"
            ],
            "text/html": [
              " View run <strong style=\"color:#cdcd00\">VAE_runs_15</strong> at: <a href='https://wandb.ai/ms-hate-life-/encoder_runs/runs/1p1eyf0b' target=\"_blank\">https://wandb.ai/ms-hate-life-/encoder_runs/runs/1p1eyf0b</a><br> View project at: <a href='https://wandb.ai/ms-hate-life-/encoder_runs' target=\"_blank\">https://wandb.ai/ms-hate-life-/encoder_runs</a><br>Synced 5 W&B file(s), 0 media file(s), 0 artifact file(s) and 0 other file(s)"
            ]
          },
          "metadata": {}
        },
        {
          "output_type": "display_data",
          "data": {
            "text/plain": [
              "<IPython.core.display.HTML object>"
            ],
            "text/html": [
              "Find logs at: <code>./wandb/run-20250527_234608-1p1eyf0b/logs</code>"
            ]
          },
          "metadata": {}
        },
        {
          "output_type": "display_data",
          "data": {
            "text/plain": [
              "<IPython.core.display.HTML object>"
            ],
            "text/html": [
              "Tracking run with wandb version 0.19.7"
            ]
          },
          "metadata": {}
        },
        {
          "output_type": "display_data",
          "data": {
            "text/plain": [
              "<IPython.core.display.HTML object>"
            ],
            "text/html": [
              "Run data is saved locally in <code>/content/wandb/run-20250527_234636-paotkcca</code>"
            ]
          },
          "metadata": {}
        },
        {
          "output_type": "display_data",
          "data": {
            "text/plain": [
              "<IPython.core.display.HTML object>"
            ],
            "text/html": [
              "Syncing run <strong><a href='https://wandb.ai/ms-hate-life-/encoder_runs/runs/paotkcca' target=\"_blank\">VAE_runs_15</a></strong> to <a href='https://wandb.ai/ms-hate-life-/encoder_runs' target=\"_blank\">Weights & Biases</a> (<a href='https://wandb.me/developer-guide' target=\"_blank\">docs</a>)<br>"
            ]
          },
          "metadata": {}
        },
        {
          "output_type": "display_data",
          "data": {
            "text/plain": [
              "<IPython.core.display.HTML object>"
            ],
            "text/html": [
              " View project at <a href='https://wandb.ai/ms-hate-life-/encoder_runs' target=\"_blank\">https://wandb.ai/ms-hate-life-/encoder_runs</a>"
            ]
          },
          "metadata": {}
        },
        {
          "output_type": "display_data",
          "data": {
            "text/plain": [
              "<IPython.core.display.HTML object>"
            ],
            "text/html": [
              " View run at <a href='https://wandb.ai/ms-hate-life-/encoder_runs/runs/paotkcca' target=\"_blank\">https://wandb.ai/ms-hate-life-/encoder_runs/runs/paotkcca</a>"
            ]
          },
          "metadata": {}
        },
        {
          "output_type": "stream",
          "name": "stdout",
          "text": [
            "Trial 989 finished!\n"
          ]
        },
        {
          "output_type": "display_data",
          "data": {
            "text/plain": [
              "<IPython.core.display.HTML object>"
            ],
            "text/html": []
          },
          "metadata": {}
        },
        {
          "output_type": "display_data",
          "data": {
            "text/plain": [
              "<IPython.core.display.HTML object>"
            ],
            "text/html": [
              "<br>    <style><br>        .wandb-row {<br>            display: flex;<br>            flex-direction: row;<br>            flex-wrap: wrap;<br>            justify-content: flex-start;<br>            width: 100%;<br>        }<br>        .wandb-col {<br>            display: flex;<br>            flex-direction: column;<br>            flex-basis: 100%;<br>            flex: 1;<br>            padding: 10px;<br>        }<br>    </style><br><div class=\"wandb-row\"><div class=\"wandb-col\"><h3>Run history:</h3><br/><table class=\"wandb\"><tr><td>peck_edible</td><td>████▁██████████▁█████████▁█▁█████▁██████</td></tr><tr><td>second_order_similarity</td><td>▁</td></tr></table><br/></div><div class=\"wandb-col\"><h3>Run summary:</h3><br/><table class=\"wandb\"><tr><td>peck_edible</td><td>1</td></tr><tr><td>second_order_similarity</td><td>0.64801</td></tr></table><br/></div></div>"
            ]
          },
          "metadata": {}
        },
        {
          "output_type": "display_data",
          "data": {
            "text/plain": [
              "<IPython.core.display.HTML object>"
            ],
            "text/html": [
              " View run <strong style=\"color:#cdcd00\">VAE_runs_15</strong> at: <a href='https://wandb.ai/ms-hate-life-/encoder_runs/runs/paotkcca' target=\"_blank\">https://wandb.ai/ms-hate-life-/encoder_runs/runs/paotkcca</a><br> View project at: <a href='https://wandb.ai/ms-hate-life-/encoder_runs' target=\"_blank\">https://wandb.ai/ms-hate-life-/encoder_runs</a><br>Synced 5 W&B file(s), 0 media file(s), 0 artifact file(s) and 0 other file(s)"
            ]
          },
          "metadata": {}
        },
        {
          "output_type": "display_data",
          "data": {
            "text/plain": [
              "<IPython.core.display.HTML object>"
            ],
            "text/html": [
              "Find logs at: <code>./wandb/run-20250527_234636-paotkcca/logs</code>"
            ]
          },
          "metadata": {}
        },
        {
          "output_type": "stream",
          "name": "stderr",
          "text": [
            "/usr/local/lib/python3.11/dist-packages/sklearn/manifold/_t_sne.py:1164: FutureWarning: 'n_iter' was renamed to 'max_iter' in version 1.5 and will be removed in 1.7.\n",
            "  warnings.warn(\n"
          ]
        },
        {
          "output_type": "display_data",
          "data": {
            "application/javascript": [
              "'use strict';\n",
              "(function(root) {\n",
              "  function now() {\n",
              "    return new Date();\n",
              "  }\n",
              "\n",
              "  const force = true;\n",
              "\n",
              "  if (typeof root._bokeh_onload_callbacks === \"undefined\" || force === true) {\n",
              "    root._bokeh_onload_callbacks = [];\n",
              "    root._bokeh_is_loading = undefined;\n",
              "  }\n",
              "\n",
              "const JS_MIME_TYPE = 'application/javascript';\n",
              "  const HTML_MIME_TYPE = 'text/html';\n",
              "  const EXEC_MIME_TYPE = 'application/vnd.bokehjs_exec.v0+json';\n",
              "  const CLASS_NAME = 'output_bokeh rendered_html';\n",
              "\n",
              "  /**\n",
              "   * Render data to the DOM node\n",
              "   */\n",
              "  function render(props, node) {\n",
              "    const script = document.createElement(\"script\");\n",
              "    node.appendChild(script);\n",
              "  }\n",
              "\n",
              "  /**\n",
              "   * Handle when an output is cleared or removed\n",
              "   */\n",
              "  function handleClearOutput(event, handle) {\n",
              "    function drop(id) {\n",
              "      const view = Bokeh.index.get_by_id(id)\n",
              "      if (view != null) {\n",
              "        view.model.document.clear()\n",
              "        Bokeh.index.delete(view)\n",
              "      }\n",
              "    }\n",
              "\n",
              "    const cell = handle.cell;\n",
              "\n",
              "    const id = cell.output_area._bokeh_element_id;\n",
              "    const server_id = cell.output_area._bokeh_server_id;\n",
              "\n",
              "    // Clean up Bokeh references\n",
              "    if (id != null) {\n",
              "      drop(id)\n",
              "    }\n",
              "\n",
              "    if (server_id !== undefined) {\n",
              "      // Clean up Bokeh references\n",
              "      const cmd_clean = \"from bokeh.io.state import curstate; print(curstate().uuid_to_server['\" + server_id + \"'].get_sessions()[0].document.roots[0]._id)\";\n",
              "      cell.notebook.kernel.execute(cmd_clean, {\n",
              "        iopub: {\n",
              "          output: function(msg) {\n",
              "            const id = msg.content.text.trim()\n",
              "            drop(id)\n",
              "          }\n",
              "        }\n",
              "      });\n",
              "      // Destroy server and session\n",
              "      const cmd_destroy = \"import bokeh.io.notebook as ion; ion.destroy_server('\" + server_id + \"')\";\n",
              "      cell.notebook.kernel.execute(cmd_destroy);\n",
              "    }\n",
              "  }\n",
              "\n",
              "  /**\n",
              "   * Handle when a new output is added\n",
              "   */\n",
              "  function handleAddOutput(event, handle) {\n",
              "    const output_area = handle.output_area;\n",
              "    const output = handle.output;\n",
              "\n",
              "    // limit handleAddOutput to display_data with EXEC_MIME_TYPE content only\n",
              "    if ((output.output_type != \"display_data\") || (!Object.prototype.hasOwnProperty.call(output.data, EXEC_MIME_TYPE))) {\n",
              "      return\n",
              "    }\n",
              "\n",
              "    const toinsert = output_area.element.find(\".\" + CLASS_NAME.split(' ')[0]);\n",
              "\n",
              "    if (output.metadata[EXEC_MIME_TYPE][\"id\"] !== undefined) {\n",
              "      toinsert[toinsert.length - 1].firstChild.textContent = output.data[JS_MIME_TYPE];\n",
              "      // store reference to embed id on output_area\n",
              "      output_area._bokeh_element_id = output.metadata[EXEC_MIME_TYPE][\"id\"];\n",
              "    }\n",
              "    if (output.metadata[EXEC_MIME_TYPE][\"server_id\"] !== undefined) {\n",
              "      const bk_div = document.createElement(\"div\");\n",
              "      bk_div.innerHTML = output.data[HTML_MIME_TYPE];\n",
              "      const script_attrs = bk_div.children[0].attributes;\n",
              "      for (let i = 0; i < script_attrs.length; i++) {\n",
              "        toinsert[toinsert.length - 1].firstChild.setAttribute(script_attrs[i].name, script_attrs[i].value);\n",
              "        toinsert[toinsert.length - 1].firstChild.textContent = bk_div.children[0].textContent\n",
              "      }\n",
              "      // store reference to server id on output_area\n",
              "      output_area._bokeh_server_id = output.metadata[EXEC_MIME_TYPE][\"server_id\"];\n",
              "    }\n",
              "  }\n",
              "\n",
              "  function register_renderer(events, OutputArea) {\n",
              "\n",
              "    function append_mime(data, metadata, element) {\n",
              "      // create a DOM node to render to\n",
              "      const toinsert = this.create_output_subarea(\n",
              "        metadata,\n",
              "        CLASS_NAME,\n",
              "        EXEC_MIME_TYPE\n",
              "      );\n",
              "      this.keyboard_manager.register_events(toinsert);\n",
              "      // Render to node\n",
              "      const props = {data: data, metadata: metadata[EXEC_MIME_TYPE]};\n",
              "      render(props, toinsert[toinsert.length - 1]);\n",
              "      element.append(toinsert);\n",
              "      return toinsert\n",
              "    }\n",
              "\n",
              "    /* Handle when an output is cleared or removed */\n",
              "    events.on('clear_output.CodeCell', handleClearOutput);\n",
              "    events.on('delete.Cell', handleClearOutput);\n",
              "\n",
              "    /* Handle when a new output is added */\n",
              "    events.on('output_added.OutputArea', handleAddOutput);\n",
              "\n",
              "    /**\n",
              "     * Register the mime type and append_mime function with output_area\n",
              "     */\n",
              "    OutputArea.prototype.register_mime_type(EXEC_MIME_TYPE, append_mime, {\n",
              "      /* Is output safe? */\n",
              "      safe: true,\n",
              "      /* Index of renderer in `output_area.display_order` */\n",
              "      index: 0\n",
              "    });\n",
              "  }\n",
              "\n",
              "  // register the mime type if in Jupyter Notebook environment and previously unregistered\n",
              "  if (root.Jupyter !== undefined) {\n",
              "    const events = require('base/js/events');\n",
              "    const OutputArea = require('notebook/js/outputarea').OutputArea;\n",
              "\n",
              "    if (OutputArea.prototype.mime_types().indexOf(EXEC_MIME_TYPE) == -1) {\n",
              "      register_renderer(events, OutputArea);\n",
              "    }\n",
              "  }\n",
              "  if (typeof (root._bokeh_timeout) === \"undefined\" || force === true) {\n",
              "    root._bokeh_timeout = Date.now() + 5000;\n",
              "    root._bokeh_failed_load = false;\n",
              "  }\n",
              "\n",
              "  const NB_LOAD_WARNING = {'data': {'text/html':\n",
              "     \"<div style='background-color: #fdd'>\\n\"+\n",
              "     \"<p>\\n\"+\n",
              "     \"BokehJS does not appear to have successfully loaded. If loading BokehJS from CDN, this \\n\"+\n",
              "     \"may be due to a slow or bad network connection. Possible fixes:\\n\"+\n",
              "     \"</p>\\n\"+\n",
              "     \"<ul>\\n\"+\n",
              "     \"<li>re-rerun `output_notebook()` to attempt to load from CDN again, or</li>\\n\"+\n",
              "     \"<li>use INLINE resources instead, as so:</li>\\n\"+\n",
              "     \"</ul>\\n\"+\n",
              "     \"<code>\\n\"+\n",
              "     \"from bokeh.resources import INLINE\\n\"+\n",
              "     \"output_notebook(resources=INLINE)\\n\"+\n",
              "     \"</code>\\n\"+\n",
              "     \"</div>\"}};\n",
              "\n",
              "  function display_loaded(error = null) {\n",
              "    const el = document.getElementById(null);\n",
              "    if (el != null) {\n",
              "      const html = (() => {\n",
              "        if (typeof root.Bokeh === \"undefined\") {\n",
              "          if (error == null) {\n",
              "            return \"BokehJS is loading ...\";\n",
              "          } else {\n",
              "            return \"BokehJS failed to load.\";\n",
              "          }\n",
              "        } else {\n",
              "          const prefix = `BokehJS ${root.Bokeh.version}`;\n",
              "          if (error == null) {\n",
              "            return `${prefix} successfully loaded.`;\n",
              "          } else {\n",
              "            return `${prefix} <b>encountered errors</b> while loading and may not function as expected.`;\n",
              "          }\n",
              "        }\n",
              "      })();\n",
              "      el.innerHTML = html;\n",
              "\n",
              "      if (error != null) {\n",
              "        const wrapper = document.createElement(\"div\");\n",
              "        wrapper.style.overflow = \"auto\";\n",
              "        wrapper.style.height = \"5em\";\n",
              "        wrapper.style.resize = \"vertical\";\n",
              "        const content = document.createElement(\"div\");\n",
              "        content.style.fontFamily = \"monospace\";\n",
              "        content.style.whiteSpace = \"pre-wrap\";\n",
              "        content.style.backgroundColor = \"rgb(255, 221, 221)\";\n",
              "        content.textContent = error.stack ?? error.toString();\n",
              "        wrapper.append(content);\n",
              "        el.append(wrapper);\n",
              "      }\n",
              "    } else if (Date.now() < root._bokeh_timeout) {\n",
              "      setTimeout(() => display_loaded(error), 100);\n",
              "    }\n",
              "  }\n",
              "\n",
              "  function run_callbacks() {\n",
              "    try {\n",
              "      root._bokeh_onload_callbacks.forEach(function(callback) {\n",
              "        if (callback != null)\n",
              "          callback();\n",
              "      });\n",
              "    } finally {\n",
              "      delete root._bokeh_onload_callbacks\n",
              "    }\n",
              "    console.debug(\"Bokeh: all callbacks have finished\");\n",
              "  }\n",
              "\n",
              "  function load_libs(css_urls, js_urls, callback) {\n",
              "    if (css_urls == null) css_urls = [];\n",
              "    if (js_urls == null) js_urls = [];\n",
              "\n",
              "    root._bokeh_onload_callbacks.push(callback);\n",
              "    if (root._bokeh_is_loading > 0) {\n",
              "      console.debug(\"Bokeh: BokehJS is being loaded, scheduling callback at\", now());\n",
              "      return null;\n",
              "    }\n",
              "    if (js_urls == null || js_urls.length === 0) {\n",
              "      run_callbacks();\n",
              "      return null;\n",
              "    }\n",
              "    console.debug(\"Bokeh: BokehJS not loaded, scheduling load and callback at\", now());\n",
              "    root._bokeh_is_loading = css_urls.length + js_urls.length;\n",
              "\n",
              "    function on_load() {\n",
              "      root._bokeh_is_loading--;\n",
              "      if (root._bokeh_is_loading === 0) {\n",
              "        console.debug(\"Bokeh: all BokehJS libraries/stylesheets loaded\");\n",
              "        run_callbacks()\n",
              "      }\n",
              "    }\n",
              "\n",
              "    function on_error(url) {\n",
              "      console.error(\"failed to load \" + url);\n",
              "    }\n",
              "\n",
              "    for (let i = 0; i < css_urls.length; i++) {\n",
              "      const url = css_urls[i];\n",
              "      const element = document.createElement(\"link\");\n",
              "      element.onload = on_load;\n",
              "      element.onerror = on_error.bind(null, url);\n",
              "      element.rel = \"stylesheet\";\n",
              "      element.type = \"text/css\";\n",
              "      element.href = url;\n",
              "      console.debug(\"Bokeh: injecting link tag for BokehJS stylesheet: \", url);\n",
              "      document.body.appendChild(element);\n",
              "    }\n",
              "\n",
              "    for (let i = 0; i < js_urls.length; i++) {\n",
              "      const url = js_urls[i];\n",
              "      const element = document.createElement('script');\n",
              "      element.onload = on_load;\n",
              "      element.onerror = on_error.bind(null, url);\n",
              "      element.async = false;\n",
              "      element.src = url;\n",
              "      console.debug(\"Bokeh: injecting script tag for BokehJS library: \", url);\n",
              "      document.head.appendChild(element);\n",
              "    }\n",
              "  };\n",
              "\n",
              "  function inject_raw_css(css) {\n",
              "    const element = document.createElement(\"style\");\n",
              "    element.appendChild(document.createTextNode(css));\n",
              "    document.body.appendChild(element);\n",
              "  }\n",
              "\n",
              "  const js_urls = [\"https://cdn.bokeh.org/bokeh/release/bokeh-3.6.3.min.js\", \"https://cdn.bokeh.org/bokeh/release/bokeh-gl-3.6.3.min.js\", \"https://cdn.bokeh.org/bokeh/release/bokeh-widgets-3.6.3.min.js\", \"https://cdn.bokeh.org/bokeh/release/bokeh-tables-3.6.3.min.js\", \"https://cdn.bokeh.org/bokeh/release/bokeh-mathjax-3.6.3.min.js\"];\n",
              "  const css_urls = [];\n",
              "\n",
              "  const inline_js = [    function(Bokeh) {\n",
              "      Bokeh.set_log_level(\"info\");\n",
              "    },\n",
              "function(Bokeh) {\n",
              "    }\n",
              "  ];\n",
              "\n",
              "  function run_inline_js() {\n",
              "    if (root.Bokeh !== undefined || force === true) {\n",
              "      try {\n",
              "            for (let i = 0; i < inline_js.length; i++) {\n",
              "      inline_js[i].call(root, root.Bokeh);\n",
              "    }\n",
              "\n",
              "      } catch (error) {throw error;\n",
              "      }} else if (Date.now() < root._bokeh_timeout) {\n",
              "      setTimeout(run_inline_js, 100);\n",
              "    } else if (!root._bokeh_failed_load) {\n",
              "      console.log(\"Bokeh: BokehJS failed to load within specified timeout.\");\n",
              "      root._bokeh_failed_load = true;\n",
              "    } else if (force !== true) {\n",
              "      const cell = $(document.getElementById(null)).parents('.cell').data().cell;\n",
              "      cell.output_area.append_execute_result(NB_LOAD_WARNING)\n",
              "    }\n",
              "  }\n",
              "\n",
              "  if (root._bokeh_is_loading === 0) {\n",
              "    console.debug(\"Bokeh: BokehJS loaded, going straight to plotting\");\n",
              "    run_inline_js();\n",
              "  } else {\n",
              "    load_libs(css_urls, js_urls, function() {\n",
              "      console.debug(\"Bokeh: BokehJS plotting callback run at\", now());\n",
              "      run_inline_js();\n",
              "    });\n",
              "  }\n",
              "}(window));"
            ],
            "application/vnd.bokehjs_load.v0+json": "'use strict';\n(function(root) {\n  function now() {\n    return new Date();\n  }\n\n  const force = true;\n\n  if (typeof root._bokeh_onload_callbacks === \"undefined\" || force === true) {\n    root._bokeh_onload_callbacks = [];\n    root._bokeh_is_loading = undefined;\n  }\n\n\n  if (typeof (root._bokeh_timeout) === \"undefined\" || force === true) {\n    root._bokeh_timeout = Date.now() + 5000;\n    root._bokeh_failed_load = false;\n  }\n\n  const NB_LOAD_WARNING = {'data': {'text/html':\n     \"<div style='background-color: #fdd'>\\n\"+\n     \"<p>\\n\"+\n     \"BokehJS does not appear to have successfully loaded. If loading BokehJS from CDN, this \\n\"+\n     \"may be due to a slow or bad network connection. Possible fixes:\\n\"+\n     \"</p>\\n\"+\n     \"<ul>\\n\"+\n     \"<li>re-rerun `output_notebook()` to attempt to load from CDN again, or</li>\\n\"+\n     \"<li>use INLINE resources instead, as so:</li>\\n\"+\n     \"</ul>\\n\"+\n     \"<code>\\n\"+\n     \"from bokeh.resources import INLINE\\n\"+\n     \"output_notebook(resources=INLINE)\\n\"+\n     \"</code>\\n\"+\n     \"</div>\"}};\n\n  function display_loaded(error = null) {\n    const el = document.getElementById(null);\n    if (el != null) {\n      const html = (() => {\n        if (typeof root.Bokeh === \"undefined\") {\n          if (error == null) {\n            return \"BokehJS is loading ...\";\n          } else {\n            return \"BokehJS failed to load.\";\n          }\n        } else {\n          const prefix = `BokehJS ${root.Bokeh.version}`;\n          if (error == null) {\n            return `${prefix} successfully loaded.`;\n          } else {\n            return `${prefix} <b>encountered errors</b> while loading and may not function as expected.`;\n          }\n        }\n      })();\n      el.innerHTML = html;\n\n      if (error != null) {\n        const wrapper = document.createElement(\"div\");\n        wrapper.style.overflow = \"auto\";\n        wrapper.style.height = \"5em\";\n        wrapper.style.resize = \"vertical\";\n        const content = document.createElement(\"div\");\n        content.style.fontFamily = \"monospace\";\n        content.style.whiteSpace = \"pre-wrap\";\n        content.style.backgroundColor = \"rgb(255, 221, 221)\";\n        content.textContent = error.stack ?? error.toString();\n        wrapper.append(content);\n        el.append(wrapper);\n      }\n    } else if (Date.now() < root._bokeh_timeout) {\n      setTimeout(() => display_loaded(error), 100);\n    }\n  }\n\n  function run_callbacks() {\n    try {\n      root._bokeh_onload_callbacks.forEach(function(callback) {\n        if (callback != null)\n          callback();\n      });\n    } finally {\n      delete root._bokeh_onload_callbacks\n    }\n    console.debug(\"Bokeh: all callbacks have finished\");\n  }\n\n  function load_libs(css_urls, js_urls, callback) {\n    if (css_urls == null) css_urls = [];\n    if (js_urls == null) js_urls = [];\n\n    root._bokeh_onload_callbacks.push(callback);\n    if (root._bokeh_is_loading > 0) {\n      console.debug(\"Bokeh: BokehJS is being loaded, scheduling callback at\", now());\n      return null;\n    }\n    if (js_urls == null || js_urls.length === 0) {\n      run_callbacks();\n      return null;\n    }\n    console.debug(\"Bokeh: BokehJS not loaded, scheduling load and callback at\", now());\n    root._bokeh_is_loading = css_urls.length + js_urls.length;\n\n    function on_load() {\n      root._bokeh_is_loading--;\n      if (root._bokeh_is_loading === 0) {\n        console.debug(\"Bokeh: all BokehJS libraries/stylesheets loaded\");\n        run_callbacks()\n      }\n    }\n\n    function on_error(url) {\n      console.error(\"failed to load \" + url);\n    }\n\n    for (let i = 0; i < css_urls.length; i++) {\n      const url = css_urls[i];\n      const element = document.createElement(\"link\");\n      element.onload = on_load;\n      element.onerror = on_error.bind(null, url);\n      element.rel = \"stylesheet\";\n      element.type = \"text/css\";\n      element.href = url;\n      console.debug(\"Bokeh: injecting link tag for BokehJS stylesheet: \", url);\n      document.body.appendChild(element);\n    }\n\n    for (let i = 0; i < js_urls.length; i++) {\n      const url = js_urls[i];\n      const element = document.createElement('script');\n      element.onload = on_load;\n      element.onerror = on_error.bind(null, url);\n      element.async = false;\n      element.src = url;\n      console.debug(\"Bokeh: injecting script tag for BokehJS library: \", url);\n      document.head.appendChild(element);\n    }\n  };\n\n  function inject_raw_css(css) {\n    const element = document.createElement(\"style\");\n    element.appendChild(document.createTextNode(css));\n    document.body.appendChild(element);\n  }\n\n  const js_urls = [\"https://cdn.bokeh.org/bokeh/release/bokeh-3.6.3.min.js\", \"https://cdn.bokeh.org/bokeh/release/bokeh-gl-3.6.3.min.js\", \"https://cdn.bokeh.org/bokeh/release/bokeh-widgets-3.6.3.min.js\", \"https://cdn.bokeh.org/bokeh/release/bokeh-tables-3.6.3.min.js\", \"https://cdn.bokeh.org/bokeh/release/bokeh-mathjax-3.6.3.min.js\"];\n  const css_urls = [];\n\n  const inline_js = [    function(Bokeh) {\n      Bokeh.set_log_level(\"info\");\n    },\nfunction(Bokeh) {\n    }\n  ];\n\n  function run_inline_js() {\n    if (root.Bokeh !== undefined || force === true) {\n      try {\n            for (let i = 0; i < inline_js.length; i++) {\n      inline_js[i].call(root, root.Bokeh);\n    }\n\n      } catch (error) {throw error;\n      }} else if (Date.now() < root._bokeh_timeout) {\n      setTimeout(run_inline_js, 100);\n    } else if (!root._bokeh_failed_load) {\n      console.log(\"Bokeh: BokehJS failed to load within specified timeout.\");\n      root._bokeh_failed_load = true;\n    } else if (force !== true) {\n      const cell = $(document.getElementById(null)).parents('.cell').data().cell;\n      cell.output_area.append_execute_result(NB_LOAD_WARNING)\n    }\n  }\n\n  if (root._bokeh_is_loading === 0) {\n    console.debug(\"Bokeh: BokehJS loaded, going straight to plotting\");\n    run_inline_js();\n  } else {\n    load_libs(css_urls, js_urls, function() {\n      console.debug(\"Bokeh: BokehJS plotting callback run at\", now());\n      run_inline_js();\n    });\n  }\n}(window));"
          },
          "metadata": {}
        },
        {
          "output_type": "stream",
          "name": "stderr",
          "text": [
            "WARNING:bokeh.core.validation.check:W-1008 (PALETTE_LENGTH_FACTORS_MISMATCH): Palette length does not match number of factors: ['inedible_wrong'] will be assigned to `nan_color` gray\n"
          ]
        },
        {
          "output_type": "display_data",
          "data": {
            "text/html": [
              "\n",
              "  <div id=\"cf612044-8e8b-4a57-b9e2-070a6bdd6fb5\" data-root-id=\"p1060\" style=\"display: contents;\"></div>\n"
            ]
          },
          "metadata": {}
        },
        {
          "output_type": "display_data",
          "data": {
            "application/javascript": [
              "(function(root) {\n",
              "  function embed_document(root) {\n",
              "  const docs_json = {\"ccb889f1-6905-4eb8-921f-5f2d4e1caa20\":{\"version\":\"3.6.3\",\"title\":\"Bokeh Application\",\"roots\":[{\"type\":\"object\",\"name\":\"Figure\",\"id\":\"p1060\",\"attributes\":{\"width\":400,\"height\":400,\"x_range\":{\"type\":\"object\",\"name\":\"DataRange1d\",\"id\":\"p1061\"},\"y_range\":{\"type\":\"object\",\"name\":\"DataRange1d\",\"id\":\"p1062\"},\"x_scale\":{\"type\":\"object\",\"name\":\"LinearScale\",\"id\":\"p1069\"},\"y_scale\":{\"type\":\"object\",\"name\":\"LinearScale\",\"id\":\"p1070\"},\"title\":{\"type\":\"object\",\"name\":\"Title\",\"id\":\"p1067\"},\"renderers\":[{\"type\":\"object\",\"name\":\"GlyphRenderer\",\"id\":\"p1106\",\"attributes\":{\"data_source\":{\"type\":\"object\",\"name\":\"ColumnDataSource\",\"id\":\"p1096\",\"attributes\":{\"selected\":{\"type\":\"object\",\"name\":\"Selection\",\"id\":\"p1097\",\"attributes\":{\"indices\":[],\"line_indices\":[]}},\"selection_policy\":{\"type\":\"object\",\"name\":\"UnionRenderers\",\"id\":\"p1098\"},\"data\":{\"type\":\"map\",\"entries\":[[\"index\",{\"type\":\"ndarray\",\"array\":{\"type\":\"bytes\",\"data\":\"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\"},\"shape\":[1000],\"dtype\":\"int32\",\"order\":\"little\"}],[\"x\",{\"type\":\"ndarray\",\"array\":{\"type\":\"bytes\",\"data\":\"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\"},\"shape\":[1000],\"dtype\":\"float32\",\"order\":\"little\"}],[\"y\",{\"type\":\"ndarray\",\"array\":{\"type\":\"bytes\",\"data\":\"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\"},\"shape\":[1000],\"dtype\":\"float32\",\"order\":\"little\"}],[\"label\",{\"type\":\"ndarray\",\"array\":{\"type\":\"bytes\",\"data\":\"AAAAAAAAAAAAAAAAAQAAAAEAAAABAAAAAQAAAAEAAAABAAAAAAAAAAAAAAABAAAAAQAAAAAAAAABAAAAAQAAAAEAAAABAAAAAQAAAAAAAAAAAAAAAAAAAAAAAAAAAAAAAAAAAAEAAAAAAAAAAQAAAAEAAAABAAAAAQAAAAEAAAABAAAAAQAAAAEAAAAAAAAAAAAAAAAAAAAAAAAAAQAAAAAAAAAAAAAAAAAAAAEAAAAAAAAAAQAAAAAAAAAAAAAAAAAAAAAAAAABAAAAAQAAAAEAAAAAAAAAAQAAAAAAAAAAAAAAAAAAAAAAAAAAAAAAAAAAAAEAAAABAAAAAQAAAAAAAAAAAAAAAQAAAAAAAAAAAAAAAAAAAAAAAAABAAAAAAAAAAAAAAABAAAAAQAAAAAAAAAAAAAAAQAAAAEAAAABAAAAAQAAAAAAAAAAAAAAAAAAAAAAAAABAAAAAAAAAAAAAAAAAAAAAAAAAAAAAAAAAAAAAAAAAAEAAAAAAAAAAAAAAAEAAAABAAAAAQAAAAEAAAAAAAAAAQAAAAAAAAAAAAAAAAAAAAEAAAABAAAAAQAAAAAAAAABAAAAAQAAAAEAAAABAAAAAQAAAAAAAAABAAAAAQAAAAAAAAAAAAAAAQAAAAAAAAAAAAAAAAAAAAAAAAAAAAAAAAAAAAAAAAAAAAAAAAAAAAAAAAAAAAAAAAAAAAAAAAAAAAAAAQAAAAAAAAAAAAAAAAAAAAAAAAAAAAAAAAAAAAEAAAAAAAAAAAAAAAEAAAAAAAAAAAAAAAEAAAAAAAAAAAAAAAAAAAAAAAAAAQAAAAAAAAABAAAAAQAAAAAAAAAAAAAAAQAAAAAAAAAAAAAAAQAAAAEAAAABAAAAAQAAAAAAAAAAAAAAAQAAAAEAAAABAAAAAAAAAAAAAAABAAAAAAAAAAAAAAAAAAAAAAAAAAAAAAAAAAAAAQAAAAAAAAAAAAAAAQAAAAEAAAABAAAAAQAAAAAAAAABAAAAAQAAAAEAAAABAAAAAAAAAAEAAAABAAAAAQAAAAEAAAABAAAAAQAAAAAAAAAAAAAAAAAAAAEAAAAAAAAAAAAAAAEAAAABAAAAAQAAAAEAAAABAAAAAQAAAAAAAAAAAAAAAAAAAAAAAAABAAAAAAAAAAAAAAAAAAAAAQAAAAAAAAAAAAAAAAAAAAAAAAAAAAAAAAAAAAAAAAAAAAAAAAAAAAEAAAAAAAAAAQAAAAAAAAAAAAAAAQAAAAEAAAABAAAAAAAAAAEAAAABAAAAAAAAAAAAAAABAAAAAQAAAAAAAAABAAAAAAAAAAAAAAAAAAAAAQAAAAAAAAAAAAAAAAAAAAAAAAAAAAAAAAAAAAAAAAAAAAAAAAAAAAEAAAABAAAAAQAAAAEAAAABAAAAAQAAAAAAAAAAAAAAAQAAAAEAAAAAAAAAAAAAAAAAAAAAAAAAAAAAAAAAAAAAAAAAAQAAAAAAAAABAAAAAAAAAAAAAAABAAAAAQAAAAEAAAABAAAAAAAAAAEAAAAAAAAAAQAAAAAAAAAAAAAAAAAAAAAAAAAAAAAAAQAAAAEAAAAAAAAAAAAAAAAAAAABAAAAAQAAAAEAAAABAAAAAAAAAAAAAAAAAAAAAAAAAAAAAAAAAAAAAAAAAAAAAAAAAAAAAAAAAAAAAAABAAAAAQAAAAEAAAAAAAAAAAAAAAAAAAAAAAAAAAAAAAAAAAAAAAAAAAAAAAAAAAABAAAAAQAAAAAAAAABAAAAAQAAAAAAAAAAAAAAAQAAAAAAAAABAAAAAQAAAAEAAAAAAAAAAAAAAAAAAAAAAAAAAQAAAAAAAAABAAAAAQAAAAEAAAABAAAAAAAAAAEAAAABAAAAAQAAAAEAAAABAAAAAQAAAAEAAAABAAAAAQAAAAEAAAABAAAAAAAAAAEAAAAAAAAAAAAAAAEAAAABAAAAAQAAAAEAAAABAAAAAQAAAAAAAAAAAAAAAAAAAAEAAAABAAAAAAAAAAEAAAAAAAAAAAAAAAAAAAAAAAAAAAAAAAAAAAABAAAAAQAAAAEAAAAAAAAAAQAAAAEAAAABAAAAAQAAAAEAAAAAAAAAAQAAAAEAAAAAAAAAAQAAAAEAAAABAAAAAAAAAAEAAAABAAAAAQAAAAEAAAABAAAAAQAAAAEAAAABAAAAAAAAAAEAAAABAAAAAAAAAAAAAAABAAAAAQAAAAEAAAAAAAAAAAAAAAAAAAAAAAAAAQAAAAAAAAAAAAAAAAAAAAEAAAAAAAAAAAAAAAAAAAAAAAAAAAAAAAAAAAAAAAAAAQAAAAEAAAABAAAAAAAAAAAAAAABAAAAAQAAAAEAAAABAAAAAQAAAAEAAAABAAAAAQAAAAEAAAAAAAAAAAAAAAEAAAAAAAAAAQAAAAAAAAAAAAAAAQAAAAAAAAAAAAAAAAAAAAAAAAAAAAAAAAAAAAAAAAABAAAAAAAAAAAAAAAAAAAAAAAAAAAAAAAAAAAAAAAAAAAAAAAAAAAAAAAAAAAAAAAAAAAAAAAAAAAAAAAAAAAAAAAAAAEAAAABAAAAAAAAAAAAAAAAAAAAAAAAAAAAAAAAAAAAAAAAAAAAAAAAAAAAAAAAAAEAAAABAAAAAQAAAAEAAAABAAAAAAAAAAEAAAAAAAAAAAAAAAAAAAAAAAAAAAAAAAEAAAAAAAAAAAAAAAEAAAAAAAAAAAAAAAAAAAABAAAAAQAAAAEAAAABAAAAAQAAAAEAAAABAAAAAQAAAAEAAAABAAAAAAAAAAAAAAABAAAAAAAAAAAAAAAAAAAAAQAAAAAAAAAAAAAAAAAAAAEAAAAAAAAAAAAAAAAAAAAAAAAAAQAAAAEAAAAAAAAAAAAAAAAAAAAAAAAAAAAAAAAAAAABAAAAAQAAAAEAAAABAAAAAQAAAAEAAAABAAAAAAAAAAEAAAAAAAAAAAAAAAEAAAABAAAAAAAAAAAAAAAAAAAAAQAAAAEAAAABAAAAAAAAAAAAAAAAAAAAAAAAAAAAAAABAAAAAQAAAAEAAAABAAAAAAAAAAEAAAABAAAAAQAAAAAAAAAAAAAAAAAAAAAAAAABAAAAAQAAAAEAAAABAAAAAQAAAAAAAAAAAAAAAQAAAAAAAAABAAAAAQAAAAAAAAAAAAAAAQAAAAAAAAABAAAAAQAAAAAAAAAAAAAAAAAAAAAAAAAAAAAAAQAAAAEAAAABAAAAAQAAAAEAAAABAAAAAQAAAAEAAAABAAAAAQAAAAAAAAAAAAAAAAAAAAEAAAABAAAAAQAAAAEAAAAAAAAAAAAAAAEAAAABAAAAAAAAAAAAAAAAAAAAAAAAAAAAAAAAAAAAAQAAAAEAAAAAAAAAAQAAAAEAAAAAAAAAAQAAAAEAAAABAAAAAQAAAAAAAAABAAAAAQAAAAAAAAABAAAAAAAAAAEAAAAAAAAAAAAAAAEAAAAAAAAAAAAAAAEAAAAAAAAAAQAAAAEAAAAAAAAAAAAAAAEAAAAAAAAAAAAAAAAAAAABAAAAAQAAAAEAAAABAAAAAAAAAAAAAAAAAAAAAAAAAAEAAAABAAAAAQAAAAEAAAABAAAAAQAAAAEAAAAAAAAAAAAAAAAAAAAAAAAAAAAAAAEAAAABAAAAAAAAAAAAAAAAAAAAAAAAAAAAAAAAAAAAAQAAAAEAAAABAAAAAQAAAAAAAAABAAAAAAAAAAAAAAAAAAAAAAAAAAAAAAAAAAAAAAAAAAAAAAAAAAAAAAAAAAAAAAAAAAAAAAAAAAEAAAAAAAAAAQAAAAEAAAABAAAAAAAAAAAAAAABAAAAAQAAAAEAAAABAAAAAAAAAAEAAAABAAAAAAAAAAAAAAAAAAAAAAAAAAAAAAABAAAAAQAAAAEAAAABAAAAAQAAAAEAAAABAAAAAQAAAAEAAAABAAAAAQAAAAEAAAABAAAAAAAAAAAAAAAAAAAAAAAAAAAAAAAAAAAAAAAAAAAAAAAAAAAAAAAAAAAAAAAAAAAAAAAAAAAAAAAAAAAAAQAAAAEAAAABAAAAAQAAAAEAAAAAAAAAAAAAAAAAAAABAAAAAAAAAAAAAAAAAAAAAQAAAAAAAAAAAAAAAAAAAAEAAAAAAAAAAQAAAAEAAAABAAAAAAAAAAAAAAABAAAAAAAAAAAAAAABAAAAAQAAAAEAAAABAAAAAQAAAAEAAAAAAAAAAQAAAAAAAAABAAAAAAAAAAEAAAAAAAAAAQAAAAAAAAABAAAAAAAAAAAAAAAAAAAAAQAAAAEAAAAAAAAAAAAAAAAAAAABAAAAAAAAAAAAAAAAAAAAAAAAAAAAAAAAAAAAAAAAAAAAAAAAAAAAAQAAAAAAAAAAAAAAAAAAAAAAAAAAAAAAAAAAAAAAAAAAAAAAAAAAAAAAAAABAAAAAQAAAAEAAAAAAAAAAQAAAAAAAAAAAAAAAAAAAAAAAAAAAAAAAAAAAAEAAAAAAAAAAAAAAAAAAAAAAAAAAQAAAAAAAAABAAAAAAAAAAEAAAABAAAAAAAAAAAAAAAAAAAAAAAAAAAAAAAAAAAAAAAAAAEAAAABAAAAAQAAAAEAAAABAAAAAQAAAAAAAAAAAAAAAAAAAAAAAAAAAAAAAAAAAAAAAAABAAAAAAAAAAAAAAAAAAAAAAAAAAAAAAAAAAAAAAAAAAAAAAAAAAAAAAAAAAEAAAABAAAAAAAAAAEAAAABAAAAAAAAAAAAAAAAAAAAAAAAAAEAAAABAAAAAQAAAAEAAAABAAAAAQAAAAAAAAABAAAAAAAAAAEAAAAAAAAAAAAAAAEAAAAAAAAAAAAAAAAAAAAAAAAAAAAAAAAAAAAAAAAAAAAAAAEAAAAAAAAAAQAAAAAAAAAAAAAAAQAAAAEAAAAAAAAAAQAAAAAAAAABAAAAAAAAAAAAAAABAAAAAQAAAAEAAAABAAAAAAAAAAAAAAAAAAAAAQAAAAEAAAABAAAAAAAAAAAAAAABAAAAAQAAAAEAAAABAAAAAAAAAAEAAAAAAAAAAAAAAAEAAAABAAAAAQAAAAEAAAABAAAAAQAAAAEAAAABAAAAAQAAAAEAAAABAAAAAQAAAAEAAAABAAAAAAAAAAEAAAAAAAAAAQAAAAEAAAAAAAAAAQAAAAEAAAABAAAAAAAAAAAAAAAAAAAAAQAAAAEAAAABAAAAAAAAAAAAAAAAAAAAAAAAAAAAAAAAAAAAAAAAAAAAAAAAAAAAAQAAAAEAAAAAAAAAAAAAAAAAAAABAAAAAAAAAAAAAAAAAAAAAAAAAAAAAAAAAAAAAAAAAAAAAAAAAAAAAQAAAAAAAAAAAAAAAAAAAAAAAAAAAAAAAAAAAA==\"},\"shape\":[1000],\"dtype\":\"int32\",\"order\":\"little\"}],[\"tsne_x\",{\"type\":\"ndarray\",\"array\":{\"type\":\"bytes\",\"data\":\"FX0gQxV9IEOEARdDPQFIQprMikFt6mDBRZD6QHUgt0FKgtZBaVSCwrqX+kHWx7jCCeLxv/VkGEM/DEdCPwxHQhe+YUI/DEdCOXBdQrkCHEPnTf1CYj7yQqxZTkHVfIVB8V1wQecm1sKgwAlDYwlkQtTeEcOvKm1A2uqtwq8qbUA1FwvDNRcLwzUXC8N/77ZCDYP2wkE8/UJtyDDCbw4DQ3XFX8KVIEvC8gRZwqUBRkIcmPdCddrIwht46MIbeOjCG3jowht46MLLlmHBy5ZhwSuHBcPYEyZDy5ZhwRJFCEMSRQhDEkUIQxJFCEMSRQhDaHFcwvLE68JcapdCIxTowlUFWkOmr5ZDitLNwv3OVUP1vFhDa1tbQ57uq8KK0s3CuEq0QuVMIkNOjpnCuJDGwlMQScJTEEnCSZgaQkmYGkKqba1CByc/QvAX/ELsf19DVaNeQyQ7lkO6+hLDdUCFwvkNCEP5DQhD+Q0IQ9s2g8Io+nTCXbTOwvfnfcFdtM7CXbTOwmWAUsH3533BSI6dwdoOLMN1bKJD6jpDQkJkn0OpvJ5DkPShQ0DpacLNTULDzU1Cw5D0oUPMxHzCo/tjwaP7Y8FKy4NCKIXYwYREXkOSa6/CO22hwisgmsKn+ZXC3H2IQhZimcIu4a1CLgWvQt/dY0CL/vtBZSwXw2UsF8P5mRbDEpwcwzH6D8Nf6A/DZSwXw/o6FcP6OhXD4Z8RQ2W6WkIxNJhCip9/wjM5nEJ/CdJCoQKeQ4WoX0JOuTBDLpMsQlymY8Kk7AtDpOwLQwA9k0I1wVRD3Oo8QdzqPEHc6jxBqGlIQYmSUkNC8rjC9bKHQt41hkPeNYZDRMXlwuuJIMLMx5rCPWGrQvyUIkGBVyLC2O4Fww+HIkJYFPzC9wXJwvcFycIhZgvDiJf8woy3NEL3BcnC+6CGQvughkL7oIZCqxNhQQs+LUGrE2FBPfWtQotlpsK1TKfC9tu3Qub9uEJ3TbjCiFGpwhzy7ULgg6rC4juQQh8RgsIxLVbCIECYwkCl58KldtvCZkquQtFJy8HRScvB2r3mwXPNnMK+NYRD2+DoQqTlnEL+J/3CZYL8QhwpKUEB67bCAeu2wjbpz8K8n9/CdfDWwp6GxkKlrcZCmxK+Qn1jV8IJXsfCmfWCQ7a748LDSs9Ce529wprVGEOVNRlDePTFwi5+vsIQPlNDtGZIQy0TNkMsgzhDALJJwtGZoEF3mrTC8VnUQVLbbsIHTBtDMmaOQjJmjkINNIBAIrCqwqcx/MAZiKjCR+1+Q5EOgkPBTmRCr02sQguYVUM04YnCyKsbQ/hUeUNgAHtD/dx7wsirG0PIqxtDeKt/Q6SDjMI0LITCkgYvwvqWTUP6lk1DgVx6QycRfsLO+oVCdgh9Qtt0ZUKv+ltCz2CyQSBfAcMgXwHDH9pBQSehbkErOT5Db2JjQ+R4ZkMhqmJDlmYjQCBfAcNBuj0+9ygDQyeFG0M4IgdCr84dQzJ/U0NbfdxCLHDjQvaRaEFTrgVDdgJnQ8Kz+UJ4lBbCHFQEQ+0Q+EJDTkRDenSAQ3p0gEM7OpVD9kvPQodWzEJRU5hDuA8iQrgPIkKd76NBYoX5QXv100EZmspBjWF8Q+rjokJ4N69C1KsNw5ngIsMVgiTDLYMfw28pj0JvKY9C1KsNw/EYqMIjdkrD7mHiwocAJEG14CBDteAgQ7XgIEPYFcnCjxBHQ423wsJG47rC2/NJQ1piQ0McfkfDHH5Hw+RUR0PaSQbDdssPwwiQTENYEUtDHH5Hw7mURkPy7QjDCJVXws20YcLyzltDugVfQz9lE0GLYBbAYOt0wo2gHkFLjInCbL9UwylLUsMkAUnDAfDXQiQBScMkAUnDB1xPwwdcT8MHXE/DB1xPwxTGRMPB4VjDweFYwxTGRMNI8uLCTUaGQ0oAt8HvNc/CZH7GwquDQcPapUbDeI9Ow3iPTsN4j07DeI9Ow7UYscLdE7nC3RO5wpmuGMGZrhjBmkyswl3zIUJ/jnJDf45yQ2MzbEMNUxJDZ5PLwpPGw8LVfz3CdxGXwrjHx8Ld6I3C17ypwoKqCEKfITRBiz6owRhW18I9sGfC17ypwgWpt8LXSnjC17ypwil4nMKGtJTCOz3MwkQ/lEJmT4xCzJ2CQp/WTUKuLiJBpjkwQihgy8BUFMjAEYHIwvDfmcJYAI1CDNtKQwzbSkM6TubCq3mXQkZbqsK19cDCy3+4wvVqwsK19cDCMWrIQpaEn8IeXopDJoGHQ1oe/MJm5Z3CK/WJQ3xacsIr9YlDk7umwjFOAEMr9YlDCwdhwqqoS8KqqEvCk7umwiv1iUPLJN1CKHvQQih70EL7Q7bC5Ii+wkEnu8JAXavAo6ofwYg9A8LmPRRDvk0TQ+vGEsOD+w1DdtiHwoP7DUOD+w1DdtiHwt9q60KD+w1Dg/sNQ+Y9FEPmPRRDvk0TQzJlhkLynj7B0T+OQuIZKkODEW6/PjfHv74/JUHgjXFD4I1xQ+CNcUPgjXFDJZR3QxGSBEHVBHBBS86eQbb3q0Hu/JpDnMcvQm9LasKjDGnCVheDQpOdckK2j6TB/3+NwhTfHMLQGjXC8CldQXI07ULwKV1BzMa+QrqnB8KVKHXCk2v6QpUodcJOSg3DzMa+Qjnt/cHTJMFC0yTBQqW3nUGedEbCDPfVQsGYn0KYheBCsQxPQ7VdDEJyRkhDFY5EQ5TUA0NwAM/Ca26sQP9EQEE4KHVB+/kZQUpvV0BuGGtBwrvXQFZt7kApG5Q/bUKVQggV7kH+soBCg84NQ6roDUN6qw5D5CHEwnBnhEJQrxVDUK8VQ9uPjcJDTHBCkgl5QlCvFUNQrxVDI1G8wuksyMKDLNFCISraQsU13ULRLhRDrGkhQ4bCIEOv1IbCRhaxQnxDB0OHj2/BOmtqQIq2zr8BGxdCek08Q2GIEcLFgCzC2vfGviptsUJhiBHCl50IQ2rkCENgMT3CKnUowofCR8LVL5NCmhstwjhtP8J0FxrDceY+wwkYRMNpDVDDaQ1Qw2kNUMNpDVDDyhV4QVsW58LYQNLCIuy5Qt8y18IVdtrCovAyQKLwMkBPmaRCT5mkQrwSOcB8tbU/7t96QL+P6ELI6bZCDlXfwjhZgEKusY7Ca84UwjNfIsIzXyLCDymTwrTJ70IZd9fChbviwqO4ucLNS6/CzUuvwqO4ucIPT7zCmb03w8qcMsNypzTDe+M1w1Vx+sKdq5XCfDBJw5Y2P8KWNj/CljY/wuKqOMPiqjjD4qo4w9t3A8P0AJdCc6qYQtt3A8PWKfFCndtSQl229cD8Zb5C8r6HQ6vR38ILAUXBKi6Mwf7pjsLss6nChvfRwrVm5cKHwjBD82zbwkLNqUEJoZBDEKAUQr+EpMJ+b8JBEKAUQiH7OkMOY3pCs+5/Qifz38LoJaFC30fXwpirsEIPzH/CXAqbwpzl2MIBIKHCktS/wq+aUkLfmW/CbbunQkiygsIHET5ByYy2wlbWn0Ith6zCBxE+QfixtsII63zCocGFwfBjSMEIdMzCLHHUQlO7BEME8wlDyl9bQ3e9w8IQA7jC0Pa3wo4PwcJkS67CUHiqwpBftMIg8WXCWqI9Q+btpcJfkVhDvTBCQne9w8La1bZCANl2wthILMK+4zXCwrISwxeMFcOnbTFDh7DgQoew4ELB5t7C6sLZwqdtMUP7dj1BiaISw8J190Jd2WxDF1eqwhdXqsJRxzzCokE3QxtHgUPoMLtCxeC3Qg1E9kJtSwFDWml9Q8yPc0Kxq4BD7qdAQu6nQELup0BChTIiQx/KCEPSYl3BfB2LwaAwJsFmvyTC0RuoQn62pcGgMCbB+jpawSKWh8ExC7jBVwPewZSsv8Lz4wHDtXIfwiPLLMKd65BBN2JzwsSyWMJIhUXDecAsQs2SW8KWVp1BEQvXwhEL18IgVUjCuLuBQ7i7gUPF+VZBI5ZmQQgRPEOGFDZDxPNbwyXAWsMmQEfDJkBHwyZAR8MmQEfDMF5Cw943W8O/bFVD+uTHwvrkx8JZ0FDDWdBQw1nQUMMmQEfDVtNWw09Lh0FFUH1CqL04QT0jlkAJhWHDGRwIwaskTcLURPtCqyRNwqgFNULURPtCFA2jQnJ2rEGoBTVC/I0ZQvyNGUIZVCBCbsbSwqaqyMKoBTVCa1PiQR35p0HBN6pBPdKMQAJwr0JXB1xDrnVBQX/WMEMw1LzCXvIbQxslocJe8htDxUhSwl7yG0MBmsfCf9YwQ4nFNkOaz2nC5orlQBAhckF8eRxDd3b+QjRqAkOsoTzDOHAJw0H0DkOZSw5DhKopQyP6EcMfXYBDhKopQ4SqKUOQp35DchnlwhYYgkPFRA3DFvELw8VEDcOZSw5DC7EYQ23p3EI2dNlCdwIdQ8VFtEJk5HXCDCaowrCDN8JJFCvCTWdKwl8J/EJfCfxCXwn8QkVb/EJFW/xCXwn8QueEiMLHTDtDglcOQxG6LkOTIhNDXQZVwUdZ2cLR6FpCnP/XwgbMCkOlLf9CuA0ywothBcOLYQXDDFGMwmTchUHAY7JBrQWEwinIN0Dfx2HBrI+mwrahr8KGQHLB8lwMwx3qFkOiOZRDkGVAQX4JnEPSqhVDw4MOQ4cke8IVogDDdjSCwhgoDkMYKA5DJB2YQ6U3jUOlN41DXr9/QbZ9DEEkHZhDJB2YQzf2BcNJJgHDJB2YQ+ZQ8cJW9ujCw+0FQ5rEbEP7uHhD9Y5FwoNJxUHH6IpCpjpWQZdqa8KHJ+FACAmRQg0M+kJe97FBDQz6Qqi3ikKKjgPDFcGPwqb8pEKGQpfCz1zWwnem5UI2hQDD0I/3wuSUecEIjJRDFRcJQmSUM0GTm1TCJ8pPQKOo9UIlWD1D1t6vwPzBVsACVUnCz3jmv5ObVMK1IwO/k5tUwpObVMJOUJVCLFeLQtu6fkJ8qmVCdJmOQ1oymkMvuYzCogkbQX1iZEA01oJBoP+QQ6D/kEOKxaJBMU6IQSvlWkFo5ABBm6zawmP4KkEvuYzCoP+QQ29Pp0JXdmNBeTgYQTH3tz/TSkTDcidBw7jwV8OEXC5CuPBXw3ULWMMOnkVCCmE3QgphN0Ji+bbCvyMvQ90ABEJtDiJCcyz6QWNuekKPk7fCxdmFwVO9mUK+JHbB1C2cQyybmkM1Xr9CUQodQ1EKHUNRCh1DSbi8QgZptkIGabZCBmm2QgZptkIGabZCHvqeQ2Y4nEMGabZCUQodQ1EKHUMH8rrCwd9zQOB58kCmmCrDsbFUws2+AsPtewvDoWfIwvXNxcI15QjDybwgwzXlCMM15QjDzZg/w/nZvMJkmmLCZJpiwrW4kEO1uJBDtbiQQw==\"},\"shape\":[1000],\"dtype\":\"float32\",\"order\":\"little\"}],[\"tsne_y\",{\"type\":\"ndarray\",\"array\":{\"type\":\"bytes\",\"data\":\"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\"},\"shape\":[1000],\"dtype\":\"float32\",\"order\":\"little\"}],[\"preds\",{\"type\":\"ndarray\",\"array\":{\"type\":\"bytes\",\"data\":\"AAAAAAAAAAAAAAAAAAAAAAAAAAAAAAAAAAAAAAEAAAABAAAAAAAAAAAAAAABAAAAAQAAAAAAAAABAAAAAQAAAAEAAAABAAAAAQAAAAAAAAAAAAAAAAAAAAAAAAAAAAAAAAAAAAEAAAAAAAAAAAAAAAEAAAABAAAAAQAAAAEAAAABAAAAAQAAAAEAAAAAAAAAAAAAAAAAAAAAAAAAAAAAAAAAAAAAAAAAAAAAAAAAAAAAAAAAAQAAAAAAAAAAAAAAAAAAAAAAAAABAAAAAQAAAAAAAAAAAAAAAQAAAAAAAAAAAAAAAAAAAAAAAAAAAAAAAAAAAAAAAAAAAAAAAAAAAAAAAAAAAAAAAQAAAAAAAAAAAAAAAAAAAAAAAAABAAAAAAAAAAAAAAABAAAAAQAAAAAAAAAAAAAAAQAAAAEAAAAAAAAAAAAAAAAAAAAAAAAAAAAAAAAAAAABAAAAAAAAAAAAAAAAAAAAAAAAAAAAAAAAAAAAAAAAAAAAAAAAAAAAAAAAAAAAAAAAAAAAAAAAAAAAAAAAAAAAAAAAAAAAAAAAAAAAAAAAAAEAAAAAAAAAAAAAAAAAAAABAAAAAQAAAAEAAAAAAAAAAQAAAAAAAAABAAAAAQAAAAAAAAAAAAAAAAAAAAAAAAAAAAAAAAAAAAAAAAAAAAAAAAAAAAAAAAAAAAAAAAAAAAAAAAAAAAAAAAAAAAAAAAAAAAAAAAAAAAAAAAAAAAAAAAAAAAAAAAAAAAAAAAAAAAAAAAAAAAAAAAAAAAAAAAAAAAAAAAAAAAAAAAAAAAAAAAAAAAAAAAAAAAAAAQAAAAAAAAABAAAAAAAAAAAAAAAAAAAAAQAAAAAAAAAAAAAAAAAAAAAAAAAAAAAAAQAAAAAAAAABAAAAAQAAAAEAAAABAAAAAQAAAAAAAAABAAAAAAAAAAAAAAAAAAAAAAAAAAAAAAAAAAAAAAAAAAAAAAAAAAAAAAAAAAAAAAABAAAAAQAAAAAAAAABAAAAAAAAAAEAAAAAAAAAAAAAAAEAAAABAAAAAAAAAAEAAAABAAAAAQAAAAAAAAAAAAAAAAAAAAAAAAAAAAAAAAAAAAEAAAABAAAAAQAAAAEAAAABAAAAAQAAAAAAAAAAAAAAAAAAAAAAAAABAAAAAAAAAAEAAAAAAAAAAQAAAAAAAAAAAAAAAAAAAAAAAAAAAAAAAAAAAAAAAAAAAAAAAAAAAAEAAAAAAAAAAQAAAAAAAAAAAAAAAAAAAAAAAAABAAAAAAAAAAEAAAABAAAAAAAAAAAAAAAAAAAAAAAAAAAAAAAAAAAAAAAAAAAAAAAAAAAAAAAAAAAAAAAAAAAAAAAAAAAAAAAAAAAAAAAAAAAAAAAAAAAAAAAAAAAAAAAAAAAAAAAAAAAAAAAAAAAAAAAAAAAAAAAAAAAAAQAAAAEAAAAAAAAAAAAAAAAAAAAAAAAAAAAAAAAAAAAAAAAAAAAAAAAAAAAAAAAAAAAAAAAAAAAAAAAAAAAAAAAAAAAAAAAAAAAAAAAAAAAAAAAAAAAAAAAAAAAAAAAAAAAAAAAAAAAAAAAAAAAAAAAAAAAAAAAAAAAAAAAAAAAAAAAAAAAAAAAAAAAAAAAAAAAAAAAAAAAAAAAAAAAAAAAAAAAAAAAAAAAAAAAAAAAAAAAAAAAAAAAAAAAAAAAAAQAAAAEAAAAAAAAAAAAAAAAAAAAAAAAAAAAAAAAAAAAAAAAAAAAAAAAAAAAAAAAAAAAAAAAAAAAAAAAAAAAAAAAAAAAAAAAAAAAAAAAAAAABAAAAAAAAAAAAAAAAAAAAAAAAAAAAAAAAAAAAAAAAAAAAAAAAAAAAAAAAAAAAAAAAAAAAAAAAAAAAAAAAAAAAAAAAAAAAAAAAAAAAAAAAAAAAAAAAAAAAAAAAAAAAAAABAAAAAAAAAAAAAAAAAAAAAAAAAAAAAAAAAAAAAAAAAAAAAAAAAAAAAAAAAAAAAAAAAAAAAAAAAAEAAAABAAAAAAAAAAEAAAAAAAAAAAAAAAAAAAAAAAAAAAAAAAAAAAAAAAAAAAAAAAEAAAAAAAAAAQAAAAEAAAABAAAAAQAAAAEAAAAAAAAAAQAAAAEAAAAAAAAAAQAAAAEAAAABAAAAAAAAAAAAAAAAAAAAAAAAAAAAAAAAAAAAAAAAAAEAAAABAAAAAAAAAAEAAAAAAAAAAAAAAAAAAAABAAAAAAAAAAEAAAAAAAAAAAAAAAAAAAAAAAAAAAAAAAAAAAAAAAAAAAAAAAAAAAAAAAAAAAAAAAAAAAAAAAAAAAAAAAAAAAAAAAAAAQAAAAEAAAABAAAAAAAAAAAAAAAAAAAAAAAAAAAAAAAAAAAAAAAAAAAAAAAAAAAAAAAAAAEAAAAAAAAAAAAAAAAAAAAAAAAAAQAAAAAAAAAAAAAAAQAAAAAAAAAAAAAAAAAAAAAAAAAAAAAAAAAAAAAAAAAAAAAAAAAAAAAAAAAAAAAAAAAAAAAAAAAAAAAAAAAAAAAAAAAAAAAAAAAAAAAAAAAAAAAAAAAAAAAAAAAAAAAAAAAAAAAAAAAAAAAAAAAAAAAAAAAAAAAAAAAAAAAAAAAAAAAAAAAAAAAAAAAAAAAAAAAAAAEAAAAAAAAAAAAAAAAAAAABAAAAAAAAAAEAAAAAAAAAAAAAAAAAAAAAAAAAAAAAAAAAAAAAAAAAAAAAAAAAAAAAAAAAAAAAAAAAAAABAAAAAQAAAAEAAAABAAAAAQAAAAEAAAABAAAAAQAAAAEAAAABAAAAAAAAAAAAAAAAAAAAAAAAAAAAAAAAAAAAAQAAAAAAAAAAAAAAAAAAAAEAAAAAAAAAAAAAAAAAAAAAAAAAAQAAAAEAAAAAAAAAAAAAAAAAAAAAAAAAAAAAAAAAAAAAAAAAAAAAAAAAAAABAAAAAQAAAAEAAAAAAAAAAAAAAAAAAAAAAAAAAQAAAAAAAAAAAAAAAAAAAAAAAAAAAAAAAAAAAAAAAAAAAAAAAAAAAAAAAAAAAAAAAAAAAAAAAAAAAAAAAAAAAAAAAAAAAAAAAQAAAAEAAAABAAAAAAAAAAEAAAABAAAAAAAAAAAAAAAAAAAAAAAAAAAAAAAAAAAAAAAAAAAAAAAAAAAAAQAAAAAAAAABAAAAAAAAAAAAAAAAAAAAAQAAAAAAAAABAAAAAQAAAAAAAAAAAAAAAAAAAAAAAAAAAAAAAAAAAAAAAAAAAAAAAAAAAAAAAAABAAAAAAAAAAEAAAABAAAAAQAAAAAAAAAAAAAAAAAAAAEAAAAAAAAAAAAAAAEAAAAAAAAAAAAAAAEAAAAAAAAAAAAAAAAAAAAAAAAAAAAAAAAAAAAAAAAAAQAAAAEAAAAAAAAAAQAAAAAAAAAAAAAAAAAAAAEAAAABAAAAAAAAAAAAAAAAAAAAAAAAAAAAAAAAAAAAAAAAAAAAAAAAAAAAAAAAAAEAAAAAAAAAAAAAAAAAAAAAAAAAAAAAAAEAAAAAAAAAAQAAAAAAAAABAAAAAAAAAAEAAAABAAAAAAAAAAAAAAAAAAAAAAAAAAAAAAAAAAAAAAAAAAEAAAABAAAAAQAAAAEAAAABAAAAAQAAAAEAAAAAAAAAAAAAAAAAAAAAAAAAAAAAAAEAAAAAAAAAAAAAAAAAAAAAAAAAAAAAAAAAAAAAAAAAAAAAAAAAAAABAAAAAQAAAAAAAAABAAAAAAAAAAAAAAAAAAAAAAAAAAAAAAAAAAAAAAAAAAAAAAAAAAAAAAAAAAAAAAAAAAAAAAAAAAAAAAAAAAAAAAAAAAAAAAAAAAAAAAAAAAAAAAABAAAAAQAAAAEAAAABAAAAAAAAAAEAAAABAAAAAAAAAAAAAAAAAAAAAAAAAAAAAAABAAAAAQAAAAEAAAABAAAAAQAAAAEAAAAAAAAAAQAAAAEAAAABAAAAAQAAAAEAAAABAAAAAAAAAAAAAAAAAAAAAAAAAAAAAAAAAAAAAAAAAAAAAAAAAAAAAAAAAAAAAAAAAAAAAAAAAAAAAAAAAAAAAQAAAAEAAAAAAAAAAAAAAAAAAAAAAAAAAAAAAAAAAAAAAAAAAAAAAAAAAAAAAAAAAAAAAAAAAAAAAAAAAAAAAAEAAAAAAAAAAAAAAAEAAAABAAAAAAAAAAAAAAABAAAAAAAAAAAAAAABAAAAAAAAAAAAAAAAAAAAAAAAAAAAAAAAAAAAAQAAAAAAAAABAAAAAAAAAAEAAAAAAAAAAAAAAAAAAAABAAAAAAAAAAAAAAAAAAAAAQAAAAEAAAAAAAAAAAAAAAAAAAAAAAAAAAAAAAAAAAAAAAAAAAAAAAAAAAAAAAAAAAAAAAAAAAAAAAAAAQAAAAAAAAAAAAAAAAAAAAAAAAAAAAAAAAAAAAAAAAAAAAAAAAAAAAAAAAAAAAAAAQAAAAAAAAAAAAAAAAAAAAAAAAAAAAAAAAAAAAAAAAAAAAAAAAAAAAEAAAAAAAAAAAAAAAAAAAAAAAAAAAAAAAAAAAAAAAAAAAAAAAAAAAAAAAAAAAAAAAAAAAAAAAAAAAAAAAEAAAABAAAAAAAAAAEAAAABAAAAAQAAAAEAAAABAAAAAQAAAAAAAAAAAAAAAAAAAAAAAAAAAAAAAAAAAAAAAAAAAAAAAAAAAAAAAAAAAAAAAAAAAAAAAAAAAAAAAAAAAAAAAAAAAAAAAAAAAAAAAAAAAAAAAAAAAAAAAAAAAAAAAAAAAAAAAAAAAAAAAAAAAAEAAAAAAAAAAQAAAAEAAAABAAAAAAAAAAAAAAABAAAAAAAAAAAAAAAAAAAAAAAAAAAAAAAAAAAAAAAAAAAAAAAAAAAAAAAAAAAAAAAAAAAAAQAAAAEAAAAAAAAAAQAAAAAAAAAAAAAAAQAAAAEAAAAAAAAAAQAAAAAAAAABAAAAAAAAAAAAAAAAAAAAAAAAAAAAAAAAAAAAAAAAAAAAAAAAAAAAAQAAAAEAAAABAAAAAAAAAAAAAAABAAAAAQAAAAEAAAABAAAAAAAAAAEAAAAAAAAAAAAAAAAAAAAAAAAAAAAAAAAAAAAAAAAAAAAAAAAAAAABAAAAAAAAAAAAAAABAAAAAQAAAAEAAAABAAAAAAAAAAAAAAAAAAAAAAAAAAAAAAAAAAAAAAAAAAAAAAAAAAAAAAAAAAAAAAAAAAAAAAAAAAAAAAAAAAAAAAAAAAAAAAAAAAAAAAAAAAAAAAAAAAAAAAAAAAAAAAAAAAAAAAAAAAAAAAAAAAAAAAAAAAAAAAAAAAAAAAAAAAAAAAAAAAAAAAAAAAAAAAAAAAAAAAAAAAAAAAAAAAAAAAAAAAAAAAAAAAAAAAAAAAAAAAAAAAAAAAAAAA==\"},\"shape\":[1000],\"dtype\":\"int32\",\"order\":\"little\"}],[\"preds_vs_labels\",{\"type\":\"ndarray\",\"array\":[\"inedible_correct\",\"inedible_correct\",\"inedible_correct\",\"edible_wrong\",\"edible_wrong\",\"edible_wrong\",\"edible_wrong\",\"edible_correct\",\"edible_correct\",\"inedible_correct\",\"inedible_correct\",\"edible_correct\",\"edible_correct\",\"inedible_correct\",\"edible_correct\",\"edible_correct\",\"edible_correct\",\"edible_correct\",\"edible_correct\",\"inedible_correct\",\"inedible_correct\",\"inedible_correct\",\"inedible_correct\",\"inedible_correct\",\"inedible_correct\",\"edible_correct\",\"inedible_correct\",\"edible_wrong\",\"edible_correct\",\"edible_correct\",\"edible_correct\",\"edible_correct\",\"edible_correct\",\"edible_correct\",\"edible_correct\",\"inedible_correct\",\"inedible_correct\",\"inedible_correct\",\"inedible_correct\",\"edible_wrong\",\"inedible_correct\",\"inedible_correct\",\"inedible_correct\",\"edible_wrong\",\"inedible_correct\",\"edible_correct\",\"inedible_correct\",\"inedible_correct\",\"inedible_correct\",\"inedible_correct\",\"edible_correct\",\"edible_correct\",\"edible_wrong\",\"inedible_correct\",\"edible_correct\",\"inedible_correct\",\"inedible_correct\",\"inedible_correct\",\"inedible_correct\",\"inedible_correct\",\"inedible_correct\",\"edible_wrong\",\"edible_wrong\",\"edible_wrong\",\"inedible_correct\",\"inedible_correct\",\"edible_correct\",\"inedible_correct\",\"inedible_correct\",\"inedible_correct\",\"inedible_correct\",\"edible_correct\",\"inedible_correct\",\"inedible_correct\",\"edible_correct\",\"edible_correct\",\"inedible_correct\",\"inedible_correct\",\"edible_correct\",\"edible_correct\",\"edible_wrong\",\"edible_wrong\",\"inedible_correct\",\"inedible_correct\",\"inedible_correct\",\"inedible_correct\",\"edible_correct\",\"inedible_correct\",\"inedible_correct\",\"inedible_correct\",\"inedible_correct\",\"inedible_correct\",\"inedible_correct\",\"inedible_correct\",\"edible_wrong\",\"inedible_correct\",\"inedible_correct\",\"edible_wrong\",\"edible_wrong\",\"edible_wrong\",\"edible_wrong\",\"inedible_correct\",\"edible_wrong\",\"inedible_correct\",\"inedible_correct\",\"inedible_correct\",\"edible_correct\",\"edible_wrong\",\"edible_wrong\",\"inedible_correct\",\"edible_correct\",\"edible_correct\",\"edible_correct\",\"edible_wrong\",\"edible_correct\",\"inedible_correct\",\"edible_correct\",\"edible_correct\",\"inedible_correct\",\"inedible_correct\",\"edible_wrong\",\"inedible_correct\",\"inedible_correct\",\"inedible_correct\",\"inedible_correct\",\"inedible_correct\",\"inedible_correct\",\"inedible_correct\",\"inedible_correct\",\"inedible_correct\",\"inedible_correct\",\"inedible_correct\",\"inedible_correct\",\"inedible_correct\",\"inedible_correct\",\"edible_wrong\",\"inedible_correct\",\"inedible_correct\",\"inedible_correct\",\"inedible_correct\",\"inedible_correct\",\"inedible_correct\",\"edible_wrong\",\"inedible_correct\",\"inedible_correct\",\"edible_wrong\",\"inedible_correct\",\"inedible_correct\",\"edible_wrong\",\"inedible_correct\",\"inedible_correct\",\"inedible_correct\",\"inedible_correct\",\"edible_correct\",\"inedible_correct\",\"edible_correct\",\"edible_wrong\",\"inedible_correct\",\"inedible_correct\",\"edible_correct\",\"inedible_correct\",\"inedible_correct\",\"edible_wrong\",\"edible_wrong\",\"edible_wrong\",\"edible_correct\",\"inedible_correct\",\"inedible_wrong\",\"edible_correct\",\"edible_correct\",\"edible_correct\",\"inedible_wrong\",\"inedible_correct\",\"edible_correct\",\"inedible_correct\",\"inedible_correct\",\"inedible_correct\",\"inedible_correct\",\"inedible_correct\",\"inedible_correct\",\"edible_wrong\",\"inedible_correct\",\"inedible_correct\",\"edible_wrong\",\"edible_wrong\",\"edible_correct\",\"edible_correct\",\"inedible_correct\",\"edible_correct\",\"edible_wrong\",\"edible_correct\",\"edible_wrong\",\"inedible_correct\",\"edible_correct\",\"edible_correct\",\"edible_wrong\",\"edible_correct\",\"edible_correct\",\"edible_correct\",\"inedible_correct\",\"inedible_correct\",\"inedible_correct\",\"edible_wrong\",\"inedible_correct\",\"inedible_correct\",\"edible_correct\",\"edible_correct\",\"edible_correct\",\"edible_correct\",\"edible_correct\",\"edible_correct\",\"inedible_correct\",\"inedible_correct\",\"inedible_correct\",\"inedible_correct\",\"edible_correct\",\"inedible_correct\",\"inedible_wrong\",\"inedible_correct\",\"edible_correct\",\"inedible_correct\",\"inedible_correct\",\"inedible_correct\",\"inedible_correct\",\"inedible_correct\",\"inedible_correct\",\"inedible_correct\",\"inedible_correct\",\"inedible_correct\",\"edible_correct\",\"inedible_correct\",\"edible_correct\",\"inedible_correct\",\"inedible_correct\",\"edible_wrong\",\"edible_wrong\",\"edible_correct\",\"inedible_correct\",\"edible_correct\",\"edible_correct\",\"inedible_correct\",\"inedible_correct\",\"edible_wrong\",\"edible_wrong\",\"inedible_correct\",\"edible_wrong\",\"inedible_correct\",\"inedible_correct\",\"inedible_correct\",\"edible_wrong\",\"inedible_correct\",\"inedible_correct\",\"inedible_correct\",\"inedible_correct\",\"inedible_correct\",\"inedible_correct\",\"inedible_correct\",\"inedible_correct\",\"inedible_correct\",\"edible_wrong\",\"edible_wrong\",\"edible_wrong\",\"edible_wrong\",\"edible_wrong\",\"edible_wrong\",\"inedible_correct\",\"inedible_correct\",\"edible_correct\",\"edible_correct\",\"inedible_correct\",\"inedible_correct\",\"inedible_correct\",\"inedible_correct\",\"inedible_correct\",\"inedible_correct\",\"inedible_correct\",\"edible_wrong\",\"inedible_correct\",\"edible_wrong\",\"inedible_correct\",\"inedible_correct\",\"edible_wrong\",\"edible_wrong\",\"edible_wrong\",\"edible_wrong\",\"inedible_correct\",\"edible_wrong\",\"inedible_correct\",\"edible_wrong\",\"inedible_correct\",\"inedible_correct\",\"inedible_correct\",\"inedible_correct\",\"inedible_correct\",\"edible_wrong\",\"edible_wrong\",\"inedible_correct\",\"inedible_correct\",\"inedible_correct\",\"edible_wrong\",\"edible_wrong\",\"edible_wrong\",\"edible_wrong\",\"inedible_correct\",\"inedible_correct\",\"inedible_correct\",\"inedible_correct\",\"inedible_correct\",\"inedible_correct\",\"inedible_correct\",\"inedible_correct\",\"inedible_correct\",\"inedible_correct\",\"inedible_correct\",\"edible_wrong\",\"edible_correct\",\"edible_correct\",\"inedible_correct\",\"inedible_correct\",\"inedible_correct\",\"inedible_correct\",\"inedible_correct\",\"inedible_correct\",\"inedible_correct\",\"inedible_correct\",\"inedible_correct\",\"edible_wrong\",\"edible_wrong\",\"inedible_correct\",\"edible_wrong\",\"edible_wrong\",\"inedible_correct\",\"inedible_correct\",\"edible_wrong\",\"inedible_correct\",\"edible_correct\",\"edible_wrong\",\"edible_wrong\",\"inedible_correct\",\"inedible_correct\",\"inedible_correct\",\"inedible_correct\",\"edible_wrong\",\"inedible_correct\",\"edible_wrong\",\"edible_wrong\",\"edible_wrong\",\"edible_wrong\",\"inedible_correct\",\"edible_wrong\",\"edible_wrong\",\"edible_wrong\",\"edible_wrong\",\"edible_wrong\",\"edible_wrong\",\"edible_wrong\",\"edible_wrong\",\"edible_wrong\",\"edible_wrong\",\"edible_correct\",\"inedible_correct\",\"edible_wrong\",\"inedible_correct\",\"inedible_correct\",\"edible_wrong\",\"edible_wrong\",\"edible_wrong\",\"edible_wrong\",\"edible_wrong\",\"edible_wrong\",\"inedible_correct\",\"inedible_correct\",\"inedible_correct\",\"edible_correct\",\"edible_correct\",\"inedible_correct\",\"edible_correct\",\"inedible_correct\",\"inedible_correct\",\"inedible_correct\",\"inedible_correct\",\"inedible_correct\",\"inedible_correct\",\"edible_wrong\",\"edible_wrong\",\"edible_correct\",\"inedible_correct\",\"edible_correct\",\"edible_correct\",\"edible_correct\",\"edible_correct\",\"edible_correct\",\"inedible_correct\",\"edible_correct\",\"edible_correct\",\"inedible_correct\",\"edible_correct\",\"edible_correct\",\"edible_correct\",\"inedible_correct\",\"edible_wrong\",\"edible_wrong\",\"edible_wrong\",\"edible_wrong\",\"edible_wrong\",\"edible_wrong\",\"edible_correct\",\"edible_correct\",\"inedible_correct\",\"edible_correct\",\"edible_wrong\",\"inedible_correct\",\"inedible_correct\",\"edible_correct\",\"edible_wrong\",\"edible_correct\",\"inedible_correct\",\"inedible_correct\",\"inedible_correct\",\"inedible_correct\",\"edible_wrong\",\"inedible_correct\",\"inedible_correct\",\"inedible_correct\",\"edible_wrong\",\"inedible_correct\",\"inedible_correct\",\"inedible_correct\",\"inedible_correct\",\"inedible_correct\",\"inedible_correct\",\"inedible_correct\",\"edible_correct\",\"edible_correct\",\"edible_correct\",\"inedible_correct\",\"inedible_correct\",\"edible_wrong\",\"edible_wrong\",\"edible_wrong\",\"edible_wrong\",\"edible_wrong\",\"edible_wrong\",\"edible_wrong\",\"edible_wrong\",\"edible_correct\",\"inedible_correct\",\"inedible_correct\",\"edible_wrong\",\"inedible_correct\",\"edible_correct\",\"inedible_correct\",\"inedible_correct\",\"edible_correct\",\"inedible_correct\",\"inedible_correct\",\"inedible_correct\",\"inedible_correct\",\"inedible_correct\",\"inedible_correct\",\"inedible_correct\",\"edible_wrong\",\"inedible_correct\",\"inedible_correct\",\"inedible_correct\",\"inedible_correct\",\"inedible_correct\",\"inedible_correct\",\"inedible_correct\",\"inedible_correct\",\"inedible_correct\",\"inedible_correct\",\"inedible_correct\",\"inedible_correct\",\"inedible_correct\",\"inedible_correct\",\"inedible_correct\",\"inedible_correct\",\"edible_wrong\",\"edible_wrong\",\"inedible_correct\",\"inedible_correct\",\"inedible_correct\",\"inedible_correct\",\"inedible_correct\",\"inedible_correct\",\"inedible_correct\",\"inedible_correct\",\"inedible_correct\",\"inedible_correct\",\"edible_correct\",\"edible_wrong\",\"edible_wrong\",\"edible_wrong\",\"edible_correct\",\"inedible_correct\",\"edible_correct\",\"inedible_correct\",\"inedible_correct\",\"inedible_correct\",\"inedible_correct\",\"inedible_correct\",\"edible_wrong\",\"inedible_correct\",\"inedible_correct\",\"edible_wrong\",\"inedible_correct\",\"inedible_correct\",\"inedible_correct\",\"edible_correct\",\"edible_correct\",\"edible_correct\",\"edible_correct\",\"edible_correct\",\"edible_correct\",\"edible_correct\",\"edible_correct\",\"edible_correct\",\"edible_correct\",\"inedible_correct\",\"inedible_correct\",\"edible_wrong\",\"inedible_correct\",\"inedible_correct\",\"inedible_correct\",\"edible_correct\",\"inedible_correct\",\"inedible_correct\",\"inedible_correct\",\"edible_correct\",\"inedible_correct\",\"inedible_correct\",\"inedible_correct\",\"inedible_correct\",\"edible_correct\",\"edible_correct\",\"inedible_correct\",\"inedible_correct\",\"inedible_correct\",\"inedible_correct\",\"inedible_correct\",\"inedible_correct\",\"edible_wrong\",\"edible_wrong\",\"edible_wrong\",\"edible_correct\",\"edible_correct\",\"edible_correct\",\"edible_wrong\",\"inedible_correct\",\"edible_wrong\",\"inedible_correct\",\"inedible_wrong\",\"edible_wrong\",\"edible_wrong\",\"inedible_correct\",\"inedible_correct\",\"inedible_correct\",\"edible_wrong\",\"edible_wrong\",\"edible_wrong\",\"inedible_correct\",\"inedible_correct\",\"inedible_correct\",\"inedible_correct\",\"inedible_correct\",\"edible_wrong\",\"edible_wrong\",\"edible_wrong\",\"edible_wrong\",\"inedible_wrong\",\"edible_correct\",\"edible_correct\",\"edible_wrong\",\"inedible_wrong\",\"inedible_wrong\",\"inedible_correct\",\"inedible_correct\",\"edible_wrong\",\"edible_wrong\",\"edible_wrong\",\"edible_wrong\",\"edible_wrong\",\"inedible_correct\",\"inedible_correct\",\"edible_correct\",\"inedible_correct\",\"edible_correct\",\"edible_wrong\",\"inedible_correct\",\"inedible_correct\",\"edible_correct\",\"inedible_correct\",\"edible_correct\",\"edible_correct\",\"inedible_correct\",\"inedible_correct\",\"inedible_correct\",\"inedible_correct\",\"inedible_correct\",\"edible_wrong\",\"edible_wrong\",\"edible_wrong\",\"edible_wrong\",\"edible_wrong\",\"edible_correct\",\"edible_wrong\",\"edible_correct\",\"edible_correct\",\"edible_correct\",\"inedible_correct\",\"inedible_correct\",\"inedible_correct\",\"edible_correct\",\"edible_wrong\",\"edible_wrong\",\"edible_correct\",\"inedible_correct\",\"inedible_correct\",\"edible_correct\",\"edible_wrong\",\"inedible_correct\",\"inedible_correct\",\"inedible_correct\",\"inedible_correct\",\"inedible_correct\",\"inedible_correct\",\"edible_correct\",\"edible_correct\",\"inedible_correct\",\"edible_correct\",\"edible_wrong\",\"inedible_correct\",\"edible_wrong\",\"edible_correct\",\"edible_correct\",\"edible_wrong\",\"inedible_correct\",\"edible_wrong\",\"edible_wrong\",\"inedible_correct\",\"edible_wrong\",\"inedible_correct\",\"edible_wrong\",\"inedible_correct\",\"inedible_correct\",\"edible_correct\",\"inedible_correct\",\"inedible_correct\",\"edible_wrong\",\"inedible_correct\",\"edible_wrong\",\"edible_correct\",\"inedible_correct\",\"inedible_wrong\",\"edible_wrong\",\"inedible_wrong\",\"inedible_correct\",\"inedible_wrong\",\"edible_correct\",\"edible_wrong\",\"edible_wrong\",\"edible_wrong\",\"inedible_correct\",\"inedible_correct\",\"inedible_correct\",\"inedible_correct\",\"edible_correct\",\"edible_correct\",\"edible_correct\",\"edible_correct\",\"edible_correct\",\"edible_correct\",\"edible_correct\",\"inedible_correct\",\"inedible_correct\",\"inedible_correct\",\"inedible_correct\",\"inedible_correct\",\"edible_correct\",\"edible_wrong\",\"inedible_correct\",\"inedible_correct\",\"inedible_correct\",\"inedible_correct\",\"inedible_correct\",\"inedible_correct\",\"edible_wrong\",\"edible_wrong\",\"edible_correct\",\"edible_correct\",\"inedible_correct\",\"edible_correct\",\"inedible_correct\",\"inedible_correct\",\"inedible_correct\",\"inedible_correct\",\"inedible_correct\",\"inedible_correct\",\"inedible_correct\",\"inedible_correct\",\"inedible_correct\",\"inedible_correct\",\"inedible_correct\",\"inedible_correct\",\"inedible_correct\",\"edible_wrong\",\"inedible_correct\",\"edible_wrong\",\"edible_wrong\",\"edible_wrong\",\"inedible_correct\",\"inedible_correct\",\"edible_correct\",\"edible_correct\",\"edible_correct\",\"edible_correct\",\"inedible_correct\",\"edible_correct\",\"edible_correct\",\"inedible_correct\",\"inedible_correct\",\"inedible_correct\",\"inedible_correct\",\"inedible_correct\",\"edible_correct\",\"edible_correct\",\"edible_correct\",\"edible_correct\",\"edible_correct\",\"edible_correct\",\"edible_wrong\",\"edible_correct\",\"edible_correct\",\"edible_correct\",\"edible_correct\",\"edible_correct\",\"edible_correct\",\"inedible_correct\",\"inedible_correct\",\"inedible_correct\",\"inedible_correct\",\"inedible_correct\",\"inedible_correct\",\"inedible_correct\",\"inedible_correct\",\"inedible_correct\",\"inedible_correct\",\"inedible_correct\",\"inedible_correct\",\"inedible_correct\",\"inedible_correct\",\"inedible_correct\",\"edible_correct\",\"edible_correct\",\"edible_wrong\",\"edible_wrong\",\"edible_wrong\",\"inedible_correct\",\"inedible_correct\",\"inedible_correct\",\"edible_wrong\",\"inedible_correct\",\"inedible_correct\",\"inedible_correct\",\"edible_wrong\",\"inedible_correct\",\"inedible_correct\",\"inedible_correct\",\"edible_correct\",\"inedible_correct\",\"edible_wrong\",\"edible_correct\",\"edible_correct\",\"inedible_correct\",\"inedible_correct\",\"edible_correct\",\"inedible_correct\",\"inedible_correct\",\"edible_correct\",\"edible_wrong\",\"edible_wrong\",\"edible_wrong\",\"edible_wrong\",\"edible_wrong\",\"inedible_correct\",\"edible_correct\",\"inedible_correct\",\"edible_correct\",\"inedible_correct\",\"edible_correct\",\"inedible_correct\",\"edible_wrong\",\"inedible_correct\",\"edible_correct\",\"inedible_correct\",\"inedible_correct\",\"inedible_correct\",\"edible_correct\",\"edible_correct\",\"inedible_correct\",\"inedible_correct\",\"inedible_correct\",\"edible_wrong\",\"inedible_correct\",\"inedible_correct\",\"inedible_correct\",\"inedible_correct\",\"inedible_correct\",\"inedible_correct\",\"inedible_correct\",\"inedible_correct\",\"inedible_correct\",\"edible_correct\",\"inedible_correct\",\"inedible_correct\",\"inedible_correct\",\"inedible_correct\",\"inedible_correct\",\"inedible_correct\",\"inedible_correct\",\"inedible_correct\",\"inedible_correct\",\"inedible_correct\",\"edible_wrong\",\"edible_correct\",\"edible_wrong\",\"inedible_correct\",\"edible_wrong\",\"inedible_correct\",\"inedible_correct\",\"inedible_correct\",\"inedible_correct\",\"inedible_correct\",\"inedible_correct\",\"edible_correct\",\"inedible_correct\",\"inedible_correct\",\"inedible_correct\",\"inedible_correct\",\"edible_wrong\",\"inedible_correct\",\"edible_wrong\",\"inedible_correct\",\"edible_wrong\",\"edible_wrong\",\"inedible_correct\",\"inedible_correct\",\"inedible_correct\",\"inedible_correct\",\"inedible_wrong\",\"inedible_wrong\",\"inedible_correct\",\"edible_correct\",\"edible_correct\",\"edible_correct\",\"edible_correct\",\"edible_correct\",\"edible_correct\",\"inedible_correct\",\"inedible_correct\",\"inedible_correct\",\"inedible_correct\",\"inedible_correct\",\"inedible_correct\",\"inedible_correct\",\"edible_wrong\",\"inedible_correct\",\"inedible_correct\",\"inedible_correct\",\"inedible_correct\",\"inedible_correct\",\"inedible_correct\",\"inedible_correct\",\"inedible_correct\",\"inedible_correct\",\"inedible_correct\",\"edible_wrong\",\"edible_wrong\",\"inedible_correct\",\"edible_wrong\",\"edible_wrong\",\"inedible_correct\",\"inedible_correct\",\"inedible_correct\",\"inedible_correct\",\"edible_correct\",\"edible_wrong\",\"edible_correct\",\"edible_correct\",\"edible_correct\",\"edible_wrong\",\"inedible_correct\",\"edible_correct\",\"inedible_correct\",\"edible_wrong\",\"inedible_correct\",\"inedible_correct\",\"edible_wrong\",\"inedible_correct\",\"inedible_correct\",\"inedible_correct\",\"inedible_correct\",\"inedible_correct\",\"inedible_correct\",\"inedible_correct\",\"inedible_wrong\",\"edible_correct\",\"inedible_correct\",\"edible_correct\",\"inedible_correct\",\"inedible_correct\",\"edible_correct\",\"edible_correct\",\"inedible_correct\",\"edible_correct\",\"inedible_correct\",\"edible_correct\",\"inedible_correct\",\"inedible_correct\",\"edible_wrong\",\"edible_wrong\",\"edible_wrong\",\"edible_wrong\",\"inedible_correct\",\"inedible_correct\",\"inedible_correct\",\"edible_correct\",\"edible_correct\",\"edible_correct\",\"inedible_correct\",\"inedible_correct\",\"edible_correct\",\"edible_correct\",\"edible_correct\",\"edible_correct\",\"inedible_correct\",\"edible_correct\",\"inedible_correct\",\"inedible_correct\",\"edible_wrong\",\"edible_wrong\",\"edible_wrong\",\"edible_wrong\",\"edible_wrong\",\"edible_wrong\",\"edible_wrong\",\"edible_correct\",\"edible_wrong\",\"edible_wrong\",\"edible_correct\",\"edible_correct\",\"edible_correct\",\"edible_correct\",\"inedible_correct\",\"edible_wrong\",\"inedible_correct\",\"edible_wrong\",\"edible_wrong\",\"inedible_correct\",\"edible_wrong\",\"edible_wrong\",\"edible_wrong\",\"inedible_correct\",\"inedible_correct\",\"inedible_correct\",\"edible_wrong\",\"edible_wrong\",\"edible_wrong\",\"inedible_correct\",\"inedible_correct\",\"inedible_correct\",\"inedible_correct\",\"inedible_correct\",\"inedible_correct\",\"inedible_correct\",\"inedible_correct\",\"inedible_correct\",\"edible_wrong\",\"edible_wrong\",\"inedible_correct\",\"inedible_correct\",\"inedible_correct\",\"edible_wrong\",\"inedible_correct\",\"inedible_correct\",\"inedible_correct\",\"inedible_correct\",\"inedible_correct\",\"inedible_correct\",\"inedible_correct\",\"inedible_correct\",\"inedible_correct\",\"edible_wrong\",\"inedible_correct\",\"inedible_correct\",\"inedible_correct\",\"inedible_correct\",\"inedible_correct\",\"inedible_correct\"],\"shape\":[1000],\"dtype\":\"object\",\"order\":\"little\"}]]}}},\"view\":{\"type\":\"object\",\"name\":\"CDSView\",\"id\":\"p1107\",\"attributes\":{\"filter\":{\"type\":\"object\",\"name\":\"AllIndices\",\"id\":\"p1108\"}}},\"glyph\":{\"type\":\"object\",\"name\":\"Scatter\",\"id\":\"p1103\",\"attributes\":{\"x\":{\"type\":\"field\",\"field\":\"x\"},\"y\":{\"type\":\"field\",\"field\":\"y\"},\"line_color\":{\"type\":\"field\",\"field\":\"preds_vs_labels\",\"transform\":{\"type\":\"object\",\"name\":\"CategoricalColorMapper\",\"id\":\"p1099\",\"attributes\":{\"palette\":[\"#1f77b4\",\"#ff7f0e\",\"#2ca02c\"],\"factors\":{\"type\":\"ndarray\",\"array\":[\"inedible_correct\",\"edible_wrong\",\"edible_correct\",\"inedible_wrong\"],\"shape\":[4],\"dtype\":\"object\",\"order\":\"little\"}}}},\"fill_color\":{\"type\":\"field\",\"field\":\"preds_vs_labels\",\"transform\":{\"id\":\"p1099\"}},\"hatch_color\":{\"type\":\"field\",\"field\":\"preds_vs_labels\",\"transform\":{\"id\":\"p1099\"}}}},\"nonselection_glyph\":{\"type\":\"object\",\"name\":\"Scatter\",\"id\":\"p1104\",\"attributes\":{\"x\":{\"type\":\"field\",\"field\":\"x\"},\"y\":{\"type\":\"field\",\"field\":\"y\"},\"line_color\":{\"type\":\"field\",\"field\":\"preds_vs_labels\",\"transform\":{\"id\":\"p1099\"}},\"line_alpha\":{\"type\":\"value\",\"value\":0.1},\"fill_color\":{\"type\":\"field\",\"field\":\"preds_vs_labels\",\"transform\":{\"id\":\"p1099\"}},\"fill_alpha\":{\"type\":\"value\",\"value\":0.1},\"hatch_color\":{\"type\":\"field\",\"field\":\"preds_vs_labels\",\"transform\":{\"id\":\"p1099\"}},\"hatch_alpha\":{\"type\":\"value\",\"value\":0.1}}},\"muted_glyph\":{\"type\":\"object\",\"name\":\"Scatter\",\"id\":\"p1105\",\"attributes\":{\"x\":{\"type\":\"field\",\"field\":\"x\"},\"y\":{\"type\":\"field\",\"field\":\"y\"},\"line_color\":{\"type\":\"field\",\"field\":\"preds_vs_labels\",\"transform\":{\"id\":\"p1099\"}},\"line_alpha\":{\"type\":\"value\",\"value\":0.2},\"fill_color\":{\"type\":\"field\",\"field\":\"preds_vs_labels\",\"transform\":{\"id\":\"p1099\"}},\"fill_alpha\":{\"type\":\"value\",\"value\":0.2},\"hatch_color\":{\"type\":\"field\",\"field\":\"preds_vs_labels\",\"transform\":{\"id\":\"p1099\"}},\"hatch_alpha\":{\"type\":\"value\",\"value\":0.2}}}}}],\"toolbar\":{\"type\":\"object\",\"name\":\"Toolbar\",\"id\":\"p1068\",\"attributes\":{\"tools\":[{\"type\":\"object\",\"name\":\"LassoSelectTool\",\"id\":\"p1081\",\"attributes\":{\"renderers\":\"auto\",\"overlay\":{\"type\":\"object\",\"name\":\"PolyAnnotation\",\"id\":\"p1082\",\"attributes\":{\"syncable\":false,\"level\":\"overlay\",\"visible\":false,\"xs\":[],\"ys\":[],\"editable\":true,\"line_color\":\"black\",\"line_alpha\":1.0,\"line_width\":2,\"line_dash\":[4,4],\"fill_color\":\"lightgrey\",\"fill_alpha\":0.5}}}},{\"type\":\"object\",\"name\":\"BoxSelectTool\",\"id\":\"p1083\",\"attributes\":{\"renderers\":\"auto\",\"overlay\":{\"type\":\"object\",\"name\":\"BoxAnnotation\",\"id\":\"p1084\",\"attributes\":{\"syncable\":false,\"line_color\":\"black\",\"line_alpha\":1.0,\"line_width\":2,\"line_dash\":[4,4],\"fill_color\":\"lightgrey\",\"fill_alpha\":0.5,\"level\":\"overlay\",\"visible\":false,\"left\":{\"type\":\"number\",\"value\":\"nan\"},\"right\":{\"type\":\"number\",\"value\":\"nan\"},\"top\":{\"type\":\"number\",\"value\":\"nan\"},\"bottom\":{\"type\":\"number\",\"value\":\"nan\"},\"editable\":true,\"handles\":{\"type\":\"object\",\"name\":\"BoxInteractionHandles\",\"id\":\"p1090\",\"attributes\":{\"all\":{\"type\":\"object\",\"name\":\"AreaVisuals\",\"id\":\"p1089\",\"attributes\":{\"fill_color\":\"white\",\"hover_fill_color\":\"lightgray\"}}}}}}}},{\"type\":\"object\",\"name\":\"PanTool\",\"id\":\"p1091\"},{\"type\":\"object\",\"name\":\"ZoomInTool\",\"id\":\"p1092\",\"attributes\":{\"renderers\":\"auto\"}},{\"type\":\"object\",\"name\":\"ZoomOutTool\",\"id\":\"p1093\",\"attributes\":{\"renderers\":\"auto\"}},{\"type\":\"object\",\"name\":\"ResetTool\",\"id\":\"p1094\"},{\"type\":\"object\",\"name\":\"HoverTool\",\"id\":\"p1095\",\"attributes\":{\"renderers\":\"auto\",\"tooltips\":[[\"x, y\",\"$x, $y\"],[\"index\",\"$index\"]]}}]}},\"left\":[{\"type\":\"object\",\"name\":\"LinearAxis\",\"id\":\"p1076\",\"attributes\":{\"ticker\":{\"type\":\"object\",\"name\":\"BasicTicker\",\"id\":\"p1077\",\"attributes\":{\"mantissas\":[1,2,5]}},\"formatter\":{\"type\":\"object\",\"name\":\"BasicTickFormatter\",\"id\":\"p1078\"},\"major_label_policy\":{\"type\":\"object\",\"name\":\"AllLabels\",\"id\":\"p1079\"}}}],\"below\":[{\"type\":\"object\",\"name\":\"LinearAxis\",\"id\":\"p1071\",\"attributes\":{\"ticker\":{\"type\":\"object\",\"name\":\"BasicTicker\",\"id\":\"p1072\",\"attributes\":{\"mantissas\":[1,2,5]}},\"formatter\":{\"type\":\"object\",\"name\":\"BasicTickFormatter\",\"id\":\"p1073\"},\"major_label_policy\":{\"type\":\"object\",\"name\":\"AllLabels\",\"id\":\"p1074\"}}}],\"center\":[{\"type\":\"object\",\"name\":\"Grid\",\"id\":\"p1075\",\"attributes\":{\"axis\":{\"id\":\"p1071\"}}},{\"type\":\"object\",\"name\":\"Grid\",\"id\":\"p1080\",\"attributes\":{\"dimension\":1,\"axis\":{\"id\":\"p1076\"}}},{\"type\":\"object\",\"name\":\"Legend\",\"id\":\"p1109\",\"attributes\":{\"location\":\"bottom_left\",\"click_policy\":\"mute\",\"items\":[{\"type\":\"object\",\"name\":\"LegendItem\",\"id\":\"p1110\",\"attributes\":{\"label\":{\"type\":\"value\",\"value\":\"edible_correct\"},\"renderers\":[{\"id\":\"p1106\"}],\"index\":7}},{\"type\":\"object\",\"name\":\"LegendItem\",\"id\":\"p1111\",\"attributes\":{\"label\":{\"type\":\"value\",\"value\":\"edible_wrong\"},\"renderers\":[{\"id\":\"p1106\"}],\"index\":3}},{\"type\":\"object\",\"name\":\"LegendItem\",\"id\":\"p1112\",\"attributes\":{\"label\":{\"type\":\"value\",\"value\":\"inedible_correct\"},\"renderers\":[{\"id\":\"p1106\"}],\"index\":0}},{\"type\":\"object\",\"name\":\"LegendItem\",\"id\":\"p1113\",\"attributes\":{\"label\":{\"type\":\"value\",\"value\":\"inedible_wrong\"},\"renderers\":[{\"id\":\"p1106\"}],\"index\":167}}]}}]}}]}};\n",
              "  const render_items = [{\"docid\":\"ccb889f1-6905-4eb8-921f-5f2d4e1caa20\",\"roots\":{\"p1060\":\"cf612044-8e8b-4a57-b9e2-070a6bdd6fb5\"},\"root_ids\":[\"p1060\"]}];\n",
              "  void root.Bokeh.embed.embed_items_notebook(docs_json, render_items);\n",
              "  }\n",
              "  if (root.Bokeh !== undefined) {\n",
              "    embed_document(root);\n",
              "  } else {\n",
              "    let attempts = 0;\n",
              "    const timer = setInterval(function(root) {\n",
              "      if (root.Bokeh !== undefined) {\n",
              "        clearInterval(timer);\n",
              "        embed_document(root);\n",
              "      } else {\n",
              "        attempts++;\n",
              "        if (attempts > 100) {\n",
              "          clearInterval(timer);\n",
              "          console.log(\"Bokeh: ERROR: Unable to run BokehJS code because BokehJS library is missing\");\n",
              "        }\n",
              "      }\n",
              "    }, 10, root)\n",
              "  }\n",
              "})(window);"
            ],
            "application/vnd.bokehjs_exec.v0+json": ""
          },
          "metadata": {
            "application/vnd.bokehjs_exec.v0+json": {
              "id": "p1060"
            }
          }
        }
      ]
    },
    {
      "cell_type": "code",
      "source": [
        "from bokeh.plotting import figure, show\n",
        "from bokeh.io import output_notebook\n",
        "from bokeh.models import ColumnDataSource, ColorBar\n",
        "from bokeh.transform import linear_cmap, factor_cmap\n",
        "from bokeh.palettes import Viridis256\n",
        "from bokeh.layouts import row\n",
        "\n",
        "import plotly.express as px\n",
        "\n",
        "def embedding_plotter(embedding, data=None, hue=None, hover=None, tools = None, nv_cat = 5, height = 400, width = 400, display_result=True):\n",
        "    '''\n",
        "    Рисовалка эмбеддинга. 2D renderer: bokeh. 3D renderer: plotly.\n",
        "    Обязательные инструменты:\n",
        "        - pan (двигать график)\n",
        "        - box zoom\n",
        "        - reset (вылезти из зума в начальное положение)\n",
        "\n",
        "        embedding: something 2D/3D, slicable ~ embedding[:, 0] - валидно\n",
        "            Эмбеддинг\n",
        "        data: pd.DataFrame\n",
        "            Данные, по которым был построен эмбеддинг\n",
        "        hue: string\n",
        "            Колонка из data, по которой красим точки. Поддерживает интерактивную легенду: по клику на каждое\n",
        "                значение hue можно скрыть весь цвет.\n",
        "        hover: string or list of strings\n",
        "            Колонк[а/и] из data, значения которых нужно выводить при наведении мышки на точку\n",
        "        nv_cat: int\n",
        "            number of unique values to consider column categorical\n",
        "        tools: iterable or string in form \"tool1,tool2,...\" or [\"tool1\", \"tool2\", ...]\n",
        "            tools for the interactive plot\n",
        "        height, width: int\n",
        "            parameters of the figure\n",
        "        display_result: boolean\n",
        "            if the results are displayed or just returned\n",
        "\n",
        "    '''\n",
        "    if tools is None:\n",
        "        tools = 'lasso_select,box_select,pan,zoom_in,zoom_out,reset,hover'\n",
        "    else:\n",
        "        if hover and not(\"hover\" in tools):\n",
        "            tools = 'hover,'+\",\".join(tools)\n",
        "\n",
        "\n",
        "    if embedding.shape[1] == 3:\n",
        "        if hover:\n",
        "            hover_data = {h:True for h in hover}\n",
        "        else:\n",
        "            hover_data = None\n",
        "        df = pd.DataFrame(embedding, columns = ['x', 'y', 'z'])\n",
        "        df = pd.concat((df, data), axis=1)\n",
        "        fig = px.scatter_3d(\n",
        "            data_frame = df,\n",
        "            x='x',\n",
        "            y='y',\n",
        "            z='z',\n",
        "            color=df[hue],\n",
        "            hover_data = hover_data\n",
        "        )\n",
        "\n",
        "        fig.update_layout(\n",
        "            modebar_add=tools.split(\",\"),\n",
        "        )\n",
        "\n",
        "        fig.update_traces(marker_size=1, selector=dict(type='scatter3d'))\n",
        "\n",
        "        if display_result: fig.show()\n",
        "\n",
        "    if embedding.shape[1] == 2:\n",
        "        output_notebook()\n",
        "        df = pd.DataFrame(embedding, columns = ['x', 'y'])\n",
        "        df = pd.concat((df, data), axis=1)\n",
        "        tooltips = [\n",
        "            ('x, y', '$x, $y'),\n",
        "            ('index', '$index')\n",
        "        ]\n",
        "        if hover:\n",
        "            for col in hover:\n",
        "                tooltips.append((col, \"@\"+col))\n",
        "        fig = figure(tools=tools, width=width, height=height, tooltips=tooltips)\n",
        "        if df[hue].nunique() < nv_cat or df[hue].dtype == \"category\":\n",
        "            df[hue] = df[hue].astype(str)\n",
        "            source = ColumnDataSource(df)\n",
        "            color_mapper = factor_cmap(\n",
        "            field_name=hue,\n",
        "            palette='Category10_3',\n",
        "            factors=df[hue].unique()\n",
        "            )\n",
        "            fig.scatter(\n",
        "            x='x', y='y',\n",
        "            color=color_mapper,\n",
        "            source=source,\n",
        "            legend_group=hue)\n",
        "\n",
        "            fig.legend.location = 'bottom_left'\n",
        "            fig.legend.click_policy = 'mute'\n",
        "        else:\n",
        "            source = ColumnDataSource(df)\n",
        "            color_mapper = linear_cmap(\n",
        "                field_name=hue,\n",
        "                palette=Viridis256,\n",
        "                low=min(df[hue]),\n",
        "                high=max(df[hue]))\n",
        "            fig.scatter(\n",
        "                x='x', y='y',\n",
        "                color=color_mapper,\n",
        "                source=source)\n",
        "            color_bar = ColorBar(color_mapper=color_mapper['transform'], width=8, location=(0,0), title = hue)\n",
        "            fig.add_layout(color_bar, 'right')\n",
        "\n",
        "\n",
        "        if display_result: show(fig)\n",
        "\n",
        "    if embedding.shape[1] > 3:\n",
        "        print(\"wrong species, doooooodes\")\n",
        "    else: return fig\n",
        "\n",
        "import pandas as pd\n",
        "import numpy as np\n",
        "from sklearn.manifold import TSNE\n",
        "\n",
        "# Assuming your embeddings are in a variable called 'embeddings'\n",
        "# embeddings = np.random.rand(10000, 384)  # Example - replace with your actual embeddings\n",
        "\n",
        "# Create t-SNE\n",
        "tsne = TSNE(n_components=2, random_state=1,\n",
        "            init='pca', n_iter=5000,\n",
        "            metric='euclidean')\n",
        "\n",
        "# Fit and transform your data\n",
        "tsne_results = tsne.fit_transform(embeddings[:1000])\n",
        "\n",
        "# Prepare the data DataFrame correctly\n",
        "data_df = pd.DataFrame({\n",
        "    'label': np.array(labels[:1000])  # Assuming you have labels\n",
        "    # Add any other columns you want for hover information\n",
        "})\n",
        "\n",
        "# Call the plotting function correctly\n",
        "embedding_plotter(\n",
        "    embedding=tsne_results,  # This should be your 2D t-SNE results (1000x2 array)\n",
        "    data=data_df,            # This contains your labels and other metadata\n",
        "    hue='label',             # Column name in data_df to use for coloring\n",
        ")"
      ],
      "metadata": {
        "colab": {
          "base_uri": "https://localhost:8080/",
          "height": 470
        },
        "id": "RPhp94Et20Ga",
        "outputId": "e33273b8-ed19-4180-9ed0-195ee823d318"
      },
      "execution_count": null,
      "outputs": [
        {
          "output_type": "stream",
          "name": "stderr",
          "text": [
            "/usr/local/lib/python3.11/dist-packages/sklearn/manifold/_t_sne.py:1164: FutureWarning: 'n_iter' was renamed to 'max_iter' in version 1.5 and will be removed in 1.7.\n",
            "  warnings.warn(\n"
          ]
        },
        {
          "output_type": "display_data",
          "data": {
            "application/javascript": [
              "'use strict';\n",
              "(function(root) {\n",
              "  function now() {\n",
              "    return new Date();\n",
              "  }\n",
              "\n",
              "  const force = true;\n",
              "\n",
              "  if (typeof root._bokeh_onload_callbacks === \"undefined\" || force === true) {\n",
              "    root._bokeh_onload_callbacks = [];\n",
              "    root._bokeh_is_loading = undefined;\n",
              "  }\n",
              "\n",
              "const JS_MIME_TYPE = 'application/javascript';\n",
              "  const HTML_MIME_TYPE = 'text/html';\n",
              "  const EXEC_MIME_TYPE = 'application/vnd.bokehjs_exec.v0+json';\n",
              "  const CLASS_NAME = 'output_bokeh rendered_html';\n",
              "\n",
              "  /**\n",
              "   * Render data to the DOM node\n",
              "   */\n",
              "  function render(props, node) {\n",
              "    const script = document.createElement(\"script\");\n",
              "    node.appendChild(script);\n",
              "  }\n",
              "\n",
              "  /**\n",
              "   * Handle when an output is cleared or removed\n",
              "   */\n",
              "  function handleClearOutput(event, handle) {\n",
              "    function drop(id) {\n",
              "      const view = Bokeh.index.get_by_id(id)\n",
              "      if (view != null) {\n",
              "        view.model.document.clear()\n",
              "        Bokeh.index.delete(view)\n",
              "      }\n",
              "    }\n",
              "\n",
              "    const cell = handle.cell;\n",
              "\n",
              "    const id = cell.output_area._bokeh_element_id;\n",
              "    const server_id = cell.output_area._bokeh_server_id;\n",
              "\n",
              "    // Clean up Bokeh references\n",
              "    if (id != null) {\n",
              "      drop(id)\n",
              "    }\n",
              "\n",
              "    if (server_id !== undefined) {\n",
              "      // Clean up Bokeh references\n",
              "      const cmd_clean = \"from bokeh.io.state import curstate; print(curstate().uuid_to_server['\" + server_id + \"'].get_sessions()[0].document.roots[0]._id)\";\n",
              "      cell.notebook.kernel.execute(cmd_clean, {\n",
              "        iopub: {\n",
              "          output: function(msg) {\n",
              "            const id = msg.content.text.trim()\n",
              "            drop(id)\n",
              "          }\n",
              "        }\n",
              "      });\n",
              "      // Destroy server and session\n",
              "      const cmd_destroy = \"import bokeh.io.notebook as ion; ion.destroy_server('\" + server_id + \"')\";\n",
              "      cell.notebook.kernel.execute(cmd_destroy);\n",
              "    }\n",
              "  }\n",
              "\n",
              "  /**\n",
              "   * Handle when a new output is added\n",
              "   */\n",
              "  function handleAddOutput(event, handle) {\n",
              "    const output_area = handle.output_area;\n",
              "    const output = handle.output;\n",
              "\n",
              "    // limit handleAddOutput to display_data with EXEC_MIME_TYPE content only\n",
              "    if ((output.output_type != \"display_data\") || (!Object.prototype.hasOwnProperty.call(output.data, EXEC_MIME_TYPE))) {\n",
              "      return\n",
              "    }\n",
              "\n",
              "    const toinsert = output_area.element.find(\".\" + CLASS_NAME.split(' ')[0]);\n",
              "\n",
              "    if (output.metadata[EXEC_MIME_TYPE][\"id\"] !== undefined) {\n",
              "      toinsert[toinsert.length - 1].firstChild.textContent = output.data[JS_MIME_TYPE];\n",
              "      // store reference to embed id on output_area\n",
              "      output_area._bokeh_element_id = output.metadata[EXEC_MIME_TYPE][\"id\"];\n",
              "    }\n",
              "    if (output.metadata[EXEC_MIME_TYPE][\"server_id\"] !== undefined) {\n",
              "      const bk_div = document.createElement(\"div\");\n",
              "      bk_div.innerHTML = output.data[HTML_MIME_TYPE];\n",
              "      const script_attrs = bk_div.children[0].attributes;\n",
              "      for (let i = 0; i < script_attrs.length; i++) {\n",
              "        toinsert[toinsert.length - 1].firstChild.setAttribute(script_attrs[i].name, script_attrs[i].value);\n",
              "        toinsert[toinsert.length - 1].firstChild.textContent = bk_div.children[0].textContent\n",
              "      }\n",
              "      // store reference to server id on output_area\n",
              "      output_area._bokeh_server_id = output.metadata[EXEC_MIME_TYPE][\"server_id\"];\n",
              "    }\n",
              "  }\n",
              "\n",
              "  function register_renderer(events, OutputArea) {\n",
              "\n",
              "    function append_mime(data, metadata, element) {\n",
              "      // create a DOM node to render to\n",
              "      const toinsert = this.create_output_subarea(\n",
              "        metadata,\n",
              "        CLASS_NAME,\n",
              "        EXEC_MIME_TYPE\n",
              "      );\n",
              "      this.keyboard_manager.register_events(toinsert);\n",
              "      // Render to node\n",
              "      const props = {data: data, metadata: metadata[EXEC_MIME_TYPE]};\n",
              "      render(props, toinsert[toinsert.length - 1]);\n",
              "      element.append(toinsert);\n",
              "      return toinsert\n",
              "    }\n",
              "\n",
              "    /* Handle when an output is cleared or removed */\n",
              "    events.on('clear_output.CodeCell', handleClearOutput);\n",
              "    events.on('delete.Cell', handleClearOutput);\n",
              "\n",
              "    /* Handle when a new output is added */\n",
              "    events.on('output_added.OutputArea', handleAddOutput);\n",
              "\n",
              "    /**\n",
              "     * Register the mime type and append_mime function with output_area\n",
              "     */\n",
              "    OutputArea.prototype.register_mime_type(EXEC_MIME_TYPE, append_mime, {\n",
              "      /* Is output safe? */\n",
              "      safe: true,\n",
              "      /* Index of renderer in `output_area.display_order` */\n",
              "      index: 0\n",
              "    });\n",
              "  }\n",
              "\n",
              "  // register the mime type if in Jupyter Notebook environment and previously unregistered\n",
              "  if (root.Jupyter !== undefined) {\n",
              "    const events = require('base/js/events');\n",
              "    const OutputArea = require('notebook/js/outputarea').OutputArea;\n",
              "\n",
              "    if (OutputArea.prototype.mime_types().indexOf(EXEC_MIME_TYPE) == -1) {\n",
              "      register_renderer(events, OutputArea);\n",
              "    }\n",
              "  }\n",
              "  if (typeof (root._bokeh_timeout) === \"undefined\" || force === true) {\n",
              "    root._bokeh_timeout = Date.now() + 5000;\n",
              "    root._bokeh_failed_load = false;\n",
              "  }\n",
              "\n",
              "  const NB_LOAD_WARNING = {'data': {'text/html':\n",
              "     \"<div style='background-color: #fdd'>\\n\"+\n",
              "     \"<p>\\n\"+\n",
              "     \"BokehJS does not appear to have successfully loaded. If loading BokehJS from CDN, this \\n\"+\n",
              "     \"may be due to a slow or bad network connection. Possible fixes:\\n\"+\n",
              "     \"</p>\\n\"+\n",
              "     \"<ul>\\n\"+\n",
              "     \"<li>re-rerun `output_notebook()` to attempt to load from CDN again, or</li>\\n\"+\n",
              "     \"<li>use INLINE resources instead, as so:</li>\\n\"+\n",
              "     \"</ul>\\n\"+\n",
              "     \"<code>\\n\"+\n",
              "     \"from bokeh.resources import INLINE\\n\"+\n",
              "     \"output_notebook(resources=INLINE)\\n\"+\n",
              "     \"</code>\\n\"+\n",
              "     \"</div>\"}};\n",
              "\n",
              "  function display_loaded(error = null) {\n",
              "    const el = document.getElementById(null);\n",
              "    if (el != null) {\n",
              "      const html = (() => {\n",
              "        if (typeof root.Bokeh === \"undefined\") {\n",
              "          if (error == null) {\n",
              "            return \"BokehJS is loading ...\";\n",
              "          } else {\n",
              "            return \"BokehJS failed to load.\";\n",
              "          }\n",
              "        } else {\n",
              "          const prefix = `BokehJS ${root.Bokeh.version}`;\n",
              "          if (error == null) {\n",
              "            return `${prefix} successfully loaded.`;\n",
              "          } else {\n",
              "            return `${prefix} <b>encountered errors</b> while loading and may not function as expected.`;\n",
              "          }\n",
              "        }\n",
              "      })();\n",
              "      el.innerHTML = html;\n",
              "\n",
              "      if (error != null) {\n",
              "        const wrapper = document.createElement(\"div\");\n",
              "        wrapper.style.overflow = \"auto\";\n",
              "        wrapper.style.height = \"5em\";\n",
              "        wrapper.style.resize = \"vertical\";\n",
              "        const content = document.createElement(\"div\");\n",
              "        content.style.fontFamily = \"monospace\";\n",
              "        content.style.whiteSpace = \"pre-wrap\";\n",
              "        content.style.backgroundColor = \"rgb(255, 221, 221)\";\n",
              "        content.textContent = error.stack ?? error.toString();\n",
              "        wrapper.append(content);\n",
              "        el.append(wrapper);\n",
              "      }\n",
              "    } else if (Date.now() < root._bokeh_timeout) {\n",
              "      setTimeout(() => display_loaded(error), 100);\n",
              "    }\n",
              "  }\n",
              "\n",
              "  function run_callbacks() {\n",
              "    try {\n",
              "      root._bokeh_onload_callbacks.forEach(function(callback) {\n",
              "        if (callback != null)\n",
              "          callback();\n",
              "      });\n",
              "    } finally {\n",
              "      delete root._bokeh_onload_callbacks\n",
              "    }\n",
              "    console.debug(\"Bokeh: all callbacks have finished\");\n",
              "  }\n",
              "\n",
              "  function load_libs(css_urls, js_urls, callback) {\n",
              "    if (css_urls == null) css_urls = [];\n",
              "    if (js_urls == null) js_urls = [];\n",
              "\n",
              "    root._bokeh_onload_callbacks.push(callback);\n",
              "    if (root._bokeh_is_loading > 0) {\n",
              "      console.debug(\"Bokeh: BokehJS is being loaded, scheduling callback at\", now());\n",
              "      return null;\n",
              "    }\n",
              "    if (js_urls == null || js_urls.length === 0) {\n",
              "      run_callbacks();\n",
              "      return null;\n",
              "    }\n",
              "    console.debug(\"Bokeh: BokehJS not loaded, scheduling load and callback at\", now());\n",
              "    root._bokeh_is_loading = css_urls.length + js_urls.length;\n",
              "\n",
              "    function on_load() {\n",
              "      root._bokeh_is_loading--;\n",
              "      if (root._bokeh_is_loading === 0) {\n",
              "        console.debug(\"Bokeh: all BokehJS libraries/stylesheets loaded\");\n",
              "        run_callbacks()\n",
              "      }\n",
              "    }\n",
              "\n",
              "    function on_error(url) {\n",
              "      console.error(\"failed to load \" + url);\n",
              "    }\n",
              "\n",
              "    for (let i = 0; i < css_urls.length; i++) {\n",
              "      const url = css_urls[i];\n",
              "      const element = document.createElement(\"link\");\n",
              "      element.onload = on_load;\n",
              "      element.onerror = on_error.bind(null, url);\n",
              "      element.rel = \"stylesheet\";\n",
              "      element.type = \"text/css\";\n",
              "      element.href = url;\n",
              "      console.debug(\"Bokeh: injecting link tag for BokehJS stylesheet: \", url);\n",
              "      document.body.appendChild(element);\n",
              "    }\n",
              "\n",
              "    for (let i = 0; i < js_urls.length; i++) {\n",
              "      const url = js_urls[i];\n",
              "      const element = document.createElement('script');\n",
              "      element.onload = on_load;\n",
              "      element.onerror = on_error.bind(null, url);\n",
              "      element.async = false;\n",
              "      element.src = url;\n",
              "      console.debug(\"Bokeh: injecting script tag for BokehJS library: \", url);\n",
              "      document.head.appendChild(element);\n",
              "    }\n",
              "  };\n",
              "\n",
              "  function inject_raw_css(css) {\n",
              "    const element = document.createElement(\"style\");\n",
              "    element.appendChild(document.createTextNode(css));\n",
              "    document.body.appendChild(element);\n",
              "  }\n",
              "\n",
              "  const js_urls = [\"https://cdn.bokeh.org/bokeh/release/bokeh-3.7.2.min.js\", \"https://cdn.bokeh.org/bokeh/release/bokeh-gl-3.7.2.min.js\", \"https://cdn.bokeh.org/bokeh/release/bokeh-widgets-3.7.2.min.js\", \"https://cdn.bokeh.org/bokeh/release/bokeh-tables-3.7.2.min.js\", \"https://cdn.bokeh.org/bokeh/release/bokeh-mathjax-3.7.2.min.js\"];\n",
              "  const css_urls = [];\n",
              "\n",
              "  const inline_js = [    function(Bokeh) {\n",
              "      Bokeh.set_log_level(\"info\");\n",
              "    },\n",
              "function(Bokeh) {\n",
              "    }\n",
              "  ];\n",
              "\n",
              "  function run_inline_js() {\n",
              "    if (root.Bokeh !== undefined || force === true) {\n",
              "      try {\n",
              "            for (let i = 0; i < inline_js.length; i++) {\n",
              "      inline_js[i].call(root, root.Bokeh);\n",
              "    }\n",
              "\n",
              "      } catch (error) {throw error;\n",
              "      }} else if (Date.now() < root._bokeh_timeout) {\n",
              "      setTimeout(run_inline_js, 100);\n",
              "    } else if (!root._bokeh_failed_load) {\n",
              "      console.log(\"Bokeh: BokehJS failed to load within specified timeout.\");\n",
              "      root._bokeh_failed_load = true;\n",
              "    } else if (force !== true) {\n",
              "      const cell = $(document.getElementById(null)).parents('.cell').data().cell;\n",
              "      cell.output_area.append_execute_result(NB_LOAD_WARNING)\n",
              "    }\n",
              "  }\n",
              "\n",
              "  if (root._bokeh_is_loading === 0) {\n",
              "    console.debug(\"Bokeh: BokehJS loaded, going straight to plotting\");\n",
              "    run_inline_js();\n",
              "  } else {\n",
              "    load_libs(css_urls, js_urls, function() {\n",
              "      console.debug(\"Bokeh: BokehJS plotting callback run at\", now());\n",
              "      run_inline_js();\n",
              "    });\n",
              "  }\n",
              "}(window));"
            ],
            "application/vnd.bokehjs_load.v0+json": "'use strict';\n(function(root) {\n  function now() {\n    return new Date();\n  }\n\n  const force = true;\n\n  if (typeof root._bokeh_onload_callbacks === \"undefined\" || force === true) {\n    root._bokeh_onload_callbacks = [];\n    root._bokeh_is_loading = undefined;\n  }\n\n\n  if (typeof (root._bokeh_timeout) === \"undefined\" || force === true) {\n    root._bokeh_timeout = Date.now() + 5000;\n    root._bokeh_failed_load = false;\n  }\n\n  const NB_LOAD_WARNING = {'data': {'text/html':\n     \"<div style='background-color: #fdd'>\\n\"+\n     \"<p>\\n\"+\n     \"BokehJS does not appear to have successfully loaded. If loading BokehJS from CDN, this \\n\"+\n     \"may be due to a slow or bad network connection. Possible fixes:\\n\"+\n     \"</p>\\n\"+\n     \"<ul>\\n\"+\n     \"<li>re-rerun `output_notebook()` to attempt to load from CDN again, or</li>\\n\"+\n     \"<li>use INLINE resources instead, as so:</li>\\n\"+\n     \"</ul>\\n\"+\n     \"<code>\\n\"+\n     \"from bokeh.resources import INLINE\\n\"+\n     \"output_notebook(resources=INLINE)\\n\"+\n     \"</code>\\n\"+\n     \"</div>\"}};\n\n  function display_loaded(error = null) {\n    const el = document.getElementById(null);\n    if (el != null) {\n      const html = (() => {\n        if (typeof root.Bokeh === \"undefined\") {\n          if (error == null) {\n            return \"BokehJS is loading ...\";\n          } else {\n            return \"BokehJS failed to load.\";\n          }\n        } else {\n          const prefix = `BokehJS ${root.Bokeh.version}`;\n          if (error == null) {\n            return `${prefix} successfully loaded.`;\n          } else {\n            return `${prefix} <b>encountered errors</b> while loading and may not function as expected.`;\n          }\n        }\n      })();\n      el.innerHTML = html;\n\n      if (error != null) {\n        const wrapper = document.createElement(\"div\");\n        wrapper.style.overflow = \"auto\";\n        wrapper.style.height = \"5em\";\n        wrapper.style.resize = \"vertical\";\n        const content = document.createElement(\"div\");\n        content.style.fontFamily = \"monospace\";\n        content.style.whiteSpace = \"pre-wrap\";\n        content.style.backgroundColor = \"rgb(255, 221, 221)\";\n        content.textContent = error.stack ?? error.toString();\n        wrapper.append(content);\n        el.append(wrapper);\n      }\n    } else if (Date.now() < root._bokeh_timeout) {\n      setTimeout(() => display_loaded(error), 100);\n    }\n  }\n\n  function run_callbacks() {\n    try {\n      root._bokeh_onload_callbacks.forEach(function(callback) {\n        if (callback != null)\n          callback();\n      });\n    } finally {\n      delete root._bokeh_onload_callbacks\n    }\n    console.debug(\"Bokeh: all callbacks have finished\");\n  }\n\n  function load_libs(css_urls, js_urls, callback) {\n    if (css_urls == null) css_urls = [];\n    if (js_urls == null) js_urls = [];\n\n    root._bokeh_onload_callbacks.push(callback);\n    if (root._bokeh_is_loading > 0) {\n      console.debug(\"Bokeh: BokehJS is being loaded, scheduling callback at\", now());\n      return null;\n    }\n    if (js_urls == null || js_urls.length === 0) {\n      run_callbacks();\n      return null;\n    }\n    console.debug(\"Bokeh: BokehJS not loaded, scheduling load and callback at\", now());\n    root._bokeh_is_loading = css_urls.length + js_urls.length;\n\n    function on_load() {\n      root._bokeh_is_loading--;\n      if (root._bokeh_is_loading === 0) {\n        console.debug(\"Bokeh: all BokehJS libraries/stylesheets loaded\");\n        run_callbacks()\n      }\n    }\n\n    function on_error(url) {\n      console.error(\"failed to load \" + url);\n    }\n\n    for (let i = 0; i < css_urls.length; i++) {\n      const url = css_urls[i];\n      const element = document.createElement(\"link\");\n      element.onload = on_load;\n      element.onerror = on_error.bind(null, url);\n      element.rel = \"stylesheet\";\n      element.type = \"text/css\";\n      element.href = url;\n      console.debug(\"Bokeh: injecting link tag for BokehJS stylesheet: \", url);\n      document.body.appendChild(element);\n    }\n\n    for (let i = 0; i < js_urls.length; i++) {\n      const url = js_urls[i];\n      const element = document.createElement('script');\n      element.onload = on_load;\n      element.onerror = on_error.bind(null, url);\n      element.async = false;\n      element.src = url;\n      console.debug(\"Bokeh: injecting script tag for BokehJS library: \", url);\n      document.head.appendChild(element);\n    }\n  };\n\n  function inject_raw_css(css) {\n    const element = document.createElement(\"style\");\n    element.appendChild(document.createTextNode(css));\n    document.body.appendChild(element);\n  }\n\n  const js_urls = [\"https://cdn.bokeh.org/bokeh/release/bokeh-3.7.2.min.js\", \"https://cdn.bokeh.org/bokeh/release/bokeh-gl-3.7.2.min.js\", \"https://cdn.bokeh.org/bokeh/release/bokeh-widgets-3.7.2.min.js\", \"https://cdn.bokeh.org/bokeh/release/bokeh-tables-3.7.2.min.js\", \"https://cdn.bokeh.org/bokeh/release/bokeh-mathjax-3.7.2.min.js\"];\n  const css_urls = [];\n\n  const inline_js = [    function(Bokeh) {\n      Bokeh.set_log_level(\"info\");\n    },\nfunction(Bokeh) {\n    }\n  ];\n\n  function run_inline_js() {\n    if (root.Bokeh !== undefined || force === true) {\n      try {\n            for (let i = 0; i < inline_js.length; i++) {\n      inline_js[i].call(root, root.Bokeh);\n    }\n\n      } catch (error) {throw error;\n      }} else if (Date.now() < root._bokeh_timeout) {\n      setTimeout(run_inline_js, 100);\n    } else if (!root._bokeh_failed_load) {\n      console.log(\"Bokeh: BokehJS failed to load within specified timeout.\");\n      root._bokeh_failed_load = true;\n    } else if (force !== true) {\n      const cell = $(document.getElementById(null)).parents('.cell').data().cell;\n      cell.output_area.append_execute_result(NB_LOAD_WARNING)\n    }\n  }\n\n  if (root._bokeh_is_loading === 0) {\n    console.debug(\"Bokeh: BokehJS loaded, going straight to plotting\");\n    run_inline_js();\n  } else {\n    load_libs(css_urls, js_urls, function() {\n      console.debug(\"Bokeh: BokehJS plotting callback run at\", now());\n      run_inline_js();\n    });\n  }\n}(window));"
          },
          "metadata": {}
        },
        {
          "output_type": "display_data",
          "data": {
            "text/html": [
              "\n",
              "  <div id=\"bc2797da-82ec-4049-8907-52bc4d918e94\" data-root-id=\"p1058\" style=\"display: contents;\"></div>\n"
            ]
          },
          "metadata": {}
        },
        {
          "output_type": "display_data",
          "data": {
            "application/javascript": [
              "(function(root) {\n",
              "  function embed_document(root) {\n",
              "  const docs_json = {\"d3f76330-b6c7-4dcf-bca8-b38f63ebcda3\":{\"version\":\"3.7.2\",\"title\":\"Bokeh Application\",\"roots\":[{\"type\":\"object\",\"name\":\"Figure\",\"id\":\"p1058\",\"attributes\":{\"width\":400,\"height\":400,\"x_range\":{\"type\":\"object\",\"name\":\"DataRange1d\",\"id\":\"p1059\"},\"y_range\":{\"type\":\"object\",\"name\":\"DataRange1d\",\"id\":\"p1060\"},\"x_scale\":{\"type\":\"object\",\"name\":\"LinearScale\",\"id\":\"p1067\"},\"y_scale\":{\"type\":\"object\",\"name\":\"LinearScale\",\"id\":\"p1068\"},\"title\":{\"type\":\"object\",\"name\":\"Title\",\"id\":\"p1065\"},\"renderers\":[{\"type\":\"object\",\"name\":\"GlyphRenderer\",\"id\":\"p1104\",\"attributes\":{\"data_source\":{\"type\":\"object\",\"name\":\"ColumnDataSource\",\"id\":\"p1094\",\"attributes\":{\"selected\":{\"type\":\"object\",\"name\":\"Selection\",\"id\":\"p1095\",\"attributes\":{\"indices\":[],\"line_indices\":[]}},\"selection_policy\":{\"type\":\"object\",\"name\":\"UnionRenderers\",\"id\":\"p1096\"},\"data\":{\"type\":\"map\",\"entries\":[[\"index\",{\"type\":\"ndarray\",\"array\":{\"type\":\"bytes\",\"data\":\"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\"},\"shape\":[1000],\"dtype\":\"int32\",\"order\":\"little\"}],[\"x\",{\"type\":\"ndarray\",\"array\":{\"type\":\"bytes\",\"data\":\"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\"},\"shape\":[1000],\"dtype\":\"float32\",\"order\":\"little\"}],[\"y\",{\"type\":\"ndarray\",\"array\":{\"type\":\"bytes\",\"data\":\"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\"},\"shape\":[1000],\"dtype\":\"float32\",\"order\":\"little\"}],[\"label\",{\"type\":\"ndarray\",\"array\":[\"0\",\"0\",\"0\",\"1\",\"1\",\"1\",\"1\",\"1\",\"1\",\"0\",\"0\",\"1\",\"1\",\"0\",\"1\",\"1\",\"1\",\"1\",\"1\",\"0\",\"0\",\"0\",\"0\",\"0\",\"0\",\"1\",\"0\",\"1\",\"1\",\"1\",\"1\",\"1\",\"1\",\"1\",\"1\",\"0\",\"0\",\"0\",\"0\",\"1\",\"0\",\"0\",\"0\",\"1\",\"0\",\"1\",\"0\",\"0\",\"0\",\"0\",\"1\",\"1\",\"1\",\"0\",\"1\",\"0\",\"0\",\"0\",\"0\",\"0\",\"0\",\"1\",\"1\",\"1\",\"0\",\"0\",\"1\",\"0\",\"0\",\"0\",\"0\",\"1\",\"0\",\"0\",\"1\",\"1\",\"0\",\"0\",\"1\",\"1\",\"1\",\"1\",\"0\",\"0\",\"0\",\"0\",\"1\",\"0\",\"0\",\"0\",\"0\",\"0\",\"0\",\"0\",\"1\",\"0\",\"0\",\"1\",\"1\",\"1\",\"1\",\"0\",\"1\",\"0\",\"0\",\"0\",\"1\",\"1\",\"1\",\"0\",\"1\",\"1\",\"1\",\"1\",\"1\",\"0\",\"1\",\"1\",\"0\",\"0\",\"1\",\"0\",\"0\",\"0\",\"0\",\"0\",\"0\",\"0\",\"0\",\"0\",\"0\",\"0\",\"0\",\"0\",\"0\",\"1\",\"0\",\"0\",\"0\",\"0\",\"0\",\"0\",\"1\",\"0\",\"0\",\"1\",\"0\",\"0\",\"1\",\"0\",\"0\",\"0\",\"0\",\"1\",\"0\",\"1\",\"1\",\"0\",\"0\",\"1\",\"0\",\"0\",\"1\",\"1\",\"1\",\"1\",\"0\",\"0\",\"1\",\"1\",\"1\",\"0\",\"0\",\"1\",\"0\",\"0\",\"0\",\"0\",\"0\",\"0\",\"1\",\"0\",\"0\",\"1\",\"1\",\"1\",\"1\",\"0\",\"1\",\"1\",\"1\",\"1\",\"0\",\"1\",\"1\",\"1\",\"1\",\"1\",\"1\",\"0\",\"0\",\"0\",\"1\",\"0\",\"0\",\"1\",\"1\",\"1\",\"1\",\"1\",\"1\",\"0\",\"0\",\"0\",\"0\",\"1\",\"0\",\"0\",\"0\",\"1\",\"0\",\"0\",\"0\",\"0\",\"0\",\"0\",\"0\",\"0\",\"0\",\"1\",\"0\",\"1\",\"0\",\"0\",\"1\",\"1\",\"1\",\"0\",\"1\",\"1\",\"0\",\"0\",\"1\",\"1\",\"0\",\"1\",\"0\",\"0\",\"0\",\"1\",\"0\",\"0\",\"0\",\"0\",\"0\",\"0\",\"0\",\"0\",\"0\",\"1\",\"1\",\"1\",\"1\",\"1\",\"1\",\"0\",\"0\",\"1\",\"1\",\"0\",\"0\",\"0\",\"0\",\"0\",\"0\",\"0\",\"1\",\"0\",\"1\",\"0\",\"0\",\"1\",\"1\",\"1\",\"1\",\"0\",\"1\",\"0\",\"1\",\"0\",\"0\",\"0\",\"0\",\"0\",\"1\",\"1\",\"0\",\"0\",\"0\",\"1\",\"1\",\"1\",\"1\",\"0\",\"0\",\"0\",\"0\",\"0\",\"0\",\"0\",\"0\",\"0\",\"0\",\"0\",\"1\",\"1\",\"1\",\"0\",\"0\",\"0\",\"0\",\"0\",\"0\",\"0\",\"0\",\"0\",\"1\",\"1\",\"0\",\"1\",\"1\",\"0\",\"0\",\"1\",\"0\",\"1\",\"1\",\"1\",\"0\",\"0\",\"0\",\"0\",\"1\",\"0\",\"1\",\"1\",\"1\",\"1\",\"0\",\"1\",\"1\",\"1\",\"1\",\"1\",\"1\",\"1\",\"1\",\"1\",\"1\",\"1\",\"0\",\"1\",\"0\",\"0\",\"1\",\"1\",\"1\",\"1\",\"1\",\"1\",\"0\",\"0\",\"0\",\"1\",\"1\",\"0\",\"1\",\"0\",\"0\",\"0\",\"0\",\"0\",\"0\",\"1\",\"1\",\"1\",\"0\",\"1\",\"1\",\"1\",\"1\",\"1\",\"0\",\"1\",\"1\",\"0\",\"1\",\"1\",\"1\",\"0\",\"1\",\"1\",\"1\",\"1\",\"1\",\"1\",\"1\",\"1\",\"0\",\"1\",\"1\",\"0\",\"0\",\"1\",\"1\",\"1\",\"0\",\"0\",\"0\",\"0\",\"1\",\"0\",\"0\",\"0\",\"1\",\"0\",\"0\",\"0\",\"0\",\"0\",\"0\",\"0\",\"1\",\"1\",\"1\",\"0\",\"0\",\"1\",\"1\",\"1\",\"1\",\"1\",\"1\",\"1\",\"1\",\"1\",\"0\",\"0\",\"1\",\"0\",\"1\",\"0\",\"0\",\"1\",\"0\",\"0\",\"0\",\"0\",\"0\",\"0\",\"0\",\"1\",\"0\",\"0\",\"0\",\"0\",\"0\",\"0\",\"0\",\"0\",\"0\",\"0\",\"0\",\"0\",\"0\",\"0\",\"0\",\"0\",\"1\",\"1\",\"0\",\"0\",\"0\",\"0\",\"0\",\"0\",\"0\",\"0\",\"0\",\"0\",\"1\",\"1\",\"1\",\"1\",\"1\",\"0\",\"1\",\"0\",\"0\",\"0\",\"0\",\"0\",\"1\",\"0\",\"0\",\"1\",\"0\",\"0\",\"0\",\"1\",\"1\",\"1\",\"1\",\"1\",\"1\",\"1\",\"1\",\"1\",\"1\",\"0\",\"0\",\"1\",\"0\",\"0\",\"0\",\"1\",\"0\",\"0\",\"0\",\"1\",\"0\",\"0\",\"0\",\"0\",\"1\",\"1\",\"0\",\"0\",\"0\",\"0\",\"0\",\"0\",\"1\",\"1\",\"1\",\"1\",\"1\",\"1\",\"1\",\"0\",\"1\",\"0\",\"0\",\"1\",\"1\",\"0\",\"0\",\"0\",\"1\",\"1\",\"1\",\"0\",\"0\",\"0\",\"0\",\"0\",\"1\",\"1\",\"1\",\"1\",\"0\",\"1\",\"1\",\"1\",\"0\",\"0\",\"0\",\"0\",\"1\",\"1\",\"1\",\"1\",\"1\",\"0\",\"0\",\"1\",\"0\",\"1\",\"1\",\"0\",\"0\",\"1\",\"0\",\"1\",\"1\",\"0\",\"0\",\"0\",\"0\",\"0\",\"1\",\"1\",\"1\",\"1\",\"1\",\"1\",\"1\",\"1\",\"1\",\"1\",\"0\",\"0\",\"0\",\"1\",\"1\",\"1\",\"1\",\"0\",\"0\",\"1\",\"1\",\"0\",\"0\",\"0\",\"0\",\"0\",\"0\",\"1\",\"1\",\"0\",\"1\",\"1\",\"0\",\"1\",\"1\",\"1\",\"1\",\"0\",\"1\",\"1\",\"0\",\"1\",\"0\",\"1\",\"0\",\"0\",\"1\",\"0\",\"0\",\"1\",\"0\",\"1\",\"1\",\"0\",\"0\",\"1\",\"0\",\"0\",\"0\",\"1\",\"1\",\"1\",\"1\",\"0\",\"0\",\"0\",\"0\",\"1\",\"1\",\"1\",\"1\",\"1\",\"1\",\"1\",\"0\",\"0\",\"0\",\"0\",\"0\",\"1\",\"1\",\"0\",\"0\",\"0\",\"0\",\"0\",\"0\",\"1\",\"1\",\"1\",\"1\",\"0\",\"1\",\"0\",\"0\",\"0\",\"0\",\"0\",\"0\",\"0\",\"0\",\"0\",\"0\",\"0\",\"0\",\"0\",\"1\",\"0\",\"1\",\"1\",\"1\",\"0\",\"0\",\"1\",\"1\",\"1\",\"1\",\"0\",\"1\",\"1\",\"0\",\"0\",\"0\",\"0\",\"0\",\"1\",\"1\",\"1\",\"1\",\"1\",\"1\",\"1\",\"1\",\"1\",\"1\",\"1\",\"1\",\"1\",\"0\",\"0\",\"0\",\"0\",\"0\",\"0\",\"0\",\"0\",\"0\",\"0\",\"0\",\"0\",\"0\",\"0\",\"0\",\"1\",\"1\",\"1\",\"1\",\"1\",\"0\",\"0\",\"0\",\"1\",\"0\",\"0\",\"0\",\"1\",\"0\",\"0\",\"0\",\"1\",\"0\",\"1\",\"1\",\"1\",\"0\",\"0\",\"1\",\"0\",\"0\",\"1\",\"1\",\"1\",\"1\",\"1\",\"1\",\"0\",\"1\",\"0\",\"1\",\"0\",\"1\",\"0\",\"1\",\"0\",\"1\",\"0\",\"0\",\"0\",\"1\",\"1\",\"0\",\"0\",\"0\",\"1\",\"0\",\"0\",\"0\",\"0\",\"0\",\"0\",\"0\",\"0\",\"0\",\"1\",\"0\",\"0\",\"0\",\"0\",\"0\",\"0\",\"0\",\"0\",\"0\",\"0\",\"1\",\"1\",\"1\",\"0\",\"1\",\"0\",\"0\",\"0\",\"0\",\"0\",\"0\",\"1\",\"0\",\"0\",\"0\",\"0\",\"1\",\"0\",\"1\",\"0\",\"1\",\"1\",\"0\",\"0\",\"0\",\"0\",\"0\",\"0\",\"0\",\"1\",\"1\",\"1\",\"1\",\"1\",\"1\",\"0\",\"0\",\"0\",\"0\",\"0\",\"0\",\"0\",\"1\",\"0\",\"0\",\"0\",\"0\",\"0\",\"0\",\"0\",\"0\",\"0\",\"0\",\"1\",\"1\",\"0\",\"1\",\"1\",\"0\",\"0\",\"0\",\"0\",\"1\",\"1\",\"1\",\"1\",\"1\",\"1\",\"0\",\"1\",\"0\",\"1\",\"0\",\"0\",\"1\",\"0\",\"0\",\"0\",\"0\",\"0\",\"0\",\"0\",\"0\",\"1\",\"0\",\"1\",\"0\",\"0\",\"1\",\"1\",\"0\",\"1\",\"0\",\"1\",\"0\",\"0\",\"1\",\"1\",\"1\",\"1\",\"0\",\"0\",\"0\",\"1\",\"1\",\"1\",\"0\",\"0\",\"1\",\"1\",\"1\",\"1\",\"0\",\"1\",\"0\",\"0\",\"1\",\"1\",\"1\",\"1\",\"1\",\"1\",\"1\",\"1\",\"1\",\"1\",\"1\",\"1\",\"1\",\"1\",\"0\",\"1\",\"0\",\"1\",\"1\",\"0\",\"1\",\"1\",\"1\",\"0\",\"0\",\"0\",\"1\",\"1\",\"1\",\"0\",\"0\",\"0\",\"0\",\"0\",\"0\",\"0\",\"0\",\"0\",\"1\",\"1\",\"0\",\"0\",\"0\",\"1\",\"0\",\"0\",\"0\",\"0\",\"0\",\"0\",\"0\",\"0\",\"0\",\"1\",\"0\",\"0\",\"0\",\"0\",\"0\",\"0\"],\"shape\":[1000],\"dtype\":\"object\",\"order\":\"little\"}]]}}},\"view\":{\"type\":\"object\",\"name\":\"CDSView\",\"id\":\"p1105\",\"attributes\":{\"filter\":{\"type\":\"object\",\"name\":\"AllIndices\",\"id\":\"p1106\"}}},\"glyph\":{\"type\":\"object\",\"name\":\"Scatter\",\"id\":\"p1101\",\"attributes\":{\"x\":{\"type\":\"field\",\"field\":\"x\"},\"y\":{\"type\":\"field\",\"field\":\"y\"},\"line_color\":{\"type\":\"field\",\"field\":\"label\",\"transform\":{\"type\":\"object\",\"name\":\"CategoricalColorMapper\",\"id\":\"p1097\",\"attributes\":{\"palette\":[\"#1f77b4\",\"#ff7f0e\",\"#2ca02c\"],\"factors\":{\"type\":\"ndarray\",\"array\":[\"0\",\"1\"],\"shape\":[2],\"dtype\":\"object\",\"order\":\"little\"}}}},\"fill_color\":{\"type\":\"field\",\"field\":\"label\",\"transform\":{\"id\":\"p1097\"}},\"hatch_color\":{\"type\":\"field\",\"field\":\"label\",\"transform\":{\"id\":\"p1097\"}}}},\"nonselection_glyph\":{\"type\":\"object\",\"name\":\"Scatter\",\"id\":\"p1102\",\"attributes\":{\"x\":{\"type\":\"field\",\"field\":\"x\"},\"y\":{\"type\":\"field\",\"field\":\"y\"},\"line_color\":{\"type\":\"field\",\"field\":\"label\",\"transform\":{\"id\":\"p1097\"}},\"line_alpha\":{\"type\":\"value\",\"value\":0.1},\"fill_color\":{\"type\":\"field\",\"field\":\"label\",\"transform\":{\"id\":\"p1097\"}},\"fill_alpha\":{\"type\":\"value\",\"value\":0.1},\"hatch_color\":{\"type\":\"field\",\"field\":\"label\",\"transform\":{\"id\":\"p1097\"}},\"hatch_alpha\":{\"type\":\"value\",\"value\":0.1}}},\"muted_glyph\":{\"type\":\"object\",\"name\":\"Scatter\",\"id\":\"p1103\",\"attributes\":{\"x\":{\"type\":\"field\",\"field\":\"x\"},\"y\":{\"type\":\"field\",\"field\":\"y\"},\"line_color\":{\"type\":\"field\",\"field\":\"label\",\"transform\":{\"id\":\"p1097\"}},\"line_alpha\":{\"type\":\"value\",\"value\":0.2},\"fill_color\":{\"type\":\"field\",\"field\":\"label\",\"transform\":{\"id\":\"p1097\"}},\"fill_alpha\":{\"type\":\"value\",\"value\":0.2},\"hatch_color\":{\"type\":\"field\",\"field\":\"label\",\"transform\":{\"id\":\"p1097\"}},\"hatch_alpha\":{\"type\":\"value\",\"value\":0.2}}}}}],\"toolbar\":{\"type\":\"object\",\"name\":\"Toolbar\",\"id\":\"p1066\",\"attributes\":{\"tools\":[{\"type\":\"object\",\"name\":\"LassoSelectTool\",\"id\":\"p1079\",\"attributes\":{\"renderers\":\"auto\",\"overlay\":{\"type\":\"object\",\"name\":\"PolyAnnotation\",\"id\":\"p1080\",\"attributes\":{\"syncable\":false,\"level\":\"overlay\",\"visible\":false,\"xs\":[],\"ys\":[],\"editable\":true,\"line_color\":\"black\",\"line_alpha\":1.0,\"line_width\":2,\"line_dash\":[4,4],\"fill_color\":\"lightgrey\",\"fill_alpha\":0.5}}}},{\"type\":\"object\",\"name\":\"BoxSelectTool\",\"id\":\"p1081\",\"attributes\":{\"renderers\":\"auto\",\"overlay\":{\"type\":\"object\",\"name\":\"BoxAnnotation\",\"id\":\"p1082\",\"attributes\":{\"syncable\":false,\"line_color\":\"black\",\"line_alpha\":1.0,\"line_width\":2,\"line_dash\":[4,4],\"fill_color\":\"lightgrey\",\"fill_alpha\":0.5,\"level\":\"overlay\",\"visible\":false,\"left\":{\"type\":\"number\",\"value\":\"nan\"},\"right\":{\"type\":\"number\",\"value\":\"nan\"},\"top\":{\"type\":\"number\",\"value\":\"nan\"},\"bottom\":{\"type\":\"number\",\"value\":\"nan\"},\"editable\":true,\"handles\":{\"type\":\"object\",\"name\":\"BoxInteractionHandles\",\"id\":\"p1088\",\"attributes\":{\"all\":{\"type\":\"object\",\"name\":\"AreaVisuals\",\"id\":\"p1087\",\"attributes\":{\"fill_color\":\"white\",\"hover_fill_color\":\"lightgray\"}}}}}}}},{\"type\":\"object\",\"name\":\"PanTool\",\"id\":\"p1089\"},{\"type\":\"object\",\"name\":\"ZoomInTool\",\"id\":\"p1090\",\"attributes\":{\"renderers\":\"auto\"}},{\"type\":\"object\",\"name\":\"ZoomOutTool\",\"id\":\"p1091\",\"attributes\":{\"renderers\":\"auto\"}},{\"type\":\"object\",\"name\":\"ResetTool\",\"id\":\"p1092\"},{\"type\":\"object\",\"name\":\"HoverTool\",\"id\":\"p1093\",\"attributes\":{\"renderers\":\"auto\",\"tooltips\":[[\"x, y\",\"$x, $y\"],[\"index\",\"$index\"]]}}]}},\"left\":[{\"type\":\"object\",\"name\":\"LinearAxis\",\"id\":\"p1074\",\"attributes\":{\"ticker\":{\"type\":\"object\",\"name\":\"BasicTicker\",\"id\":\"p1075\",\"attributes\":{\"mantissas\":[1,2,5]}},\"formatter\":{\"type\":\"object\",\"name\":\"BasicTickFormatter\",\"id\":\"p1076\"},\"major_label_policy\":{\"type\":\"object\",\"name\":\"AllLabels\",\"id\":\"p1077\"}}}],\"below\":[{\"type\":\"object\",\"name\":\"LinearAxis\",\"id\":\"p1069\",\"attributes\":{\"ticker\":{\"type\":\"object\",\"name\":\"BasicTicker\",\"id\":\"p1070\",\"attributes\":{\"mantissas\":[1,2,5]}},\"formatter\":{\"type\":\"object\",\"name\":\"BasicTickFormatter\",\"id\":\"p1071\"},\"major_label_policy\":{\"type\":\"object\",\"name\":\"AllLabels\",\"id\":\"p1072\"}}}],\"center\":[{\"type\":\"object\",\"name\":\"Grid\",\"id\":\"p1073\",\"attributes\":{\"axis\":{\"id\":\"p1069\"}}},{\"type\":\"object\",\"name\":\"Grid\",\"id\":\"p1078\",\"attributes\":{\"dimension\":1,\"axis\":{\"id\":\"p1074\"}}},{\"type\":\"object\",\"name\":\"Legend\",\"id\":\"p1107\",\"attributes\":{\"location\":\"bottom_left\",\"click_policy\":\"mute\",\"items\":[{\"type\":\"object\",\"name\":\"LegendItem\",\"id\":\"p1108\",\"attributes\":{\"label\":{\"type\":\"value\",\"value\":\"0\"},\"renderers\":[{\"id\":\"p1104\"}],\"index\":0}},{\"type\":\"object\",\"name\":\"LegendItem\",\"id\":\"p1109\",\"attributes\":{\"label\":{\"type\":\"value\",\"value\":\"1\"},\"renderers\":[{\"id\":\"p1104\"}],\"index\":3}}]}}]}}]}};\n",
              "  const render_items = [{\"docid\":\"d3f76330-b6c7-4dcf-bca8-b38f63ebcda3\",\"roots\":{\"p1058\":\"bc2797da-82ec-4049-8907-52bc4d918e94\"},\"root_ids\":[\"p1058\"]}];\n",
              "  void root.Bokeh.embed.embed_items_notebook(docs_json, render_items);\n",
              "  }\n",
              "  if (root.Bokeh !== undefined) {\n",
              "    embed_document(root);\n",
              "  } else {\n",
              "    let attempts = 0;\n",
              "    const timer = setInterval(function(root) {\n",
              "      if (root.Bokeh !== undefined) {\n",
              "        clearInterval(timer);\n",
              "        embed_document(root);\n",
              "      } else {\n",
              "        attempts++;\n",
              "        if (attempts > 100) {\n",
              "          clearInterval(timer);\n",
              "          console.log(\"Bokeh: ERROR: Unable to run BokehJS code because BokehJS library is missing\");\n",
              "        }\n",
              "      }\n",
              "    }, 10, root)\n",
              "  }\n",
              "})(window);"
            ],
            "application/vnd.bokehjs_exec.v0+json": ""
          },
          "metadata": {
            "application/vnd.bokehjs_exec.v0+json": {
              "id": "p1058"
            }
          }
        },
        {
          "output_type": "execute_result",
          "data": {
            "text/plain": [
              "figure(id='p1058', ...)"
            ],
            "text/html": [
              "<div style=\"display: table;\"><div style=\"display: table-row;\"><div style=\"display: table-cell;\"><b title=\"bokeh.plotting._figure.figure\">figure</b>(</div><div style=\"display: table-cell;\">id&nbsp;=&nbsp;'p1058', <span id=\"p1114\" style=\"cursor: pointer;\">&hellip;)</span></div></div><div class=\"p1113\" style=\"display: none;\"><div style=\"display: table-cell;\"></div><div style=\"display: table-cell;\">above&nbsp;=&nbsp;[],</div></div><div class=\"p1113\" style=\"display: none;\"><div style=\"display: table-cell;\"></div><div style=\"display: table-cell;\">align&nbsp;=&nbsp;'auto',</div></div><div class=\"p1113\" style=\"display: none;\"><div style=\"display: table-cell;\"></div><div style=\"display: table-cell;\">aspect_ratio&nbsp;=&nbsp;None,</div></div><div class=\"p1113\" style=\"display: none;\"><div style=\"display: table-cell;\"></div><div style=\"display: table-cell;\">aspect_scale&nbsp;=&nbsp;1,</div></div><div class=\"p1113\" style=\"display: none;\"><div style=\"display: table-cell;\"></div><div style=\"display: table-cell;\">attribution&nbsp;=&nbsp;[],</div></div><div class=\"p1113\" style=\"display: none;\"><div style=\"display: table-cell;\"></div><div style=\"display: table-cell;\">background_fill_alpha&nbsp;=&nbsp;1.0,</div></div><div class=\"p1113\" style=\"display: none;\"><div style=\"display: table-cell;\"></div><div style=\"display: table-cell;\">background_fill_color&nbsp;=&nbsp;'#ffffff',</div></div><div class=\"p1113\" style=\"display: none;\"><div style=\"display: table-cell;\"></div><div style=\"display: table-cell;\">background_hatch_alpha&nbsp;=&nbsp;1.0,</div></div><div class=\"p1113\" style=\"display: none;\"><div style=\"display: table-cell;\"></div><div style=\"display: table-cell;\">background_hatch_color&nbsp;=&nbsp;'black',</div></div><div class=\"p1113\" style=\"display: none;\"><div style=\"display: table-cell;\"></div><div style=\"display: table-cell;\">background_hatch_extra&nbsp;=&nbsp;{},</div></div><div class=\"p1113\" style=\"display: none;\"><div style=\"display: table-cell;\"></div><div style=\"display: table-cell;\">background_hatch_pattern&nbsp;=&nbsp;None,</div></div><div class=\"p1113\" style=\"display: none;\"><div style=\"display: table-cell;\"></div><div style=\"display: table-cell;\">background_hatch_scale&nbsp;=&nbsp;12.0,</div></div><div class=\"p1113\" style=\"display: none;\"><div style=\"display: table-cell;\"></div><div style=\"display: table-cell;\">background_hatch_weight&nbsp;=&nbsp;1.0,</div></div><div class=\"p1113\" style=\"display: none;\"><div style=\"display: table-cell;\"></div><div style=\"display: table-cell;\">below&nbsp;=&nbsp;[LinearAxis(id='p1069', ...)],</div></div><div class=\"p1113\" style=\"display: none;\"><div style=\"display: table-cell;\"></div><div style=\"display: table-cell;\">border_fill_alpha&nbsp;=&nbsp;1.0,</div></div><div class=\"p1113\" style=\"display: none;\"><div style=\"display: table-cell;\"></div><div style=\"display: table-cell;\">border_fill_color&nbsp;=&nbsp;'#ffffff',</div></div><div class=\"p1113\" style=\"display: none;\"><div style=\"display: table-cell;\"></div><div style=\"display: table-cell;\">border_hatch_alpha&nbsp;=&nbsp;1.0,</div></div><div class=\"p1113\" style=\"display: none;\"><div style=\"display: table-cell;\"></div><div style=\"display: table-cell;\">border_hatch_color&nbsp;=&nbsp;'black',</div></div><div class=\"p1113\" style=\"display: none;\"><div style=\"display: table-cell;\"></div><div style=\"display: table-cell;\">border_hatch_extra&nbsp;=&nbsp;{},</div></div><div class=\"p1113\" style=\"display: none;\"><div style=\"display: table-cell;\"></div><div style=\"display: table-cell;\">border_hatch_pattern&nbsp;=&nbsp;None,</div></div><div class=\"p1113\" style=\"display: none;\"><div style=\"display: table-cell;\"></div><div style=\"display: table-cell;\">border_hatch_scale&nbsp;=&nbsp;12.0,</div></div><div class=\"p1113\" style=\"display: none;\"><div style=\"display: table-cell;\"></div><div style=\"display: table-cell;\">border_hatch_weight&nbsp;=&nbsp;1.0,</div></div><div class=\"p1113\" style=\"display: none;\"><div style=\"display: table-cell;\"></div><div style=\"display: table-cell;\">center&nbsp;=&nbsp;[Grid(id='p1073', ...), Grid(id='p1078', ...), Legend(id='p1107', ...)],</div></div><div class=\"p1113\" style=\"display: none;\"><div style=\"display: table-cell;\"></div><div style=\"display: table-cell;\">context_menu&nbsp;=&nbsp;'auto',</div></div><div class=\"p1113\" style=\"display: none;\"><div style=\"display: table-cell;\"></div><div style=\"display: table-cell;\">css_classes&nbsp;=&nbsp;[],</div></div><div class=\"p1113\" style=\"display: none;\"><div style=\"display: table-cell;\"></div><div style=\"display: table-cell;\">css_variables&nbsp;=&nbsp;{},</div></div><div class=\"p1113\" style=\"display: none;\"><div style=\"display: table-cell;\"></div><div style=\"display: table-cell;\">disabled&nbsp;=&nbsp;False,</div></div><div class=\"p1113\" style=\"display: none;\"><div style=\"display: table-cell;\"></div><div style=\"display: table-cell;\">elements&nbsp;=&nbsp;[],</div></div><div class=\"p1113\" style=\"display: none;\"><div style=\"display: table-cell;\"></div><div style=\"display: table-cell;\">extra_x_ranges&nbsp;=&nbsp;{},</div></div><div class=\"p1113\" style=\"display: none;\"><div style=\"display: table-cell;\"></div><div style=\"display: table-cell;\">extra_x_scales&nbsp;=&nbsp;{},</div></div><div class=\"p1113\" style=\"display: none;\"><div style=\"display: table-cell;\"></div><div style=\"display: table-cell;\">extra_y_ranges&nbsp;=&nbsp;{},</div></div><div class=\"p1113\" style=\"display: none;\"><div style=\"display: table-cell;\"></div><div style=\"display: table-cell;\">extra_y_scales&nbsp;=&nbsp;{},</div></div><div class=\"p1113\" style=\"display: none;\"><div style=\"display: table-cell;\"></div><div style=\"display: table-cell;\">flow_mode&nbsp;=&nbsp;'block',</div></div><div class=\"p1113\" style=\"display: none;\"><div style=\"display: table-cell;\"></div><div style=\"display: table-cell;\">frame_align&nbsp;=&nbsp;True,</div></div><div class=\"p1113\" style=\"display: none;\"><div style=\"display: table-cell;\"></div><div style=\"display: table-cell;\">frame_height&nbsp;=&nbsp;None,</div></div><div class=\"p1113\" style=\"display: none;\"><div style=\"display: table-cell;\"></div><div style=\"display: table-cell;\">frame_width&nbsp;=&nbsp;None,</div></div><div class=\"p1113\" style=\"display: none;\"><div style=\"display: table-cell;\"></div><div style=\"display: table-cell;\">height&nbsp;=&nbsp;400,</div></div><div class=\"p1113\" style=\"display: none;\"><div style=\"display: table-cell;\"></div><div style=\"display: table-cell;\">height_policy&nbsp;=&nbsp;'auto',</div></div><div class=\"p1113\" style=\"display: none;\"><div style=\"display: table-cell;\"></div><div style=\"display: table-cell;\">hidpi&nbsp;=&nbsp;True,</div></div><div class=\"p1113\" style=\"display: none;\"><div style=\"display: table-cell;\"></div><div style=\"display: table-cell;\">hold_render&nbsp;=&nbsp;False,</div></div><div class=\"p1113\" style=\"display: none;\"><div style=\"display: table-cell;\"></div><div style=\"display: table-cell;\">html_attributes&nbsp;=&nbsp;{},</div></div><div class=\"p1113\" style=\"display: none;\"><div style=\"display: table-cell;\"></div><div style=\"display: table-cell;\">html_id&nbsp;=&nbsp;None,</div></div><div class=\"p1113\" style=\"display: none;\"><div style=\"display: table-cell;\"></div><div style=\"display: table-cell;\">js_event_callbacks&nbsp;=&nbsp;{},</div></div><div class=\"p1113\" style=\"display: none;\"><div style=\"display: table-cell;\"></div><div style=\"display: table-cell;\">js_property_callbacks&nbsp;=&nbsp;{},</div></div><div class=\"p1113\" style=\"display: none;\"><div style=\"display: table-cell;\"></div><div style=\"display: table-cell;\">left&nbsp;=&nbsp;[LinearAxis(id='p1074', ...)],</div></div><div class=\"p1113\" style=\"display: none;\"><div style=\"display: table-cell;\"></div><div style=\"display: table-cell;\">lod_factor&nbsp;=&nbsp;10,</div></div><div class=\"p1113\" style=\"display: none;\"><div style=\"display: table-cell;\"></div><div style=\"display: table-cell;\">lod_interval&nbsp;=&nbsp;300,</div></div><div class=\"p1113\" style=\"display: none;\"><div style=\"display: table-cell;\"></div><div style=\"display: table-cell;\">lod_threshold&nbsp;=&nbsp;2000,</div></div><div class=\"p1113\" style=\"display: none;\"><div style=\"display: table-cell;\"></div><div style=\"display: table-cell;\">lod_timeout&nbsp;=&nbsp;500,</div></div><div class=\"p1113\" style=\"display: none;\"><div style=\"display: table-cell;\"></div><div style=\"display: table-cell;\">margin&nbsp;=&nbsp;None,</div></div><div class=\"p1113\" style=\"display: none;\"><div style=\"display: table-cell;\"></div><div style=\"display: table-cell;\">match_aspect&nbsp;=&nbsp;False,</div></div><div class=\"p1113\" style=\"display: none;\"><div style=\"display: table-cell;\"></div><div style=\"display: table-cell;\">max_height&nbsp;=&nbsp;None,</div></div><div class=\"p1113\" style=\"display: none;\"><div style=\"display: table-cell;\"></div><div style=\"display: table-cell;\">max_width&nbsp;=&nbsp;None,</div></div><div class=\"p1113\" style=\"display: none;\"><div style=\"display: table-cell;\"></div><div style=\"display: table-cell;\">min_border&nbsp;=&nbsp;5,</div></div><div class=\"p1113\" style=\"display: none;\"><div style=\"display: table-cell;\"></div><div style=\"display: table-cell;\">min_border_bottom&nbsp;=&nbsp;None,</div></div><div class=\"p1113\" style=\"display: none;\"><div style=\"display: table-cell;\"></div><div style=\"display: table-cell;\">min_border_left&nbsp;=&nbsp;None,</div></div><div class=\"p1113\" style=\"display: none;\"><div style=\"display: table-cell;\"></div><div style=\"display: table-cell;\">min_border_right&nbsp;=&nbsp;None,</div></div><div class=\"p1113\" style=\"display: none;\"><div style=\"display: table-cell;\"></div><div style=\"display: table-cell;\">min_border_top&nbsp;=&nbsp;None,</div></div><div class=\"p1113\" style=\"display: none;\"><div style=\"display: table-cell;\"></div><div style=\"display: table-cell;\">min_height&nbsp;=&nbsp;None,</div></div><div class=\"p1113\" style=\"display: none;\"><div style=\"display: table-cell;\"></div><div style=\"display: table-cell;\">min_width&nbsp;=&nbsp;None,</div></div><div class=\"p1113\" style=\"display: none;\"><div style=\"display: table-cell;\"></div><div style=\"display: table-cell;\">name&nbsp;=&nbsp;None,</div></div><div class=\"p1113\" style=\"display: none;\"><div style=\"display: table-cell;\"></div><div style=\"display: table-cell;\">outline_line_alpha&nbsp;=&nbsp;1.0,</div></div><div class=\"p1113\" style=\"display: none;\"><div style=\"display: table-cell;\"></div><div style=\"display: table-cell;\">outline_line_cap&nbsp;=&nbsp;'butt',</div></div><div class=\"p1113\" style=\"display: none;\"><div style=\"display: table-cell;\"></div><div style=\"display: table-cell;\">outline_line_color&nbsp;=&nbsp;'#e5e5e5',</div></div><div class=\"p1113\" style=\"display: none;\"><div style=\"display: table-cell;\"></div><div style=\"display: table-cell;\">outline_line_dash&nbsp;=&nbsp;[],</div></div><div class=\"p1113\" style=\"display: none;\"><div style=\"display: table-cell;\"></div><div style=\"display: table-cell;\">outline_line_dash_offset&nbsp;=&nbsp;0,</div></div><div class=\"p1113\" style=\"display: none;\"><div style=\"display: table-cell;\"></div><div style=\"display: table-cell;\">outline_line_join&nbsp;=&nbsp;'bevel',</div></div><div class=\"p1113\" style=\"display: none;\"><div style=\"display: table-cell;\"></div><div style=\"display: table-cell;\">outline_line_width&nbsp;=&nbsp;1,</div></div><div class=\"p1113\" style=\"display: none;\"><div style=\"display: table-cell;\"></div><div style=\"display: table-cell;\">output_backend&nbsp;=&nbsp;'canvas',</div></div><div class=\"p1113\" style=\"display: none;\"><div style=\"display: table-cell;\"></div><div style=\"display: table-cell;\">renderers&nbsp;=&nbsp;[GlyphRenderer(id='p1104', ...)],</div></div><div class=\"p1113\" style=\"display: none;\"><div style=\"display: table-cell;\"></div><div style=\"display: table-cell;\">reset_policy&nbsp;=&nbsp;'standard',</div></div><div class=\"p1113\" style=\"display: none;\"><div style=\"display: table-cell;\"></div><div style=\"display: table-cell;\">resizable&nbsp;=&nbsp;False,</div></div><div class=\"p1113\" style=\"display: none;\"><div style=\"display: table-cell;\"></div><div style=\"display: table-cell;\">right&nbsp;=&nbsp;[],</div></div><div class=\"p1113\" style=\"display: none;\"><div style=\"display: table-cell;\"></div><div style=\"display: table-cell;\">sizing_mode&nbsp;=&nbsp;None,</div></div><div class=\"p1113\" style=\"display: none;\"><div style=\"display: table-cell;\"></div><div style=\"display: table-cell;\">styles&nbsp;=&nbsp;{},</div></div><div class=\"p1113\" style=\"display: none;\"><div style=\"display: table-cell;\"></div><div style=\"display: table-cell;\">stylesheets&nbsp;=&nbsp;[],</div></div><div class=\"p1113\" style=\"display: none;\"><div style=\"display: table-cell;\"></div><div style=\"display: table-cell;\">subscribed_events&nbsp;=&nbsp;PropertyValueSet(),</div></div><div class=\"p1113\" style=\"display: none;\"><div style=\"display: table-cell;\"></div><div style=\"display: table-cell;\">syncable&nbsp;=&nbsp;True,</div></div><div class=\"p1113\" style=\"display: none;\"><div style=\"display: table-cell;\"></div><div style=\"display: table-cell;\">tags&nbsp;=&nbsp;[],</div></div><div class=\"p1113\" style=\"display: none;\"><div style=\"display: table-cell;\"></div><div style=\"display: table-cell;\">title&nbsp;=&nbsp;Title(id='p1065', ...),</div></div><div class=\"p1113\" style=\"display: none;\"><div style=\"display: table-cell;\"></div><div style=\"display: table-cell;\">title_location&nbsp;=&nbsp;'above',</div></div><div class=\"p1113\" style=\"display: none;\"><div style=\"display: table-cell;\"></div><div style=\"display: table-cell;\">toolbar&nbsp;=&nbsp;Toolbar(id='p1066', ...),</div></div><div class=\"p1113\" style=\"display: none;\"><div style=\"display: table-cell;\"></div><div style=\"display: table-cell;\">toolbar_inner&nbsp;=&nbsp;False,</div></div><div class=\"p1113\" style=\"display: none;\"><div style=\"display: table-cell;\"></div><div style=\"display: table-cell;\">toolbar_location&nbsp;=&nbsp;'right',</div></div><div class=\"p1113\" style=\"display: none;\"><div style=\"display: table-cell;\"></div><div style=\"display: table-cell;\">toolbar_sticky&nbsp;=&nbsp;True,</div></div><div class=\"p1113\" style=\"display: none;\"><div style=\"display: table-cell;\"></div><div style=\"display: table-cell;\">visible&nbsp;=&nbsp;True,</div></div><div class=\"p1113\" style=\"display: none;\"><div style=\"display: table-cell;\"></div><div style=\"display: table-cell;\">width&nbsp;=&nbsp;400,</div></div><div class=\"p1113\" style=\"display: none;\"><div style=\"display: table-cell;\"></div><div style=\"display: table-cell;\">width_policy&nbsp;=&nbsp;'auto',</div></div><div class=\"p1113\" style=\"display: none;\"><div style=\"display: table-cell;\"></div><div style=\"display: table-cell;\">window_axis&nbsp;=&nbsp;'none',</div></div><div class=\"p1113\" style=\"display: none;\"><div style=\"display: table-cell;\"></div><div style=\"display: table-cell;\">x_range&nbsp;=&nbsp;DataRange1d(id='p1059', ...),</div></div><div class=\"p1113\" style=\"display: none;\"><div style=\"display: table-cell;\"></div><div style=\"display: table-cell;\">x_scale&nbsp;=&nbsp;LinearScale(id='p1067', ...),</div></div><div class=\"p1113\" style=\"display: none;\"><div style=\"display: table-cell;\"></div><div style=\"display: table-cell;\">y_range&nbsp;=&nbsp;DataRange1d(id='p1060', ...),</div></div><div class=\"p1113\" style=\"display: none;\"><div style=\"display: table-cell;\"></div><div style=\"display: table-cell;\">y_scale&nbsp;=&nbsp;LinearScale(id='p1068', ...))</div></div></div>\n",
              "<script>\n",
              "(function() {\n",
              "  let expanded = false;\n",
              "  const ellipsis = document.getElementById(\"p1114\");\n",
              "  ellipsis.addEventListener(\"click\", function() {\n",
              "    const rows = document.getElementsByClassName(\"p1113\");\n",
              "    for (let i = 0; i < rows.length; i++) {\n",
              "      const el = rows[i];\n",
              "      el.style.display = expanded ? \"none\" : \"table-row\";\n",
              "    }\n",
              "    ellipsis.innerHTML = expanded ? \"&hellip;)\" : \"&lsaquo;&lsaquo;&lsaquo;\";\n",
              "    expanded = !expanded;\n",
              "  });\n",
              "})();\n",
              "</script>\n"
            ]
          },
          "metadata": {},
          "execution_count": 54
        }
      ]
    },
    {
      "cell_type": "markdown",
      "source": [
        "# CNN untrained"
      ],
      "metadata": {
        "id": "Zdx34YyiAPpj"
      }
    },
    {
      "cell_type": "code",
      "source": [
        "import torch\n",
        "import torch.nn as nn\n",
        "import torch.optim as optim\n",
        "from torchvision import datasets, transforms\n",
        "from torch.utils.data import DataLoader\n",
        "import matplotlib.pyplot as plt\n",
        "import numpy as np\n",
        "class DeepCNNEncoder(nn.Module):\n",
        "    def __init__(self):\n",
        "        super(DeepCNNEncoder, self).__init__()\n",
        "\n",
        "        self.encoder = nn.Sequential(\n",
        "            # Block 1: 3x32x32 -> 32x32x32\n",
        "            nn.Conv2d(3, 32, kernel_size=3, stride=1, padding=1),\n",
        "            nn.BatchNorm2d(32),\n",
        "            nn.ReLU(),\n",
        "\n",
        "            # Block 2: 32x32x32 -> 32x32x32\n",
        "            nn.Conv2d(32, 32, kernel_size=3, stride=1, padding=1),\n",
        "            nn.BatchNorm2d(32),\n",
        "            nn.ReLU(),\n",
        "\n",
        "            # Downsample 1: 32x32x32 -> 64x16x16\n",
        "            nn.Conv2d(32, 64, kernel_size=3, stride=2, padding=1),\n",
        "            nn.BatchNorm2d(64),\n",
        "            nn.ReLU(),\n",
        "\n",
        "            # Block 3: 64x16x16 -> 64x16x16\n",
        "            nn.Conv2d(64, 64, kernel_size=3, stride=1, padding=1),\n",
        "            nn.BatchNorm2d(64),\n",
        "            nn.ReLU(),\n",
        "\n",
        "            # Block 4: 64x16x16 -> 64x16x16\n",
        "            nn.Conv2d(64, 64, kernel_size=3, stride=1, padding=1),\n",
        "            nn.BatchNorm2d(64),\n",
        "            nn.ReLU(),\n",
        "\n",
        "            # Downsample 2: 64x16x16 -> 128x8x8\n",
        "            nn.Conv2d(64, 128, kernel_size=3, stride=2, padding=1),\n",
        "            nn.BatchNorm2d(128),\n",
        "            nn.ReLU(),\n",
        "\n",
        "            # Block 5: 128x8x8 -> 128x8x8\n",
        "            nn.Conv2d(128, 128, kernel_size=3, stride=1, padding=1),\n",
        "            nn.BatchNorm2d(128),\n",
        "            nn.ReLU(),\n",
        "\n",
        "            # Block 6: 128x8x8 -> 128x8x8\n",
        "            nn.Conv2d(128, 128, kernel_size=3, stride=1, padding=1),\n",
        "            nn.BatchNorm2d(128),\n",
        "            nn.ReLU(),\n",
        "\n",
        "            # Final projection: 128x8x8 -> 1x8x8\n",
        "            nn.Conv2d(128, 1, kernel_size=3, stride=1, padding=1),\n",
        "            nn.BatchNorm2d(1),\n",
        "            nn.ReLU()\n",
        "        )\n",
        "\n",
        "    def forward(self, x):\n",
        "        return self.encoder(x).view(x.size(0), -1)"
      ],
      "metadata": {
        "id": "dmeyvoxQAPcu"
      },
      "execution_count": null,
      "outputs": []
    },
    {
      "cell_type": "code",
      "source": [
        "import numpy as np\n",
        "import matplotlib.pyplot as plt\n",
        "import yaml\n",
        "import os\n",
        "import sys\n",
        "\n",
        "import pandas as pd\n",
        "\n",
        "from torchvision import transforms\n",
        "\n",
        "device = torch.device('cuda' if torch.cuda.is_available() else 'cpu')\n",
        "\n",
        "encoder = DeepCNNEncoder().to(device)\n",
        "\n",
        "pd.read_csv('image_info.csv')['edible'].astype(int).to_csv(\"test_is_edible.csv\")\n",
        "dataset = ImageLabelDataset(\n",
        "    csv_file=\"/content/test_is_edible.csv\",\n",
        "    img_dir=\"/content/im\",\n",
        "    transform=transforms.ToTensor()  # Add any other transforms\n",
        ")\n",
        "loader = DataLoader(dataset, batch_size=512)\n",
        "loader_original = DataLoader(dataset, batch_size=512)\n",
        "\n",
        "encoder_func = lambda x: encoder(x)\n",
        "print(len(loader))\n",
        "runner = Runner(\n",
        "    encoder_func,\n",
        "    loader,\n",
        "    loader_original,\n",
        "    \"/content/CNN_config.yaml\"\n",
        ")\n",
        "\n",
        "embeddings, labels, original_images, tsne_results = runner.run(\"test_rerunning\", device, n_iter = 30)"
      ],
      "metadata": {
        "colab": {
          "base_uri": "https://localhost:8080/",
          "height": 1000
        },
        "id": "rLACnEwHAPYe",
        "outputId": "603b7b2e-a9ad-4d68-84c9-48412eeb1dfe"
      },
      "execution_count": null,
      "outputs": [
        {
          "output_type": "stream",
          "name": "stdout",
          "text": [
            "98\n",
            "{'model_name': 'SEP', 'encoder': 'DeepCNNEncoder', 'input_space_shape': 64, 'delta': 0.1, 'lr': 0.001, 'dr': 0.999, 'omega': 0.3, 'kernel': 'exponential', 'num_exemp': 20}\n",
            "(50000, 64) (50000,) (50000, 3072)\n"
          ]
        },
        {
          "output_type": "display_data",
          "data": {
            "text/plain": [
              "<IPython.core.display.HTML object>"
            ],
            "text/html": [
              "Tracking run with wandb version 0.19.11"
            ]
          },
          "metadata": {}
        },
        {
          "output_type": "display_data",
          "data": {
            "text/plain": [
              "<IPython.core.display.HTML object>"
            ],
            "text/html": [
              "Run data is saved locally in <code>/content/wandb/run-20250516_233759-r15zv5cd</code>"
            ]
          },
          "metadata": {}
        },
        {
          "output_type": "display_data",
          "data": {
            "text/plain": [
              "<IPython.core.display.HTML object>"
            ],
            "text/html": [
              "Syncing run <strong><a href='https://wandb.ai/ms-hate-life-/encoder_runs/runs/r15zv5cd' target=\"_blank\">test_rerunning</a></strong> to <a href='https://wandb.ai/ms-hate-life-/encoder_runs' target=\"_blank\">Weights & Biases</a> (<a href='https://wandb.me/developer-guide' target=\"_blank\">docs</a>)<br>"
            ]
          },
          "metadata": {}
        },
        {
          "output_type": "display_data",
          "data": {
            "text/plain": [
              "<IPython.core.display.HTML object>"
            ],
            "text/html": [
              " View project at <a href='https://wandb.ai/ms-hate-life-/encoder_runs' target=\"_blank\">https://wandb.ai/ms-hate-life-/encoder_runs</a>"
            ]
          },
          "metadata": {}
        },
        {
          "output_type": "display_data",
          "data": {
            "text/plain": [
              "<IPython.core.display.HTML object>"
            ],
            "text/html": [
              " View run at <a href='https://wandb.ai/ms-hate-life-/encoder_runs/runs/r15zv5cd' target=\"_blank\">https://wandb.ai/ms-hate-life-/encoder_runs/runs/r15zv5cd</a>"
            ]
          },
          "metadata": {}
        },
        {
          "output_type": "display_data",
          "data": {
            "text/plain": [
              "<IPython.core.display.HTML object>"
            ],
            "text/html": []
          },
          "metadata": {}
        },
        {
          "output_type": "display_data",
          "data": {
            "text/plain": [
              "<IPython.core.display.HTML object>"
            ],
            "text/html": [
              "<br>    <style><br>        .wandb-row {<br>            display: flex;<br>            flex-direction: row;<br>            flex-wrap: wrap;<br>            justify-content: flex-start;<br>            width: 100%;<br>        }<br>        .wandb-col {<br>            display: flex;<br>            flex-direction: column;<br>            flex-basis: 100%;<br>            flex: 1;<br>            padding: 10px;<br>        }<br>    </style><br><div class=\"wandb-row\"><div class=\"wandb-col\"><h3>Run history:</h3><br/><table class=\"wandb\"><tr><td>peck_edible</td><td>▁████▁▁█▁▁▁▁█▁▁▁█▁███▁▁▁█▁████▁▁▁▁█▁▁█▁▁</td></tr><tr><td>second_order_similarity</td><td>▁</td></tr></table><br/></div><div class=\"wandb-col\"><h3>Run summary:</h3><br/><table class=\"wandb\"><tr><td>peck_edible</td><td>0</td></tr><tr><td>second_order_similarity</td><td>0.54209</td></tr></table><br/></div></div>"
            ]
          },
          "metadata": {}
        },
        {
          "output_type": "display_data",
          "data": {
            "text/plain": [
              "<IPython.core.display.HTML object>"
            ],
            "text/html": [
              " View run <strong style=\"color:#cdcd00\">test_rerunning</strong> at: <a href='https://wandb.ai/ms-hate-life-/encoder_runs/runs/r15zv5cd' target=\"_blank\">https://wandb.ai/ms-hate-life-/encoder_runs/runs/r15zv5cd</a><br> View project at: <a href='https://wandb.ai/ms-hate-life-/encoder_runs' target=\"_blank\">https://wandb.ai/ms-hate-life-/encoder_runs</a><br>Synced 5 W&B file(s), 0 media file(s), 0 artifact file(s) and 0 other file(s)"
            ]
          },
          "metadata": {}
        },
        {
          "output_type": "display_data",
          "data": {
            "text/plain": [
              "<IPython.core.display.HTML object>"
            ],
            "text/html": [
              "Find logs at: <code>./wandb/run-20250516_233759-r15zv5cd/logs</code>"
            ]
          },
          "metadata": {}
        },
        {
          "output_type": "display_data",
          "data": {
            "text/plain": [
              "<IPython.core.display.HTML object>"
            ],
            "text/html": [
              "Tracking run with wandb version 0.19.11"
            ]
          },
          "metadata": {}
        },
        {
          "output_type": "display_data",
          "data": {
            "text/plain": [
              "<IPython.core.display.HTML object>"
            ],
            "text/html": [
              "Run data is saved locally in <code>/content/wandb/run-20250516_233824-6qlsid69</code>"
            ]
          },
          "metadata": {}
        },
        {
          "output_type": "display_data",
          "data": {
            "text/plain": [
              "<IPython.core.display.HTML object>"
            ],
            "text/html": [
              "Syncing run <strong><a href='https://wandb.ai/ms-hate-life-/encoder_runs/runs/6qlsid69' target=\"_blank\">test_rerunning</a></strong> to <a href='https://wandb.ai/ms-hate-life-/encoder_runs' target=\"_blank\">Weights & Biases</a> (<a href='https://wandb.me/developer-guide' target=\"_blank\">docs</a>)<br>"
            ]
          },
          "metadata": {}
        },
        {
          "output_type": "display_data",
          "data": {
            "text/plain": [
              "<IPython.core.display.HTML object>"
            ],
            "text/html": [
              " View project at <a href='https://wandb.ai/ms-hate-life-/encoder_runs' target=\"_blank\">https://wandb.ai/ms-hate-life-/encoder_runs</a>"
            ]
          },
          "metadata": {}
        },
        {
          "output_type": "display_data",
          "data": {
            "text/plain": [
              "<IPython.core.display.HTML object>"
            ],
            "text/html": [
              " View run at <a href='https://wandb.ai/ms-hate-life-/encoder_runs/runs/6qlsid69' target=\"_blank\">https://wandb.ai/ms-hate-life-/encoder_runs/runs/6qlsid69</a>"
            ]
          },
          "metadata": {}
        },
        {
          "output_type": "stream",
          "name": "stdout",
          "text": [
            "Trial 7750 finished!\n"
          ]
        },
        {
          "output_type": "display_data",
          "data": {
            "text/plain": [
              "<IPython.core.display.HTML object>"
            ],
            "text/html": []
          },
          "metadata": {}
        },
        {
          "output_type": "display_data",
          "data": {
            "text/plain": [
              "<IPython.core.display.HTML object>"
            ],
            "text/html": [
              "<br>    <style><br>        .wandb-row {<br>            display: flex;<br>            flex-direction: row;<br>            flex-wrap: wrap;<br>            justify-content: flex-start;<br>            width: 100%;<br>        }<br>        .wandb-col {<br>            display: flex;<br>            flex-direction: column;<br>            flex-basis: 100%;<br>            flex: 1;<br>            padding: 10px;<br>        }<br>    </style><br><div class=\"wandb-row\"><div class=\"wandb-col\"><h3>Run history:</h3><br/><table class=\"wandb\"><tr><td>peck_edible</td><td>▁█▁▁▁█▁▁█▁█▁▁▁▁▁▁▁▁███▁▁██▁▁████▁██▁█▁█▁</td></tr><tr><td>second_order_similarity</td><td>▁</td></tr></table><br/></div><div class=\"wandb-col\"><h3>Run summary:</h3><br/><table class=\"wandb\"><tr><td>peck_edible</td><td>1</td></tr><tr><td>second_order_similarity</td><td>0.53887</td></tr></table><br/></div></div>"
            ]
          },
          "metadata": {}
        },
        {
          "output_type": "display_data",
          "data": {
            "text/plain": [
              "<IPython.core.display.HTML object>"
            ],
            "text/html": [
              " View run <strong style=\"color:#cdcd00\">test_rerunning</strong> at: <a href='https://wandb.ai/ms-hate-life-/encoder_runs/runs/6qlsid69' target=\"_blank\">https://wandb.ai/ms-hate-life-/encoder_runs/runs/6qlsid69</a><br> View project at: <a href='https://wandb.ai/ms-hate-life-/encoder_runs' target=\"_blank\">https://wandb.ai/ms-hate-life-/encoder_runs</a><br>Synced 5 W&B file(s), 0 media file(s), 0 artifact file(s) and 0 other file(s)"
            ]
          },
          "metadata": {}
        },
        {
          "output_type": "display_data",
          "data": {
            "text/plain": [
              "<IPython.core.display.HTML object>"
            ],
            "text/html": [
              "Find logs at: <code>./wandb/run-20250516_233824-6qlsid69/logs</code>"
            ]
          },
          "metadata": {}
        },
        {
          "output_type": "display_data",
          "data": {
            "text/plain": [
              "<IPython.core.display.HTML object>"
            ],
            "text/html": [
              "Tracking run with wandb version 0.19.11"
            ]
          },
          "metadata": {}
        },
        {
          "output_type": "display_data",
          "data": {
            "text/plain": [
              "<IPython.core.display.HTML object>"
            ],
            "text/html": [
              "Run data is saved locally in <code>/content/wandb/run-20250516_233845-o23tstaj</code>"
            ]
          },
          "metadata": {}
        },
        {
          "output_type": "display_data",
          "data": {
            "text/plain": [
              "<IPython.core.display.HTML object>"
            ],
            "text/html": [
              "Syncing run <strong><a href='https://wandb.ai/ms-hate-life-/encoder_runs/runs/o23tstaj' target=\"_blank\">test_rerunning</a></strong> to <a href='https://wandb.ai/ms-hate-life-/encoder_runs' target=\"_blank\">Weights & Biases</a> (<a href='https://wandb.me/developer-guide' target=\"_blank\">docs</a>)<br>"
            ]
          },
          "metadata": {}
        },
        {
          "output_type": "display_data",
          "data": {
            "text/plain": [
              "<IPython.core.display.HTML object>"
            ],
            "text/html": [
              " View project at <a href='https://wandb.ai/ms-hate-life-/encoder_runs' target=\"_blank\">https://wandb.ai/ms-hate-life-/encoder_runs</a>"
            ]
          },
          "metadata": {}
        },
        {
          "output_type": "display_data",
          "data": {
            "text/plain": [
              "<IPython.core.display.HTML object>"
            ],
            "text/html": [
              " View run at <a href='https://wandb.ai/ms-hate-life-/encoder_runs/runs/o23tstaj' target=\"_blank\">https://wandb.ai/ms-hate-life-/encoder_runs/runs/o23tstaj</a>"
            ]
          },
          "metadata": {}
        },
        {
          "output_type": "stream",
          "name": "stdout",
          "text": [
            "Trial 1197 finished!\n"
          ]
        },
        {
          "output_type": "display_data",
          "data": {
            "text/plain": [
              "<IPython.core.display.HTML object>"
            ],
            "text/html": []
          },
          "metadata": {}
        },
        {
          "output_type": "display_data",
          "data": {
            "text/plain": [
              "<IPython.core.display.HTML object>"
            ],
            "text/html": [
              "<br>    <style><br>        .wandb-row {<br>            display: flex;<br>            flex-direction: row;<br>            flex-wrap: wrap;<br>            justify-content: flex-start;<br>            width: 100%;<br>        }<br>        .wandb-col {<br>            display: flex;<br>            flex-direction: column;<br>            flex-basis: 100%;<br>            flex: 1;<br>            padding: 10px;<br>        }<br>    </style><br><div class=\"wandb-row\"><div class=\"wandb-col\"><h3>Run history:</h3><br/><table class=\"wandb\"><tr><td>peck_edible</td><td>█▁█▁▁▁▁█▁██▁████▁▁▁▁▁▁▁▁█▁▁▁████▁█▁████▁</td></tr><tr><td>second_order_similarity</td><td>▁</td></tr></table><br/></div><div class=\"wandb-col\"><h3>Run summary:</h3><br/><table class=\"wandb\"><tr><td>peck_edible</td><td>1</td></tr><tr><td>second_order_similarity</td><td>0.53844</td></tr></table><br/></div></div>"
            ]
          },
          "metadata": {}
        },
        {
          "output_type": "display_data",
          "data": {
            "text/plain": [
              "<IPython.core.display.HTML object>"
            ],
            "text/html": [
              " View run <strong style=\"color:#cdcd00\">test_rerunning</strong> at: <a href='https://wandb.ai/ms-hate-life-/encoder_runs/runs/o23tstaj' target=\"_blank\">https://wandb.ai/ms-hate-life-/encoder_runs/runs/o23tstaj</a><br> View project at: <a href='https://wandb.ai/ms-hate-life-/encoder_runs' target=\"_blank\">https://wandb.ai/ms-hate-life-/encoder_runs</a><br>Synced 5 W&B file(s), 0 media file(s), 0 artifact file(s) and 0 other file(s)"
            ]
          },
          "metadata": {}
        },
        {
          "output_type": "display_data",
          "data": {
            "text/plain": [
              "<IPython.core.display.HTML object>"
            ],
            "text/html": [
              "Find logs at: <code>./wandb/run-20250516_233845-o23tstaj/logs</code>"
            ]
          },
          "metadata": {}
        },
        {
          "output_type": "display_data",
          "data": {
            "text/plain": [
              "<IPython.core.display.HTML object>"
            ],
            "text/html": [
              "Tracking run with wandb version 0.19.11"
            ]
          },
          "metadata": {}
        },
        {
          "output_type": "display_data",
          "data": {
            "text/plain": [
              "<IPython.core.display.HTML object>"
            ],
            "text/html": [
              "Run data is saved locally in <code>/content/wandb/run-20250516_233904-lbr361kj</code>"
            ]
          },
          "metadata": {}
        },
        {
          "output_type": "display_data",
          "data": {
            "text/plain": [
              "<IPython.core.display.HTML object>"
            ],
            "text/html": [
              "Syncing run <strong><a href='https://wandb.ai/ms-hate-life-/encoder_runs/runs/lbr361kj' target=\"_blank\">test_rerunning</a></strong> to <a href='https://wandb.ai/ms-hate-life-/encoder_runs' target=\"_blank\">Weights & Biases</a> (<a href='https://wandb.me/developer-guide' target=\"_blank\">docs</a>)<br>"
            ]
          },
          "metadata": {}
        },
        {
          "output_type": "display_data",
          "data": {
            "text/plain": [
              "<IPython.core.display.HTML object>"
            ],
            "text/html": [
              " View project at <a href='https://wandb.ai/ms-hate-life-/encoder_runs' target=\"_blank\">https://wandb.ai/ms-hate-life-/encoder_runs</a>"
            ]
          },
          "metadata": {}
        },
        {
          "output_type": "display_data",
          "data": {
            "text/plain": [
              "<IPython.core.display.HTML object>"
            ],
            "text/html": [
              " View run at <a href='https://wandb.ai/ms-hate-life-/encoder_runs/runs/lbr361kj' target=\"_blank\">https://wandb.ai/ms-hate-life-/encoder_runs/runs/lbr361kj</a>"
            ]
          },
          "metadata": {}
        },
        {
          "output_type": "display_data",
          "data": {
            "text/plain": [
              "<IPython.core.display.HTML object>"
            ],
            "text/html": []
          },
          "metadata": {}
        },
        {
          "output_type": "display_data",
          "data": {
            "text/plain": [
              "<IPython.core.display.HTML object>"
            ],
            "text/html": [
              "<br>    <style><br>        .wandb-row {<br>            display: flex;<br>            flex-direction: row;<br>            flex-wrap: wrap;<br>            justify-content: flex-start;<br>            width: 100%;<br>        }<br>        .wandb-col {<br>            display: flex;<br>            flex-direction: column;<br>            flex-basis: 100%;<br>            flex: 1;<br>            padding: 10px;<br>        }<br>    </style><br><div class=\"wandb-row\"><div class=\"wandb-col\"><h3>Run history:</h3><br/><table class=\"wandb\"><tr><td>peck_edible</td><td>█▁▁▁█▁▁█▁▁▁▁▁▁</td></tr><tr><td>second_order_similarity</td><td>▁</td></tr></table><br/></div><div class=\"wandb-col\"><h3>Run summary:</h3><br/><table class=\"wandb\"><tr><td>peck_edible</td><td>0</td></tr><tr><td>second_order_similarity</td><td>0.5326</td></tr></table><br/></div></div>"
            ]
          },
          "metadata": {}
        },
        {
          "output_type": "display_data",
          "data": {
            "text/plain": [
              "<IPython.core.display.HTML object>"
            ],
            "text/html": [
              " View run <strong style=\"color:#cdcd00\">test_rerunning</strong> at: <a href='https://wandb.ai/ms-hate-life-/encoder_runs/runs/lbr361kj' target=\"_blank\">https://wandb.ai/ms-hate-life-/encoder_runs/runs/lbr361kj</a><br> View project at: <a href='https://wandb.ai/ms-hate-life-/encoder_runs' target=\"_blank\">https://wandb.ai/ms-hate-life-/encoder_runs</a><br>Synced 5 W&B file(s), 0 media file(s), 0 artifact file(s) and 0 other file(s)"
            ]
          },
          "metadata": {}
        },
        {
          "output_type": "display_data",
          "data": {
            "text/plain": [
              "<IPython.core.display.HTML object>"
            ],
            "text/html": [
              "Find logs at: <code>./wandb/run-20250516_233904-lbr361kj/logs</code>"
            ]
          },
          "metadata": {}
        },
        {
          "output_type": "display_data",
          "data": {
            "text/plain": [
              "<IPython.core.display.HTML object>"
            ],
            "text/html": [
              "Tracking run with wandb version 0.19.11"
            ]
          },
          "metadata": {}
        },
        {
          "output_type": "display_data",
          "data": {
            "text/plain": [
              "<IPython.core.display.HTML object>"
            ],
            "text/html": [
              "Run data is saved locally in <code>/content/wandb/run-20250516_233923-etuq5bhq</code>"
            ]
          },
          "metadata": {}
        },
        {
          "output_type": "display_data",
          "data": {
            "text/plain": [
              "<IPython.core.display.HTML object>"
            ],
            "text/html": [
              "Syncing run <strong><a href='https://wandb.ai/ms-hate-life-/encoder_runs/runs/etuq5bhq' target=\"_blank\">test_rerunning</a></strong> to <a href='https://wandb.ai/ms-hate-life-/encoder_runs' target=\"_blank\">Weights & Biases</a> (<a href='https://wandb.me/developer-guide' target=\"_blank\">docs</a>)<br>"
            ]
          },
          "metadata": {}
        },
        {
          "output_type": "display_data",
          "data": {
            "text/plain": [
              "<IPython.core.display.HTML object>"
            ],
            "text/html": [
              " View project at <a href='https://wandb.ai/ms-hate-life-/encoder_runs' target=\"_blank\">https://wandb.ai/ms-hate-life-/encoder_runs</a>"
            ]
          },
          "metadata": {}
        },
        {
          "output_type": "display_data",
          "data": {
            "text/plain": [
              "<IPython.core.display.HTML object>"
            ],
            "text/html": [
              " View run at <a href='https://wandb.ai/ms-hate-life-/encoder_runs/runs/etuq5bhq' target=\"_blank\">https://wandb.ai/ms-hate-life-/encoder_runs/runs/etuq5bhq</a>"
            ]
          },
          "metadata": {}
        },
        {
          "output_type": "display_data",
          "data": {
            "text/plain": [
              "<IPython.core.display.HTML object>"
            ],
            "text/html": []
          },
          "metadata": {}
        },
        {
          "output_type": "display_data",
          "data": {
            "text/plain": [
              "<IPython.core.display.HTML object>"
            ],
            "text/html": [
              "<br>    <style><br>        .wandb-row {<br>            display: flex;<br>            flex-direction: row;<br>            flex-wrap: wrap;<br>            justify-content: flex-start;<br>            width: 100%;<br>        }<br>        .wandb-col {<br>            display: flex;<br>            flex-direction: column;<br>            flex-basis: 100%;<br>            flex: 1;<br>            padding: 10px;<br>        }<br>    </style><br><div class=\"wandb-row\"><div class=\"wandb-col\"><h3>Run history:</h3><br/><table class=\"wandb\"><tr><td>peck_edible</td><td>██▁▁▁▁▁▁█▁█▁▁▁▁▁█▁▁▁▁█▁▁▁▁██▁█▁▁██▁▁▁█▁▁</td></tr><tr><td>second_order_similarity</td><td>▁</td></tr></table><br/></div><div class=\"wandb-col\"><h3>Run summary:</h3><br/><table class=\"wandb\"><tr><td>peck_edible</td><td>0</td></tr><tr><td>second_order_similarity</td><td>0.53887</td></tr></table><br/></div></div>"
            ]
          },
          "metadata": {}
        },
        {
          "output_type": "display_data",
          "data": {
            "text/plain": [
              "<IPython.core.display.HTML object>"
            ],
            "text/html": [
              " View run <strong style=\"color:#cdcd00\">test_rerunning</strong> at: <a href='https://wandb.ai/ms-hate-life-/encoder_runs/runs/etuq5bhq' target=\"_blank\">https://wandb.ai/ms-hate-life-/encoder_runs/runs/etuq5bhq</a><br> View project at: <a href='https://wandb.ai/ms-hate-life-/encoder_runs' target=\"_blank\">https://wandb.ai/ms-hate-life-/encoder_runs</a><br>Synced 5 W&B file(s), 0 media file(s), 0 artifact file(s) and 0 other file(s)"
            ]
          },
          "metadata": {}
        },
        {
          "output_type": "display_data",
          "data": {
            "text/plain": [
              "<IPython.core.display.HTML object>"
            ],
            "text/html": [
              "Find logs at: <code>./wandb/run-20250516_233923-etuq5bhq/logs</code>"
            ]
          },
          "metadata": {}
        },
        {
          "output_type": "display_data",
          "data": {
            "text/plain": [
              "<IPython.core.display.HTML object>"
            ],
            "text/html": [
              "Tracking run with wandb version 0.19.11"
            ]
          },
          "metadata": {}
        },
        {
          "output_type": "display_data",
          "data": {
            "text/plain": [
              "<IPython.core.display.HTML object>"
            ],
            "text/html": [
              "Run data is saved locally in <code>/content/wandb/run-20250516_233942-n149iiad</code>"
            ]
          },
          "metadata": {}
        },
        {
          "output_type": "display_data",
          "data": {
            "text/plain": [
              "<IPython.core.display.HTML object>"
            ],
            "text/html": [
              "Syncing run <strong><a href='https://wandb.ai/ms-hate-life-/encoder_runs/runs/n149iiad' target=\"_blank\">test_rerunning</a></strong> to <a href='https://wandb.ai/ms-hate-life-/encoder_runs' target=\"_blank\">Weights & Biases</a> (<a href='https://wandb.me/developer-guide' target=\"_blank\">docs</a>)<br>"
            ]
          },
          "metadata": {}
        },
        {
          "output_type": "display_data",
          "data": {
            "text/plain": [
              "<IPython.core.display.HTML object>"
            ],
            "text/html": [
              " View project at <a href='https://wandb.ai/ms-hate-life-/encoder_runs' target=\"_blank\">https://wandb.ai/ms-hate-life-/encoder_runs</a>"
            ]
          },
          "metadata": {}
        },
        {
          "output_type": "display_data",
          "data": {
            "text/plain": [
              "<IPython.core.display.HTML object>"
            ],
            "text/html": [
              " View run at <a href='https://wandb.ai/ms-hate-life-/encoder_runs/runs/n149iiad' target=\"_blank\">https://wandb.ai/ms-hate-life-/encoder_runs/runs/n149iiad</a>"
            ]
          },
          "metadata": {}
        },
        {
          "output_type": "stream",
          "name": "stdout",
          "text": [
            "Trial 3909 finished!\n"
          ]
        },
        {
          "output_type": "display_data",
          "data": {
            "text/plain": [
              "<IPython.core.display.HTML object>"
            ],
            "text/html": []
          },
          "metadata": {}
        },
        {
          "output_type": "display_data",
          "data": {
            "text/plain": [
              "<IPython.core.display.HTML object>"
            ],
            "text/html": [
              "<br>    <style><br>        .wandb-row {<br>            display: flex;<br>            flex-direction: row;<br>            flex-wrap: wrap;<br>            justify-content: flex-start;<br>            width: 100%;<br>        }<br>        .wandb-col {<br>            display: flex;<br>            flex-direction: column;<br>            flex-basis: 100%;<br>            flex: 1;<br>            padding: 10px;<br>        }<br>    </style><br><div class=\"wandb-row\"><div class=\"wandb-col\"><h3>Run history:</h3><br/><table class=\"wandb\"><tr><td>peck_edible</td><td>██▁█▁▁▁▁███▁▁▁█▁█▁▁███▁█▁█▁▁▁██▁▁█▁▁████</td></tr><tr><td>second_order_similarity</td><td>▁</td></tr></table><br/></div><div class=\"wandb-col\"><h3>Run summary:</h3><br/><table class=\"wandb\"><tr><td>peck_edible</td><td>0</td></tr><tr><td>second_order_similarity</td><td>0.53776</td></tr></table><br/></div></div>"
            ]
          },
          "metadata": {}
        },
        {
          "output_type": "display_data",
          "data": {
            "text/plain": [
              "<IPython.core.display.HTML object>"
            ],
            "text/html": [
              " View run <strong style=\"color:#cdcd00\">test_rerunning</strong> at: <a href='https://wandb.ai/ms-hate-life-/encoder_runs/runs/n149iiad' target=\"_blank\">https://wandb.ai/ms-hate-life-/encoder_runs/runs/n149iiad</a><br> View project at: <a href='https://wandb.ai/ms-hate-life-/encoder_runs' target=\"_blank\">https://wandb.ai/ms-hate-life-/encoder_runs</a><br>Synced 5 W&B file(s), 0 media file(s), 0 artifact file(s) and 0 other file(s)"
            ]
          },
          "metadata": {}
        },
        {
          "output_type": "display_data",
          "data": {
            "text/plain": [
              "<IPython.core.display.HTML object>"
            ],
            "text/html": [
              "Find logs at: <code>./wandb/run-20250516_233942-n149iiad/logs</code>"
            ]
          },
          "metadata": {}
        },
        {
          "output_type": "display_data",
          "data": {
            "text/plain": [
              "<IPython.core.display.HTML object>"
            ],
            "text/html": [
              "Tracking run with wandb version 0.19.11"
            ]
          },
          "metadata": {}
        },
        {
          "output_type": "display_data",
          "data": {
            "text/plain": [
              "<IPython.core.display.HTML object>"
            ],
            "text/html": [
              "Run data is saved locally in <code>/content/wandb/run-20250516_234002-cy8t2bx5</code>"
            ]
          },
          "metadata": {}
        },
        {
          "output_type": "display_data",
          "data": {
            "text/plain": [
              "<IPython.core.display.HTML object>"
            ],
            "text/html": [
              "Syncing run <strong><a href='https://wandb.ai/ms-hate-life-/encoder_runs/runs/cy8t2bx5' target=\"_blank\">test_rerunning</a></strong> to <a href='https://wandb.ai/ms-hate-life-/encoder_runs' target=\"_blank\">Weights & Biases</a> (<a href='https://wandb.me/developer-guide' target=\"_blank\">docs</a>)<br>"
            ]
          },
          "metadata": {}
        },
        {
          "output_type": "display_data",
          "data": {
            "text/plain": [
              "<IPython.core.display.HTML object>"
            ],
            "text/html": [
              " View project at <a href='https://wandb.ai/ms-hate-life-/encoder_runs' target=\"_blank\">https://wandb.ai/ms-hate-life-/encoder_runs</a>"
            ]
          },
          "metadata": {}
        },
        {
          "output_type": "display_data",
          "data": {
            "text/plain": [
              "<IPython.core.display.HTML object>"
            ],
            "text/html": [
              " View run at <a href='https://wandb.ai/ms-hate-life-/encoder_runs/runs/cy8t2bx5' target=\"_blank\">https://wandb.ai/ms-hate-life-/encoder_runs/runs/cy8t2bx5</a>"
            ]
          },
          "metadata": {}
        },
        {
          "output_type": "stream",
          "name": "stdout",
          "text": [
            "Trial 2586 finished!\n"
          ]
        },
        {
          "output_type": "display_data",
          "data": {
            "text/plain": [
              "<IPython.core.display.HTML object>"
            ],
            "text/html": []
          },
          "metadata": {}
        },
        {
          "output_type": "display_data",
          "data": {
            "text/plain": [
              "<IPython.core.display.HTML object>"
            ],
            "text/html": [
              "<br>    <style><br>        .wandb-row {<br>            display: flex;<br>            flex-direction: row;<br>            flex-wrap: wrap;<br>            justify-content: flex-start;<br>            width: 100%;<br>        }<br>        .wandb-col {<br>            display: flex;<br>            flex-direction: column;<br>            flex-basis: 100%;<br>            flex: 1;<br>            padding: 10px;<br>        }<br>    </style><br><div class=\"wandb-row\"><div class=\"wandb-col\"><h3>Run history:</h3><br/><table class=\"wandb\"><tr><td>peck_edible</td><td>██▁▁▁███▁▁█▁▁▁█████▁█▁▁█▁▁█▁▁▁▁█▁███▁███</td></tr><tr><td>second_order_similarity</td><td>▁</td></tr></table><br/></div><div class=\"wandb-col\"><h3>Run summary:</h3><br/><table class=\"wandb\"><tr><td>peck_edible</td><td>1</td></tr><tr><td>second_order_similarity</td><td>0.53617</td></tr></table><br/></div></div>"
            ]
          },
          "metadata": {}
        },
        {
          "output_type": "display_data",
          "data": {
            "text/plain": [
              "<IPython.core.display.HTML object>"
            ],
            "text/html": [
              " View run <strong style=\"color:#cdcd00\">test_rerunning</strong> at: <a href='https://wandb.ai/ms-hate-life-/encoder_runs/runs/cy8t2bx5' target=\"_blank\">https://wandb.ai/ms-hate-life-/encoder_runs/runs/cy8t2bx5</a><br> View project at: <a href='https://wandb.ai/ms-hate-life-/encoder_runs' target=\"_blank\">https://wandb.ai/ms-hate-life-/encoder_runs</a><br>Synced 5 W&B file(s), 0 media file(s), 0 artifact file(s) and 0 other file(s)"
            ]
          },
          "metadata": {}
        },
        {
          "output_type": "display_data",
          "data": {
            "text/plain": [
              "<IPython.core.display.HTML object>"
            ],
            "text/html": [
              "Find logs at: <code>./wandb/run-20250516_234002-cy8t2bx5/logs</code>"
            ]
          },
          "metadata": {}
        },
        {
          "output_type": "display_data",
          "data": {
            "text/plain": [
              "<IPython.core.display.HTML object>"
            ],
            "text/html": [
              "Tracking run with wandb version 0.19.11"
            ]
          },
          "metadata": {}
        },
        {
          "output_type": "display_data",
          "data": {
            "text/plain": [
              "<IPython.core.display.HTML object>"
            ],
            "text/html": [
              "Run data is saved locally in <code>/content/wandb/run-20250516_234021-4yz8d7e3</code>"
            ]
          },
          "metadata": {}
        },
        {
          "output_type": "display_data",
          "data": {
            "text/plain": [
              "<IPython.core.display.HTML object>"
            ],
            "text/html": [
              "Syncing run <strong><a href='https://wandb.ai/ms-hate-life-/encoder_runs/runs/4yz8d7e3' target=\"_blank\">test_rerunning</a></strong> to <a href='https://wandb.ai/ms-hate-life-/encoder_runs' target=\"_blank\">Weights & Biases</a> (<a href='https://wandb.me/developer-guide' target=\"_blank\">docs</a>)<br>"
            ]
          },
          "metadata": {}
        },
        {
          "output_type": "display_data",
          "data": {
            "text/plain": [
              "<IPython.core.display.HTML object>"
            ],
            "text/html": [
              " View project at <a href='https://wandb.ai/ms-hate-life-/encoder_runs' target=\"_blank\">https://wandb.ai/ms-hate-life-/encoder_runs</a>"
            ]
          },
          "metadata": {}
        },
        {
          "output_type": "display_data",
          "data": {
            "text/plain": [
              "<IPython.core.display.HTML object>"
            ],
            "text/html": [
              " View run at <a href='https://wandb.ai/ms-hate-life-/encoder_runs/runs/4yz8d7e3' target=\"_blank\">https://wandb.ai/ms-hate-life-/encoder_runs/runs/4yz8d7e3</a>"
            ]
          },
          "metadata": {}
        },
        {
          "output_type": "display_data",
          "data": {
            "text/plain": [
              "<IPython.core.display.HTML object>"
            ],
            "text/html": []
          },
          "metadata": {}
        },
        {
          "output_type": "display_data",
          "data": {
            "text/plain": [
              "<IPython.core.display.HTML object>"
            ],
            "text/html": [
              "<br>    <style><br>        .wandb-row {<br>            display: flex;<br>            flex-direction: row;<br>            flex-wrap: wrap;<br>            justify-content: flex-start;<br>            width: 100%;<br>        }<br>        .wandb-col {<br>            display: flex;<br>            flex-direction: column;<br>            flex-basis: 100%;<br>            flex: 1;<br>            padding: 10px;<br>        }<br>    </style><br><div class=\"wandb-row\"><div class=\"wandb-col\"><h3>Run history:</h3><br/><table class=\"wandb\"><tr><td>peck_edible</td><td>█▁██▁█▁▁█▁█▁██▁▁▁▁█▁█▁▁▁▁▁▁██▁▁█▁▁█▁▁▁█▁</td></tr><tr><td>second_order_similarity</td><td>▁</td></tr></table><br/></div><div class=\"wandb-col\"><h3>Run summary:</h3><br/><table class=\"wandb\"><tr><td>peck_edible</td><td>0</td></tr><tr><td>second_order_similarity</td><td>0.5402</td></tr></table><br/></div></div>"
            ]
          },
          "metadata": {}
        },
        {
          "output_type": "display_data",
          "data": {
            "text/plain": [
              "<IPython.core.display.HTML object>"
            ],
            "text/html": [
              " View run <strong style=\"color:#cdcd00\">test_rerunning</strong> at: <a href='https://wandb.ai/ms-hate-life-/encoder_runs/runs/4yz8d7e3' target=\"_blank\">https://wandb.ai/ms-hate-life-/encoder_runs/runs/4yz8d7e3</a><br> View project at: <a href='https://wandb.ai/ms-hate-life-/encoder_runs' target=\"_blank\">https://wandb.ai/ms-hate-life-/encoder_runs</a><br>Synced 5 W&B file(s), 0 media file(s), 0 artifact file(s) and 0 other file(s)"
            ]
          },
          "metadata": {}
        },
        {
          "output_type": "display_data",
          "data": {
            "text/plain": [
              "<IPython.core.display.HTML object>"
            ],
            "text/html": [
              "Find logs at: <code>./wandb/run-20250516_234021-4yz8d7e3/logs</code>"
            ]
          },
          "metadata": {}
        },
        {
          "output_type": "display_data",
          "data": {
            "text/plain": [
              "<IPython.core.display.HTML object>"
            ],
            "text/html": [
              "Tracking run with wandb version 0.19.11"
            ]
          },
          "metadata": {}
        },
        {
          "output_type": "display_data",
          "data": {
            "text/plain": [
              "<IPython.core.display.HTML object>"
            ],
            "text/html": [
              "Run data is saved locally in <code>/content/wandb/run-20250516_234040-nh74i1j2</code>"
            ]
          },
          "metadata": {}
        },
        {
          "output_type": "display_data",
          "data": {
            "text/plain": [
              "<IPython.core.display.HTML object>"
            ],
            "text/html": [
              "Syncing run <strong><a href='https://wandb.ai/ms-hate-life-/encoder_runs/runs/nh74i1j2' target=\"_blank\">test_rerunning</a></strong> to <a href='https://wandb.ai/ms-hate-life-/encoder_runs' target=\"_blank\">Weights & Biases</a> (<a href='https://wandb.me/developer-guide' target=\"_blank\">docs</a>)<br>"
            ]
          },
          "metadata": {}
        },
        {
          "output_type": "display_data",
          "data": {
            "text/plain": [
              "<IPython.core.display.HTML object>"
            ],
            "text/html": [
              " View project at <a href='https://wandb.ai/ms-hate-life-/encoder_runs' target=\"_blank\">https://wandb.ai/ms-hate-life-/encoder_runs</a>"
            ]
          },
          "metadata": {}
        },
        {
          "output_type": "display_data",
          "data": {
            "text/plain": [
              "<IPython.core.display.HTML object>"
            ],
            "text/html": [
              " View run at <a href='https://wandb.ai/ms-hate-life-/encoder_runs/runs/nh74i1j2' target=\"_blank\">https://wandb.ai/ms-hate-life-/encoder_runs/runs/nh74i1j2</a>"
            ]
          },
          "metadata": {}
        },
        {
          "output_type": "stream",
          "name": "stdout",
          "text": [
            "Trial 4733 finished!\n"
          ]
        },
        {
          "output_type": "display_data",
          "data": {
            "text/plain": [
              "<IPython.core.display.HTML object>"
            ],
            "text/html": []
          },
          "metadata": {}
        },
        {
          "output_type": "display_data",
          "data": {
            "text/plain": [
              "<IPython.core.display.HTML object>"
            ],
            "text/html": [
              "<br>    <style><br>        .wandb-row {<br>            display: flex;<br>            flex-direction: row;<br>            flex-wrap: wrap;<br>            justify-content: flex-start;<br>            width: 100%;<br>        }<br>        .wandb-col {<br>            display: flex;<br>            flex-direction: column;<br>            flex-basis: 100%;<br>            flex: 1;<br>            padding: 10px;<br>        }<br>    </style><br><div class=\"wandb-row\"><div class=\"wandb-col\"><h3>Run history:</h3><br/><table class=\"wandb\"><tr><td>peck_edible</td><td>▁▁▁██▁▁▁██▁▁████▁▁▁██▁█▁█▁▁██▁█▁▁████▁██</td></tr><tr><td>second_order_similarity</td><td>▁</td></tr></table><br/></div><div class=\"wandb-col\"><h3>Run summary:</h3><br/><table class=\"wandb\"><tr><td>peck_edible</td><td>1</td></tr><tr><td>second_order_similarity</td><td>0.53449</td></tr></table><br/></div></div>"
            ]
          },
          "metadata": {}
        },
        {
          "output_type": "display_data",
          "data": {
            "text/plain": [
              "<IPython.core.display.HTML object>"
            ],
            "text/html": [
              " View run <strong style=\"color:#cdcd00\">test_rerunning</strong> at: <a href='https://wandb.ai/ms-hate-life-/encoder_runs/runs/nh74i1j2' target=\"_blank\">https://wandb.ai/ms-hate-life-/encoder_runs/runs/nh74i1j2</a><br> View project at: <a href='https://wandb.ai/ms-hate-life-/encoder_runs' target=\"_blank\">https://wandb.ai/ms-hate-life-/encoder_runs</a><br>Synced 5 W&B file(s), 0 media file(s), 0 artifact file(s) and 0 other file(s)"
            ]
          },
          "metadata": {}
        },
        {
          "output_type": "display_data",
          "data": {
            "text/plain": [
              "<IPython.core.display.HTML object>"
            ],
            "text/html": [
              "Find logs at: <code>./wandb/run-20250516_234040-nh74i1j2/logs</code>"
            ]
          },
          "metadata": {}
        },
        {
          "output_type": "display_data",
          "data": {
            "text/plain": [
              "<IPython.core.display.HTML object>"
            ],
            "text/html": [
              "Tracking run with wandb version 0.19.11"
            ]
          },
          "metadata": {}
        },
        {
          "output_type": "display_data",
          "data": {
            "text/plain": [
              "<IPython.core.display.HTML object>"
            ],
            "text/html": [
              "Run data is saved locally in <code>/content/wandb/run-20250516_234059-iq9lwv8t</code>"
            ]
          },
          "metadata": {}
        },
        {
          "output_type": "display_data",
          "data": {
            "text/plain": [
              "<IPython.core.display.HTML object>"
            ],
            "text/html": [
              "Syncing run <strong><a href='https://wandb.ai/ms-hate-life-/encoder_runs/runs/iq9lwv8t' target=\"_blank\">test_rerunning</a></strong> to <a href='https://wandb.ai/ms-hate-life-/encoder_runs' target=\"_blank\">Weights & Biases</a> (<a href='https://wandb.me/developer-guide' target=\"_blank\">docs</a>)<br>"
            ]
          },
          "metadata": {}
        },
        {
          "output_type": "display_data",
          "data": {
            "text/plain": [
              "<IPython.core.display.HTML object>"
            ],
            "text/html": [
              " View project at <a href='https://wandb.ai/ms-hate-life-/encoder_runs' target=\"_blank\">https://wandb.ai/ms-hate-life-/encoder_runs</a>"
            ]
          },
          "metadata": {}
        },
        {
          "output_type": "display_data",
          "data": {
            "text/plain": [
              "<IPython.core.display.HTML object>"
            ],
            "text/html": [
              " View run at <a href='https://wandb.ai/ms-hate-life-/encoder_runs/runs/iq9lwv8t' target=\"_blank\">https://wandb.ai/ms-hate-life-/encoder_runs/runs/iq9lwv8t</a>"
            ]
          },
          "metadata": {}
        },
        {
          "output_type": "display_data",
          "data": {
            "text/plain": [
              "<IPython.core.display.HTML object>"
            ],
            "text/html": []
          },
          "metadata": {}
        },
        {
          "output_type": "display_data",
          "data": {
            "text/plain": [
              "<IPython.core.display.HTML object>"
            ],
            "text/html": [
              "<br>    <style><br>        .wandb-row {<br>            display: flex;<br>            flex-direction: row;<br>            flex-wrap: wrap;<br>            justify-content: flex-start;<br>            width: 100%;<br>        }<br>        .wandb-col {<br>            display: flex;<br>            flex-direction: column;<br>            flex-basis: 100%;<br>            flex: 1;<br>            padding: 10px;<br>        }<br>    </style><br><div class=\"wandb-row\"><div class=\"wandb-col\"><h3>Run history:</h3><br/><table class=\"wandb\"><tr><td>peck_edible</td><td>█▁▁██▁▁▁▁▁▁▁▁▁▁██▁██▁▁█▁▁▁▁█▁█▁█▁█▁█▁▁▁▁</td></tr><tr><td>second_order_similarity</td><td>▁</td></tr></table><br/></div><div class=\"wandb-col\"><h3>Run summary:</h3><br/><table class=\"wandb\"><tr><td>peck_edible</td><td>0</td></tr><tr><td>second_order_similarity</td><td>0.54411</td></tr></table><br/></div></div>"
            ]
          },
          "metadata": {}
        },
        {
          "output_type": "display_data",
          "data": {
            "text/plain": [
              "<IPython.core.display.HTML object>"
            ],
            "text/html": [
              " View run <strong style=\"color:#cdcd00\">test_rerunning</strong> at: <a href='https://wandb.ai/ms-hate-life-/encoder_runs/runs/iq9lwv8t' target=\"_blank\">https://wandb.ai/ms-hate-life-/encoder_runs/runs/iq9lwv8t</a><br> View project at: <a href='https://wandb.ai/ms-hate-life-/encoder_runs' target=\"_blank\">https://wandb.ai/ms-hate-life-/encoder_runs</a><br>Synced 5 W&B file(s), 0 media file(s), 0 artifact file(s) and 0 other file(s)"
            ]
          },
          "metadata": {}
        },
        {
          "output_type": "display_data",
          "data": {
            "text/plain": [
              "<IPython.core.display.HTML object>"
            ],
            "text/html": [
              "Find logs at: <code>./wandb/run-20250516_234059-iq9lwv8t/logs</code>"
            ]
          },
          "metadata": {}
        },
        {
          "output_type": "display_data",
          "data": {
            "text/plain": [
              "<IPython.core.display.HTML object>"
            ],
            "text/html": [
              "Tracking run with wandb version 0.19.11"
            ]
          },
          "metadata": {}
        },
        {
          "output_type": "display_data",
          "data": {
            "text/plain": [
              "<IPython.core.display.HTML object>"
            ],
            "text/html": [
              "Run data is saved locally in <code>/content/wandb/run-20250516_234118-ddws9n6a</code>"
            ]
          },
          "metadata": {}
        },
        {
          "output_type": "display_data",
          "data": {
            "text/plain": [
              "<IPython.core.display.HTML object>"
            ],
            "text/html": [
              "Syncing run <strong><a href='https://wandb.ai/ms-hate-life-/encoder_runs/runs/ddws9n6a' target=\"_blank\">test_rerunning</a></strong> to <a href='https://wandb.ai/ms-hate-life-/encoder_runs' target=\"_blank\">Weights & Biases</a> (<a href='https://wandb.me/developer-guide' target=\"_blank\">docs</a>)<br>"
            ]
          },
          "metadata": {}
        },
        {
          "output_type": "display_data",
          "data": {
            "text/plain": [
              "<IPython.core.display.HTML object>"
            ],
            "text/html": [
              " View project at <a href='https://wandb.ai/ms-hate-life-/encoder_runs' target=\"_blank\">https://wandb.ai/ms-hate-life-/encoder_runs</a>"
            ]
          },
          "metadata": {}
        },
        {
          "output_type": "display_data",
          "data": {
            "text/plain": [
              "<IPython.core.display.HTML object>"
            ],
            "text/html": [
              " View run at <a href='https://wandb.ai/ms-hate-life-/encoder_runs/runs/ddws9n6a' target=\"_blank\">https://wandb.ai/ms-hate-life-/encoder_runs/runs/ddws9n6a</a>"
            ]
          },
          "metadata": {}
        },
        {
          "output_type": "stream",
          "name": "stdout",
          "text": [
            "Trial 1565 finished!\n"
          ]
        },
        {
          "output_type": "display_data",
          "data": {
            "text/plain": [
              "<IPython.core.display.HTML object>"
            ],
            "text/html": []
          },
          "metadata": {}
        },
        {
          "output_type": "display_data",
          "data": {
            "text/plain": [
              "<IPython.core.display.HTML object>"
            ],
            "text/html": [
              "<br>    <style><br>        .wandb-row {<br>            display: flex;<br>            flex-direction: row;<br>            flex-wrap: wrap;<br>            justify-content: flex-start;<br>            width: 100%;<br>        }<br>        .wandb-col {<br>            display: flex;<br>            flex-direction: column;<br>            flex-basis: 100%;<br>            flex: 1;<br>            padding: 10px;<br>        }<br>    </style><br><div class=\"wandb-row\"><div class=\"wandb-col\"><h3>Run history:</h3><br/><table class=\"wandb\"><tr><td>peck_edible</td><td>▁▁█▁██▁█▁▁█▁▁█▁▁▁▁▁██▁█▁██▁██▁█▁▁▁▁▁▁█▁▁</td></tr><tr><td>second_order_similarity</td><td>▁</td></tr></table><br/></div><div class=\"wandb-col\"><h3>Run summary:</h3><br/><table class=\"wandb\"><tr><td>peck_edible</td><td>1</td></tr><tr><td>second_order_similarity</td><td>0.53871</td></tr></table><br/></div></div>"
            ]
          },
          "metadata": {}
        },
        {
          "output_type": "display_data",
          "data": {
            "text/plain": [
              "<IPython.core.display.HTML object>"
            ],
            "text/html": [
              " View run <strong style=\"color:#cdcd00\">test_rerunning</strong> at: <a href='https://wandb.ai/ms-hate-life-/encoder_runs/runs/ddws9n6a' target=\"_blank\">https://wandb.ai/ms-hate-life-/encoder_runs/runs/ddws9n6a</a><br> View project at: <a href='https://wandb.ai/ms-hate-life-/encoder_runs' target=\"_blank\">https://wandb.ai/ms-hate-life-/encoder_runs</a><br>Synced 5 W&B file(s), 0 media file(s), 0 artifact file(s) and 0 other file(s)"
            ]
          },
          "metadata": {}
        },
        {
          "output_type": "display_data",
          "data": {
            "text/plain": [
              "<IPython.core.display.HTML object>"
            ],
            "text/html": [
              "Find logs at: <code>./wandb/run-20250516_234118-ddws9n6a/logs</code>"
            ]
          },
          "metadata": {}
        },
        {
          "output_type": "display_data",
          "data": {
            "text/plain": [
              "<IPython.core.display.HTML object>"
            ],
            "text/html": [
              "Tracking run with wandb version 0.19.11"
            ]
          },
          "metadata": {}
        },
        {
          "output_type": "display_data",
          "data": {
            "text/plain": [
              "<IPython.core.display.HTML object>"
            ],
            "text/html": [
              "Run data is saved locally in <code>/content/wandb/run-20250516_234137-9biokaik</code>"
            ]
          },
          "metadata": {}
        },
        {
          "output_type": "display_data",
          "data": {
            "text/plain": [
              "<IPython.core.display.HTML object>"
            ],
            "text/html": [
              "Syncing run <strong><a href='https://wandb.ai/ms-hate-life-/encoder_runs/runs/9biokaik' target=\"_blank\">test_rerunning</a></strong> to <a href='https://wandb.ai/ms-hate-life-/encoder_runs' target=\"_blank\">Weights & Biases</a> (<a href='https://wandb.me/developer-guide' target=\"_blank\">docs</a>)<br>"
            ]
          },
          "metadata": {}
        },
        {
          "output_type": "display_data",
          "data": {
            "text/plain": [
              "<IPython.core.display.HTML object>"
            ],
            "text/html": [
              " View project at <a href='https://wandb.ai/ms-hate-life-/encoder_runs' target=\"_blank\">https://wandb.ai/ms-hate-life-/encoder_runs</a>"
            ]
          },
          "metadata": {}
        },
        {
          "output_type": "display_data",
          "data": {
            "text/plain": [
              "<IPython.core.display.HTML object>"
            ],
            "text/html": [
              " View run at <a href='https://wandb.ai/ms-hate-life-/encoder_runs/runs/9biokaik' target=\"_blank\">https://wandb.ai/ms-hate-life-/encoder_runs/runs/9biokaik</a>"
            ]
          },
          "metadata": {}
        },
        {
          "output_type": "stream",
          "name": "stdout",
          "text": [
            "Trial 233 finished!\n"
          ]
        },
        {
          "output_type": "display_data",
          "data": {
            "text/plain": [
              "<IPython.core.display.HTML object>"
            ],
            "text/html": []
          },
          "metadata": {}
        },
        {
          "output_type": "display_data",
          "data": {
            "text/plain": [
              "<IPython.core.display.HTML object>"
            ],
            "text/html": [
              "<br>    <style><br>        .wandb-row {<br>            display: flex;<br>            flex-direction: row;<br>            flex-wrap: wrap;<br>            justify-content: flex-start;<br>            width: 100%;<br>        }<br>        .wandb-col {<br>            display: flex;<br>            flex-direction: column;<br>            flex-basis: 100%;<br>            flex: 1;<br>            padding: 10px;<br>        }<br>    </style><br><div class=\"wandb-row\"><div class=\"wandb-col\"><h3>Run history:</h3><br/><table class=\"wandb\"><tr><td>peck_edible</td><td>███▁█▁███▁██▁█▁▁▁█████▁█▁█▁▁▁█▁██▁█▁█▁▁█</td></tr><tr><td>second_order_similarity</td><td>▁</td></tr></table><br/></div><div class=\"wandb-col\"><h3>Run summary:</h3><br/><table class=\"wandb\"><tr><td>peck_edible</td><td>0</td></tr><tr><td>second_order_similarity</td><td>0.53976</td></tr></table><br/></div></div>"
            ]
          },
          "metadata": {}
        },
        {
          "output_type": "display_data",
          "data": {
            "text/plain": [
              "<IPython.core.display.HTML object>"
            ],
            "text/html": [
              " View run <strong style=\"color:#cdcd00\">test_rerunning</strong> at: <a href='https://wandb.ai/ms-hate-life-/encoder_runs/runs/9biokaik' target=\"_blank\">https://wandb.ai/ms-hate-life-/encoder_runs/runs/9biokaik</a><br> View project at: <a href='https://wandb.ai/ms-hate-life-/encoder_runs' target=\"_blank\">https://wandb.ai/ms-hate-life-/encoder_runs</a><br>Synced 5 W&B file(s), 0 media file(s), 0 artifact file(s) and 0 other file(s)"
            ]
          },
          "metadata": {}
        },
        {
          "output_type": "display_data",
          "data": {
            "text/plain": [
              "<IPython.core.display.HTML object>"
            ],
            "text/html": [
              "Find logs at: <code>./wandb/run-20250516_234137-9biokaik/logs</code>"
            ]
          },
          "metadata": {}
        },
        {
          "output_type": "display_data",
          "data": {
            "text/plain": [
              "<IPython.core.display.HTML object>"
            ],
            "text/html": [
              "Tracking run with wandb version 0.19.11"
            ]
          },
          "metadata": {}
        },
        {
          "output_type": "display_data",
          "data": {
            "text/plain": [
              "<IPython.core.display.HTML object>"
            ],
            "text/html": [
              "Run data is saved locally in <code>/content/wandb/run-20250516_234156-4nxm2ixp</code>"
            ]
          },
          "metadata": {}
        },
        {
          "output_type": "display_data",
          "data": {
            "text/plain": [
              "<IPython.core.display.HTML object>"
            ],
            "text/html": [
              "Syncing run <strong><a href='https://wandb.ai/ms-hate-life-/encoder_runs/runs/4nxm2ixp' target=\"_blank\">test_rerunning</a></strong> to <a href='https://wandb.ai/ms-hate-life-/encoder_runs' target=\"_blank\">Weights & Biases</a> (<a href='https://wandb.me/developer-guide' target=\"_blank\">docs</a>)<br>"
            ]
          },
          "metadata": {}
        },
        {
          "output_type": "display_data",
          "data": {
            "text/plain": [
              "<IPython.core.display.HTML object>"
            ],
            "text/html": [
              " View project at <a href='https://wandb.ai/ms-hate-life-/encoder_runs' target=\"_blank\">https://wandb.ai/ms-hate-life-/encoder_runs</a>"
            ]
          },
          "metadata": {}
        },
        {
          "output_type": "display_data",
          "data": {
            "text/plain": [
              "<IPython.core.display.HTML object>"
            ],
            "text/html": [
              " View run at <a href='https://wandb.ai/ms-hate-life-/encoder_runs/runs/4nxm2ixp' target=\"_blank\">https://wandb.ai/ms-hate-life-/encoder_runs/runs/4nxm2ixp</a>"
            ]
          },
          "metadata": {}
        },
        {
          "output_type": "stream",
          "name": "stdout",
          "text": [
            "Trial 485 finished!\n"
          ]
        },
        {
          "output_type": "display_data",
          "data": {
            "text/plain": [
              "<IPython.core.display.HTML object>"
            ],
            "text/html": []
          },
          "metadata": {}
        },
        {
          "output_type": "display_data",
          "data": {
            "text/plain": [
              "<IPython.core.display.HTML object>"
            ],
            "text/html": [
              "<br>    <style><br>        .wandb-row {<br>            display: flex;<br>            flex-direction: row;<br>            flex-wrap: wrap;<br>            justify-content: flex-start;<br>            width: 100%;<br>        }<br>        .wandb-col {<br>            display: flex;<br>            flex-direction: column;<br>            flex-basis: 100%;<br>            flex: 1;<br>            padding: 10px;<br>        }<br>    </style><br><div class=\"wandb-row\"><div class=\"wandb-col\"><h3>Run history:</h3><br/><table class=\"wandb\"><tr><td>peck_edible</td><td>█▁█▁▁█▁▁▁▁█▁▁▁███▁███▁▁▁████▁███▁▁▁▁▁█▁█</td></tr><tr><td>second_order_similarity</td><td>▁</td></tr></table><br/></div><div class=\"wandb-col\"><h3>Run summary:</h3><br/><table class=\"wandb\"><tr><td>peck_edible</td><td>1</td></tr><tr><td>second_order_similarity</td><td>0.54237</td></tr></table><br/></div></div>"
            ]
          },
          "metadata": {}
        },
        {
          "output_type": "display_data",
          "data": {
            "text/plain": [
              "<IPython.core.display.HTML object>"
            ],
            "text/html": [
              " View run <strong style=\"color:#cdcd00\">test_rerunning</strong> at: <a href='https://wandb.ai/ms-hate-life-/encoder_runs/runs/4nxm2ixp' target=\"_blank\">https://wandb.ai/ms-hate-life-/encoder_runs/runs/4nxm2ixp</a><br> View project at: <a href='https://wandb.ai/ms-hate-life-/encoder_runs' target=\"_blank\">https://wandb.ai/ms-hate-life-/encoder_runs</a><br>Synced 5 W&B file(s), 0 media file(s), 0 artifact file(s) and 0 other file(s)"
            ]
          },
          "metadata": {}
        },
        {
          "output_type": "display_data",
          "data": {
            "text/plain": [
              "<IPython.core.display.HTML object>"
            ],
            "text/html": [
              "Find logs at: <code>./wandb/run-20250516_234156-4nxm2ixp/logs</code>"
            ]
          },
          "metadata": {}
        },
        {
          "output_type": "display_data",
          "data": {
            "text/plain": [
              "<IPython.core.display.HTML object>"
            ],
            "text/html": [
              "Tracking run with wandb version 0.19.11"
            ]
          },
          "metadata": {}
        },
        {
          "output_type": "display_data",
          "data": {
            "text/plain": [
              "<IPython.core.display.HTML object>"
            ],
            "text/html": [
              "Run data is saved locally in <code>/content/wandb/run-20250516_234214-gooo7sau</code>"
            ]
          },
          "metadata": {}
        },
        {
          "output_type": "display_data",
          "data": {
            "text/plain": [
              "<IPython.core.display.HTML object>"
            ],
            "text/html": [
              "Syncing run <strong><a href='https://wandb.ai/ms-hate-life-/encoder_runs/runs/gooo7sau' target=\"_blank\">test_rerunning</a></strong> to <a href='https://wandb.ai/ms-hate-life-/encoder_runs' target=\"_blank\">Weights & Biases</a> (<a href='https://wandb.me/developer-guide' target=\"_blank\">docs</a>)<br>"
            ]
          },
          "metadata": {}
        },
        {
          "output_type": "display_data",
          "data": {
            "text/plain": [
              "<IPython.core.display.HTML object>"
            ],
            "text/html": [
              " View project at <a href='https://wandb.ai/ms-hate-life-/encoder_runs' target=\"_blank\">https://wandb.ai/ms-hate-life-/encoder_runs</a>"
            ]
          },
          "metadata": {}
        },
        {
          "output_type": "display_data",
          "data": {
            "text/plain": [
              "<IPython.core.display.HTML object>"
            ],
            "text/html": [
              " View run at <a href='https://wandb.ai/ms-hate-life-/encoder_runs/runs/gooo7sau' target=\"_blank\">https://wandb.ai/ms-hate-life-/encoder_runs/runs/gooo7sau</a>"
            ]
          },
          "metadata": {}
        },
        {
          "output_type": "stream",
          "name": "stdout",
          "text": [
            "Trial 331 finished!\n"
          ]
        },
        {
          "output_type": "display_data",
          "data": {
            "text/plain": [
              "<IPython.core.display.HTML object>"
            ],
            "text/html": []
          },
          "metadata": {}
        },
        {
          "output_type": "display_data",
          "data": {
            "text/plain": [
              "<IPython.core.display.HTML object>"
            ],
            "text/html": [
              "<br>    <style><br>        .wandb-row {<br>            display: flex;<br>            flex-direction: row;<br>            flex-wrap: wrap;<br>            justify-content: flex-start;<br>            width: 100%;<br>        }<br>        .wandb-col {<br>            display: flex;<br>            flex-direction: column;<br>            flex-basis: 100%;<br>            flex: 1;<br>            padding: 10px;<br>        }<br>    </style><br><div class=\"wandb-row\"><div class=\"wandb-col\"><h3>Run history:</h3><br/><table class=\"wandb\"><tr><td>peck_edible</td><td>██▁█▁█▁▁██▁▁▁█▁█▁███▁▁▁▁█▁▁██▁▁█▁██▁▁▁█▁</td></tr><tr><td>second_order_similarity</td><td>▁</td></tr></table><br/></div><div class=\"wandb-col\"><h3>Run summary:</h3><br/><table class=\"wandb\"><tr><td>peck_edible</td><td>0</td></tr><tr><td>second_order_similarity</td><td>0.54269</td></tr></table><br/></div></div>"
            ]
          },
          "metadata": {}
        },
        {
          "output_type": "display_data",
          "data": {
            "text/plain": [
              "<IPython.core.display.HTML object>"
            ],
            "text/html": [
              " View run <strong style=\"color:#cdcd00\">test_rerunning</strong> at: <a href='https://wandb.ai/ms-hate-life-/encoder_runs/runs/gooo7sau' target=\"_blank\">https://wandb.ai/ms-hate-life-/encoder_runs/runs/gooo7sau</a><br> View project at: <a href='https://wandb.ai/ms-hate-life-/encoder_runs' target=\"_blank\">https://wandb.ai/ms-hate-life-/encoder_runs</a><br>Synced 5 W&B file(s), 0 media file(s), 0 artifact file(s) and 0 other file(s)"
            ]
          },
          "metadata": {}
        },
        {
          "output_type": "display_data",
          "data": {
            "text/plain": [
              "<IPython.core.display.HTML object>"
            ],
            "text/html": [
              "Find logs at: <code>./wandb/run-20250516_234214-gooo7sau/logs</code>"
            ]
          },
          "metadata": {}
        },
        {
          "output_type": "display_data",
          "data": {
            "text/plain": [
              "<IPython.core.display.HTML object>"
            ],
            "text/html": [
              "Tracking run with wandb version 0.19.11"
            ]
          },
          "metadata": {}
        },
        {
          "output_type": "display_data",
          "data": {
            "text/plain": [
              "<IPython.core.display.HTML object>"
            ],
            "text/html": [
              "Run data is saved locally in <code>/content/wandb/run-20250516_234233-lqcvg3lm</code>"
            ]
          },
          "metadata": {}
        },
        {
          "output_type": "display_data",
          "data": {
            "text/plain": [
              "<IPython.core.display.HTML object>"
            ],
            "text/html": [
              "Syncing run <strong><a href='https://wandb.ai/ms-hate-life-/encoder_runs/runs/lqcvg3lm' target=\"_blank\">test_rerunning</a></strong> to <a href='https://wandb.ai/ms-hate-life-/encoder_runs' target=\"_blank\">Weights & Biases</a> (<a href='https://wandb.me/developer-guide' target=\"_blank\">docs</a>)<br>"
            ]
          },
          "metadata": {}
        },
        {
          "output_type": "display_data",
          "data": {
            "text/plain": [
              "<IPython.core.display.HTML object>"
            ],
            "text/html": [
              " View project at <a href='https://wandb.ai/ms-hate-life-/encoder_runs' target=\"_blank\">https://wandb.ai/ms-hate-life-/encoder_runs</a>"
            ]
          },
          "metadata": {}
        },
        {
          "output_type": "display_data",
          "data": {
            "text/plain": [
              "<IPython.core.display.HTML object>"
            ],
            "text/html": [
              " View run at <a href='https://wandb.ai/ms-hate-life-/encoder_runs/runs/lqcvg3lm' target=\"_blank\">https://wandb.ai/ms-hate-life-/encoder_runs/runs/lqcvg3lm</a>"
            ]
          },
          "metadata": {}
        },
        {
          "output_type": "stream",
          "name": "stdout",
          "text": [
            "Trial 9087 finished!\n"
          ]
        },
        {
          "output_type": "display_data",
          "data": {
            "text/plain": [
              "<IPython.core.display.HTML object>"
            ],
            "text/html": []
          },
          "metadata": {}
        },
        {
          "output_type": "display_data",
          "data": {
            "text/plain": [
              "<IPython.core.display.HTML object>"
            ],
            "text/html": [
              "<br>    <style><br>        .wandb-row {<br>            display: flex;<br>            flex-direction: row;<br>            flex-wrap: wrap;<br>            justify-content: flex-start;<br>            width: 100%;<br>        }<br>        .wandb-col {<br>            display: flex;<br>            flex-direction: column;<br>            flex-basis: 100%;<br>            flex: 1;<br>            padding: 10px;<br>        }<br>    </style><br><div class=\"wandb-row\"><div class=\"wandb-col\"><h3>Run history:</h3><br/><table class=\"wandb\"><tr><td>peck_edible</td><td>▁▁██▁▁▁▁▁▁▁█▁█▁▁██▁▁██▁▁▁▁▁▁▁▁▁▁▁█▁▁▁█▁▁</td></tr><tr><td>second_order_similarity</td><td>▁</td></tr></table><br/></div><div class=\"wandb-col\"><h3>Run summary:</h3><br/><table class=\"wandb\"><tr><td>peck_edible</td><td>1</td></tr><tr><td>second_order_similarity</td><td>0.53961</td></tr></table><br/></div></div>"
            ]
          },
          "metadata": {}
        },
        {
          "output_type": "display_data",
          "data": {
            "text/plain": [
              "<IPython.core.display.HTML object>"
            ],
            "text/html": [
              " View run <strong style=\"color:#cdcd00\">test_rerunning</strong> at: <a href='https://wandb.ai/ms-hate-life-/encoder_runs/runs/lqcvg3lm' target=\"_blank\">https://wandb.ai/ms-hate-life-/encoder_runs/runs/lqcvg3lm</a><br> View project at: <a href='https://wandb.ai/ms-hate-life-/encoder_runs' target=\"_blank\">https://wandb.ai/ms-hate-life-/encoder_runs</a><br>Synced 5 W&B file(s), 0 media file(s), 0 artifact file(s) and 0 other file(s)"
            ]
          },
          "metadata": {}
        },
        {
          "output_type": "display_data",
          "data": {
            "text/plain": [
              "<IPython.core.display.HTML object>"
            ],
            "text/html": [
              "Find logs at: <code>./wandb/run-20250516_234233-lqcvg3lm/logs</code>"
            ]
          },
          "metadata": {}
        },
        {
          "output_type": "display_data",
          "data": {
            "text/plain": [
              "<IPython.core.display.HTML object>"
            ],
            "text/html": [
              "Tracking run with wandb version 0.19.11"
            ]
          },
          "metadata": {}
        },
        {
          "output_type": "display_data",
          "data": {
            "text/plain": [
              "<IPython.core.display.HTML object>"
            ],
            "text/html": [
              "Run data is saved locally in <code>/content/wandb/run-20250516_234253-3kbctjpf</code>"
            ]
          },
          "metadata": {}
        },
        {
          "output_type": "display_data",
          "data": {
            "text/plain": [
              "<IPython.core.display.HTML object>"
            ],
            "text/html": [
              "Syncing run <strong><a href='https://wandb.ai/ms-hate-life-/encoder_runs/runs/3kbctjpf' target=\"_blank\">test_rerunning</a></strong> to <a href='https://wandb.ai/ms-hate-life-/encoder_runs' target=\"_blank\">Weights & Biases</a> (<a href='https://wandb.me/developer-guide' target=\"_blank\">docs</a>)<br>"
            ]
          },
          "metadata": {}
        },
        {
          "output_type": "display_data",
          "data": {
            "text/plain": [
              "<IPython.core.display.HTML object>"
            ],
            "text/html": [
              " View project at <a href='https://wandb.ai/ms-hate-life-/encoder_runs' target=\"_blank\">https://wandb.ai/ms-hate-life-/encoder_runs</a>"
            ]
          },
          "metadata": {}
        },
        {
          "output_type": "display_data",
          "data": {
            "text/plain": [
              "<IPython.core.display.HTML object>"
            ],
            "text/html": [
              " View run at <a href='https://wandb.ai/ms-hate-life-/encoder_runs/runs/3kbctjpf' target=\"_blank\">https://wandb.ai/ms-hate-life-/encoder_runs/runs/3kbctjpf</a>"
            ]
          },
          "metadata": {}
        },
        {
          "output_type": "stream",
          "name": "stdout",
          "text": [
            "Trial 1423 finished!\n"
          ]
        },
        {
          "output_type": "display_data",
          "data": {
            "text/plain": [
              "<IPython.core.display.HTML object>"
            ],
            "text/html": []
          },
          "metadata": {}
        },
        {
          "output_type": "display_data",
          "data": {
            "text/plain": [
              "<IPython.core.display.HTML object>"
            ],
            "text/html": [
              "<br>    <style><br>        .wandb-row {<br>            display: flex;<br>            flex-direction: row;<br>            flex-wrap: wrap;<br>            justify-content: flex-start;<br>            width: 100%;<br>        }<br>        .wandb-col {<br>            display: flex;<br>            flex-direction: column;<br>            flex-basis: 100%;<br>            flex: 1;<br>            padding: 10px;<br>        }<br>    </style><br><div class=\"wandb-row\"><div class=\"wandb-col\"><h3>Run history:</h3><br/><table class=\"wandb\"><tr><td>peck_edible</td><td>█▁██▁▁█▁██▁▁████▁█▁██▁▁▁▁▁▁▁▁▁█▁█▁▁▁█▁▁█</td></tr><tr><td>second_order_similarity</td><td>▁</td></tr></table><br/></div><div class=\"wandb-col\"><h3>Run summary:</h3><br/><table class=\"wandb\"><tr><td>peck_edible</td><td>1</td></tr><tr><td>second_order_similarity</td><td>0.5406</td></tr></table><br/></div></div>"
            ]
          },
          "metadata": {}
        },
        {
          "output_type": "display_data",
          "data": {
            "text/plain": [
              "<IPython.core.display.HTML object>"
            ],
            "text/html": [
              " View run <strong style=\"color:#cdcd00\">test_rerunning</strong> at: <a href='https://wandb.ai/ms-hate-life-/encoder_runs/runs/3kbctjpf' target=\"_blank\">https://wandb.ai/ms-hate-life-/encoder_runs/runs/3kbctjpf</a><br> View project at: <a href='https://wandb.ai/ms-hate-life-/encoder_runs' target=\"_blank\">https://wandb.ai/ms-hate-life-/encoder_runs</a><br>Synced 5 W&B file(s), 0 media file(s), 0 artifact file(s) and 0 other file(s)"
            ]
          },
          "metadata": {}
        },
        {
          "output_type": "display_data",
          "data": {
            "text/plain": [
              "<IPython.core.display.HTML object>"
            ],
            "text/html": [
              "Find logs at: <code>./wandb/run-20250516_234253-3kbctjpf/logs</code>"
            ]
          },
          "metadata": {}
        },
        {
          "output_type": "display_data",
          "data": {
            "text/plain": [
              "<IPython.core.display.HTML object>"
            ],
            "text/html": [
              "Tracking run with wandb version 0.19.11"
            ]
          },
          "metadata": {}
        },
        {
          "output_type": "display_data",
          "data": {
            "text/plain": [
              "<IPython.core.display.HTML object>"
            ],
            "text/html": [
              "Run data is saved locally in <code>/content/wandb/run-20250516_234313-nbkw40c4</code>"
            ]
          },
          "metadata": {}
        },
        {
          "output_type": "display_data",
          "data": {
            "text/plain": [
              "<IPython.core.display.HTML object>"
            ],
            "text/html": [
              "Syncing run <strong><a href='https://wandb.ai/ms-hate-life-/encoder_runs/runs/nbkw40c4' target=\"_blank\">test_rerunning</a></strong> to <a href='https://wandb.ai/ms-hate-life-/encoder_runs' target=\"_blank\">Weights & Biases</a> (<a href='https://wandb.me/developer-guide' target=\"_blank\">docs</a>)<br>"
            ]
          },
          "metadata": {}
        },
        {
          "output_type": "display_data",
          "data": {
            "text/plain": [
              "<IPython.core.display.HTML object>"
            ],
            "text/html": [
              " View project at <a href='https://wandb.ai/ms-hate-life-/encoder_runs' target=\"_blank\">https://wandb.ai/ms-hate-life-/encoder_runs</a>"
            ]
          },
          "metadata": {}
        },
        {
          "output_type": "display_data",
          "data": {
            "text/plain": [
              "<IPython.core.display.HTML object>"
            ],
            "text/html": [
              " View run at <a href='https://wandb.ai/ms-hate-life-/encoder_runs/runs/nbkw40c4' target=\"_blank\">https://wandb.ai/ms-hate-life-/encoder_runs/runs/nbkw40c4</a>"
            ]
          },
          "metadata": {}
        },
        {
          "output_type": "stream",
          "name": "stdout",
          "text": [
            "Trial 5344 finished!\n"
          ]
        },
        {
          "output_type": "display_data",
          "data": {
            "text/plain": [
              "<IPython.core.display.HTML object>"
            ],
            "text/html": []
          },
          "metadata": {}
        },
        {
          "output_type": "display_data",
          "data": {
            "text/plain": [
              "<IPython.core.display.HTML object>"
            ],
            "text/html": [
              "<br>    <style><br>        .wandb-row {<br>            display: flex;<br>            flex-direction: row;<br>            flex-wrap: wrap;<br>            justify-content: flex-start;<br>            width: 100%;<br>        }<br>        .wandb-col {<br>            display: flex;<br>            flex-direction: column;<br>            flex-basis: 100%;<br>            flex: 1;<br>            padding: 10px;<br>        }<br>    </style><br><div class=\"wandb-row\"><div class=\"wandb-col\"><h3>Run history:</h3><br/><table class=\"wandb\"><tr><td>peck_edible</td><td>▁████▁███▁█▁█▁▁▁█▁█▁██████▁▁▁▁███▁███▁██</td></tr><tr><td>second_order_similarity</td><td>▁</td></tr></table><br/></div><div class=\"wandb-col\"><h3>Run summary:</h3><br/><table class=\"wandb\"><tr><td>peck_edible</td><td>1</td></tr><tr><td>second_order_similarity</td><td>0.5393</td></tr></table><br/></div></div>"
            ]
          },
          "metadata": {}
        },
        {
          "output_type": "display_data",
          "data": {
            "text/plain": [
              "<IPython.core.display.HTML object>"
            ],
            "text/html": [
              " View run <strong style=\"color:#cdcd00\">test_rerunning</strong> at: <a href='https://wandb.ai/ms-hate-life-/encoder_runs/runs/nbkw40c4' target=\"_blank\">https://wandb.ai/ms-hate-life-/encoder_runs/runs/nbkw40c4</a><br> View project at: <a href='https://wandb.ai/ms-hate-life-/encoder_runs' target=\"_blank\">https://wandb.ai/ms-hate-life-/encoder_runs</a><br>Synced 5 W&B file(s), 0 media file(s), 0 artifact file(s) and 0 other file(s)"
            ]
          },
          "metadata": {}
        },
        {
          "output_type": "display_data",
          "data": {
            "text/plain": [
              "<IPython.core.display.HTML object>"
            ],
            "text/html": [
              "Find logs at: <code>./wandb/run-20250516_234313-nbkw40c4/logs</code>"
            ]
          },
          "metadata": {}
        },
        {
          "output_type": "display_data",
          "data": {
            "text/plain": [
              "<IPython.core.display.HTML object>"
            ],
            "text/html": [
              "Tracking run with wandb version 0.19.11"
            ]
          },
          "metadata": {}
        },
        {
          "output_type": "display_data",
          "data": {
            "text/plain": [
              "<IPython.core.display.HTML object>"
            ],
            "text/html": [
              "Run data is saved locally in <code>/content/wandb/run-20250516_234331-cpfc5db8</code>"
            ]
          },
          "metadata": {}
        },
        {
          "output_type": "display_data",
          "data": {
            "text/plain": [
              "<IPython.core.display.HTML object>"
            ],
            "text/html": [
              "Syncing run <strong><a href='https://wandb.ai/ms-hate-life-/encoder_runs/runs/cpfc5db8' target=\"_blank\">test_rerunning</a></strong> to <a href='https://wandb.ai/ms-hate-life-/encoder_runs' target=\"_blank\">Weights & Biases</a> (<a href='https://wandb.me/developer-guide' target=\"_blank\">docs</a>)<br>"
            ]
          },
          "metadata": {}
        },
        {
          "output_type": "display_data",
          "data": {
            "text/plain": [
              "<IPython.core.display.HTML object>"
            ],
            "text/html": [
              " View project at <a href='https://wandb.ai/ms-hate-life-/encoder_runs' target=\"_blank\">https://wandb.ai/ms-hate-life-/encoder_runs</a>"
            ]
          },
          "metadata": {}
        },
        {
          "output_type": "display_data",
          "data": {
            "text/plain": [
              "<IPython.core.display.HTML object>"
            ],
            "text/html": [
              " View run at <a href='https://wandb.ai/ms-hate-life-/encoder_runs/runs/cpfc5db8' target=\"_blank\">https://wandb.ai/ms-hate-life-/encoder_runs/runs/cpfc5db8</a>"
            ]
          },
          "metadata": {}
        },
        {
          "output_type": "stream",
          "name": "stdout",
          "text": [
            "Trial 340 finished!\n"
          ]
        },
        {
          "output_type": "display_data",
          "data": {
            "text/plain": [
              "<IPython.core.display.HTML object>"
            ],
            "text/html": []
          },
          "metadata": {}
        },
        {
          "output_type": "display_data",
          "data": {
            "text/plain": [
              "<IPython.core.display.HTML object>"
            ],
            "text/html": [
              "<br>    <style><br>        .wandb-row {<br>            display: flex;<br>            flex-direction: row;<br>            flex-wrap: wrap;<br>            justify-content: flex-start;<br>            width: 100%;<br>        }<br>        .wandb-col {<br>            display: flex;<br>            flex-direction: column;<br>            flex-basis: 100%;<br>            flex: 1;<br>            padding: 10px;<br>        }<br>    </style><br><div class=\"wandb-row\"><div class=\"wandb-col\"><h3>Run history:</h3><br/><table class=\"wandb\"><tr><td>peck_edible</td><td>▁██▁█▁███▁▁▁███▁▁▁█▁▁█████▁▁██▁▁██▁███▁▁</td></tr><tr><td>second_order_similarity</td><td>▁</td></tr></table><br/></div><div class=\"wandb-col\"><h3>Run summary:</h3><br/><table class=\"wandb\"><tr><td>peck_edible</td><td>0</td></tr><tr><td>second_order_similarity</td><td>0.5404</td></tr></table><br/></div></div>"
            ]
          },
          "metadata": {}
        },
        {
          "output_type": "display_data",
          "data": {
            "text/plain": [
              "<IPython.core.display.HTML object>"
            ],
            "text/html": [
              " View run <strong style=\"color:#cdcd00\">test_rerunning</strong> at: <a href='https://wandb.ai/ms-hate-life-/encoder_runs/runs/cpfc5db8' target=\"_blank\">https://wandb.ai/ms-hate-life-/encoder_runs/runs/cpfc5db8</a><br> View project at: <a href='https://wandb.ai/ms-hate-life-/encoder_runs' target=\"_blank\">https://wandb.ai/ms-hate-life-/encoder_runs</a><br>Synced 5 W&B file(s), 0 media file(s), 0 artifact file(s) and 0 other file(s)"
            ]
          },
          "metadata": {}
        },
        {
          "output_type": "display_data",
          "data": {
            "text/plain": [
              "<IPython.core.display.HTML object>"
            ],
            "text/html": [
              "Find logs at: <code>./wandb/run-20250516_234331-cpfc5db8/logs</code>"
            ]
          },
          "metadata": {}
        },
        {
          "output_type": "display_data",
          "data": {
            "text/plain": [
              "<IPython.core.display.HTML object>"
            ],
            "text/html": [
              "Tracking run with wandb version 0.19.11"
            ]
          },
          "metadata": {}
        },
        {
          "output_type": "display_data",
          "data": {
            "text/plain": [
              "<IPython.core.display.HTML object>"
            ],
            "text/html": [
              "Run data is saved locally in <code>/content/wandb/run-20250516_234350-ffjtcymm</code>"
            ]
          },
          "metadata": {}
        },
        {
          "output_type": "display_data",
          "data": {
            "text/plain": [
              "<IPython.core.display.HTML object>"
            ],
            "text/html": [
              "Syncing run <strong><a href='https://wandb.ai/ms-hate-life-/encoder_runs/runs/ffjtcymm' target=\"_blank\">test_rerunning</a></strong> to <a href='https://wandb.ai/ms-hate-life-/encoder_runs' target=\"_blank\">Weights & Biases</a> (<a href='https://wandb.me/developer-guide' target=\"_blank\">docs</a>)<br>"
            ]
          },
          "metadata": {}
        },
        {
          "output_type": "display_data",
          "data": {
            "text/plain": [
              "<IPython.core.display.HTML object>"
            ],
            "text/html": [
              " View project at <a href='https://wandb.ai/ms-hate-life-/encoder_runs' target=\"_blank\">https://wandb.ai/ms-hate-life-/encoder_runs</a>"
            ]
          },
          "metadata": {}
        },
        {
          "output_type": "display_data",
          "data": {
            "text/plain": [
              "<IPython.core.display.HTML object>"
            ],
            "text/html": [
              " View run at <a href='https://wandb.ai/ms-hate-life-/encoder_runs/runs/ffjtcymm' target=\"_blank\">https://wandb.ai/ms-hate-life-/encoder_runs/runs/ffjtcymm</a>"
            ]
          },
          "metadata": {}
        },
        {
          "output_type": "display_data",
          "data": {
            "text/plain": [
              "<IPython.core.display.HTML object>"
            ],
            "text/html": []
          },
          "metadata": {}
        },
        {
          "output_type": "display_data",
          "data": {
            "text/plain": [
              "<IPython.core.display.HTML object>"
            ],
            "text/html": [
              "<br>    <style><br>        .wandb-row {<br>            display: flex;<br>            flex-direction: row;<br>            flex-wrap: wrap;<br>            justify-content: flex-start;<br>            width: 100%;<br>        }<br>        .wandb-col {<br>            display: flex;<br>            flex-direction: column;<br>            flex-basis: 100%;<br>            flex: 1;<br>            padding: 10px;<br>        }<br>    </style><br><div class=\"wandb-row\"><div class=\"wandb-col\"><h3>Run history:</h3><br/><table class=\"wandb\"><tr><td>peck_edible</td><td>▁█▁▁</td></tr><tr><td>second_order_similarity</td><td>▁</td></tr></table><br/></div><div class=\"wandb-col\"><h3>Run summary:</h3><br/><table class=\"wandb\"><tr><td>peck_edible</td><td>0</td></tr><tr><td>second_order_similarity</td><td>0.53977</td></tr></table><br/></div></div>"
            ]
          },
          "metadata": {}
        },
        {
          "output_type": "display_data",
          "data": {
            "text/plain": [
              "<IPython.core.display.HTML object>"
            ],
            "text/html": [
              " View run <strong style=\"color:#cdcd00\">test_rerunning</strong> at: <a href='https://wandb.ai/ms-hate-life-/encoder_runs/runs/ffjtcymm' target=\"_blank\">https://wandb.ai/ms-hate-life-/encoder_runs/runs/ffjtcymm</a><br> View project at: <a href='https://wandb.ai/ms-hate-life-/encoder_runs' target=\"_blank\">https://wandb.ai/ms-hate-life-/encoder_runs</a><br>Synced 5 W&B file(s), 0 media file(s), 0 artifact file(s) and 0 other file(s)"
            ]
          },
          "metadata": {}
        },
        {
          "output_type": "display_data",
          "data": {
            "text/plain": [
              "<IPython.core.display.HTML object>"
            ],
            "text/html": [
              "Find logs at: <code>./wandb/run-20250516_234350-ffjtcymm/logs</code>"
            ]
          },
          "metadata": {}
        },
        {
          "output_type": "display_data",
          "data": {
            "text/plain": [
              "<IPython.core.display.HTML object>"
            ],
            "text/html": [
              "Tracking run with wandb version 0.19.11"
            ]
          },
          "metadata": {}
        },
        {
          "output_type": "display_data",
          "data": {
            "text/plain": [
              "<IPython.core.display.HTML object>"
            ],
            "text/html": [
              "Run data is saved locally in <code>/content/wandb/run-20250516_234410-mmg5r3y6</code>"
            ]
          },
          "metadata": {}
        },
        {
          "output_type": "display_data",
          "data": {
            "text/plain": [
              "<IPython.core.display.HTML object>"
            ],
            "text/html": [
              "Syncing run <strong><a href='https://wandb.ai/ms-hate-life-/encoder_runs/runs/mmg5r3y6' target=\"_blank\">test_rerunning</a></strong> to <a href='https://wandb.ai/ms-hate-life-/encoder_runs' target=\"_blank\">Weights & Biases</a> (<a href='https://wandb.me/developer-guide' target=\"_blank\">docs</a>)<br>"
            ]
          },
          "metadata": {}
        },
        {
          "output_type": "display_data",
          "data": {
            "text/plain": [
              "<IPython.core.display.HTML object>"
            ],
            "text/html": [
              " View project at <a href='https://wandb.ai/ms-hate-life-/encoder_runs' target=\"_blank\">https://wandb.ai/ms-hate-life-/encoder_runs</a>"
            ]
          },
          "metadata": {}
        },
        {
          "output_type": "display_data",
          "data": {
            "text/plain": [
              "<IPython.core.display.HTML object>"
            ],
            "text/html": [
              " View run at <a href='https://wandb.ai/ms-hate-life-/encoder_runs/runs/mmg5r3y6' target=\"_blank\">https://wandb.ai/ms-hate-life-/encoder_runs/runs/mmg5r3y6</a>"
            ]
          },
          "metadata": {}
        },
        {
          "output_type": "stream",
          "name": "stdout",
          "text": [
            "Trial 227 finished!\n"
          ]
        },
        {
          "output_type": "display_data",
          "data": {
            "text/plain": [
              "<IPython.core.display.HTML object>"
            ],
            "text/html": []
          },
          "metadata": {}
        },
        {
          "output_type": "display_data",
          "data": {
            "text/plain": [
              "<IPython.core.display.HTML object>"
            ],
            "text/html": [
              "<br>    <style><br>        .wandb-row {<br>            display: flex;<br>            flex-direction: row;<br>            flex-wrap: wrap;<br>            justify-content: flex-start;<br>            width: 100%;<br>        }<br>        .wandb-col {<br>            display: flex;<br>            flex-direction: column;<br>            flex-basis: 100%;<br>            flex: 1;<br>            padding: 10px;<br>        }<br>    </style><br><div class=\"wandb-row\"><div class=\"wandb-col\"><h3>Run history:</h3><br/><table class=\"wandb\"><tr><td>peck_edible</td><td>█▁█▁▁▁█▁██▁▁█▁▁█▁█▁▁▁▁█▁▁▁█▁█▁▁▁▁▁▁█████</td></tr><tr><td>second_order_similarity</td><td>▁</td></tr></table><br/></div><div class=\"wandb-col\"><h3>Run summary:</h3><br/><table class=\"wandb\"><tr><td>peck_edible</td><td>1</td></tr><tr><td>second_order_similarity</td><td>0.54015</td></tr></table><br/></div></div>"
            ]
          },
          "metadata": {}
        },
        {
          "output_type": "display_data",
          "data": {
            "text/plain": [
              "<IPython.core.display.HTML object>"
            ],
            "text/html": [
              " View run <strong style=\"color:#cdcd00\">test_rerunning</strong> at: <a href='https://wandb.ai/ms-hate-life-/encoder_runs/runs/mmg5r3y6' target=\"_blank\">https://wandb.ai/ms-hate-life-/encoder_runs/runs/mmg5r3y6</a><br> View project at: <a href='https://wandb.ai/ms-hate-life-/encoder_runs' target=\"_blank\">https://wandb.ai/ms-hate-life-/encoder_runs</a><br>Synced 5 W&B file(s), 0 media file(s), 0 artifact file(s) and 0 other file(s)"
            ]
          },
          "metadata": {}
        },
        {
          "output_type": "display_data",
          "data": {
            "text/plain": [
              "<IPython.core.display.HTML object>"
            ],
            "text/html": [
              "Find logs at: <code>./wandb/run-20250516_234410-mmg5r3y6/logs</code>"
            ]
          },
          "metadata": {}
        },
        {
          "output_type": "display_data",
          "data": {
            "text/plain": [
              "<IPython.core.display.HTML object>"
            ],
            "text/html": [
              "Tracking run with wandb version 0.19.11"
            ]
          },
          "metadata": {}
        },
        {
          "output_type": "display_data",
          "data": {
            "text/plain": [
              "<IPython.core.display.HTML object>"
            ],
            "text/html": [
              "Run data is saved locally in <code>/content/wandb/run-20250516_234429-cxd92tmz</code>"
            ]
          },
          "metadata": {}
        },
        {
          "output_type": "display_data",
          "data": {
            "text/plain": [
              "<IPython.core.display.HTML object>"
            ],
            "text/html": [
              "Syncing run <strong><a href='https://wandb.ai/ms-hate-life-/encoder_runs/runs/cxd92tmz' target=\"_blank\">test_rerunning</a></strong> to <a href='https://wandb.ai/ms-hate-life-/encoder_runs' target=\"_blank\">Weights & Biases</a> (<a href='https://wandb.me/developer-guide' target=\"_blank\">docs</a>)<br>"
            ]
          },
          "metadata": {}
        },
        {
          "output_type": "display_data",
          "data": {
            "text/plain": [
              "<IPython.core.display.HTML object>"
            ],
            "text/html": [
              " View project at <a href='https://wandb.ai/ms-hate-life-/encoder_runs' target=\"_blank\">https://wandb.ai/ms-hate-life-/encoder_runs</a>"
            ]
          },
          "metadata": {}
        },
        {
          "output_type": "display_data",
          "data": {
            "text/plain": [
              "<IPython.core.display.HTML object>"
            ],
            "text/html": [
              " View run at <a href='https://wandb.ai/ms-hate-life-/encoder_runs/runs/cxd92tmz' target=\"_blank\">https://wandb.ai/ms-hate-life-/encoder_runs/runs/cxd92tmz</a>"
            ]
          },
          "metadata": {}
        },
        {
          "output_type": "stream",
          "name": "stdout",
          "text": [
            "Trial 4779 finished!\n"
          ]
        },
        {
          "output_type": "display_data",
          "data": {
            "text/plain": [
              "<IPython.core.display.HTML object>"
            ],
            "text/html": []
          },
          "metadata": {}
        },
        {
          "output_type": "display_data",
          "data": {
            "text/plain": [
              "<IPython.core.display.HTML object>"
            ],
            "text/html": [
              "<br>    <style><br>        .wandb-row {<br>            display: flex;<br>            flex-direction: row;<br>            flex-wrap: wrap;<br>            justify-content: flex-start;<br>            width: 100%;<br>        }<br>        .wandb-col {<br>            display: flex;<br>            flex-direction: column;<br>            flex-basis: 100%;<br>            flex: 1;<br>            padding: 10px;<br>        }<br>    </style><br><div class=\"wandb-row\"><div class=\"wandb-col\"><h3>Run history:</h3><br/><table class=\"wandb\"><tr><td>peck_edible</td><td>██▁▁█▁▁███▁▁▁▁█▁▁█▁███▁██▁█▁████▁▁▁█▁█▁█</td></tr><tr><td>second_order_similarity</td><td>▁</td></tr></table><br/></div><div class=\"wandb-col\"><h3>Run summary:</h3><br/><table class=\"wandb\"><tr><td>peck_edible</td><td>0</td></tr><tr><td>second_order_similarity</td><td>0.54317</td></tr></table><br/></div></div>"
            ]
          },
          "metadata": {}
        },
        {
          "output_type": "display_data",
          "data": {
            "text/plain": [
              "<IPython.core.display.HTML object>"
            ],
            "text/html": [
              " View run <strong style=\"color:#cdcd00\">test_rerunning</strong> at: <a href='https://wandb.ai/ms-hate-life-/encoder_runs/runs/cxd92tmz' target=\"_blank\">https://wandb.ai/ms-hate-life-/encoder_runs/runs/cxd92tmz</a><br> View project at: <a href='https://wandb.ai/ms-hate-life-/encoder_runs' target=\"_blank\">https://wandb.ai/ms-hate-life-/encoder_runs</a><br>Synced 5 W&B file(s), 0 media file(s), 0 artifact file(s) and 0 other file(s)"
            ]
          },
          "metadata": {}
        },
        {
          "output_type": "display_data",
          "data": {
            "text/plain": [
              "<IPython.core.display.HTML object>"
            ],
            "text/html": [
              "Find logs at: <code>./wandb/run-20250516_234429-cxd92tmz/logs</code>"
            ]
          },
          "metadata": {}
        },
        {
          "output_type": "display_data",
          "data": {
            "text/plain": [
              "<IPython.core.display.HTML object>"
            ],
            "text/html": [
              "Tracking run with wandb version 0.19.11"
            ]
          },
          "metadata": {}
        },
        {
          "output_type": "display_data",
          "data": {
            "text/plain": [
              "<IPython.core.display.HTML object>"
            ],
            "text/html": [
              "Run data is saved locally in <code>/content/wandb/run-20250516_234448-l7v7gn8j</code>"
            ]
          },
          "metadata": {}
        },
        {
          "output_type": "display_data",
          "data": {
            "text/plain": [
              "<IPython.core.display.HTML object>"
            ],
            "text/html": [
              "Syncing run <strong><a href='https://wandb.ai/ms-hate-life-/encoder_runs/runs/l7v7gn8j' target=\"_blank\">test_rerunning</a></strong> to <a href='https://wandb.ai/ms-hate-life-/encoder_runs' target=\"_blank\">Weights & Biases</a> (<a href='https://wandb.me/developer-guide' target=\"_blank\">docs</a>)<br>"
            ]
          },
          "metadata": {}
        },
        {
          "output_type": "display_data",
          "data": {
            "text/plain": [
              "<IPython.core.display.HTML object>"
            ],
            "text/html": [
              " View project at <a href='https://wandb.ai/ms-hate-life-/encoder_runs' target=\"_blank\">https://wandb.ai/ms-hate-life-/encoder_runs</a>"
            ]
          },
          "metadata": {}
        },
        {
          "output_type": "display_data",
          "data": {
            "text/plain": [
              "<IPython.core.display.HTML object>"
            ],
            "text/html": [
              " View run at <a href='https://wandb.ai/ms-hate-life-/encoder_runs/runs/l7v7gn8j' target=\"_blank\">https://wandb.ai/ms-hate-life-/encoder_runs/runs/l7v7gn8j</a>"
            ]
          },
          "metadata": {}
        },
        {
          "output_type": "stream",
          "name": "stdout",
          "text": [
            "Trial 1545 finished!\n"
          ]
        },
        {
          "output_type": "display_data",
          "data": {
            "text/plain": [
              "<IPython.core.display.HTML object>"
            ],
            "text/html": []
          },
          "metadata": {}
        },
        {
          "output_type": "display_data",
          "data": {
            "text/plain": [
              "<IPython.core.display.HTML object>"
            ],
            "text/html": [
              "<br>    <style><br>        .wandb-row {<br>            display: flex;<br>            flex-direction: row;<br>            flex-wrap: wrap;<br>            justify-content: flex-start;<br>            width: 100%;<br>        }<br>        .wandb-col {<br>            display: flex;<br>            flex-direction: column;<br>            flex-basis: 100%;<br>            flex: 1;<br>            padding: 10px;<br>        }<br>    </style><br><div class=\"wandb-row\"><div class=\"wandb-col\"><h3>Run history:</h3><br/><table class=\"wandb\"><tr><td>peck_edible</td><td>██▁▁▁▁▁▁██▁█▁▁▁▁▁▁▁██▁█▁█▁█▁▁█▁▁█▁▁██▁▁█</td></tr><tr><td>second_order_similarity</td><td>▁</td></tr></table><br/></div><div class=\"wandb-col\"><h3>Run summary:</h3><br/><table class=\"wandb\"><tr><td>peck_edible</td><td>1</td></tr><tr><td>second_order_similarity</td><td>0.53744</td></tr></table><br/></div></div>"
            ]
          },
          "metadata": {}
        },
        {
          "output_type": "display_data",
          "data": {
            "text/plain": [
              "<IPython.core.display.HTML object>"
            ],
            "text/html": [
              " View run <strong style=\"color:#cdcd00\">test_rerunning</strong> at: <a href='https://wandb.ai/ms-hate-life-/encoder_runs/runs/l7v7gn8j' target=\"_blank\">https://wandb.ai/ms-hate-life-/encoder_runs/runs/l7v7gn8j</a><br> View project at: <a href='https://wandb.ai/ms-hate-life-/encoder_runs' target=\"_blank\">https://wandb.ai/ms-hate-life-/encoder_runs</a><br>Synced 5 W&B file(s), 0 media file(s), 0 artifact file(s) and 0 other file(s)"
            ]
          },
          "metadata": {}
        },
        {
          "output_type": "display_data",
          "data": {
            "text/plain": [
              "<IPython.core.display.HTML object>"
            ],
            "text/html": [
              "Find logs at: <code>./wandb/run-20250516_234448-l7v7gn8j/logs</code>"
            ]
          },
          "metadata": {}
        },
        {
          "output_type": "display_data",
          "data": {
            "text/plain": [
              "<IPython.core.display.HTML object>"
            ],
            "text/html": [
              "Tracking run with wandb version 0.19.11"
            ]
          },
          "metadata": {}
        },
        {
          "output_type": "display_data",
          "data": {
            "text/plain": [
              "<IPython.core.display.HTML object>"
            ],
            "text/html": [
              "Run data is saved locally in <code>/content/wandb/run-20250516_234506-jfgefons</code>"
            ]
          },
          "metadata": {}
        },
        {
          "output_type": "display_data",
          "data": {
            "text/plain": [
              "<IPython.core.display.HTML object>"
            ],
            "text/html": [
              "Syncing run <strong><a href='https://wandb.ai/ms-hate-life-/encoder_runs/runs/jfgefons' target=\"_blank\">test_rerunning</a></strong> to <a href='https://wandb.ai/ms-hate-life-/encoder_runs' target=\"_blank\">Weights & Biases</a> (<a href='https://wandb.me/developer-guide' target=\"_blank\">docs</a>)<br>"
            ]
          },
          "metadata": {}
        },
        {
          "output_type": "display_data",
          "data": {
            "text/plain": [
              "<IPython.core.display.HTML object>"
            ],
            "text/html": [
              " View project at <a href='https://wandb.ai/ms-hate-life-/encoder_runs' target=\"_blank\">https://wandb.ai/ms-hate-life-/encoder_runs</a>"
            ]
          },
          "metadata": {}
        },
        {
          "output_type": "display_data",
          "data": {
            "text/plain": [
              "<IPython.core.display.HTML object>"
            ],
            "text/html": [
              " View run at <a href='https://wandb.ai/ms-hate-life-/encoder_runs/runs/jfgefons' target=\"_blank\">https://wandb.ai/ms-hate-life-/encoder_runs/runs/jfgefons</a>"
            ]
          },
          "metadata": {}
        },
        {
          "output_type": "display_data",
          "data": {
            "text/plain": [
              "<IPython.core.display.HTML object>"
            ],
            "text/html": []
          },
          "metadata": {}
        },
        {
          "output_type": "display_data",
          "data": {
            "text/plain": [
              "<IPython.core.display.HTML object>"
            ],
            "text/html": [
              "<br>    <style><br>        .wandb-row {<br>            display: flex;<br>            flex-direction: row;<br>            flex-wrap: wrap;<br>            justify-content: flex-start;<br>            width: 100%;<br>        }<br>        .wandb-col {<br>            display: flex;<br>            flex-direction: column;<br>            flex-basis: 100%;<br>            flex: 1;<br>            padding: 10px;<br>        }<br>    </style><br><div class=\"wandb-row\"><div class=\"wandb-col\"><h3>Run history:</h3><br/><table class=\"wandb\"><tr><td>peck_edible</td><td>██▁▁██▁███▁▁███▁▁▁▁▁█▁▁▁█▁██▁█▁█▁█▁▁▁▁█▁</td></tr><tr><td>second_order_similarity</td><td>▁</td></tr></table><br/></div><div class=\"wandb-col\"><h3>Run summary:</h3><br/><table class=\"wandb\"><tr><td>peck_edible</td><td>0</td></tr><tr><td>second_order_similarity</td><td>0.53733</td></tr></table><br/></div></div>"
            ]
          },
          "metadata": {}
        },
        {
          "output_type": "display_data",
          "data": {
            "text/plain": [
              "<IPython.core.display.HTML object>"
            ],
            "text/html": [
              " View run <strong style=\"color:#cdcd00\">test_rerunning</strong> at: <a href='https://wandb.ai/ms-hate-life-/encoder_runs/runs/jfgefons' target=\"_blank\">https://wandb.ai/ms-hate-life-/encoder_runs/runs/jfgefons</a><br> View project at: <a href='https://wandb.ai/ms-hate-life-/encoder_runs' target=\"_blank\">https://wandb.ai/ms-hate-life-/encoder_runs</a><br>Synced 5 W&B file(s), 0 media file(s), 0 artifact file(s) and 0 other file(s)"
            ]
          },
          "metadata": {}
        },
        {
          "output_type": "display_data",
          "data": {
            "text/plain": [
              "<IPython.core.display.HTML object>"
            ],
            "text/html": [
              "Find logs at: <code>./wandb/run-20250516_234506-jfgefons/logs</code>"
            ]
          },
          "metadata": {}
        },
        {
          "output_type": "display_data",
          "data": {
            "text/plain": [
              "<IPython.core.display.HTML object>"
            ],
            "text/html": [
              "Tracking run with wandb version 0.19.11"
            ]
          },
          "metadata": {}
        },
        {
          "output_type": "display_data",
          "data": {
            "text/plain": [
              "<IPython.core.display.HTML object>"
            ],
            "text/html": [
              "Run data is saved locally in <code>/content/wandb/run-20250516_234526-qnj9r52r</code>"
            ]
          },
          "metadata": {}
        },
        {
          "output_type": "display_data",
          "data": {
            "text/plain": [
              "<IPython.core.display.HTML object>"
            ],
            "text/html": [
              "Syncing run <strong><a href='https://wandb.ai/ms-hate-life-/encoder_runs/runs/qnj9r52r' target=\"_blank\">test_rerunning</a></strong> to <a href='https://wandb.ai/ms-hate-life-/encoder_runs' target=\"_blank\">Weights & Biases</a> (<a href='https://wandb.me/developer-guide' target=\"_blank\">docs</a>)<br>"
            ]
          },
          "metadata": {}
        },
        {
          "output_type": "display_data",
          "data": {
            "text/plain": [
              "<IPython.core.display.HTML object>"
            ],
            "text/html": [
              " View project at <a href='https://wandb.ai/ms-hate-life-/encoder_runs' target=\"_blank\">https://wandb.ai/ms-hate-life-/encoder_runs</a>"
            ]
          },
          "metadata": {}
        },
        {
          "output_type": "display_data",
          "data": {
            "text/plain": [
              "<IPython.core.display.HTML object>"
            ],
            "text/html": [
              " View run at <a href='https://wandb.ai/ms-hate-life-/encoder_runs/runs/qnj9r52r' target=\"_blank\">https://wandb.ai/ms-hate-life-/encoder_runs/runs/qnj9r52r</a>"
            ]
          },
          "metadata": {}
        },
        {
          "output_type": "stream",
          "name": "stdout",
          "text": [
            "Trial 1455 finished!\n"
          ]
        },
        {
          "output_type": "display_data",
          "data": {
            "text/plain": [
              "<IPython.core.display.HTML object>"
            ],
            "text/html": []
          },
          "metadata": {}
        },
        {
          "output_type": "display_data",
          "data": {
            "text/plain": [
              "<IPython.core.display.HTML object>"
            ],
            "text/html": [
              "<br>    <style><br>        .wandb-row {<br>            display: flex;<br>            flex-direction: row;<br>            flex-wrap: wrap;<br>            justify-content: flex-start;<br>            width: 100%;<br>        }<br>        .wandb-col {<br>            display: flex;<br>            flex-direction: column;<br>            flex-basis: 100%;<br>            flex: 1;<br>            padding: 10px;<br>        }<br>    </style><br><div class=\"wandb-row\"><div class=\"wandb-col\"><h3>Run history:</h3><br/><table class=\"wandb\"><tr><td>peck_edible</td><td>█▁▁▁▁▁█▁█▁▁██▁▁█▁▁▁████▁██▁█▁▁██▁█▁▁▁██▁</td></tr><tr><td>second_order_similarity</td><td>▁</td></tr></table><br/></div><div class=\"wandb-col\"><h3>Run summary:</h3><br/><table class=\"wandb\"><tr><td>peck_edible</td><td>0</td></tr><tr><td>second_order_similarity</td><td>0.54801</td></tr></table><br/></div></div>"
            ]
          },
          "metadata": {}
        },
        {
          "output_type": "display_data",
          "data": {
            "text/plain": [
              "<IPython.core.display.HTML object>"
            ],
            "text/html": [
              " View run <strong style=\"color:#cdcd00\">test_rerunning</strong> at: <a href='https://wandb.ai/ms-hate-life-/encoder_runs/runs/qnj9r52r' target=\"_blank\">https://wandb.ai/ms-hate-life-/encoder_runs/runs/qnj9r52r</a><br> View project at: <a href='https://wandb.ai/ms-hate-life-/encoder_runs' target=\"_blank\">https://wandb.ai/ms-hate-life-/encoder_runs</a><br>Synced 5 W&B file(s), 0 media file(s), 0 artifact file(s) and 0 other file(s)"
            ]
          },
          "metadata": {}
        },
        {
          "output_type": "display_data",
          "data": {
            "text/plain": [
              "<IPython.core.display.HTML object>"
            ],
            "text/html": [
              "Find logs at: <code>./wandb/run-20250516_234526-qnj9r52r/logs</code>"
            ]
          },
          "metadata": {}
        },
        {
          "output_type": "display_data",
          "data": {
            "text/plain": [
              "<IPython.core.display.HTML object>"
            ],
            "text/html": [
              "Tracking run with wandb version 0.19.11"
            ]
          },
          "metadata": {}
        },
        {
          "output_type": "display_data",
          "data": {
            "text/plain": [
              "<IPython.core.display.HTML object>"
            ],
            "text/html": [
              "Run data is saved locally in <code>/content/wandb/run-20250516_234545-dkmi9n93</code>"
            ]
          },
          "metadata": {}
        },
        {
          "output_type": "display_data",
          "data": {
            "text/plain": [
              "<IPython.core.display.HTML object>"
            ],
            "text/html": [
              "Syncing run <strong><a href='https://wandb.ai/ms-hate-life-/encoder_runs/runs/dkmi9n93' target=\"_blank\">test_rerunning</a></strong> to <a href='https://wandb.ai/ms-hate-life-/encoder_runs' target=\"_blank\">Weights & Biases</a> (<a href='https://wandb.me/developer-guide' target=\"_blank\">docs</a>)<br>"
            ]
          },
          "metadata": {}
        },
        {
          "output_type": "display_data",
          "data": {
            "text/plain": [
              "<IPython.core.display.HTML object>"
            ],
            "text/html": [
              " View project at <a href='https://wandb.ai/ms-hate-life-/encoder_runs' target=\"_blank\">https://wandb.ai/ms-hate-life-/encoder_runs</a>"
            ]
          },
          "metadata": {}
        },
        {
          "output_type": "display_data",
          "data": {
            "text/plain": [
              "<IPython.core.display.HTML object>"
            ],
            "text/html": [
              " View run at <a href='https://wandb.ai/ms-hate-life-/encoder_runs/runs/dkmi9n93' target=\"_blank\">https://wandb.ai/ms-hate-life-/encoder_runs/runs/dkmi9n93</a>"
            ]
          },
          "metadata": {}
        },
        {
          "output_type": "display_data",
          "data": {
            "text/plain": [
              "<IPython.core.display.HTML object>"
            ],
            "text/html": []
          },
          "metadata": {}
        },
        {
          "output_type": "display_data",
          "data": {
            "text/plain": [
              "<IPython.core.display.HTML object>"
            ],
            "text/html": [
              "<br>    <style><br>        .wandb-row {<br>            display: flex;<br>            flex-direction: row;<br>            flex-wrap: wrap;<br>            justify-content: flex-start;<br>            width: 100%;<br>        }<br>        .wandb-col {<br>            display: flex;<br>            flex-direction: column;<br>            flex-basis: 100%;<br>            flex: 1;<br>            padding: 10px;<br>        }<br>    </style><br><div class=\"wandb-row\"><div class=\"wandb-col\"><h3>Run history:</h3><br/><table class=\"wandb\"><tr><td>peck_edible</td><td>▁</td></tr><tr><td>second_order_similarity</td><td>▁</td></tr></table><br/></div><div class=\"wandb-col\"><h3>Run summary:</h3><br/><table class=\"wandb\"><tr><td>peck_edible</td><td>0</td></tr><tr><td>second_order_similarity</td><td>0.5356</td></tr></table><br/></div></div>"
            ]
          },
          "metadata": {}
        },
        {
          "output_type": "display_data",
          "data": {
            "text/plain": [
              "<IPython.core.display.HTML object>"
            ],
            "text/html": [
              " View run <strong style=\"color:#cdcd00\">test_rerunning</strong> at: <a href='https://wandb.ai/ms-hate-life-/encoder_runs/runs/dkmi9n93' target=\"_blank\">https://wandb.ai/ms-hate-life-/encoder_runs/runs/dkmi9n93</a><br> View project at: <a href='https://wandb.ai/ms-hate-life-/encoder_runs' target=\"_blank\">https://wandb.ai/ms-hate-life-/encoder_runs</a><br>Synced 5 W&B file(s), 0 media file(s), 0 artifact file(s) and 0 other file(s)"
            ]
          },
          "metadata": {}
        },
        {
          "output_type": "display_data",
          "data": {
            "text/plain": [
              "<IPython.core.display.HTML object>"
            ],
            "text/html": [
              "Find logs at: <code>./wandb/run-20250516_234545-dkmi9n93/logs</code>"
            ]
          },
          "metadata": {}
        },
        {
          "output_type": "display_data",
          "data": {
            "text/plain": [
              "<IPython.core.display.HTML object>"
            ],
            "text/html": [
              "Tracking run with wandb version 0.19.11"
            ]
          },
          "metadata": {}
        },
        {
          "output_type": "display_data",
          "data": {
            "text/plain": [
              "<IPython.core.display.HTML object>"
            ],
            "text/html": [
              "Run data is saved locally in <code>/content/wandb/run-20250516_234604-okkd4i07</code>"
            ]
          },
          "metadata": {}
        },
        {
          "output_type": "display_data",
          "data": {
            "text/plain": [
              "<IPython.core.display.HTML object>"
            ],
            "text/html": [
              "Syncing run <strong><a href='https://wandb.ai/ms-hate-life-/encoder_runs/runs/okkd4i07' target=\"_blank\">test_rerunning</a></strong> to <a href='https://wandb.ai/ms-hate-life-/encoder_runs' target=\"_blank\">Weights & Biases</a> (<a href='https://wandb.me/developer-guide' target=\"_blank\">docs</a>)<br>"
            ]
          },
          "metadata": {}
        },
        {
          "output_type": "display_data",
          "data": {
            "text/plain": [
              "<IPython.core.display.HTML object>"
            ],
            "text/html": [
              " View project at <a href='https://wandb.ai/ms-hate-life-/encoder_runs' target=\"_blank\">https://wandb.ai/ms-hate-life-/encoder_runs</a>"
            ]
          },
          "metadata": {}
        },
        {
          "output_type": "display_data",
          "data": {
            "text/plain": [
              "<IPython.core.display.HTML object>"
            ],
            "text/html": [
              " View run at <a href='https://wandb.ai/ms-hate-life-/encoder_runs/runs/okkd4i07' target=\"_blank\">https://wandb.ai/ms-hate-life-/encoder_runs/runs/okkd4i07</a>"
            ]
          },
          "metadata": {}
        },
        {
          "output_type": "display_data",
          "data": {
            "text/plain": [
              "<IPython.core.display.HTML object>"
            ],
            "text/html": []
          },
          "metadata": {}
        },
        {
          "output_type": "display_data",
          "data": {
            "text/plain": [
              "<IPython.core.display.HTML object>"
            ],
            "text/html": [
              "<br>    <style><br>        .wandb-row {<br>            display: flex;<br>            flex-direction: row;<br>            flex-wrap: wrap;<br>            justify-content: flex-start;<br>            width: 100%;<br>        }<br>        .wandb-col {<br>            display: flex;<br>            flex-direction: column;<br>            flex-basis: 100%;<br>            flex: 1;<br>            padding: 10px;<br>        }<br>    </style><br><div class=\"wandb-row\"><div class=\"wandb-col\"><h3>Run history:</h3><br/><table class=\"wandb\"><tr><td>peck_edible</td><td>▁▁▁▁▁▁▁▁▁▁▁█▁▁▁█▁▁████▁▁▁███▁▁▁▁▁█▁▁██▁▁</td></tr><tr><td>second_order_similarity</td><td>▁</td></tr></table><br/></div><div class=\"wandb-col\"><h3>Run summary:</h3><br/><table class=\"wandb\"><tr><td>peck_edible</td><td>0</td></tr><tr><td>second_order_similarity</td><td>0.53984</td></tr></table><br/></div></div>"
            ]
          },
          "metadata": {}
        },
        {
          "output_type": "display_data",
          "data": {
            "text/plain": [
              "<IPython.core.display.HTML object>"
            ],
            "text/html": [
              " View run <strong style=\"color:#cdcd00\">test_rerunning</strong> at: <a href='https://wandb.ai/ms-hate-life-/encoder_runs/runs/okkd4i07' target=\"_blank\">https://wandb.ai/ms-hate-life-/encoder_runs/runs/okkd4i07</a><br> View project at: <a href='https://wandb.ai/ms-hate-life-/encoder_runs' target=\"_blank\">https://wandb.ai/ms-hate-life-/encoder_runs</a><br>Synced 5 W&B file(s), 0 media file(s), 0 artifact file(s) and 0 other file(s)"
            ]
          },
          "metadata": {}
        },
        {
          "output_type": "display_data",
          "data": {
            "text/plain": [
              "<IPython.core.display.HTML object>"
            ],
            "text/html": [
              "Find logs at: <code>./wandb/run-20250516_234604-okkd4i07/logs</code>"
            ]
          },
          "metadata": {}
        },
        {
          "output_type": "display_data",
          "data": {
            "text/plain": [
              "<IPython.core.display.HTML object>"
            ],
            "text/html": [
              "Tracking run with wandb version 0.19.11"
            ]
          },
          "metadata": {}
        },
        {
          "output_type": "display_data",
          "data": {
            "text/plain": [
              "<IPython.core.display.HTML object>"
            ],
            "text/html": [
              "Run data is saved locally in <code>/content/wandb/run-20250516_234623-nlgodlbm</code>"
            ]
          },
          "metadata": {}
        },
        {
          "output_type": "display_data",
          "data": {
            "text/plain": [
              "<IPython.core.display.HTML object>"
            ],
            "text/html": [
              "Syncing run <strong><a href='https://wandb.ai/ms-hate-life-/encoder_runs/runs/nlgodlbm' target=\"_blank\">test_rerunning</a></strong> to <a href='https://wandb.ai/ms-hate-life-/encoder_runs' target=\"_blank\">Weights & Biases</a> (<a href='https://wandb.me/developer-guide' target=\"_blank\">docs</a>)<br>"
            ]
          },
          "metadata": {}
        },
        {
          "output_type": "display_data",
          "data": {
            "text/plain": [
              "<IPython.core.display.HTML object>"
            ],
            "text/html": [
              " View project at <a href='https://wandb.ai/ms-hate-life-/encoder_runs' target=\"_blank\">https://wandb.ai/ms-hate-life-/encoder_runs</a>"
            ]
          },
          "metadata": {}
        },
        {
          "output_type": "display_data",
          "data": {
            "text/plain": [
              "<IPython.core.display.HTML object>"
            ],
            "text/html": [
              " View run at <a href='https://wandb.ai/ms-hate-life-/encoder_runs/runs/nlgodlbm' target=\"_blank\">https://wandb.ai/ms-hate-life-/encoder_runs/runs/nlgodlbm</a>"
            ]
          },
          "metadata": {}
        },
        {
          "output_type": "stream",
          "name": "stdout",
          "text": [
            "Trial 671 finished!\n"
          ]
        },
        {
          "output_type": "display_data",
          "data": {
            "text/plain": [
              "<IPython.core.display.HTML object>"
            ],
            "text/html": []
          },
          "metadata": {}
        },
        {
          "output_type": "display_data",
          "data": {
            "text/plain": [
              "<IPython.core.display.HTML object>"
            ],
            "text/html": [
              "<br>    <style><br>        .wandb-row {<br>            display: flex;<br>            flex-direction: row;<br>            flex-wrap: wrap;<br>            justify-content: flex-start;<br>            width: 100%;<br>        }<br>        .wandb-col {<br>            display: flex;<br>            flex-direction: column;<br>            flex-basis: 100%;<br>            flex: 1;<br>            padding: 10px;<br>        }<br>    </style><br><div class=\"wandb-row\"><div class=\"wandb-col\"><h3>Run history:</h3><br/><table class=\"wandb\"><tr><td>peck_edible</td><td>▁▁███████▁▁█▁▁▁█████▁███▁▁▁█▁▁▁█▁███▁▁▁█</td></tr><tr><td>second_order_similarity</td><td>▁</td></tr></table><br/></div><div class=\"wandb-col\"><h3>Run summary:</h3><br/><table class=\"wandb\"><tr><td>peck_edible</td><td>1</td></tr><tr><td>second_order_similarity</td><td>0.54507</td></tr></table><br/></div></div>"
            ]
          },
          "metadata": {}
        },
        {
          "output_type": "display_data",
          "data": {
            "text/plain": [
              "<IPython.core.display.HTML object>"
            ],
            "text/html": [
              " View run <strong style=\"color:#cdcd00\">test_rerunning</strong> at: <a href='https://wandb.ai/ms-hate-life-/encoder_runs/runs/nlgodlbm' target=\"_blank\">https://wandb.ai/ms-hate-life-/encoder_runs/runs/nlgodlbm</a><br> View project at: <a href='https://wandb.ai/ms-hate-life-/encoder_runs' target=\"_blank\">https://wandb.ai/ms-hate-life-/encoder_runs</a><br>Synced 5 W&B file(s), 0 media file(s), 0 artifact file(s) and 0 other file(s)"
            ]
          },
          "metadata": {}
        },
        {
          "output_type": "display_data",
          "data": {
            "text/plain": [
              "<IPython.core.display.HTML object>"
            ],
            "text/html": [
              "Find logs at: <code>./wandb/run-20250516_234623-nlgodlbm/logs</code>"
            ]
          },
          "metadata": {}
        },
        {
          "output_type": "display_data",
          "data": {
            "text/plain": [
              "<IPython.core.display.HTML object>"
            ],
            "text/html": [
              "Tracking run with wandb version 0.19.11"
            ]
          },
          "metadata": {}
        },
        {
          "output_type": "display_data",
          "data": {
            "text/plain": [
              "<IPython.core.display.HTML object>"
            ],
            "text/html": [
              "Run data is saved locally in <code>/content/wandb/run-20250516_234642-e62a7oaw</code>"
            ]
          },
          "metadata": {}
        },
        {
          "output_type": "display_data",
          "data": {
            "text/plain": [
              "<IPython.core.display.HTML object>"
            ],
            "text/html": [
              "Syncing run <strong><a href='https://wandb.ai/ms-hate-life-/encoder_runs/runs/e62a7oaw' target=\"_blank\">test_rerunning</a></strong> to <a href='https://wandb.ai/ms-hate-life-/encoder_runs' target=\"_blank\">Weights & Biases</a> (<a href='https://wandb.me/developer-guide' target=\"_blank\">docs</a>)<br>"
            ]
          },
          "metadata": {}
        },
        {
          "output_type": "display_data",
          "data": {
            "text/plain": [
              "<IPython.core.display.HTML object>"
            ],
            "text/html": [
              " View project at <a href='https://wandb.ai/ms-hate-life-/encoder_runs' target=\"_blank\">https://wandb.ai/ms-hate-life-/encoder_runs</a>"
            ]
          },
          "metadata": {}
        },
        {
          "output_type": "display_data",
          "data": {
            "text/plain": [
              "<IPython.core.display.HTML object>"
            ],
            "text/html": [
              " View run at <a href='https://wandb.ai/ms-hate-life-/encoder_runs/runs/e62a7oaw' target=\"_blank\">https://wandb.ai/ms-hate-life-/encoder_runs/runs/e62a7oaw</a>"
            ]
          },
          "metadata": {}
        },
        {
          "output_type": "display_data",
          "data": {
            "text/plain": [
              "<IPython.core.display.HTML object>"
            ],
            "text/html": []
          },
          "metadata": {}
        },
        {
          "output_type": "display_data",
          "data": {
            "text/plain": [
              "<IPython.core.display.HTML object>"
            ],
            "text/html": [
              "<br>    <style><br>        .wandb-row {<br>            display: flex;<br>            flex-direction: row;<br>            flex-wrap: wrap;<br>            justify-content: flex-start;<br>            width: 100%;<br>        }<br>        .wandb-col {<br>            display: flex;<br>            flex-direction: column;<br>            flex-basis: 100%;<br>            flex: 1;<br>            padding: 10px;<br>        }<br>    </style><br><div class=\"wandb-row\"><div class=\"wandb-col\"><h3>Run history:</h3><br/><table class=\"wandb\"><tr><td>peck_edible</td><td>█▁▁</td></tr><tr><td>second_order_similarity</td><td>▁</td></tr></table><br/></div><div class=\"wandb-col\"><h3>Run summary:</h3><br/><table class=\"wandb\"><tr><td>peck_edible</td><td>0</td></tr><tr><td>second_order_similarity</td><td>0.53957</td></tr></table><br/></div></div>"
            ]
          },
          "metadata": {}
        },
        {
          "output_type": "display_data",
          "data": {
            "text/plain": [
              "<IPython.core.display.HTML object>"
            ],
            "text/html": [
              " View run <strong style=\"color:#cdcd00\">test_rerunning</strong> at: <a href='https://wandb.ai/ms-hate-life-/encoder_runs/runs/e62a7oaw' target=\"_blank\">https://wandb.ai/ms-hate-life-/encoder_runs/runs/e62a7oaw</a><br> View project at: <a href='https://wandb.ai/ms-hate-life-/encoder_runs' target=\"_blank\">https://wandb.ai/ms-hate-life-/encoder_runs</a><br>Synced 5 W&B file(s), 0 media file(s), 0 artifact file(s) and 0 other file(s)"
            ]
          },
          "metadata": {}
        },
        {
          "output_type": "display_data",
          "data": {
            "text/plain": [
              "<IPython.core.display.HTML object>"
            ],
            "text/html": [
              "Find logs at: <code>./wandb/run-20250516_234642-e62a7oaw/logs</code>"
            ]
          },
          "metadata": {}
        },
        {
          "output_type": "display_data",
          "data": {
            "text/plain": [
              "<IPython.core.display.HTML object>"
            ],
            "text/html": [
              "Tracking run with wandb version 0.19.11"
            ]
          },
          "metadata": {}
        },
        {
          "output_type": "display_data",
          "data": {
            "text/plain": [
              "<IPython.core.display.HTML object>"
            ],
            "text/html": [
              "Run data is saved locally in <code>/content/wandb/run-20250516_234702-7v38fwwu</code>"
            ]
          },
          "metadata": {}
        },
        {
          "output_type": "display_data",
          "data": {
            "text/plain": [
              "<IPython.core.display.HTML object>"
            ],
            "text/html": [
              "Syncing run <strong><a href='https://wandb.ai/ms-hate-life-/encoder_runs/runs/7v38fwwu' target=\"_blank\">test_rerunning</a></strong> to <a href='https://wandb.ai/ms-hate-life-/encoder_runs' target=\"_blank\">Weights & Biases</a> (<a href='https://wandb.me/developer-guide' target=\"_blank\">docs</a>)<br>"
            ]
          },
          "metadata": {}
        },
        {
          "output_type": "display_data",
          "data": {
            "text/plain": [
              "<IPython.core.display.HTML object>"
            ],
            "text/html": [
              " View project at <a href='https://wandb.ai/ms-hate-life-/encoder_runs' target=\"_blank\">https://wandb.ai/ms-hate-life-/encoder_runs</a>"
            ]
          },
          "metadata": {}
        },
        {
          "output_type": "display_data",
          "data": {
            "text/plain": [
              "<IPython.core.display.HTML object>"
            ],
            "text/html": [
              " View run at <a href='https://wandb.ai/ms-hate-life-/encoder_runs/runs/7v38fwwu' target=\"_blank\">https://wandb.ai/ms-hate-life-/encoder_runs/runs/7v38fwwu</a>"
            ]
          },
          "metadata": {}
        },
        {
          "output_type": "display_data",
          "data": {
            "text/plain": [
              "<IPython.core.display.HTML object>"
            ],
            "text/html": []
          },
          "metadata": {}
        },
        {
          "output_type": "display_data",
          "data": {
            "text/plain": [
              "<IPython.core.display.HTML object>"
            ],
            "text/html": [
              "<br>    <style><br>        .wandb-row {<br>            display: flex;<br>            flex-direction: row;<br>            flex-wrap: wrap;<br>            justify-content: flex-start;<br>            width: 100%;<br>        }<br>        .wandb-col {<br>            display: flex;<br>            flex-direction: column;<br>            flex-basis: 100%;<br>            flex: 1;<br>            padding: 10px;<br>        }<br>    </style><br><div class=\"wandb-row\"><div class=\"wandb-col\"><h3>Run history:</h3><br/><table class=\"wandb\"><tr><td>peck_edible</td><td>▁▁▁█▁▁▁▁█▁▁▁█▁█▁█▁▁▁███▁▁▁▁▁█▁▁▁▁██▁▁▁█▁</td></tr><tr><td>second_order_similarity</td><td>▁</td></tr></table><br/></div><div class=\"wandb-col\"><h3>Run summary:</h3><br/><table class=\"wandb\"><tr><td>peck_edible</td><td>0</td></tr><tr><td>second_order_similarity</td><td>0.54331</td></tr></table><br/></div></div>"
            ]
          },
          "metadata": {}
        },
        {
          "output_type": "display_data",
          "data": {
            "text/plain": [
              "<IPython.core.display.HTML object>"
            ],
            "text/html": [
              " View run <strong style=\"color:#cdcd00\">test_rerunning</strong> at: <a href='https://wandb.ai/ms-hate-life-/encoder_runs/runs/7v38fwwu' target=\"_blank\">https://wandb.ai/ms-hate-life-/encoder_runs/runs/7v38fwwu</a><br> View project at: <a href='https://wandb.ai/ms-hate-life-/encoder_runs' target=\"_blank\">https://wandb.ai/ms-hate-life-/encoder_runs</a><br>Synced 5 W&B file(s), 0 media file(s), 0 artifact file(s) and 0 other file(s)"
            ]
          },
          "metadata": {}
        },
        {
          "output_type": "display_data",
          "data": {
            "text/plain": [
              "<IPython.core.display.HTML object>"
            ],
            "text/html": [
              "Find logs at: <code>./wandb/run-20250516_234702-7v38fwwu/logs</code>"
            ]
          },
          "metadata": {}
        },
        {
          "output_type": "display_data",
          "data": {
            "text/plain": [
              "<IPython.core.display.HTML object>"
            ],
            "text/html": [
              "Tracking run with wandb version 0.19.11"
            ]
          },
          "metadata": {}
        },
        {
          "output_type": "display_data",
          "data": {
            "text/plain": [
              "<IPython.core.display.HTML object>"
            ],
            "text/html": [
              "Run data is saved locally in <code>/content/wandb/run-20250516_234721-37k2nvl6</code>"
            ]
          },
          "metadata": {}
        },
        {
          "output_type": "display_data",
          "data": {
            "text/plain": [
              "<IPython.core.display.HTML object>"
            ],
            "text/html": [
              "Syncing run <strong><a href='https://wandb.ai/ms-hate-life-/encoder_runs/runs/37k2nvl6' target=\"_blank\">test_rerunning</a></strong> to <a href='https://wandb.ai/ms-hate-life-/encoder_runs' target=\"_blank\">Weights & Biases</a> (<a href='https://wandb.me/developer-guide' target=\"_blank\">docs</a>)<br>"
            ]
          },
          "metadata": {}
        },
        {
          "output_type": "display_data",
          "data": {
            "text/plain": [
              "<IPython.core.display.HTML object>"
            ],
            "text/html": [
              " View project at <a href='https://wandb.ai/ms-hate-life-/encoder_runs' target=\"_blank\">https://wandb.ai/ms-hate-life-/encoder_runs</a>"
            ]
          },
          "metadata": {}
        },
        {
          "output_type": "display_data",
          "data": {
            "text/plain": [
              "<IPython.core.display.HTML object>"
            ],
            "text/html": [
              " View run at <a href='https://wandb.ai/ms-hate-life-/encoder_runs/runs/37k2nvl6' target=\"_blank\">https://wandb.ai/ms-hate-life-/encoder_runs/runs/37k2nvl6</a>"
            ]
          },
          "metadata": {}
        },
        {
          "output_type": "stream",
          "name": "stdout",
          "text": [
            "Trial 5022 finished!\n"
          ]
        },
        {
          "output_type": "display_data",
          "data": {
            "text/plain": [
              "<IPython.core.display.HTML object>"
            ],
            "text/html": []
          },
          "metadata": {}
        },
        {
          "output_type": "display_data",
          "data": {
            "text/plain": [
              "<IPython.core.display.HTML object>"
            ],
            "text/html": [
              "<br>    <style><br>        .wandb-row {<br>            display: flex;<br>            flex-direction: row;<br>            flex-wrap: wrap;<br>            justify-content: flex-start;<br>            width: 100%;<br>        }<br>        .wandb-col {<br>            display: flex;<br>            flex-direction: column;<br>            flex-basis: 100%;<br>            flex: 1;<br>            padding: 10px;<br>        }<br>    </style><br><div class=\"wandb-row\"><div class=\"wandb-col\"><h3>Run history:</h3><br/><table class=\"wandb\"><tr><td>peck_edible</td><td>█▁▁▁▁██▁▁████▁██▁▁▁▁██▁████▁█▁▁▁██▁▁▁▁▁▁</td></tr><tr><td>second_order_similarity</td><td>▁</td></tr></table><br/></div><div class=\"wandb-col\"><h3>Run summary:</h3><br/><table class=\"wandb\"><tr><td>peck_edible</td><td>1</td></tr><tr><td>second_order_similarity</td><td>0.54462</td></tr></table><br/></div></div>"
            ]
          },
          "metadata": {}
        },
        {
          "output_type": "display_data",
          "data": {
            "text/plain": [
              "<IPython.core.display.HTML object>"
            ],
            "text/html": [
              " View run <strong style=\"color:#cdcd00\">test_rerunning</strong> at: <a href='https://wandb.ai/ms-hate-life-/encoder_runs/runs/37k2nvl6' target=\"_blank\">https://wandb.ai/ms-hate-life-/encoder_runs/runs/37k2nvl6</a><br> View project at: <a href='https://wandb.ai/ms-hate-life-/encoder_runs' target=\"_blank\">https://wandb.ai/ms-hate-life-/encoder_runs</a><br>Synced 5 W&B file(s), 0 media file(s), 0 artifact file(s) and 0 other file(s)"
            ]
          },
          "metadata": {}
        },
        {
          "output_type": "display_data",
          "data": {
            "text/plain": [
              "<IPython.core.display.HTML object>"
            ],
            "text/html": [
              "Find logs at: <code>./wandb/run-20250516_234721-37k2nvl6/logs</code>"
            ]
          },
          "metadata": {}
        },
        {
          "output_type": "stream",
          "name": "stderr",
          "text": [
            "/usr/local/lib/python3.11/dist-packages/sklearn/manifold/_t_sne.py:1164: FutureWarning: 'n_iter' was renamed to 'max_iter' in version 1.5 and will be removed in 1.7.\n",
            "  warnings.warn(\n"
          ]
        },
        {
          "output_type": "display_data",
          "data": {
            "application/javascript": [
              "'use strict';\n",
              "(function(root) {\n",
              "  function now() {\n",
              "    return new Date();\n",
              "  }\n",
              "\n",
              "  const force = true;\n",
              "\n",
              "  if (typeof root._bokeh_onload_callbacks === \"undefined\" || force === true) {\n",
              "    root._bokeh_onload_callbacks = [];\n",
              "    root._bokeh_is_loading = undefined;\n",
              "  }\n",
              "\n",
              "const JS_MIME_TYPE = 'application/javascript';\n",
              "  const HTML_MIME_TYPE = 'text/html';\n",
              "  const EXEC_MIME_TYPE = 'application/vnd.bokehjs_exec.v0+json';\n",
              "  const CLASS_NAME = 'output_bokeh rendered_html';\n",
              "\n",
              "  /**\n",
              "   * Render data to the DOM node\n",
              "   */\n",
              "  function render(props, node) {\n",
              "    const script = document.createElement(\"script\");\n",
              "    node.appendChild(script);\n",
              "  }\n",
              "\n",
              "  /**\n",
              "   * Handle when an output is cleared or removed\n",
              "   */\n",
              "  function handleClearOutput(event, handle) {\n",
              "    function drop(id) {\n",
              "      const view = Bokeh.index.get_by_id(id)\n",
              "      if (view != null) {\n",
              "        view.model.document.clear()\n",
              "        Bokeh.index.delete(view)\n",
              "      }\n",
              "    }\n",
              "\n",
              "    const cell = handle.cell;\n",
              "\n",
              "    const id = cell.output_area._bokeh_element_id;\n",
              "    const server_id = cell.output_area._bokeh_server_id;\n",
              "\n",
              "    // Clean up Bokeh references\n",
              "    if (id != null) {\n",
              "      drop(id)\n",
              "    }\n",
              "\n",
              "    if (server_id !== undefined) {\n",
              "      // Clean up Bokeh references\n",
              "      const cmd_clean = \"from bokeh.io.state import curstate; print(curstate().uuid_to_server['\" + server_id + \"'].get_sessions()[0].document.roots[0]._id)\";\n",
              "      cell.notebook.kernel.execute(cmd_clean, {\n",
              "        iopub: {\n",
              "          output: function(msg) {\n",
              "            const id = msg.content.text.trim()\n",
              "            drop(id)\n",
              "          }\n",
              "        }\n",
              "      });\n",
              "      // Destroy server and session\n",
              "      const cmd_destroy = \"import bokeh.io.notebook as ion; ion.destroy_server('\" + server_id + \"')\";\n",
              "      cell.notebook.kernel.execute(cmd_destroy);\n",
              "    }\n",
              "  }\n",
              "\n",
              "  /**\n",
              "   * Handle when a new output is added\n",
              "   */\n",
              "  function handleAddOutput(event, handle) {\n",
              "    const output_area = handle.output_area;\n",
              "    const output = handle.output;\n",
              "\n",
              "    // limit handleAddOutput to display_data with EXEC_MIME_TYPE content only\n",
              "    if ((output.output_type != \"display_data\") || (!Object.prototype.hasOwnProperty.call(output.data, EXEC_MIME_TYPE))) {\n",
              "      return\n",
              "    }\n",
              "\n",
              "    const toinsert = output_area.element.find(\".\" + CLASS_NAME.split(' ')[0]);\n",
              "\n",
              "    if (output.metadata[EXEC_MIME_TYPE][\"id\"] !== undefined) {\n",
              "      toinsert[toinsert.length - 1].firstChild.textContent = output.data[JS_MIME_TYPE];\n",
              "      // store reference to embed id on output_area\n",
              "      output_area._bokeh_element_id = output.metadata[EXEC_MIME_TYPE][\"id\"];\n",
              "    }\n",
              "    if (output.metadata[EXEC_MIME_TYPE][\"server_id\"] !== undefined) {\n",
              "      const bk_div = document.createElement(\"div\");\n",
              "      bk_div.innerHTML = output.data[HTML_MIME_TYPE];\n",
              "      const script_attrs = bk_div.children[0].attributes;\n",
              "      for (let i = 0; i < script_attrs.length; i++) {\n",
              "        toinsert[toinsert.length - 1].firstChild.setAttribute(script_attrs[i].name, script_attrs[i].value);\n",
              "        toinsert[toinsert.length - 1].firstChild.textContent = bk_div.children[0].textContent\n",
              "      }\n",
              "      // store reference to server id on output_area\n",
              "      output_area._bokeh_server_id = output.metadata[EXEC_MIME_TYPE][\"server_id\"];\n",
              "    }\n",
              "  }\n",
              "\n",
              "  function register_renderer(events, OutputArea) {\n",
              "\n",
              "    function append_mime(data, metadata, element) {\n",
              "      // create a DOM node to render to\n",
              "      const toinsert = this.create_output_subarea(\n",
              "        metadata,\n",
              "        CLASS_NAME,\n",
              "        EXEC_MIME_TYPE\n",
              "      );\n",
              "      this.keyboard_manager.register_events(toinsert);\n",
              "      // Render to node\n",
              "      const props = {data: data, metadata: metadata[EXEC_MIME_TYPE]};\n",
              "      render(props, toinsert[toinsert.length - 1]);\n",
              "      element.append(toinsert);\n",
              "      return toinsert\n",
              "    }\n",
              "\n",
              "    /* Handle when an output is cleared or removed */\n",
              "    events.on('clear_output.CodeCell', handleClearOutput);\n",
              "    events.on('delete.Cell', handleClearOutput);\n",
              "\n",
              "    /* Handle when a new output is added */\n",
              "    events.on('output_added.OutputArea', handleAddOutput);\n",
              "\n",
              "    /**\n",
              "     * Register the mime type and append_mime function with output_area\n",
              "     */\n",
              "    OutputArea.prototype.register_mime_type(EXEC_MIME_TYPE, append_mime, {\n",
              "      /* Is output safe? */\n",
              "      safe: true,\n",
              "      /* Index of renderer in `output_area.display_order` */\n",
              "      index: 0\n",
              "    });\n",
              "  }\n",
              "\n",
              "  // register the mime type if in Jupyter Notebook environment and previously unregistered\n",
              "  if (root.Jupyter !== undefined) {\n",
              "    const events = require('base/js/events');\n",
              "    const OutputArea = require('notebook/js/outputarea').OutputArea;\n",
              "\n",
              "    if (OutputArea.prototype.mime_types().indexOf(EXEC_MIME_TYPE) == -1) {\n",
              "      register_renderer(events, OutputArea);\n",
              "    }\n",
              "  }\n",
              "  if (typeof (root._bokeh_timeout) === \"undefined\" || force === true) {\n",
              "    root._bokeh_timeout = Date.now() + 5000;\n",
              "    root._bokeh_failed_load = false;\n",
              "  }\n",
              "\n",
              "  const NB_LOAD_WARNING = {'data': {'text/html':\n",
              "     \"<div style='background-color: #fdd'>\\n\"+\n",
              "     \"<p>\\n\"+\n",
              "     \"BokehJS does not appear to have successfully loaded. If loading BokehJS from CDN, this \\n\"+\n",
              "     \"may be due to a slow or bad network connection. Possible fixes:\\n\"+\n",
              "     \"</p>\\n\"+\n",
              "     \"<ul>\\n\"+\n",
              "     \"<li>re-rerun `output_notebook()` to attempt to load from CDN again, or</li>\\n\"+\n",
              "     \"<li>use INLINE resources instead, as so:</li>\\n\"+\n",
              "     \"</ul>\\n\"+\n",
              "     \"<code>\\n\"+\n",
              "     \"from bokeh.resources import INLINE\\n\"+\n",
              "     \"output_notebook(resources=INLINE)\\n\"+\n",
              "     \"</code>\\n\"+\n",
              "     \"</div>\"}};\n",
              "\n",
              "  function display_loaded(error = null) {\n",
              "    const el = document.getElementById(null);\n",
              "    if (el != null) {\n",
              "      const html = (() => {\n",
              "        if (typeof root.Bokeh === \"undefined\") {\n",
              "          if (error == null) {\n",
              "            return \"BokehJS is loading ...\";\n",
              "          } else {\n",
              "            return \"BokehJS failed to load.\";\n",
              "          }\n",
              "        } else {\n",
              "          const prefix = `BokehJS ${root.Bokeh.version}`;\n",
              "          if (error == null) {\n",
              "            return `${prefix} successfully loaded.`;\n",
              "          } else {\n",
              "            return `${prefix} <b>encountered errors</b> while loading and may not function as expected.`;\n",
              "          }\n",
              "        }\n",
              "      })();\n",
              "      el.innerHTML = html;\n",
              "\n",
              "      if (error != null) {\n",
              "        const wrapper = document.createElement(\"div\");\n",
              "        wrapper.style.overflow = \"auto\";\n",
              "        wrapper.style.height = \"5em\";\n",
              "        wrapper.style.resize = \"vertical\";\n",
              "        const content = document.createElement(\"div\");\n",
              "        content.style.fontFamily = \"monospace\";\n",
              "        content.style.whiteSpace = \"pre-wrap\";\n",
              "        content.style.backgroundColor = \"rgb(255, 221, 221)\";\n",
              "        content.textContent = error.stack ?? error.toString();\n",
              "        wrapper.append(content);\n",
              "        el.append(wrapper);\n",
              "      }\n",
              "    } else if (Date.now() < root._bokeh_timeout) {\n",
              "      setTimeout(() => display_loaded(error), 100);\n",
              "    }\n",
              "  }\n",
              "\n",
              "  function run_callbacks() {\n",
              "    try {\n",
              "      root._bokeh_onload_callbacks.forEach(function(callback) {\n",
              "        if (callback != null)\n",
              "          callback();\n",
              "      });\n",
              "    } finally {\n",
              "      delete root._bokeh_onload_callbacks\n",
              "    }\n",
              "    console.debug(\"Bokeh: all callbacks have finished\");\n",
              "  }\n",
              "\n",
              "  function load_libs(css_urls, js_urls, callback) {\n",
              "    if (css_urls == null) css_urls = [];\n",
              "    if (js_urls == null) js_urls = [];\n",
              "\n",
              "    root._bokeh_onload_callbacks.push(callback);\n",
              "    if (root._bokeh_is_loading > 0) {\n",
              "      console.debug(\"Bokeh: BokehJS is being loaded, scheduling callback at\", now());\n",
              "      return null;\n",
              "    }\n",
              "    if (js_urls == null || js_urls.length === 0) {\n",
              "      run_callbacks();\n",
              "      return null;\n",
              "    }\n",
              "    console.debug(\"Bokeh: BokehJS not loaded, scheduling load and callback at\", now());\n",
              "    root._bokeh_is_loading = css_urls.length + js_urls.length;\n",
              "\n",
              "    function on_load() {\n",
              "      root._bokeh_is_loading--;\n",
              "      if (root._bokeh_is_loading === 0) {\n",
              "        console.debug(\"Bokeh: all BokehJS libraries/stylesheets loaded\");\n",
              "        run_callbacks()\n",
              "      }\n",
              "    }\n",
              "\n",
              "    function on_error(url) {\n",
              "      console.error(\"failed to load \" + url);\n",
              "    }\n",
              "\n",
              "    for (let i = 0; i < css_urls.length; i++) {\n",
              "      const url = css_urls[i];\n",
              "      const element = document.createElement(\"link\");\n",
              "      element.onload = on_load;\n",
              "      element.onerror = on_error.bind(null, url);\n",
              "      element.rel = \"stylesheet\";\n",
              "      element.type = \"text/css\";\n",
              "      element.href = url;\n",
              "      console.debug(\"Bokeh: injecting link tag for BokehJS stylesheet: \", url);\n",
              "      document.body.appendChild(element);\n",
              "    }\n",
              "\n",
              "    for (let i = 0; i < js_urls.length; i++) {\n",
              "      const url = js_urls[i];\n",
              "      const element = document.createElement('script');\n",
              "      element.onload = on_load;\n",
              "      element.onerror = on_error.bind(null, url);\n",
              "      element.async = false;\n",
              "      element.src = url;\n",
              "      console.debug(\"Bokeh: injecting script tag for BokehJS library: \", url);\n",
              "      document.head.appendChild(element);\n",
              "    }\n",
              "  };\n",
              "\n",
              "  function inject_raw_css(css) {\n",
              "    const element = document.createElement(\"style\");\n",
              "    element.appendChild(document.createTextNode(css));\n",
              "    document.body.appendChild(element);\n",
              "  }\n",
              "\n",
              "  const js_urls = [\"https://cdn.bokeh.org/bokeh/release/bokeh-3.7.3.min.js\", \"https://cdn.bokeh.org/bokeh/release/bokeh-gl-3.7.3.min.js\", \"https://cdn.bokeh.org/bokeh/release/bokeh-widgets-3.7.3.min.js\", \"https://cdn.bokeh.org/bokeh/release/bokeh-tables-3.7.3.min.js\", \"https://cdn.bokeh.org/bokeh/release/bokeh-mathjax-3.7.3.min.js\"];\n",
              "  const css_urls = [];\n",
              "\n",
              "  const inline_js = [    function(Bokeh) {\n",
              "      Bokeh.set_log_level(\"info\");\n",
              "    },\n",
              "function(Bokeh) {\n",
              "    }\n",
              "  ];\n",
              "\n",
              "  function run_inline_js() {\n",
              "    if (root.Bokeh !== undefined || force === true) {\n",
              "      try {\n",
              "            for (let i = 0; i < inline_js.length; i++) {\n",
              "      inline_js[i].call(root, root.Bokeh);\n",
              "    }\n",
              "\n",
              "      } catch (error) {throw error;\n",
              "      }} else if (Date.now() < root._bokeh_timeout) {\n",
              "      setTimeout(run_inline_js, 100);\n",
              "    } else if (!root._bokeh_failed_load) {\n",
              "      console.log(\"Bokeh: BokehJS failed to load within specified timeout.\");\n",
              "      root._bokeh_failed_load = true;\n",
              "    } else if (force !== true) {\n",
              "      const cell = $(document.getElementById(null)).parents('.cell').data().cell;\n",
              "      cell.output_area.append_execute_result(NB_LOAD_WARNING)\n",
              "    }\n",
              "  }\n",
              "\n",
              "  if (root._bokeh_is_loading === 0) {\n",
              "    console.debug(\"Bokeh: BokehJS loaded, going straight to plotting\");\n",
              "    run_inline_js();\n",
              "  } else {\n",
              "    load_libs(css_urls, js_urls, function() {\n",
              "      console.debug(\"Bokeh: BokehJS plotting callback run at\", now());\n",
              "      run_inline_js();\n",
              "    });\n",
              "  }\n",
              "}(window));"
            ],
            "application/vnd.bokehjs_load.v0+json": "'use strict';\n(function(root) {\n  function now() {\n    return new Date();\n  }\n\n  const force = true;\n\n  if (typeof root._bokeh_onload_callbacks === \"undefined\" || force === true) {\n    root._bokeh_onload_callbacks = [];\n    root._bokeh_is_loading = undefined;\n  }\n\n\n  if (typeof (root._bokeh_timeout) === \"undefined\" || force === true) {\n    root._bokeh_timeout = Date.now() + 5000;\n    root._bokeh_failed_load = false;\n  }\n\n  const NB_LOAD_WARNING = {'data': {'text/html':\n     \"<div style='background-color: #fdd'>\\n\"+\n     \"<p>\\n\"+\n     \"BokehJS does not appear to have successfully loaded. If loading BokehJS from CDN, this \\n\"+\n     \"may be due to a slow or bad network connection. Possible fixes:\\n\"+\n     \"</p>\\n\"+\n     \"<ul>\\n\"+\n     \"<li>re-rerun `output_notebook()` to attempt to load from CDN again, or</li>\\n\"+\n     \"<li>use INLINE resources instead, as so:</li>\\n\"+\n     \"</ul>\\n\"+\n     \"<code>\\n\"+\n     \"from bokeh.resources import INLINE\\n\"+\n     \"output_notebook(resources=INLINE)\\n\"+\n     \"</code>\\n\"+\n     \"</div>\"}};\n\n  function display_loaded(error = null) {\n    const el = document.getElementById(null);\n    if (el != null) {\n      const html = (() => {\n        if (typeof root.Bokeh === \"undefined\") {\n          if (error == null) {\n            return \"BokehJS is loading ...\";\n          } else {\n            return \"BokehJS failed to load.\";\n          }\n        } else {\n          const prefix = `BokehJS ${root.Bokeh.version}`;\n          if (error == null) {\n            return `${prefix} successfully loaded.`;\n          } else {\n            return `${prefix} <b>encountered errors</b> while loading and may not function as expected.`;\n          }\n        }\n      })();\n      el.innerHTML = html;\n\n      if (error != null) {\n        const wrapper = document.createElement(\"div\");\n        wrapper.style.overflow = \"auto\";\n        wrapper.style.height = \"5em\";\n        wrapper.style.resize = \"vertical\";\n        const content = document.createElement(\"div\");\n        content.style.fontFamily = \"monospace\";\n        content.style.whiteSpace = \"pre-wrap\";\n        content.style.backgroundColor = \"rgb(255, 221, 221)\";\n        content.textContent = error.stack ?? error.toString();\n        wrapper.append(content);\n        el.append(wrapper);\n      }\n    } else if (Date.now() < root._bokeh_timeout) {\n      setTimeout(() => display_loaded(error), 100);\n    }\n  }\n\n  function run_callbacks() {\n    try {\n      root._bokeh_onload_callbacks.forEach(function(callback) {\n        if (callback != null)\n          callback();\n      });\n    } finally {\n      delete root._bokeh_onload_callbacks\n    }\n    console.debug(\"Bokeh: all callbacks have finished\");\n  }\n\n  function load_libs(css_urls, js_urls, callback) {\n    if (css_urls == null) css_urls = [];\n    if (js_urls == null) js_urls = [];\n\n    root._bokeh_onload_callbacks.push(callback);\n    if (root._bokeh_is_loading > 0) {\n      console.debug(\"Bokeh: BokehJS is being loaded, scheduling callback at\", now());\n      return null;\n    }\n    if (js_urls == null || js_urls.length === 0) {\n      run_callbacks();\n      return null;\n    }\n    console.debug(\"Bokeh: BokehJS not loaded, scheduling load and callback at\", now());\n    root._bokeh_is_loading = css_urls.length + js_urls.length;\n\n    function on_load() {\n      root._bokeh_is_loading--;\n      if (root._bokeh_is_loading === 0) {\n        console.debug(\"Bokeh: all BokehJS libraries/stylesheets loaded\");\n        run_callbacks()\n      }\n    }\n\n    function on_error(url) {\n      console.error(\"failed to load \" + url);\n    }\n\n    for (let i = 0; i < css_urls.length; i++) {\n      const url = css_urls[i];\n      const element = document.createElement(\"link\");\n      element.onload = on_load;\n      element.onerror = on_error.bind(null, url);\n      element.rel = \"stylesheet\";\n      element.type = \"text/css\";\n      element.href = url;\n      console.debug(\"Bokeh: injecting link tag for BokehJS stylesheet: \", url);\n      document.body.appendChild(element);\n    }\n\n    for (let i = 0; i < js_urls.length; i++) {\n      const url = js_urls[i];\n      const element = document.createElement('script');\n      element.onload = on_load;\n      element.onerror = on_error.bind(null, url);\n      element.async = false;\n      element.src = url;\n      console.debug(\"Bokeh: injecting script tag for BokehJS library: \", url);\n      document.head.appendChild(element);\n    }\n  };\n\n  function inject_raw_css(css) {\n    const element = document.createElement(\"style\");\n    element.appendChild(document.createTextNode(css));\n    document.body.appendChild(element);\n  }\n\n  const js_urls = [\"https://cdn.bokeh.org/bokeh/release/bokeh-3.7.3.min.js\", \"https://cdn.bokeh.org/bokeh/release/bokeh-gl-3.7.3.min.js\", \"https://cdn.bokeh.org/bokeh/release/bokeh-widgets-3.7.3.min.js\", \"https://cdn.bokeh.org/bokeh/release/bokeh-tables-3.7.3.min.js\", \"https://cdn.bokeh.org/bokeh/release/bokeh-mathjax-3.7.3.min.js\"];\n  const css_urls = [];\n\n  const inline_js = [    function(Bokeh) {\n      Bokeh.set_log_level(\"info\");\n    },\nfunction(Bokeh) {\n    }\n  ];\n\n  function run_inline_js() {\n    if (root.Bokeh !== undefined || force === true) {\n      try {\n            for (let i = 0; i < inline_js.length; i++) {\n      inline_js[i].call(root, root.Bokeh);\n    }\n\n      } catch (error) {throw error;\n      }} else if (Date.now() < root._bokeh_timeout) {\n      setTimeout(run_inline_js, 100);\n    } else if (!root._bokeh_failed_load) {\n      console.log(\"Bokeh: BokehJS failed to load within specified timeout.\");\n      root._bokeh_failed_load = true;\n    } else if (force !== true) {\n      const cell = $(document.getElementById(null)).parents('.cell').data().cell;\n      cell.output_area.append_execute_result(NB_LOAD_WARNING)\n    }\n  }\n\n  if (root._bokeh_is_loading === 0) {\n    console.debug(\"Bokeh: BokehJS loaded, going straight to plotting\");\n    run_inline_js();\n  } else {\n    load_libs(css_urls, js_urls, function() {\n      console.debug(\"Bokeh: BokehJS plotting callback run at\", now());\n      run_inline_js();\n    });\n  }\n}(window));"
          },
          "metadata": {}
        },
        {
          "output_type": "display_data",
          "data": {
            "text/html": [
              "\n",
              "  <div id=\"e3d1c0c9-4079-45f8-ae4b-f206e785cced\" data-root-id=\"p1117\" style=\"display: contents;\"></div>\n"
            ]
          },
          "metadata": {}
        },
        {
          "output_type": "display_data",
          "data": {
            "application/javascript": [
              "(function(root) {\n",
              "  function embed_document(root) {\n",
              "  const docs_json = {\"650b35b1-a8b7-40e0-9ab2-146136124820\":{\"version\":\"3.7.3\",\"title\":\"Bokeh Application\",\"roots\":[{\"type\":\"object\",\"name\":\"Figure\",\"id\":\"p1117\",\"attributes\":{\"width\":400,\"height\":400,\"x_range\":{\"type\":\"object\",\"name\":\"DataRange1d\",\"id\":\"p1118\"},\"y_range\":{\"type\":\"object\",\"name\":\"DataRange1d\",\"id\":\"p1119\"},\"x_scale\":{\"type\":\"object\",\"name\":\"LinearScale\",\"id\":\"p1126\"},\"y_scale\":{\"type\":\"object\",\"name\":\"LinearScale\",\"id\":\"p1127\"},\"title\":{\"type\":\"object\",\"name\":\"Title\",\"id\":\"p1124\"},\"renderers\":[{\"type\":\"object\",\"name\":\"GlyphRenderer\",\"id\":\"p1163\",\"attributes\":{\"data_source\":{\"type\":\"object\",\"name\":\"ColumnDataSource\",\"id\":\"p1153\",\"attributes\":{\"selected\":{\"type\":\"object\",\"name\":\"Selection\",\"id\":\"p1154\",\"attributes\":{\"indices\":[],\"line_indices\":[]}},\"selection_policy\":{\"type\":\"object\",\"name\":\"UnionRenderers\",\"id\":\"p1155\"},\"data\":{\"type\":\"map\",\"entries\":[[\"index\",{\"type\":\"ndarray\",\"array\":{\"type\":\"bytes\",\"data\":\"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\"},\"shape\":[1000],\"dtype\":\"int32\",\"order\":\"little\"}],[\"x\",{\"type\":\"ndarray\",\"array\":{\"type\":\"bytes\",\"data\":\"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\"},\"shape\":[1000],\"dtype\":\"float32\",\"order\":\"little\"}],[\"y\",{\"type\":\"ndarray\",\"array\":{\"type\":\"bytes\",\"data\":\"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\"},\"shape\":[1000],\"dtype\":\"float32\",\"order\":\"little\"}],[\"label\",{\"type\":\"ndarray\",\"array\":[\"0\",\"0\",\"0\",\"1\",\"1\",\"1\",\"1\",\"1\",\"1\",\"0\",\"0\",\"1\",\"1\",\"0\",\"1\",\"1\",\"1\",\"1\",\"1\",\"0\",\"0\",\"0\",\"0\",\"0\",\"0\",\"1\",\"0\",\"1\",\"1\",\"1\",\"1\",\"1\",\"1\",\"1\",\"1\",\"0\",\"0\",\"0\",\"0\",\"1\",\"0\",\"0\",\"0\",\"1\",\"0\",\"1\",\"0\",\"0\",\"0\",\"0\",\"1\",\"1\",\"1\",\"0\",\"1\",\"0\",\"0\",\"0\",\"0\",\"0\",\"0\",\"1\",\"1\",\"1\",\"0\",\"0\",\"1\",\"0\",\"0\",\"0\",\"0\",\"1\",\"0\",\"0\",\"1\",\"1\",\"0\",\"0\",\"1\",\"1\",\"1\",\"1\",\"0\",\"0\",\"0\",\"0\",\"1\",\"0\",\"0\",\"0\",\"0\",\"0\",\"0\",\"0\",\"1\",\"0\",\"0\",\"1\",\"1\",\"1\",\"1\",\"0\",\"1\",\"0\",\"0\",\"0\",\"1\",\"1\",\"1\",\"0\",\"1\",\"1\",\"1\",\"1\",\"1\",\"0\",\"1\",\"1\",\"0\",\"0\",\"1\",\"0\",\"0\",\"0\",\"0\",\"0\",\"0\",\"0\",\"0\",\"0\",\"0\",\"0\",\"0\",\"0\",\"0\",\"1\",\"0\",\"0\",\"0\",\"0\",\"0\",\"0\",\"1\",\"0\",\"0\",\"1\",\"0\",\"0\",\"1\",\"0\",\"0\",\"0\",\"0\",\"1\",\"0\",\"1\",\"1\",\"0\",\"0\",\"1\",\"0\",\"0\",\"1\",\"1\",\"1\",\"1\",\"0\",\"0\",\"1\",\"1\",\"1\",\"0\",\"0\",\"1\",\"0\",\"0\",\"0\",\"0\",\"0\",\"0\",\"1\",\"0\",\"0\",\"1\",\"1\",\"1\",\"1\",\"0\",\"1\",\"1\",\"1\",\"1\",\"0\",\"1\",\"1\",\"1\",\"1\",\"1\",\"1\",\"0\",\"0\",\"0\",\"1\",\"0\",\"0\",\"1\",\"1\",\"1\",\"1\",\"1\",\"1\",\"0\",\"0\",\"0\",\"0\",\"1\",\"0\",\"0\",\"0\",\"1\",\"0\",\"0\",\"0\",\"0\",\"0\",\"0\",\"0\",\"0\",\"0\",\"1\",\"0\",\"1\",\"0\",\"0\",\"1\",\"1\",\"1\",\"0\",\"1\",\"1\",\"0\",\"0\",\"1\",\"1\",\"0\",\"1\",\"0\",\"0\",\"0\",\"1\",\"0\",\"0\",\"0\",\"0\",\"0\",\"0\",\"0\",\"0\",\"0\",\"1\",\"1\",\"1\",\"1\",\"1\",\"1\",\"0\",\"0\",\"1\",\"1\",\"0\",\"0\",\"0\",\"0\",\"0\",\"0\",\"0\",\"1\",\"0\",\"1\",\"0\",\"0\",\"1\",\"1\",\"1\",\"1\",\"0\",\"1\",\"0\",\"1\",\"0\",\"0\",\"0\",\"0\",\"0\",\"1\",\"1\",\"0\",\"0\",\"0\",\"1\",\"1\",\"1\",\"1\",\"0\",\"0\",\"0\",\"0\",\"0\",\"0\",\"0\",\"0\",\"0\",\"0\",\"0\",\"1\",\"1\",\"1\",\"0\",\"0\",\"0\",\"0\",\"0\",\"0\",\"0\",\"0\",\"0\",\"1\",\"1\",\"0\",\"1\",\"1\",\"0\",\"0\",\"1\",\"0\",\"1\",\"1\",\"1\",\"0\",\"0\",\"0\",\"0\",\"1\",\"0\",\"1\",\"1\",\"1\",\"1\",\"0\",\"1\",\"1\",\"1\",\"1\",\"1\",\"1\",\"1\",\"1\",\"1\",\"1\",\"1\",\"0\",\"1\",\"0\",\"0\",\"1\",\"1\",\"1\",\"1\",\"1\",\"1\",\"0\",\"0\",\"0\",\"1\",\"1\",\"0\",\"1\",\"0\",\"0\",\"0\",\"0\",\"0\",\"0\",\"1\",\"1\",\"1\",\"0\",\"1\",\"1\",\"1\",\"1\",\"1\",\"0\",\"1\",\"1\",\"0\",\"1\",\"1\",\"1\",\"0\",\"1\",\"1\",\"1\",\"1\",\"1\",\"1\",\"1\",\"1\",\"0\",\"1\",\"1\",\"0\",\"0\",\"1\",\"1\",\"1\",\"0\",\"0\",\"0\",\"0\",\"1\",\"0\",\"0\",\"0\",\"1\",\"0\",\"0\",\"0\",\"0\",\"0\",\"0\",\"0\",\"1\",\"1\",\"1\",\"0\",\"0\",\"1\",\"1\",\"1\",\"1\",\"1\",\"1\",\"1\",\"1\",\"1\",\"0\",\"0\",\"1\",\"0\",\"1\",\"0\",\"0\",\"1\",\"0\",\"0\",\"0\",\"0\",\"0\",\"0\",\"0\",\"1\",\"0\",\"0\",\"0\",\"0\",\"0\",\"0\",\"0\",\"0\",\"0\",\"0\",\"0\",\"0\",\"0\",\"0\",\"0\",\"0\",\"1\",\"1\",\"0\",\"0\",\"0\",\"0\",\"0\",\"0\",\"0\",\"0\",\"0\",\"0\",\"1\",\"1\",\"1\",\"1\",\"1\",\"0\",\"1\",\"0\",\"0\",\"0\",\"0\",\"0\",\"1\",\"0\",\"0\",\"1\",\"0\",\"0\",\"0\",\"1\",\"1\",\"1\",\"1\",\"1\",\"1\",\"1\",\"1\",\"1\",\"1\",\"0\",\"0\",\"1\",\"0\",\"0\",\"0\",\"1\",\"0\",\"0\",\"0\",\"1\",\"0\",\"0\",\"0\",\"0\",\"1\",\"1\",\"0\",\"0\",\"0\",\"0\",\"0\",\"0\",\"1\",\"1\",\"1\",\"1\",\"1\",\"1\",\"1\",\"0\",\"1\",\"0\",\"0\",\"1\",\"1\",\"0\",\"0\",\"0\",\"1\",\"1\",\"1\",\"0\",\"0\",\"0\",\"0\",\"0\",\"1\",\"1\",\"1\",\"1\",\"0\",\"1\",\"1\",\"1\",\"0\",\"0\",\"0\",\"0\",\"1\",\"1\",\"1\",\"1\",\"1\",\"0\",\"0\",\"1\",\"0\",\"1\",\"1\",\"0\",\"0\",\"1\",\"0\",\"1\",\"1\",\"0\",\"0\",\"0\",\"0\",\"0\",\"1\",\"1\",\"1\",\"1\",\"1\",\"1\",\"1\",\"1\",\"1\",\"1\",\"0\",\"0\",\"0\",\"1\",\"1\",\"1\",\"1\",\"0\",\"0\",\"1\",\"1\",\"0\",\"0\",\"0\",\"0\",\"0\",\"0\",\"1\",\"1\",\"0\",\"1\",\"1\",\"0\",\"1\",\"1\",\"1\",\"1\",\"0\",\"1\",\"1\",\"0\",\"1\",\"0\",\"1\",\"0\",\"0\",\"1\",\"0\",\"0\",\"1\",\"0\",\"1\",\"1\",\"0\",\"0\",\"1\",\"0\",\"0\",\"0\",\"1\",\"1\",\"1\",\"1\",\"0\",\"0\",\"0\",\"0\",\"1\",\"1\",\"1\",\"1\",\"1\",\"1\",\"1\",\"0\",\"0\",\"0\",\"0\",\"0\",\"1\",\"1\",\"0\",\"0\",\"0\",\"0\",\"0\",\"0\",\"1\",\"1\",\"1\",\"1\",\"0\",\"1\",\"0\",\"0\",\"0\",\"0\",\"0\",\"0\",\"0\",\"0\",\"0\",\"0\",\"0\",\"0\",\"0\",\"1\",\"0\",\"1\",\"1\",\"1\",\"0\",\"0\",\"1\",\"1\",\"1\",\"1\",\"0\",\"1\",\"1\",\"0\",\"0\",\"0\",\"0\",\"0\",\"1\",\"1\",\"1\",\"1\",\"1\",\"1\",\"1\",\"1\",\"1\",\"1\",\"1\",\"1\",\"1\",\"0\",\"0\",\"0\",\"0\",\"0\",\"0\",\"0\",\"0\",\"0\",\"0\",\"0\",\"0\",\"0\",\"0\",\"0\",\"1\",\"1\",\"1\",\"1\",\"1\",\"0\",\"0\",\"0\",\"1\",\"0\",\"0\",\"0\",\"1\",\"0\",\"0\",\"0\",\"1\",\"0\",\"1\",\"1\",\"1\",\"0\",\"0\",\"1\",\"0\",\"0\",\"1\",\"1\",\"1\",\"1\",\"1\",\"1\",\"0\",\"1\",\"0\",\"1\",\"0\",\"1\",\"0\",\"1\",\"0\",\"1\",\"0\",\"0\",\"0\",\"1\",\"1\",\"0\",\"0\",\"0\",\"1\",\"0\",\"0\",\"0\",\"0\",\"0\",\"0\",\"0\",\"0\",\"0\",\"1\",\"0\",\"0\",\"0\",\"0\",\"0\",\"0\",\"0\",\"0\",\"0\",\"0\",\"1\",\"1\",\"1\",\"0\",\"1\",\"0\",\"0\",\"0\",\"0\",\"0\",\"0\",\"1\",\"0\",\"0\",\"0\",\"0\",\"1\",\"0\",\"1\",\"0\",\"1\",\"1\",\"0\",\"0\",\"0\",\"0\",\"0\",\"0\",\"0\",\"1\",\"1\",\"1\",\"1\",\"1\",\"1\",\"0\",\"0\",\"0\",\"0\",\"0\",\"0\",\"0\",\"1\",\"0\",\"0\",\"0\",\"0\",\"0\",\"0\",\"0\",\"0\",\"0\",\"0\",\"1\",\"1\",\"0\",\"1\",\"1\",\"0\",\"0\",\"0\",\"0\",\"1\",\"1\",\"1\",\"1\",\"1\",\"1\",\"0\",\"1\",\"0\",\"1\",\"0\",\"0\",\"1\",\"0\",\"0\",\"0\",\"0\",\"0\",\"0\",\"0\",\"0\",\"1\",\"0\",\"1\",\"0\",\"0\",\"1\",\"1\",\"0\",\"1\",\"0\",\"1\",\"0\",\"0\",\"1\",\"1\",\"1\",\"1\",\"0\",\"0\",\"0\",\"1\",\"1\",\"1\",\"0\",\"0\",\"1\",\"1\",\"1\",\"1\",\"0\",\"1\",\"0\",\"0\",\"1\",\"1\",\"1\",\"1\",\"1\",\"1\",\"1\",\"1\",\"1\",\"1\",\"1\",\"1\",\"1\",\"1\",\"0\",\"1\",\"0\",\"1\",\"1\",\"0\",\"1\",\"1\",\"1\",\"0\",\"0\",\"0\",\"1\",\"1\",\"1\",\"0\",\"0\",\"0\",\"0\",\"0\",\"0\",\"0\",\"0\",\"0\",\"1\",\"1\",\"0\",\"0\",\"0\",\"1\",\"0\",\"0\",\"0\",\"0\",\"0\",\"0\",\"0\",\"0\",\"0\",\"1\",\"0\",\"0\",\"0\",\"0\",\"0\",\"0\"],\"shape\":[1000],\"dtype\":\"object\",\"order\":\"little\"}],[\"tsne_x\",{\"type\":\"ndarray\",\"array\":{\"type\":\"bytes\",\"data\":\"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\"},\"shape\":[1000],\"dtype\":\"float32\",\"order\":\"little\"}],[\"tsne_y\",{\"type\":\"ndarray\",\"array\":{\"type\":\"bytes\",\"data\":\"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\"},\"shape\":[1000],\"dtype\":\"float32\",\"order\":\"little\"}]]}}},\"view\":{\"type\":\"object\",\"name\":\"CDSView\",\"id\":\"p1164\",\"attributes\":{\"filter\":{\"type\":\"object\",\"name\":\"AllIndices\",\"id\":\"p1165\"}}},\"glyph\":{\"type\":\"object\",\"name\":\"Scatter\",\"id\":\"p1160\",\"attributes\":{\"x\":{\"type\":\"field\",\"field\":\"x\"},\"y\":{\"type\":\"field\",\"field\":\"y\"},\"line_color\":{\"type\":\"field\",\"field\":\"label\",\"transform\":{\"type\":\"object\",\"name\":\"CategoricalColorMapper\",\"id\":\"p1156\",\"attributes\":{\"palette\":[\"#1f77b4\",\"#ff7f0e\",\"#2ca02c\"],\"factors\":{\"type\":\"ndarray\",\"array\":[\"0\",\"1\"],\"shape\":[2],\"dtype\":\"object\",\"order\":\"little\"}}}},\"fill_color\":{\"type\":\"field\",\"field\":\"label\",\"transform\":{\"id\":\"p1156\"}},\"hatch_color\":{\"type\":\"field\",\"field\":\"label\",\"transform\":{\"id\":\"p1156\"}}}},\"nonselection_glyph\":{\"type\":\"object\",\"name\":\"Scatter\",\"id\":\"p1161\",\"attributes\":{\"x\":{\"type\":\"field\",\"field\":\"x\"},\"y\":{\"type\":\"field\",\"field\":\"y\"},\"line_color\":{\"type\":\"field\",\"field\":\"label\",\"transform\":{\"id\":\"p1156\"}},\"line_alpha\":{\"type\":\"value\",\"value\":0.1},\"fill_color\":{\"type\":\"field\",\"field\":\"label\",\"transform\":{\"id\":\"p1156\"}},\"fill_alpha\":{\"type\":\"value\",\"value\":0.1},\"hatch_color\":{\"type\":\"field\",\"field\":\"label\",\"transform\":{\"id\":\"p1156\"}},\"hatch_alpha\":{\"type\":\"value\",\"value\":0.1}}},\"muted_glyph\":{\"type\":\"object\",\"name\":\"Scatter\",\"id\":\"p1162\",\"attributes\":{\"x\":{\"type\":\"field\",\"field\":\"x\"},\"y\":{\"type\":\"field\",\"field\":\"y\"},\"line_color\":{\"type\":\"field\",\"field\":\"label\",\"transform\":{\"id\":\"p1156\"}},\"line_alpha\":{\"type\":\"value\",\"value\":0.2},\"fill_color\":{\"type\":\"field\",\"field\":\"label\",\"transform\":{\"id\":\"p1156\"}},\"fill_alpha\":{\"type\":\"value\",\"value\":0.2},\"hatch_color\":{\"type\":\"field\",\"field\":\"label\",\"transform\":{\"id\":\"p1156\"}},\"hatch_alpha\":{\"type\":\"value\",\"value\":0.2}}}}}],\"toolbar\":{\"type\":\"object\",\"name\":\"Toolbar\",\"id\":\"p1125\",\"attributes\":{\"tools\":[{\"type\":\"object\",\"name\":\"LassoSelectTool\",\"id\":\"p1138\",\"attributes\":{\"renderers\":\"auto\",\"overlay\":{\"type\":\"object\",\"name\":\"PolyAnnotation\",\"id\":\"p1139\",\"attributes\":{\"syncable\":false,\"level\":\"overlay\",\"visible\":false,\"xs\":[],\"ys\":[],\"editable\":true,\"line_color\":\"black\",\"line_alpha\":1.0,\"line_width\":2,\"line_dash\":[4,4],\"fill_color\":\"lightgrey\",\"fill_alpha\":0.5}}}},{\"type\":\"object\",\"name\":\"BoxSelectTool\",\"id\":\"p1140\",\"attributes\":{\"renderers\":\"auto\",\"overlay\":{\"type\":\"object\",\"name\":\"BoxAnnotation\",\"id\":\"p1141\",\"attributes\":{\"syncable\":false,\"line_color\":\"black\",\"line_alpha\":1.0,\"line_width\":2,\"line_dash\":[4,4],\"fill_color\":\"lightgrey\",\"fill_alpha\":0.5,\"level\":\"overlay\",\"visible\":false,\"left\":{\"type\":\"number\",\"value\":\"nan\"},\"right\":{\"type\":\"number\",\"value\":\"nan\"},\"top\":{\"type\":\"number\",\"value\":\"nan\"},\"bottom\":{\"type\":\"number\",\"value\":\"nan\"},\"editable\":true,\"handles\":{\"type\":\"object\",\"name\":\"BoxInteractionHandles\",\"id\":\"p1147\",\"attributes\":{\"all\":{\"type\":\"object\",\"name\":\"AreaVisuals\",\"id\":\"p1146\",\"attributes\":{\"fill_color\":\"white\",\"hover_fill_color\":\"lightgray\"}}}}}}}},{\"type\":\"object\",\"name\":\"PanTool\",\"id\":\"p1148\"},{\"type\":\"object\",\"name\":\"ZoomInTool\",\"id\":\"p1149\",\"attributes\":{\"renderers\":\"auto\"}},{\"type\":\"object\",\"name\":\"ZoomOutTool\",\"id\":\"p1150\",\"attributes\":{\"renderers\":\"auto\"}},{\"type\":\"object\",\"name\":\"ResetTool\",\"id\":\"p1151\"},{\"type\":\"object\",\"name\":\"HoverTool\",\"id\":\"p1152\",\"attributes\":{\"renderers\":\"auto\",\"tooltips\":[[\"x, y\",\"$x, $y\"],[\"index\",\"$index\"]]}}]}},\"left\":[{\"type\":\"object\",\"name\":\"LinearAxis\",\"id\":\"p1133\",\"attributes\":{\"ticker\":{\"type\":\"object\",\"name\":\"BasicTicker\",\"id\":\"p1134\",\"attributes\":{\"mantissas\":[1,2,5]}},\"formatter\":{\"type\":\"object\",\"name\":\"BasicTickFormatter\",\"id\":\"p1135\"},\"major_label_policy\":{\"type\":\"object\",\"name\":\"AllLabels\",\"id\":\"p1136\"}}}],\"below\":[{\"type\":\"object\",\"name\":\"LinearAxis\",\"id\":\"p1128\",\"attributes\":{\"ticker\":{\"type\":\"object\",\"name\":\"BasicTicker\",\"id\":\"p1129\",\"attributes\":{\"mantissas\":[1,2,5]}},\"formatter\":{\"type\":\"object\",\"name\":\"BasicTickFormatter\",\"id\":\"p1130\"},\"major_label_policy\":{\"type\":\"object\",\"name\":\"AllLabels\",\"id\":\"p1131\"}}}],\"center\":[{\"type\":\"object\",\"name\":\"Grid\",\"id\":\"p1132\",\"attributes\":{\"axis\":{\"id\":\"p1128\"}}},{\"type\":\"object\",\"name\":\"Grid\",\"id\":\"p1137\",\"attributes\":{\"dimension\":1,\"axis\":{\"id\":\"p1133\"}}},{\"type\":\"object\",\"name\":\"Legend\",\"id\":\"p1166\",\"attributes\":{\"location\":\"bottom_left\",\"click_policy\":\"mute\",\"items\":[{\"type\":\"object\",\"name\":\"LegendItem\",\"id\":\"p1167\",\"attributes\":{\"label\":{\"type\":\"value\",\"value\":\"0\"},\"renderers\":[{\"id\":\"p1163\"}],\"index\":0}},{\"type\":\"object\",\"name\":\"LegendItem\",\"id\":\"p1168\",\"attributes\":{\"label\":{\"type\":\"value\",\"value\":\"1\"},\"renderers\":[{\"id\":\"p1163\"}],\"index\":3}}]}}]}}]}};\n",
              "  const render_items = [{\"docid\":\"650b35b1-a8b7-40e0-9ab2-146136124820\",\"roots\":{\"p1117\":\"e3d1c0c9-4079-45f8-ae4b-f206e785cced\"},\"root_ids\":[\"p1117\"]}];\n",
              "  void root.Bokeh.embed.embed_items_notebook(docs_json, render_items);\n",
              "  }\n",
              "  if (root.Bokeh !== undefined) {\n",
              "    embed_document(root);\n",
              "  } else {\n",
              "    let attempts = 0;\n",
              "    const timer = setInterval(function(root) {\n",
              "      if (root.Bokeh !== undefined) {\n",
              "        clearInterval(timer);\n",
              "        embed_document(root);\n",
              "      } else {\n",
              "        attempts++;\n",
              "        if (attempts > 100) {\n",
              "          clearInterval(timer);\n",
              "          console.log(\"Bokeh: ERROR: Unable to run BokehJS code because BokehJS library is missing\");\n",
              "        }\n",
              "      }\n",
              "    }, 10, root)\n",
              "  }\n",
              "})(window);"
            ],
            "application/vnd.bokehjs_exec.v0+json": ""
          },
          "metadata": {
            "application/vnd.bokehjs_exec.v0+json": {
              "id": "p1117"
            }
          }
        }
      ]
    },
    {
      "cell_type": "code",
      "source": [
        "print(embeddings.shape, labels.shape, original_images.shape)"
      ],
      "metadata": {
        "colab": {
          "base_uri": "https://localhost:8080/"
        },
        "id": "p_7KAvtqgKdG",
        "outputId": "2c7a5d51-ebda-4337-c8eb-9b401ce9e070"
      },
      "execution_count": null,
      "outputs": [
        {
          "output_type": "stream",
          "name": "stdout",
          "text": [
            "(50000, 64) (50000,) (50000, 3072)\n"
          ]
        }
      ]
    },
    {
      "cell_type": "code",
      "source": [
        "import pandas as pd\n",
        "\n",
        "df = pd.DataFrame(np.hstack([embeddings, original_images]), columns = [f\"emb_{i}\" for i in range(64)]+[f\"or_{i}\" for i in range(32*32*3)])\n",
        "df['label'] = labels\n",
        "df.to_csv('/content/drive/MyDrive/Data/CNN_embedding.csv')\n",
        "\n",
        "tsne_results.to_csv('/content/drive/MyDrive/Data/tsne_CNN_embedding.csv')"
      ],
      "metadata": {
        "id": "QuGx5kRgAPVo"
      },
      "execution_count": null,
      "outputs": []
    },
    {
      "cell_type": "code",
      "source": [],
      "metadata": {
        "id": "PgRsEs06fEes"
      },
      "execution_count": null,
      "outputs": []
    }
  ]
}